{
 "cells": [
  {
   "cell_type": "markdown",
   "id": "82c7a75c-045b-472a-b1b6-39bbdffb913a",
   "metadata": {},
   "source": [
    "## Animation 2"
   ]
  },
  {
   "cell_type": "markdown",
   "id": "e7e30278-46a5-4545-9659-46ac90e307a1",
   "metadata": {},
   "source": [
    "The goal of this jupyter notebook is to create a function that takes in gameId, playId, and week as inputs and returns an animation of the selected play"
   ]
  },
  {
   "cell_type": "code",
   "execution_count": 1,
   "id": "6b67c619-eb73-47de-8e1f-4dc213c814d4",
   "metadata": {},
   "outputs": [],
   "source": [
    "import numpy as np\n",
    "import pandas as pd\n",
    "import matplotlib.pyplot as plt\n",
    "from matplotlib.animation import FuncAnimation\n",
    "from IPython.display import HTML\n"
   ]
  },
  {
   "cell_type": "code",
   "execution_count": 2,
   "id": "6fc4a9d3-200f-4d1b-b6e2-8c6b8a58de6a",
   "metadata": {},
   "outputs": [],
   "source": [
    "#Lets first get all of our data into pandas dataframes\n",
    "\n",
    "\n",
    "games = pd.read_csv('data/games.csv')\n",
    "players = pd.read_csv('data/players.csv')\n",
    "plays = pd.read_csv('data/plays.csv')\n",
    "tackles = pd.read_csv('data/tackles.csv')\n",
    "week1 = pd.read_csv('data/tracking_week_1.csv')\n",
    "week2 = pd.read_csv('data/tracking_week_2.csv')\n",
    "week3 = pd.read_csv('data/tracking_week_3.csv')\n",
    "week4 = pd.read_csv('data/tracking_week_4.csv')\n",
    "week5 = pd.read_csv('data/tracking_week_5.csv')\n",
    "week6 = pd.read_csv('data/tracking_week_6.csv')\n",
    "week7 = pd.read_csv('data/tracking_week_7.csv')\n",
    "week8 = pd.read_csv('data/tracking_week_8.csv')\n",
    "week9 = pd.read_csv('data/tracking_week_9.csv')\n"
   ]
  },
  {
   "cell_type": "code",
   "execution_count": 3,
   "id": "e65f1ef8-1ae2-4bb3-b998-fa4ebd5b6230",
   "metadata": {},
   "outputs": [
    {
     "data": {
      "text/html": [
       "<div>\n",
       "<style scoped>\n",
       "    .dataframe tbody tr th:only-of-type {\n",
       "        vertical-align: middle;\n",
       "    }\n",
       "\n",
       "    .dataframe tbody tr th {\n",
       "        vertical-align: top;\n",
       "    }\n",
       "\n",
       "    .dataframe thead th {\n",
       "        text-align: right;\n",
       "    }\n",
       "</style>\n",
       "<table border=\"1\" class=\"dataframe\">\n",
       "  <thead>\n",
       "    <tr style=\"text-align: right;\">\n",
       "      <th></th>\n",
       "      <th>gameId</th>\n",
       "      <th>playId</th>\n",
       "      <th>nflId</th>\n",
       "      <th>displayName</th>\n",
       "      <th>frameId</th>\n",
       "      <th>time</th>\n",
       "      <th>jerseyNumber</th>\n",
       "      <th>club</th>\n",
       "      <th>playDirection</th>\n",
       "      <th>x</th>\n",
       "      <th>y</th>\n",
       "      <th>s</th>\n",
       "      <th>a</th>\n",
       "      <th>dis</th>\n",
       "      <th>o</th>\n",
       "      <th>dir</th>\n",
       "      <th>event</th>\n",
       "    </tr>\n",
       "  </thead>\n",
       "  <tbody>\n",
       "    <tr>\n",
       "      <th>0</th>\n",
       "      <td>2022090800</td>\n",
       "      <td>56</td>\n",
       "      <td>35472.0</td>\n",
       "      <td>Rodger Saffold</td>\n",
       "      <td>1</td>\n",
       "      <td>2022-09-08 20:24:05.200000</td>\n",
       "      <td>76.0</td>\n",
       "      <td>BUF</td>\n",
       "      <td>left</td>\n",
       "      <td>88.370000</td>\n",
       "      <td>27.27</td>\n",
       "      <td>1.62</td>\n",
       "      <td>1.15</td>\n",
       "      <td>0.16</td>\n",
       "      <td>231.74</td>\n",
       "      <td>147.90</td>\n",
       "      <td>NaN</td>\n",
       "    </tr>\n",
       "    <tr>\n",
       "      <th>1</th>\n",
       "      <td>2022090800</td>\n",
       "      <td>56</td>\n",
       "      <td>35472.0</td>\n",
       "      <td>Rodger Saffold</td>\n",
       "      <td>2</td>\n",
       "      <td>2022-09-08 20:24:05.299999</td>\n",
       "      <td>76.0</td>\n",
       "      <td>BUF</td>\n",
       "      <td>left</td>\n",
       "      <td>88.470000</td>\n",
       "      <td>27.13</td>\n",
       "      <td>1.67</td>\n",
       "      <td>0.61</td>\n",
       "      <td>0.17</td>\n",
       "      <td>230.98</td>\n",
       "      <td>148.53</td>\n",
       "      <td>pass_arrived</td>\n",
       "    </tr>\n",
       "    <tr>\n",
       "      <th>2</th>\n",
       "      <td>2022090800</td>\n",
       "      <td>56</td>\n",
       "      <td>35472.0</td>\n",
       "      <td>Rodger Saffold</td>\n",
       "      <td>3</td>\n",
       "      <td>2022-09-08 20:24:05.400000</td>\n",
       "      <td>76.0</td>\n",
       "      <td>BUF</td>\n",
       "      <td>left</td>\n",
       "      <td>88.560000</td>\n",
       "      <td>27.01</td>\n",
       "      <td>1.57</td>\n",
       "      <td>0.49</td>\n",
       "      <td>0.15</td>\n",
       "      <td>230.98</td>\n",
       "      <td>147.05</td>\n",
       "      <td>NaN</td>\n",
       "    </tr>\n",
       "    <tr>\n",
       "      <th>3</th>\n",
       "      <td>2022090800</td>\n",
       "      <td>56</td>\n",
       "      <td>35472.0</td>\n",
       "      <td>Rodger Saffold</td>\n",
       "      <td>4</td>\n",
       "      <td>2022-09-08 20:24:05.500000</td>\n",
       "      <td>76.0</td>\n",
       "      <td>BUF</td>\n",
       "      <td>left</td>\n",
       "      <td>88.640000</td>\n",
       "      <td>26.90</td>\n",
       "      <td>1.44</td>\n",
       "      <td>0.89</td>\n",
       "      <td>0.14</td>\n",
       "      <td>232.38</td>\n",
       "      <td>145.42</td>\n",
       "      <td>NaN</td>\n",
       "    </tr>\n",
       "    <tr>\n",
       "      <th>4</th>\n",
       "      <td>2022090800</td>\n",
       "      <td>56</td>\n",
       "      <td>35472.0</td>\n",
       "      <td>Rodger Saffold</td>\n",
       "      <td>5</td>\n",
       "      <td>2022-09-08 20:24:05.599999</td>\n",
       "      <td>76.0</td>\n",
       "      <td>BUF</td>\n",
       "      <td>left</td>\n",
       "      <td>88.720000</td>\n",
       "      <td>26.80</td>\n",
       "      <td>1.29</td>\n",
       "      <td>1.24</td>\n",
       "      <td>0.13</td>\n",
       "      <td>233.36</td>\n",
       "      <td>141.95</td>\n",
       "      <td>NaN</td>\n",
       "    </tr>\n",
       "    <tr>\n",
       "      <th>...</th>\n",
       "      <td>...</td>\n",
       "      <td>...</td>\n",
       "      <td>...</td>\n",
       "      <td>...</td>\n",
       "      <td>...</td>\n",
       "      <td>...</td>\n",
       "      <td>...</td>\n",
       "      <td>...</td>\n",
       "      <td>...</td>\n",
       "      <td>...</td>\n",
       "      <td>...</td>\n",
       "      <td>...</td>\n",
       "      <td>...</td>\n",
       "      <td>...</td>\n",
       "      <td>...</td>\n",
       "      <td>...</td>\n",
       "      <td>...</td>\n",
       "    </tr>\n",
       "    <tr>\n",
       "      <th>1407434</th>\n",
       "      <td>2022091200</td>\n",
       "      <td>3826</td>\n",
       "      <td>NaN</td>\n",
       "      <td>football</td>\n",
       "      <td>49</td>\n",
       "      <td>2022-09-12 23:05:57.799999</td>\n",
       "      <td>NaN</td>\n",
       "      <td>football</td>\n",
       "      <td>left</td>\n",
       "      <td>56.220001</td>\n",
       "      <td>9.89</td>\n",
       "      <td>2.56</td>\n",
       "      <td>1.25</td>\n",
       "      <td>0.25</td>\n",
       "      <td>NaN</td>\n",
       "      <td>NaN</td>\n",
       "      <td>tackle</td>\n",
       "    </tr>\n",
       "    <tr>\n",
       "      <th>1407435</th>\n",
       "      <td>2022091200</td>\n",
       "      <td>3826</td>\n",
       "      <td>NaN</td>\n",
       "      <td>football</td>\n",
       "      <td>50</td>\n",
       "      <td>2022-09-12 23:05:57.900000</td>\n",
       "      <td>NaN</td>\n",
       "      <td>football</td>\n",
       "      <td>left</td>\n",
       "      <td>56.060001</td>\n",
       "      <td>10.08</td>\n",
       "      <td>2.50</td>\n",
       "      <td>1.14</td>\n",
       "      <td>0.24</td>\n",
       "      <td>NaN</td>\n",
       "      <td>NaN</td>\n",
       "      <td>NaN</td>\n",
       "    </tr>\n",
       "    <tr>\n",
       "      <th>1407436</th>\n",
       "      <td>2022091200</td>\n",
       "      <td>3826</td>\n",
       "      <td>NaN</td>\n",
       "      <td>football</td>\n",
       "      <td>51</td>\n",
       "      <td>2022-09-12 23:05:58.000000</td>\n",
       "      <td>NaN</td>\n",
       "      <td>football</td>\n",
       "      <td>left</td>\n",
       "      <td>55.889999</td>\n",
       "      <td>10.27</td>\n",
       "      <td>2.38</td>\n",
       "      <td>1.70</td>\n",
       "      <td>0.25</td>\n",
       "      <td>NaN</td>\n",
       "      <td>NaN</td>\n",
       "      <td>NaN</td>\n",
       "    </tr>\n",
       "    <tr>\n",
       "      <th>1407437</th>\n",
       "      <td>2022091200</td>\n",
       "      <td>3826</td>\n",
       "      <td>NaN</td>\n",
       "      <td>football</td>\n",
       "      <td>52</td>\n",
       "      <td>2022-09-12 23:05:58.099999</td>\n",
       "      <td>NaN</td>\n",
       "      <td>football</td>\n",
       "      <td>left</td>\n",
       "      <td>55.730000</td>\n",
       "      <td>10.44</td>\n",
       "      <td>2.07</td>\n",
       "      <td>2.83</td>\n",
       "      <td>0.24</td>\n",
       "      <td>NaN</td>\n",
       "      <td>NaN</td>\n",
       "      <td>NaN</td>\n",
       "    </tr>\n",
       "    <tr>\n",
       "      <th>1407438</th>\n",
       "      <td>2022091200</td>\n",
       "      <td>3826</td>\n",
       "      <td>NaN</td>\n",
       "      <td>football</td>\n",
       "      <td>53</td>\n",
       "      <td>2022-09-12 23:05:58.200000</td>\n",
       "      <td>NaN</td>\n",
       "      <td>football</td>\n",
       "      <td>left</td>\n",
       "      <td>55.570000</td>\n",
       "      <td>10.57</td>\n",
       "      <td>1.86</td>\n",
       "      <td>3.00</td>\n",
       "      <td>0.20</td>\n",
       "      <td>NaN</td>\n",
       "      <td>NaN</td>\n",
       "      <td>NaN</td>\n",
       "    </tr>\n",
       "  </tbody>\n",
       "</table>\n",
       "<p>1407439 rows × 17 columns</p>\n",
       "</div>"
      ],
      "text/plain": [
       "             gameId  playId    nflId     displayName  frameId  \\\n",
       "0        2022090800      56  35472.0  Rodger Saffold        1   \n",
       "1        2022090800      56  35472.0  Rodger Saffold        2   \n",
       "2        2022090800      56  35472.0  Rodger Saffold        3   \n",
       "3        2022090800      56  35472.0  Rodger Saffold        4   \n",
       "4        2022090800      56  35472.0  Rodger Saffold        5   \n",
       "...             ...     ...      ...             ...      ...   \n",
       "1407434  2022091200    3826      NaN        football       49   \n",
       "1407435  2022091200    3826      NaN        football       50   \n",
       "1407436  2022091200    3826      NaN        football       51   \n",
       "1407437  2022091200    3826      NaN        football       52   \n",
       "1407438  2022091200    3826      NaN        football       53   \n",
       "\n",
       "                               time  jerseyNumber      club playDirection  \\\n",
       "0        2022-09-08 20:24:05.200000          76.0       BUF          left   \n",
       "1        2022-09-08 20:24:05.299999          76.0       BUF          left   \n",
       "2        2022-09-08 20:24:05.400000          76.0       BUF          left   \n",
       "3        2022-09-08 20:24:05.500000          76.0       BUF          left   \n",
       "4        2022-09-08 20:24:05.599999          76.0       BUF          left   \n",
       "...                             ...           ...       ...           ...   \n",
       "1407434  2022-09-12 23:05:57.799999           NaN  football          left   \n",
       "1407435  2022-09-12 23:05:57.900000           NaN  football          left   \n",
       "1407436  2022-09-12 23:05:58.000000           NaN  football          left   \n",
       "1407437  2022-09-12 23:05:58.099999           NaN  football          left   \n",
       "1407438  2022-09-12 23:05:58.200000           NaN  football          left   \n",
       "\n",
       "                 x      y     s     a   dis       o     dir         event  \n",
       "0        88.370000  27.27  1.62  1.15  0.16  231.74  147.90           NaN  \n",
       "1        88.470000  27.13  1.67  0.61  0.17  230.98  148.53  pass_arrived  \n",
       "2        88.560000  27.01  1.57  0.49  0.15  230.98  147.05           NaN  \n",
       "3        88.640000  26.90  1.44  0.89  0.14  232.38  145.42           NaN  \n",
       "4        88.720000  26.80  1.29  1.24  0.13  233.36  141.95           NaN  \n",
       "...            ...    ...   ...   ...   ...     ...     ...           ...  \n",
       "1407434  56.220001   9.89  2.56  1.25  0.25     NaN     NaN        tackle  \n",
       "1407435  56.060001  10.08  2.50  1.14  0.24     NaN     NaN           NaN  \n",
       "1407436  55.889999  10.27  2.38  1.70  0.25     NaN     NaN           NaN  \n",
       "1407437  55.730000  10.44  2.07  2.83  0.24     NaN     NaN           NaN  \n",
       "1407438  55.570000  10.57  1.86  3.00  0.20     NaN     NaN           NaN  \n",
       "\n",
       "[1407439 rows x 17 columns]"
      ]
     },
     "execution_count": 3,
     "metadata": {},
     "output_type": "execute_result"
    }
   ],
   "source": [
    "pd.set_option('display.max_columns', None)\n",
    "week1\n",
    "\n",
    "\n"
   ]
  },
  {
   "cell_type": "code",
   "execution_count": 4,
   "id": "16a3e18a-decf-4306-8e46-e95ad0e5df41",
   "metadata": {},
   "outputs": [],
   "source": [
    "playId = 299\n",
    "gameId = 2022090800\n",
    "colors = {\n",
    "    'ARI':\"#97233F\", \n",
    "    'ATL':\"#A71930\", \n",
    "    'BAL':'#241773', \n",
    "    'BUF':\"#00338D\", \n",
    "    'CAR':\"#0085CA\", \n",
    "    'CHI':\"#C83803\", \n",
    "    'CIN':\"#FB4F14\", \n",
    "    'CLE':\"#311D00\", \n",
    "    'DAL':'#003594',\n",
    "    'DEN':\"#FB4F14\", \n",
    "    'DET':\"#0076B6\", \n",
    "    'GB':\"#203731\", \n",
    "    'HOU':\"#03202F\", \n",
    "    'IND':\"#002C5F\", \n",
    "    'JAX':\"#9F792C\", \n",
    "    'KC':\"#E31837\", \n",
    "    'LA':\"#003594\", \n",
    "    'LAC':\"#0080C6\", \n",
    "    'LV':\"#000000\",\n",
    "    'MIA':\"#008E97\", \n",
    "    'MIN':\"#4F2683\", \n",
    "    'NE':\"#002244\", \n",
    "    'NO':\"#D3BC8D\", \n",
    "    'NYG':\"#0B2265\", \n",
    "    'NYJ':\"#125740\", \n",
    "    'PHI':\"#004C54\", \n",
    "    'PIT':\"#FFB612\", \n",
    "    'SEA':\"#69BE28\", \n",
    "    'SF':\"#AA0000\",\n",
    "    'TB':'#D50A0A', \n",
    "    'TEN':\"#4B92DB\", \n",
    "    'WAS':\"#5A1414\", \n",
    "    'football':'#CBB67C'\n",
    "}"
   ]
  },
  {
   "cell_type": "code",
   "execution_count": 5,
   "id": "17ed1697-2e99-40e1-8f47-eda827f09c84",
   "metadata": {},
   "outputs": [
    {
     "data": {
      "text/html": [
       "<div>\n",
       "<style scoped>\n",
       "    .dataframe tbody tr th:only-of-type {\n",
       "        vertical-align: middle;\n",
       "    }\n",
       "\n",
       "    .dataframe tbody tr th {\n",
       "        vertical-align: top;\n",
       "    }\n",
       "\n",
       "    .dataframe thead th {\n",
       "        text-align: right;\n",
       "    }\n",
       "</style>\n",
       "<table border=\"1\" class=\"dataframe\">\n",
       "  <thead>\n",
       "    <tr style=\"text-align: right;\">\n",
       "      <th></th>\n",
       "      <th>gameId</th>\n",
       "      <th>playId</th>\n",
       "      <th>ballCarrierId</th>\n",
       "      <th>ballCarrierDisplayName</th>\n",
       "      <th>playDescription</th>\n",
       "      <th>quarter</th>\n",
       "      <th>down</th>\n",
       "      <th>yardsToGo</th>\n",
       "      <th>possessionTeam</th>\n",
       "      <th>defensiveTeam</th>\n",
       "      <th>yardlineSide</th>\n",
       "      <th>yardlineNumber</th>\n",
       "      <th>gameClock</th>\n",
       "      <th>preSnapHomeScore</th>\n",
       "      <th>preSnapVisitorScore</th>\n",
       "      <th>passResult</th>\n",
       "      <th>passLength</th>\n",
       "      <th>penaltyYards</th>\n",
       "      <th>prePenaltyPlayResult</th>\n",
       "      <th>playResult</th>\n",
       "      <th>playNullifiedByPenalty</th>\n",
       "      <th>absoluteYardlineNumber</th>\n",
       "      <th>offenseFormation</th>\n",
       "      <th>defendersInTheBox</th>\n",
       "      <th>passProbability</th>\n",
       "      <th>preSnapHomeTeamWinProbability</th>\n",
       "      <th>preSnapVisitorTeamWinProbability</th>\n",
       "      <th>homeTeamWinProbabilityAdded</th>\n",
       "      <th>visitorTeamWinProbilityAdded</th>\n",
       "      <th>expectedPoints</th>\n",
       "      <th>expectedPointsAdded</th>\n",
       "      <th>foulName1</th>\n",
       "      <th>foulName2</th>\n",
       "      <th>foulNFLId1</th>\n",
       "      <th>foulNFLId2</th>\n",
       "    </tr>\n",
       "  </thead>\n",
       "  <tbody>\n",
       "    <tr>\n",
       "      <th>0</th>\n",
       "      <td>2022100908</td>\n",
       "      <td>3537</td>\n",
       "      <td>48723</td>\n",
       "      <td>Parker Hesse</td>\n",
       "      <td>(7:52) (Shotgun) M.Mariota pass short middle t...</td>\n",
       "      <td>4</td>\n",
       "      <td>1</td>\n",
       "      <td>10</td>\n",
       "      <td>ATL</td>\n",
       "      <td>TB</td>\n",
       "      <td>ATL</td>\n",
       "      <td>41</td>\n",
       "      <td>7:52</td>\n",
       "      <td>21</td>\n",
       "      <td>7</td>\n",
       "      <td>C</td>\n",
       "      <td>6.0</td>\n",
       "      <td>NaN</td>\n",
       "      <td>9</td>\n",
       "      <td>9</td>\n",
       "      <td>N</td>\n",
       "      <td>69</td>\n",
       "      <td>SHOTGUN</td>\n",
       "      <td>7.0</td>\n",
       "      <td>0.747284</td>\n",
       "      <td>0.976785</td>\n",
       "      <td>0.023215</td>\n",
       "      <td>-0.006110</td>\n",
       "      <td>0.006110</td>\n",
       "      <td>2.360609</td>\n",
       "      <td>0.981955</td>\n",
       "      <td>NaN</td>\n",
       "      <td>NaN</td>\n",
       "      <td>NaN</td>\n",
       "      <td>NaN</td>\n",
       "    </tr>\n",
       "    <tr>\n",
       "      <th>1</th>\n",
       "      <td>2022091103</td>\n",
       "      <td>3126</td>\n",
       "      <td>52457</td>\n",
       "      <td>Chase Claypool</td>\n",
       "      <td>(7:38) (Shotgun) C.Claypool right end to PIT 3...</td>\n",
       "      <td>4</td>\n",
       "      <td>1</td>\n",
       "      <td>10</td>\n",
       "      <td>PIT</td>\n",
       "      <td>CIN</td>\n",
       "      <td>PIT</td>\n",
       "      <td>34</td>\n",
       "      <td>7:38</td>\n",
       "      <td>14</td>\n",
       "      <td>20</td>\n",
       "      <td>NaN</td>\n",
       "      <td>NaN</td>\n",
       "      <td>NaN</td>\n",
       "      <td>3</td>\n",
       "      <td>3</td>\n",
       "      <td>N</td>\n",
       "      <td>76</td>\n",
       "      <td>SHOTGUN</td>\n",
       "      <td>7.0</td>\n",
       "      <td>0.416454</td>\n",
       "      <td>0.160485</td>\n",
       "      <td>0.839515</td>\n",
       "      <td>-0.010865</td>\n",
       "      <td>0.010865</td>\n",
       "      <td>1.733344</td>\n",
       "      <td>-0.263424</td>\n",
       "      <td>NaN</td>\n",
       "      <td>NaN</td>\n",
       "      <td>NaN</td>\n",
       "      <td>NaN</td>\n",
       "    </tr>\n",
       "    <tr>\n",
       "      <th>2</th>\n",
       "      <td>2022091111</td>\n",
       "      <td>1148</td>\n",
       "      <td>42547</td>\n",
       "      <td>Darren Waller</td>\n",
       "      <td>(8:57) D.Carr pass short middle to D.Waller to...</td>\n",
       "      <td>2</td>\n",
       "      <td>2</td>\n",
       "      <td>5</td>\n",
       "      <td>LV</td>\n",
       "      <td>LAC</td>\n",
       "      <td>LV</td>\n",
       "      <td>30</td>\n",
       "      <td>8:57</td>\n",
       "      <td>10</td>\n",
       "      <td>3</td>\n",
       "      <td>C</td>\n",
       "      <td>11.0</td>\n",
       "      <td>NaN</td>\n",
       "      <td>15</td>\n",
       "      <td>15</td>\n",
       "      <td>N</td>\n",
       "      <td>40</td>\n",
       "      <td>I_FORM</td>\n",
       "      <td>6.0</td>\n",
       "      <td>0.267933</td>\n",
       "      <td>0.756661</td>\n",
       "      <td>0.243339</td>\n",
       "      <td>-0.037409</td>\n",
       "      <td>0.037409</td>\n",
       "      <td>1.312855</td>\n",
       "      <td>1.133666</td>\n",
       "      <td>NaN</td>\n",
       "      <td>NaN</td>\n",
       "      <td>NaN</td>\n",
       "      <td>NaN</td>\n",
       "    </tr>\n",
       "    <tr>\n",
       "      <th>3</th>\n",
       "      <td>2022100212</td>\n",
       "      <td>2007</td>\n",
       "      <td>46461</td>\n",
       "      <td>Mike Boone</td>\n",
       "      <td>(13:12) M.Boone left tackle to DEN 44 for 7 ya...</td>\n",
       "      <td>3</td>\n",
       "      <td>2</td>\n",
       "      <td>10</td>\n",
       "      <td>DEN</td>\n",
       "      <td>LV</td>\n",
       "      <td>DEN</td>\n",
       "      <td>37</td>\n",
       "      <td>13:12</td>\n",
       "      <td>19</td>\n",
       "      <td>16</td>\n",
       "      <td>NaN</td>\n",
       "      <td>NaN</td>\n",
       "      <td>NaN</td>\n",
       "      <td>7</td>\n",
       "      <td>7</td>\n",
       "      <td>N</td>\n",
       "      <td>47</td>\n",
       "      <td>SINGLEBACK</td>\n",
       "      <td>6.0</td>\n",
       "      <td>0.592704</td>\n",
       "      <td>0.620552</td>\n",
       "      <td>0.379448</td>\n",
       "      <td>-0.002451</td>\n",
       "      <td>0.002451</td>\n",
       "      <td>1.641006</td>\n",
       "      <td>-0.043580</td>\n",
       "      <td>NaN</td>\n",
       "      <td>NaN</td>\n",
       "      <td>NaN</td>\n",
       "      <td>NaN</td>\n",
       "    </tr>\n",
       "    <tr>\n",
       "      <th>4</th>\n",
       "      <td>2022091900</td>\n",
       "      <td>1372</td>\n",
       "      <td>47857</td>\n",
       "      <td>Devin Singletary</td>\n",
       "      <td>(8:33) D.Singletary right guard to TEN 32 for ...</td>\n",
       "      <td>2</td>\n",
       "      <td>1</td>\n",
       "      <td>10</td>\n",
       "      <td>BUF</td>\n",
       "      <td>TEN</td>\n",
       "      <td>TEN</td>\n",
       "      <td>35</td>\n",
       "      <td>8:33</td>\n",
       "      <td>7</td>\n",
       "      <td>7</td>\n",
       "      <td>NaN</td>\n",
       "      <td>NaN</td>\n",
       "      <td>NaN</td>\n",
       "      <td>3</td>\n",
       "      <td>3</td>\n",
       "      <td>N</td>\n",
       "      <td>75</td>\n",
       "      <td>I_FORM</td>\n",
       "      <td>7.0</td>\n",
       "      <td>0.470508</td>\n",
       "      <td>0.836290</td>\n",
       "      <td>0.163710</td>\n",
       "      <td>0.001053</td>\n",
       "      <td>-0.001053</td>\n",
       "      <td>3.686428</td>\n",
       "      <td>-0.167903</td>\n",
       "      <td>NaN</td>\n",
       "      <td>NaN</td>\n",
       "      <td>NaN</td>\n",
       "      <td>NaN</td>\n",
       "    </tr>\n",
       "    <tr>\n",
       "      <th>...</th>\n",
       "      <td>...</td>\n",
       "      <td>...</td>\n",
       "      <td>...</td>\n",
       "      <td>...</td>\n",
       "      <td>...</td>\n",
       "      <td>...</td>\n",
       "      <td>...</td>\n",
       "      <td>...</td>\n",
       "      <td>...</td>\n",
       "      <td>...</td>\n",
       "      <td>...</td>\n",
       "      <td>...</td>\n",
       "      <td>...</td>\n",
       "      <td>...</td>\n",
       "      <td>...</td>\n",
       "      <td>...</td>\n",
       "      <td>...</td>\n",
       "      <td>...</td>\n",
       "      <td>...</td>\n",
       "      <td>...</td>\n",
       "      <td>...</td>\n",
       "      <td>...</td>\n",
       "      <td>...</td>\n",
       "      <td>...</td>\n",
       "      <td>...</td>\n",
       "      <td>...</td>\n",
       "      <td>...</td>\n",
       "      <td>...</td>\n",
       "      <td>...</td>\n",
       "      <td>...</td>\n",
       "      <td>...</td>\n",
       "      <td>...</td>\n",
       "      <td>...</td>\n",
       "      <td>...</td>\n",
       "      <td>...</td>\n",
       "    </tr>\n",
       "    <tr>\n",
       "      <th>12481</th>\n",
       "      <td>2022100204</td>\n",
       "      <td>123</td>\n",
       "      <td>43293</td>\n",
       "      <td>Ezekiel Elliott</td>\n",
       "      <td>(13:31) E.Elliott right tackle to WAS 38 for 1...</td>\n",
       "      <td>1</td>\n",
       "      <td>1</td>\n",
       "      <td>10</td>\n",
       "      <td>DAL</td>\n",
       "      <td>WAS</td>\n",
       "      <td>WAS</td>\n",
       "      <td>39</td>\n",
       "      <td>13:31</td>\n",
       "      <td>0</td>\n",
       "      <td>0</td>\n",
       "      <td>NaN</td>\n",
       "      <td>NaN</td>\n",
       "      <td>NaN</td>\n",
       "      <td>1</td>\n",
       "      <td>1</td>\n",
       "      <td>N</td>\n",
       "      <td>49</td>\n",
       "      <td>SINGLEBACK</td>\n",
       "      <td>6.0</td>\n",
       "      <td>0.577800</td>\n",
       "      <td>0.638600</td>\n",
       "      <td>0.361400</td>\n",
       "      <td>-0.011542</td>\n",
       "      <td>0.011542</td>\n",
       "      <td>3.642571</td>\n",
       "      <td>-0.504018</td>\n",
       "      <td>NaN</td>\n",
       "      <td>NaN</td>\n",
       "      <td>NaN</td>\n",
       "      <td>NaN</td>\n",
       "    </tr>\n",
       "    <tr>\n",
       "      <th>12482</th>\n",
       "      <td>2022091200</td>\n",
       "      <td>3467</td>\n",
       "      <td>46189</td>\n",
       "      <td>Will Dissly</td>\n",
       "      <td>(6:08) G.Smith pass short right to W.Dissly to...</td>\n",
       "      <td>4</td>\n",
       "      <td>1</td>\n",
       "      <td>10</td>\n",
       "      <td>SEA</td>\n",
       "      <td>DEN</td>\n",
       "      <td>SEA</td>\n",
       "      <td>30</td>\n",
       "      <td>6:08</td>\n",
       "      <td>17</td>\n",
       "      <td>16</td>\n",
       "      <td>C</td>\n",
       "      <td>0.0</td>\n",
       "      <td>NaN</td>\n",
       "      <td>2</td>\n",
       "      <td>2</td>\n",
       "      <td>N</td>\n",
       "      <td>40</td>\n",
       "      <td>SINGLEBACK</td>\n",
       "      <td>7.0</td>\n",
       "      <td>0.298983</td>\n",
       "      <td>0.615241</td>\n",
       "      <td>0.384759</td>\n",
       "      <td>-0.025458</td>\n",
       "      <td>0.025458</td>\n",
       "      <td>1.434580</td>\n",
       "      <td>-0.444642</td>\n",
       "      <td>NaN</td>\n",
       "      <td>NaN</td>\n",
       "      <td>NaN</td>\n",
       "      <td>NaN</td>\n",
       "    </tr>\n",
       "    <tr>\n",
       "      <th>12483</th>\n",
       "      <td>2022101605</td>\n",
       "      <td>3371</td>\n",
       "      <td>44860</td>\n",
       "      <td>Joe Mixon</td>\n",
       "      <td>(9:35) (Shotgun) J.Mixon left end to CIN 47 fo...</td>\n",
       "      <td>4</td>\n",
       "      <td>1</td>\n",
       "      <td>10</td>\n",
       "      <td>CIN</td>\n",
       "      <td>NO</td>\n",
       "      <td>CIN</td>\n",
       "      <td>41</td>\n",
       "      <td>9:35</td>\n",
       "      <td>26</td>\n",
       "      <td>21</td>\n",
       "      <td>NaN</td>\n",
       "      <td>NaN</td>\n",
       "      <td>NaN</td>\n",
       "      <td>6</td>\n",
       "      <td>6</td>\n",
       "      <td>N</td>\n",
       "      <td>69</td>\n",
       "      <td>SHOTGUN</td>\n",
       "      <td>6.0</td>\n",
       "      <td>0.639439</td>\n",
       "      <td>0.667054</td>\n",
       "      <td>0.332946</td>\n",
       "      <td>-0.005164</td>\n",
       "      <td>0.005164</td>\n",
       "      <td>2.115356</td>\n",
       "      <td>0.203819</td>\n",
       "      <td>NaN</td>\n",
       "      <td>NaN</td>\n",
       "      <td>NaN</td>\n",
       "      <td>NaN</td>\n",
       "    </tr>\n",
       "    <tr>\n",
       "      <th>12484</th>\n",
       "      <td>2022100207</td>\n",
       "      <td>2777</td>\n",
       "      <td>52449</td>\n",
       "      <td>Jonathan Taylor</td>\n",
       "      <td>(2:02) (Shotgun) J.Taylor up the middle to TEN...</td>\n",
       "      <td>3</td>\n",
       "      <td>1</td>\n",
       "      <td>10</td>\n",
       "      <td>IND</td>\n",
       "      <td>TEN</td>\n",
       "      <td>TEN</td>\n",
       "      <td>34</td>\n",
       "      <td>2:02</td>\n",
       "      <td>17</td>\n",
       "      <td>24</td>\n",
       "      <td>NaN</td>\n",
       "      <td>NaN</td>\n",
       "      <td>NaN</td>\n",
       "      <td>-2</td>\n",
       "      <td>-2</td>\n",
       "      <td>N</td>\n",
       "      <td>44</td>\n",
       "      <td>SHOTGUN</td>\n",
       "      <td>6.0</td>\n",
       "      <td>0.518695</td>\n",
       "      <td>0.410611</td>\n",
       "      <td>0.589389</td>\n",
       "      <td>-0.046648</td>\n",
       "      <td>0.046648</td>\n",
       "      <td>3.946232</td>\n",
       "      <td>-0.976039</td>\n",
       "      <td>NaN</td>\n",
       "      <td>NaN</td>\n",
       "      <td>NaN</td>\n",
       "      <td>NaN</td>\n",
       "    </tr>\n",
       "    <tr>\n",
       "      <th>12485</th>\n",
       "      <td>2022102308</td>\n",
       "      <td>905</td>\n",
       "      <td>54572</td>\n",
       "      <td>Dameon Pierce</td>\n",
       "      <td>(12:51) C.Heck reported in as eligible.  D.Pie...</td>\n",
       "      <td>2</td>\n",
       "      <td>3</td>\n",
       "      <td>1</td>\n",
       "      <td>HOU</td>\n",
       "      <td>LV</td>\n",
       "      <td>LV</td>\n",
       "      <td>17</td>\n",
       "      <td>12:51</td>\n",
       "      <td>3</td>\n",
       "      <td>0</td>\n",
       "      <td>NaN</td>\n",
       "      <td>NaN</td>\n",
       "      <td>NaN</td>\n",
       "      <td>3</td>\n",
       "      <td>3</td>\n",
       "      <td>N</td>\n",
       "      <td>27</td>\n",
       "      <td>I_FORM</td>\n",
       "      <td>8.0</td>\n",
       "      <td>0.101552</td>\n",
       "      <td>0.726639</td>\n",
       "      <td>0.273361</td>\n",
       "      <td>-0.015028</td>\n",
       "      <td>0.015028</td>\n",
       "      <td>4.685974</td>\n",
       "      <td>0.251580</td>\n",
       "      <td>NaN</td>\n",
       "      <td>NaN</td>\n",
       "      <td>NaN</td>\n",
       "      <td>NaN</td>\n",
       "    </tr>\n",
       "  </tbody>\n",
       "</table>\n",
       "<p>12486 rows × 35 columns</p>\n",
       "</div>"
      ],
      "text/plain": [
       "           gameId  playId  ballCarrierId ballCarrierDisplayName  \\\n",
       "0      2022100908    3537          48723           Parker Hesse   \n",
       "1      2022091103    3126          52457         Chase Claypool   \n",
       "2      2022091111    1148          42547          Darren Waller   \n",
       "3      2022100212    2007          46461             Mike Boone   \n",
       "4      2022091900    1372          47857       Devin Singletary   \n",
       "...           ...     ...            ...                    ...   \n",
       "12481  2022100204     123          43293        Ezekiel Elliott   \n",
       "12482  2022091200    3467          46189            Will Dissly   \n",
       "12483  2022101605    3371          44860              Joe Mixon   \n",
       "12484  2022100207    2777          52449        Jonathan Taylor   \n",
       "12485  2022102308     905          54572          Dameon Pierce   \n",
       "\n",
       "                                         playDescription  quarter  down  \\\n",
       "0      (7:52) (Shotgun) M.Mariota pass short middle t...        4     1   \n",
       "1      (7:38) (Shotgun) C.Claypool right end to PIT 3...        4     1   \n",
       "2      (8:57) D.Carr pass short middle to D.Waller to...        2     2   \n",
       "3      (13:12) M.Boone left tackle to DEN 44 for 7 ya...        3     2   \n",
       "4      (8:33) D.Singletary right guard to TEN 32 for ...        2     1   \n",
       "...                                                  ...      ...   ...   \n",
       "12481  (13:31) E.Elliott right tackle to WAS 38 for 1...        1     1   \n",
       "12482  (6:08) G.Smith pass short right to W.Dissly to...        4     1   \n",
       "12483  (9:35) (Shotgun) J.Mixon left end to CIN 47 fo...        4     1   \n",
       "12484  (2:02) (Shotgun) J.Taylor up the middle to TEN...        3     1   \n",
       "12485  (12:51) C.Heck reported in as eligible.  D.Pie...        2     3   \n",
       "\n",
       "       yardsToGo possessionTeam defensiveTeam yardlineSide  yardlineNumber  \\\n",
       "0             10            ATL            TB          ATL              41   \n",
       "1             10            PIT           CIN          PIT              34   \n",
       "2              5             LV           LAC           LV              30   \n",
       "3             10            DEN            LV          DEN              37   \n",
       "4             10            BUF           TEN          TEN              35   \n",
       "...          ...            ...           ...          ...             ...   \n",
       "12481         10            DAL           WAS          WAS              39   \n",
       "12482         10            SEA           DEN          SEA              30   \n",
       "12483         10            CIN            NO          CIN              41   \n",
       "12484         10            IND           TEN          TEN              34   \n",
       "12485          1            HOU            LV           LV              17   \n",
       "\n",
       "      gameClock  preSnapHomeScore  preSnapVisitorScore passResult  passLength  \\\n",
       "0          7:52                21                    7          C         6.0   \n",
       "1          7:38                14                   20        NaN         NaN   \n",
       "2          8:57                10                    3          C        11.0   \n",
       "3         13:12                19                   16        NaN         NaN   \n",
       "4          8:33                 7                    7        NaN         NaN   \n",
       "...         ...               ...                  ...        ...         ...   \n",
       "12481     13:31                 0                    0        NaN         NaN   \n",
       "12482      6:08                17                   16          C         0.0   \n",
       "12483      9:35                26                   21        NaN         NaN   \n",
       "12484      2:02                17                   24        NaN         NaN   \n",
       "12485     12:51                 3                    0        NaN         NaN   \n",
       "\n",
       "       penaltyYards  prePenaltyPlayResult  playResult playNullifiedByPenalty  \\\n",
       "0               NaN                     9           9                      N   \n",
       "1               NaN                     3           3                      N   \n",
       "2               NaN                    15          15                      N   \n",
       "3               NaN                     7           7                      N   \n",
       "4               NaN                     3           3                      N   \n",
       "...             ...                   ...         ...                    ...   \n",
       "12481           NaN                     1           1                      N   \n",
       "12482           NaN                     2           2                      N   \n",
       "12483           NaN                     6           6                      N   \n",
       "12484           NaN                    -2          -2                      N   \n",
       "12485           NaN                     3           3                      N   \n",
       "\n",
       "       absoluteYardlineNumber offenseFormation  defendersInTheBox  \\\n",
       "0                          69          SHOTGUN                7.0   \n",
       "1                          76          SHOTGUN                7.0   \n",
       "2                          40           I_FORM                6.0   \n",
       "3                          47       SINGLEBACK                6.0   \n",
       "4                          75           I_FORM                7.0   \n",
       "...                       ...              ...                ...   \n",
       "12481                      49       SINGLEBACK                6.0   \n",
       "12482                      40       SINGLEBACK                7.0   \n",
       "12483                      69          SHOTGUN                6.0   \n",
       "12484                      44          SHOTGUN                6.0   \n",
       "12485                      27           I_FORM                8.0   \n",
       "\n",
       "       passProbability  preSnapHomeTeamWinProbability  \\\n",
       "0             0.747284                       0.976785   \n",
       "1             0.416454                       0.160485   \n",
       "2             0.267933                       0.756661   \n",
       "3             0.592704                       0.620552   \n",
       "4             0.470508                       0.836290   \n",
       "...                ...                            ...   \n",
       "12481         0.577800                       0.638600   \n",
       "12482         0.298983                       0.615241   \n",
       "12483         0.639439                       0.667054   \n",
       "12484         0.518695                       0.410611   \n",
       "12485         0.101552                       0.726639   \n",
       "\n",
       "       preSnapVisitorTeamWinProbability  homeTeamWinProbabilityAdded  \\\n",
       "0                              0.023215                    -0.006110   \n",
       "1                              0.839515                    -0.010865   \n",
       "2                              0.243339                    -0.037409   \n",
       "3                              0.379448                    -0.002451   \n",
       "4                              0.163710                     0.001053   \n",
       "...                                 ...                          ...   \n",
       "12481                          0.361400                    -0.011542   \n",
       "12482                          0.384759                    -0.025458   \n",
       "12483                          0.332946                    -0.005164   \n",
       "12484                          0.589389                    -0.046648   \n",
       "12485                          0.273361                    -0.015028   \n",
       "\n",
       "       visitorTeamWinProbilityAdded  expectedPoints  expectedPointsAdded  \\\n",
       "0                          0.006110        2.360609             0.981955   \n",
       "1                          0.010865        1.733344            -0.263424   \n",
       "2                          0.037409        1.312855             1.133666   \n",
       "3                          0.002451        1.641006            -0.043580   \n",
       "4                         -0.001053        3.686428            -0.167903   \n",
       "...                             ...             ...                  ...   \n",
       "12481                      0.011542        3.642571            -0.504018   \n",
       "12482                      0.025458        1.434580            -0.444642   \n",
       "12483                      0.005164        2.115356             0.203819   \n",
       "12484                      0.046648        3.946232            -0.976039   \n",
       "12485                      0.015028        4.685974             0.251580   \n",
       "\n",
       "      foulName1 foulName2  foulNFLId1  foulNFLId2  \n",
       "0           NaN       NaN         NaN         NaN  \n",
       "1           NaN       NaN         NaN         NaN  \n",
       "2           NaN       NaN         NaN         NaN  \n",
       "3           NaN       NaN         NaN         NaN  \n",
       "4           NaN       NaN         NaN         NaN  \n",
       "...         ...       ...         ...         ...  \n",
       "12481       NaN       NaN         NaN         NaN  \n",
       "12482       NaN       NaN         NaN         NaN  \n",
       "12483       NaN       NaN         NaN         NaN  \n",
       "12484       NaN       NaN         NaN         NaN  \n",
       "12485       NaN       NaN         NaN         NaN  \n",
       "\n",
       "[12486 rows x 35 columns]"
      ]
     },
     "execution_count": 5,
     "metadata": {},
     "output_type": "execute_result"
    }
   ],
   "source": [
    "plays"
   ]
  },
  {
   "cell_type": "code",
   "execution_count": 9,
   "id": "413fdda8-e03e-47ec-99eb-adf98bec5ccf",
   "metadata": {},
   "outputs": [],
   "source": [
    "import plotly.graph_objects as go\n",
    "import plotly.express as px\n",
    "\n",
    "def plot_football_play(playId, gameId, week, plays, games, colors):\n",
    "    # Filter the DataFrame for the specified playId and gameId\n",
    "    selected_tracking = week[(week['playId'] == playId) & (week['gameId'] == gameId)]\n",
    "    selected_play = plays[(plays['playId'] == playId) & (plays['gameId'] == gameId)]\n",
    "    \n",
    "    down = selected_play['down'].values[0]\n",
    "    down_mapping = {\n",
    "    1: \"1st\",\n",
    "    2: \"2nd\",\n",
    "    3: \"3rd\",\n",
    "    4: \"4th\"\n",
    "    }\n",
    "    down_text = down_mapping.get(down, \"Unknown\")\n",
    "\n",
    "    quarter = selected_play['quarter'].values[0]\n",
    "    quarter_text = down_mapping.get(quarter, \"Unknown\")\n",
    "    game_clock = selected_play['gameClock'].values[0]\n",
    "    playDescription = selected_play['playDescription'].values[0]\n",
    "    playDirection = selected_tracking['playDirection'].values[0]\n",
    "    homeTeam = games.homeTeamAbbr.values[0]\n",
    "    visitorTeam = games.visitorTeamAbbr.values[0]\n",
    "    ballCarrierId = plays.ballCarrierId.values[0]\n",
    "\n",
    "    #make the away team white\n",
    "    modified_colors = colors.copy()\n",
    "    modified_colors[visitorTeam] = \"#FFFFFF\"\n",
    "    \n",
    "    #Set line of scrimmage and first down\n",
    "    #Offense on own half and going right\n",
    "    if (selected_play['possessionTeam'].values[0] == selected_play['yardlineSide'].values[0] and playDirection == 'right'):\n",
    "        line_of_scrimmage = selected_play['yardlineNumber'].values[0] + 10\n",
    "        first_down_line = line_of_scrimmage + selected_play['yardsToGo'].values[0]\n",
    "    #Offense on opponents half and going right\n",
    "    elif (selected_play['possessionTeam'].values[0] != selected_play['yardlineSide'].values[0] and playDirection == 'right'):\n",
    "        line_of_scrimmage = 110 - selected_play['yardlineNumber'].values[0]\n",
    "        first_down_line = line_of_scrimmage + selected_play['yardsToGo'].values[0]\n",
    "    #Offense on own half and going left\n",
    "    elif (selected_play['possessionTeam'].values[0] == selected_play['yardlineSide'].values[0] and playDirection == 'left'):\n",
    "        line_of_scrimmage = 110 - selected_play['yardlineNumber'].values[0]\n",
    "        first_down_line = line_of_scrimmage - selected_play['yardsToGo'].values[0]\n",
    "    #Offense on opponents half and going left\n",
    "    elif (selected_play['possessionTeam'].values[0] != selected_play['yardlineSide'].values[0] and playDirection == 'left'):\n",
    "        line_of_scrimmage = selected_play['yardlineNumber'].values[0] + 10\n",
    "        first_down_line = line_of_scrimmage - selected_play['yardsToGo'].values[0]\n",
    "\n",
    "    scorebug = f'{homeTeam} : {selected_play.preSnapHomeScore.values[0]} {visitorTeam} : {selected_play.preSnapVisitorScore.values[0]} || {quarter_text} {game_clock} || {down_text} and {selected_play.yardsToGo.values[0]}'\n",
    "\n",
    "    # Create an animated scatter plot with Plotly Express\n",
    "    scatter_fig = px.scatter(selected_tracking, x='x', y='y', animation_frame='frameId', color='club', color_discrete_map = modified_colors,\n",
    "                     hover_data=['jerseyNumber', 'displayName', 's', 'event'],\n",
    "                     title=playDescription)\n",
    "\n",
    "\n",
    "    # Add football field shapes and annotations\n",
    "    field_shapes = [\n",
    "        dict(type='rect', x0=0, x1=10,y0=0,y1=53.3, fillcolor='blue', opacity=0.5),\n",
    "        dict(type='rect', x0=110, x1=120,y0=0,y1=53.3, fillcolor='blue', opacity=0.5),\n",
    "        dict(type='line', x0=line_of_scrimmage, x1=line_of_scrimmage,y0=0,y1=53.3, line=dict(color='blue')),\n",
    "        dict(type='line', x0=first_down_line, x1=first_down_line,y0=0,y1=53.3, line=dict(color='yellow'))\n",
    "    ]\n",
    "    for x in range(10, 115, 5):\n",
    "        field_shapes.append(dict(type='line', x0=x, x1=x, y0=0, y1=53.3, line=dict(color='white', width=1)))\n",
    "\n",
    "\n",
    "    field_annotations = [\n",
    "        dict(x=5, y=26.65,textangle=270, text=homeTeam, showarrow=False, font=dict(color='white', size=12)),\n",
    "        dict(x=115, y=26.65,textangle=90, text=homeTeam, showarrow=False, font=dict(color='white', size=12)),\n",
    "    ]\n",
    "\n",
    "    for x in range(20, 70, 10):\n",
    "        field_annotations.append(dict(x=x, y=8, text=(x-10), showarrow=False, font=dict(color='white', size=12)))\n",
    "        field_annotations.append(dict(x=x, y=45.3, text=(x-10), showarrow=False, font=dict(color='white', size=12)))\n",
    "    for x in range(70, 110, 10):\n",
    "        field_annotations.append(dict(x=x, y=8, text=(110-x), showarrow=False, font=dict(color='white', size=12)))\n",
    "        field_annotations.append(dict(x=x, y=45.3, text=(110-x), showarrow=False, font=dict(color='white', size=12)))\n",
    "\n",
    "    title_annotation = dict(\n",
    "    x=0.5,  # X-coordinate (0.5 is the center of the plot)\n",
    "    y=-0.2,  # Y-coordinate (negative to position under the plot)\n",
    "    xref='paper',\n",
    "    yref='paper',\n",
    "    text=scorebug,\n",
    "    showarrow=False,\n",
    "    font=dict(size=14, color='black')  # Customize the font size and color\n",
    "    )\n",
    "    \n",
    "    # Create football field layout\n",
    "    field_layout = go.Layout(\n",
    "        shapes=field_shapes,\n",
    "        annotations=field_annotations + [title_annotation],\n",
    "        xaxis=dict(range=[0, 120], title =''),\n",
    "        yaxis=dict(range=[0, 53.3], title=''),\n",
    "        showlegend=True,\n",
    "        height = 533,\n",
    "        width = 1200\n",
    "    )\n",
    "    field_layout['xaxis'].update(showgrid=False)\n",
    "    field_layout['yaxis'].update(showgrid=False)\n",
    "\n",
    "    scatter_fig.update_layout(field_layout, plot_bgcolor='green')\n",
    "\n",
    "\n",
    "\n",
    "    \n",
    "    # Show the combined plot\n",
    "    scatter_fig.show()\n",
    "\n",
    "\n",
    "\n",
    "\n",
    "\n"
   ]
  },
  {
   "cell_type": "code",
   "execution_count": 17,
   "id": "622295e9-8bbf-4cfa-b97a-7ad3b77814f6",
   "metadata": {},
   "outputs": [
    {
     "data": {
      "application/vnd.plotly.v1+json": {
       "config": {
        "plotlyServerURL": "https://plot.ly"
       },
       "data": [
        {
         "customdata": [
          [
           32,
           "Devin McCourty",
           1.45,
           null
          ],
          [
           21,
           "Adrian Phillips",
           4,
           null
          ],
          [
           91,
           "Deatrich Wise",
           0.01,
           null
          ],
          [
           8,
           "Ja'Whaun Bentley",
           0.8,
           null
          ],
          [
           95,
           "Daniel Ekuale",
           0.03,
           null
          ],
          [
           48,
           "Jahlani Tavai",
           0.61,
           null
          ],
          [
           23,
           "Kyle Dugger",
           0.45,
           null
          ],
          [
           58,
           "Anfernee Jennings",
           0.01,
           null
          ],
          [
           90,
           "Christian Barmore",
           0.01,
           null
          ],
          [
           25,
           "Marcus Jones",
           1.21,
           null
          ],
          [
           13,
           "Jack Jones",
           0.01,
           null
          ]
         ],
         "hovertemplate": "club=NE<br>frameId=1<br>x=%{x}<br>y=%{y}<br>jerseyNumber=%{customdata[0]}<br>displayName=%{customdata[1]}<br>s=%{customdata[2]}<br>event=%{customdata[3]}<extra></extra>",
         "legendgroup": "NE",
         "marker": {
          "color": "#002244",
          "symbol": "circle"
         },
         "mode": "markers",
         "name": "NE",
         "orientation": "v",
         "showlegend": true,
         "type": "scatter",
         "x": [
          66.83,
          67.8,
          59.07,
          63.43,
          59.22,
          61.19,
          60.8,
          59.11,
          58.91,
          65.57,
          64.83
         ],
         "xaxis": "x",
         "y": [
          30.63,
          20.05,
          28.79,
          26.17,
          22.56,
          19.6,
          31.76,
          18.03,
          25.18,
          36.86,
          9.95
         ],
         "yaxis": "y"
        },
        {
         "customdata": [
          [
           75,
           "Joel Bitonio",
           0,
           null
          ],
          [
           2,
           "Amari Cooper",
           0,
           null
          ],
          [
           78,
           "Jack Conklin",
           0,
           null
          ],
          [
           7,
           "Jacoby Brissett",
           0,
           null
          ],
          [
           85,
           "David Njoku",
           0,
           null
          ],
          [
           55,
           "Ethan Pocic",
           0,
           null
          ],
          [
           24,
           "Nick Chubb",
           0,
           null
          ],
          [
           72,
           "Hjalte Froholdt",
           0,
           null
          ],
          [
           71,
           "Jedrick Wills",
           0,
           null
          ],
          [
           11,
           "Donovan Peoples-Jones",
           5.83,
           null
          ],
          [
           18,
           "David Bell",
           0,
           null
          ]
         ],
         "hovertemplate": "club=CLE<br>frameId=1<br>x=%{x}<br>y=%{y}<br>jerseyNumber=%{customdata[0]}<br>displayName=%{customdata[1]}<br>s=%{customdata[2]}<br>event=%{customdata[3]}<extra></extra>",
         "legendgroup": "CLE",
         "marker": {
          "color": "#311D00",
          "symbol": "circle"
         },
         "mode": "markers",
         "name": "CLE",
         "orientation": "v",
         "showlegend": true,
         "type": "scatter",
         "x": [
          56.98,
          56.72,
          56.92,
          56.7,
          57,
          57.68,
          49.75,
          56.95,
          57.08,
          55.4,
          56.65
         ],
         "xaxis": "x",
         "y": [
          25.29,
          9.22,
          20.2,
          23.52,
          28.47,
          23.57,
          23.29,
          21.95,
          26.99,
          30.46,
          30.43
         ],
         "yaxis": "y"
        },
        {
         "customdata": [
          [
           null,
           "football",
           0,
           null
          ]
         ],
         "hovertemplate": "club=football<br>frameId=1<br>x=%{x}<br>y=%{y}<br>jerseyNumber=%{customdata[0]}<br>displayName=%{customdata[1]}<br>s=%{customdata[2]}<br>event=%{customdata[3]}<extra></extra>",
         "legendgroup": "football",
         "marker": {
          "color": "#CBB67C",
          "symbol": "circle"
         },
         "mode": "markers",
         "name": "football",
         "orientation": "v",
         "showlegend": true,
         "type": "scatter",
         "x": [
          58.1599998474121
         ],
         "xaxis": "x",
         "y": [
          23.6299991607666
         ],
         "yaxis": "y"
        }
       ],
       "frames": [
        {
         "data": [
          {
           "customdata": [
            [
             32,
             "Devin McCourty",
             1.45,
             null
            ],
            [
             21,
             "Adrian Phillips",
             4,
             null
            ],
            [
             91,
             "Deatrich Wise",
             0.01,
             null
            ],
            [
             8,
             "Ja'Whaun Bentley",
             0.8,
             null
            ],
            [
             95,
             "Daniel Ekuale",
             0.03,
             null
            ],
            [
             48,
             "Jahlani Tavai",
             0.61,
             null
            ],
            [
             23,
             "Kyle Dugger",
             0.45,
             null
            ],
            [
             58,
             "Anfernee Jennings",
             0.01,
             null
            ],
            [
             90,
             "Christian Barmore",
             0.01,
             null
            ],
            [
             25,
             "Marcus Jones",
             1.21,
             null
            ],
            [
             13,
             "Jack Jones",
             0.01,
             null
            ]
           ],
           "hovertemplate": "club=NE<br>frameId=1<br>x=%{x}<br>y=%{y}<br>jerseyNumber=%{customdata[0]}<br>displayName=%{customdata[1]}<br>s=%{customdata[2]}<br>event=%{customdata[3]}<extra></extra>",
           "legendgroup": "NE",
           "marker": {
            "color": "#002244",
            "symbol": "circle"
           },
           "mode": "markers",
           "name": "NE",
           "orientation": "v",
           "showlegend": true,
           "type": "scatter",
           "x": [
            66.83,
            67.8,
            59.07,
            63.43,
            59.22,
            61.19,
            60.8,
            59.11,
            58.91,
            65.57,
            64.83
           ],
           "xaxis": "x",
           "y": [
            30.63,
            20.05,
            28.79,
            26.17,
            22.56,
            19.6,
            31.76,
            18.03,
            25.18,
            36.86,
            9.95
           ],
           "yaxis": "y"
          },
          {
           "customdata": [
            [
             75,
             "Joel Bitonio",
             0,
             null
            ],
            [
             2,
             "Amari Cooper",
             0,
             null
            ],
            [
             78,
             "Jack Conklin",
             0,
             null
            ],
            [
             7,
             "Jacoby Brissett",
             0,
             null
            ],
            [
             85,
             "David Njoku",
             0,
             null
            ],
            [
             55,
             "Ethan Pocic",
             0,
             null
            ],
            [
             24,
             "Nick Chubb",
             0,
             null
            ],
            [
             72,
             "Hjalte Froholdt",
             0,
             null
            ],
            [
             71,
             "Jedrick Wills",
             0,
             null
            ],
            [
             11,
             "Donovan Peoples-Jones",
             5.83,
             null
            ],
            [
             18,
             "David Bell",
             0,
             null
            ]
           ],
           "hovertemplate": "club=CLE<br>frameId=1<br>x=%{x}<br>y=%{y}<br>jerseyNumber=%{customdata[0]}<br>displayName=%{customdata[1]}<br>s=%{customdata[2]}<br>event=%{customdata[3]}<extra></extra>",
           "legendgroup": "CLE",
           "marker": {
            "color": "#311D00",
            "symbol": "circle"
           },
           "mode": "markers",
           "name": "CLE",
           "orientation": "v",
           "showlegend": true,
           "type": "scatter",
           "x": [
            56.98,
            56.72,
            56.92,
            56.7,
            57,
            57.68,
            49.75,
            56.95,
            57.08,
            55.4,
            56.65
           ],
           "xaxis": "x",
           "y": [
            25.29,
            9.22,
            20.2,
            23.52,
            28.47,
            23.57,
            23.29,
            21.95,
            26.99,
            30.46,
            30.43
           ],
           "yaxis": "y"
          },
          {
           "customdata": [
            [
             null,
             "football",
             0,
             null
            ]
           ],
           "hovertemplate": "club=football<br>frameId=1<br>x=%{x}<br>y=%{y}<br>jerseyNumber=%{customdata[0]}<br>displayName=%{customdata[1]}<br>s=%{customdata[2]}<br>event=%{customdata[3]}<extra></extra>",
           "legendgroup": "football",
           "marker": {
            "color": "#CBB67C",
            "symbol": "circle"
           },
           "mode": "markers",
           "name": "football",
           "orientation": "v",
           "showlegend": true,
           "type": "scatter",
           "x": [
            58.1599998474121
           ],
           "xaxis": "x",
           "y": [
            23.6299991607666
           ],
           "yaxis": "y"
          }
         ],
         "name": "1"
        },
        {
         "data": [
          {
           "customdata": [
            [
             32,
             "Devin McCourty",
             1.75,
             null
            ],
            [
             21,
             "Adrian Phillips",
             4.33,
             null
            ],
            [
             91,
             "Deatrich Wise",
             0.01,
             null
            ],
            [
             8,
             "Ja'Whaun Bentley",
             0.97,
             null
            ],
            [
             95,
             "Daniel Ekuale",
             0.04,
             null
            ],
            [
             48,
             "Jahlani Tavai",
             0.61,
             null
            ],
            [
             23,
             "Kyle Dugger",
             0.44,
             null
            ],
            [
             58,
             "Anfernee Jennings",
             0,
             null
            ],
            [
             90,
             "Christian Barmore",
             0.01,
             null
            ],
            [
             25,
             "Marcus Jones",
             1.32,
             null
            ],
            [
             13,
             "Jack Jones",
             0.01,
             null
            ]
           ],
           "hovertemplate": "club=NE<br>frameId=2<br>x=%{x}<br>y=%{y}<br>jerseyNumber=%{customdata[0]}<br>displayName=%{customdata[1]}<br>s=%{customdata[2]}<br>event=%{customdata[3]}<extra></extra>",
           "legendgroup": "NE",
           "marker": {
            "color": "#002244",
            "symbol": "circle"
           },
           "mode": "markers",
           "name": "NE",
           "orientation": "v",
           "showlegend": true,
           "type": "scatter",
           "x": [
            66.96,
            67.49,
            59.06,
            63.44,
            59.2,
            61.15,
            60.8,
            59.1,
            58.91,
            65.59,
            64.84
           ],
           "xaxis": "x",
           "y": [
            30.55,
            19.76,
            28.79,
            26.07,
            22.57,
            19.55,
            31.71,
            18.03,
            25.18,
            36.73,
            9.95
           ],
           "yaxis": "y"
          },
          {
           "customdata": [
            [
             75,
             "Joel Bitonio",
             0,
             null
            ],
            [
             2,
             "Amari Cooper",
             0,
             null
            ],
            [
             78,
             "Jack Conklin",
             0,
             null
            ],
            [
             7,
             "Jacoby Brissett",
             0,
             null
            ],
            [
             85,
             "David Njoku",
             0,
             null
            ],
            [
             55,
             "Ethan Pocic",
             0.01,
             null
            ],
            [
             24,
             "Nick Chubb",
             0,
             null
            ],
            [
             72,
             "Hjalte Froholdt",
             0,
             null
            ],
            [
             71,
             "Jedrick Wills",
             0,
             null
            ],
            [
             11,
             "Donovan Peoples-Jones",
             6.23,
             null
            ],
            [
             18,
             "David Bell",
             0,
             null
            ]
           ],
           "hovertemplate": "club=CLE<br>frameId=2<br>x=%{x}<br>y=%{y}<br>jerseyNumber=%{customdata[0]}<br>displayName=%{customdata[1]}<br>s=%{customdata[2]}<br>event=%{customdata[3]}<extra></extra>",
           "legendgroup": "CLE",
           "marker": {
            "color": "#311D00",
            "symbol": "circle"
           },
           "mode": "markers",
           "name": "CLE",
           "orientation": "v",
           "showlegend": true,
           "type": "scatter",
           "x": [
            56.98,
            56.71,
            56.91,
            56.7,
            57,
            57.68,
            49.75,
            56.95,
            57.08,
            55.34,
            56.65
           ],
           "xaxis": "x",
           "y": [
            25.29,
            9.22,
            20.2,
            23.53,
            28.47,
            23.57,
            23.29,
            21.95,
            26.99,
            29.86,
            30.43
           ],
           "yaxis": "y"
          },
          {
           "customdata": [
            [
             null,
             "football",
             0,
             null
            ]
           ],
           "hovertemplate": "club=football<br>frameId=2<br>x=%{x}<br>y=%{y}<br>jerseyNumber=%{customdata[0]}<br>displayName=%{customdata[1]}<br>s=%{customdata[2]}<br>event=%{customdata[3]}<extra></extra>",
           "legendgroup": "football",
           "marker": {
            "color": "#CBB67C",
            "symbol": "circle"
           },
           "mode": "markers",
           "name": "football",
           "orientation": "v",
           "showlegend": true,
           "type": "scatter",
           "x": [
            58.1500015258789
           ],
           "xaxis": "x",
           "y": [
            23.6299991607666
           ],
           "yaxis": "y"
          }
         ],
         "name": "2"
        },
        {
         "data": [
          {
           "customdata": [
            [
             32,
             "Devin McCourty",
             2.05,
             null
            ],
            [
             21,
             "Adrian Phillips",
             4.62,
             null
            ],
            [
             91,
             "Deatrich Wise",
             0.01,
             null
            ],
            [
             8,
             "Ja'Whaun Bentley",
             1.05,
             null
            ],
            [
             95,
             "Daniel Ekuale",
             0.04,
             null
            ],
            [
             48,
             "Jahlani Tavai",
             0.64,
             null
            ],
            [
             23,
             "Kyle Dugger",
             0.42,
             null
            ],
            [
             58,
             "Anfernee Jennings",
             0,
             null
            ],
            [
             90,
             "Christian Barmore",
             0.01,
             null
            ],
            [
             25,
             "Marcus Jones",
             1.35,
             null
            ],
            [
             13,
             "Jack Jones",
             0.01,
             null
            ]
           ],
           "hovertemplate": "club=NE<br>frameId=3<br>x=%{x}<br>y=%{y}<br>jerseyNumber=%{customdata[0]}<br>displayName=%{customdata[1]}<br>s=%{customdata[2]}<br>event=%{customdata[3]}<extra></extra>",
           "legendgroup": "NE",
           "marker": {
            "color": "#002244",
            "symbol": "circle"
           },
           "mode": "markers",
           "name": "NE",
           "orientation": "v",
           "showlegend": true,
           "type": "scatter",
           "x": [
            67.12,
            67.17,
            59.06,
            63.44,
            59.19,
            61.1,
            60.8,
            59.1,
            58.91,
            65.6,
            64.84
           ],
           "xaxis": "x",
           "y": [
            30.45,
            19.45,
            28.8,
            25.97,
            22.59,
            19.51,
            31.67,
            18.03,
            25.2,
            36.6,
            9.94
           ],
           "yaxis": "y"
          },
          {
           "customdata": [
            [
             75,
             "Joel Bitonio",
             0.03,
             null
            ],
            [
             2,
             "Amari Cooper",
             0,
             null
            ],
            [
             78,
             "Jack Conklin",
             0,
             null
            ],
            [
             7,
             "Jacoby Brissett",
             0,
             null
            ],
            [
             85,
             "David Njoku",
             0,
             null
            ],
            [
             55,
             "Ethan Pocic",
             0.04,
             null
            ],
            [
             24,
             "Nick Chubb",
             0,
             null
            ],
            [
             72,
             "Hjalte Froholdt",
             0,
             null
            ],
            [
             71,
             "Jedrick Wills",
             0,
             null
            ],
            [
             11,
             "Donovan Peoples-Jones",
             6.62,
             null
            ],
            [
             18,
             "David Bell",
             0,
             null
            ]
           ],
           "hovertemplate": "club=CLE<br>frameId=3<br>x=%{x}<br>y=%{y}<br>jerseyNumber=%{customdata[0]}<br>displayName=%{customdata[1]}<br>s=%{customdata[2]}<br>event=%{customdata[3]}<extra></extra>",
           "legendgroup": "CLE",
           "marker": {
            "color": "#311D00",
            "symbol": "circle"
           },
           "mode": "markers",
           "name": "CLE",
           "orientation": "v",
           "showlegend": true,
           "type": "scatter",
           "x": [
            56.98,
            56.71,
            56.91,
            56.7,
            57.01,
            57.69,
            49.75,
            56.95,
            57.08,
            55.28,
            56.64
           ],
           "xaxis": "x",
           "y": [
            25.29,
            9.22,
            20.2,
            23.53,
            28.47,
            23.57,
            23.29,
            21.95,
            26.99,
            29.22,
            30.43
           ],
           "yaxis": "y"
          },
          {
           "customdata": [
            [
             null,
             "football",
             0,
             null
            ]
           ],
           "hovertemplate": "club=football<br>frameId=3<br>x=%{x}<br>y=%{y}<br>jerseyNumber=%{customdata[0]}<br>displayName=%{customdata[1]}<br>s=%{customdata[2]}<br>event=%{customdata[3]}<extra></extra>",
           "legendgroup": "football",
           "marker": {
            "color": "#CBB67C",
            "symbol": "circle"
           },
           "mode": "markers",
           "name": "football",
           "orientation": "v",
           "showlegend": true,
           "type": "scatter",
           "x": [
            58.1500015258789
           ],
           "xaxis": "x",
           "y": [
            23.6299991607666
           ],
           "yaxis": "y"
          }
         ],
         "name": "3"
        },
        {
         "data": [
          {
           "customdata": [
            [
             32,
             "Devin McCourty",
             2.42,
             null
            ],
            [
             21,
             "Adrian Phillips",
             4.87,
             null
            ],
            [
             91,
             "Deatrich Wise",
             0.02,
             null
            ],
            [
             8,
             "Ja'Whaun Bentley",
             1.1,
             null
            ],
            [
             95,
             "Daniel Ekuale",
             0.05,
             null
            ],
            [
             48,
             "Jahlani Tavai",
             0.66,
             null
            ],
            [
             23,
             "Kyle Dugger",
             0.4,
             null
            ],
            [
             58,
             "Anfernee Jennings",
             0.02,
             null
            ],
            [
             90,
             "Christian Barmore",
             0.01,
             null
            ],
            [
             25,
             "Marcus Jones",
             1.33,
             null
            ],
            [
             13,
             "Jack Jones",
             0,
             null
            ]
           ],
           "hovertemplate": "club=NE<br>frameId=4<br>x=%{x}<br>y=%{y}<br>jerseyNumber=%{customdata[0]}<br>displayName=%{customdata[1]}<br>s=%{customdata[2]}<br>event=%{customdata[3]}<extra></extra>",
           "legendgroup": "NE",
           "marker": {
            "color": "#002244",
            "symbol": "circle"
           },
           "mode": "markers",
           "name": "NE",
           "orientation": "v",
           "showlegend": true,
           "type": "scatter",
           "x": [
            67.3,
            66.84,
            59.05,
            63.45,
            59.16,
            61.04,
            60.8,
            59.09,
            58.91,
            65.63,
            64.82
           ],
           "xaxis": "x",
           "y": [
            30.33,
            19.11,
            28.82,
            25.87,
            22.59,
            19.48,
            31.63,
            18.03,
            25.23,
            36.47,
            9.96
           ],
           "yaxis": "y"
          },
          {
           "customdata": [
            [
             75,
             "Joel Bitonio",
             0.13,
             null
            ],
            [
             2,
             "Amari Cooper",
             0,
             null
            ],
            [
             78,
             "Jack Conklin",
             0,
             null
            ],
            [
             7,
             "Jacoby Brissett",
             0,
             null
            ],
            [
             85,
             "David Njoku",
             0,
             null
            ],
            [
             55,
             "Ethan Pocic",
             0.13,
             null
            ],
            [
             24,
             "Nick Chubb",
             0,
             null
            ],
            [
             72,
             "Hjalte Froholdt",
             0,
             null
            ],
            [
             71,
             "Jedrick Wills",
             0.01,
             null
            ],
            [
             11,
             "Donovan Peoples-Jones",
             6.85,
             null
            ],
            [
             18,
             "David Bell",
             0,
             null
            ]
           ],
           "hovertemplate": "club=CLE<br>frameId=4<br>x=%{x}<br>y=%{y}<br>jerseyNumber=%{customdata[0]}<br>displayName=%{customdata[1]}<br>s=%{customdata[2]}<br>event=%{customdata[3]}<extra></extra>",
           "legendgroup": "CLE",
           "marker": {
            "color": "#311D00",
            "symbol": "circle"
           },
           "mode": "markers",
           "name": "CLE",
           "orientation": "v",
           "showlegend": true,
           "type": "scatter",
           "x": [
            56.99,
            56.71,
            56.91,
            56.69,
            57.01,
            57.69,
            49.75,
            56.95,
            57.08,
            55.23,
            56.65
           ],
           "xaxis": "x",
           "y": [
            25.3,
            9.22,
            20.2,
            23.53,
            28.49,
            23.59,
            23.29,
            21.95,
            26.99,
            28.55,
            30.43
           ],
           "yaxis": "y"
          },
          {
           "customdata": [
            [
             null,
             "football",
             0,
             null
            ]
           ],
           "hovertemplate": "club=football<br>frameId=4<br>x=%{x}<br>y=%{y}<br>jerseyNumber=%{customdata[0]}<br>displayName=%{customdata[1]}<br>s=%{customdata[2]}<br>event=%{customdata[3]}<extra></extra>",
           "legendgroup": "football",
           "marker": {
            "color": "#CBB67C",
            "symbol": "circle"
           },
           "mode": "markers",
           "name": "football",
           "orientation": "v",
           "showlegend": true,
           "type": "scatter",
           "x": [
            58.1399993896484
           ],
           "xaxis": "x",
           "y": [
            23.6299991607666
           ],
           "yaxis": "y"
          }
         ],
         "name": "4"
        },
        {
         "data": [
          {
           "customdata": [
            [
             32,
             "Devin McCourty",
             2.71,
             null
            ],
            [
             21,
             "Adrian Phillips",
             5.07,
             null
            ],
            [
             91,
             "Deatrich Wise",
             0.11,
             null
            ],
            [
             8,
             "Ja'Whaun Bentley",
             1.14,
             null
            ],
            [
             95,
             "Daniel Ekuale",
             0.11,
             null
            ],
            [
             48,
             "Jahlani Tavai",
             0.69,
             null
            ],
            [
             23,
             "Kyle Dugger",
             0.39,
             null
            ],
            [
             58,
             "Anfernee Jennings",
             0.09,
             null
            ],
            [
             90,
             "Christian Barmore",
             0.06,
             null
            ],
            [
             25,
             "Marcus Jones",
             1.28,
             null
            ],
            [
             13,
             "Jack Jones",
             0,
             null
            ]
           ],
           "hovertemplate": "club=NE<br>frameId=5<br>x=%{x}<br>y=%{y}<br>jerseyNumber=%{customdata[0]}<br>displayName=%{customdata[1]}<br>s=%{customdata[2]}<br>event=%{customdata[3]}<extra></extra>",
           "legendgroup": "NE",
           "marker": {
            "color": "#002244",
            "symbol": "circle"
           },
           "mode": "markers",
           "name": "NE",
           "orientation": "v",
           "showlegend": true,
           "type": "scatter",
           "x": [
            67.51,
            66.5,
            59.04,
            63.45,
            59.14,
            60.97,
            60.8,
            59.08,
            58.9,
            65.65,
            64.82
           ],
           "xaxis": "x",
           "y": [
            30.18,
            18.74,
            28.83,
            25.75,
            22.6,
            19.47,
            31.58,
            18.03,
            25.25,
            36.35,
            9.96
           ],
           "yaxis": "y"
          },
          {
           "customdata": [
            [
             75,
             "Joel Bitonio",
             0.31,
             null
            ],
            [
             2,
             "Amari Cooper",
             0,
             null
            ],
            [
             78,
             "Jack Conklin",
             0,
             null
            ],
            [
             7,
             "Jacoby Brissett",
             0,
             null
            ],
            [
             85,
             "David Njoku",
             0,
             null
            ],
            [
             55,
             "Ethan Pocic",
             0.27,
             null
            ],
            [
             24,
             "Nick Chubb",
             0,
             null
            ],
            [
             72,
             "Hjalte Froholdt",
             0,
             null
            ],
            [
             71,
             "Jedrick Wills",
             0.04,
             null
            ],
            [
             11,
             "Donovan Peoples-Jones",
             7.03,
             null
            ],
            [
             18,
             "David Bell",
             0,
             null
            ]
           ],
           "hovertemplate": "club=CLE<br>frameId=5<br>x=%{x}<br>y=%{y}<br>jerseyNumber=%{customdata[0]}<br>displayName=%{customdata[1]}<br>s=%{customdata[2]}<br>event=%{customdata[3]}<extra></extra>",
           "legendgroup": "CLE",
           "marker": {
            "color": "#311D00",
            "symbol": "circle"
           },
           "mode": "markers",
           "name": "CLE",
           "orientation": "v",
           "showlegend": true,
           "type": "scatter",
           "x": [
            57.01,
            56.71,
            56.91,
            56.69,
            57.01,
            57.69,
            49.76,
            56.95,
            57.08,
            55.17,
            56.65
           ],
           "xaxis": "x",
           "y": [
            25.33,
            9.22,
            20.21,
            23.53,
            28.5,
            23.62,
            23.3,
            21.97,
            26.99,
            27.86,
            30.43
           ],
           "yaxis": "y"
          },
          {
           "customdata": [
            [
             null,
             "football",
             0,
             null
            ]
           ],
           "hovertemplate": "club=football<br>frameId=5<br>x=%{x}<br>y=%{y}<br>jerseyNumber=%{customdata[0]}<br>displayName=%{customdata[1]}<br>s=%{customdata[2]}<br>event=%{customdata[3]}<extra></extra>",
           "legendgroup": "football",
           "marker": {
            "color": "#CBB67C",
            "symbol": "circle"
           },
           "mode": "markers",
           "name": "football",
           "orientation": "v",
           "showlegend": true,
           "type": "scatter",
           "x": [
            58.1399993896484
           ],
           "xaxis": "x",
           "y": [
            23.6299991607666
           ],
           "yaxis": "y"
          }
         ],
         "name": "5"
        },
        {
         "data": [
          {
           "customdata": [
            [
             32,
             "Devin McCourty",
             2.92,
             "ball_snap"
            ],
            [
             21,
             "Adrian Phillips",
             5.19,
             "ball_snap"
            ],
            [
             91,
             "Deatrich Wise",
             0.33,
             "ball_snap"
            ],
            [
             8,
             "Ja'Whaun Bentley",
             1.04,
             "ball_snap"
            ],
            [
             95,
             "Daniel Ekuale",
             0.25,
             "ball_snap"
            ],
            [
             48,
             "Jahlani Tavai",
             0.93,
             "ball_snap"
            ],
            [
             23,
             "Kyle Dugger",
             0.37,
             "ball_snap"
            ],
            [
             58,
             "Anfernee Jennings",
             0.33,
             "ball_snap"
            ],
            [
             90,
             "Christian Barmore",
             0.22,
             "ball_snap"
            ],
            [
             25,
             "Marcus Jones",
             1.05,
             "ball_snap"
            ],
            [
             13,
             "Jack Jones",
             0,
             "ball_snap"
            ]
           ],
           "hovertemplate": "club=NE<br>frameId=6<br>x=%{x}<br>y=%{y}<br>jerseyNumber=%{customdata[0]}<br>displayName=%{customdata[1]}<br>s=%{customdata[2]}<br>event=%{customdata[3]}<extra></extra>",
           "legendgroup": "NE",
           "marker": {
            "color": "#002244",
            "symbol": "circle"
           },
           "mode": "markers",
           "name": "NE",
           "orientation": "v",
           "showlegend": true,
           "type": "scatter",
           "x": [
            67.75,
            66.17,
            59.01,
            63.45,
            59.12,
            60.87,
            60.79,
            59.05,
            58.9,
            65.67,
            64.82
           ],
           "xaxis": "x",
           "y": [
            30.03,
            18.35,
            28.85,
            25.66,
            22.62,
            19.49,
            31.55,
            18.04,
            25.28,
            36.24,
            9.95
           ],
           "yaxis": "y"
          },
          {
           "customdata": [
            [
             75,
             "Joel Bitonio",
             0.66,
             "ball_snap"
            ],
            [
             2,
             "Amari Cooper",
             0,
             "ball_snap"
            ],
            [
             78,
             "Jack Conklin",
             0.02,
             "ball_snap"
            ],
            [
             7,
             "Jacoby Brissett",
             0,
             "ball_snap"
            ],
            [
             85,
             "David Njoku",
             0,
             "ball_snap"
            ],
            [
             55,
             "Ethan Pocic",
             0.64,
             "ball_snap"
            ],
            [
             24,
             "Nick Chubb",
             0,
             "ball_snap"
            ],
            [
             72,
             "Hjalte Froholdt",
             0.17,
             "ball_snap"
            ],
            [
             71,
             "Jedrick Wills",
             0.16,
             "ball_snap"
            ],
            [
             11,
             "Donovan Peoples-Jones",
             7.21,
             "ball_snap"
            ],
            [
             18,
             "David Bell",
             0,
             "ball_snap"
            ]
           ],
           "hovertemplate": "club=CLE<br>frameId=6<br>x=%{x}<br>y=%{y}<br>jerseyNumber=%{customdata[0]}<br>displayName=%{customdata[1]}<br>s=%{customdata[2]}<br>event=%{customdata[3]}<extra></extra>",
           "legendgroup": "CLE",
           "marker": {
            "color": "#311D00",
            "symbol": "circle"
           },
           "mode": "markers",
           "name": "CLE",
           "orientation": "v",
           "showlegend": true,
           "type": "scatter",
           "x": [
            57.05,
            56.71,
            56.91,
            56.69,
            57.03,
            57.68,
            49.76,
            56.95,
            57.08,
            55.1,
            56.65
           ],
           "xaxis": "x",
           "y": [
            25.4,
            9.22,
            20.22,
            23.53,
            28.52,
            23.7,
            23.3,
            21.98,
            27.01,
            27.14,
            30.43
           ],
           "yaxis": "y"
          },
          {
           "customdata": [
            [
             null,
             "football",
             0,
             "ball_snap"
            ]
           ],
           "hovertemplate": "club=football<br>frameId=6<br>x=%{x}<br>y=%{y}<br>jerseyNumber=%{customdata[0]}<br>displayName=%{customdata[1]}<br>s=%{customdata[2]}<br>event=%{customdata[3]}<extra></extra>",
           "legendgroup": "football",
           "marker": {
            "color": "#CBB67C",
            "symbol": "circle"
           },
           "mode": "markers",
           "name": "football",
           "orientation": "v",
           "showlegend": true,
           "type": "scatter",
           "x": [
            58.1399993896484
           ],
           "xaxis": "x",
           "y": [
            23.6399993896484
           ],
           "yaxis": "y"
          }
         ],
         "name": "6"
        },
        {
         "data": [
          {
           "customdata": [
            [
             32,
             "Devin McCourty",
             3.08,
             null
            ],
            [
             21,
             "Adrian Phillips",
             5.26,
             null
            ],
            [
             91,
             "Deatrich Wise",
             0.65,
             null
            ],
            [
             8,
             "Ja'Whaun Bentley",
             0.8,
             null
            ],
            [
             95,
             "Daniel Ekuale",
             0.5,
             null
            ],
            [
             48,
             "Jahlani Tavai",
             1.16,
             null
            ],
            [
             23,
             "Kyle Dugger",
             0.43,
             null
            ],
            [
             58,
             "Anfernee Jennings",
             0.62,
             null
            ],
            [
             90,
             "Christian Barmore",
             0.46,
             null
            ],
            [
             25,
             "Marcus Jones",
             0.96,
             null
            ],
            [
             13,
             "Jack Jones",
             0,
             null
            ]
           ],
           "hovertemplate": "club=NE<br>frameId=7<br>x=%{x}<br>y=%{y}<br>jerseyNumber=%{customdata[0]}<br>displayName=%{customdata[1]}<br>s=%{customdata[2]}<br>event=%{customdata[3]}<extra></extra>",
           "legendgroup": "NE",
           "marker": {
            "color": "#002244",
            "symbol": "circle"
           },
           "mode": "markers",
           "name": "NE",
           "orientation": "v",
           "showlegend": true,
           "type": "scatter",
           "x": [
            68,
            65.83,
            58.94,
            63.44,
            59.09,
            60.76,
            60.77,
            59,
            58.88,
            65.68,
            64.86
           ],
           "xaxis": "x",
           "y": [
            29.87,
            17.95,
            28.87,
            25.59,
            22.67,
            19.52,
            31.5,
            18.07,
            25.32,
            36.14,
            9.98
           ],
           "yaxis": "y"
          },
          {
           "customdata": [
            [
             75,
             "Joel Bitonio",
             0.95,
             null
            ],
            [
             2,
             "Amari Cooper",
             0,
             null
            ],
            [
             78,
             "Jack Conklin",
             0.19,
             null
            ],
            [
             7,
             "Jacoby Brissett",
             0,
             null
            ],
            [
             85,
             "David Njoku",
             0,
             null
            ],
            [
             55,
             "Ethan Pocic",
             0.9,
             null
            ],
            [
             24,
             "Nick Chubb",
             0.01,
             null
            ],
            [
             72,
             "Hjalte Froholdt",
             0.6,
             null
            ],
            [
             71,
             "Jedrick Wills",
             0.41,
             null
            ],
            [
             11,
             "Donovan Peoples-Jones",
             7.26,
             null
            ],
            [
             18,
             "David Bell",
             0.02,
             null
            ]
           ],
           "hovertemplate": "club=CLE<br>frameId=7<br>x=%{x}<br>y=%{y}<br>jerseyNumber=%{customdata[0]}<br>displayName=%{customdata[1]}<br>s=%{customdata[2]}<br>event=%{customdata[3]}<extra></extra>",
           "legendgroup": "CLE",
           "marker": {
            "color": "#311D00",
            "symbol": "circle"
           },
           "mode": "markers",
           "name": "CLE",
           "orientation": "v",
           "showlegend": true,
           "type": "scatter",
           "x": [
            57.11,
            56.71,
            56.91,
            56.67,
            57.04,
            57.67,
            49.77,
            56.97,
            57.07,
            55.02,
            56.66
           ],
           "xaxis": "x",
           "y": [
            25.48,
            9.22,
            20.24,
            23.54,
            28.54,
            23.8,
            23.31,
            22.03,
            27.05,
            26.42,
            30.43
           ],
           "yaxis": "y"
          },
          {
           "customdata": [
            [
             null,
             "football",
             0,
             null
            ]
           ],
           "hovertemplate": "club=football<br>frameId=7<br>x=%{x}<br>y=%{y}<br>jerseyNumber=%{customdata[0]}<br>displayName=%{customdata[1]}<br>s=%{customdata[2]}<br>event=%{customdata[3]}<extra></extra>",
           "legendgroup": "football",
           "marker": {
            "color": "#CBB67C",
            "symbol": "circle"
           },
           "mode": "markers",
           "name": "football",
           "orientation": "v",
           "showlegend": true,
           "type": "scatter",
           "x": [
            58.0999984741211
           ],
           "xaxis": "x",
           "y": [
            23.6499996185303
           ],
           "yaxis": "y"
          }
         ],
         "name": "7"
        },
        {
         "data": [
          {
           "customdata": [
            [
             32,
             "Devin McCourty",
             3.4,
             null
            ],
            [
             21,
             "Adrian Phillips",
             5.25,
             null
            ],
            [
             91,
             "Deatrich Wise",
             1.04,
             null
            ],
            [
             8,
             "Ja'Whaun Bentley",
             0.56,
             null
            ],
            [
             95,
             "Daniel Ekuale",
             0.91,
             null
            ],
            [
             48,
             "Jahlani Tavai",
             1.46,
             null
            ],
            [
             23,
             "Kyle Dugger",
             0.47,
             null
            ],
            [
             58,
             "Anfernee Jennings",
             0.96,
             null
            ],
            [
             90,
             "Christian Barmore",
             0.83,
             null
            ],
            [
             25,
             "Marcus Jones",
             0.8,
             null
            ],
            [
             13,
             "Jack Jones",
             0,
             null
            ]
           ],
           "hovertemplate": "club=NE<br>frameId=8<br>x=%{x}<br>y=%{y}<br>jerseyNumber=%{customdata[0]}<br>displayName=%{customdata[1]}<br>s=%{customdata[2]}<br>event=%{customdata[3]}<extra></extra>",
           "legendgroup": "NE",
           "marker": {
            "color": "#002244",
            "symbol": "circle"
           },
           "mode": "markers",
           "name": "NE",
           "orientation": "v",
           "showlegend": true,
           "type": "scatter",
           "x": [
            68.28,
            65.51,
            58.85,
            63.43,
            59.02,
            60.63,
            60.74,
            58.92,
            58.86,
            65.68,
            64.9
           ],
           "xaxis": "x",
           "y": [
            29.69,
            17.54,
            28.91,
            25.53,
            22.76,
            19.58,
            31.47,
            18.12,
            25.4,
            36.06,
            10
           ],
           "yaxis": "y"
          },
          {
           "customdata": [
            [
             75,
             "Joel Bitonio",
             1.26,
             null
            ],
            [
             2,
             "Amari Cooper",
             0.01,
             null
            ],
            [
             78,
             "Jack Conklin",
             0.56,
             null
            ],
            [
             7,
             "Jacoby Brissett",
             0,
             null
            ],
            [
             85,
             "David Njoku",
             0.08,
             null
            ],
            [
             55,
             "Ethan Pocic",
             1.26,
             null
            ],
            [
             24,
             "Nick Chubb",
             0.15,
             null
            ],
            [
             72,
             "Hjalte Froholdt",
             1.14,
             null
            ],
            [
             71,
             "Jedrick Wills",
             0.81,
             null
            ],
            [
             11,
             "Donovan Peoples-Jones",
             7.32,
             null
            ],
            [
             18,
             "David Bell",
             0.13,
             null
            ]
           ],
           "hovertemplate": "club=CLE<br>frameId=8<br>x=%{x}<br>y=%{y}<br>jerseyNumber=%{customdata[0]}<br>displayName=%{customdata[1]}<br>s=%{customdata[2]}<br>event=%{customdata[3]}<extra></extra>",
           "legendgroup": "CLE",
           "marker": {
            "color": "#311D00",
            "symbol": "circle"
           },
           "mode": "markers",
           "name": "CLE",
           "orientation": "v",
           "showlegend": true,
           "type": "scatter",
           "x": [
            57.17,
            56.71,
            56.9,
            56.66,
            57.04,
            57.66,
            49.78,
            56.99,
            57.07,
            54.92,
            56.67
           ],
           "xaxis": "x",
           "y": [
            25.6,
            9.22,
            20.3,
            23.54,
            28.56,
            23.95,
            23.32,
            22.13,
            27.15,
            25.69,
            30.43
           ],
           "yaxis": "y"
          },
          {
           "customdata": [
            [
             null,
             "football",
             0.319999992847443,
             null
            ]
           ],
           "hovertemplate": "club=football<br>frameId=8<br>x=%{x}<br>y=%{y}<br>jerseyNumber=%{customdata[0]}<br>displayName=%{customdata[1]}<br>s=%{customdata[2]}<br>event=%{customdata[3]}<extra></extra>",
           "legendgroup": "football",
           "marker": {
            "color": "#CBB67C",
            "symbol": "circle"
           },
           "mode": "markers",
           "name": "football",
           "orientation": "v",
           "showlegend": true,
           "type": "scatter",
           "x": [
            58.060001373291
           ],
           "xaxis": "x",
           "y": [
            23.6599998474121
           ],
           "yaxis": "y"
          }
         ],
         "name": "8"
        },
        {
         "data": [
          {
           "customdata": [
            [
             32,
             "Devin McCourty",
             3.58,
             null
            ],
            [
             21,
             "Adrian Phillips",
             5.28,
             null
            ],
            [
             91,
             "Deatrich Wise",
             1.34,
             null
            ],
            [
             8,
             "Ja'Whaun Bentley",
             0.25,
             null
            ],
            [
             95,
             "Daniel Ekuale",
             1.26,
             null
            ],
            [
             48,
             "Jahlani Tavai",
             1.76,
             null
            ],
            [
             23,
             "Kyle Dugger",
             0.52,
             null
            ],
            [
             58,
             "Anfernee Jennings",
             1.28,
             null
            ],
            [
             90,
             "Christian Barmore",
             1.13,
             null
            ],
            [
             25,
             "Marcus Jones",
             0.71,
             null
            ],
            [
             13,
             "Jack Jones",
             0,
             null
            ]
           ],
           "hovertemplate": "club=NE<br>frameId=9<br>x=%{x}<br>y=%{y}<br>jerseyNumber=%{customdata[0]}<br>displayName=%{customdata[1]}<br>s=%{customdata[2]}<br>event=%{customdata[3]}<extra></extra>",
           "legendgroup": "NE",
           "marker": {
            "color": "#002244",
            "symbol": "circle"
           },
           "mode": "markers",
           "name": "NE",
           "orientation": "v",
           "showlegend": true,
           "type": "scatter",
           "x": [
            68.58,
            65.19,
            58.72,
            63.42,
            58.94,
            60.49,
            60.7,
            58.81,
            58.84,
            65.7,
            64.94
           ],
           "xaxis": "x",
           "y": [
            29.5,
            17.11,
            28.97,
            25.51,
            22.86,
            19.67,
            31.44,
            18.18,
            25.5,
            35.99,
            10.01
           ],
           "yaxis": "y"
          },
          {
           "customdata": [
            [
             75,
             "Joel Bitonio",
             1.51,
             null
            ],
            [
             2,
             "Amari Cooper",
             0.13,
             null
            ],
            [
             78,
             "Jack Conklin",
             1.06,
             null
            ],
            [
             7,
             "Jacoby Brissett",
             0.1,
             null
            ],
            [
             85,
             "David Njoku",
             0.36,
             null
            ],
            [
             55,
             "Ethan Pocic",
             1.58,
             null
            ],
            [
             24,
             "Nick Chubb",
             0.49,
             null
            ],
            [
             72,
             "Hjalte Froholdt",
             1.83,
             null
            ],
            [
             71,
             "Jedrick Wills",
             1.16,
             null
            ],
            [
             11,
             "Donovan Peoples-Jones",
             7.34,
             null
            ],
            [
             18,
             "David Bell",
             0.36,
             null
            ]
           ],
           "hovertemplate": "club=CLE<br>frameId=9<br>x=%{x}<br>y=%{y}<br>jerseyNumber=%{customdata[0]}<br>displayName=%{customdata[1]}<br>s=%{customdata[2]}<br>event=%{customdata[3]}<extra></extra>",
           "legendgroup": "CLE",
           "marker": {
            "color": "#311D00",
            "symbol": "circle"
           },
           "mode": "markers",
           "name": "CLE",
           "orientation": "v",
           "showlegend": true,
           "type": "scatter",
           "x": [
            57.23,
            56.72,
            56.9,
            56.65,
            57.04,
            57.66,
            49.81,
            57.03,
            57.06,
            54.81,
            56.7
           ],
           "xaxis": "x",
           "y": [
            25.74,
            9.22,
            20.4,
            23.55,
            28.59,
            24.13,
            23.34,
            22.3,
            27.26,
            24.96,
            30.43
           ],
           "yaxis": "y"
          },
          {
           "customdata": [
            [
             null,
             "football",
             1.73000001907349,
             null
            ]
           ],
           "hovertemplate": "club=football<br>frameId=9<br>x=%{x}<br>y=%{y}<br>jerseyNumber=%{customdata[0]}<br>displayName=%{customdata[1]}<br>s=%{customdata[2]}<br>event=%{customdata[3]}<extra></extra>",
           "legendgroup": "football",
           "marker": {
            "color": "#CBB67C",
            "symbol": "circle"
           },
           "mode": "markers",
           "name": "football",
           "orientation": "v",
           "showlegend": true,
           "type": "scatter",
           "x": [
            57.9900016784668
           ],
           "xaxis": "x",
           "y": [
            23.7000007629395
           ],
           "yaxis": "y"
          }
         ],
         "name": "9"
        },
        {
         "data": [
          {
           "customdata": [
            [
             32,
             "Devin McCourty",
             3.71,
             null
            ],
            [
             21,
             "Adrian Phillips",
             5.22,
             null
            ],
            [
             91,
             "Deatrich Wise",
             1.63,
             null
            ],
            [
             8,
             "Ja'Whaun Bentley",
             0.44,
             null
            ],
            [
             95,
             "Daniel Ekuale",
             1.58,
             null
            ],
            [
             48,
             "Jahlani Tavai",
             2.02,
             null
            ],
            [
             23,
             "Kyle Dugger",
             0.62,
             null
            ],
            [
             58,
             "Anfernee Jennings",
             1.73,
             null
            ],
            [
             90,
             "Christian Barmore",
             1.45,
             null
            ],
            [
             25,
             "Marcus Jones",
             0.64,
             null
            ],
            [
             13,
             "Jack Jones",
             0,
             null
            ]
           ],
           "hovertemplate": "club=NE<br>frameId=10<br>x=%{x}<br>y=%{y}<br>jerseyNumber=%{customdata[0]}<br>displayName=%{customdata[1]}<br>s=%{customdata[2]}<br>event=%{customdata[3]}<extra></extra>",
           "legendgroup": "NE",
           "marker": {
            "color": "#002244",
            "symbol": "circle"
           },
           "mode": "markers",
           "name": "NE",
           "orientation": "v",
           "showlegend": true,
           "type": "scatter",
           "x": [
            68.9,
            64.89,
            58.59,
            63.38,
            58.84,
            60.35,
            60.64,
            58.66,
            58.82,
            65.73,
            64.97
           ],
           "xaxis": "x",
           "y": [
            29.32,
            16.68,
            29.06,
            25.56,
            23.01,
            19.81,
            31.44,
            18.3,
            25.65,
            35.93,
            10.02
           ],
           "yaxis": "y"
          },
          {
           "customdata": [
            [
             75,
             "Joel Bitonio",
             1.8,
             null
            ],
            [
             2,
             "Amari Cooper",
             0.34,
             null
            ],
            [
             78,
             "Jack Conklin",
             1.56,
             null
            ],
            [
             7,
             "Jacoby Brissett",
             0.48,
             null
            ],
            [
             85,
             "David Njoku",
             0.74,
             null
            ],
            [
             55,
             "Ethan Pocic",
             1.98,
             null
            ],
            [
             24,
             "Nick Chubb",
             1.05,
             null
            ],
            [
             72,
             "Hjalte Froholdt",
             2.38,
             null
            ],
            [
             71,
             "Jedrick Wills",
             1.52,
             null
            ],
            [
             11,
             "Donovan Peoples-Jones",
             7.38,
             null
            ],
            [
             18,
             "David Bell",
             0.67,
             null
            ]
           ],
           "hovertemplate": "club=CLE<br>frameId=10<br>x=%{x}<br>y=%{y}<br>jerseyNumber=%{customdata[0]}<br>displayName=%{customdata[1]}<br>s=%{customdata[2]}<br>event=%{customdata[3]}<extra></extra>",
           "legendgroup": "CLE",
           "marker": {
            "color": "#311D00",
            "symbol": "circle"
           },
           "mode": "markers",
           "name": "CLE",
           "orientation": "v",
           "showlegend": true,
           "type": "scatter",
           "x": [
            57.32,
            56.75,
            56.91,
            56.61,
            57.04,
            57.65,
            49.89,
            57.06,
            57.05,
            54.69,
            56.75
           ],
           "xaxis": "x",
           "y": [
            25.9,
            9.23,
            20.56,
            23.58,
            28.64,
            24.36,
            23.41,
            22.53,
            27.42,
            24.22,
            30.43
           ],
           "yaxis": "y"
          },
          {
           "customdata": [
            [
             null,
             "football",
             3.17000007629395,
             null
            ]
           ],
           "hovertemplate": "club=football<br>frameId=10<br>x=%{x}<br>y=%{y}<br>jerseyNumber=%{customdata[0]}<br>displayName=%{customdata[1]}<br>s=%{customdata[2]}<br>event=%{customdata[3]}<extra></extra>",
           "legendgroup": "football",
           "marker": {
            "color": "#CBB67C",
            "symbol": "circle"
           },
           "mode": "markers",
           "name": "football",
           "orientation": "v",
           "showlegend": true,
           "type": "scatter",
           "x": [
            57.7700004577637
           ],
           "xaxis": "x",
           "y": [
            23.8099994659424
           ],
           "yaxis": "y"
          }
         ],
         "name": "10"
        },
        {
         "data": [
          {
           "customdata": [
            [
             32,
             "Devin McCourty",
             3.83,
             null
            ],
            [
             21,
             "Adrian Phillips",
             5.09,
             null
            ],
            [
             91,
             "Deatrich Wise",
             1.78,
             null
            ],
            [
             8,
             "Ja'Whaun Bentley",
             1.02,
             null
            ],
            [
             95,
             "Daniel Ekuale",
             1.9,
             null
            ],
            [
             48,
             "Jahlani Tavai",
             2.37,
             null
            ],
            [
             23,
             "Kyle Dugger",
             1.01,
             null
            ],
            [
             58,
             "Anfernee Jennings",
             2.21,
             null
            ],
            [
             90,
             "Christian Barmore",
             1.67,
             null
            ],
            [
             25,
             "Marcus Jones",
             0.55,
             null
            ],
            [
             13,
             "Jack Jones",
             0.05,
             null
            ]
           ],
           "hovertemplate": "club=NE<br>frameId=11<br>x=%{x}<br>y=%{y}<br>jerseyNumber=%{customdata[0]}<br>displayName=%{customdata[1]}<br>s=%{customdata[2]}<br>event=%{customdata[3]}<extra></extra>",
           "legendgroup": "NE",
           "marker": {
            "color": "#002244",
            "symbol": "circle"
           },
           "mode": "markers",
           "name": "NE",
           "orientation": "v",
           "showlegend": true,
           "type": "scatter",
           "x": [
            69.23,
            64.62,
            58.45,
            63.32,
            58.72,
            60.19,
            60.52,
            58.49,
            58.81,
            65.76,
            65.03
           ],
           "xaxis": "x",
           "y": [
            29.12,
            16.24,
            29.16,
            25.64,
            23.18,
            19.98,
            31.49,
            18.46,
            25.82,
            35.88,
            10.03
           ],
           "yaxis": "y"
          },
          {
           "customdata": [
            [
             75,
             "Joel Bitonio",
             2,
             null
            ],
            [
             2,
             "Amari Cooper",
             0.61,
             null
            ],
            [
             78,
             "Jack Conklin",
             2.18,
             null
            ],
            [
             7,
             "Jacoby Brissett",
             1.15,
             null
            ],
            [
             85,
             "David Njoku",
             1.12,
             null
            ],
            [
             55,
             "Ethan Pocic",
             2.32,
             null
            ],
            [
             24,
             "Nick Chubb",
             1.78,
             null
            ],
            [
             72,
             "Hjalte Froholdt",
             2.84,
             null
            ],
            [
             71,
             "Jedrick Wills",
             1.86,
             null
            ],
            [
             11,
             "Donovan Peoples-Jones",
             7.34,
             null
            ],
            [
             18,
             "David Bell",
             0.99,
             null
            ]
           ],
           "hovertemplate": "club=CLE<br>frameId=11<br>x=%{x}<br>y=%{y}<br>jerseyNumber=%{customdata[0]}<br>displayName=%{customdata[1]}<br>s=%{customdata[2]}<br>event=%{customdata[3]}<extra></extra>",
           "legendgroup": "CLE",
           "marker": {
            "color": "#311D00",
            "symbol": "circle"
           },
           "mode": "markers",
           "name": "CLE",
           "orientation": "v",
           "showlegend": true,
           "type": "scatter",
           "x": [
            57.41,
            56.81,
            56.94,
            56.53,
            57.04,
            57.65,
            50.01,
            57.1,
            57.03,
            54.57,
            56.84
           ],
           "xaxis": "x",
           "y": [
            26.08,
            9.23,
            20.81,
            23.65,
            28.74,
            24.62,
            23.53,
            22.81,
            27.61,
            23.49,
            30.48
           ],
           "yaxis": "y"
          },
          {
           "customdata": [
            [
             null,
             "football",
             4.44000005722046,
             null
            ]
           ],
           "hovertemplate": "club=football<br>frameId=11<br>x=%{x}<br>y=%{y}<br>jerseyNumber=%{customdata[0]}<br>displayName=%{customdata[1]}<br>s=%{customdata[2]}<br>event=%{customdata[3]}<extra></extra>",
           "legendgroup": "football",
           "marker": {
            "color": "#CBB67C",
            "symbol": "circle"
           },
           "mode": "markers",
           "name": "football",
           "orientation": "v",
           "showlegend": true,
           "type": "scatter",
           "x": [
            57.4199981689453
           ],
           "xaxis": "x",
           "y": [
            23.9899997711182
           ],
           "yaxis": "y"
          }
         ],
         "name": "11"
        },
        {
         "data": [
          {
           "customdata": [
            [
             32,
             "Devin McCourty",
             3.87,
             null
            ],
            [
             21,
             "Adrian Phillips",
             4.92,
             null
            ],
            [
             91,
             "Deatrich Wise",
             1.94,
             null
            ],
            [
             8,
             "Ja'Whaun Bentley",
             1.6,
             null
            ],
            [
             95,
             "Daniel Ekuale",
             2.09,
             null
            ],
            [
             48,
             "Jahlani Tavai",
             2.72,
             null
            ],
            [
             23,
             "Kyle Dugger",
             1.45,
             null
            ],
            [
             58,
             "Anfernee Jennings",
             2.6,
             null
            ],
            [
             90,
             "Christian Barmore",
             1.97,
             null
            ],
            [
             25,
             "Marcus Jones",
             0.51,
             null
            ],
            [
             13,
             "Jack Jones",
             0.45,
             null
            ]
           ],
           "hovertemplate": "club=NE<br>frameId=12<br>x=%{x}<br>y=%{y}<br>jerseyNumber=%{customdata[0]}<br>displayName=%{customdata[1]}<br>s=%{customdata[2]}<br>event=%{customdata[3]}<extra></extra>",
           "legendgroup": "NE",
           "marker": {
            "color": "#002244",
            "symbol": "circle"
           },
           "mode": "markers",
           "name": "NE",
           "orientation": "v",
           "showlegend": true,
           "type": "scatter",
           "x": [
            69.57,
            64.37,
            58.3,
            63.25,
            58.6,
            60.04,
            60.38,
            58.31,
            58.85,
            65.8,
            65.05
           ],
           "xaxis": "x",
           "y": [
            28.94,
            15.81,
            29.28,
            25.78,
            23.36,
            20.2,
            31.54,
            18.65,
            26.04,
            35.84,
            10.04
           ],
           "yaxis": "y"
          },
          {
           "customdata": [
            [
             75,
             "Joel Bitonio",
             2.13,
             null
            ],
            [
             2,
             "Amari Cooper",
             0.96,
             null
            ],
            [
             78,
             "Jack Conklin",
             2.75,
             null
            ],
            [
             7,
             "Jacoby Brissett",
             1.98,
             null
            ],
            [
             85,
             "David Njoku",
             1.48,
             null
            ],
            [
             55,
             "Ethan Pocic",
             2.63,
             null
            ],
            [
             24,
             "Nick Chubb",
             2.6,
             null
            ],
            [
             72,
             "Hjalte Froholdt",
             3.17,
             null
            ],
            [
             71,
             "Jedrick Wills",
             2.25,
             null
            ],
            [
             11,
             "Donovan Peoples-Jones",
             7.26,
             null
            ],
            [
             18,
             "David Bell",
             1.27,
             null
            ]
           ],
           "hovertemplate": "club=CLE<br>frameId=12<br>x=%{x}<br>y=%{y}<br>jerseyNumber=%{customdata[0]}<br>displayName=%{customdata[1]}<br>s=%{customdata[2]}<br>event=%{customdata[3]}<extra></extra>",
           "legendgroup": "CLE",
           "marker": {
            "color": "#311D00",
            "symbol": "circle"
           },
           "mode": "markers",
           "name": "CLE",
           "orientation": "v",
           "showlegend": true,
           "type": "scatter",
           "x": [
            57.51,
            56.9,
            56.98,
            56.4,
            57.02,
            57.65,
            50.18,
            57.13,
            57,
            54.45,
            56.93
           ],
           "xaxis": "x",
           "y": [
            26.27,
            9.24,
            21.1,
            23.77,
            28.87,
            24.9,
            23.72,
            23.14,
            27.85,
            22.76,
            30.55
           ],
           "yaxis": "y"
          },
          {
           "customdata": [
            [
             null,
             "football",
             5.46000003814697,
             null
            ]
           ],
           "hovertemplate": "club=football<br>frameId=12<br>x=%{x}<br>y=%{y}<br>jerseyNumber=%{customdata[0]}<br>displayName=%{customdata[1]}<br>s=%{customdata[2]}<br>event=%{customdata[3]}<extra></extra>",
           "legendgroup": "football",
           "marker": {
            "color": "#CBB67C",
            "symbol": "circle"
           },
           "mode": "markers",
           "name": "football",
           "orientation": "v",
           "showlegend": true,
           "type": "scatter",
           "x": [
            56.9700012207031
           ],
           "xaxis": "x",
           "y": [
            24.2099990844727
           ],
           "yaxis": "y"
          }
         ],
         "name": "12"
        },
        {
         "data": [
          {
           "customdata": [
            [
             32,
             "Devin McCourty",
             3.88,
             null
            ],
            [
             21,
             "Adrian Phillips",
             4.74,
             null
            ],
            [
             91,
             "Deatrich Wise",
             2.06,
             null
            ],
            [
             8,
             "Ja'Whaun Bentley",
             2.05,
             null
            ],
            [
             95,
             "Daniel Ekuale",
             2.41,
             null
            ],
            [
             48,
             "Jahlani Tavai",
             3.03,
             null
            ],
            [
             23,
             "Kyle Dugger",
             1.81,
             null
            ],
            [
             58,
             "Anfernee Jennings",
             2.99,
             null
            ],
            [
             90,
             "Christian Barmore",
             2.16,
             null
            ],
            [
             25,
             "Marcus Jones",
             0.51,
             null
            ],
            [
             13,
             "Jack Jones",
             1.13,
             null
            ]
           ],
           "hovertemplate": "club=NE<br>frameId=13<br>x=%{x}<br>y=%{y}<br>jerseyNumber=%{customdata[0]}<br>displayName=%{customdata[1]}<br>s=%{customdata[2]}<br>event=%{customdata[3]}<extra></extra>",
           "legendgroup": "NE",
           "marker": {
            "color": "#002244",
            "symbol": "circle"
           },
           "mode": "markers",
           "name": "NE",
           "orientation": "v",
           "showlegend": true,
           "type": "scatter",
           "x": [
            69.91,
            64.15,
            58.14,
            63.16,
            58.48,
            59.92,
            60.22,
            58.12,
            58.86,
            65.83,
            65.14
           ],
           "xaxis": "x",
           "y": [
            28.76,
            15.38,
            29.43,
            25.94,
            23.6,
            20.46,
            31.6,
            18.87,
            26.27,
            35.81,
            10.05
           ],
           "yaxis": "y"
          },
          {
           "customdata": [
            [
             75,
             "Joel Bitonio",
             2.32,
             null
            ],
            [
             2,
             "Amari Cooper",
             1.47,
             null
            ],
            [
             78,
             "Jack Conklin",
             3.18,
             null
            ],
            [
             7,
             "Jacoby Brissett",
             2.7,
             null
            ],
            [
             85,
             "David Njoku",
             1.84,
             null
            ],
            [
             55,
             "Ethan Pocic",
             3,
             null
            ],
            [
             24,
             "Nick Chubb",
             3.25,
             null
            ],
            [
             72,
             "Hjalte Froholdt",
             3.49,
             null
            ],
            [
             71,
             "Jedrick Wills",
             2.49,
             null
            ],
            [
             11,
             "Donovan Peoples-Jones",
             7.18,
             null
            ],
            [
             18,
             "David Bell",
             1.53,
             null
            ]
           ],
           "hovertemplate": "club=CLE<br>frameId=13<br>x=%{x}<br>y=%{y}<br>jerseyNumber=%{customdata[0]}<br>displayName=%{customdata[1]}<br>s=%{customdata[2]}<br>event=%{customdata[3]}<extra></extra>",
           "legendgroup": "CLE",
           "marker": {
            "color": "#311D00",
            "symbol": "circle"
           },
           "mode": "markers",
           "name": "CLE",
           "orientation": "v",
           "showlegend": true,
           "type": "scatter",
           "x": [
            57.63,
            57.06,
            57.03,
            56.21,
            56.98,
            57.69,
            50.39,
            57.16,
            56.97,
            54.34,
            57.02
           ],
           "xaxis": "x",
           "y": [
            26.48,
            9.26,
            21.42,
            23.93,
            29.04,
            25.23,
            23.94,
            23.51,
            28.09,
            22.05,
            30.67
           ],
           "yaxis": "y"
          },
          {
           "customdata": [
            [
             null,
             "football",
             6.15999984741211,
             null
            ]
           ],
           "hovertemplate": "club=football<br>frameId=13<br>x=%{x}<br>y=%{y}<br>jerseyNumber=%{customdata[0]}<br>displayName=%{customdata[1]}<br>s=%{customdata[2]}<br>event=%{customdata[3]}<extra></extra>",
           "legendgroup": "football",
           "marker": {
            "color": "#CBB67C",
            "symbol": "circle"
           },
           "mode": "markers",
           "name": "football",
           "orientation": "v",
           "showlegend": true,
           "type": "scatter",
           "x": [
            56.4700012207031
           ],
           "xaxis": "x",
           "y": [
            24.4699993133545
           ],
           "yaxis": "y"
          }
         ],
         "name": "13"
        },
        {
         "data": [
          {
           "customdata": [
            [
             32,
             "Devin McCourty",
             3.74,
             null
            ],
            [
             21,
             "Adrian Phillips",
             4.54,
             null
            ],
            [
             91,
             "Deatrich Wise",
             2.13,
             null
            ],
            [
             8,
             "Ja'Whaun Bentley",
             2.54,
             null
            ],
            [
             95,
             "Daniel Ekuale",
             2.6,
             null
            ],
            [
             48,
             "Jahlani Tavai",
             3.33,
             null
            ],
            [
             23,
             "Kyle Dugger",
             2.21,
             null
            ],
            [
             58,
             "Anfernee Jennings",
             3.29,
             null
            ],
            [
             90,
             "Christian Barmore",
             2.31,
             null
            ],
            [
             25,
             "Marcus Jones",
             0.46,
             null
            ],
            [
             13,
             "Jack Jones",
             1.91,
             null
            ]
           ],
           "hovertemplate": "club=NE<br>frameId=14<br>x=%{x}<br>y=%{y}<br>jerseyNumber=%{customdata[0]}<br>displayName=%{customdata[1]}<br>s=%{customdata[2]}<br>event=%{customdata[3]}<extra></extra>",
           "legendgroup": "NE",
           "marker": {
            "color": "#002244",
            "symbol": "circle"
           },
           "mode": "markers",
           "name": "NE",
           "orientation": "v",
           "showlegend": true,
           "type": "scatter",
           "x": [
            70.24,
            63.97,
            57.99,
            63.04,
            58.35,
            59.8,
            60.02,
            57.92,
            58.89,
            65.88,
            65.31
           ],
           "xaxis": "x",
           "y": [
            28.59,
            14.96,
            29.58,
            26.16,
            23.84,
            20.76,
            31.69,
            19.11,
            26.51,
            35.79,
            10.08
           ],
           "yaxis": "y"
          },
          {
           "customdata": [
            [
             75,
             "Joel Bitonio",
             2.57,
             null
            ],
            [
             2,
             "Amari Cooper",
             1.9,
             null
            ],
            [
             78,
             "Jack Conklin",
             3.54,
             null
            ],
            [
             7,
             "Jacoby Brissett",
             3.47,
             null
            ],
            [
             85,
             "David Njoku",
             2.1,
             null
            ],
            [
             55,
             "Ethan Pocic",
             3.24,
             null
            ],
            [
             24,
             "Nick Chubb",
             3.98,
             null
            ],
            [
             72,
             "Hjalte Froholdt",
             3.66,
             null
            ],
            [
             71,
             "Jedrick Wills",
             2.72,
             null
            ],
            [
             11,
             "Donovan Peoples-Jones",
             7.07,
             null
            ],
            [
             18,
             "David Bell",
             1.79,
             null
            ]
           ],
           "hovertemplate": "club=CLE<br>frameId=14<br>x=%{x}<br>y=%{y}<br>jerseyNumber=%{customdata[0]}<br>displayName=%{customdata[1]}<br>s=%{customdata[2]}<br>event=%{customdata[3]}<extra></extra>",
           "legendgroup": "CLE",
           "marker": {
            "color": "#311D00",
            "symbol": "circle"
           },
           "mode": "markers",
           "name": "CLE",
           "orientation": "v",
           "showlegend": true,
           "type": "scatter",
           "x": [
            57.76,
            57.25,
            57.09,
            55.94,
            56.93,
            57.74,
            50.66,
            57.17,
            56.95,
            54.23,
            57.13
           ],
           "xaxis": "x",
           "y": [
            26.72,
            9.3,
            21.77,
            24.13,
            29.23,
            25.56,
            24.23,
            23.89,
            28.37,
            21.34,
            30.8
           ],
           "yaxis": "y"
          },
          {
           "customdata": [
            [
             null,
             "football",
             6.59000015258789,
             null
            ]
           ],
           "hovertemplate": "club=football<br>frameId=14<br>x=%{x}<br>y=%{y}<br>jerseyNumber=%{customdata[0]}<br>displayName=%{customdata[1]}<br>s=%{customdata[2]}<br>event=%{customdata[3]}<extra></extra>",
           "legendgroup": "football",
           "marker": {
            "color": "#CBB67C",
            "symbol": "circle"
           },
           "mode": "markers",
           "name": "football",
           "orientation": "v",
           "showlegend": true,
           "type": "scatter",
           "x": [
            55.9300003051758
           ],
           "xaxis": "x",
           "y": [
            24.7700004577637
           ],
           "yaxis": "y"
          }
         ],
         "name": "14"
        },
        {
         "data": [
          {
           "customdata": [
            [
             32,
             "Devin McCourty",
             3.57,
             null
            ],
            [
             21,
             "Adrian Phillips",
             4.31,
             null
            ],
            [
             91,
             "Deatrich Wise",
             2.18,
             null
            ],
            [
             8,
             "Ja'Whaun Bentley",
             2.91,
             null
            ],
            [
             95,
             "Daniel Ekuale",
             2.72,
             null
            ],
            [
             48,
             "Jahlani Tavai",
             3.62,
             null
            ],
            [
             23,
             "Kyle Dugger",
             2.65,
             null
            ],
            [
             58,
             "Anfernee Jennings",
             3.59,
             null
            ],
            [
             90,
             "Christian Barmore",
             2.36,
             null
            ],
            [
             25,
             "Marcus Jones",
             0.42,
             null
            ],
            [
             13,
             "Jack Jones",
             2.67,
             null
            ]
           ],
           "hovertemplate": "club=NE<br>frameId=15<br>x=%{x}<br>y=%{y}<br>jerseyNumber=%{customdata[0]}<br>displayName=%{customdata[1]}<br>s=%{customdata[2]}<br>event=%{customdata[3]}<extra></extra>",
           "legendgroup": "NE",
           "marker": {
            "color": "#002244",
            "symbol": "circle"
           },
           "mode": "markers",
           "name": "NE",
           "orientation": "v",
           "showlegend": true,
           "type": "scatter",
           "x": [
            70.56,
            63.82,
            57.84,
            62.91,
            58.22,
            59.71,
            59.79,
            57.71,
            58.92,
            65.92,
            65.55
           ],
           "xaxis": "x",
           "y": [
            28.44,
            14.54,
            29.75,
            26.4,
            24.09,
            21.11,
            31.8,
            19.39,
            26.74,
            35.79,
            10.13
           ],
           "yaxis": "y"
          },
          {
           "customdata": [
            [
             75,
             "Joel Bitonio",
             2.79,
             null
            ],
            [
             2,
             "Amari Cooper",
             2.31,
             null
            ],
            [
             78,
             "Jack Conklin",
             3.81,
             null
            ],
            [
             7,
             "Jacoby Brissett",
             4.01,
             null
            ],
            [
             85,
             "David Njoku",
             2.32,
             null
            ],
            [
             55,
             "Ethan Pocic",
             3.43,
             null
            ],
            [
             24,
             "Nick Chubb",
             4.66,
             null
            ],
            [
             72,
             "Hjalte Froholdt",
             3.72,
             null
            ],
            [
             71,
             "Jedrick Wills",
             2.89,
             null
            ],
            [
             11,
             "Donovan Peoples-Jones",
             6.91,
             null
            ],
            [
             18,
             "David Bell",
             1.96,
             null
            ]
           ],
           "hovertemplate": "club=CLE<br>frameId=15<br>x=%{x}<br>y=%{y}<br>jerseyNumber=%{customdata[0]}<br>displayName=%{customdata[1]}<br>s=%{customdata[2]}<br>event=%{customdata[3]}<extra></extra>",
           "legendgroup": "CLE",
           "marker": {
            "color": "#311D00",
            "symbol": "circle"
           },
           "mode": "markers",
           "name": "CLE",
           "orientation": "v",
           "showlegend": true,
           "type": "scatter",
           "x": [
            57.89,
            57.47,
            57.16,
            55.65,
            56.87,
            57.82,
            50.96,
            57.18,
            56.92,
            54.16,
            57.25
           ],
           "xaxis": "x",
           "y": [
            26.99,
            9.36,
            22.16,
            24.36,
            29.44,
            25.91,
            24.57,
            24.27,
            28.67,
            20.64,
            30.95
           ],
           "yaxis": "y"
          },
          {
           "customdata": [
            [
             null,
             "football",
             6.67000007629395,
             null
            ]
           ],
           "hovertemplate": "club=football<br>frameId=15<br>x=%{x}<br>y=%{y}<br>jerseyNumber=%{customdata[0]}<br>displayName=%{customdata[1]}<br>s=%{customdata[2]}<br>event=%{customdata[3]}<extra></extra>",
           "legendgroup": "football",
           "marker": {
            "color": "#CBB67C",
            "symbol": "circle"
           },
           "mode": "markers",
           "name": "football",
           "orientation": "v",
           "showlegend": true,
           "type": "scatter",
           "x": [
            55.3899993896484
           ],
           "xaxis": "x",
           "y": [
            25.0900001525879
           ],
           "yaxis": "y"
          }
         ],
         "name": "15"
        },
        {
         "data": [
          {
           "customdata": [
            [
             32,
             "Devin McCourty",
             3.4,
             null
            ],
            [
             21,
             "Adrian Phillips",
             3.96,
             null
            ],
            [
             91,
             "Deatrich Wise",
             2.23,
             null
            ],
            [
             8,
             "Ja'Whaun Bentley",
             3.32,
             null
            ],
            [
             95,
             "Daniel Ekuale",
             2.84,
             null
            ],
            [
             48,
             "Jahlani Tavai",
             3.94,
             null
            ],
            [
             23,
             "Kyle Dugger",
             2.95,
             null
            ],
            [
             58,
             "Anfernee Jennings",
             3.84,
             null
            ],
            [
             90,
             "Christian Barmore",
             2.57,
             null
            ],
            [
             25,
             "Marcus Jones",
             0.46,
             null
            ],
            [
             13,
             "Jack Jones",
             3.26,
             null
            ]
           ],
           "hovertemplate": "club=NE<br>frameId=16<br>x=%{x}<br>y=%{y}<br>jerseyNumber=%{customdata[0]}<br>displayName=%{customdata[1]}<br>s=%{customdata[2]}<br>event=%{customdata[3]}<extra></extra>",
           "legendgroup": "NE",
           "marker": {
            "color": "#002244",
            "symbol": "circle"
           },
           "mode": "markers",
           "name": "NE",
           "orientation": "v",
           "showlegend": true,
           "type": "scatter",
           "x": [
            70.88,
            63.72,
            57.71,
            62.76,
            58.09,
            59.65,
            59.54,
            57.49,
            58.98,
            65.96,
            65.85
           ],
           "xaxis": "x",
           "y": [
            28.29,
            14.16,
            29.94,
            26.68,
            24.36,
            21.49,
            31.92,
            19.7,
            27.02,
            35.81,
            10.17
           ],
           "yaxis": "y"
          },
          {
           "customdata": [
            [
             75,
             "Joel Bitonio",
             2.89,
             null
            ],
            [
             2,
             "Amari Cooper",
             2.66,
             null
            ],
            [
             78,
             "Jack Conklin",
             4.2,
             null
            ],
            [
             7,
             "Jacoby Brissett",
             4.43,
             null
            ],
            [
             85,
             "David Njoku",
             2.45,
             null
            ],
            [
             55,
             "Ethan Pocic",
             3.62,
             null
            ],
            [
             24,
             "Nick Chubb",
             5.16,
             null
            ],
            [
             72,
             "Hjalte Froholdt",
             3.83,
             null
            ],
            [
             71,
             "Jedrick Wills",
             2.97,
             null
            ],
            [
             11,
             "Donovan Peoples-Jones",
             6.72,
             null
            ],
            [
             18,
             "David Bell",
             2.07,
             null
            ]
           ],
           "hovertemplate": "club=CLE<br>frameId=16<br>x=%{x}<br>y=%{y}<br>jerseyNumber=%{customdata[0]}<br>displayName=%{customdata[1]}<br>s=%{customdata[2]}<br>event=%{customdata[3]}<extra></extra>",
           "legendgroup": "CLE",
           "marker": {
            "color": "#311D00",
            "symbol": "circle"
           },
           "mode": "markers",
           "name": "CLE",
           "orientation": "v",
           "showlegend": true,
           "type": "scatter",
           "x": [
            58.01,
            57.72,
            57.27,
            55.32,
            56.82,
            57.94,
            51.3,
            57.16,
            56.9,
            54.12,
            57.32
           ],
           "xaxis": "x",
           "y": [
            27.25,
            9.43,
            22.6,
            24.61,
            29.67,
            26.28,
            24.94,
            24.69,
            28.97,
            19.96,
            31.13
           ],
           "yaxis": "y"
          },
          {
           "customdata": [
            [
             null,
             "football",
             6.63000011444092,
             null
            ]
           ],
           "hovertemplate": "club=football<br>frameId=16<br>x=%{x}<br>y=%{y}<br>jerseyNumber=%{customdata[0]}<br>displayName=%{customdata[1]}<br>s=%{customdata[2]}<br>event=%{customdata[3]}<extra></extra>",
           "legendgroup": "football",
           "marker": {
            "color": "#CBB67C",
            "symbol": "circle"
           },
           "mode": "markers",
           "name": "football",
           "orientation": "v",
           "showlegend": true,
           "type": "scatter",
           "x": [
            54.8499984741211
           ],
           "xaxis": "x",
           "y": [
            25.4400005340576
           ],
           "yaxis": "y"
          }
         ],
         "name": "16"
        },
        {
         "data": [
          {
           "customdata": [
            [
             32,
             "Devin McCourty",
             3.27,
             null
            ],
            [
             21,
             "Adrian Phillips",
             3.67,
             null
            ],
            [
             91,
             "Deatrich Wise",
             2.35,
             null
            ],
            [
             8,
             "Ja'Whaun Bentley",
             3.64,
             null
            ],
            [
             95,
             "Daniel Ekuale",
             3.03,
             null
            ],
            [
             48,
             "Jahlani Tavai",
             4.22,
             null
            ],
            [
             23,
             "Kyle Dugger",
             3.16,
             null
            ],
            [
             58,
             "Anfernee Jennings",
             4.05,
             null
            ],
            [
             90,
             "Christian Barmore",
             2.76,
             null
            ],
            [
             25,
             "Marcus Jones",
             0.58,
             null
            ],
            [
             13,
             "Jack Jones",
             3.73,
             null
            ]
           ],
           "hovertemplate": "club=NE<br>frameId=17<br>x=%{x}<br>y=%{y}<br>jerseyNumber=%{customdata[0]}<br>displayName=%{customdata[1]}<br>s=%{customdata[2]}<br>event=%{customdata[3]}<extra></extra>",
           "legendgroup": "NE",
           "marker": {
            "color": "#002244",
            "symbol": "circle"
           },
           "mode": "markers",
           "name": "NE",
           "orientation": "v",
           "showlegend": true,
           "type": "scatter",
           "x": [
            71.18,
            63.65,
            57.59,
            62.59,
            57.96,
            59.61,
            59.27,
            57.28,
            59.08,
            66,
            66.19
           ],
           "xaxis": "x",
           "y": [
            28.15,
            13.79,
            30.17,
            26.99,
            24.66,
            21.91,
            32.07,
            20.03,
            27.3,
            35.84,
            10.22
           ],
           "yaxis": "y"
          },
          {
           "customdata": [
            [
             75,
             "Joel Bitonio",
             3.08,
             null
            ],
            [
             2,
             "Amari Cooper",
             2.98,
             null
            ],
            [
             78,
             "Jack Conklin",
             4.36,
             null
            ],
            [
             7,
             "Jacoby Brissett",
             4.73,
             null
            ],
            [
             85,
             "David Njoku",
             2.61,
             null
            ],
            [
             55,
             "Ethan Pocic",
             3.8,
             null
            ],
            [
             24,
             "Nick Chubb",
             5.53,
             null
            ],
            [
             72,
             "Hjalte Froholdt",
             3.94,
             null
            ],
            [
             71,
             "Jedrick Wills",
             3.04,
             null
            ],
            [
             11,
             "Donovan Peoples-Jones",
             6.5,
             null
            ],
            [
             18,
             "David Bell",
             2.13,
             null
            ]
           ],
           "hovertemplate": "club=CLE<br>frameId=17<br>x=%{x}<br>y=%{y}<br>jerseyNumber=%{customdata[0]}<br>displayName=%{customdata[1]}<br>s=%{customdata[2]}<br>event=%{customdata[3]}<extra></extra>",
           "legendgroup": "CLE",
           "marker": {
            "color": "#311D00",
            "symbol": "circle"
           },
           "mode": "markers",
           "name": "CLE",
           "orientation": "v",
           "showlegend": true,
           "type": "scatter",
           "x": [
            58.14,
            58,
            57.38,
            54.94,
            56.74,
            58.06,
            51.66,
            57.16,
            56.86,
            54.13,
            57.4
           ],
           "xaxis": "x",
           "y": [
            27.55,
            9.51,
            23.03,
            24.87,
            29.92,
            26.67,
            25.33,
            25.11,
            29.29,
            19.31,
            31.32
           ],
           "yaxis": "y"
          },
          {
           "customdata": [
            [
             null,
             "football",
             6.03999996185303,
             null
            ]
           ],
           "hovertemplate": "club=football<br>frameId=17<br>x=%{x}<br>y=%{y}<br>jerseyNumber=%{customdata[0]}<br>displayName=%{customdata[1]}<br>s=%{customdata[2]}<br>event=%{customdata[3]}<extra></extra>",
           "legendgroup": "football",
           "marker": {
            "color": "#CBB67C",
            "symbol": "circle"
           },
           "mode": "markers",
           "name": "football",
           "orientation": "v",
           "showlegend": true,
           "type": "scatter",
           "x": [
            54.439998626709
           ],
           "xaxis": "x",
           "y": [
            25.8099994659424
           ],
           "yaxis": "y"
          }
         ],
         "name": "17"
        },
        {
         "data": [
          {
           "customdata": [
            [
             32,
             "Devin McCourty",
             3.05,
             null
            ],
            [
             21,
             "Adrian Phillips",
             3.45,
             null
            ],
            [
             91,
             "Deatrich Wise",
             2.56,
             null
            ],
            [
             8,
             "Ja'Whaun Bentley",
             4.01,
             null
            ],
            [
             95,
             "Daniel Ekuale",
             3.06,
             null
            ],
            [
             48,
             "Jahlani Tavai",
             4.48,
             null
            ],
            [
             23,
             "Kyle Dugger",
             3.25,
             null
            ],
            [
             58,
             "Anfernee Jennings",
             4.3,
             null
            ],
            [
             90,
             "Christian Barmore",
             2.87,
             null
            ],
            [
             25,
             "Marcus Jones",
             0.76,
             null
            ],
            [
             13,
             "Jack Jones",
             4.07,
             null
            ]
           ],
           "hovertemplate": "club=NE<br>frameId=18<br>x=%{x}<br>y=%{y}<br>jerseyNumber=%{customdata[0]}<br>displayName=%{customdata[1]}<br>s=%{customdata[2]}<br>event=%{customdata[3]}<extra></extra>",
           "legendgroup": "NE",
           "marker": {
            "color": "#002244",
            "symbol": "circle"
           },
           "mode": "markers",
           "name": "NE",
           "orientation": "v",
           "showlegend": true,
           "type": "scatter",
           "x": [
            71.48,
            63.61,
            57.48,
            62.43,
            57.82,
            59.6,
            58.99,
            57.07,
            59.18,
            66.04,
            66.57
           ],
           "xaxis": "x",
           "y": [
            28.04,
            13.44,
            30.43,
            27.35,
            24.94,
            22.35,
            32.23,
            20.4,
            27.59,
            35.91,
            10.29
           ],
           "yaxis": "y"
          },
          {
           "customdata": [
            [
             75,
             "Joel Bitonio",
             3.19,
             null
            ],
            [
             2,
             "Amari Cooper",
             3.32,
             null
            ],
            [
             78,
             "Jack Conklin",
             4.51,
             null
            ],
            [
             7,
             "Jacoby Brissett",
             4.79,
             null
            ],
            [
             85,
             "David Njoku",
             2.79,
             null
            ],
            [
             55,
             "Ethan Pocic",
             3.9,
             null
            ],
            [
             24,
             "Nick Chubb",
             5.82,
             null
            ],
            [
             72,
             "Hjalte Froholdt",
             3.97,
             null
            ],
            [
             71,
             "Jedrick Wills",
             3.02,
             null
            ],
            [
             11,
             "Donovan Peoples-Jones",
             6.35,
             null
            ],
            [
             18,
             "David Bell",
             2.18,
             null
            ]
           ],
           "hovertemplate": "club=CLE<br>frameId=18<br>x=%{x}<br>y=%{y}<br>jerseyNumber=%{customdata[0]}<br>displayName=%{customdata[1]}<br>s=%{customdata[2]}<br>event=%{customdata[3]}<extra></extra>",
           "legendgroup": "CLE",
           "marker": {
            "color": "#311D00",
            "symbol": "circle"
           },
           "mode": "markers",
           "name": "CLE",
           "orientation": "v",
           "showlegend": true,
           "type": "scatter",
           "x": [
            58.27,
            58.3,
            57.5,
            54.55,
            56.66,
            58.18,
            52.04,
            57.14,
            56.84,
            54.18,
            57.42
           ],
           "xaxis": "x",
           "y": [
            27.85,
            9.62,
            23.49,
            25.09,
            30.19,
            27.05,
            25.76,
            25.53,
            29.59,
            18.66,
            31.52
           ],
           "yaxis": "y"
          },
          {
           "customdata": [
            [
             null,
             "football",
             5.80999994277954,
             null
            ]
           ],
           "hovertemplate": "club=football<br>frameId=18<br>x=%{x}<br>y=%{y}<br>jerseyNumber=%{customdata[0]}<br>displayName=%{customdata[1]}<br>s=%{customdata[2]}<br>event=%{customdata[3]}<extra></extra>",
           "legendgroup": "football",
           "marker": {
            "color": "#CBB67C",
            "symbol": "circle"
           },
           "mode": "markers",
           "name": "football",
           "orientation": "v",
           "showlegend": true,
           "type": "scatter",
           "x": [
            53.9700012207031
           ],
           "xaxis": "x",
           "y": [
            26.1800003051758
           ],
           "yaxis": "y"
          }
         ],
         "name": "18"
        },
        {
         "data": [
          {
           "customdata": [
            [
             32,
             "Devin McCourty",
             2.7,
             null
            ],
            [
             21,
             "Adrian Phillips",
             3.3,
             null
            ],
            [
             91,
             "Deatrich Wise",
             2.68,
             null
            ],
            [
             8,
             "Ja'Whaun Bentley",
             4.17,
             null
            ],
            [
             95,
             "Daniel Ekuale",
             3.05,
             null
            ],
            [
             48,
             "Jahlani Tavai",
             4.64,
             null
            ],
            [
             23,
             "Kyle Dugger",
             2.99,
             null
            ],
            [
             58,
             "Anfernee Jennings",
             4.46,
             null
            ],
            [
             90,
             "Christian Barmore",
             2.94,
             null
            ],
            [
             25,
             "Marcus Jones",
             0.87,
             null
            ],
            [
             13,
             "Jack Jones",
             4.26,
             null
            ]
           ],
           "hovertemplate": "club=NE<br>frameId=19<br>x=%{x}<br>y=%{y}<br>jerseyNumber=%{customdata[0]}<br>displayName=%{customdata[1]}<br>s=%{customdata[2]}<br>event=%{customdata[3]}<extra></extra>",
           "legendgroup": "NE",
           "marker": {
            "color": "#002244",
            "symbol": "circle"
           },
           "mode": "markers",
           "name": "NE",
           "orientation": "v",
           "showlegend": true,
           "type": "scatter",
           "x": [
            71.73,
            63.6,
            57.38,
            62.26,
            57.7,
            59.6,
            58.74,
            56.87,
            59.29,
            66.07,
            66.98
           ],
           "xaxis": "x",
           "y": [
            27.93,
            13.1,
            30.68,
            27.72,
            25.22,
            22.81,
            32.38,
            20.8,
            27.89,
            35.98,
            10.35
           ],
           "yaxis": "y"
          },
          {
           "customdata": [
            [
             75,
             "Joel Bitonio",
             3.5,
             null
            ],
            [
             2,
             "Amari Cooper",
             3.6,
             null
            ],
            [
             78,
             "Jack Conklin",
             4.71,
             null
            ],
            [
             7,
             "Jacoby Brissett",
             4.81,
             null
            ],
            [
             85,
             "David Njoku",
             2.88,
             null
            ],
            [
             55,
             "Ethan Pocic",
             3.98,
             null
            ],
            [
             24,
             "Nick Chubb",
             6.08,
             null
            ],
            [
             72,
             "Hjalte Froholdt",
             3.96,
             null
            ],
            [
             71,
             "Jedrick Wills",
             3.12,
             null
            ],
            [
             11,
             "Donovan Peoples-Jones",
             6.17,
             null
            ],
            [
             18,
             "David Bell",
             2.26,
             null
            ]
           ],
           "hovertemplate": "club=CLE<br>frameId=19<br>x=%{x}<br>y=%{y}<br>jerseyNumber=%{customdata[0]}<br>displayName=%{customdata[1]}<br>s=%{customdata[2]}<br>event=%{customdata[3]}<extra></extra>",
           "legendgroup": "CLE",
           "marker": {
            "color": "#311D00",
            "symbol": "circle"
           },
           "mode": "markers",
           "name": "CLE",
           "orientation": "v",
           "showlegend": true,
           "type": "scatter",
           "x": [
            58.42,
            58.62,
            57.66,
            54.13,
            56.59,
            58.33,
            52.43,
            57.11,
            56.83,
            54.27,
            57.41
           ],
           "xaxis": "x",
           "y": [
            28.2,
            9.76,
            23.97,
            25.32,
            30.47,
            27.44,
            26.21,
            25.93,
            29.93,
            18.04,
            31.75
           ],
           "yaxis": "y"
          },
          {
           "customdata": [
            [
             null,
             "football",
             4.78000020980835,
             null
            ]
           ],
           "hovertemplate": "club=football<br>frameId=19<br>x=%{x}<br>y=%{y}<br>jerseyNumber=%{customdata[0]}<br>displayName=%{customdata[1]}<br>s=%{customdata[2]}<br>event=%{customdata[3]}<extra></extra>",
           "legendgroup": "football",
           "marker": {
            "color": "#CBB67C",
            "symbol": "circle"
           },
           "mode": "markers",
           "name": "football",
           "orientation": "v",
           "showlegend": true,
           "type": "scatter",
           "x": [
            53.8600006103516
           ],
           "xaxis": "x",
           "y": [
            26.6200008392334
           ],
           "yaxis": "y"
          }
         ],
         "name": "19"
        },
        {
         "data": [
          {
           "customdata": [
            [
             32,
             "Devin McCourty",
             2.25,
             "handoff"
            ],
            [
             21,
             "Adrian Phillips",
             3.17,
             "handoff"
            ],
            [
             91,
             "Deatrich Wise",
             2.87,
             "handoff"
            ],
            [
             8,
             "Ja'Whaun Bentley",
             4.29,
             "handoff"
            ],
            [
             95,
             "Daniel Ekuale",
             3.02,
             "handoff"
            ],
            [
             48,
             "Jahlani Tavai",
             4.82,
             "handoff"
            ],
            [
             23,
             "Kyle Dugger",
             2.87,
             "handoff"
            ],
            [
             58,
             "Anfernee Jennings",
             4.58,
             "handoff"
            ],
            [
             90,
             "Christian Barmore",
             3.02,
             "handoff"
            ],
            [
             25,
             "Marcus Jones",
             0.98,
             "handoff"
            ],
            [
             13,
             "Jack Jones",
             4.35,
             "handoff"
            ]
           ],
           "hovertemplate": "club=NE<br>frameId=20<br>x=%{x}<br>y=%{y}<br>jerseyNumber=%{customdata[0]}<br>displayName=%{customdata[1]}<br>s=%{customdata[2]}<br>event=%{customdata[3]}<extra></extra>",
           "legendgroup": "NE",
           "marker": {
            "color": "#002244",
            "symbol": "circle"
           },
           "mode": "markers",
           "name": "NE",
           "orientation": "v",
           "showlegend": true,
           "type": "scatter",
           "x": [
            71.96,
            63.63,
            57.29,
            62.09,
            57.57,
            59.63,
            58.51,
            56.69,
            59.4,
            66.09,
            67.39
           ],
           "xaxis": "x",
           "y": [
            27.87,
            12.77,
            30.97,
            28.11,
            25.51,
            23.29,
            32.56,
            21.21,
            28.19,
            36.07,
            10.41
           ],
           "yaxis": "y"
          },
          {
           "customdata": [
            [
             75,
             "Joel Bitonio",
             3.6,
             "handoff"
            ],
            [
             2,
             "Amari Cooper",
             3.88,
             "handoff"
            ],
            [
             78,
             "Jack Conklin",
             4.83,
             "handoff"
            ],
            [
             7,
             "Jacoby Brissett",
             4.79,
             "handoff"
            ],
            [
             85,
             "David Njoku",
             3,
             "handoff"
            ],
            [
             55,
             "Ethan Pocic",
             4.13,
             "handoff"
            ],
            [
             24,
             "Nick Chubb",
             6.3,
             "handoff"
            ],
            [
             72,
             "Hjalte Froholdt",
             3.89,
             "handoff"
            ],
            [
             71,
             "Jedrick Wills",
             3.11,
             "handoff"
            ],
            [
             11,
             "Donovan Peoples-Jones",
             5.96,
             "handoff"
            ],
            [
             18,
             "David Bell",
             2.31,
             "handoff"
            ]
           ],
           "hovertemplate": "club=CLE<br>frameId=20<br>x=%{x}<br>y=%{y}<br>jerseyNumber=%{customdata[0]}<br>displayName=%{customdata[1]}<br>s=%{customdata[2]}<br>event=%{customdata[3]}<extra></extra>",
           "legendgroup": "CLE",
           "marker": {
            "color": "#311D00",
            "symbol": "circle"
           },
           "mode": "markers",
           "name": "CLE",
           "orientation": "v",
           "showlegend": true,
           "type": "scatter",
           "x": [
            58.56,
            58.96,
            57.84,
            53.7,
            56.52,
            58.49,
            52.84,
            57.08,
            56.81,
            54.39,
            57.36
           ],
           "xaxis": "x",
           "y": [
            28.55,
            9.93,
            24.44,
            25.53,
            30.76,
            27.85,
            26.68,
            26.33,
            30.25,
            17.45,
            31.97
           ],
           "yaxis": "y"
          },
          {
           "customdata": [
            [
             null,
             "football",
             4.38000011444092,
             "handoff"
            ]
           ],
           "hovertemplate": "club=football<br>frameId=20<br>x=%{x}<br>y=%{y}<br>jerseyNumber=%{customdata[0]}<br>displayName=%{customdata[1]}<br>s=%{customdata[2]}<br>event=%{customdata[3]}<extra></extra>",
           "legendgroup": "football",
           "marker": {
            "color": "#CBB67C",
            "symbol": "circle"
           },
           "mode": "markers",
           "name": "football",
           "orientation": "v",
           "showlegend": true,
           "type": "scatter",
           "x": [
            53.7299995422363
           ],
           "xaxis": "x",
           "y": [
            27.0300006866455
           ],
           "yaxis": "y"
          }
         ],
         "name": "20"
        },
        {
         "data": [
          {
           "customdata": [
            [
             32,
             "Devin McCourty",
             1.86,
             null
            ],
            [
             21,
             "Adrian Phillips",
             3.02,
             null
            ],
            [
             91,
             "Deatrich Wise",
             2.94,
             null
            ],
            [
             8,
             "Ja'Whaun Bentley",
             4.42,
             null
            ],
            [
             95,
             "Daniel Ekuale",
             3.07,
             null
            ],
            [
             48,
             "Jahlani Tavai",
             4.89,
             null
            ],
            [
             23,
             "Kyle Dugger",
             2.59,
             null
            ],
            [
             58,
             "Anfernee Jennings",
             4.67,
             null
            ],
            [
             90,
             "Christian Barmore",
             3.05,
             null
            ],
            [
             25,
             "Marcus Jones",
             1.03,
             null
            ],
            [
             13,
             "Jack Jones",
             4.27,
             null
            ]
           ],
           "hovertemplate": "club=NE<br>frameId=21<br>x=%{x}<br>y=%{y}<br>jerseyNumber=%{customdata[0]}<br>displayName=%{customdata[1]}<br>s=%{customdata[2]}<br>event=%{customdata[3]}<extra></extra>",
           "legendgroup": "NE",
           "marker": {
            "color": "#002244",
            "symbol": "circle"
           },
           "mode": "markers",
           "name": "NE",
           "orientation": "v",
           "showlegend": true,
           "type": "scatter",
           "x": [
            72.16,
            63.67,
            57.22,
            61.93,
            57.45,
            59.67,
            58.3,
            56.53,
            59.51,
            66.08,
            67.81
           ],
           "xaxis": "x",
           "y": [
            27.85,
            12.46,
            31.26,
            28.52,
            25.8,
            23.77,
            32.74,
            21.65,
            28.5,
            36.17,
            10.48
           ],
           "yaxis": "y"
          },
          {
           "customdata": [
            [
             75,
             "Joel Bitonio",
             3.75,
             null
            ],
            [
             2,
             "Amari Cooper",
             4.08,
             null
            ],
            [
             78,
             "Jack Conklin",
             4.92,
             null
            ],
            [
             7,
             "Jacoby Brissett",
             4.7,
             null
            ],
            [
             85,
             "David Njoku",
             3.08,
             null
            ],
            [
             55,
             "Ethan Pocic",
             4.2,
             null
            ],
            [
             24,
             "Nick Chubb",
             6.46,
             null
            ],
            [
             72,
             "Hjalte Froholdt",
             3.73,
             null
            ],
            [
             71,
             "Jedrick Wills",
             3.01,
             null
            ],
            [
             11,
             "Donovan Peoples-Jones",
             5.88,
             null
            ],
            [
             18,
             "David Bell",
             2.36,
             null
            ]
           ],
           "hovertemplate": "club=CLE<br>frameId=21<br>x=%{x}<br>y=%{y}<br>jerseyNumber=%{customdata[0]}<br>displayName=%{customdata[1]}<br>s=%{customdata[2]}<br>event=%{customdata[3]}<extra></extra>",
           "legendgroup": "CLE",
           "marker": {
            "color": "#311D00",
            "symbol": "circle"
           },
           "mode": "markers",
           "name": "CLE",
           "orientation": "v",
           "showlegend": true,
           "type": "scatter",
           "x": [
            58.7,
            59.3,
            58.03,
            53.26,
            56.46,
            58.65,
            53.26,
            57.05,
            56.81,
            54.56,
            57.31
           ],
           "xaxis": "x",
           "y": [
            28.93,
            10.14,
            24.91,
            25.69,
            31.06,
            28.27,
            27.16,
            26.71,
            30.56,
            16.88,
            32.19
           ],
           "yaxis": "y"
          },
          {
           "customdata": [
            [
             null,
             "football",
             4.42999982833862,
             null
            ]
           ],
           "hovertemplate": "club=football<br>frameId=21<br>x=%{x}<br>y=%{y}<br>jerseyNumber=%{customdata[0]}<br>displayName=%{customdata[1]}<br>s=%{customdata[2]}<br>event=%{customdata[3]}<extra></extra>",
           "legendgroup": "football",
           "marker": {
            "color": "#CBB67C",
            "symbol": "circle"
           },
           "mode": "markers",
           "name": "football",
           "orientation": "v",
           "showlegend": true,
           "type": "scatter",
           "x": [
            53.7099990844727
           ],
           "xaxis": "x",
           "y": [
            27.5
           ],
           "yaxis": "y"
          }
         ],
         "name": "21"
        },
        {
         "data": [
          {
           "customdata": [
            [
             32,
             "Devin McCourty",
             1.39,
             null
            ],
            [
             21,
             "Adrian Phillips",
             2.83,
             null
            ],
            [
             91,
             "Deatrich Wise",
             3.06,
             null
            ],
            [
             8,
             "Ja'Whaun Bentley",
             4.57,
             null
            ],
            [
             95,
             "Daniel Ekuale",
             3.01,
             null
            ],
            [
             48,
             "Jahlani Tavai",
             4.89,
             null
            ],
            [
             23,
             "Kyle Dugger",
             2.23,
             null
            ],
            [
             58,
             "Anfernee Jennings",
             4.74,
             null
            ],
            [
             90,
             "Christian Barmore",
             3.13,
             null
            ],
            [
             25,
             "Marcus Jones",
             1.2,
             null
            ],
            [
             13,
             "Jack Jones",
             4.13,
             null
            ]
           ],
           "hovertemplate": "club=NE<br>frameId=22<br>x=%{x}<br>y=%{y}<br>jerseyNumber=%{customdata[0]}<br>displayName=%{customdata[1]}<br>s=%{customdata[2]}<br>event=%{customdata[3]}<extra></extra>",
           "legendgroup": "NE",
           "marker": {
            "color": "#002244",
            "symbol": "circle"
           },
           "mode": "markers",
           "name": "NE",
           "orientation": "v",
           "showlegend": true,
           "type": "scatter",
           "x": [
            72.3,
            63.76,
            57.17,
            61.78,
            57.33,
            59.71,
            58.15,
            56.38,
            59.64,
            66.02,
            68.22
           ],
           "xaxis": "x",
           "y": [
            27.88,
            12.19,
            31.57,
            28.95,
            26.08,
            24.26,
            32.9,
            22.1,
            28.81,
            36.27,
            10.56
           ],
           "yaxis": "y"
          },
          {
           "customdata": [
            [
             75,
             "Joel Bitonio",
             3.8,
             null
            ],
            [
             2,
             "Amari Cooper",
             4.28,
             null
            ],
            [
             78,
             "Jack Conklin",
             4.91,
             null
            ],
            [
             7,
             "Jacoby Brissett",
             4.54,
             null
            ],
            [
             85,
             "David Njoku",
             3.12,
             null
            ],
            [
             55,
             "Ethan Pocic",
             4.18,
             null
            ],
            [
             24,
             "Nick Chubb",
             6.58,
             null
            ],
            [
             72,
             "Hjalte Froholdt",
             3.54,
             null
            ],
            [
             71,
             "Jedrick Wills",
             3.02,
             null
            ],
            [
             11,
             "Donovan Peoples-Jones",
             5.74,
             null
            ],
            [
             18,
             "David Bell",
             2.35,
             null
            ]
           ],
           "hovertemplate": "club=CLE<br>frameId=22<br>x=%{x}<br>y=%{y}<br>jerseyNumber=%{customdata[0]}<br>displayName=%{customdata[1]}<br>s=%{customdata[2]}<br>event=%{customdata[3]}<extra></extra>",
           "legendgroup": "CLE",
           "marker": {
            "color": "#311D00",
            "symbol": "circle"
           },
           "mode": "markers",
           "name": "CLE",
           "orientation": "v",
           "showlegend": true,
           "type": "scatter",
           "x": [
            58.84,
            59.65,
            58.23,
            52.82,
            56.4,
            58.82,
            53.69,
            57.01,
            56.82,
            54.77,
            57.25
           ],
           "xaxis": "x",
           "y": [
            29.3,
            10.38,
            25.37,
            25.81,
            31.37,
            28.67,
            27.66,
            27.07,
            30.89,
            16.33,
            32.41
           ],
           "yaxis": "y"
          },
          {
           "customdata": [
            [
             null,
             "football",
             4.65000009536743,
             null
            ]
           ],
           "hovertemplate": "club=football<br>frameId=22<br>x=%{x}<br>y=%{y}<br>jerseyNumber=%{customdata[0]}<br>displayName=%{customdata[1]}<br>s=%{customdata[2]}<br>event=%{customdata[3]}<extra></extra>",
           "legendgroup": "football",
           "marker": {
            "color": "#CBB67C",
            "symbol": "circle"
           },
           "mode": "markers",
           "name": "football",
           "orientation": "v",
           "showlegend": true,
           "type": "scatter",
           "x": [
            53.7700004577637
           ],
           "xaxis": "x",
           "y": [
            27.9500007629395
           ],
           "yaxis": "y"
          }
         ],
         "name": "22"
        },
        {
         "data": [
          {
           "customdata": [
            [
             32,
             "Devin McCourty",
             1.14,
             null
            ],
            [
             21,
             "Adrian Phillips",
             2.69,
             null
            ],
            [
             91,
             "Deatrich Wise",
             3.18,
             null
            ],
            [
             8,
             "Ja'Whaun Bentley",
             4.68,
             null
            ],
            [
             95,
             "Daniel Ekuale",
             2.93,
             null
            ],
            [
             48,
             "Jahlani Tavai",
             4.81,
             null
            ],
            [
             23,
             "Kyle Dugger",
             1.91,
             null
            ],
            [
             58,
             "Anfernee Jennings",
             4.77,
             null
            ],
            [
             90,
             "Christian Barmore",
             3.18,
             null
            ],
            [
             25,
             "Marcus Jones",
             1.38,
             null
            ],
            [
             13,
             "Jack Jones",
             3.88,
             null
            ]
           ],
           "hovertemplate": "club=NE<br>frameId=23<br>x=%{x}<br>y=%{y}<br>jerseyNumber=%{customdata[0]}<br>displayName=%{customdata[1]}<br>s=%{customdata[2]}<br>event=%{customdata[3]}<extra></extra>",
           "legendgroup": "NE",
           "marker": {
            "color": "#002244",
            "symbol": "circle"
           },
           "mode": "markers",
           "name": "NE",
           "orientation": "v",
           "showlegend": true,
           "type": "scatter",
           "x": [
            72.4,
            63.87,
            57.13,
            61.63,
            57.22,
            59.76,
            58.02,
            56.26,
            59.77,
            65.93,
            68.59
           ],
           "xaxis": "x",
           "y": [
            27.95,
            11.94,
            31.9,
            29.4,
            26.36,
            24.73,
            33.06,
            22.56,
            29.14,
            36.37,
            10.64
           ],
           "yaxis": "y"
          },
          {
           "customdata": [
            [
             75,
             "Joel Bitonio",
             4.12,
             null
            ],
            [
             2,
             "Amari Cooper",
             4.54,
             null
            ],
            [
             78,
             "Jack Conklin",
             4.85,
             null
            ],
            [
             7,
             "Jacoby Brissett",
             4.35,
             null
            ],
            [
             85,
             "David Njoku",
             3.13,
             null
            ],
            [
             55,
             "Ethan Pocic",
             4.16,
             null
            ],
            [
             24,
             "Nick Chubb",
             6.7,
             null
            ],
            [
             72,
             "Hjalte Froholdt",
             3.23,
             null
            ],
            [
             71,
             "Jedrick Wills",
             3.2,
             null
            ],
            [
             11,
             "Donovan Peoples-Jones",
             5.61,
             null
            ],
            [
             18,
             "David Bell",
             2.35,
             null
            ]
           ],
           "hovertemplate": "club=CLE<br>frameId=23<br>x=%{x}<br>y=%{y}<br>jerseyNumber=%{customdata[0]}<br>displayName=%{customdata[1]}<br>s=%{customdata[2]}<br>event=%{customdata[3]}<extra></extra>",
           "legendgroup": "CLE",
           "marker": {
            "color": "#311D00",
            "symbol": "circle"
           },
           "mode": "markers",
           "name": "CLE",
           "orientation": "v",
           "showlegend": true,
           "type": "scatter",
           "x": [
            59.03,
            60.01,
            58.46,
            52.38,
            56.36,
            58.98,
            54.12,
            56.97,
            56.84,
            55.03,
            57.18
           ],
           "xaxis": "x",
           "y": [
            29.75,
            10.65,
            25.8,
            25.86,
            31.67,
            29.08,
            28.17,
            27.39,
            31.25,
            15.83,
            32.64
           ],
           "yaxis": "y"
          },
          {
           "customdata": [
            [
             null,
             "football",
             5.07999992370605,
             null
            ]
           ],
           "hovertemplate": "club=football<br>frameId=23<br>x=%{x}<br>y=%{y}<br>jerseyNumber=%{customdata[0]}<br>displayName=%{customdata[1]}<br>s=%{customdata[2]}<br>event=%{customdata[3]}<extra></extra>",
           "legendgroup": "football",
           "marker": {
            "color": "#CBB67C",
            "symbol": "circle"
           },
           "mode": "markers",
           "name": "football",
           "orientation": "v",
           "showlegend": true,
           "type": "scatter",
           "x": [
            53.9300003051758
           ],
           "xaxis": "x",
           "y": [
            28.4099998474121
           ],
           "yaxis": "y"
          }
         ],
         "name": "23"
        },
        {
         "data": [
          {
           "customdata": [
            [
             32,
             "Devin McCourty",
             1.23,
             null
            ],
            [
             21,
             "Adrian Phillips",
             2.41,
             null
            ],
            [
             91,
             "Deatrich Wise",
             3.17,
             null
            ],
            [
             8,
             "Ja'Whaun Bentley",
             4.68,
             null
            ],
            [
             95,
             "Daniel Ekuale",
             2.78,
             null
            ],
            [
             48,
             "Jahlani Tavai",
             4.68,
             null
            ],
            [
             23,
             "Kyle Dugger",
             1.55,
             null
            ],
            [
             58,
             "Anfernee Jennings",
             4.79,
             null
            ],
            [
             90,
             "Christian Barmore",
             3.38,
             null
            ],
            [
             25,
             "Marcus Jones",
             1.66,
             null
            ],
            [
             13,
             "Jack Jones",
             3.69,
             null
            ]
           ],
           "hovertemplate": "club=NE<br>frameId=24<br>x=%{x}<br>y=%{y}<br>jerseyNumber=%{customdata[0]}<br>displayName=%{customdata[1]}<br>s=%{customdata[2]}<br>event=%{customdata[3]}<extra></extra>",
           "legendgroup": "NE",
           "marker": {
            "color": "#002244",
            "symbol": "circle"
           },
           "mode": "markers",
           "name": "NE",
           "orientation": "v",
           "showlegend": true,
           "type": "scatter",
           "x": [
            72.45,
            64,
            57.12,
            61.49,
            57.15,
            59.81,
            57.96,
            56.17,
            59.88,
            65.8,
            68.96
           ],
           "xaxis": "x",
           "y": [
            28.05,
            11.74,
            32.23,
            29.84,
            26.64,
            25.2,
            33.21,
            23.03,
            29.52,
            36.46,
            10.74
           ],
           "yaxis": "y"
          },
          {
           "customdata": [
            [
             75,
             "Joel Bitonio",
             4.35,
             null
            ],
            [
             2,
             "Amari Cooper",
             4.74,
             null
            ],
            [
             78,
             "Jack Conklin",
             4.75,
             null
            ],
            [
             7,
             "Jacoby Brissett",
             4.2,
             null
            ],
            [
             85,
             "David Njoku",
             3.3,
             null
            ],
            [
             55,
             "Ethan Pocic",
             4.08,
             null
            ],
            [
             24,
             "Nick Chubb",
             6.84,
             null
            ],
            [
             72,
             "Hjalte Froholdt",
             2.91,
             null
            ],
            [
             71,
             "Jedrick Wills",
             3.17,
             null
            ],
            [
             11,
             "Donovan Peoples-Jones",
             5.51,
             null
            ],
            [
             18,
             "David Bell",
             2.37,
             null
            ]
           ],
           "hovertemplate": "club=CLE<br>frameId=24<br>x=%{x}<br>y=%{y}<br>jerseyNumber=%{customdata[0]}<br>displayName=%{customdata[1]}<br>s=%{customdata[2]}<br>event=%{customdata[3]}<extra></extra>",
           "legendgroup": "CLE",
           "marker": {
            "color": "#311D00",
            "symbol": "circle"
           },
           "mode": "markers",
           "name": "CLE",
           "orientation": "v",
           "showlegend": true,
           "type": "scatter",
           "x": [
            59.22,
            60.37,
            58.71,
            51.95,
            56.33,
            59.14,
            54.57,
            56.91,
            56.86,
            55.32,
            57.1
           ],
           "xaxis": "x",
           "y": [
            30.21,
            10.96,
            26.22,
            25.86,
            32.01,
            29.48,
            28.7,
            27.69,
            31.58,
            15.35,
            32.87
           ],
           "yaxis": "y"
          },
          {
           "customdata": [
            [
             null,
             "football",
             5.65999984741211,
             null
            ]
           ],
           "hovertemplate": "club=football<br>frameId=24<br>x=%{x}<br>y=%{y}<br>jerseyNumber=%{customdata[0]}<br>displayName=%{customdata[1]}<br>s=%{customdata[2]}<br>event=%{customdata[3]}<extra></extra>",
           "legendgroup": "football",
           "marker": {
            "color": "#CBB67C",
            "symbol": "circle"
           },
           "mode": "markers",
           "name": "football",
           "orientation": "v",
           "showlegend": true,
           "type": "scatter",
           "x": [
            54.1800003051758
           ],
           "xaxis": "x",
           "y": [
            28.8899993896484
           ],
           "yaxis": "y"
          }
         ],
         "name": "24"
        },
        {
         "data": [
          {
           "customdata": [
            [
             32,
             "Devin McCourty",
             1.6,
             null
            ],
            [
             21,
             "Adrian Phillips",
             2.16,
             null
            ],
            [
             91,
             "Deatrich Wise",
             3.25,
             null
            ],
            [
             8,
             "Ja'Whaun Bentley",
             4.66,
             null
            ],
            [
             95,
             "Daniel Ekuale",
             2.57,
             null
            ],
            [
             48,
             "Jahlani Tavai",
             4.54,
             null
            ],
            [
             23,
             "Kyle Dugger",
             1.39,
             null
            ],
            [
             58,
             "Anfernee Jennings",
             4.74,
             null
            ],
            [
             90,
             "Christian Barmore",
             3.37,
             null
            ],
            [
             25,
             "Marcus Jones",
             2.01,
             null
            ],
            [
             13,
             "Jack Jones",
             3.59,
             null
            ]
           ],
           "hovertemplate": "club=NE<br>frameId=25<br>x=%{x}<br>y=%{y}<br>jerseyNumber=%{customdata[0]}<br>displayName=%{customdata[1]}<br>s=%{customdata[2]}<br>event=%{customdata[3]}<extra></extra>",
           "legendgroup": "NE",
           "marker": {
            "color": "#002244",
            "symbol": "circle"
           },
           "mode": "markers",
           "name": "NE",
           "orientation": "v",
           "showlegend": true,
           "type": "scatter",
           "x": [
            72.45,
            64.15,
            57.15,
            61.35,
            57.11,
            59.85,
            57.93,
            56.12,
            59.96,
            65.62,
            69.31
           ],
           "xaxis": "x",
           "y": [
            28.19,
            11.58,
            32.57,
            30.29,
            26.9,
            25.66,
            33.36,
            23.51,
            29.86,
            36.54,
            10.86
           ],
           "yaxis": "y"
          },
          {
           "customdata": [
            [
             75,
             "Joel Bitonio",
             4.53,
             null
            ],
            [
             2,
             "Amari Cooper",
             4.92,
             null
            ],
            [
             78,
             "Jack Conklin",
             4.6,
             null
            ],
            [
             7,
             "Jacoby Brissett",
             4.1,
             null
            ],
            [
             85,
             "David Njoku",
             3.38,
             null
            ],
            [
             55,
             "Ethan Pocic",
             3.96,
             null
            ],
            [
             24,
             "Nick Chubb",
             6.85,
             null
            ],
            [
             72,
             "Hjalte Froholdt",
             2.54,
             null
            ],
            [
             71,
             "Jedrick Wills",
             3.13,
             null
            ],
            [
             11,
             "Donovan Peoples-Jones",
             5.37,
             null
            ],
            [
             18,
             "David Bell",
             2.44,
             null
            ]
           ],
           "hovertemplate": "club=CLE<br>frameId=25<br>x=%{x}<br>y=%{y}<br>jerseyNumber=%{customdata[0]}<br>displayName=%{customdata[1]}<br>s=%{customdata[2]}<br>event=%{customdata[3]}<extra></extra>",
           "legendgroup": "CLE",
           "marker": {
            "color": "#311D00",
            "symbol": "circle"
           },
           "mode": "markers",
           "name": "CLE",
           "orientation": "v",
           "showlegend": true,
           "type": "scatter",
           "x": [
            59.41,
            60.73,
            58.97,
            51.54,
            56.32,
            59.28,
            55.01,
            56.88,
            56.88,
            55.63,
            57.01
           ],
           "xaxis": "x",
           "y": [
            30.67,
            11.29,
            26.62,
            25.79,
            32.35,
            29.86,
            29.22,
            27.95,
            31.9,
            14.91,
            33.1
           ],
           "yaxis": "y"
          },
          {
           "customdata": [
            [
             null,
             "football",
             6.26000022888184,
             null
            ]
           ],
           "hovertemplate": "club=football<br>frameId=25<br>x=%{x}<br>y=%{y}<br>jerseyNumber=%{customdata[0]}<br>displayName=%{customdata[1]}<br>s=%{customdata[2]}<br>event=%{customdata[3]}<extra></extra>",
           "legendgroup": "football",
           "marker": {
            "color": "#CBB67C",
            "symbol": "circle"
           },
           "mode": "markers",
           "name": "football",
           "orientation": "v",
           "showlegend": true,
           "type": "scatter",
           "x": [
            54.5200004577637
           ],
           "xaxis": "x",
           "y": [
            29.3799991607666
           ],
           "yaxis": "y"
          }
         ],
         "name": "25"
        },
        {
         "data": [
          {
           "customdata": [
            [
             32,
             "Devin McCourty",
             2.14,
             null
            ],
            [
             21,
             "Adrian Phillips",
             1.91,
             null
            ],
            [
             91,
             "Deatrich Wise",
             3.21,
             null
            ],
            [
             8,
             "Ja'Whaun Bentley",
             4.62,
             null
            ],
            [
             95,
             "Daniel Ekuale",
             2.34,
             null
            ],
            [
             48,
             "Jahlani Tavai",
             4.39,
             null
            ],
            [
             23,
             "Kyle Dugger",
             1.27,
             null
            ],
            [
             58,
             "Anfernee Jennings",
             4.71,
             null
            ],
            [
             90,
             "Christian Barmore",
             3.54,
             null
            ],
            [
             25,
             "Marcus Jones",
             2.38,
             null
            ],
            [
             13,
             "Jack Jones",
             3.54,
             null
            ]
           ],
           "hovertemplate": "club=NE<br>frameId=26<br>x=%{x}<br>y=%{y}<br>jerseyNumber=%{customdata[0]}<br>displayName=%{customdata[1]}<br>s=%{customdata[2]}<br>event=%{customdata[3]}<extra></extra>",
           "legendgroup": "NE",
           "marker": {
            "color": "#002244",
            "symbol": "circle"
           },
           "mode": "markers",
           "name": "NE",
           "orientation": "v",
           "showlegend": true,
           "type": "scatter",
           "x": [
            72.38,
            64.31,
            57.18,
            61.23,
            57.1,
            59.89,
            57.95,
            56.1,
            60.07,
            65.4,
            69.64
           ],
           "xaxis": "x",
           "y": [
            28.38,
            11.48,
            32.89,
            30.74,
            27.14,
            26.1,
            33.48,
            23.98,
            30.23,
            36.6,
            10.99
           ],
           "yaxis": "y"
          },
          {
           "customdata": [
            [
             75,
             "Joel Bitonio",
             4.67,
             null
            ],
            [
             2,
             "Amari Cooper",
             5.11,
             null
            ],
            [
             78,
             "Jack Conklin",
             4.45,
             null
            ],
            [
             7,
             "Jacoby Brissett",
             4.07,
             null
            ],
            [
             85,
             "David Njoku",
             3.46,
             null
            ],
            [
             55,
             "Ethan Pocic",
             3.84,
             null
            ],
            [
             24,
             "Nick Chubb",
             6.83,
             null
            ],
            [
             72,
             "Hjalte Froholdt",
             2.15,
             null
            ],
            [
             71,
             "Jedrick Wills",
             3.05,
             null
            ],
            [
             11,
             "Donovan Peoples-Jones",
             5.21,
             null
            ],
            [
             18,
             "David Bell",
             2.6,
             null
            ]
           ],
           "hovertemplate": "club=CLE<br>frameId=26<br>x=%{x}<br>y=%{y}<br>jerseyNumber=%{customdata[0]}<br>displayName=%{customdata[1]}<br>s=%{customdata[2]}<br>event=%{customdata[3]}<extra></extra>",
           "legendgroup": "CLE",
           "marker": {
            "color": "#311D00",
            "symbol": "circle"
           },
           "mode": "markers",
           "name": "CLE",
           "orientation": "v",
           "showlegend": true,
           "type": "scatter",
           "x": [
            59.58,
            61.1,
            59.23,
            51.16,
            56.33,
            59.42,
            55.45,
            56.86,
            56.91,
            55.97,
            56.93
           ],
           "xaxis": "x",
           "y": [
            31.14,
            11.64,
            27,
            25.65,
            32.7,
            30.24,
            29.74,
            28.17,
            32.22,
            14.51,
            33.35
           ],
           "yaxis": "y"
          },
          {
           "customdata": [
            [
             null,
             "football",
             6.73000001907349,
             null
            ]
           ],
           "hovertemplate": "club=football<br>frameId=26<br>x=%{x}<br>y=%{y}<br>jerseyNumber=%{customdata[0]}<br>displayName=%{customdata[1]}<br>s=%{customdata[2]}<br>event=%{customdata[3]}<extra></extra>",
           "legendgroup": "football",
           "marker": {
            "color": "#CBB67C",
            "symbol": "circle"
           },
           "mode": "markers",
           "name": "football",
           "orientation": "v",
           "showlegend": true,
           "type": "scatter",
           "x": [
            54.939998626709
           ],
           "xaxis": "x",
           "y": [
            29.8700008392334
           ],
           "yaxis": "y"
          }
         ],
         "name": "26"
        },
        {
         "data": [
          {
           "customdata": [
            [
             32,
             "Devin McCourty",
             2.73,
             null
            ],
            [
             21,
             "Adrian Phillips",
             1.78,
             null
            ],
            [
             91,
             "Deatrich Wise",
             3.27,
             null
            ],
            [
             8,
             "Ja'Whaun Bentley",
             4.43,
             null
            ],
            [
             95,
             "Daniel Ekuale",
             2.17,
             null
            ],
            [
             48,
             "Jahlani Tavai",
             4.22,
             null
            ],
            [
             23,
             "Kyle Dugger",
             1.03,
             null
            ],
            [
             58,
             "Anfernee Jennings",
             4.68,
             null
            ],
            [
             90,
             "Christian Barmore",
             3.63,
             null
            ],
            [
             25,
             "Marcus Jones",
             2.74,
             null
            ],
            [
             13,
             "Jack Jones",
             3.54,
             null
            ]
           ],
           "hovertemplate": "club=NE<br>frameId=27<br>x=%{x}<br>y=%{y}<br>jerseyNumber=%{customdata[0]}<br>displayName=%{customdata[1]}<br>s=%{customdata[2]}<br>event=%{customdata[3]}<extra></extra>",
           "legendgroup": "NE",
           "marker": {
            "color": "#002244",
            "symbol": "circle"
           },
           "mode": "markers",
           "name": "NE",
           "orientation": "v",
           "showlegend": true,
           "type": "scatter",
           "x": [
            72.25,
            64.48,
            57.24,
            61.13,
            57.12,
            59.92,
            58.02,
            56.11,
            60.16,
            65.15,
            69.96
           ],
           "xaxis": "x",
           "y": [
            28.59,
            11.43,
            33.23,
            31.17,
            27.36,
            26.53,
            33.54,
            24.45,
            30.6,
            36.64,
            11.15
           ],
           "yaxis": "y"
          },
          {
           "customdata": [
            [
             75,
             "Joel Bitonio",
             4.6,
             null
            ],
            [
             2,
             "Amari Cooper",
             5.25,
             null
            ],
            [
             78,
             "Jack Conklin",
             4.38,
             null
            ],
            [
             7,
             "Jacoby Brissett",
             4.09,
             null
            ],
            [
             85,
             "David Njoku",
             3.53,
             null
            ],
            [
             55,
             "Ethan Pocic",
             3.85,
             null
            ],
            [
             24,
             "Nick Chubb",
             6.76,
             null
            ],
            [
             72,
             "Hjalte Froholdt",
             1.82,
             null
            ],
            [
             71,
             "Jedrick Wills",
             2.95,
             null
            ],
            [
             11,
             "Donovan Peoples-Jones",
             5.01,
             null
            ],
            [
             18,
             "David Bell",
             2.62,
             null
            ]
           ],
           "hovertemplate": "club=CLE<br>frameId=27<br>x=%{x}<br>y=%{y}<br>jerseyNumber=%{customdata[0]}<br>displayName=%{customdata[1]}<br>s=%{customdata[2]}<br>event=%{customdata[3]}<extra></extra>",
           "legendgroup": "CLE",
           "marker": {
            "color": "#311D00",
            "symbol": "circle"
           },
           "mode": "markers",
           "name": "CLE",
           "orientation": "v",
           "showlegend": true,
           "type": "scatter",
           "x": [
            59.74,
            61.47,
            59.51,
            50.8,
            56.36,
            59.54,
            55.9,
            56.86,
            56.95,
            56.34,
            56.84
           ],
           "xaxis": "x",
           "y": [
            31.57,
            12.02,
            27.37,
            25.45,
            33.05,
            30.64,
            30.25,
            28.37,
            32.53,
            14.16,
            33.59
           ],
           "yaxis": "y"
          },
          {
           "customdata": [
            [
             null,
             "football",
             7.15000009536743,
             null
            ]
           ],
           "hovertemplate": "club=football<br>frameId=27<br>x=%{x}<br>y=%{y}<br>jerseyNumber=%{customdata[0]}<br>displayName=%{customdata[1]}<br>s=%{customdata[2]}<br>event=%{customdata[3]}<extra></extra>",
           "legendgroup": "football",
           "marker": {
            "color": "#CBB67C",
            "symbol": "circle"
           },
           "mode": "markers",
           "name": "football",
           "orientation": "v",
           "showlegend": true,
           "type": "scatter",
           "x": [
            55.439998626709
           ],
           "xaxis": "x",
           "y": [
            30.3600006103516
           ],
           "yaxis": "y"
          }
         ],
         "name": "27"
        },
        {
         "data": [
          {
           "customdata": [
            [
             32,
             "Devin McCourty",
             3.23,
             null
            ],
            [
             21,
             "Adrian Phillips",
             1.84,
             null
            ],
            [
             91,
             "Deatrich Wise",
             3.28,
             null
            ],
            [
             8,
             "Ja'Whaun Bentley",
             4.25,
             null
            ],
            [
             95,
             "Daniel Ekuale",
             2.05,
             null
            ],
            [
             48,
             "Jahlani Tavai",
             4.15,
             null
            ],
            [
             23,
             "Kyle Dugger",
             1.09,
             null
            ],
            [
             58,
             "Anfernee Jennings",
             4.66,
             null
            ],
            [
             90,
             "Christian Barmore",
             3.66,
             null
            ],
            [
             25,
             "Marcus Jones",
             3.02,
             null
            ],
            [
             13,
             "Jack Jones",
             3.55,
             null
            ]
           ],
           "hovertemplate": "club=NE<br>frameId=28<br>x=%{x}<br>y=%{y}<br>jerseyNumber=%{customdata[0]}<br>displayName=%{customdata[1]}<br>s=%{customdata[2]}<br>event=%{customdata[3]}<extra></extra>",
           "legendgroup": "NE",
           "marker": {
            "color": "#002244",
            "symbol": "circle"
           },
           "mode": "markers",
           "name": "NE",
           "orientation": "v",
           "showlegend": true,
           "type": "scatter",
           "x": [
            72.07,
            64.65,
            57.33,
            61.05,
            57.2,
            59.96,
            58.12,
            56.17,
            60.22,
            64.86,
            70.27
           ],
           "xaxis": "x",
           "y": [
            28.83,
            11.46,
            33.56,
            31.59,
            27.56,
            26.96,
            33.52,
            24.92,
            30.98,
            36.66,
            11.33
           ],
           "yaxis": "y"
          },
          {
           "customdata": [
            [
             75,
             "Joel Bitonio",
             4.68,
             null
            ],
            [
             2,
             "Amari Cooper",
             5.43,
             null
            ],
            [
             78,
             "Jack Conklin",
             4.23,
             null
            ],
            [
             7,
             "Jacoby Brissett",
             4.1,
             null
            ],
            [
             85,
             "David Njoku",
             3.53,
             null
            ],
            [
             55,
             "Ethan Pocic",
             3.93,
             null
            ],
            [
             24,
             "Nick Chubb",
             6.52,
             null
            ],
            [
             72,
             "Hjalte Froholdt",
             1.53,
             null
            ],
            [
             71,
             "Jedrick Wills",
             2.81,
             null
            ],
            [
             11,
             "Donovan Peoples-Jones",
             4.78,
             null
            ],
            [
             18,
             "David Bell",
             2.61,
             null
            ]
           ],
           "hovertemplate": "club=CLE<br>frameId=28<br>x=%{x}<br>y=%{y}<br>jerseyNumber=%{customdata[0]}<br>displayName=%{customdata[1]}<br>s=%{customdata[2]}<br>event=%{customdata[3]}<extra></extra>",
           "legendgroup": "CLE",
           "marker": {
            "color": "#311D00",
            "symbol": "circle"
           },
           "mode": "markers",
           "name": "CLE",
           "orientation": "v",
           "showlegend": true,
           "type": "scatter",
           "x": [
            59.92,
            61.85,
            59.78,
            50.49,
            56.41,
            59.63,
            56.37,
            56.91,
            56.99,
            56.72,
            56.77
           ],
           "xaxis": "x",
           "y": [
            32.04,
            12.41,
            27.72,
            25.19,
            33.4,
            31.06,
            30.71,
            28.53,
            32.82,
            13.86,
            33.84
           ],
           "yaxis": "y"
          },
          {
           "customdata": [
            [
             null,
             "football",
             7.42999982833862,
             null
            ]
           ],
           "hovertemplate": "club=football<br>frameId=28<br>x=%{x}<br>y=%{y}<br>jerseyNumber=%{customdata[0]}<br>displayName=%{customdata[1]}<br>s=%{customdata[2]}<br>event=%{customdata[3]}<extra></extra>",
           "legendgroup": "football",
           "marker": {
            "color": "#CBB67C",
            "symbol": "circle"
           },
           "mode": "markers",
           "name": "football",
           "orientation": "v",
           "showlegend": true,
           "type": "scatter",
           "x": [
            56
           ],
           "xaxis": "x",
           "y": [
            30.8199996948242
           ],
           "yaxis": "y"
          }
         ],
         "name": "28"
        },
        {
         "data": [
          {
           "customdata": [
            [
             32,
             "Devin McCourty",
             3.72,
             null
            ],
            [
             21,
             "Adrian Phillips",
             1.94,
             null
            ],
            [
             91,
             "Deatrich Wise",
             3.3,
             null
            ],
            [
             8,
             "Ja'Whaun Bentley",
             4.09,
             null
            ],
            [
             95,
             "Daniel Ekuale",
             2.09,
             null
            ],
            [
             48,
             "Jahlani Tavai",
             4.06,
             null
            ],
            [
             23,
             "Kyle Dugger",
             1.23,
             null
            ],
            [
             58,
             "Anfernee Jennings",
             4.64,
             null
            ],
            [
             90,
             "Christian Barmore",
             3.73,
             null
            ],
            [
             25,
             "Marcus Jones",
             3.25,
             null
            ],
            [
             13,
             "Jack Jones",
             3.59,
             null
            ]
           ],
           "hovertemplate": "club=NE<br>frameId=29<br>x=%{x}<br>y=%{y}<br>jerseyNumber=%{customdata[0]}<br>displayName=%{customdata[1]}<br>s=%{customdata[2]}<br>event=%{customdata[3]}<extra></extra>",
           "legendgroup": "NE",
           "marker": {
            "color": "#002244",
            "symbol": "circle"
           },
           "mode": "markers",
           "name": "NE",
           "orientation": "v",
           "showlegend": true,
           "type": "scatter",
           "x": [
            71.83,
            64.82,
            57.44,
            61,
            57.32,
            60,
            58.21,
            56.26,
            60.25,
            64.55,
            70.56
           ],
           "xaxis": "x",
           "y": [
            29.1,
            11.53,
            33.89,
            32,
            27.74,
            27.37,
            33.49,
            25.38,
            31.37,
            36.64,
            11.54
           ],
           "yaxis": "y"
          },
          {
           "customdata": [
            [
             75,
             "Joel Bitonio",
             4.65,
             null
            ],
            [
             2,
             "Amari Cooper",
             5.53,
             null
            ],
            [
             78,
             "Jack Conklin",
             4.02,
             null
            ],
            [
             7,
             "Jacoby Brissett",
             4.09,
             null
            ],
            [
             85,
             "David Njoku",
             3.5,
             null
            ],
            [
             55,
             "Ethan Pocic",
             3.85,
             null
            ],
            [
             24,
             "Nick Chubb",
             6.27,
             null
            ],
            [
             72,
             "Hjalte Froholdt",
             1.36,
             null
            ],
            [
             71,
             "Jedrick Wills",
             2.66,
             null
            ],
            [
             11,
             "Donovan Peoples-Jones",
             4.61,
             null
            ],
            [
             18,
             "David Bell",
             2.66,
             null
            ]
           ],
           "hovertemplate": "club=CLE<br>frameId=29<br>x=%{x}<br>y=%{y}<br>jerseyNumber=%{customdata[0]}<br>displayName=%{customdata[1]}<br>s=%{customdata[2]}<br>event=%{customdata[3]}<extra></extra>",
           "legendgroup": "CLE",
           "marker": {
            "color": "#311D00",
            "symbol": "circle"
           },
           "mode": "markers",
           "name": "CLE",
           "orientation": "v",
           "showlegend": true,
           "type": "scatter",
           "x": [
            60.1,
            62.23,
            60.04,
            50.21,
            56.48,
            59.72,
            56.84,
            56.98,
            57.03,
            57.12,
            56.74
           ],
           "xaxis": "x",
           "y": [
            32.49,
            12.81,
            28.04,
            24.89,
            33.74,
            31.45,
            31.14,
            28.66,
            33.09,
            13.61,
            34.11
           ],
           "yaxis": "y"
          },
          {
           "customdata": [
            [
             null,
             "football",
             7.32000017166138,
             null
            ]
           ],
           "hovertemplate": "club=football<br>frameId=29<br>x=%{x}<br>y=%{y}<br>jerseyNumber=%{customdata[0]}<br>displayName=%{customdata[1]}<br>s=%{customdata[2]}<br>event=%{customdata[3]}<extra></extra>",
           "legendgroup": "football",
           "marker": {
            "color": "#CBB67C",
            "symbol": "circle"
           },
           "mode": "markers",
           "name": "football",
           "orientation": "v",
           "showlegend": true,
           "type": "scatter",
           "x": [
            56.5699996948242
           ],
           "xaxis": "x",
           "y": [
            31.25
           ],
           "yaxis": "y"
          }
         ],
         "name": "29"
        },
        {
         "data": [
          {
           "customdata": [
            [
             32,
             "Devin McCourty",
             4.09,
             null
            ],
            [
             21,
             "Adrian Phillips",
             2.19,
             null
            ],
            [
             91,
             "Deatrich Wise",
             3.31,
             null
            ],
            [
             8,
             "Ja'Whaun Bentley",
             3.93,
             null
            ],
            [
             95,
             "Daniel Ekuale",
             2.23,
             null
            ],
            [
             48,
             "Jahlani Tavai",
             3.98,
             null
            ],
            [
             23,
             "Kyle Dugger",
             1.51,
             null
            ],
            [
             58,
             "Anfernee Jennings",
             4.59,
             null
            ],
            [
             90,
             "Christian Barmore",
             3.73,
             null
            ],
            [
             25,
             "Marcus Jones",
             3.29,
             null
            ],
            [
             13,
             "Jack Jones",
             3.64,
             null
            ]
           ],
           "hovertemplate": "club=NE<br>frameId=30<br>x=%{x}<br>y=%{y}<br>jerseyNumber=%{customdata[0]}<br>displayName=%{customdata[1]}<br>s=%{customdata[2]}<br>event=%{customdata[3]}<extra></extra>",
           "legendgroup": "NE",
           "marker": {
            "color": "#002244",
            "symbol": "circle"
           },
           "mode": "markers",
           "name": "NE",
           "orientation": "v",
           "showlegend": true,
           "type": "scatter",
           "x": [
            71.55,
            64.96,
            57.6,
            60.94,
            57.48,
            60.02,
            58.32,
            56.39,
            60.27,
            64.23,
            70.84
           ],
           "xaxis": "x",
           "y": [
            29.37,
            11.68,
            34.2,
            32.39,
            27.91,
            27.78,
            33.41,
            25.82,
            31.76,
            36.61,
            11.77
           ],
           "yaxis": "y"
          },
          {
           "customdata": [
            [
             75,
             "Joel Bitonio",
             4.49,
             null
            ],
            [
             2,
             "Amari Cooper",
             5.68,
             null
            ],
            [
             78,
             "Jack Conklin",
             3.84,
             null
            ],
            [
             7,
             "Jacoby Brissett",
             3.98,
             null
            ],
            [
             85,
             "David Njoku",
             3.47,
             null
            ],
            [
             55,
             "Ethan Pocic",
             3.78,
             null
            ],
            [
             24,
             "Nick Chubb",
             6,
             null
            ],
            [
             72,
             "Hjalte Froholdt",
             1.35,
             null
            ],
            [
             71,
             "Jedrick Wills",
             2.46,
             null
            ],
            [
             11,
             "Donovan Peoples-Jones",
             4.47,
             null
            ],
            [
             18,
             "David Bell",
             2.81,
             null
            ]
           ],
           "hovertemplate": "club=CLE<br>frameId=30<br>x=%{x}<br>y=%{y}<br>jerseyNumber=%{customdata[0]}<br>displayName=%{customdata[1]}<br>s=%{customdata[2]}<br>event=%{customdata[3]}<extra></extra>",
           "legendgroup": "CLE",
           "marker": {
            "color": "#311D00",
            "symbol": "circle"
           },
           "mode": "markers",
           "name": "CLE",
           "orientation": "v",
           "showlegend": true,
           "type": "scatter",
           "x": [
            60.26,
            62.62,
            60.29,
            49.99,
            56.57,
            59.79,
            57.32,
            57.07,
            57.07,
            57.52,
            56.74
           ],
           "xaxis": "x",
           "y": [
            32.93,
            13.24,
            28.35,
            24.56,
            34.08,
            31.83,
            31.52,
            28.78,
            33.34,
            13.41,
            34.4
           ],
           "yaxis": "y"
          },
          {
           "customdata": [
            [
             null,
             "football",
             7.23000001907349,
             null
            ]
           ],
           "hovertemplate": "club=football<br>frameId=30<br>x=%{x}<br>y=%{y}<br>jerseyNumber=%{customdata[0]}<br>displayName=%{customdata[1]}<br>s=%{customdata[2]}<br>event=%{customdata[3]}<extra></extra>",
           "legendgroup": "football",
           "marker": {
            "color": "#CBB67C",
            "symbol": "circle"
           },
           "mode": "markers",
           "name": "football",
           "orientation": "v",
           "showlegend": true,
           "type": "scatter",
           "x": [
            57.1599998474121
           ],
           "xaxis": "x",
           "y": [
            31.6700000762939
           ],
           "yaxis": "y"
          }
         ],
         "name": "30"
        },
        {
         "data": [
          {
           "customdata": [
            [
             32,
             "Devin McCourty",
             4.44,
             null
            ],
            [
             21,
             "Adrian Phillips",
             2.47,
             null
            ],
            [
             91,
             "Deatrich Wise",
             3.36,
             null
            ],
            [
             8,
             "Ja'Whaun Bentley",
             3.75,
             null
            ],
            [
             95,
             "Daniel Ekuale",
             2.47,
             null
            ],
            [
             48,
             "Jahlani Tavai",
             4.05,
             null
            ],
            [
             23,
             "Kyle Dugger",
             1.81,
             null
            ],
            [
             58,
             "Anfernee Jennings",
             4.59,
             null
            ],
            [
             90,
             "Christian Barmore",
             3.8,
             null
            ],
            [
             25,
             "Marcus Jones",
             3.21,
             null
            ],
            [
             13,
             "Jack Jones",
             3.77,
             null
            ]
           ],
           "hovertemplate": "club=NE<br>frameId=31<br>x=%{x}<br>y=%{y}<br>jerseyNumber=%{customdata[0]}<br>displayName=%{customdata[1]}<br>s=%{customdata[2]}<br>event=%{customdata[3]}<extra></extra>",
           "legendgroup": "NE",
           "marker": {
            "color": "#002244",
            "symbol": "circle"
           },
           "mode": "markers",
           "name": "NE",
           "orientation": "v",
           "showlegend": true,
           "type": "scatter",
           "x": [
            71.22,
            65.11,
            57.77,
            60.93,
            57.67,
            60.05,
            58.45,
            56.55,
            60.3,
            63.92,
            71.1
           ],
           "xaxis": "x",
           "y": [
            29.64,
            11.86,
            34.51,
            32.78,
            28.07,
            28.2,
            33.29,
            26.26,
            32.16,
            36.53,
            12.04
           ],
           "yaxis": "y"
          },
          {
           "customdata": [
            [
             75,
             "Joel Bitonio",
             4.28,
             null
            ],
            [
             2,
             "Amari Cooper",
             5.79,
             null
            ],
            [
             78,
             "Jack Conklin",
             3.68,
             null
            ],
            [
             7,
             "Jacoby Brissett",
             3.97,
             null
            ],
            [
             85,
             "David Njoku",
             3.34,
             null
            ],
            [
             55,
             "Ethan Pocic",
             3.7,
             null
            ],
            [
             24,
             "Nick Chubb",
             5.55,
             null
            ],
            [
             72,
             "Hjalte Froholdt",
             1.53,
             null
            ],
            [
             71,
             "Jedrick Wills",
             2.24,
             null
            ],
            [
             11,
             "Donovan Peoples-Jones",
             4.32,
             null
            ],
            [
             18,
             "David Bell",
             2.72,
             null
            ]
           ],
           "hovertemplate": "club=CLE<br>frameId=31<br>x=%{x}<br>y=%{y}<br>jerseyNumber=%{customdata[0]}<br>displayName=%{customdata[1]}<br>s=%{customdata[2]}<br>event=%{customdata[3]}<extra></extra>",
           "legendgroup": "CLE",
           "marker": {
            "color": "#311D00",
            "symbol": "circle"
           },
           "mode": "markers",
           "name": "CLE",
           "orientation": "v",
           "showlegend": true,
           "type": "scatter",
           "x": [
            60.41,
            63.01,
            60.52,
            49.81,
            56.67,
            59.85,
            57.79,
            57.2,
            57.11,
            57.94,
            56.85
           ],
           "xaxis": "x",
           "y": [
            33.34,
            13.67,
            28.67,
            24.2,
            34.4,
            32.21,
            31.83,
            28.89,
            33.56,
            13.27,
            34.65
           ],
           "yaxis": "y"
          },
          {
           "customdata": [
            [
             null,
             "football",
             6.42000007629395,
             null
            ]
           ],
           "hovertemplate": "club=football<br>frameId=31<br>x=%{x}<br>y=%{y}<br>jerseyNumber=%{customdata[0]}<br>displayName=%{customdata[1]}<br>s=%{customdata[2]}<br>event=%{customdata[3]}<extra></extra>",
           "legendgroup": "football",
           "marker": {
            "color": "#CBB67C",
            "symbol": "circle"
           },
           "mode": "markers",
           "name": "football",
           "orientation": "v",
           "showlegend": true,
           "type": "scatter",
           "x": [
            57.6699981689453
           ],
           "xaxis": "x",
           "y": [
            32
           ],
           "yaxis": "y"
          }
         ],
         "name": "31"
        },
        {
         "data": [
          {
           "customdata": [
            [
             32,
             "Devin McCourty",
             4.73,
             "first_contact"
            ],
            [
             21,
             "Adrian Phillips",
             2.85,
             "first_contact"
            ],
            [
             91,
             "Deatrich Wise",
             3.29,
             "first_contact"
            ],
            [
             8,
             "Ja'Whaun Bentley",
             3.35,
             "first_contact"
            ],
            [
             95,
             "Daniel Ekuale",
             2.88,
             "first_contact"
            ],
            [
             48,
             "Jahlani Tavai",
             4.02,
             "first_contact"
            ],
            [
             23,
             "Kyle Dugger",
             2.07,
             "first_contact"
            ],
            [
             58,
             "Anfernee Jennings",
             4.52,
             "first_contact"
            ],
            [
             90,
             "Christian Barmore",
             3.74,
             "first_contact"
            ],
            [
             25,
             "Marcus Jones",
             3.17,
             "first_contact"
            ],
            [
             13,
             "Jack Jones",
             4.02,
             "first_contact"
            ]
           ],
           "hovertemplate": "club=NE<br>frameId=32<br>x=%{x}<br>y=%{y}<br>jerseyNumber=%{customdata[0]}<br>displayName=%{customdata[1]}<br>s=%{customdata[2]}<br>event=%{customdata[3]}<extra></extra>",
           "legendgroup": "NE",
           "marker": {
            "color": "#002244",
            "symbol": "circle"
           },
           "mode": "markers",
           "name": "NE",
           "orientation": "v",
           "showlegend": true,
           "type": "scatter",
           "x": [
            70.85,
            65.24,
            57.94,
            60.94,
            57.92,
            60.09,
            58.59,
            56.75,
            60.32,
            63.62,
            71.37
           ],
           "xaxis": "x",
           "y": [
            29.91,
            12.1,
            34.81,
            33.11,
            28.24,
            28.61,
            33.16,
            26.66,
            32.55,
            36.42,
            12.34
           ],
           "yaxis": "y"
          },
          {
           "customdata": [
            [
             75,
             "Joel Bitonio",
             3.95,
             "first_contact"
            ],
            [
             2,
             "Amari Cooper",
             5.86,
             "first_contact"
            ],
            [
             78,
             "Jack Conklin",
             3.51,
             "first_contact"
            ],
            [
             7,
             "Jacoby Brissett",
             4.01,
             "first_contact"
            ],
            [
             85,
             "David Njoku",
             3.24,
             "first_contact"
            ],
            [
             55,
             "Ethan Pocic",
             3.88,
             "first_contact"
            ],
            [
             24,
             "Nick Chubb",
             5.04,
             "first_contact"
            ],
            [
             72,
             "Hjalte Froholdt",
             1.72,
             "first_contact"
            ],
            [
             71,
             "Jedrick Wills",
             2.08,
             "first_contact"
            ],
            [
             11,
             "Donovan Peoples-Jones",
             4.21,
             "first_contact"
            ],
            [
             18,
             "David Bell",
             2.78,
             "first_contact"
            ]
           ],
           "hovertemplate": "club=CLE<br>frameId=32<br>x=%{x}<br>y=%{y}<br>jerseyNumber=%{customdata[0]}<br>displayName=%{customdata[1]}<br>s=%{customdata[2]}<br>event=%{customdata[3]}<extra></extra>",
           "legendgroup": "CLE",
           "marker": {
            "color": "#311D00",
            "symbol": "circle"
           },
           "mode": "markers",
           "name": "CLE",
           "orientation": "v",
           "showlegend": true,
           "type": "scatter",
           "x": [
            60.54,
            63.4,
            60.72,
            49.68,
            56.79,
            59.86,
            58.25,
            57.35,
            57.15,
            58.35,
            56.95
           ],
           "xaxis": "x",
           "y": [
            33.71,
            14.11,
            28.97,
            23.82,
            34.7,
            32.63,
            32.07,
            28.99,
            33.78,
            13.18,
            34.91
           ],
           "yaxis": "y"
          },
          {
           "customdata": [
            [
             null,
             "football",
             5.73000001907349,
             "first_contact"
            ]
           ],
           "hovertemplate": "club=football<br>frameId=32<br>x=%{x}<br>y=%{y}<br>jerseyNumber=%{customdata[0]}<br>displayName=%{customdata[1]}<br>s=%{customdata[2]}<br>event=%{customdata[3]}<extra></extra>",
           "legendgroup": "football",
           "marker": {
            "color": "#CBB67C",
            "symbol": "circle"
           },
           "mode": "markers",
           "name": "football",
           "orientation": "v",
           "showlegend": true,
           "type": "scatter",
           "x": [
            58.1800003051758
           ],
           "xaxis": "x",
           "y": [
            32.2900009155273
           ],
           "yaxis": "y"
          }
         ],
         "name": "32"
        },
        {
         "data": [
          {
           "customdata": [
            [
             32,
             "Devin McCourty",
             4.95,
             null
            ],
            [
             21,
             "Adrian Phillips",
             3.18,
             null
            ],
            [
             91,
             "Deatrich Wise",
             3.22,
             null
            ],
            [
             8,
             "Ja'Whaun Bentley",
             2.87,
             null
            ],
            [
             95,
             "Daniel Ekuale",
             3.22,
             null
            ],
            [
             48,
             "Jahlani Tavai",
             4.02,
             null
            ],
            [
             23,
             "Kyle Dugger",
             2.28,
             null
            ],
            [
             58,
             "Anfernee Jennings",
             4.46,
             null
            ],
            [
             90,
             "Christian Barmore",
             3.67,
             null
            ],
            [
             25,
             "Marcus Jones",
             3.13,
             null
            ],
            [
             13,
             "Jack Jones",
             4.21,
             null
            ]
           ],
           "hovertemplate": "club=NE<br>frameId=33<br>x=%{x}<br>y=%{y}<br>jerseyNumber=%{customdata[0]}<br>displayName=%{customdata[1]}<br>s=%{customdata[2]}<br>event=%{customdata[3]}<extra></extra>",
           "legendgroup": "NE",
           "marker": {
            "color": "#002244",
            "symbol": "circle"
           },
           "mode": "markers",
           "name": "NE",
           "orientation": "v",
           "showlegend": true,
           "type": "scatter",
           "x": [
            70.44,
            65.37,
            58.14,
            60.94,
            58.21,
            60.18,
            58.73,
            56.96,
            60.32,
            63.35,
            71.62
           ],
           "xaxis": "x",
           "y": [
            30.17,
            12.38,
            35.07,
            33.39,
            28.42,
            29.01,
            33,
            27.06,
            32.93,
            36.27,
            12.68
           ],
           "yaxis": "y"
          },
          {
           "customdata": [
            [
             75,
             "Joel Bitonio",
             3.53,
             null
            ],
            [
             2,
             "Amari Cooper",
             5.91,
             null
            ],
            [
             78,
             "Jack Conklin",
             3.32,
             null
            ],
            [
             7,
             "Jacoby Brissett",
             4.04,
             null
            ],
            [
             85,
             "David Njoku",
             3.1,
             null
            ],
            [
             55,
             "Ethan Pocic",
             3.8,
             null
            ],
            [
             24,
             "Nick Chubb",
             4.59,
             null
            ],
            [
             72,
             "Hjalte Froholdt",
             2.13,
             null
            ],
            [
             71,
             "Jedrick Wills",
             1.87,
             null
            ],
            [
             11,
             "Donovan Peoples-Jones",
             4.18,
             null
            ],
            [
             18,
             "David Bell",
             2.84,
             null
            ]
           ],
           "hovertemplate": "club=CLE<br>frameId=33<br>x=%{x}<br>y=%{y}<br>jerseyNumber=%{customdata[0]}<br>displayName=%{customdata[1]}<br>s=%{customdata[2]}<br>event=%{customdata[3]}<extra></extra>",
           "legendgroup": "CLE",
           "marker": {
            "color": "#311D00",
            "symbol": "circle"
           },
           "mode": "markers",
           "name": "CLE",
           "orientation": "v",
           "showlegend": true,
           "type": "scatter",
           "x": [
            60.67,
            63.8,
            60.91,
            49.6,
            56.92,
            59.87,
            58.69,
            57.57,
            57.2,
            58.77,
            57.07
           ],
           "xaxis": "x",
           "y": [
            34.04,
            14.55,
            29.26,
            23.43,
            34.99,
            33.02,
            32.25,
            29.09,
            33.97,
            13.12,
            35.15
           ],
           "yaxis": "y"
          },
          {
           "customdata": [
            [
             null,
             "football",
             4.98000001907349,
             null
            ]
           ],
           "hovertemplate": "club=football<br>frameId=33<br>x=%{x}<br>y=%{y}<br>jerseyNumber=%{customdata[0]}<br>displayName=%{customdata[1]}<br>s=%{customdata[2]}<br>event=%{customdata[3]}<extra></extra>",
           "legendgroup": "football",
           "marker": {
            "color": "#CBB67C",
            "symbol": "circle"
           },
           "mode": "markers",
           "name": "football",
           "orientation": "v",
           "showlegend": true,
           "type": "scatter",
           "x": [
            58.6500015258789
           ],
           "xaxis": "x",
           "y": [
            32.5299987792969
           ],
           "yaxis": "y"
          }
         ],
         "name": "33"
        },
        {
         "data": [
          {
           "customdata": [
            [
             32,
             "Devin McCourty",
             5.08,
             null
            ],
            [
             21,
             "Adrian Phillips",
             3.45,
             null
            ],
            [
             91,
             "Deatrich Wise",
             3.06,
             null
            ],
            [
             8,
             "Ja'Whaun Bentley",
             2.57,
             null
            ],
            [
             95,
             "Daniel Ekuale",
             3.46,
             null
            ],
            [
             48,
             "Jahlani Tavai",
             3.96,
             null
            ],
            [
             23,
             "Kyle Dugger",
             2.57,
             null
            ],
            [
             58,
             "Anfernee Jennings",
             4.41,
             null
            ],
            [
             90,
             "Christian Barmore",
             3.52,
             null
            ],
            [
             25,
             "Marcus Jones",
             3.05,
             null
            ],
            [
             13,
             "Jack Jones",
             4.43,
             null
            ]
           ],
           "hovertemplate": "club=NE<br>frameId=34<br>x=%{x}<br>y=%{y}<br>jerseyNumber=%{customdata[0]}<br>displayName=%{customdata[1]}<br>s=%{customdata[2]}<br>event=%{customdata[3]}<extra></extra>",
           "legendgroup": "NE",
           "marker": {
            "color": "#002244",
            "symbol": "circle"
           },
           "mode": "markers",
           "name": "NE",
           "orientation": "v",
           "showlegend": true,
           "type": "scatter",
           "x": [
            70,
            65.48,
            58.34,
            60.97,
            58.53,
            60.25,
            58.91,
            57.2,
            60.31,
            63.1,
            71.86
           ],
           "xaxis": "x",
           "y": [
            30.42,
            12.7,
            35.31,
            33.66,
            28.58,
            29.4,
            32.81,
            27.44,
            33.29,
            36.09,
            13.04
           ],
           "yaxis": "y"
          },
          {
           "customdata": [
            [
             75,
             "Joel Bitonio",
             3.15,
             null
            ],
            [
             2,
             "Amari Cooper",
             5.98,
             null
            ],
            [
             78,
             "Jack Conklin",
             3.19,
             null
            ],
            [
             7,
             "Jacoby Brissett",
             4.07,
             null
            ],
            [
             85,
             "David Njoku",
             2.94,
             null
            ],
            [
             55,
             "Ethan Pocic",
             3.76,
             null
            ],
            [
             24,
             "Nick Chubb",
             4.05,
             null
            ],
            [
             72,
             "Hjalte Froholdt",
             2.46,
             null
            ],
            [
             71,
             "Jedrick Wills",
             1.66,
             null
            ],
            [
             11,
             "Donovan Peoples-Jones",
             4.11,
             null
            ],
            [
             18,
             "David Bell",
             2.96,
             null
            ]
           ],
           "hovertemplate": "club=CLE<br>frameId=34<br>x=%{x}<br>y=%{y}<br>jerseyNumber=%{customdata[0]}<br>displayName=%{customdata[1]}<br>s=%{customdata[2]}<br>event=%{customdata[3]}<extra></extra>",
           "legendgroup": "CLE",
           "marker": {
            "color": "#311D00",
            "symbol": "circle"
           },
           "mode": "markers",
           "name": "CLE",
           "orientation": "v",
           "showlegend": true,
           "type": "scatter",
           "x": [
            60.8,
            64.2,
            61.05,
            49.58,
            57.06,
            59.85,
            59.08,
            57.8,
            57.24,
            59.19,
            57.23
           ],
           "xaxis": "x",
           "y": [
            34.35,
            15,
            29.56,
            23.02,
            35.25,
            33.4,
            32.35,
            29.19,
            34.14,
            13.12,
            35.39
           ],
           "yaxis": "y"
          },
          {
           "customdata": [
            [
             null,
             "football",
             4.34000015258789,
             null
            ]
           ],
           "hovertemplate": "club=football<br>frameId=34<br>x=%{x}<br>y=%{y}<br>jerseyNumber=%{customdata[0]}<br>displayName=%{customdata[1]}<br>s=%{customdata[2]}<br>event=%{customdata[3]}<extra></extra>",
           "legendgroup": "football",
           "marker": {
            "color": "#CBB67C",
            "symbol": "circle"
           },
           "mode": "markers",
           "name": "football",
           "orientation": "v",
           "showlegend": true,
           "type": "scatter",
           "x": [
            59.0699996948242
           ],
           "xaxis": "x",
           "y": [
            32.7299995422363
           ],
           "yaxis": "y"
          }
         ],
         "name": "34"
        },
        {
         "data": [
          {
           "customdata": [
            [
             32,
             "Devin McCourty",
             5.13,
             null
            ],
            [
             21,
             "Adrian Phillips",
             3.73,
             null
            ],
            [
             91,
             "Deatrich Wise",
             2.85,
             null
            ],
            [
             8,
             "Ja'Whaun Bentley",
             2.16,
             null
            ],
            [
             95,
             "Daniel Ekuale",
             3.7,
             null
            ],
            [
             48,
             "Jahlani Tavai",
             3.9,
             null
            ],
            [
             23,
             "Kyle Dugger",
             2.78,
             null
            ],
            [
             58,
             "Anfernee Jennings",
             4.39,
             null
            ],
            [
             90,
             "Christian Barmore",
             3.34,
             null
            ],
            [
             25,
             "Marcus Jones",
             3.01,
             null
            ],
            [
             13,
             "Jack Jones",
             4.57,
             null
            ]
           ],
           "hovertemplate": "club=NE<br>frameId=35<br>x=%{x}<br>y=%{y}<br>jerseyNumber=%{customdata[0]}<br>displayName=%{customdata[1]}<br>s=%{customdata[2]}<br>event=%{customdata[3]}<extra></extra>",
           "legendgroup": "NE",
           "marker": {
            "color": "#002244",
            "symbol": "circle"
           },
           "mode": "markers",
           "name": "NE",
           "orientation": "v",
           "showlegend": true,
           "type": "scatter",
           "x": [
            69.55,
            65.58,
            58.54,
            61.02,
            58.88,
            60.34,
            59.09,
            57.47,
            60.29,
            62.9,
            72.1
           ],
           "xaxis": "x",
           "y": [
            30.65,
            13.05,
            35.51,
            33.87,
            28.75,
            29.79,
            32.61,
            27.79,
            33.64,
            35.87,
            13.43
           ],
           "yaxis": "y"
          },
          {
           "customdata": [
            [
             75,
             "Joel Bitonio",
             2.52,
             null
            ],
            [
             2,
             "Amari Cooper",
             5.92,
             null
            ],
            [
             78,
             "Jack Conklin",
             3.15,
             null
            ],
            [
             7,
             "Jacoby Brissett",
             4.07,
             null
            ],
            [
             85,
             "David Njoku",
             2.63,
             null
            ],
            [
             55,
             "Ethan Pocic",
             3.68,
             null
            ],
            [
             24,
             "Nick Chubb",
             3.73,
             null
            ],
            [
             72,
             "Hjalte Froholdt",
             2.77,
             null
            ],
            [
             71,
             "Jedrick Wills",
             1.47,
             null
            ],
            [
             11,
             "Donovan Peoples-Jones",
             4.01,
             null
            ],
            [
             18,
             "David Bell",
             2.89,
             null
            ]
           ],
           "hovertemplate": "club=CLE<br>frameId=35<br>x=%{x}<br>y=%{y}<br>jerseyNumber=%{customdata[0]}<br>displayName=%{customdata[1]}<br>s=%{customdata[2]}<br>event=%{customdata[3]}<extra></extra>",
           "legendgroup": "CLE",
           "marker": {
            "color": "#311D00",
            "symbol": "circle"
           },
           "mode": "markers",
           "name": "CLE",
           "orientation": "v",
           "showlegend": true,
           "type": "scatter",
           "x": [
            60.9,
            64.59,
            61.17,
            49.61,
            57.19,
            59.82,
            59.47,
            58.06,
            57.29,
            59.59,
            57.43
           ],
           "xaxis": "x",
           "y": [
            34.56,
            15.45,
            29.87,
            22.62,
            35.47,
            33.78,
            32.43,
            29.3,
            34.29,
            13.17,
            35.62
           ],
           "yaxis": "y"
          },
          {
           "customdata": [
            [
             null,
             "football",
             3.60999989509583,
             null
            ]
           ],
           "hovertemplate": "club=football<br>frameId=35<br>x=%{x}<br>y=%{y}<br>jerseyNumber=%{customdata[0]}<br>displayName=%{customdata[1]}<br>s=%{customdata[2]}<br>event=%{customdata[3]}<extra></extra>",
           "legendgroup": "football",
           "marker": {
            "color": "#CBB67C",
            "symbol": "circle"
           },
           "mode": "markers",
           "name": "football",
           "orientation": "v",
           "showlegend": true,
           "type": "scatter",
           "x": [
            59.4099998474121
           ],
           "xaxis": "x",
           "y": [
            32.9099998474121
           ],
           "yaxis": "y"
          }
         ],
         "name": "35"
        },
        {
         "data": [
          {
           "customdata": [
            [
             32,
             "Devin McCourty",
             5.14,
             null
            ],
            [
             21,
             "Adrian Phillips",
             4,
             null
            ],
            [
             91,
             "Deatrich Wise",
             2.67,
             null
            ],
            [
             8,
             "Ja'Whaun Bentley",
             1.78,
             null
            ],
            [
             95,
             "Daniel Ekuale",
             4,
             null
            ],
            [
             48,
             "Jahlani Tavai",
             3.84,
             null
            ],
            [
             23,
             "Kyle Dugger",
             2.81,
             null
            ],
            [
             58,
             "Anfernee Jennings",
             4.36,
             null
            ],
            [
             90,
             "Christian Barmore",
             3.13,
             null
            ],
            [
             25,
             "Marcus Jones",
             3.03,
             null
            ],
            [
             13,
             "Jack Jones",
             4.68,
             null
            ]
           ],
           "hovertemplate": "club=NE<br>frameId=36<br>x=%{x}<br>y=%{y}<br>jerseyNumber=%{customdata[0]}<br>displayName=%{customdata[1]}<br>s=%{customdata[2]}<br>event=%{customdata[3]}<extra></extra>",
           "legendgroup": "NE",
           "marker": {
            "color": "#002244",
            "symbol": "circle"
           },
           "mode": "markers",
           "name": "NE",
           "orientation": "v",
           "showlegend": true,
           "type": "scatter",
           "x": [
            69.08,
            65.64,
            58.74,
            61.08,
            59.27,
            60.42,
            59.27,
            57.76,
            60.25,
            62.73,
            72.31
           ],
           "xaxis": "x",
           "y": [
            30.86,
            13.45,
            35.7,
            34.06,
            28.96,
            30.17,
            32.41,
            28.12,
            33.96,
            35.62,
            13.84
           ],
           "yaxis": "y"
          },
          {
           "customdata": [
            [
             75,
             "Joel Bitonio",
             2.06,
             null
            ],
            [
             2,
             "Amari Cooper",
             5.91,
             null
            ],
            [
             78,
             "Jack Conklin",
             3.08,
             null
            ],
            [
             7,
             "Jacoby Brissett",
             4.09,
             null
            ],
            [
             85,
             "David Njoku",
             2.38,
             null
            ],
            [
             55,
             "Ethan Pocic",
             3.52,
             null
            ],
            [
             24,
             "Nick Chubb",
             3.32,
             null
            ],
            [
             72,
             "Hjalte Froholdt",
             3.01,
             null
            ],
            [
             71,
             "Jedrick Wills",
             1.29,
             null
            ],
            [
             11,
             "Donovan Peoples-Jones",
             3.94,
             null
            ],
            [
             18,
             "David Bell",
             2.78,
             null
            ]
           ],
           "hovertemplate": "club=CLE<br>frameId=36<br>x=%{x}<br>y=%{y}<br>jerseyNumber=%{customdata[0]}<br>displayName=%{customdata[1]}<br>s=%{customdata[2]}<br>event=%{customdata[3]}<extra></extra>",
           "legendgroup": "CLE",
           "marker": {
            "color": "#311D00",
            "symbol": "circle"
           },
           "mode": "markers",
           "name": "CLE",
           "orientation": "v",
           "showlegend": true,
           "type": "scatter",
           "x": [
            61,
            64.97,
            61.27,
            49.67,
            57.32,
            59.77,
            59.81,
            58.34,
            57.33,
            59.97,
            57.65
           ],
           "xaxis": "x",
           "y": [
            34.76,
            15.9,
            30.17,
            22.21,
            35.68,
            34.14,
            32.49,
            29.42,
            34.42,
            13.25,
            35.81
           ],
           "yaxis": "y"
          },
          {
           "customdata": [
            [
             null,
             "football",
             2.98000001907349,
             null
            ]
           ],
           "hovertemplate": "club=football<br>frameId=36<br>x=%{x}<br>y=%{y}<br>jerseyNumber=%{customdata[0]}<br>displayName=%{customdata[1]}<br>s=%{customdata[2]}<br>event=%{customdata[3]}<extra></extra>",
           "legendgroup": "football",
           "marker": {
            "color": "#CBB67C",
            "symbol": "circle"
           },
           "mode": "markers",
           "name": "football",
           "orientation": "v",
           "showlegend": true,
           "type": "scatter",
           "x": [
            59.7099990844727
           ],
           "xaxis": "x",
           "y": [
            33.0400009155273
           ],
           "yaxis": "y"
          }
         ],
         "name": "36"
        },
        {
         "data": [
          {
           "customdata": [
            [
             32,
             "Devin McCourty",
             5.09,
             null
            ],
            [
             21,
             "Adrian Phillips",
             4.28,
             null
            ],
            [
             91,
             "Deatrich Wise",
             2.45,
             null
            ],
            [
             8,
             "Ja'Whaun Bentley",
             1.37,
             null
            ],
            [
             95,
             "Daniel Ekuale",
             4.17,
             null
            ],
            [
             48,
             "Jahlani Tavai",
             3.83,
             null
            ],
            [
             23,
             "Kyle Dugger",
             2.68,
             null
            ],
            [
             58,
             "Anfernee Jennings",
             4.29,
             null
            ],
            [
             90,
             "Christian Barmore",
             2.88,
             null
            ],
            [
             25,
             "Marcus Jones",
             3.07,
             null
            ],
            [
             13,
             "Jack Jones",
             4.75,
             null
            ]
           ],
           "hovertemplate": "club=NE<br>frameId=37<br>x=%{x}<br>y=%{y}<br>jerseyNumber=%{customdata[0]}<br>displayName=%{customdata[1]}<br>s=%{customdata[2]}<br>event=%{customdata[3]}<extra></extra>",
           "legendgroup": "NE",
           "marker": {
            "color": "#002244",
            "symbol": "circle"
           },
           "mode": "markers",
           "name": "NE",
           "orientation": "v",
           "showlegend": true,
           "type": "scatter",
           "x": [
            68.61,
            65.69,
            58.93,
            61.15,
            59.65,
            60.53,
            59.44,
            58.06,
            60.2,
            62.61,
            72.51
           ],
           "xaxis": "x",
           "y": [
            31.06,
            13.87,
            35.87,
            34.19,
            29.17,
            30.55,
            32.21,
            28.43,
            34.25,
            35.34,
            14.27
           ],
           "yaxis": "y"
          },
          {
           "customdata": [
            [
             75,
             "Joel Bitonio",
             1.58,
             null
            ],
            [
             2,
             "Amari Cooper",
             5.87,
             null
            ],
            [
             78,
             "Jack Conklin",
             2.99,
             null
            ],
            [
             7,
             "Jacoby Brissett",
             4.07,
             null
            ],
            [
             85,
             "David Njoku",
             2.1,
             null
            ],
            [
             55,
             "Ethan Pocic",
             3.31,
             null
            ],
            [
             24,
             "Nick Chubb",
             2.96,
             null
            ],
            [
             72,
             "Hjalte Froholdt",
             3.43,
             null
            ],
            [
             71,
             "Jedrick Wills",
             1.08,
             null
            ],
            [
             11,
             "Donovan Peoples-Jones",
             3.88,
             null
            ],
            [
             18,
             "David Bell",
             2.66,
             null
            ]
           ],
           "hovertemplate": "club=CLE<br>frameId=37<br>x=%{x}<br>y=%{y}<br>jerseyNumber=%{customdata[0]}<br>displayName=%{customdata[1]}<br>s=%{customdata[2]}<br>event=%{customdata[3]}<extra></extra>",
           "legendgroup": "CLE",
           "marker": {
            "color": "#311D00",
            "symbol": "circle"
           },
           "mode": "markers",
           "name": "CLE",
           "orientation": "v",
           "showlegend": true,
           "type": "scatter",
           "x": [
            61.1,
            65.35,
            61.37,
            49.78,
            57.45,
            59.72,
            60.12,
            58.65,
            57.37,
            60.35,
            57.87
           ],
           "xaxis": "x",
           "y": [
            34.89,
            16.36,
            30.46,
            21.82,
            35.86,
            34.47,
            32.52,
            29.58,
            34.53,
            13.37,
            35.97
           ],
           "yaxis": "y"
          },
          {
           "customdata": [
            [
             null,
             "football",
             2.3199999332428,
             null
            ]
           ],
           "hovertemplate": "club=football<br>frameId=37<br>x=%{x}<br>y=%{y}<br>jerseyNumber=%{customdata[0]}<br>displayName=%{customdata[1]}<br>s=%{customdata[2]}<br>event=%{customdata[3]}<extra></extra>",
           "legendgroup": "football",
           "marker": {
            "color": "#CBB67C",
            "symbol": "circle"
           },
           "mode": "markers",
           "name": "football",
           "orientation": "v",
           "showlegend": true,
           "type": "scatter",
           "x": [
            59.9199981689453
           ],
           "xaxis": "x",
           "y": [
            33.1599998474121
           ],
           "yaxis": "y"
          }
         ],
         "name": "37"
        },
        {
         "data": [
          {
           "customdata": [
            [
             32,
             "Devin McCourty",
             4.99,
             null
            ],
            [
             21,
             "Adrian Phillips",
             4.52,
             null
            ],
            [
             91,
             "Deatrich Wise",
             2.23,
             null
            ],
            [
             8,
             "Ja'Whaun Bentley",
             1.3,
             null
            ],
            [
             95,
             "Daniel Ekuale",
             4.2,
             null
            ],
            [
             48,
             "Jahlani Tavai",
             3.85,
             null
            ],
            [
             23,
             "Kyle Dugger",
             2.56,
             null
            ],
            [
             58,
             "Anfernee Jennings",
             4.23,
             null
            ],
            [
             90,
             "Christian Barmore",
             2.61,
             null
            ],
            [
             25,
             "Marcus Jones",
             3.14,
             null
            ],
            [
             13,
             "Jack Jones",
             4.78,
             null
            ]
           ],
           "hovertemplate": "club=NE<br>frameId=38<br>x=%{x}<br>y=%{y}<br>jerseyNumber=%{customdata[0]}<br>displayName=%{customdata[1]}<br>s=%{customdata[2]}<br>event=%{customdata[3]}<extra></extra>",
           "legendgroup": "NE",
           "marker": {
            "color": "#002244",
            "symbol": "circle"
           },
           "mode": "markers",
           "name": "NE",
           "orientation": "v",
           "showlegend": true,
           "type": "scatter",
           "x": [
            68.14,
            65.72,
            59.1,
            61.24,
            60.03,
            60.66,
            59.6,
            58.38,
            60.15,
            62.52,
            72.7
           ],
           "xaxis": "x",
           "y": [
            31.24,
            14.32,
            36.03,
            34.29,
            29.38,
            30.92,
            32.02,
            28.72,
            34.51,
            35.04,
            14.71
           ],
           "yaxis": "y"
          },
          {
           "customdata": [
            [
             75,
             "Joel Bitonio",
             1,
             null
            ],
            [
             2,
             "Amari Cooper",
             5.82,
             null
            ],
            [
             78,
             "Jack Conklin",
             2.88,
             null
            ],
            [
             7,
             "Jacoby Brissett",
             3.98,
             null
            ],
            [
             85,
             "David Njoku",
             1.79,
             null
            ],
            [
             55,
             "Ethan Pocic",
             3,
             null
            ],
            [
             24,
             "Nick Chubb",
             2.66,
             null
            ],
            [
             72,
             "Hjalte Froholdt",
             3.83,
             null
            ],
            [
             71,
             "Jedrick Wills",
             0.84,
             null
            ],
            [
             11,
             "Donovan Peoples-Jones",
             3.85,
             null
            ],
            [
             18,
             "David Bell",
             2.49,
             null
            ]
           ],
           "hovertemplate": "club=CLE<br>frameId=38<br>x=%{x}<br>y=%{y}<br>jerseyNumber=%{customdata[0]}<br>displayName=%{customdata[1]}<br>s=%{customdata[2]}<br>event=%{customdata[3]}<extra></extra>",
           "legendgroup": "CLE",
           "marker": {
            "color": "#311D00",
            "symbol": "circle"
           },
           "mode": "markers",
           "name": "CLE",
           "orientation": "v",
           "showlegend": true,
           "type": "scatter",
           "x": [
            61.16,
            65.73,
            61.46,
            49.91,
            57.57,
            59.67,
            60.4,
            58.99,
            57.4,
            60.71,
            58.08
           ],
           "xaxis": "x",
           "y": [
            34.96,
            16.8,
            30.75,
            21.45,
            36.01,
            34.77,
            32.52,
            29.76,
            34.61,
            13.51,
            36.12
           ],
           "yaxis": "y"
          },
          {
           "customdata": [
            [
             null,
             "football",
             1.8400000333786,
             null
            ]
           ],
           "hovertemplate": "club=football<br>frameId=38<br>x=%{x}<br>y=%{y}<br>jerseyNumber=%{customdata[0]}<br>displayName=%{customdata[1]}<br>s=%{customdata[2]}<br>event=%{customdata[3]}<extra></extra>",
           "legendgroup": "football",
           "marker": {
            "color": "#CBB67C",
            "symbol": "circle"
           },
           "mode": "markers",
           "name": "football",
           "orientation": "v",
           "showlegend": true,
           "type": "scatter",
           "x": [
            60.0900001525879
           ],
           "xaxis": "x",
           "y": [
            33.2599983215332
           ],
           "yaxis": "y"
          }
         ],
         "name": "38"
        },
        {
         "data": [
          {
           "customdata": [
            [
             32,
             "Devin McCourty",
             4.76,
             null
            ],
            [
             21,
             "Adrian Phillips",
             4.65,
             null
            ],
            [
             91,
             "Deatrich Wise",
             2.12,
             null
            ],
            [
             8,
             "Ja'Whaun Bentley",
             1.27,
             null
            ],
            [
             95,
             "Daniel Ekuale",
             4.15,
             null
            ],
            [
             48,
             "Jahlani Tavai",
             3.71,
             null
            ],
            [
             23,
             "Kyle Dugger",
             2.46,
             null
            ],
            [
             58,
             "Anfernee Jennings",
             4.07,
             null
            ],
            [
             90,
             "Christian Barmore",
             2.37,
             null
            ],
            [
             25,
             "Marcus Jones",
             3.09,
             null
            ],
            [
             13,
             "Jack Jones",
             4.76,
             null
            ]
           ],
           "hovertemplate": "club=NE<br>frameId=39<br>x=%{x}<br>y=%{y}<br>jerseyNumber=%{customdata[0]}<br>displayName=%{customdata[1]}<br>s=%{customdata[2]}<br>event=%{customdata[3]}<extra></extra>",
           "legendgroup": "NE",
           "marker": {
            "color": "#002244",
            "symbol": "circle"
           },
           "mode": "markers",
           "name": "NE",
           "orientation": "v",
           "showlegend": true,
           "type": "scatter",
           "x": [
            67.69,
            65.75,
            59.28,
            61.35,
            60.39,
            60.77,
            59.78,
            58.7,
            60.1,
            62.48,
            72.87
           ],
           "xaxis": "x",
           "y": [
            31.39,
            14.78,
            36.18,
            34.37,
            29.63,
            31.33,
            31.85,
            28.97,
            34.75,
            34.75,
            15.15
           ],
           "yaxis": "y"
          },
          {
           "customdata": [
            [
             75,
             "Joel Bitonio",
             0.58,
             null
            ],
            [
             2,
             "Amari Cooper",
             5.72,
             null
            ],
            [
             78,
             "Jack Conklin",
             2.75,
             null
            ],
            [
             7,
             "Jacoby Brissett",
             3.83,
             null
            ],
            [
             85,
             "David Njoku",
             1.51,
             null
            ],
            [
             55,
             "Ethan Pocic",
             2.75,
             null
            ],
            [
             24,
             "Nick Chubb",
             2.34,
             null
            ],
            [
             72,
             "Hjalte Froholdt",
             4.15,
             null
            ],
            [
             71,
             "Jedrick Wills",
             0.61,
             null
            ],
            [
             11,
             "Donovan Peoples-Jones",
             3.84,
             null
            ],
            [
             18,
             "David Bell",
             2.33,
             null
            ]
           ],
           "hovertemplate": "club=CLE<br>frameId=39<br>x=%{x}<br>y=%{y}<br>jerseyNumber=%{customdata[0]}<br>displayName=%{customdata[1]}<br>s=%{customdata[2]}<br>event=%{customdata[3]}<extra></extra>",
           "legendgroup": "CLE",
           "marker": {
            "color": "#311D00",
            "symbol": "circle"
           },
           "mode": "markers",
           "name": "CLE",
           "orientation": "v",
           "showlegend": true,
           "type": "scatter",
           "x": [
            61.21,
            66.1,
            61.55,
            50.07,
            57.68,
            59.61,
            60.65,
            59.35,
            57.41,
            61.05,
            58.29
           ],
           "xaxis": "x",
           "y": [
            35,
            17.25,
            31.01,
            21.1,
            36.13,
            35.05,
            32.51,
            29.98,
            34.67,
            13.69,
            36.25
           ],
           "yaxis": "y"
          },
          {
           "customdata": [
            [
             null,
             "football",
             1.44000005722046,
             null
            ]
           ],
           "hovertemplate": "club=football<br>frameId=39<br>x=%{x}<br>y=%{y}<br>jerseyNumber=%{customdata[0]}<br>displayName=%{customdata[1]}<br>s=%{customdata[2]}<br>event=%{customdata[3]}<extra></extra>",
           "legendgroup": "football",
           "marker": {
            "color": "#CBB67C",
            "symbol": "circle"
           },
           "mode": "markers",
           "name": "football",
           "orientation": "v",
           "showlegend": true,
           "type": "scatter",
           "x": [
            60.2400016784668
           ],
           "xaxis": "x",
           "y": [
            33.3400001525879
           ],
           "yaxis": "y"
          }
         ],
         "name": "39"
        },
        {
         "data": [
          {
           "customdata": [
            [
             32,
             "Devin McCourty",
             4.49,
             null
            ],
            [
             21,
             "Adrian Phillips",
             4.77,
             null
            ],
            [
             91,
             "Deatrich Wise",
             2,
             null
            ],
            [
             8,
             "Ja'Whaun Bentley",
             1.09,
             null
            ],
            [
             95,
             "Daniel Ekuale",
             4.14,
             null
            ],
            [
             48,
             "Jahlani Tavai",
             3.57,
             null
            ],
            [
             23,
             "Kyle Dugger",
             2.35,
             null
            ],
            [
             58,
             "Anfernee Jennings",
             3.87,
             null
            ],
            [
             90,
             "Christian Barmore",
             2.14,
             null
            ],
            [
             25,
             "Marcus Jones",
             3.03,
             null
            ],
            [
             13,
             "Jack Jones",
             4.68,
             null
            ]
           ],
           "hovertemplate": "club=NE<br>frameId=40<br>x=%{x}<br>y=%{y}<br>jerseyNumber=%{customdata[0]}<br>displayName=%{customdata[1]}<br>s=%{customdata[2]}<br>event=%{customdata[3]}<extra></extra>",
           "legendgroup": "NE",
           "marker": {
            "color": "#002244",
            "symbol": "circle"
           },
           "mode": "markers",
           "name": "NE",
           "orientation": "v",
           "showlegend": true,
           "type": "scatter",
           "x": [
            67.25,
            65.77,
            59.44,
            61.45,
            60.76,
            60.88,
            59.97,
            59.01,
            60.06,
            62.46,
            73.03
           ],
           "xaxis": "x",
           "y": [
            31.52,
            15.26,
            36.32,
            34.38,
            29.87,
            31.67,
            31.69,
            29.2,
            34.98,
            34.44,
            15.59
           ],
           "yaxis": "y"
          },
          {
           "customdata": [
            [
             75,
             "Joel Bitonio",
             0.35,
             null
            ],
            [
             2,
             "Amari Cooper",
             5.6,
             null
            ],
            [
             78,
             "Jack Conklin",
             2.6,
             null
            ],
            [
             7,
             "Jacoby Brissett",
             3.68,
             null
            ],
            [
             85,
             "David Njoku",
             1.23,
             null
            ],
            [
             55,
             "Ethan Pocic",
             2.42,
             null
            ],
            [
             24,
             "Nick Chubb",
             1.99,
             null
            ],
            [
             72,
             "Hjalte Froholdt",
             4.54,
             null
            ],
            [
             71,
             "Jedrick Wills",
             0.44,
             null
            ],
            [
             11,
             "Donovan Peoples-Jones",
             3.81,
             null
            ],
            [
             18,
             "David Bell",
             2.15,
             null
            ]
           ],
           "hovertemplate": "club=CLE<br>frameId=40<br>x=%{x}<br>y=%{y}<br>jerseyNumber=%{customdata[0]}<br>displayName=%{customdata[1]}<br>s=%{customdata[2]}<br>event=%{customdata[3]}<extra></extra>",
           "legendgroup": "CLE",
           "marker": {
            "color": "#311D00",
            "symbol": "circle"
           },
           "mode": "markers",
           "name": "CLE",
           "orientation": "v",
           "showlegend": true,
           "type": "scatter",
           "x": [
            61.24,
            66.46,
            61.64,
            50.25,
            57.78,
            59.57,
            60.86,
            59.74,
            57.43,
            61.37,
            58.48
           ],
           "xaxis": "x",
           "y": [
            35.01,
            17.69,
            31.27,
            20.77,
            36.23,
            35.3,
            32.51,
            30.23,
            34.72,
            13.9,
            36.35
           ],
           "yaxis": "y"
          },
          {
           "customdata": [
            [
             null,
             "football",
             1.33000004291534,
             null
            ]
           ],
           "hovertemplate": "club=football<br>frameId=40<br>x=%{x}<br>y=%{y}<br>jerseyNumber=%{customdata[0]}<br>displayName=%{customdata[1]}<br>s=%{customdata[2]}<br>event=%{customdata[3]}<extra></extra>",
           "legendgroup": "football",
           "marker": {
            "color": "#CBB67C",
            "symbol": "circle"
           },
           "mode": "markers",
           "name": "football",
           "orientation": "v",
           "showlegend": true,
           "type": "scatter",
           "x": [
            60.4700012207031
           ],
           "xaxis": "x",
           "y": [
            33.3400001525879
           ],
           "yaxis": "y"
          }
         ],
         "name": "40"
        },
        {
         "data": [
          {
           "customdata": [
            [
             32,
             "Devin McCourty",
             4.19,
             null
            ],
            [
             21,
             "Adrian Phillips",
             4.79,
             null
            ],
            [
             91,
             "Deatrich Wise",
             1.88,
             null
            ],
            [
             8,
             "Ja'Whaun Bentley",
             1.18,
             null
            ],
            [
             95,
             "Daniel Ekuale",
             4.17,
             null
            ],
            [
             48,
             "Jahlani Tavai",
             3.41,
             null
            ],
            [
             23,
             "Kyle Dugger",
             2.24,
             null
            ],
            [
             58,
             "Anfernee Jennings",
             3.67,
             null
            ],
            [
             90,
             "Christian Barmore",
             1.94,
             null
            ],
            [
             25,
             "Marcus Jones",
             2.78,
             null
            ],
            [
             13,
             "Jack Jones",
             4.56,
             null
            ]
           ],
           "hovertemplate": "club=NE<br>frameId=41<br>x=%{x}<br>y=%{y}<br>jerseyNumber=%{customdata[0]}<br>displayName=%{customdata[1]}<br>s=%{customdata[2]}<br>event=%{customdata[3]}<extra></extra>",
           "legendgroup": "NE",
           "marker": {
            "color": "#002244",
            "symbol": "circle"
           },
           "mode": "markers",
           "name": "NE",
           "orientation": "v",
           "showlegend": true,
           "type": "scatter",
           "x": [
            66.84,
            65.76,
            59.58,
            61.56,
            61.11,
            60.99,
            60.18,
            59.32,
            60.02,
            62.47,
            73.17
           ],
           "xaxis": "x",
           "y": [
            31.62,
            15.73,
            36.44,
            34.36,
            30.16,
            32.01,
            31.57,
            29.4,
            35.18,
            34.17,
            16.03
           ],
           "yaxis": "y"
          },
          {
           "customdata": [
            [
             75,
             "Joel Bitonio",
             0.3,
             null
            ],
            [
             2,
             "Amari Cooper",
             5.42,
             null
            ],
            [
             78,
             "Jack Conklin",
             2.43,
             null
            ],
            [
             7,
             "Jacoby Brissett",
             3.51,
             null
            ],
            [
             85,
             "David Njoku",
             0.96,
             null
            ],
            [
             55,
             "Ethan Pocic",
             2.08,
             null
            ],
            [
             24,
             "Nick Chubb",
             1.67,
             null
            ],
            [
             72,
             "Hjalte Froholdt",
             4.74,
             null
            ],
            [
             71,
             "Jedrick Wills",
             0.31,
             null
            ],
            [
             11,
             "Donovan Peoples-Jones",
             3.79,
             null
            ],
            [
             18,
             "David Bell",
             1.98,
             null
            ]
           ],
           "hovertemplate": "club=CLE<br>frameId=41<br>x=%{x}<br>y=%{y}<br>jerseyNumber=%{customdata[0]}<br>displayName=%{customdata[1]}<br>s=%{customdata[2]}<br>event=%{customdata[3]}<extra></extra>",
           "legendgroup": "CLE",
           "marker": {
            "color": "#311D00",
            "symbol": "circle"
           },
           "mode": "markers",
           "name": "CLE",
           "orientation": "v",
           "showlegend": true,
           "type": "scatter",
           "x": [
            61.26,
            66.81,
            61.72,
            50.44,
            57.87,
            59.53,
            61.03,
            60.13,
            57.43,
            61.68,
            58.66
           ],
           "xaxis": "x",
           "y": [
            35,
            18.11,
            31.5,
            20.47,
            36.3,
            35.51,
            32.54,
            30.5,
            34.76,
            14.12,
            36.45
           ],
           "yaxis": "y"
          },
          {
           "customdata": [
            [
             null,
             "football",
             1.13999998569489,
             null
            ]
           ],
           "hovertemplate": "club=football<br>frameId=41<br>x=%{x}<br>y=%{y}<br>jerseyNumber=%{customdata[0]}<br>displayName=%{customdata[1]}<br>s=%{customdata[2]}<br>event=%{customdata[3]}<extra></extra>",
           "legendgroup": "football",
           "marker": {
            "color": "#CBB67C",
            "symbol": "circle"
           },
           "mode": "markers",
           "name": "football",
           "orientation": "v",
           "showlegend": true,
           "type": "scatter",
           "x": [
            60.6300010681152
           ],
           "xaxis": "x",
           "y": [
            33.2999992370605
           ],
           "yaxis": "y"
          }
         ],
         "name": "41"
        },
        {
         "data": [
          {
           "customdata": [
            [
             32,
             "Devin McCourty",
             3.82,
             null
            ],
            [
             21,
             "Adrian Phillips",
             4.78,
             null
            ],
            [
             91,
             "Deatrich Wise",
             1.75,
             null
            ],
            [
             8,
             "Ja'Whaun Bentley",
             1.07,
             null
            ],
            [
             95,
             "Daniel Ekuale",
             4.07,
             null
            ],
            [
             48,
             "Jahlani Tavai",
             3,
             null
            ],
            [
             23,
             "Kyle Dugger",
             2.14,
             null
            ],
            [
             58,
             "Anfernee Jennings",
             3.42,
             null
            ],
            [
             90,
             "Christian Barmore",
             1.7,
             null
            ],
            [
             25,
             "Marcus Jones",
             2.54,
             null
            ],
            [
             13,
             "Jack Jones",
             4.38,
             null
            ]
           ],
           "hovertemplate": "club=NE<br>frameId=42<br>x=%{x}<br>y=%{y}<br>jerseyNumber=%{customdata[0]}<br>displayName=%{customdata[1]}<br>s=%{customdata[2]}<br>event=%{customdata[3]}<extra></extra>",
           "legendgroup": "NE",
           "marker": {
            "color": "#002244",
            "symbol": "circle"
           },
           "mode": "markers",
           "name": "NE",
           "orientation": "v",
           "showlegend": true,
           "type": "scatter",
           "x": [
            66.46,
            65.75,
            59.72,
            61.64,
            61.43,
            60.96,
            60.36,
            59.62,
            59.99,
            62.51,
            73.28
           ],
           "xaxis": "x",
           "y": [
            31.69,
            16.21,
            36.56,
            34.32,
            30.43,
            32.24,
            31.46,
            29.58,
            35.36,
            33.91,
            16.46
           ],
           "yaxis": "y"
          },
          {
           "customdata": [
            [
             75,
             "Joel Bitonio",
             0.44,
             null
            ],
            [
             2,
             "Amari Cooper",
             5.2,
             null
            ],
            [
             78,
             "Jack Conklin",
             2.4,
             null
            ],
            [
             7,
             "Jacoby Brissett",
             3.26,
             null
            ],
            [
             85,
             "David Njoku",
             0.69,
             null
            ],
            [
             55,
             "Ethan Pocic",
             1.89,
             null
            ],
            [
             24,
             "Nick Chubb",
             1.41,
             null
            ],
            [
             72,
             "Hjalte Froholdt",
             4.76,
             null
            ],
            [
             71,
             "Jedrick Wills",
             0.23,
             null
            ],
            [
             11,
             "Donovan Peoples-Jones",
             3.72,
             null
            ],
            [
             18,
             "David Bell",
             1.76,
             null
            ]
           ],
           "hovertemplate": "club=CLE<br>frameId=42<br>x=%{x}<br>y=%{y}<br>jerseyNumber=%{customdata[0]}<br>displayName=%{customdata[1]}<br>s=%{customdata[2]}<br>event=%{customdata[3]}<extra></extra>",
           "legendgroup": "CLE",
           "marker": {
            "color": "#311D00",
            "symbol": "circle"
           },
           "mode": "markers",
           "name": "CLE",
           "orientation": "v",
           "showlegend": true,
           "type": "scatter",
           "x": [
            61.27,
            67.14,
            61.83,
            50.63,
            57.93,
            59.49,
            61.17,
            60.51,
            57.43,
            61.96,
            58.83
           ],
           "xaxis": "x",
           "y": [
            34.96,
            18.53,
            31.73,
            20.21,
            36.34,
            35.72,
            32.59,
            30.79,
            34.79,
            14.37,
            36.52
           ],
           "yaxis": "y"
          },
          {
           "customdata": [
            [
             null,
             "football",
             1.00999999046326,
             null
            ]
           ],
           "hovertemplate": "club=football<br>frameId=42<br>x=%{x}<br>y=%{y}<br>jerseyNumber=%{customdata[0]}<br>displayName=%{customdata[1]}<br>s=%{customdata[2]}<br>event=%{customdata[3]}<extra></extra>",
           "legendgroup": "football",
           "marker": {
            "color": "#CBB67C",
            "symbol": "circle"
           },
           "mode": "markers",
           "name": "football",
           "orientation": "v",
           "showlegend": true,
           "type": "scatter",
           "x": [
            60.7599983215332
           ],
           "xaxis": "x",
           "y": [
            33.3199996948242
           ],
           "yaxis": "y"
          }
         ],
         "name": "42"
        },
        {
         "data": [
          {
           "customdata": [
            [
             32,
             "Devin McCourty",
             3.44,
             null
            ],
            [
             21,
             "Adrian Phillips",
             4.81,
             null
            ],
            [
             91,
             "Deatrich Wise",
             1.62,
             null
            ],
            [
             8,
             "Ja'Whaun Bentley",
             0.89,
             null
            ],
            [
             95,
             "Daniel Ekuale",
             3.98,
             null
            ],
            [
             48,
             "Jahlani Tavai",
             2.53,
             null
            ],
            [
             23,
             "Kyle Dugger",
             2.09,
             null
            ],
            [
             58,
             "Anfernee Jennings",
             3.08,
             null
            ],
            [
             90,
             "Christian Barmore",
             1.46,
             null
            ],
            [
             25,
             "Marcus Jones",
             2,
             null
            ],
            [
             13,
             "Jack Jones",
             4.2,
             null
            ]
           ],
           "hovertemplate": "club=NE<br>frameId=43<br>x=%{x}<br>y=%{y}<br>jerseyNumber=%{customdata[0]}<br>displayName=%{customdata[1]}<br>s=%{customdata[2]}<br>event=%{customdata[3]}<extra></extra>",
           "legendgroup": "NE",
           "marker": {
            "color": "#002244",
            "symbol": "circle"
           },
           "mode": "markers",
           "name": "NE",
           "orientation": "v",
           "showlegend": true,
           "type": "scatter",
           "x": [
            66.11,
            65.73,
            59.85,
            61.69,
            61.73,
            60.89,
            60.54,
            59.89,
            59.96,
            62.54,
            73.38
           ],
           "xaxis": "x",
           "y": [
            31.74,
            16.69,
            36.67,
            34.28,
            30.73,
            32.46,
            31.38,
            29.74,
            35.51,
            33.71,
            16.88
           ],
           "yaxis": "y"
          },
          {
           "customdata": [
            [
             75,
             "Joel Bitonio",
             0.48,
             null
            ],
            [
             2,
             "Amari Cooper",
             4.94,
             null
            ],
            [
             78,
             "Jack Conklin",
             2.43,
             null
            ],
            [
             7,
             "Jacoby Brissett",
             3.06,
             null
            ],
            [
             85,
             "David Njoku",
             0.39,
             null
            ],
            [
             55,
             "Ethan Pocic",
             1.64,
             null
            ],
            [
             24,
             "Nick Chubb",
             1.22,
             null
            ],
            [
             72,
             "Hjalte Froholdt",
             4.64,
             null
            ],
            [
             71,
             "Jedrick Wills",
             0.17,
             null
            ],
            [
             11,
             "Donovan Peoples-Jones",
             3.69,
             null
            ],
            [
             18,
             "David Bell",
             1.63,
             null
            ]
           ],
           "hovertemplate": "club=CLE<br>frameId=43<br>x=%{x}<br>y=%{y}<br>jerseyNumber=%{customdata[0]}<br>displayName=%{customdata[1]}<br>s=%{customdata[2]}<br>event=%{customdata[3]}<extra></extra>",
           "legendgroup": "CLE",
           "marker": {
            "color": "#311D00",
            "symbol": "circle"
           },
           "mode": "markers",
           "name": "CLE",
           "orientation": "v",
           "showlegend": true,
           "type": "scatter",
           "x": [
            61.28,
            67.45,
            61.96,
            50.85,
            57.98,
            59.46,
            61.3,
            60.87,
            57.44,
            62.22,
            58.99
           ],
           "xaxis": "x",
           "y": [
            34.92,
            18.93,
            31.96,
            19.97,
            36.36,
            35.89,
            32.62,
            31.08,
            34.81,
            14.63,
            36.58
           ],
           "yaxis": "y"
          },
          {
           "customdata": [
            [
             null,
             "football",
             0.829999983310699,
             null
            ]
           ],
           "hovertemplate": "club=football<br>frameId=43<br>x=%{x}<br>y=%{y}<br>jerseyNumber=%{customdata[0]}<br>displayName=%{customdata[1]}<br>s=%{customdata[2]}<br>event=%{customdata[3]}<extra></extra>",
           "legendgroup": "football",
           "marker": {
            "color": "#CBB67C",
            "symbol": "circle"
           },
           "mode": "markers",
           "name": "football",
           "orientation": "v",
           "showlegend": true,
           "type": "scatter",
           "x": [
            60.8499984741211
           ],
           "xaxis": "x",
           "y": [
            33.2999992370605
           ],
           "yaxis": "y"
          }
         ],
         "name": "43"
        },
        {
         "data": [
          {
           "customdata": [
            [
             32,
             "Devin McCourty",
             3.07,
             "tackle"
            ],
            [
             21,
             "Adrian Phillips",
             4.76,
             "tackle"
            ],
            [
             91,
             "Deatrich Wise",
             1.45,
             "tackle"
            ],
            [
             8,
             "Ja'Whaun Bentley",
             0.9,
             "tackle"
            ],
            [
             95,
             "Daniel Ekuale",
             3.95,
             "tackle"
            ],
            [
             48,
             "Jahlani Tavai",
             2.28,
             "tackle"
            ],
            [
             23,
             "Kyle Dugger",
             2.04,
             "tackle"
            ],
            [
             58,
             "Anfernee Jennings",
             2.81,
             "tackle"
            ],
            [
             90,
             "Christian Barmore",
             1.25,
             "tackle"
            ],
            [
             25,
             "Marcus Jones",
             1.49,
             "tackle"
            ],
            [
             13,
             "Jack Jones",
             3.97,
             "tackle"
            ]
           ],
           "hovertemplate": "club=NE<br>frameId=44<br>x=%{x}<br>y=%{y}<br>jerseyNumber=%{customdata[0]}<br>displayName=%{customdata[1]}<br>s=%{customdata[2]}<br>event=%{customdata[3]}<extra></extra>",
           "legendgroup": "NE",
           "marker": {
            "color": "#002244",
            "symbol": "circle"
           },
           "mode": "markers",
           "name": "NE",
           "orientation": "v",
           "showlegend": true,
           "type": "scatter",
           "x": [
            65.79,
            65.7,
            59.96,
            61.76,
            62.01,
            60.89,
            60.74,
            60.15,
            59.94,
            62.59,
            73.45
           ],
           "xaxis": "x",
           "y": [
            31.77,
            17.17,
            36.77,
            34.21,
            31.03,
            32.7,
            31.33,
            29.87,
            35.64,
            33.55,
            17.28
           ],
           "yaxis": "y"
          },
          {
           "customdata": [
            [
             75,
             "Joel Bitonio",
             0.49,
             "tackle"
            ],
            [
             2,
             "Amari Cooper",
             4.63,
             "tackle"
            ],
            [
             78,
             "Jack Conklin",
             2.35,
             "tackle"
            ],
            [
             7,
             "Jacoby Brissett",
             2.88,
             "tackle"
            ],
            [
             85,
             "David Njoku",
             0.24,
             "tackle"
            ],
            [
             55,
             "Ethan Pocic",
             1.27,
             "tackle"
            ],
            [
             24,
             "Nick Chubb",
             1,
             "tackle"
            ],
            [
             72,
             "Hjalte Froholdt",
             4.4,
             "tackle"
            ],
            [
             71,
             "Jedrick Wills",
             0.13,
             "tackle"
            ],
            [
             11,
             "Donovan Peoples-Jones",
             3.6,
             "tackle"
            ],
            [
             18,
             "David Bell",
             1.5,
             "tackle"
            ]
           ],
           "hovertemplate": "club=CLE<br>frameId=44<br>x=%{x}<br>y=%{y}<br>jerseyNumber=%{customdata[0]}<br>displayName=%{customdata[1]}<br>s=%{customdata[2]}<br>event=%{customdata[3]}<extra></extra>",
           "legendgroup": "CLE",
           "marker": {
            "color": "#311D00",
            "symbol": "circle"
           },
           "mode": "markers",
           "name": "CLE",
           "orientation": "v",
           "showlegend": true,
           "type": "scatter",
           "x": [
            61.27,
            67.74,
            62.09,
            51.07,
            58.01,
            59.41,
            61.38,
            61.22,
            57.43,
            62.46,
            59.14
           ],
           "xaxis": "x",
           "y": [
            34.88,
            19.31,
            32.16,
            19.78,
            36.36,
            36,
            32.67,
            31.36,
            34.82,
            14.91,
            36.61
           ],
           "yaxis": "y"
          },
          {
           "customdata": [
            [
             null,
             "football",
             0.709999978542328,
             "tackle"
            ]
           ],
           "hovertemplate": "club=football<br>frameId=44<br>x=%{x}<br>y=%{y}<br>jerseyNumber=%{customdata[0]}<br>displayName=%{customdata[1]}<br>s=%{customdata[2]}<br>event=%{customdata[3]}<extra></extra>",
           "legendgroup": "football",
           "marker": {
            "color": "#CBB67C",
            "symbol": "circle"
           },
           "mode": "markers",
           "name": "football",
           "orientation": "v",
           "showlegend": true,
           "type": "scatter",
           "x": [
            60.9199981689453
           ],
           "xaxis": "x",
           "y": [
            33.2900009155273
           ],
           "yaxis": "y"
          }
         ],
         "name": "44"
        },
        {
         "data": [
          {
           "customdata": [
            [
             32,
             "Devin McCourty",
             2.65,
             null
            ],
            [
             21,
             "Adrian Phillips",
             4.56,
             null
            ],
            [
             91,
             "Deatrich Wise",
             1.27,
             null
            ],
            [
             8,
             "Ja'Whaun Bentley",
             0.91,
             null
            ],
            [
             95,
             "Daniel Ekuale",
             3.86,
             null
            ],
            [
             48,
             "Jahlani Tavai",
             1.83,
             null
            ],
            [
             23,
             "Kyle Dugger",
             1.94,
             null
            ],
            [
             58,
             "Anfernee Jennings",
             2.52,
             null
            ],
            [
             90,
             "Christian Barmore",
             1.08,
             null
            ],
            [
             25,
             "Marcus Jones",
             1.06,
             null
            ],
            [
             13,
             "Jack Jones",
             3.77,
             null
            ]
           ],
           "hovertemplate": "club=NE<br>frameId=45<br>x=%{x}<br>y=%{y}<br>jerseyNumber=%{customdata[0]}<br>displayName=%{customdata[1]}<br>s=%{customdata[2]}<br>event=%{customdata[3]}<extra></extra>",
           "legendgroup": "NE",
           "marker": {
            "color": "#002244",
            "symbol": "circle"
           },
           "mode": "markers",
           "name": "NE",
           "orientation": "v",
           "showlegend": true,
           "type": "scatter",
           "x": [
            65.51,
            65.67,
            60.07,
            61.81,
            62.28,
            60.85,
            60.94,
            60.38,
            59.93,
            62.64,
            73.51
           ],
           "xaxis": "x",
           "y": [
            31.79,
            17.63,
            36.84,
            34.14,
            31.34,
            32.86,
            31.31,
            29.99,
            35.76,
            33.44,
            17.66
           ],
           "yaxis": "y"
          },
          {
           "customdata": [
            [
             75,
             "Joel Bitonio",
             0.48,
             null
            ],
            [
             2,
             "Amari Cooper",
             4.34,
             null
            ],
            [
             78,
             "Jack Conklin",
             2.28,
             null
            ],
            [
             7,
             "Jacoby Brissett",
             2.73,
             null
            ],
            [
             85,
             "David Njoku",
             0.24,
             null
            ],
            [
             55,
             "Ethan Pocic",
             1.01,
             null
            ],
            [
             24,
             "Nick Chubb",
             0.84,
             null
            ],
            [
             72,
             "Hjalte Froholdt",
             4.13,
             null
            ],
            [
             71,
             "Jedrick Wills",
             0.09,
             null
            ],
            [
             11,
             "Donovan Peoples-Jones",
             3.52,
             null
            ],
            [
             18,
             "David Bell",
             1.46,
             null
            ]
           ],
           "hovertemplate": "club=CLE<br>frameId=45<br>x=%{x}<br>y=%{y}<br>jerseyNumber=%{customdata[0]}<br>displayName=%{customdata[1]}<br>s=%{customdata[2]}<br>event=%{customdata[3]}<extra></extra>",
           "legendgroup": "CLE",
           "marker": {
            "color": "#311D00",
            "symbol": "circle"
           },
           "mode": "markers",
           "name": "CLE",
           "orientation": "v",
           "showlegend": true,
           "type": "scatter",
           "x": [
            61.27,
            68.02,
            62.24,
            51.29,
            58.03,
            59.37,
            61.46,
            61.54,
            57.43,
            62.68,
            59.29
           ],
           "xaxis": "x",
           "y": [
            34.84,
            19.66,
            32.35,
            19.61,
            36.35,
            36.09,
            32.72,
            31.63,
            34.83,
            15.19,
            36.65
           ],
           "yaxis": "y"
          },
          {
           "customdata": [
            [
             null,
             "football",
             0.720000028610229,
             null
            ]
           ],
           "hovertemplate": "club=football<br>frameId=45<br>x=%{x}<br>y=%{y}<br>jerseyNumber=%{customdata[0]}<br>displayName=%{customdata[1]}<br>s=%{customdata[2]}<br>event=%{customdata[3]}<extra></extra>",
           "legendgroup": "football",
           "marker": {
            "color": "#CBB67C",
            "symbol": "circle"
           },
           "mode": "markers",
           "name": "football",
           "orientation": "v",
           "showlegend": true,
           "type": "scatter",
           "x": [
            61.0200004577637
           ],
           "xaxis": "x",
           "y": [
            33.3199996948242
           ],
           "yaxis": "y"
          }
         ],
         "name": "45"
        },
        {
         "data": [
          {
           "customdata": [
            [
             32,
             "Devin McCourty",
             2.3,
             null
            ],
            [
             21,
             "Adrian Phillips",
             4.4,
             null
            ],
            [
             91,
             "Deatrich Wise",
             1.13,
             null
            ],
            [
             8,
             "Ja'Whaun Bentley",
             0.92,
             null
            ],
            [
             95,
             "Daniel Ekuale",
             3.71,
             null
            ],
            [
             48,
             "Jahlani Tavai",
             1.62,
             null
            ],
            [
             23,
             "Kyle Dugger",
             1.89,
             null
            ],
            [
             58,
             "Anfernee Jennings",
             2.19,
             null
            ],
            [
             90,
             "Christian Barmore",
             1,
             null
            ],
            [
             25,
             "Marcus Jones",
             0.65,
             null
            ],
            [
             13,
             "Jack Jones",
             3.54,
             null
            ]
           ],
           "hovertemplate": "club=NE<br>frameId=46<br>x=%{x}<br>y=%{y}<br>jerseyNumber=%{customdata[0]}<br>displayName=%{customdata[1]}<br>s=%{customdata[2]}<br>event=%{customdata[3]}<extra></extra>",
           "legendgroup": "NE",
           "marker": {
            "color": "#002244",
            "symbol": "circle"
           },
           "mode": "markers",
           "name": "NE",
           "orientation": "v",
           "showlegend": true,
           "type": "scatter",
           "x": [
            65.27,
            65.64,
            60.18,
            61.85,
            62.52,
            60.8,
            61.13,
            60.59,
            59.93,
            62.69,
            73.56
           ],
           "xaxis": "x",
           "y": [
            31.79,
            18.08,
            36.89,
            34.06,
            31.63,
            33.03,
            31.3,
            30.1,
            35.87,
            33.38,
            18.02
           ],
           "yaxis": "y"
          },
          {
           "customdata": [
            [
             75,
             "Joel Bitonio",
             0.5,
             null
            ],
            [
             2,
             "Amari Cooper",
             3.99,
             null
            ],
            [
             78,
             "Jack Conklin",
             2.23,
             null
            ],
            [
             7,
             "Jacoby Brissett",
             2.5,
             null
            ],
            [
             85,
             "David Njoku",
             0.35,
             null
            ],
            [
             55,
             "Ethan Pocic",
             0.73,
             null
            ],
            [
             24,
             "Nick Chubb",
             0.67,
             null
            ],
            [
             72,
             "Hjalte Froholdt",
             3.77,
             null
            ],
            [
             71,
             "Jedrick Wills",
             0.08,
             null
            ],
            [
             11,
             "Donovan Peoples-Jones",
             3.4,
             null
            ],
            [
             18,
             "David Bell",
             1.33,
             null
            ]
           ],
           "hovertemplate": "club=CLE<br>frameId=46<br>x=%{x}<br>y=%{y}<br>jerseyNumber=%{customdata[0]}<br>displayName=%{customdata[1]}<br>s=%{customdata[2]}<br>event=%{customdata[3]}<extra></extra>",
           "legendgroup": "CLE",
           "marker": {
            "color": "#311D00",
            "symbol": "circle"
           },
           "mode": "markers",
           "name": "CLE",
           "orientation": "v",
           "showlegend": true,
           "type": "scatter",
           "x": [
            61.27,
            68.27,
            62.38,
            51.5,
            58.03,
            59.34,
            61.49,
            61.85,
            57.42,
            62.88,
            59.42
           ],
           "xaxis": "x",
           "y": [
            34.78,
            19.99,
            32.53,
            19.46,
            36.32,
            36.16,
            32.76,
            31.87,
            34.83,
            15.47,
            36.68
           ],
           "yaxis": "y"
          },
          {
           "customdata": [
            [
             null,
             "football",
             0.629999995231628,
             null
            ]
           ],
           "hovertemplate": "club=football<br>frameId=46<br>x=%{x}<br>y=%{y}<br>jerseyNumber=%{customdata[0]}<br>displayName=%{customdata[1]}<br>s=%{customdata[2]}<br>event=%{customdata[3]}<extra></extra>",
           "legendgroup": "football",
           "marker": {
            "color": "#CBB67C",
            "symbol": "circle"
           },
           "mode": "markers",
           "name": "football",
           "orientation": "v",
           "showlegend": true,
           "type": "scatter",
           "x": [
            61.0999984741211
           ],
           "xaxis": "x",
           "y": [
            33.3199996948242
           ],
           "yaxis": "y"
          }
         ],
         "name": "46"
        },
        {
         "data": [
          {
           "customdata": [
            [
             32,
             "Devin McCourty",
             1.98,
             null
            ],
            [
             21,
             "Adrian Phillips",
             4.2,
             null
            ],
            [
             91,
             "Deatrich Wise",
             1.01,
             null
            ],
            [
             8,
             "Ja'Whaun Bentley",
             0.87,
             null
            ],
            [
             95,
             "Daniel Ekuale",
             3.56,
             null
            ],
            [
             48,
             "Jahlani Tavai",
             1.24,
             null
            ],
            [
             23,
             "Kyle Dugger",
             1.78,
             null
            ],
            [
             58,
             "Anfernee Jennings",
             1.97,
             null
            ],
            [
             90,
             "Christian Barmore",
             0.91,
             null
            ],
            [
             25,
             "Marcus Jones",
             0.5,
             null
            ],
            [
             13,
             "Jack Jones",
             3.31,
             null
            ]
           ],
           "hovertemplate": "club=NE<br>frameId=47<br>x=%{x}<br>y=%{y}<br>jerseyNumber=%{customdata[0]}<br>displayName=%{customdata[1]}<br>s=%{customdata[2]}<br>event=%{customdata[3]}<extra></extra>",
           "legendgroup": "NE",
           "marker": {
            "color": "#002244",
            "symbol": "circle"
           },
           "mode": "markers",
           "name": "NE",
           "orientation": "v",
           "showlegend": true,
           "type": "scatter",
           "x": [
            65.05,
            65.6,
            60.29,
            61.88,
            62.74,
            60.78,
            61.32,
            60.78,
            59.93,
            62.74,
            73.58
           ],
           "xaxis": "x",
           "y": [
            31.79,
            18.5,
            36.92,
            33.98,
            31.93,
            33.13,
            31.3,
            30.18,
            35.97,
            33.36,
            18.35
           ],
           "yaxis": "y"
          },
          {
           "customdata": [
            [
             75,
             "Joel Bitonio",
             0.51,
             null
            ],
            [
             2,
             "Amari Cooper",
             3.54,
             null
            ],
            [
             78,
             "Jack Conklin",
             2.23,
             null
            ],
            [
             7,
             "Jacoby Brissett",
             2.32,
             null
            ],
            [
             85,
             "David Njoku",
             0.47,
             null
            ],
            [
             55,
             "Ethan Pocic",
             0.46,
             null
            ],
            [
             24,
             "Nick Chubb",
             0.54,
             null
            ],
            [
             72,
             "Hjalte Froholdt",
             3.36,
             null
            ],
            [
             71,
             "Jedrick Wills",
             0.09,
             null
            ],
            [
             11,
             "Donovan Peoples-Jones",
             3.26,
             null
            ],
            [
             18,
             "David Bell",
             1.17,
             null
            ]
           ],
           "hovertemplate": "club=CLE<br>frameId=47<br>x=%{x}<br>y=%{y}<br>jerseyNumber=%{customdata[0]}<br>displayName=%{customdata[1]}<br>s=%{customdata[2]}<br>event=%{customdata[3]}<extra></extra>",
           "legendgroup": "CLE",
           "marker": {
            "color": "#311D00",
            "symbol": "circle"
           },
           "mode": "markers",
           "name": "CLE",
           "orientation": "v",
           "showlegend": true,
           "type": "scatter",
           "x": [
            61.26,
            68.49,
            62.53,
            51.7,
            58.03,
            59.3,
            61.49,
            62.12,
            57.41,
            63.05,
            59.54
           ],
           "xaxis": "x",
           "y": [
            34.73,
            20.29,
            32.71,
            19.34,
            36.28,
            36.17,
            32.8,
            32.08,
            34.83,
            15.75,
            36.7
           ],
           "yaxis": "y"
          },
          {
           "customdata": [
            [
             null,
             "football",
             0.569999992847443,
             null
            ]
           ],
           "hovertemplate": "club=football<br>frameId=47<br>x=%{x}<br>y=%{y}<br>jerseyNumber=%{customdata[0]}<br>displayName=%{customdata[1]}<br>s=%{customdata[2]}<br>event=%{customdata[3]}<extra></extra>",
           "legendgroup": "football",
           "marker": {
            "color": "#CBB67C",
            "symbol": "circle"
           },
           "mode": "markers",
           "name": "football",
           "orientation": "v",
           "showlegend": true,
           "type": "scatter",
           "x": [
            61.1599998474121
           ],
           "xaxis": "x",
           "y": [
            33.3199996948242
           ],
           "yaxis": "y"
          }
         ],
         "name": "47"
        },
        {
         "data": [
          {
           "customdata": [
            [
             32,
             "Devin McCourty",
             1.73,
             null
            ],
            [
             21,
             "Adrian Phillips",
             4,
             null
            ],
            [
             91,
             "Deatrich Wise",
             0.87,
             null
            ],
            [
             8,
             "Ja'Whaun Bentley",
             0.76,
             null
            ],
            [
             95,
             "Daniel Ekuale",
             3.32,
             null
            ],
            [
             48,
             "Jahlani Tavai",
             1,
             null
            ],
            [
             23,
             "Kyle Dugger",
             1.64,
             null
            ],
            [
             58,
             "Anfernee Jennings",
             1.8,
             null
            ],
            [
             90,
             "Christian Barmore",
             0.76,
             null
            ],
            [
             25,
             "Marcus Jones",
             0.58,
             null
            ],
            [
             13,
             "Jack Jones",
             3.09,
             null
            ]
           ],
           "hovertemplate": "club=NE<br>frameId=48<br>x=%{x}<br>y=%{y}<br>jerseyNumber=%{customdata[0]}<br>displayName=%{customdata[1]}<br>s=%{customdata[2]}<br>event=%{customdata[3]}<extra></extra>",
           "legendgroup": "NE",
           "marker": {
            "color": "#002244",
            "symbol": "circle"
           },
           "mode": "markers",
           "name": "NE",
           "orientation": "v",
           "showlegend": true,
           "type": "scatter",
           "x": [
            64.86,
            65.56,
            60.37,
            61.9,
            62.94,
            60.73,
            61.46,
            60.95,
            59.94,
            62.78,
            73.59
           ],
           "xaxis": "x",
           "y": [
            31.78,
            18.91,
            36.93,
            33.9,
            32.2,
            33.23,
            31.31,
            30.26,
            36.05,
            33.38,
            18.67
           ],
           "yaxis": "y"
          },
          {
           "customdata": [
            [
             75,
             "Joel Bitonio",
             0.53,
             null
            ],
            [
             2,
             "Amari Cooper",
             3.12,
             null
            ],
            [
             78,
             "Jack Conklin",
             2.15,
             null
            ],
            [
             7,
             "Jacoby Brissett",
             2.16,
             null
            ],
            [
             85,
             "David Njoku",
             0.58,
             null
            ],
            [
             55,
             "Ethan Pocic",
             0.33,
             null
            ],
            [
             24,
             "Nick Chubb",
             0.49,
             null
            ],
            [
             72,
             "Hjalte Froholdt",
             2.96,
             null
            ],
            [
             71,
             "Jedrick Wills",
             0.12,
             null
            ],
            [
             11,
             "Donovan Peoples-Jones",
             3.08,
             null
            ],
            [
             18,
             "David Bell",
             1.02,
             null
            ]
           ],
           "hovertemplate": "club=CLE<br>frameId=48<br>x=%{x}<br>y=%{y}<br>jerseyNumber=%{customdata[0]}<br>displayName=%{customdata[1]}<br>s=%{customdata[2]}<br>event=%{customdata[3]}<extra></extra>",
           "legendgroup": "CLE",
           "marker": {
            "color": "#311D00",
            "symbol": "circle"
           },
           "mode": "markers",
           "name": "CLE",
           "orientation": "v",
           "showlegend": true,
           "type": "scatter",
           "x": [
            61.24,
            68.68,
            62.67,
            51.9,
            58.02,
            59.27,
            61.51,
            62.36,
            57.4,
            63.19,
            59.64
           ],
           "xaxis": "x",
           "y": [
            34.67,
            20.56,
            32.88,
            19.24,
            36.23,
            36.18,
            32.85,
            32.27,
            34.82,
            16.04,
            36.72
           ],
           "yaxis": "y"
          },
          {
           "customdata": [
            [
             null,
             "football",
             0.569999992847443,
             null
            ]
           ],
           "hovertemplate": "club=football<br>frameId=48<br>x=%{x}<br>y=%{y}<br>jerseyNumber=%{customdata[0]}<br>displayName=%{customdata[1]}<br>s=%{customdata[2]}<br>event=%{customdata[3]}<extra></extra>",
           "legendgroup": "football",
           "marker": {
            "color": "#CBB67C",
            "symbol": "circle"
           },
           "mode": "markers",
           "name": "football",
           "orientation": "v",
           "showlegend": true,
           "type": "scatter",
           "x": [
            61.2099990844727
           ],
           "xaxis": "x",
           "y": [
            33.3199996948242
           ],
           "yaxis": "y"
          }
         ],
         "name": "48"
        }
       ],
       "layout": {
        "annotations": [
         {
          "font": {
           "color": "white",
           "size": 12
          },
          "showarrow": false,
          "text": "LA",
          "textangle": -90,
          "x": 5,
          "y": 26.65
         },
         {
          "font": {
           "color": "white",
           "size": 12
          },
          "showarrow": false,
          "text": "LA",
          "textangle": 90,
          "x": 115,
          "y": 26.65
         },
         {
          "font": {
           "color": "white",
           "size": 12
          },
          "showarrow": false,
          "text": "10",
          "x": 20,
          "y": 8
         },
         {
          "font": {
           "color": "white",
           "size": 12
          },
          "showarrow": false,
          "text": "10",
          "x": 20,
          "y": 45.3
         },
         {
          "font": {
           "color": "white",
           "size": 12
          },
          "showarrow": false,
          "text": "20",
          "x": 30,
          "y": 8
         },
         {
          "font": {
           "color": "white",
           "size": 12
          },
          "showarrow": false,
          "text": "20",
          "x": 30,
          "y": 45.3
         },
         {
          "font": {
           "color": "white",
           "size": 12
          },
          "showarrow": false,
          "text": "30",
          "x": 40,
          "y": 8
         },
         {
          "font": {
           "color": "white",
           "size": 12
          },
          "showarrow": false,
          "text": "30",
          "x": 40,
          "y": 45.3
         },
         {
          "font": {
           "color": "white",
           "size": 12
          },
          "showarrow": false,
          "text": "40",
          "x": 50,
          "y": 8
         },
         {
          "font": {
           "color": "white",
           "size": 12
          },
          "showarrow": false,
          "text": "40",
          "x": 50,
          "y": 45.3
         },
         {
          "font": {
           "color": "white",
           "size": 12
          },
          "showarrow": false,
          "text": "50",
          "x": 60,
          "y": 8
         },
         {
          "font": {
           "color": "white",
           "size": 12
          },
          "showarrow": false,
          "text": "50",
          "x": 60,
          "y": 45.3
         },
         {
          "font": {
           "color": "white",
           "size": 12
          },
          "showarrow": false,
          "text": "40",
          "x": 70,
          "y": 8
         },
         {
          "font": {
           "color": "white",
           "size": 12
          },
          "showarrow": false,
          "text": "40",
          "x": 70,
          "y": 45.3
         },
         {
          "font": {
           "color": "white",
           "size": 12
          },
          "showarrow": false,
          "text": "30",
          "x": 80,
          "y": 8
         },
         {
          "font": {
           "color": "white",
           "size": 12
          },
          "showarrow": false,
          "text": "30",
          "x": 80,
          "y": 45.3
         },
         {
          "font": {
           "color": "white",
           "size": 12
          },
          "showarrow": false,
          "text": "20",
          "x": 90,
          "y": 8
         },
         {
          "font": {
           "color": "white",
           "size": 12
          },
          "showarrow": false,
          "text": "20",
          "x": 90,
          "y": 45.3
         },
         {
          "font": {
           "color": "white",
           "size": 12
          },
          "showarrow": false,
          "text": "10",
          "x": 100,
          "y": 8
         },
         {
          "font": {
           "color": "white",
           "size": 12
          },
          "showarrow": false,
          "text": "10",
          "x": 100,
          "y": 45.3
         },
         {
          "font": {
           "color": "black",
           "size": 14
          },
          "showarrow": false,
          "text": "LA : 3 BUF : 3 || 2nd 8:39 || 1st and 10",
          "x": 0.5,
          "xref": "paper",
          "y": -0.2,
          "yref": "paper"
         }
        ],
        "height": 533,
        "legend": {
         "title": {
          "text": "club"
         },
         "tracegroupgap": 0
        },
        "plot_bgcolor": "green",
        "shapes": [
         {
          "fillcolor": "blue",
          "opacity": 0.5,
          "type": "rect",
          "x0": 0,
          "x1": 10,
          "y0": 0,
          "y1": 53.3
         },
         {
          "fillcolor": "blue",
          "opacity": 0.5,
          "type": "rect",
          "x0": 110,
          "x1": 120,
          "y0": 0,
          "y1": 53.3
         },
         {
          "line": {
           "color": "blue"
          },
          "type": "line",
          "x0": 58,
          "x1": 58,
          "y0": 0,
          "y1": 53.3
         },
         {
          "line": {
           "color": "yellow"
          },
          "type": "line",
          "x0": 68,
          "x1": 68,
          "y0": 0,
          "y1": 53.3
         },
         {
          "line": {
           "color": "white",
           "width": 1
          },
          "type": "line",
          "x0": 10,
          "x1": 10,
          "y0": 0,
          "y1": 53.3
         },
         {
          "line": {
           "color": "white",
           "width": 1
          },
          "type": "line",
          "x0": 15,
          "x1": 15,
          "y0": 0,
          "y1": 53.3
         },
         {
          "line": {
           "color": "white",
           "width": 1
          },
          "type": "line",
          "x0": 20,
          "x1": 20,
          "y0": 0,
          "y1": 53.3
         },
         {
          "line": {
           "color": "white",
           "width": 1
          },
          "type": "line",
          "x0": 25,
          "x1": 25,
          "y0": 0,
          "y1": 53.3
         },
         {
          "line": {
           "color": "white",
           "width": 1
          },
          "type": "line",
          "x0": 30,
          "x1": 30,
          "y0": 0,
          "y1": 53.3
         },
         {
          "line": {
           "color": "white",
           "width": 1
          },
          "type": "line",
          "x0": 35,
          "x1": 35,
          "y0": 0,
          "y1": 53.3
         },
         {
          "line": {
           "color": "white",
           "width": 1
          },
          "type": "line",
          "x0": 40,
          "x1": 40,
          "y0": 0,
          "y1": 53.3
         },
         {
          "line": {
           "color": "white",
           "width": 1
          },
          "type": "line",
          "x0": 45,
          "x1": 45,
          "y0": 0,
          "y1": 53.3
         },
         {
          "line": {
           "color": "white",
           "width": 1
          },
          "type": "line",
          "x0": 50,
          "x1": 50,
          "y0": 0,
          "y1": 53.3
         },
         {
          "line": {
           "color": "white",
           "width": 1
          },
          "type": "line",
          "x0": 55,
          "x1": 55,
          "y0": 0,
          "y1": 53.3
         },
         {
          "line": {
           "color": "white",
           "width": 1
          },
          "type": "line",
          "x0": 60,
          "x1": 60,
          "y0": 0,
          "y1": 53.3
         },
         {
          "line": {
           "color": "white",
           "width": 1
          },
          "type": "line",
          "x0": 65,
          "x1": 65,
          "y0": 0,
          "y1": 53.3
         },
         {
          "line": {
           "color": "white",
           "width": 1
          },
          "type": "line",
          "x0": 70,
          "x1": 70,
          "y0": 0,
          "y1": 53.3
         },
         {
          "line": {
           "color": "white",
           "width": 1
          },
          "type": "line",
          "x0": 75,
          "x1": 75,
          "y0": 0,
          "y1": 53.3
         },
         {
          "line": {
           "color": "white",
           "width": 1
          },
          "type": "line",
          "x0": 80,
          "x1": 80,
          "y0": 0,
          "y1": 53.3
         },
         {
          "line": {
           "color": "white",
           "width": 1
          },
          "type": "line",
          "x0": 85,
          "x1": 85,
          "y0": 0,
          "y1": 53.3
         },
         {
          "line": {
           "color": "white",
           "width": 1
          },
          "type": "line",
          "x0": 90,
          "x1": 90,
          "y0": 0,
          "y1": 53.3
         },
         {
          "line": {
           "color": "white",
           "width": 1
          },
          "type": "line",
          "x0": 95,
          "x1": 95,
          "y0": 0,
          "y1": 53.3
         },
         {
          "line": {
           "color": "white",
           "width": 1
          },
          "type": "line",
          "x0": 100,
          "x1": 100,
          "y0": 0,
          "y1": 53.3
         },
         {
          "line": {
           "color": "white",
           "width": 1
          },
          "type": "line",
          "x0": 105,
          "x1": 105,
          "y0": 0,
          "y1": 53.3
         },
         {
          "line": {
           "color": "white",
           "width": 1
          },
          "type": "line",
          "x0": 110,
          "x1": 110,
          "y0": 0,
          "y1": 53.3
         }
        ],
        "showlegend": true,
        "sliders": [
         {
          "active": 0,
          "currentvalue": {
           "prefix": "frameId="
          },
          "len": 0.9,
          "pad": {
           "b": 10,
           "t": 60
          },
          "steps": [
           {
            "args": [
             [
              "1"
             ],
             {
              "frame": {
               "duration": 0,
               "redraw": false
              },
              "fromcurrent": true,
              "mode": "immediate",
              "transition": {
               "duration": 0,
               "easing": "linear"
              }
             }
            ],
            "label": "1",
            "method": "animate"
           },
           {
            "args": [
             [
              "2"
             ],
             {
              "frame": {
               "duration": 0,
               "redraw": false
              },
              "fromcurrent": true,
              "mode": "immediate",
              "transition": {
               "duration": 0,
               "easing": "linear"
              }
             }
            ],
            "label": "2",
            "method": "animate"
           },
           {
            "args": [
             [
              "3"
             ],
             {
              "frame": {
               "duration": 0,
               "redraw": false
              },
              "fromcurrent": true,
              "mode": "immediate",
              "transition": {
               "duration": 0,
               "easing": "linear"
              }
             }
            ],
            "label": "3",
            "method": "animate"
           },
           {
            "args": [
             [
              "4"
             ],
             {
              "frame": {
               "duration": 0,
               "redraw": false
              },
              "fromcurrent": true,
              "mode": "immediate",
              "transition": {
               "duration": 0,
               "easing": "linear"
              }
             }
            ],
            "label": "4",
            "method": "animate"
           },
           {
            "args": [
             [
              "5"
             ],
             {
              "frame": {
               "duration": 0,
               "redraw": false
              },
              "fromcurrent": true,
              "mode": "immediate",
              "transition": {
               "duration": 0,
               "easing": "linear"
              }
             }
            ],
            "label": "5",
            "method": "animate"
           },
           {
            "args": [
             [
              "6"
             ],
             {
              "frame": {
               "duration": 0,
               "redraw": false
              },
              "fromcurrent": true,
              "mode": "immediate",
              "transition": {
               "duration": 0,
               "easing": "linear"
              }
             }
            ],
            "label": "6",
            "method": "animate"
           },
           {
            "args": [
             [
              "7"
             ],
             {
              "frame": {
               "duration": 0,
               "redraw": false
              },
              "fromcurrent": true,
              "mode": "immediate",
              "transition": {
               "duration": 0,
               "easing": "linear"
              }
             }
            ],
            "label": "7",
            "method": "animate"
           },
           {
            "args": [
             [
              "8"
             ],
             {
              "frame": {
               "duration": 0,
               "redraw": false
              },
              "fromcurrent": true,
              "mode": "immediate",
              "transition": {
               "duration": 0,
               "easing": "linear"
              }
             }
            ],
            "label": "8",
            "method": "animate"
           },
           {
            "args": [
             [
              "9"
             ],
             {
              "frame": {
               "duration": 0,
               "redraw": false
              },
              "fromcurrent": true,
              "mode": "immediate",
              "transition": {
               "duration": 0,
               "easing": "linear"
              }
             }
            ],
            "label": "9",
            "method": "animate"
           },
           {
            "args": [
             [
              "10"
             ],
             {
              "frame": {
               "duration": 0,
               "redraw": false
              },
              "fromcurrent": true,
              "mode": "immediate",
              "transition": {
               "duration": 0,
               "easing": "linear"
              }
             }
            ],
            "label": "10",
            "method": "animate"
           },
           {
            "args": [
             [
              "11"
             ],
             {
              "frame": {
               "duration": 0,
               "redraw": false
              },
              "fromcurrent": true,
              "mode": "immediate",
              "transition": {
               "duration": 0,
               "easing": "linear"
              }
             }
            ],
            "label": "11",
            "method": "animate"
           },
           {
            "args": [
             [
              "12"
             ],
             {
              "frame": {
               "duration": 0,
               "redraw": false
              },
              "fromcurrent": true,
              "mode": "immediate",
              "transition": {
               "duration": 0,
               "easing": "linear"
              }
             }
            ],
            "label": "12",
            "method": "animate"
           },
           {
            "args": [
             [
              "13"
             ],
             {
              "frame": {
               "duration": 0,
               "redraw": false
              },
              "fromcurrent": true,
              "mode": "immediate",
              "transition": {
               "duration": 0,
               "easing": "linear"
              }
             }
            ],
            "label": "13",
            "method": "animate"
           },
           {
            "args": [
             [
              "14"
             ],
             {
              "frame": {
               "duration": 0,
               "redraw": false
              },
              "fromcurrent": true,
              "mode": "immediate",
              "transition": {
               "duration": 0,
               "easing": "linear"
              }
             }
            ],
            "label": "14",
            "method": "animate"
           },
           {
            "args": [
             [
              "15"
             ],
             {
              "frame": {
               "duration": 0,
               "redraw": false
              },
              "fromcurrent": true,
              "mode": "immediate",
              "transition": {
               "duration": 0,
               "easing": "linear"
              }
             }
            ],
            "label": "15",
            "method": "animate"
           },
           {
            "args": [
             [
              "16"
             ],
             {
              "frame": {
               "duration": 0,
               "redraw": false
              },
              "fromcurrent": true,
              "mode": "immediate",
              "transition": {
               "duration": 0,
               "easing": "linear"
              }
             }
            ],
            "label": "16",
            "method": "animate"
           },
           {
            "args": [
             [
              "17"
             ],
             {
              "frame": {
               "duration": 0,
               "redraw": false
              },
              "fromcurrent": true,
              "mode": "immediate",
              "transition": {
               "duration": 0,
               "easing": "linear"
              }
             }
            ],
            "label": "17",
            "method": "animate"
           },
           {
            "args": [
             [
              "18"
             ],
             {
              "frame": {
               "duration": 0,
               "redraw": false
              },
              "fromcurrent": true,
              "mode": "immediate",
              "transition": {
               "duration": 0,
               "easing": "linear"
              }
             }
            ],
            "label": "18",
            "method": "animate"
           },
           {
            "args": [
             [
              "19"
             ],
             {
              "frame": {
               "duration": 0,
               "redraw": false
              },
              "fromcurrent": true,
              "mode": "immediate",
              "transition": {
               "duration": 0,
               "easing": "linear"
              }
             }
            ],
            "label": "19",
            "method": "animate"
           },
           {
            "args": [
             [
              "20"
             ],
             {
              "frame": {
               "duration": 0,
               "redraw": false
              },
              "fromcurrent": true,
              "mode": "immediate",
              "transition": {
               "duration": 0,
               "easing": "linear"
              }
             }
            ],
            "label": "20",
            "method": "animate"
           },
           {
            "args": [
             [
              "21"
             ],
             {
              "frame": {
               "duration": 0,
               "redraw": false
              },
              "fromcurrent": true,
              "mode": "immediate",
              "transition": {
               "duration": 0,
               "easing": "linear"
              }
             }
            ],
            "label": "21",
            "method": "animate"
           },
           {
            "args": [
             [
              "22"
             ],
             {
              "frame": {
               "duration": 0,
               "redraw": false
              },
              "fromcurrent": true,
              "mode": "immediate",
              "transition": {
               "duration": 0,
               "easing": "linear"
              }
             }
            ],
            "label": "22",
            "method": "animate"
           },
           {
            "args": [
             [
              "23"
             ],
             {
              "frame": {
               "duration": 0,
               "redraw": false
              },
              "fromcurrent": true,
              "mode": "immediate",
              "transition": {
               "duration": 0,
               "easing": "linear"
              }
             }
            ],
            "label": "23",
            "method": "animate"
           },
           {
            "args": [
             [
              "24"
             ],
             {
              "frame": {
               "duration": 0,
               "redraw": false
              },
              "fromcurrent": true,
              "mode": "immediate",
              "transition": {
               "duration": 0,
               "easing": "linear"
              }
             }
            ],
            "label": "24",
            "method": "animate"
           },
           {
            "args": [
             [
              "25"
             ],
             {
              "frame": {
               "duration": 0,
               "redraw": false
              },
              "fromcurrent": true,
              "mode": "immediate",
              "transition": {
               "duration": 0,
               "easing": "linear"
              }
             }
            ],
            "label": "25",
            "method": "animate"
           },
           {
            "args": [
             [
              "26"
             ],
             {
              "frame": {
               "duration": 0,
               "redraw": false
              },
              "fromcurrent": true,
              "mode": "immediate",
              "transition": {
               "duration": 0,
               "easing": "linear"
              }
             }
            ],
            "label": "26",
            "method": "animate"
           },
           {
            "args": [
             [
              "27"
             ],
             {
              "frame": {
               "duration": 0,
               "redraw": false
              },
              "fromcurrent": true,
              "mode": "immediate",
              "transition": {
               "duration": 0,
               "easing": "linear"
              }
             }
            ],
            "label": "27",
            "method": "animate"
           },
           {
            "args": [
             [
              "28"
             ],
             {
              "frame": {
               "duration": 0,
               "redraw": false
              },
              "fromcurrent": true,
              "mode": "immediate",
              "transition": {
               "duration": 0,
               "easing": "linear"
              }
             }
            ],
            "label": "28",
            "method": "animate"
           },
           {
            "args": [
             [
              "29"
             ],
             {
              "frame": {
               "duration": 0,
               "redraw": false
              },
              "fromcurrent": true,
              "mode": "immediate",
              "transition": {
               "duration": 0,
               "easing": "linear"
              }
             }
            ],
            "label": "29",
            "method": "animate"
           },
           {
            "args": [
             [
              "30"
             ],
             {
              "frame": {
               "duration": 0,
               "redraw": false
              },
              "fromcurrent": true,
              "mode": "immediate",
              "transition": {
               "duration": 0,
               "easing": "linear"
              }
             }
            ],
            "label": "30",
            "method": "animate"
           },
           {
            "args": [
             [
              "31"
             ],
             {
              "frame": {
               "duration": 0,
               "redraw": false
              },
              "fromcurrent": true,
              "mode": "immediate",
              "transition": {
               "duration": 0,
               "easing": "linear"
              }
             }
            ],
            "label": "31",
            "method": "animate"
           },
           {
            "args": [
             [
              "32"
             ],
             {
              "frame": {
               "duration": 0,
               "redraw": false
              },
              "fromcurrent": true,
              "mode": "immediate",
              "transition": {
               "duration": 0,
               "easing": "linear"
              }
             }
            ],
            "label": "32",
            "method": "animate"
           },
           {
            "args": [
             [
              "33"
             ],
             {
              "frame": {
               "duration": 0,
               "redraw": false
              },
              "fromcurrent": true,
              "mode": "immediate",
              "transition": {
               "duration": 0,
               "easing": "linear"
              }
             }
            ],
            "label": "33",
            "method": "animate"
           },
           {
            "args": [
             [
              "34"
             ],
             {
              "frame": {
               "duration": 0,
               "redraw": false
              },
              "fromcurrent": true,
              "mode": "immediate",
              "transition": {
               "duration": 0,
               "easing": "linear"
              }
             }
            ],
            "label": "34",
            "method": "animate"
           },
           {
            "args": [
             [
              "35"
             ],
             {
              "frame": {
               "duration": 0,
               "redraw": false
              },
              "fromcurrent": true,
              "mode": "immediate",
              "transition": {
               "duration": 0,
               "easing": "linear"
              }
             }
            ],
            "label": "35",
            "method": "animate"
           },
           {
            "args": [
             [
              "36"
             ],
             {
              "frame": {
               "duration": 0,
               "redraw": false
              },
              "fromcurrent": true,
              "mode": "immediate",
              "transition": {
               "duration": 0,
               "easing": "linear"
              }
             }
            ],
            "label": "36",
            "method": "animate"
           },
           {
            "args": [
             [
              "37"
             ],
             {
              "frame": {
               "duration": 0,
               "redraw": false
              },
              "fromcurrent": true,
              "mode": "immediate",
              "transition": {
               "duration": 0,
               "easing": "linear"
              }
             }
            ],
            "label": "37",
            "method": "animate"
           },
           {
            "args": [
             [
              "38"
             ],
             {
              "frame": {
               "duration": 0,
               "redraw": false
              },
              "fromcurrent": true,
              "mode": "immediate",
              "transition": {
               "duration": 0,
               "easing": "linear"
              }
             }
            ],
            "label": "38",
            "method": "animate"
           },
           {
            "args": [
             [
              "39"
             ],
             {
              "frame": {
               "duration": 0,
               "redraw": false
              },
              "fromcurrent": true,
              "mode": "immediate",
              "transition": {
               "duration": 0,
               "easing": "linear"
              }
             }
            ],
            "label": "39",
            "method": "animate"
           },
           {
            "args": [
             [
              "40"
             ],
             {
              "frame": {
               "duration": 0,
               "redraw": false
              },
              "fromcurrent": true,
              "mode": "immediate",
              "transition": {
               "duration": 0,
               "easing": "linear"
              }
             }
            ],
            "label": "40",
            "method": "animate"
           },
           {
            "args": [
             [
              "41"
             ],
             {
              "frame": {
               "duration": 0,
               "redraw": false
              },
              "fromcurrent": true,
              "mode": "immediate",
              "transition": {
               "duration": 0,
               "easing": "linear"
              }
             }
            ],
            "label": "41",
            "method": "animate"
           },
           {
            "args": [
             [
              "42"
             ],
             {
              "frame": {
               "duration": 0,
               "redraw": false
              },
              "fromcurrent": true,
              "mode": "immediate",
              "transition": {
               "duration": 0,
               "easing": "linear"
              }
             }
            ],
            "label": "42",
            "method": "animate"
           },
           {
            "args": [
             [
              "43"
             ],
             {
              "frame": {
               "duration": 0,
               "redraw": false
              },
              "fromcurrent": true,
              "mode": "immediate",
              "transition": {
               "duration": 0,
               "easing": "linear"
              }
             }
            ],
            "label": "43",
            "method": "animate"
           },
           {
            "args": [
             [
              "44"
             ],
             {
              "frame": {
               "duration": 0,
               "redraw": false
              },
              "fromcurrent": true,
              "mode": "immediate",
              "transition": {
               "duration": 0,
               "easing": "linear"
              }
             }
            ],
            "label": "44",
            "method": "animate"
           },
           {
            "args": [
             [
              "45"
             ],
             {
              "frame": {
               "duration": 0,
               "redraw": false
              },
              "fromcurrent": true,
              "mode": "immediate",
              "transition": {
               "duration": 0,
               "easing": "linear"
              }
             }
            ],
            "label": "45",
            "method": "animate"
           },
           {
            "args": [
             [
              "46"
             ],
             {
              "frame": {
               "duration": 0,
               "redraw": false
              },
              "fromcurrent": true,
              "mode": "immediate",
              "transition": {
               "duration": 0,
               "easing": "linear"
              }
             }
            ],
            "label": "46",
            "method": "animate"
           },
           {
            "args": [
             [
              "47"
             ],
             {
              "frame": {
               "duration": 0,
               "redraw": false
              },
              "fromcurrent": true,
              "mode": "immediate",
              "transition": {
               "duration": 0,
               "easing": "linear"
              }
             }
            ],
            "label": "47",
            "method": "animate"
           },
           {
            "args": [
             [
              "48"
             ],
             {
              "frame": {
               "duration": 0,
               "redraw": false
              },
              "fromcurrent": true,
              "mode": "immediate",
              "transition": {
               "duration": 0,
               "easing": "linear"
              }
             }
            ],
            "label": "48",
            "method": "animate"
           }
          ],
          "x": 0.1,
          "xanchor": "left",
          "y": 0,
          "yanchor": "top"
         }
        ],
        "template": {
         "data": {
          "bar": [
           {
            "error_x": {
             "color": "#2a3f5f"
            },
            "error_y": {
             "color": "#2a3f5f"
            },
            "marker": {
             "line": {
              "color": "#E5ECF6",
              "width": 0.5
             },
             "pattern": {
              "fillmode": "overlay",
              "size": 10,
              "solidity": 0.2
             }
            },
            "type": "bar"
           }
          ],
          "barpolar": [
           {
            "marker": {
             "line": {
              "color": "#E5ECF6",
              "width": 0.5
             },
             "pattern": {
              "fillmode": "overlay",
              "size": 10,
              "solidity": 0.2
             }
            },
            "type": "barpolar"
           }
          ],
          "carpet": [
           {
            "aaxis": {
             "endlinecolor": "#2a3f5f",
             "gridcolor": "white",
             "linecolor": "white",
             "minorgridcolor": "white",
             "startlinecolor": "#2a3f5f"
            },
            "baxis": {
             "endlinecolor": "#2a3f5f",
             "gridcolor": "white",
             "linecolor": "white",
             "minorgridcolor": "white",
             "startlinecolor": "#2a3f5f"
            },
            "type": "carpet"
           }
          ],
          "choropleth": [
           {
            "colorbar": {
             "outlinewidth": 0,
             "ticks": ""
            },
            "type": "choropleth"
           }
          ],
          "contour": [
           {
            "colorbar": {
             "outlinewidth": 0,
             "ticks": ""
            },
            "colorscale": [
             [
              0,
              "#0d0887"
             ],
             [
              0.1111111111111111,
              "#46039f"
             ],
             [
              0.2222222222222222,
              "#7201a8"
             ],
             [
              0.3333333333333333,
              "#9c179e"
             ],
             [
              0.4444444444444444,
              "#bd3786"
             ],
             [
              0.5555555555555556,
              "#d8576b"
             ],
             [
              0.6666666666666666,
              "#ed7953"
             ],
             [
              0.7777777777777778,
              "#fb9f3a"
             ],
             [
              0.8888888888888888,
              "#fdca26"
             ],
             [
              1,
              "#f0f921"
             ]
            ],
            "type": "contour"
           }
          ],
          "contourcarpet": [
           {
            "colorbar": {
             "outlinewidth": 0,
             "ticks": ""
            },
            "type": "contourcarpet"
           }
          ],
          "heatmap": [
           {
            "colorbar": {
             "outlinewidth": 0,
             "ticks": ""
            },
            "colorscale": [
             [
              0,
              "#0d0887"
             ],
             [
              0.1111111111111111,
              "#46039f"
             ],
             [
              0.2222222222222222,
              "#7201a8"
             ],
             [
              0.3333333333333333,
              "#9c179e"
             ],
             [
              0.4444444444444444,
              "#bd3786"
             ],
             [
              0.5555555555555556,
              "#d8576b"
             ],
             [
              0.6666666666666666,
              "#ed7953"
             ],
             [
              0.7777777777777778,
              "#fb9f3a"
             ],
             [
              0.8888888888888888,
              "#fdca26"
             ],
             [
              1,
              "#f0f921"
             ]
            ],
            "type": "heatmap"
           }
          ],
          "heatmapgl": [
           {
            "colorbar": {
             "outlinewidth": 0,
             "ticks": ""
            },
            "colorscale": [
             [
              0,
              "#0d0887"
             ],
             [
              0.1111111111111111,
              "#46039f"
             ],
             [
              0.2222222222222222,
              "#7201a8"
             ],
             [
              0.3333333333333333,
              "#9c179e"
             ],
             [
              0.4444444444444444,
              "#bd3786"
             ],
             [
              0.5555555555555556,
              "#d8576b"
             ],
             [
              0.6666666666666666,
              "#ed7953"
             ],
             [
              0.7777777777777778,
              "#fb9f3a"
             ],
             [
              0.8888888888888888,
              "#fdca26"
             ],
             [
              1,
              "#f0f921"
             ]
            ],
            "type": "heatmapgl"
           }
          ],
          "histogram": [
           {
            "marker": {
             "pattern": {
              "fillmode": "overlay",
              "size": 10,
              "solidity": 0.2
             }
            },
            "type": "histogram"
           }
          ],
          "histogram2d": [
           {
            "colorbar": {
             "outlinewidth": 0,
             "ticks": ""
            },
            "colorscale": [
             [
              0,
              "#0d0887"
             ],
             [
              0.1111111111111111,
              "#46039f"
             ],
             [
              0.2222222222222222,
              "#7201a8"
             ],
             [
              0.3333333333333333,
              "#9c179e"
             ],
             [
              0.4444444444444444,
              "#bd3786"
             ],
             [
              0.5555555555555556,
              "#d8576b"
             ],
             [
              0.6666666666666666,
              "#ed7953"
             ],
             [
              0.7777777777777778,
              "#fb9f3a"
             ],
             [
              0.8888888888888888,
              "#fdca26"
             ],
             [
              1,
              "#f0f921"
             ]
            ],
            "type": "histogram2d"
           }
          ],
          "histogram2dcontour": [
           {
            "colorbar": {
             "outlinewidth": 0,
             "ticks": ""
            },
            "colorscale": [
             [
              0,
              "#0d0887"
             ],
             [
              0.1111111111111111,
              "#46039f"
             ],
             [
              0.2222222222222222,
              "#7201a8"
             ],
             [
              0.3333333333333333,
              "#9c179e"
             ],
             [
              0.4444444444444444,
              "#bd3786"
             ],
             [
              0.5555555555555556,
              "#d8576b"
             ],
             [
              0.6666666666666666,
              "#ed7953"
             ],
             [
              0.7777777777777778,
              "#fb9f3a"
             ],
             [
              0.8888888888888888,
              "#fdca26"
             ],
             [
              1,
              "#f0f921"
             ]
            ],
            "type": "histogram2dcontour"
           }
          ],
          "mesh3d": [
           {
            "colorbar": {
             "outlinewidth": 0,
             "ticks": ""
            },
            "type": "mesh3d"
           }
          ],
          "parcoords": [
           {
            "line": {
             "colorbar": {
              "outlinewidth": 0,
              "ticks": ""
             }
            },
            "type": "parcoords"
           }
          ],
          "pie": [
           {
            "automargin": true,
            "type": "pie"
           }
          ],
          "scatter": [
           {
            "fillpattern": {
             "fillmode": "overlay",
             "size": 10,
             "solidity": 0.2
            },
            "type": "scatter"
           }
          ],
          "scatter3d": [
           {
            "line": {
             "colorbar": {
              "outlinewidth": 0,
              "ticks": ""
             }
            },
            "marker": {
             "colorbar": {
              "outlinewidth": 0,
              "ticks": ""
             }
            },
            "type": "scatter3d"
           }
          ],
          "scattercarpet": [
           {
            "marker": {
             "colorbar": {
              "outlinewidth": 0,
              "ticks": ""
             }
            },
            "type": "scattercarpet"
           }
          ],
          "scattergeo": [
           {
            "marker": {
             "colorbar": {
              "outlinewidth": 0,
              "ticks": ""
             }
            },
            "type": "scattergeo"
           }
          ],
          "scattergl": [
           {
            "marker": {
             "colorbar": {
              "outlinewidth": 0,
              "ticks": ""
             }
            },
            "type": "scattergl"
           }
          ],
          "scattermapbox": [
           {
            "marker": {
             "colorbar": {
              "outlinewidth": 0,
              "ticks": ""
             }
            },
            "type": "scattermapbox"
           }
          ],
          "scatterpolar": [
           {
            "marker": {
             "colorbar": {
              "outlinewidth": 0,
              "ticks": ""
             }
            },
            "type": "scatterpolar"
           }
          ],
          "scatterpolargl": [
           {
            "marker": {
             "colorbar": {
              "outlinewidth": 0,
              "ticks": ""
             }
            },
            "type": "scatterpolargl"
           }
          ],
          "scatterternary": [
           {
            "marker": {
             "colorbar": {
              "outlinewidth": 0,
              "ticks": ""
             }
            },
            "type": "scatterternary"
           }
          ],
          "surface": [
           {
            "colorbar": {
             "outlinewidth": 0,
             "ticks": ""
            },
            "colorscale": [
             [
              0,
              "#0d0887"
             ],
             [
              0.1111111111111111,
              "#46039f"
             ],
             [
              0.2222222222222222,
              "#7201a8"
             ],
             [
              0.3333333333333333,
              "#9c179e"
             ],
             [
              0.4444444444444444,
              "#bd3786"
             ],
             [
              0.5555555555555556,
              "#d8576b"
             ],
             [
              0.6666666666666666,
              "#ed7953"
             ],
             [
              0.7777777777777778,
              "#fb9f3a"
             ],
             [
              0.8888888888888888,
              "#fdca26"
             ],
             [
              1,
              "#f0f921"
             ]
            ],
            "type": "surface"
           }
          ],
          "table": [
           {
            "cells": {
             "fill": {
              "color": "#EBF0F8"
             },
             "line": {
              "color": "white"
             }
            },
            "header": {
             "fill": {
              "color": "#C8D4E3"
             },
             "line": {
              "color": "white"
             }
            },
            "type": "table"
           }
          ]
         },
         "layout": {
          "annotationdefaults": {
           "arrowcolor": "#2a3f5f",
           "arrowhead": 0,
           "arrowwidth": 1
          },
          "autotypenumbers": "strict",
          "coloraxis": {
           "colorbar": {
            "outlinewidth": 0,
            "ticks": ""
           }
          },
          "colorscale": {
           "diverging": [
            [
             0,
             "#8e0152"
            ],
            [
             0.1,
             "#c51b7d"
            ],
            [
             0.2,
             "#de77ae"
            ],
            [
             0.3,
             "#f1b6da"
            ],
            [
             0.4,
             "#fde0ef"
            ],
            [
             0.5,
             "#f7f7f7"
            ],
            [
             0.6,
             "#e6f5d0"
            ],
            [
             0.7,
             "#b8e186"
            ],
            [
             0.8,
             "#7fbc41"
            ],
            [
             0.9,
             "#4d9221"
            ],
            [
             1,
             "#276419"
            ]
           ],
           "sequential": [
            [
             0,
             "#0d0887"
            ],
            [
             0.1111111111111111,
             "#46039f"
            ],
            [
             0.2222222222222222,
             "#7201a8"
            ],
            [
             0.3333333333333333,
             "#9c179e"
            ],
            [
             0.4444444444444444,
             "#bd3786"
            ],
            [
             0.5555555555555556,
             "#d8576b"
            ],
            [
             0.6666666666666666,
             "#ed7953"
            ],
            [
             0.7777777777777778,
             "#fb9f3a"
            ],
            [
             0.8888888888888888,
             "#fdca26"
            ],
            [
             1,
             "#f0f921"
            ]
           ],
           "sequentialminus": [
            [
             0,
             "#0d0887"
            ],
            [
             0.1111111111111111,
             "#46039f"
            ],
            [
             0.2222222222222222,
             "#7201a8"
            ],
            [
             0.3333333333333333,
             "#9c179e"
            ],
            [
             0.4444444444444444,
             "#bd3786"
            ],
            [
             0.5555555555555556,
             "#d8576b"
            ],
            [
             0.6666666666666666,
             "#ed7953"
            ],
            [
             0.7777777777777778,
             "#fb9f3a"
            ],
            [
             0.8888888888888888,
             "#fdca26"
            ],
            [
             1,
             "#f0f921"
            ]
           ]
          },
          "colorway": [
           "#636efa",
           "#EF553B",
           "#00cc96",
           "#ab63fa",
           "#FFA15A",
           "#19d3f3",
           "#FF6692",
           "#B6E880",
           "#FF97FF",
           "#FECB52"
          ],
          "font": {
           "color": "#2a3f5f"
          },
          "geo": {
           "bgcolor": "white",
           "lakecolor": "white",
           "landcolor": "#E5ECF6",
           "showlakes": true,
           "showland": true,
           "subunitcolor": "white"
          },
          "hoverlabel": {
           "align": "left"
          },
          "hovermode": "closest",
          "mapbox": {
           "style": "light"
          },
          "paper_bgcolor": "white",
          "plot_bgcolor": "#E5ECF6",
          "polar": {
           "angularaxis": {
            "gridcolor": "white",
            "linecolor": "white",
            "ticks": ""
           },
           "bgcolor": "#E5ECF6",
           "radialaxis": {
            "gridcolor": "white",
            "linecolor": "white",
            "ticks": ""
           }
          },
          "scene": {
           "xaxis": {
            "backgroundcolor": "#E5ECF6",
            "gridcolor": "white",
            "gridwidth": 2,
            "linecolor": "white",
            "showbackground": true,
            "ticks": "",
            "zerolinecolor": "white"
           },
           "yaxis": {
            "backgroundcolor": "#E5ECF6",
            "gridcolor": "white",
            "gridwidth": 2,
            "linecolor": "white",
            "showbackground": true,
            "ticks": "",
            "zerolinecolor": "white"
           },
           "zaxis": {
            "backgroundcolor": "#E5ECF6",
            "gridcolor": "white",
            "gridwidth": 2,
            "linecolor": "white",
            "showbackground": true,
            "ticks": "",
            "zerolinecolor": "white"
           }
          },
          "shapedefaults": {
           "line": {
            "color": "#2a3f5f"
           }
          },
          "ternary": {
           "aaxis": {
            "gridcolor": "white",
            "linecolor": "white",
            "ticks": ""
           },
           "baxis": {
            "gridcolor": "white",
            "linecolor": "white",
            "ticks": ""
           },
           "bgcolor": "#E5ECF6",
           "caxis": {
            "gridcolor": "white",
            "linecolor": "white",
            "ticks": ""
           }
          },
          "title": {
           "x": 0.05
          },
          "xaxis": {
           "automargin": true,
           "gridcolor": "white",
           "linecolor": "white",
           "ticks": "",
           "title": {
            "standoff": 15
           },
           "zerolinecolor": "white",
           "zerolinewidth": 2
          },
          "yaxis": {
           "automargin": true,
           "gridcolor": "white",
           "linecolor": "white",
           "ticks": "",
           "title": {
            "standoff": 15
           },
           "zerolinecolor": "white",
           "zerolinewidth": 2
          }
         }
        },
        "title": {
         "text": "(8:39) N.Chubb left tackle to NE 49 for 3 yards (K.Dugger)."
        },
        "updatemenus": [
         {
          "buttons": [
           {
            "args": [
             null,
             {
              "frame": {
               "duration": 500,
               "redraw": false
              },
              "fromcurrent": true,
              "mode": "immediate",
              "transition": {
               "duration": 500,
               "easing": "linear"
              }
             }
            ],
            "label": "&#9654;",
            "method": "animate"
           },
           {
            "args": [
             [
              null
             ],
             {
              "frame": {
               "duration": 0,
               "redraw": false
              },
              "fromcurrent": true,
              "mode": "immediate",
              "transition": {
               "duration": 0,
               "easing": "linear"
              }
             }
            ],
            "label": "&#9724;",
            "method": "animate"
           }
          ],
          "direction": "left",
          "pad": {
           "r": 10,
           "t": 70
          },
          "showactive": false,
          "type": "buttons",
          "x": 0.1,
          "xanchor": "right",
          "y": 0,
          "yanchor": "top"
         }
        ],
        "width": 1200,
        "xaxis": {
         "anchor": "y",
         "domain": [
          0,
          1
         ],
         "range": [
          0,
          120
         ],
         "showgrid": false,
         "title": {
          "text": ""
         },
         "type": "linear"
        },
        "yaxis": {
         "anchor": "x",
         "domain": [
          0,
          1
         ],
         "range": [
          0,
          53.3
         ],
         "showgrid": false,
         "title": {
          "text": ""
         },
         "type": "linear"
        }
       }
      },
      "image/png": "[encoded data removed]",
      "text/html": [
       "<div>                            <div id=\"3ee51e8c-04f6-41fd-8b01-fb68f0457e82\" class=\"plotly-graph-div\" style=\"height:533px; width:1200px;\"></div>            <script type=\"text/javascript\">                require([\"plotly\"], function(Plotly) {                    window.PLOTLYENV=window.PLOTLYENV || {};                                    if (document.getElementById(\"3ee51e8c-04f6-41fd-8b01-fb68f0457e82\")) {                    Plotly.newPlot(                        \"3ee51e8c-04f6-41fd-8b01-fb68f0457e82\",                        [{\"customdata\":[[32.0,\"Devin McCourty\",1.45,null],[21.0,\"Adrian Phillips\",4.0,null],[91.0,\"Deatrich Wise\",0.01,null],[8.0,\"Ja'Whaun Bentley\",0.8,null],[95.0,\"Daniel Ekuale\",0.03,null],[48.0,\"Jahlani Tavai\",0.61,null],[23.0,\"Kyle Dugger\",0.45,null],[58.0,\"Anfernee Jennings\",0.01,null],[90.0,\"Christian Barmore\",0.01,null],[25.0,\"Marcus Jones\",1.21,null],[13.0,\"Jack Jones\",0.01,null]],\"hovertemplate\":\"club=NE\\u003cbr\\u003eframeId=1\\u003cbr\\u003ex=%{x}\\u003cbr\\u003ey=%{y}\\u003cbr\\u003ejerseyNumber=%{customdata[0]}\\u003cbr\\u003edisplayName=%{customdata[1]}\\u003cbr\\u003es=%{customdata[2]}\\u003cbr\\u003eevent=%{customdata[3]}\\u003cextra\\u003e\\u003c\\u002fextra\\u003e\",\"legendgroup\":\"NE\",\"marker\":{\"color\":\"#002244\",\"symbol\":\"circle\"},\"mode\":\"markers\",\"name\":\"NE\",\"orientation\":\"v\",\"showlegend\":true,\"x\":[66.83,67.8,59.07,63.43,59.22,61.19,60.8,59.11,58.91,65.57,64.83],\"xaxis\":\"x\",\"y\":[30.63,20.05,28.79,26.17,22.56,19.6,31.76,18.03,25.18,36.86,9.95],\"yaxis\":\"y\",\"type\":\"scatter\"},{\"customdata\":[[75.0,\"Joel Bitonio\",0.0,null],[2.0,\"Amari Cooper\",0.0,null],[78.0,\"Jack Conklin\",0.0,null],[7.0,\"Jacoby Brissett\",0.0,null],[85.0,\"David Njoku\",0.0,null],[55.0,\"Ethan Pocic\",0.0,null],[24.0,\"Nick Chubb\",0.0,null],[72.0,\"Hjalte Froholdt\",0.0,null],[71.0,\"Jedrick Wills\",0.0,null],[11.0,\"Donovan Peoples-Jones\",5.83,null],[18.0,\"David Bell\",0.0,null]],\"hovertemplate\":\"club=CLE\\u003cbr\\u003eframeId=1\\u003cbr\\u003ex=%{x}\\u003cbr\\u003ey=%{y}\\u003cbr\\u003ejerseyNumber=%{customdata[0]}\\u003cbr\\u003edisplayName=%{customdata[1]}\\u003cbr\\u003es=%{customdata[2]}\\u003cbr\\u003eevent=%{customdata[3]}\\u003cextra\\u003e\\u003c\\u002fextra\\u003e\",\"legendgroup\":\"CLE\",\"marker\":{\"color\":\"#311D00\",\"symbol\":\"circle\"},\"mode\":\"markers\",\"name\":\"CLE\",\"orientation\":\"v\",\"showlegend\":true,\"x\":[56.98,56.72,56.92,56.7,57.0,57.68,49.75,56.95,57.08,55.4,56.65],\"xaxis\":\"x\",\"y\":[25.29,9.22,20.2,23.52,28.47,23.57,23.29,21.95,26.99,30.46,30.43],\"yaxis\":\"y\",\"type\":\"scatter\"},{\"customdata\":[[null,\"football\",0.0,null]],\"hovertemplate\":\"club=football\\u003cbr\\u003eframeId=1\\u003cbr\\u003ex=%{x}\\u003cbr\\u003ey=%{y}\\u003cbr\\u003ejerseyNumber=%{customdata[0]}\\u003cbr\\u003edisplayName=%{customdata[1]}\\u003cbr\\u003es=%{customdata[2]}\\u003cbr\\u003eevent=%{customdata[3]}\\u003cextra\\u003e\\u003c\\u002fextra\\u003e\",\"legendgroup\":\"football\",\"marker\":{\"color\":\"#CBB67C\",\"symbol\":\"circle\"},\"mode\":\"markers\",\"name\":\"football\",\"orientation\":\"v\",\"showlegend\":true,\"x\":[58.1599998474121],\"xaxis\":\"x\",\"y\":[23.6299991607666],\"yaxis\":\"y\",\"type\":\"scatter\"}],                        {\"template\":{\"data\":{\"histogram2dcontour\":[{\"type\":\"histogram2dcontour\",\"colorbar\":{\"outlinewidth\":0,\"ticks\":\"\"},\"colorscale\":[[0.0,\"#0d0887\"],[0.1111111111111111,\"#46039f\"],[0.2222222222222222,\"#7201a8\"],[0.3333333333333333,\"#9c179e\"],[0.4444444444444444,\"#bd3786\"],[0.5555555555555556,\"#d8576b\"],[0.6666666666666666,\"#ed7953\"],[0.7777777777777778,\"#fb9f3a\"],[0.8888888888888888,\"#fdca26\"],[1.0,\"#f0f921\"]]}],\"choropleth\":[{\"type\":\"choropleth\",\"colorbar\":{\"outlinewidth\":0,\"ticks\":\"\"}}],\"histogram2d\":[{\"type\":\"histogram2d\",\"colorbar\":{\"outlinewidth\":0,\"ticks\":\"\"},\"colorscale\":[[0.0,\"#0d0887\"],[0.1111111111111111,\"#46039f\"],[0.2222222222222222,\"#7201a8\"],[0.3333333333333333,\"#9c179e\"],[0.4444444444444444,\"#bd3786\"],[0.5555555555555556,\"#d8576b\"],[0.6666666666666666,\"#ed7953\"],[0.7777777777777778,\"#fb9f3a\"],[0.8888888888888888,\"#fdca26\"],[1.0,\"#f0f921\"]]}],\"heatmap\":[{\"type\":\"heatmap\",\"colorbar\":{\"outlinewidth\":0,\"ticks\":\"\"},\"colorscale\":[[0.0,\"#0d0887\"],[0.1111111111111111,\"#46039f\"],[0.2222222222222222,\"#7201a8\"],[0.3333333333333333,\"#9c179e\"],[0.4444444444444444,\"#bd3786\"],[0.5555555555555556,\"#d8576b\"],[0.6666666666666666,\"#ed7953\"],[0.7777777777777778,\"#fb9f3a\"],[0.8888888888888888,\"#fdca26\"],[1.0,\"#f0f921\"]]}],\"heatmapgl\":[{\"type\":\"heatmapgl\",\"colorbar\":{\"outlinewidth\":0,\"ticks\":\"\"},\"colorscale\":[[0.0,\"#0d0887\"],[0.1111111111111111,\"#46039f\"],[0.2222222222222222,\"#7201a8\"],[0.3333333333333333,\"#9c179e\"],[0.4444444444444444,\"#bd3786\"],[0.5555555555555556,\"#d8576b\"],[0.6666666666666666,\"#ed7953\"],[0.7777777777777778,\"#fb9f3a\"],[0.8888888888888888,\"#fdca26\"],[1.0,\"#f0f921\"]]}],\"contourcarpet\":[{\"type\":\"contourcarpet\",\"colorbar\":{\"outlinewidth\":0,\"ticks\":\"\"}}],\"contour\":[{\"type\":\"contour\",\"colorbar\":{\"outlinewidth\":0,\"ticks\":\"\"},\"colorscale\":[[0.0,\"#0d0887\"],[0.1111111111111111,\"#46039f\"],[0.2222222222222222,\"#7201a8\"],[0.3333333333333333,\"#9c179e\"],[0.4444444444444444,\"#bd3786\"],[0.5555555555555556,\"#d8576b\"],[0.6666666666666666,\"#ed7953\"],[0.7777777777777778,\"#fb9f3a\"],[0.8888888888888888,\"#fdca26\"],[1.0,\"#f0f921\"]]}],\"surface\":[{\"type\":\"surface\",\"colorbar\":{\"outlinewidth\":0,\"ticks\":\"\"},\"colorscale\":[[0.0,\"#0d0887\"],[0.1111111111111111,\"#46039f\"],[0.2222222222222222,\"#7201a8\"],[0.3333333333333333,\"#9c179e\"],[0.4444444444444444,\"#bd3786\"],[0.5555555555555556,\"#d8576b\"],[0.6666666666666666,\"#ed7953\"],[0.7777777777777778,\"#fb9f3a\"],[0.8888888888888888,\"#fdca26\"],[1.0,\"#f0f921\"]]}],\"mesh3d\":[{\"type\":\"mesh3d\",\"colorbar\":{\"outlinewidth\":0,\"ticks\":\"\"}}],\"scatter\":[{\"fillpattern\":{\"fillmode\":\"overlay\",\"size\":10,\"solidity\":0.2},\"type\":\"scatter\"}],\"parcoords\":[{\"type\":\"parcoords\",\"line\":{\"colorbar\":{\"outlinewidth\":0,\"ticks\":\"\"}}}],\"scatterpolargl\":[{\"type\":\"scatterpolargl\",\"marker\":{\"colorbar\":{\"outlinewidth\":0,\"ticks\":\"\"}}}],\"bar\":[{\"error_x\":{\"color\":\"#2a3f5f\"},\"error_y\":{\"color\":\"#2a3f5f\"},\"marker\":{\"line\":{\"color\":\"#E5ECF6\",\"width\":0.5},\"pattern\":{\"fillmode\":\"overlay\",\"size\":10,\"solidity\":0.2}},\"type\":\"bar\"}],\"scattergeo\":[{\"type\":\"scattergeo\",\"marker\":{\"colorbar\":{\"outlinewidth\":0,\"ticks\":\"\"}}}],\"scatterpolar\":[{\"type\":\"scatterpolar\",\"marker\":{\"colorbar\":{\"outlinewidth\":0,\"ticks\":\"\"}}}],\"histogram\":[{\"marker\":{\"pattern\":{\"fillmode\":\"overlay\",\"size\":10,\"solidity\":0.2}},\"type\":\"histogram\"}],\"scattergl\":[{\"type\":\"scattergl\",\"marker\":{\"colorbar\":{\"outlinewidth\":0,\"ticks\":\"\"}}}],\"scatter3d\":[{\"type\":\"scatter3d\",\"line\":{\"colorbar\":{\"outlinewidth\":0,\"ticks\":\"\"}},\"marker\":{\"colorbar\":{\"outlinewidth\":0,\"ticks\":\"\"}}}],\"scattermapbox\":[{\"type\":\"scattermapbox\",\"marker\":{\"colorbar\":{\"outlinewidth\":0,\"ticks\":\"\"}}}],\"scatterternary\":[{\"type\":\"scatterternary\",\"marker\":{\"colorbar\":{\"outlinewidth\":0,\"ticks\":\"\"}}}],\"scattercarpet\":[{\"type\":\"scattercarpet\",\"marker\":{\"colorbar\":{\"outlinewidth\":0,\"ticks\":\"\"}}}],\"carpet\":[{\"aaxis\":{\"endlinecolor\":\"#2a3f5f\",\"gridcolor\":\"white\",\"linecolor\":\"white\",\"minorgridcolor\":\"white\",\"startlinecolor\":\"#2a3f5f\"},\"baxis\":{\"endlinecolor\":\"#2a3f5f\",\"gridcolor\":\"white\",\"linecolor\":\"white\",\"minorgridcolor\":\"white\",\"startlinecolor\":\"#2a3f5f\"},\"type\":\"carpet\"}],\"table\":[{\"cells\":{\"fill\":{\"color\":\"#EBF0F8\"},\"line\":{\"color\":\"white\"}},\"header\":{\"fill\":{\"color\":\"#C8D4E3\"},\"line\":{\"color\":\"white\"}},\"type\":\"table\"}],\"barpolar\":[{\"marker\":{\"line\":{\"color\":\"#E5ECF6\",\"width\":0.5},\"pattern\":{\"fillmode\":\"overlay\",\"size\":10,\"solidity\":0.2}},\"type\":\"barpolar\"}],\"pie\":[{\"automargin\":true,\"type\":\"pie\"}]},\"layout\":{\"autotypenumbers\":\"strict\",\"colorway\":[\"#636efa\",\"#EF553B\",\"#00cc96\",\"#ab63fa\",\"#FFA15A\",\"#19d3f3\",\"#FF6692\",\"#B6E880\",\"#FF97FF\",\"#FECB52\"],\"font\":{\"color\":\"#2a3f5f\"},\"hovermode\":\"closest\",\"hoverlabel\":{\"align\":\"left\"},\"paper_bgcolor\":\"white\",\"plot_bgcolor\":\"#E5ECF6\",\"polar\":{\"bgcolor\":\"#E5ECF6\",\"angularaxis\":{\"gridcolor\":\"white\",\"linecolor\":\"white\",\"ticks\":\"\"},\"radialaxis\":{\"gridcolor\":\"white\",\"linecolor\":\"white\",\"ticks\":\"\"}},\"ternary\":{\"bgcolor\":\"#E5ECF6\",\"aaxis\":{\"gridcolor\":\"white\",\"linecolor\":\"white\",\"ticks\":\"\"},\"baxis\":{\"gridcolor\":\"white\",\"linecolor\":\"white\",\"ticks\":\"\"},\"caxis\":{\"gridcolor\":\"white\",\"linecolor\":\"white\",\"ticks\":\"\"}},\"coloraxis\":{\"colorbar\":{\"outlinewidth\":0,\"ticks\":\"\"}},\"colorscale\":{\"sequential\":[[0.0,\"#0d0887\"],[0.1111111111111111,\"#46039f\"],[0.2222222222222222,\"#7201a8\"],[0.3333333333333333,\"#9c179e\"],[0.4444444444444444,\"#bd3786\"],[0.5555555555555556,\"#d8576b\"],[0.6666666666666666,\"#ed7953\"],[0.7777777777777778,\"#fb9f3a\"],[0.8888888888888888,\"#fdca26\"],[1.0,\"#f0f921\"]],\"sequentialminus\":[[0.0,\"#0d0887\"],[0.1111111111111111,\"#46039f\"],[0.2222222222222222,\"#7201a8\"],[0.3333333333333333,\"#9c179e\"],[0.4444444444444444,\"#bd3786\"],[0.5555555555555556,\"#d8576b\"],[0.6666666666666666,\"#ed7953\"],[0.7777777777777778,\"#fb9f3a\"],[0.8888888888888888,\"#fdca26\"],[1.0,\"#f0f921\"]],\"diverging\":[[0,\"#8e0152\"],[0.1,\"#c51b7d\"],[0.2,\"#de77ae\"],[0.3,\"#f1b6da\"],[0.4,\"#fde0ef\"],[0.5,\"#f7f7f7\"],[0.6,\"#e6f5d0\"],[0.7,\"#b8e186\"],[0.8,\"#7fbc41\"],[0.9,\"#4d9221\"],[1,\"#276419\"]]},\"xaxis\":{\"gridcolor\":\"white\",\"linecolor\":\"white\",\"ticks\":\"\",\"title\":{\"standoff\":15},\"zerolinecolor\":\"white\",\"automargin\":true,\"zerolinewidth\":2},\"yaxis\":{\"gridcolor\":\"white\",\"linecolor\":\"white\",\"ticks\":\"\",\"title\":{\"standoff\":15},\"zerolinecolor\":\"white\",\"automargin\":true,\"zerolinewidth\":2},\"scene\":{\"xaxis\":{\"backgroundcolor\":\"#E5ECF6\",\"gridcolor\":\"white\",\"linecolor\":\"white\",\"showbackground\":true,\"ticks\":\"\",\"zerolinecolor\":\"white\",\"gridwidth\":2},\"yaxis\":{\"backgroundcolor\":\"#E5ECF6\",\"gridcolor\":\"white\",\"linecolor\":\"white\",\"showbackground\":true,\"ticks\":\"\",\"zerolinecolor\":\"white\",\"gridwidth\":2},\"zaxis\":{\"backgroundcolor\":\"#E5ECF6\",\"gridcolor\":\"white\",\"linecolor\":\"white\",\"showbackground\":true,\"ticks\":\"\",\"zerolinecolor\":\"white\",\"gridwidth\":2}},\"shapedefaults\":{\"line\":{\"color\":\"#2a3f5f\"}},\"annotationdefaults\":{\"arrowcolor\":\"#2a3f5f\",\"arrowhead\":0,\"arrowwidth\":1},\"geo\":{\"bgcolor\":\"white\",\"landcolor\":\"#E5ECF6\",\"subunitcolor\":\"white\",\"showland\":true,\"showlakes\":true,\"lakecolor\":\"white\"},\"title\":{\"x\":0.05},\"mapbox\":{\"style\":\"light\"}}},\"xaxis\":{\"anchor\":\"y\",\"domain\":[0.0,1.0],\"title\":{\"text\":\"\"},\"range\":[0,120],\"showgrid\":false},\"yaxis\":{\"anchor\":\"x\",\"domain\":[0.0,1.0],\"title\":{\"text\":\"\"},\"range\":[0,53.3],\"showgrid\":false},\"legend\":{\"title\":{\"text\":\"club\"},\"tracegroupgap\":0},\"title\":{\"text\":\"(8:39) N.Chubb left tackle to NE 49 for 3 yards (K.Dugger).\"},\"updatemenus\":[{\"buttons\":[{\"args\":[null,{\"frame\":{\"duration\":500,\"redraw\":false},\"mode\":\"immediate\",\"fromcurrent\":true,\"transition\":{\"duration\":500,\"easing\":\"linear\"}}],\"label\":\"&#9654;\",\"method\":\"animate\"},{\"args\":[[null],{\"frame\":{\"duration\":0,\"redraw\":false},\"mode\":\"immediate\",\"fromcurrent\":true,\"transition\":{\"duration\":0,\"easing\":\"linear\"}}],\"label\":\"&#9724;\",\"method\":\"animate\"}],\"direction\":\"left\",\"pad\":{\"r\":10,\"t\":70},\"showactive\":false,\"type\":\"buttons\",\"x\":0.1,\"xanchor\":\"right\",\"y\":0,\"yanchor\":\"top\"}],\"sliders\":[{\"active\":0,\"currentvalue\":{\"prefix\":\"frameId=\"},\"len\":0.9,\"pad\":{\"b\":10,\"t\":60},\"steps\":[{\"args\":[[\"1\"],{\"frame\":{\"duration\":0,\"redraw\":false},\"mode\":\"immediate\",\"fromcurrent\":true,\"transition\":{\"duration\":0,\"easing\":\"linear\"}}],\"label\":\"1\",\"method\":\"animate\"},{\"args\":[[\"2\"],{\"frame\":{\"duration\":0,\"redraw\":false},\"mode\":\"immediate\",\"fromcurrent\":true,\"transition\":{\"duration\":0,\"easing\":\"linear\"}}],\"label\":\"2\",\"method\":\"animate\"},{\"args\":[[\"3\"],{\"frame\":{\"duration\":0,\"redraw\":false},\"mode\":\"immediate\",\"fromcurrent\":true,\"transition\":{\"duration\":0,\"easing\":\"linear\"}}],\"label\":\"3\",\"method\":\"animate\"},{\"args\":[[\"4\"],{\"frame\":{\"duration\":0,\"redraw\":false},\"mode\":\"immediate\",\"fromcurrent\":true,\"transition\":{\"duration\":0,\"easing\":\"linear\"}}],\"label\":\"4\",\"method\":\"animate\"},{\"args\":[[\"5\"],{\"frame\":{\"duration\":0,\"redraw\":false},\"mode\":\"immediate\",\"fromcurrent\":true,\"transition\":{\"duration\":0,\"easing\":\"linear\"}}],\"label\":\"5\",\"method\":\"animate\"},{\"args\":[[\"6\"],{\"frame\":{\"duration\":0,\"redraw\":false},\"mode\":\"immediate\",\"fromcurrent\":true,\"transition\":{\"duration\":0,\"easing\":\"linear\"}}],\"label\":\"6\",\"method\":\"animate\"},{\"args\":[[\"7\"],{\"frame\":{\"duration\":0,\"redraw\":false},\"mode\":\"immediate\",\"fromcurrent\":true,\"transition\":{\"duration\":0,\"easing\":\"linear\"}}],\"label\":\"7\",\"method\":\"animate\"},{\"args\":[[\"8\"],{\"frame\":{\"duration\":0,\"redraw\":false},\"mode\":\"immediate\",\"fromcurrent\":true,\"transition\":{\"duration\":0,\"easing\":\"linear\"}}],\"label\":\"8\",\"method\":\"animate\"},{\"args\":[[\"9\"],{\"frame\":{\"duration\":0,\"redraw\":false},\"mode\":\"immediate\",\"fromcurrent\":true,\"transition\":{\"duration\":0,\"easing\":\"linear\"}}],\"label\":\"9\",\"method\":\"animate\"},{\"args\":[[\"10\"],{\"frame\":{\"duration\":0,\"redraw\":false},\"mode\":\"immediate\",\"fromcurrent\":true,\"transition\":{\"duration\":0,\"easing\":\"linear\"}}],\"label\":\"10\",\"method\":\"animate\"},{\"args\":[[\"11\"],{\"frame\":{\"duration\":0,\"redraw\":false},\"mode\":\"immediate\",\"fromcurrent\":true,\"transition\":{\"duration\":0,\"easing\":\"linear\"}}],\"label\":\"11\",\"method\":\"animate\"},{\"args\":[[\"12\"],{\"frame\":{\"duration\":0,\"redraw\":false},\"mode\":\"immediate\",\"fromcurrent\":true,\"transition\":{\"duration\":0,\"easing\":\"linear\"}}],\"label\":\"12\",\"method\":\"animate\"},{\"args\":[[\"13\"],{\"frame\":{\"duration\":0,\"redraw\":false},\"mode\":\"immediate\",\"fromcurrent\":true,\"transition\":{\"duration\":0,\"easing\":\"linear\"}}],\"label\":\"13\",\"method\":\"animate\"},{\"args\":[[\"14\"],{\"frame\":{\"duration\":0,\"redraw\":false},\"mode\":\"immediate\",\"fromcurrent\":true,\"transition\":{\"duration\":0,\"easing\":\"linear\"}}],\"label\":\"14\",\"method\":\"animate\"},{\"args\":[[\"15\"],{\"frame\":{\"duration\":0,\"redraw\":false},\"mode\":\"immediate\",\"fromcurrent\":true,\"transition\":{\"duration\":0,\"easing\":\"linear\"}}],\"label\":\"15\",\"method\":\"animate\"},{\"args\":[[\"16\"],{\"frame\":{\"duration\":0,\"redraw\":false},\"mode\":\"immediate\",\"fromcurrent\":true,\"transition\":{\"duration\":0,\"easing\":\"linear\"}}],\"label\":\"16\",\"method\":\"animate\"},{\"args\":[[\"17\"],{\"frame\":{\"duration\":0,\"redraw\":false},\"mode\":\"immediate\",\"fromcurrent\":true,\"transition\":{\"duration\":0,\"easing\":\"linear\"}}],\"label\":\"17\",\"method\":\"animate\"},{\"args\":[[\"18\"],{\"frame\":{\"duration\":0,\"redraw\":false},\"mode\":\"immediate\",\"fromcurrent\":true,\"transition\":{\"duration\":0,\"easing\":\"linear\"}}],\"label\":\"18\",\"method\":\"animate\"},{\"args\":[[\"19\"],{\"frame\":{\"duration\":0,\"redraw\":false},\"mode\":\"immediate\",\"fromcurrent\":true,\"transition\":{\"duration\":0,\"easing\":\"linear\"}}],\"label\":\"19\",\"method\":\"animate\"},{\"args\":[[\"20\"],{\"frame\":{\"duration\":0,\"redraw\":false},\"mode\":\"immediate\",\"fromcurrent\":true,\"transition\":{\"duration\":0,\"easing\":\"linear\"}}],\"label\":\"20\",\"method\":\"animate\"},{\"args\":[[\"21\"],{\"frame\":{\"duration\":0,\"redraw\":false},\"mode\":\"immediate\",\"fromcurrent\":true,\"transition\":{\"duration\":0,\"easing\":\"linear\"}}],\"label\":\"21\",\"method\":\"animate\"},{\"args\":[[\"22\"],{\"frame\":{\"duration\":0,\"redraw\":false},\"mode\":\"immediate\",\"fromcurrent\":true,\"transition\":{\"duration\":0,\"easing\":\"linear\"}}],\"label\":\"22\",\"method\":\"animate\"},{\"args\":[[\"23\"],{\"frame\":{\"duration\":0,\"redraw\":false},\"mode\":\"immediate\",\"fromcurrent\":true,\"transition\":{\"duration\":0,\"easing\":\"linear\"}}],\"label\":\"23\",\"method\":\"animate\"},{\"args\":[[\"24\"],{\"frame\":{\"duration\":0,\"redraw\":false},\"mode\":\"immediate\",\"fromcurrent\":true,\"transition\":{\"duration\":0,\"easing\":\"linear\"}}],\"label\":\"24\",\"method\":\"animate\"},{\"args\":[[\"25\"],{\"frame\":{\"duration\":0,\"redraw\":false},\"mode\":\"immediate\",\"fromcurrent\":true,\"transition\":{\"duration\":0,\"easing\":\"linear\"}}],\"label\":\"25\",\"method\":\"animate\"},{\"args\":[[\"26\"],{\"frame\":{\"duration\":0,\"redraw\":false},\"mode\":\"immediate\",\"fromcurrent\":true,\"transition\":{\"duration\":0,\"easing\":\"linear\"}}],\"label\":\"26\",\"method\":\"animate\"},{\"args\":[[\"27\"],{\"frame\":{\"duration\":0,\"redraw\":false},\"mode\":\"immediate\",\"fromcurrent\":true,\"transition\":{\"duration\":0,\"easing\":\"linear\"}}],\"label\":\"27\",\"method\":\"animate\"},{\"args\":[[\"28\"],{\"frame\":{\"duration\":0,\"redraw\":false},\"mode\":\"immediate\",\"fromcurrent\":true,\"transition\":{\"duration\":0,\"easing\":\"linear\"}}],\"label\":\"28\",\"method\":\"animate\"},{\"args\":[[\"29\"],{\"frame\":{\"duration\":0,\"redraw\":false},\"mode\":\"immediate\",\"fromcurrent\":true,\"transition\":{\"duration\":0,\"easing\":\"linear\"}}],\"label\":\"29\",\"method\":\"animate\"},{\"args\":[[\"30\"],{\"frame\":{\"duration\":0,\"redraw\":false},\"mode\":\"immediate\",\"fromcurrent\":true,\"transition\":{\"duration\":0,\"easing\":\"linear\"}}],\"label\":\"30\",\"method\":\"animate\"},{\"args\":[[\"31\"],{\"frame\":{\"duration\":0,\"redraw\":false},\"mode\":\"immediate\",\"fromcurrent\":true,\"transition\":{\"duration\":0,\"easing\":\"linear\"}}],\"label\":\"31\",\"method\":\"animate\"},{\"args\":[[\"32\"],{\"frame\":{\"duration\":0,\"redraw\":false},\"mode\":\"immediate\",\"fromcurrent\":true,\"transition\":{\"duration\":0,\"easing\":\"linear\"}}],\"label\":\"32\",\"method\":\"animate\"},{\"args\":[[\"33\"],{\"frame\":{\"duration\":0,\"redraw\":false},\"mode\":\"immediate\",\"fromcurrent\":true,\"transition\":{\"duration\":0,\"easing\":\"linear\"}}],\"label\":\"33\",\"method\":\"animate\"},{\"args\":[[\"34\"],{\"frame\":{\"duration\":0,\"redraw\":false},\"mode\":\"immediate\",\"fromcurrent\":true,\"transition\":{\"duration\":0,\"easing\":\"linear\"}}],\"label\":\"34\",\"method\":\"animate\"},{\"args\":[[\"35\"],{\"frame\":{\"duration\":0,\"redraw\":false},\"mode\":\"immediate\",\"fromcurrent\":true,\"transition\":{\"duration\":0,\"easing\":\"linear\"}}],\"label\":\"35\",\"method\":\"animate\"},{\"args\":[[\"36\"],{\"frame\":{\"duration\":0,\"redraw\":false},\"mode\":\"immediate\",\"fromcurrent\":true,\"transition\":{\"duration\":0,\"easing\":\"linear\"}}],\"label\":\"36\",\"method\":\"animate\"},{\"args\":[[\"37\"],{\"frame\":{\"duration\":0,\"redraw\":false},\"mode\":\"immediate\",\"fromcurrent\":true,\"transition\":{\"duration\":0,\"easing\":\"linear\"}}],\"label\":\"37\",\"method\":\"animate\"},{\"args\":[[\"38\"],{\"frame\":{\"duration\":0,\"redraw\":false},\"mode\":\"immediate\",\"fromcurrent\":true,\"transition\":{\"duration\":0,\"easing\":\"linear\"}}],\"label\":\"38\",\"method\":\"animate\"},{\"args\":[[\"39\"],{\"frame\":{\"duration\":0,\"redraw\":false},\"mode\":\"immediate\",\"fromcurrent\":true,\"transition\":{\"duration\":0,\"easing\":\"linear\"}}],\"label\":\"39\",\"method\":\"animate\"},{\"args\":[[\"40\"],{\"frame\":{\"duration\":0,\"redraw\":false},\"mode\":\"immediate\",\"fromcurrent\":true,\"transition\":{\"duration\":0,\"easing\":\"linear\"}}],\"label\":\"40\",\"method\":\"animate\"},{\"args\":[[\"41\"],{\"frame\":{\"duration\":0,\"redraw\":false},\"mode\":\"immediate\",\"fromcurrent\":true,\"transition\":{\"duration\":0,\"easing\":\"linear\"}}],\"label\":\"41\",\"method\":\"animate\"},{\"args\":[[\"42\"],{\"frame\":{\"duration\":0,\"redraw\":false},\"mode\":\"immediate\",\"fromcurrent\":true,\"transition\":{\"duration\":0,\"easing\":\"linear\"}}],\"label\":\"42\",\"method\":\"animate\"},{\"args\":[[\"43\"],{\"frame\":{\"duration\":0,\"redraw\":false},\"mode\":\"immediate\",\"fromcurrent\":true,\"transition\":{\"duration\":0,\"easing\":\"linear\"}}],\"label\":\"43\",\"method\":\"animate\"},{\"args\":[[\"44\"],{\"frame\":{\"duration\":0,\"redraw\":false},\"mode\":\"immediate\",\"fromcurrent\":true,\"transition\":{\"duration\":0,\"easing\":\"linear\"}}],\"label\":\"44\",\"method\":\"animate\"},{\"args\":[[\"45\"],{\"frame\":{\"duration\":0,\"redraw\":false},\"mode\":\"immediate\",\"fromcurrent\":true,\"transition\":{\"duration\":0,\"easing\":\"linear\"}}],\"label\":\"45\",\"method\":\"animate\"},{\"args\":[[\"46\"],{\"frame\":{\"duration\":0,\"redraw\":false},\"mode\":\"immediate\",\"fromcurrent\":true,\"transition\":{\"duration\":0,\"easing\":\"linear\"}}],\"label\":\"46\",\"method\":\"animate\"},{\"args\":[[\"47\"],{\"frame\":{\"duration\":0,\"redraw\":false},\"mode\":\"immediate\",\"fromcurrent\":true,\"transition\":{\"duration\":0,\"easing\":\"linear\"}}],\"label\":\"47\",\"method\":\"animate\"},{\"args\":[[\"48\"],{\"frame\":{\"duration\":0,\"redraw\":false},\"mode\":\"immediate\",\"fromcurrent\":true,\"transition\":{\"duration\":0,\"easing\":\"linear\"}}],\"label\":\"48\",\"method\":\"animate\"}],\"x\":0.1,\"xanchor\":\"left\",\"y\":0,\"yanchor\":\"top\"}],\"annotations\":[{\"font\":{\"color\":\"white\",\"size\":12},\"showarrow\":false,\"text\":\"LA\",\"textangle\":-90,\"x\":5,\"y\":26.65},{\"font\":{\"color\":\"white\",\"size\":12},\"showarrow\":false,\"text\":\"LA\",\"textangle\":90,\"x\":115,\"y\":26.65},{\"font\":{\"color\":\"white\",\"size\":12},\"showarrow\":false,\"text\":\"10\",\"x\":20,\"y\":8},{\"font\":{\"color\":\"white\",\"size\":12},\"showarrow\":false,\"text\":\"10\",\"x\":20,\"y\":45.3},{\"font\":{\"color\":\"white\",\"size\":12},\"showarrow\":false,\"text\":\"20\",\"x\":30,\"y\":8},{\"font\":{\"color\":\"white\",\"size\":12},\"showarrow\":false,\"text\":\"20\",\"x\":30,\"y\":45.3},{\"font\":{\"color\":\"white\",\"size\":12},\"showarrow\":false,\"text\":\"30\",\"x\":40,\"y\":8},{\"font\":{\"color\":\"white\",\"size\":12},\"showarrow\":false,\"text\":\"30\",\"x\":40,\"y\":45.3},{\"font\":{\"color\":\"white\",\"size\":12},\"showarrow\":false,\"text\":\"40\",\"x\":50,\"y\":8},{\"font\":{\"color\":\"white\",\"size\":12},\"showarrow\":false,\"text\":\"40\",\"x\":50,\"y\":45.3},{\"font\":{\"color\":\"white\",\"size\":12},\"showarrow\":false,\"text\":\"50\",\"x\":60,\"y\":8},{\"font\":{\"color\":\"white\",\"size\":12},\"showarrow\":false,\"text\":\"50\",\"x\":60,\"y\":45.3},{\"font\":{\"color\":\"white\",\"size\":12},\"showarrow\":false,\"text\":\"40\",\"x\":70,\"y\":8},{\"font\":{\"color\":\"white\",\"size\":12},\"showarrow\":false,\"text\":\"40\",\"x\":70,\"y\":45.3},{\"font\":{\"color\":\"white\",\"size\":12},\"showarrow\":false,\"text\":\"30\",\"x\":80,\"y\":8},{\"font\":{\"color\":\"white\",\"size\":12},\"showarrow\":false,\"text\":\"30\",\"x\":80,\"y\":45.3},{\"font\":{\"color\":\"white\",\"size\":12},\"showarrow\":false,\"text\":\"20\",\"x\":90,\"y\":8},{\"font\":{\"color\":\"white\",\"size\":12},\"showarrow\":false,\"text\":\"20\",\"x\":90,\"y\":45.3},{\"font\":{\"color\":\"white\",\"size\":12},\"showarrow\":false,\"text\":\"10\",\"x\":100,\"y\":8},{\"font\":{\"color\":\"white\",\"size\":12},\"showarrow\":false,\"text\":\"10\",\"x\":100,\"y\":45.3},{\"font\":{\"color\":\"black\",\"size\":14},\"showarrow\":false,\"text\":\"LA : 3 BUF : 3 || 2nd 8:39 || 1st and 10\",\"x\":0.5,\"xref\":\"paper\",\"y\":-0.2,\"yref\":\"paper\"}],\"height\":533,\"shapes\":[{\"fillcolor\":\"blue\",\"opacity\":0.5,\"type\":\"rect\",\"x0\":0,\"x1\":10,\"y0\":0,\"y1\":53.3},{\"fillcolor\":\"blue\",\"opacity\":0.5,\"type\":\"rect\",\"x0\":110,\"x1\":120,\"y0\":0,\"y1\":53.3},{\"line\":{\"color\":\"blue\"},\"type\":\"line\",\"x0\":58,\"x1\":58,\"y0\":0,\"y1\":53.3},{\"line\":{\"color\":\"yellow\"},\"type\":\"line\",\"x0\":68,\"x1\":68,\"y0\":0,\"y1\":53.3},{\"line\":{\"color\":\"white\",\"width\":1},\"type\":\"line\",\"x0\":10,\"x1\":10,\"y0\":0,\"y1\":53.3},{\"line\":{\"color\":\"white\",\"width\":1},\"type\":\"line\",\"x0\":15,\"x1\":15,\"y0\":0,\"y1\":53.3},{\"line\":{\"color\":\"white\",\"width\":1},\"type\":\"line\",\"x0\":20,\"x1\":20,\"y0\":0,\"y1\":53.3},{\"line\":{\"color\":\"white\",\"width\":1},\"type\":\"line\",\"x0\":25,\"x1\":25,\"y0\":0,\"y1\":53.3},{\"line\":{\"color\":\"white\",\"width\":1},\"type\":\"line\",\"x0\":30,\"x1\":30,\"y0\":0,\"y1\":53.3},{\"line\":{\"color\":\"white\",\"width\":1},\"type\":\"line\",\"x0\":35,\"x1\":35,\"y0\":0,\"y1\":53.3},{\"line\":{\"color\":\"white\",\"width\":1},\"type\":\"line\",\"x0\":40,\"x1\":40,\"y0\":0,\"y1\":53.3},{\"line\":{\"color\":\"white\",\"width\":1},\"type\":\"line\",\"x0\":45,\"x1\":45,\"y0\":0,\"y1\":53.3},{\"line\":{\"color\":\"white\",\"width\":1},\"type\":\"line\",\"x0\":50,\"x1\":50,\"y0\":0,\"y1\":53.3},{\"line\":{\"color\":\"white\",\"width\":1},\"type\":\"line\",\"x0\":55,\"x1\":55,\"y0\":0,\"y1\":53.3},{\"line\":{\"color\":\"white\",\"width\":1},\"type\":\"line\",\"x0\":60,\"x1\":60,\"y0\":0,\"y1\":53.3},{\"line\":{\"color\":\"white\",\"width\":1},\"type\":\"line\",\"x0\":65,\"x1\":65,\"y0\":0,\"y1\":53.3},{\"line\":{\"color\":\"white\",\"width\":1},\"type\":\"line\",\"x0\":70,\"x1\":70,\"y0\":0,\"y1\":53.3},{\"line\":{\"color\":\"white\",\"width\":1},\"type\":\"line\",\"x0\":75,\"x1\":75,\"y0\":0,\"y1\":53.3},{\"line\":{\"color\":\"white\",\"width\":1},\"type\":\"line\",\"x0\":80,\"x1\":80,\"y0\":0,\"y1\":53.3},{\"line\":{\"color\":\"white\",\"width\":1},\"type\":\"line\",\"x0\":85,\"x1\":85,\"y0\":0,\"y1\":53.3},{\"line\":{\"color\":\"white\",\"width\":1},\"type\":\"line\",\"x0\":90,\"x1\":90,\"y0\":0,\"y1\":53.3},{\"line\":{\"color\":\"white\",\"width\":1},\"type\":\"line\",\"x0\":95,\"x1\":95,\"y0\":0,\"y1\":53.3},{\"line\":{\"color\":\"white\",\"width\":1},\"type\":\"line\",\"x0\":100,\"x1\":100,\"y0\":0,\"y1\":53.3},{\"line\":{\"color\":\"white\",\"width\":1},\"type\":\"line\",\"x0\":105,\"x1\":105,\"y0\":0,\"y1\":53.3},{\"line\":{\"color\":\"white\",\"width\":1},\"type\":\"line\",\"x0\":110,\"x1\":110,\"y0\":0,\"y1\":53.3}],\"showlegend\":true,\"width\":1200,\"plot_bgcolor\":\"green\"},                        {\"responsive\": true}                    ).then(function(){\n",
       "                            Plotly.addFrames('3ee51e8c-04f6-41fd-8b01-fb68f0457e82', [{\"data\":[{\"customdata\":[[32.0,\"Devin McCourty\",1.45,null],[21.0,\"Adrian Phillips\",4.0,null],[91.0,\"Deatrich Wise\",0.01,null],[8.0,\"Ja'Whaun Bentley\",0.8,null],[95.0,\"Daniel Ekuale\",0.03,null],[48.0,\"Jahlani Tavai\",0.61,null],[23.0,\"Kyle Dugger\",0.45,null],[58.0,\"Anfernee Jennings\",0.01,null],[90.0,\"Christian Barmore\",0.01,null],[25.0,\"Marcus Jones\",1.21,null],[13.0,\"Jack Jones\",0.01,null]],\"hovertemplate\":\"club=NE\\u003cbr\\u003eframeId=1\\u003cbr\\u003ex=%{x}\\u003cbr\\u003ey=%{y}\\u003cbr\\u003ejerseyNumber=%{customdata[0]}\\u003cbr\\u003edisplayName=%{customdata[1]}\\u003cbr\\u003es=%{customdata[2]}\\u003cbr\\u003eevent=%{customdata[3]}\\u003cextra\\u003e\\u003c\\u002fextra\\u003e\",\"legendgroup\":\"NE\",\"marker\":{\"color\":\"#002244\",\"symbol\":\"circle\"},\"mode\":\"markers\",\"name\":\"NE\",\"orientation\":\"v\",\"showlegend\":true,\"x\":[66.83,67.8,59.07,63.43,59.22,61.19,60.8,59.11,58.91,65.57,64.83],\"xaxis\":\"x\",\"y\":[30.63,20.05,28.79,26.17,22.56,19.6,31.76,18.03,25.18,36.86,9.95],\"yaxis\":\"y\",\"type\":\"scatter\"},{\"customdata\":[[75.0,\"Joel Bitonio\",0.0,null],[2.0,\"Amari Cooper\",0.0,null],[78.0,\"Jack Conklin\",0.0,null],[7.0,\"Jacoby Brissett\",0.0,null],[85.0,\"David Njoku\",0.0,null],[55.0,\"Ethan Pocic\",0.0,null],[24.0,\"Nick Chubb\",0.0,null],[72.0,\"Hjalte Froholdt\",0.0,null],[71.0,\"Jedrick Wills\",0.0,null],[11.0,\"Donovan Peoples-Jones\",5.83,null],[18.0,\"David Bell\",0.0,null]],\"hovertemplate\":\"club=CLE\\u003cbr\\u003eframeId=1\\u003cbr\\u003ex=%{x}\\u003cbr\\u003ey=%{y}\\u003cbr\\u003ejerseyNumber=%{customdata[0]}\\u003cbr\\u003edisplayName=%{customdata[1]}\\u003cbr\\u003es=%{customdata[2]}\\u003cbr\\u003eevent=%{customdata[3]}\\u003cextra\\u003e\\u003c\\u002fextra\\u003e\",\"legendgroup\":\"CLE\",\"marker\":{\"color\":\"#311D00\",\"symbol\":\"circle\"},\"mode\":\"markers\",\"name\":\"CLE\",\"orientation\":\"v\",\"showlegend\":true,\"x\":[56.98,56.72,56.92,56.7,57.0,57.68,49.75,56.95,57.08,55.4,56.65],\"xaxis\":\"x\",\"y\":[25.29,9.22,20.2,23.52,28.47,23.57,23.29,21.95,26.99,30.46,30.43],\"yaxis\":\"y\",\"type\":\"scatter\"},{\"customdata\":[[null,\"football\",0.0,null]],\"hovertemplate\":\"club=football\\u003cbr\\u003eframeId=1\\u003cbr\\u003ex=%{x}\\u003cbr\\u003ey=%{y}\\u003cbr\\u003ejerseyNumber=%{customdata[0]}\\u003cbr\\u003edisplayName=%{customdata[1]}\\u003cbr\\u003es=%{customdata[2]}\\u003cbr\\u003eevent=%{customdata[3]}\\u003cextra\\u003e\\u003c\\u002fextra\\u003e\",\"legendgroup\":\"football\",\"marker\":{\"color\":\"#CBB67C\",\"symbol\":\"circle\"},\"mode\":\"markers\",\"name\":\"football\",\"orientation\":\"v\",\"showlegend\":true,\"x\":[58.1599998474121],\"xaxis\":\"x\",\"y\":[23.6299991607666],\"yaxis\":\"y\",\"type\":\"scatter\"}],\"name\":\"1\"},{\"data\":[{\"customdata\":[[32.0,\"Devin McCourty\",1.75,null],[21.0,\"Adrian Phillips\",4.33,null],[91.0,\"Deatrich Wise\",0.01,null],[8.0,\"Ja'Whaun Bentley\",0.97,null],[95.0,\"Daniel Ekuale\",0.04,null],[48.0,\"Jahlani Tavai\",0.61,null],[23.0,\"Kyle Dugger\",0.44,null],[58.0,\"Anfernee Jennings\",0.0,null],[90.0,\"Christian Barmore\",0.01,null],[25.0,\"Marcus Jones\",1.32,null],[13.0,\"Jack Jones\",0.01,null]],\"hovertemplate\":\"club=NE\\u003cbr\\u003eframeId=2\\u003cbr\\u003ex=%{x}\\u003cbr\\u003ey=%{y}\\u003cbr\\u003ejerseyNumber=%{customdata[0]}\\u003cbr\\u003edisplayName=%{customdata[1]}\\u003cbr\\u003es=%{customdata[2]}\\u003cbr\\u003eevent=%{customdata[3]}\\u003cextra\\u003e\\u003c\\u002fextra\\u003e\",\"legendgroup\":\"NE\",\"marker\":{\"color\":\"#002244\",\"symbol\":\"circle\"},\"mode\":\"markers\",\"name\":\"NE\",\"orientation\":\"v\",\"showlegend\":true,\"x\":[66.96,67.49,59.06,63.44,59.2,61.15,60.8,59.1,58.91,65.59,64.84],\"xaxis\":\"x\",\"y\":[30.55,19.76,28.79,26.07,22.57,19.55,31.71,18.03,25.18,36.73,9.95],\"yaxis\":\"y\",\"type\":\"scatter\"},{\"customdata\":[[75.0,\"Joel Bitonio\",0.0,null],[2.0,\"Amari Cooper\",0.0,null],[78.0,\"Jack Conklin\",0.0,null],[7.0,\"Jacoby Brissett\",0.0,null],[85.0,\"David Njoku\",0.0,null],[55.0,\"Ethan Pocic\",0.01,null],[24.0,\"Nick Chubb\",0.0,null],[72.0,\"Hjalte Froholdt\",0.0,null],[71.0,\"Jedrick Wills\",0.0,null],[11.0,\"Donovan Peoples-Jones\",6.23,null],[18.0,\"David Bell\",0.0,null]],\"hovertemplate\":\"club=CLE\\u003cbr\\u003eframeId=2\\u003cbr\\u003ex=%{x}\\u003cbr\\u003ey=%{y}\\u003cbr\\u003ejerseyNumber=%{customdata[0]}\\u003cbr\\u003edisplayName=%{customdata[1]}\\u003cbr\\u003es=%{customdata[2]}\\u003cbr\\u003eevent=%{customdata[3]}\\u003cextra\\u003e\\u003c\\u002fextra\\u003e\",\"legendgroup\":\"CLE\",\"marker\":{\"color\":\"#311D00\",\"symbol\":\"circle\"},\"mode\":\"markers\",\"name\":\"CLE\",\"orientation\":\"v\",\"showlegend\":true,\"x\":[56.98,56.71,56.91,56.7,57.0,57.68,49.75,56.95,57.08,55.34,56.65],\"xaxis\":\"x\",\"y\":[25.29,9.22,20.2,23.53,28.47,23.57,23.29,21.95,26.99,29.86,30.43],\"yaxis\":\"y\",\"type\":\"scatter\"},{\"customdata\":[[null,\"football\",0.0,null]],\"hovertemplate\":\"club=football\\u003cbr\\u003eframeId=2\\u003cbr\\u003ex=%{x}\\u003cbr\\u003ey=%{y}\\u003cbr\\u003ejerseyNumber=%{customdata[0]}\\u003cbr\\u003edisplayName=%{customdata[1]}\\u003cbr\\u003es=%{customdata[2]}\\u003cbr\\u003eevent=%{customdata[3]}\\u003cextra\\u003e\\u003c\\u002fextra\\u003e\",\"legendgroup\":\"football\",\"marker\":{\"color\":\"#CBB67C\",\"symbol\":\"circle\"},\"mode\":\"markers\",\"name\":\"football\",\"orientation\":\"v\",\"showlegend\":true,\"x\":[58.1500015258789],\"xaxis\":\"x\",\"y\":[23.6299991607666],\"yaxis\":\"y\",\"type\":\"scatter\"}],\"name\":\"2\"},{\"data\":[{\"customdata\":[[32.0,\"Devin McCourty\",2.05,null],[21.0,\"Adrian Phillips\",4.62,null],[91.0,\"Deatrich Wise\",0.01,null],[8.0,\"Ja'Whaun Bentley\",1.05,null],[95.0,\"Daniel Ekuale\",0.04,null],[48.0,\"Jahlani Tavai\",0.64,null],[23.0,\"Kyle Dugger\",0.42,null],[58.0,\"Anfernee Jennings\",0.0,null],[90.0,\"Christian Barmore\",0.01,null],[25.0,\"Marcus Jones\",1.35,null],[13.0,\"Jack Jones\",0.01,null]],\"hovertemplate\":\"club=NE\\u003cbr\\u003eframeId=3\\u003cbr\\u003ex=%{x}\\u003cbr\\u003ey=%{y}\\u003cbr\\u003ejerseyNumber=%{customdata[0]}\\u003cbr\\u003edisplayName=%{customdata[1]}\\u003cbr\\u003es=%{customdata[2]}\\u003cbr\\u003eevent=%{customdata[3]}\\u003cextra\\u003e\\u003c\\u002fextra\\u003e\",\"legendgroup\":\"NE\",\"marker\":{\"color\":\"#002244\",\"symbol\":\"circle\"},\"mode\":\"markers\",\"name\":\"NE\",\"orientation\":\"v\",\"showlegend\":true,\"x\":[67.12,67.17,59.06,63.44,59.19,61.1,60.8,59.1,58.91,65.6,64.84],\"xaxis\":\"x\",\"y\":[30.45,19.45,28.8,25.97,22.59,19.51,31.67,18.03,25.2,36.6,9.94],\"yaxis\":\"y\",\"type\":\"scatter\"},{\"customdata\":[[75.0,\"Joel Bitonio\",0.03,null],[2.0,\"Amari Cooper\",0.0,null],[78.0,\"Jack Conklin\",0.0,null],[7.0,\"Jacoby Brissett\",0.0,null],[85.0,\"David Njoku\",0.0,null],[55.0,\"Ethan Pocic\",0.04,null],[24.0,\"Nick Chubb\",0.0,null],[72.0,\"Hjalte Froholdt\",0.0,null],[71.0,\"Jedrick Wills\",0.0,null],[11.0,\"Donovan Peoples-Jones\",6.62,null],[18.0,\"David Bell\",0.0,null]],\"hovertemplate\":\"club=CLE\\u003cbr\\u003eframeId=3\\u003cbr\\u003ex=%{x}\\u003cbr\\u003ey=%{y}\\u003cbr\\u003ejerseyNumber=%{customdata[0]}\\u003cbr\\u003edisplayName=%{customdata[1]}\\u003cbr\\u003es=%{customdata[2]}\\u003cbr\\u003eevent=%{customdata[3]}\\u003cextra\\u003e\\u003c\\u002fextra\\u003e\",\"legendgroup\":\"CLE\",\"marker\":{\"color\":\"#311D00\",\"symbol\":\"circle\"},\"mode\":\"markers\",\"name\":\"CLE\",\"orientation\":\"v\",\"showlegend\":true,\"x\":[56.98,56.71,56.91,56.7,57.01,57.69,49.75,56.95,57.08,55.28,56.64],\"xaxis\":\"x\",\"y\":[25.29,9.22,20.2,23.53,28.47,23.57,23.29,21.95,26.99,29.22,30.43],\"yaxis\":\"y\",\"type\":\"scatter\"},{\"customdata\":[[null,\"football\",0.0,null]],\"hovertemplate\":\"club=football\\u003cbr\\u003eframeId=3\\u003cbr\\u003ex=%{x}\\u003cbr\\u003ey=%{y}\\u003cbr\\u003ejerseyNumber=%{customdata[0]}\\u003cbr\\u003edisplayName=%{customdata[1]}\\u003cbr\\u003es=%{customdata[2]}\\u003cbr\\u003eevent=%{customdata[3]}\\u003cextra\\u003e\\u003c\\u002fextra\\u003e\",\"legendgroup\":\"football\",\"marker\":{\"color\":\"#CBB67C\",\"symbol\":\"circle\"},\"mode\":\"markers\",\"name\":\"football\",\"orientation\":\"v\",\"showlegend\":true,\"x\":[58.1500015258789],\"xaxis\":\"x\",\"y\":[23.6299991607666],\"yaxis\":\"y\",\"type\":\"scatter\"}],\"name\":\"3\"},{\"data\":[{\"customdata\":[[32.0,\"Devin McCourty\",2.42,null],[21.0,\"Adrian Phillips\",4.87,null],[91.0,\"Deatrich Wise\",0.02,null],[8.0,\"Ja'Whaun Bentley\",1.1,null],[95.0,\"Daniel Ekuale\",0.05,null],[48.0,\"Jahlani Tavai\",0.66,null],[23.0,\"Kyle Dugger\",0.4,null],[58.0,\"Anfernee Jennings\",0.02,null],[90.0,\"Christian Barmore\",0.01,null],[25.0,\"Marcus Jones\",1.33,null],[13.0,\"Jack Jones\",0.0,null]],\"hovertemplate\":\"club=NE\\u003cbr\\u003eframeId=4\\u003cbr\\u003ex=%{x}\\u003cbr\\u003ey=%{y}\\u003cbr\\u003ejerseyNumber=%{customdata[0]}\\u003cbr\\u003edisplayName=%{customdata[1]}\\u003cbr\\u003es=%{customdata[2]}\\u003cbr\\u003eevent=%{customdata[3]}\\u003cextra\\u003e\\u003c\\u002fextra\\u003e\",\"legendgroup\":\"NE\",\"marker\":{\"color\":\"#002244\",\"symbol\":\"circle\"},\"mode\":\"markers\",\"name\":\"NE\",\"orientation\":\"v\",\"showlegend\":true,\"x\":[67.3,66.84,59.05,63.45,59.16,61.04,60.8,59.09,58.91,65.63,64.82],\"xaxis\":\"x\",\"y\":[30.33,19.11,28.82,25.87,22.59,19.48,31.63,18.03,25.23,36.47,9.96],\"yaxis\":\"y\",\"type\":\"scatter\"},{\"customdata\":[[75.0,\"Joel Bitonio\",0.13,null],[2.0,\"Amari Cooper\",0.0,null],[78.0,\"Jack Conklin\",0.0,null],[7.0,\"Jacoby Brissett\",0.0,null],[85.0,\"David Njoku\",0.0,null],[55.0,\"Ethan Pocic\",0.13,null],[24.0,\"Nick Chubb\",0.0,null],[72.0,\"Hjalte Froholdt\",0.0,null],[71.0,\"Jedrick Wills\",0.01,null],[11.0,\"Donovan Peoples-Jones\",6.85,null],[18.0,\"David Bell\",0.0,null]],\"hovertemplate\":\"club=CLE\\u003cbr\\u003eframeId=4\\u003cbr\\u003ex=%{x}\\u003cbr\\u003ey=%{y}\\u003cbr\\u003ejerseyNumber=%{customdata[0]}\\u003cbr\\u003edisplayName=%{customdata[1]}\\u003cbr\\u003es=%{customdata[2]}\\u003cbr\\u003eevent=%{customdata[3]}\\u003cextra\\u003e\\u003c\\u002fextra\\u003e\",\"legendgroup\":\"CLE\",\"marker\":{\"color\":\"#311D00\",\"symbol\":\"circle\"},\"mode\":\"markers\",\"name\":\"CLE\",\"orientation\":\"v\",\"showlegend\":true,\"x\":[56.99,56.71,56.91,56.69,57.01,57.69,49.75,56.95,57.08,55.23,56.65],\"xaxis\":\"x\",\"y\":[25.3,9.22,20.2,23.53,28.49,23.59,23.29,21.95,26.99,28.55,30.43],\"yaxis\":\"y\",\"type\":\"scatter\"},{\"customdata\":[[null,\"football\",0.0,null]],\"hovertemplate\":\"club=football\\u003cbr\\u003eframeId=4\\u003cbr\\u003ex=%{x}\\u003cbr\\u003ey=%{y}\\u003cbr\\u003ejerseyNumber=%{customdata[0]}\\u003cbr\\u003edisplayName=%{customdata[1]}\\u003cbr\\u003es=%{customdata[2]}\\u003cbr\\u003eevent=%{customdata[3]}\\u003cextra\\u003e\\u003c\\u002fextra\\u003e\",\"legendgroup\":\"football\",\"marker\":{\"color\":\"#CBB67C\",\"symbol\":\"circle\"},\"mode\":\"markers\",\"name\":\"football\",\"orientation\":\"v\",\"showlegend\":true,\"x\":[58.1399993896484],\"xaxis\":\"x\",\"y\":[23.6299991607666],\"yaxis\":\"y\",\"type\":\"scatter\"}],\"name\":\"4\"},{\"data\":[{\"customdata\":[[32.0,\"Devin McCourty\",2.71,null],[21.0,\"Adrian Phillips\",5.07,null],[91.0,\"Deatrich Wise\",0.11,null],[8.0,\"Ja'Whaun Bentley\",1.14,null],[95.0,\"Daniel Ekuale\",0.11,null],[48.0,\"Jahlani Tavai\",0.69,null],[23.0,\"Kyle Dugger\",0.39,null],[58.0,\"Anfernee Jennings\",0.09,null],[90.0,\"Christian Barmore\",0.06,null],[25.0,\"Marcus Jones\",1.28,null],[13.0,\"Jack Jones\",0.0,null]],\"hovertemplate\":\"club=NE\\u003cbr\\u003eframeId=5\\u003cbr\\u003ex=%{x}\\u003cbr\\u003ey=%{y}\\u003cbr\\u003ejerseyNumber=%{customdata[0]}\\u003cbr\\u003edisplayName=%{customdata[1]}\\u003cbr\\u003es=%{customdata[2]}\\u003cbr\\u003eevent=%{customdata[3]}\\u003cextra\\u003e\\u003c\\u002fextra\\u003e\",\"legendgroup\":\"NE\",\"marker\":{\"color\":\"#002244\",\"symbol\":\"circle\"},\"mode\":\"markers\",\"name\":\"NE\",\"orientation\":\"v\",\"showlegend\":true,\"x\":[67.51,66.5,59.04,63.45,59.14,60.97,60.8,59.08,58.9,65.65,64.82],\"xaxis\":\"x\",\"y\":[30.18,18.74,28.83,25.75,22.6,19.47,31.58,18.03,25.25,36.35,9.96],\"yaxis\":\"y\",\"type\":\"scatter\"},{\"customdata\":[[75.0,\"Joel Bitonio\",0.31,null],[2.0,\"Amari Cooper\",0.0,null],[78.0,\"Jack Conklin\",0.0,null],[7.0,\"Jacoby Brissett\",0.0,null],[85.0,\"David Njoku\",0.0,null],[55.0,\"Ethan Pocic\",0.27,null],[24.0,\"Nick Chubb\",0.0,null],[72.0,\"Hjalte Froholdt\",0.0,null],[71.0,\"Jedrick Wills\",0.04,null],[11.0,\"Donovan Peoples-Jones\",7.03,null],[18.0,\"David Bell\",0.0,null]],\"hovertemplate\":\"club=CLE\\u003cbr\\u003eframeId=5\\u003cbr\\u003ex=%{x}\\u003cbr\\u003ey=%{y}\\u003cbr\\u003ejerseyNumber=%{customdata[0]}\\u003cbr\\u003edisplayName=%{customdata[1]}\\u003cbr\\u003es=%{customdata[2]}\\u003cbr\\u003eevent=%{customdata[3]}\\u003cextra\\u003e\\u003c\\u002fextra\\u003e\",\"legendgroup\":\"CLE\",\"marker\":{\"color\":\"#311D00\",\"symbol\":\"circle\"},\"mode\":\"markers\",\"name\":\"CLE\",\"orientation\":\"v\",\"showlegend\":true,\"x\":[57.01,56.71,56.91,56.69,57.01,57.69,49.76,56.95,57.08,55.17,56.65],\"xaxis\":\"x\",\"y\":[25.33,9.22,20.21,23.53,28.5,23.62,23.3,21.97,26.99,27.86,30.43],\"yaxis\":\"y\",\"type\":\"scatter\"},{\"customdata\":[[null,\"football\",0.0,null]],\"hovertemplate\":\"club=football\\u003cbr\\u003eframeId=5\\u003cbr\\u003ex=%{x}\\u003cbr\\u003ey=%{y}\\u003cbr\\u003ejerseyNumber=%{customdata[0]}\\u003cbr\\u003edisplayName=%{customdata[1]}\\u003cbr\\u003es=%{customdata[2]}\\u003cbr\\u003eevent=%{customdata[3]}\\u003cextra\\u003e\\u003c\\u002fextra\\u003e\",\"legendgroup\":\"football\",\"marker\":{\"color\":\"#CBB67C\",\"symbol\":\"circle\"},\"mode\":\"markers\",\"name\":\"football\",\"orientation\":\"v\",\"showlegend\":true,\"x\":[58.1399993896484],\"xaxis\":\"x\",\"y\":[23.6299991607666],\"yaxis\":\"y\",\"type\":\"scatter\"}],\"name\":\"5\"},{\"data\":[{\"customdata\":[[32.0,\"Devin McCourty\",2.92,\"ball_snap\"],[21.0,\"Adrian Phillips\",5.19,\"ball_snap\"],[91.0,\"Deatrich Wise\",0.33,\"ball_snap\"],[8.0,\"Ja'Whaun Bentley\",1.04,\"ball_snap\"],[95.0,\"Daniel Ekuale\",0.25,\"ball_snap\"],[48.0,\"Jahlani Tavai\",0.93,\"ball_snap\"],[23.0,\"Kyle Dugger\",0.37,\"ball_snap\"],[58.0,\"Anfernee Jennings\",0.33,\"ball_snap\"],[90.0,\"Christian Barmore\",0.22,\"ball_snap\"],[25.0,\"Marcus Jones\",1.05,\"ball_snap\"],[13.0,\"Jack Jones\",0.0,\"ball_snap\"]],\"hovertemplate\":\"club=NE\\u003cbr\\u003eframeId=6\\u003cbr\\u003ex=%{x}\\u003cbr\\u003ey=%{y}\\u003cbr\\u003ejerseyNumber=%{customdata[0]}\\u003cbr\\u003edisplayName=%{customdata[1]}\\u003cbr\\u003es=%{customdata[2]}\\u003cbr\\u003eevent=%{customdata[3]}\\u003cextra\\u003e\\u003c\\u002fextra\\u003e\",\"legendgroup\":\"NE\",\"marker\":{\"color\":\"#002244\",\"symbol\":\"circle\"},\"mode\":\"markers\",\"name\":\"NE\",\"orientation\":\"v\",\"showlegend\":true,\"x\":[67.75,66.17,59.01,63.45,59.12,60.87,60.79,59.05,58.9,65.67,64.82],\"xaxis\":\"x\",\"y\":[30.03,18.35,28.85,25.66,22.62,19.49,31.55,18.04,25.28,36.24,9.95],\"yaxis\":\"y\",\"type\":\"scatter\"},{\"customdata\":[[75.0,\"Joel Bitonio\",0.66,\"ball_snap\"],[2.0,\"Amari Cooper\",0.0,\"ball_snap\"],[78.0,\"Jack Conklin\",0.02,\"ball_snap\"],[7.0,\"Jacoby Brissett\",0.0,\"ball_snap\"],[85.0,\"David Njoku\",0.0,\"ball_snap\"],[55.0,\"Ethan Pocic\",0.64,\"ball_snap\"],[24.0,\"Nick Chubb\",0.0,\"ball_snap\"],[72.0,\"Hjalte Froholdt\",0.17,\"ball_snap\"],[71.0,\"Jedrick Wills\",0.16,\"ball_snap\"],[11.0,\"Donovan Peoples-Jones\",7.21,\"ball_snap\"],[18.0,\"David Bell\",0.0,\"ball_snap\"]],\"hovertemplate\":\"club=CLE\\u003cbr\\u003eframeId=6\\u003cbr\\u003ex=%{x}\\u003cbr\\u003ey=%{y}\\u003cbr\\u003ejerseyNumber=%{customdata[0]}\\u003cbr\\u003edisplayName=%{customdata[1]}\\u003cbr\\u003es=%{customdata[2]}\\u003cbr\\u003eevent=%{customdata[3]}\\u003cextra\\u003e\\u003c\\u002fextra\\u003e\",\"legendgroup\":\"CLE\",\"marker\":{\"color\":\"#311D00\",\"symbol\":\"circle\"},\"mode\":\"markers\",\"name\":\"CLE\",\"orientation\":\"v\",\"showlegend\":true,\"x\":[57.05,56.71,56.91,56.69,57.03,57.68,49.76,56.95,57.08,55.1,56.65],\"xaxis\":\"x\",\"y\":[25.4,9.22,20.22,23.53,28.52,23.7,23.3,21.98,27.01,27.14,30.43],\"yaxis\":\"y\",\"type\":\"scatter\"},{\"customdata\":[[null,\"football\",0.0,\"ball_snap\"]],\"hovertemplate\":\"club=football\\u003cbr\\u003eframeId=6\\u003cbr\\u003ex=%{x}\\u003cbr\\u003ey=%{y}\\u003cbr\\u003ejerseyNumber=%{customdata[0]}\\u003cbr\\u003edisplayName=%{customdata[1]}\\u003cbr\\u003es=%{customdata[2]}\\u003cbr\\u003eevent=%{customdata[3]}\\u003cextra\\u003e\\u003c\\u002fextra\\u003e\",\"legendgroup\":\"football\",\"marker\":{\"color\":\"#CBB67C\",\"symbol\":\"circle\"},\"mode\":\"markers\",\"name\":\"football\",\"orientation\":\"v\",\"showlegend\":true,\"x\":[58.1399993896484],\"xaxis\":\"x\",\"y\":[23.6399993896484],\"yaxis\":\"y\",\"type\":\"scatter\"}],\"name\":\"6\"},{\"data\":[{\"customdata\":[[32.0,\"Devin McCourty\",3.08,null],[21.0,\"Adrian Phillips\",5.26,null],[91.0,\"Deatrich Wise\",0.65,null],[8.0,\"Ja'Whaun Bentley\",0.8,null],[95.0,\"Daniel Ekuale\",0.5,null],[48.0,\"Jahlani Tavai\",1.16,null],[23.0,\"Kyle Dugger\",0.43,null],[58.0,\"Anfernee Jennings\",0.62,null],[90.0,\"Christian Barmore\",0.46,null],[25.0,\"Marcus Jones\",0.96,null],[13.0,\"Jack Jones\",0.0,null]],\"hovertemplate\":\"club=NE\\u003cbr\\u003eframeId=7\\u003cbr\\u003ex=%{x}\\u003cbr\\u003ey=%{y}\\u003cbr\\u003ejerseyNumber=%{customdata[0]}\\u003cbr\\u003edisplayName=%{customdata[1]}\\u003cbr\\u003es=%{customdata[2]}\\u003cbr\\u003eevent=%{customdata[3]}\\u003cextra\\u003e\\u003c\\u002fextra\\u003e\",\"legendgroup\":\"NE\",\"marker\":{\"color\":\"#002244\",\"symbol\":\"circle\"},\"mode\":\"markers\",\"name\":\"NE\",\"orientation\":\"v\",\"showlegend\":true,\"x\":[68.0,65.83,58.94,63.44,59.09,60.76,60.77,59.0,58.88,65.68,64.86],\"xaxis\":\"x\",\"y\":[29.87,17.95,28.87,25.59,22.67,19.52,31.5,18.07,25.32,36.14,9.98],\"yaxis\":\"y\",\"type\":\"scatter\"},{\"customdata\":[[75.0,\"Joel Bitonio\",0.95,null],[2.0,\"Amari Cooper\",0.0,null],[78.0,\"Jack Conklin\",0.19,null],[7.0,\"Jacoby Brissett\",0.0,null],[85.0,\"David Njoku\",0.0,null],[55.0,\"Ethan Pocic\",0.9,null],[24.0,\"Nick Chubb\",0.01,null],[72.0,\"Hjalte Froholdt\",0.6,null],[71.0,\"Jedrick Wills\",0.41,null],[11.0,\"Donovan Peoples-Jones\",7.26,null],[18.0,\"David Bell\",0.02,null]],\"hovertemplate\":\"club=CLE\\u003cbr\\u003eframeId=7\\u003cbr\\u003ex=%{x}\\u003cbr\\u003ey=%{y}\\u003cbr\\u003ejerseyNumber=%{customdata[0]}\\u003cbr\\u003edisplayName=%{customdata[1]}\\u003cbr\\u003es=%{customdata[2]}\\u003cbr\\u003eevent=%{customdata[3]}\\u003cextra\\u003e\\u003c\\u002fextra\\u003e\",\"legendgroup\":\"CLE\",\"marker\":{\"color\":\"#311D00\",\"symbol\":\"circle\"},\"mode\":\"markers\",\"name\":\"CLE\",\"orientation\":\"v\",\"showlegend\":true,\"x\":[57.11,56.71,56.91,56.67,57.04,57.67,49.77,56.97,57.07,55.02,56.66],\"xaxis\":\"x\",\"y\":[25.48,9.22,20.24,23.54,28.54,23.8,23.31,22.03,27.05,26.42,30.43],\"yaxis\":\"y\",\"type\":\"scatter\"},{\"customdata\":[[null,\"football\",0.0,null]],\"hovertemplate\":\"club=football\\u003cbr\\u003eframeId=7\\u003cbr\\u003ex=%{x}\\u003cbr\\u003ey=%{y}\\u003cbr\\u003ejerseyNumber=%{customdata[0]}\\u003cbr\\u003edisplayName=%{customdata[1]}\\u003cbr\\u003es=%{customdata[2]}\\u003cbr\\u003eevent=%{customdata[3]}\\u003cextra\\u003e\\u003c\\u002fextra\\u003e\",\"legendgroup\":\"football\",\"marker\":{\"color\":\"#CBB67C\",\"symbol\":\"circle\"},\"mode\":\"markers\",\"name\":\"football\",\"orientation\":\"v\",\"showlegend\":true,\"x\":[58.0999984741211],\"xaxis\":\"x\",\"y\":[23.6499996185303],\"yaxis\":\"y\",\"type\":\"scatter\"}],\"name\":\"7\"},{\"data\":[{\"customdata\":[[32.0,\"Devin McCourty\",3.4,null],[21.0,\"Adrian Phillips\",5.25,null],[91.0,\"Deatrich Wise\",1.04,null],[8.0,\"Ja'Whaun Bentley\",0.56,null],[95.0,\"Daniel Ekuale\",0.91,null],[48.0,\"Jahlani Tavai\",1.46,null],[23.0,\"Kyle Dugger\",0.47,null],[58.0,\"Anfernee Jennings\",0.96,null],[90.0,\"Christian Barmore\",0.83,null],[25.0,\"Marcus Jones\",0.8,null],[13.0,\"Jack Jones\",0.0,null]],\"hovertemplate\":\"club=NE\\u003cbr\\u003eframeId=8\\u003cbr\\u003ex=%{x}\\u003cbr\\u003ey=%{y}\\u003cbr\\u003ejerseyNumber=%{customdata[0]}\\u003cbr\\u003edisplayName=%{customdata[1]}\\u003cbr\\u003es=%{customdata[2]}\\u003cbr\\u003eevent=%{customdata[3]}\\u003cextra\\u003e\\u003c\\u002fextra\\u003e\",\"legendgroup\":\"NE\",\"marker\":{\"color\":\"#002244\",\"symbol\":\"circle\"},\"mode\":\"markers\",\"name\":\"NE\",\"orientation\":\"v\",\"showlegend\":true,\"x\":[68.28,65.51,58.85,63.43,59.02,60.63,60.74,58.92,58.86,65.68,64.9],\"xaxis\":\"x\",\"y\":[29.69,17.54,28.91,25.53,22.76,19.58,31.47,18.12,25.4,36.06,10.0],\"yaxis\":\"y\",\"type\":\"scatter\"},{\"customdata\":[[75.0,\"Joel Bitonio\",1.26,null],[2.0,\"Amari Cooper\",0.01,null],[78.0,\"Jack Conklin\",0.56,null],[7.0,\"Jacoby Brissett\",0.0,null],[85.0,\"David Njoku\",0.08,null],[55.0,\"Ethan Pocic\",1.26,null],[24.0,\"Nick Chubb\",0.15,null],[72.0,\"Hjalte Froholdt\",1.14,null],[71.0,\"Jedrick Wills\",0.81,null],[11.0,\"Donovan Peoples-Jones\",7.32,null],[18.0,\"David Bell\",0.13,null]],\"hovertemplate\":\"club=CLE\\u003cbr\\u003eframeId=8\\u003cbr\\u003ex=%{x}\\u003cbr\\u003ey=%{y}\\u003cbr\\u003ejerseyNumber=%{customdata[0]}\\u003cbr\\u003edisplayName=%{customdata[1]}\\u003cbr\\u003es=%{customdata[2]}\\u003cbr\\u003eevent=%{customdata[3]}\\u003cextra\\u003e\\u003c\\u002fextra\\u003e\",\"legendgroup\":\"CLE\",\"marker\":{\"color\":\"#311D00\",\"symbol\":\"circle\"},\"mode\":\"markers\",\"name\":\"CLE\",\"orientation\":\"v\",\"showlegend\":true,\"x\":[57.17,56.71,56.9,56.66,57.04,57.66,49.78,56.99,57.07,54.92,56.67],\"xaxis\":\"x\",\"y\":[25.6,9.22,20.3,23.54,28.56,23.95,23.32,22.13,27.15,25.69,30.43],\"yaxis\":\"y\",\"type\":\"scatter\"},{\"customdata\":[[null,\"football\",0.319999992847443,null]],\"hovertemplate\":\"club=football\\u003cbr\\u003eframeId=8\\u003cbr\\u003ex=%{x}\\u003cbr\\u003ey=%{y}\\u003cbr\\u003ejerseyNumber=%{customdata[0]}\\u003cbr\\u003edisplayName=%{customdata[1]}\\u003cbr\\u003es=%{customdata[2]}\\u003cbr\\u003eevent=%{customdata[3]}\\u003cextra\\u003e\\u003c\\u002fextra\\u003e\",\"legendgroup\":\"football\",\"marker\":{\"color\":\"#CBB67C\",\"symbol\":\"circle\"},\"mode\":\"markers\",\"name\":\"football\",\"orientation\":\"v\",\"showlegend\":true,\"x\":[58.060001373291],\"xaxis\":\"x\",\"y\":[23.6599998474121],\"yaxis\":\"y\",\"type\":\"scatter\"}],\"name\":\"8\"},{\"data\":[{\"customdata\":[[32.0,\"Devin McCourty\",3.58,null],[21.0,\"Adrian Phillips\",5.28,null],[91.0,\"Deatrich Wise\",1.34,null],[8.0,\"Ja'Whaun Bentley\",0.25,null],[95.0,\"Daniel Ekuale\",1.26,null],[48.0,\"Jahlani Tavai\",1.76,null],[23.0,\"Kyle Dugger\",0.52,null],[58.0,\"Anfernee Jennings\",1.28,null],[90.0,\"Christian Barmore\",1.13,null],[25.0,\"Marcus Jones\",0.71,null],[13.0,\"Jack Jones\",0.0,null]],\"hovertemplate\":\"club=NE\\u003cbr\\u003eframeId=9\\u003cbr\\u003ex=%{x}\\u003cbr\\u003ey=%{y}\\u003cbr\\u003ejerseyNumber=%{customdata[0]}\\u003cbr\\u003edisplayName=%{customdata[1]}\\u003cbr\\u003es=%{customdata[2]}\\u003cbr\\u003eevent=%{customdata[3]}\\u003cextra\\u003e\\u003c\\u002fextra\\u003e\",\"legendgroup\":\"NE\",\"marker\":{\"color\":\"#002244\",\"symbol\":\"circle\"},\"mode\":\"markers\",\"name\":\"NE\",\"orientation\":\"v\",\"showlegend\":true,\"x\":[68.58,65.19,58.72,63.42,58.94,60.49,60.7,58.81,58.84,65.7,64.94],\"xaxis\":\"x\",\"y\":[29.5,17.11,28.97,25.51,22.86,19.67,31.44,18.18,25.5,35.99,10.01],\"yaxis\":\"y\",\"type\":\"scatter\"},{\"customdata\":[[75.0,\"Joel Bitonio\",1.51,null],[2.0,\"Amari Cooper\",0.13,null],[78.0,\"Jack Conklin\",1.06,null],[7.0,\"Jacoby Brissett\",0.1,null],[85.0,\"David Njoku\",0.36,null],[55.0,\"Ethan Pocic\",1.58,null],[24.0,\"Nick Chubb\",0.49,null],[72.0,\"Hjalte Froholdt\",1.83,null],[71.0,\"Jedrick Wills\",1.16,null],[11.0,\"Donovan Peoples-Jones\",7.34,null],[18.0,\"David Bell\",0.36,null]],\"hovertemplate\":\"club=CLE\\u003cbr\\u003eframeId=9\\u003cbr\\u003ex=%{x}\\u003cbr\\u003ey=%{y}\\u003cbr\\u003ejerseyNumber=%{customdata[0]}\\u003cbr\\u003edisplayName=%{customdata[1]}\\u003cbr\\u003es=%{customdata[2]}\\u003cbr\\u003eevent=%{customdata[3]}\\u003cextra\\u003e\\u003c\\u002fextra\\u003e\",\"legendgroup\":\"CLE\",\"marker\":{\"color\":\"#311D00\",\"symbol\":\"circle\"},\"mode\":\"markers\",\"name\":\"CLE\",\"orientation\":\"v\",\"showlegend\":true,\"x\":[57.23,56.72,56.9,56.65,57.04,57.66,49.81,57.03,57.06,54.81,56.7],\"xaxis\":\"x\",\"y\":[25.74,9.22,20.4,23.55,28.59,24.13,23.34,22.3,27.26,24.96,30.43],\"yaxis\":\"y\",\"type\":\"scatter\"},{\"customdata\":[[null,\"football\",1.73000001907349,null]],\"hovertemplate\":\"club=football\\u003cbr\\u003eframeId=9\\u003cbr\\u003ex=%{x}\\u003cbr\\u003ey=%{y}\\u003cbr\\u003ejerseyNumber=%{customdata[0]}\\u003cbr\\u003edisplayName=%{customdata[1]}\\u003cbr\\u003es=%{customdata[2]}\\u003cbr\\u003eevent=%{customdata[3]}\\u003cextra\\u003e\\u003c\\u002fextra\\u003e\",\"legendgroup\":\"football\",\"marker\":{\"color\":\"#CBB67C\",\"symbol\":\"circle\"},\"mode\":\"markers\",\"name\":\"football\",\"orientation\":\"v\",\"showlegend\":true,\"x\":[57.9900016784668],\"xaxis\":\"x\",\"y\":[23.7000007629395],\"yaxis\":\"y\",\"type\":\"scatter\"}],\"name\":\"9\"},{\"data\":[{\"customdata\":[[32.0,\"Devin McCourty\",3.71,null],[21.0,\"Adrian Phillips\",5.22,null],[91.0,\"Deatrich Wise\",1.63,null],[8.0,\"Ja'Whaun Bentley\",0.44,null],[95.0,\"Daniel Ekuale\",1.58,null],[48.0,\"Jahlani Tavai\",2.02,null],[23.0,\"Kyle Dugger\",0.62,null],[58.0,\"Anfernee Jennings\",1.73,null],[90.0,\"Christian Barmore\",1.45,null],[25.0,\"Marcus Jones\",0.64,null],[13.0,\"Jack Jones\",0.0,null]],\"hovertemplate\":\"club=NE\\u003cbr\\u003eframeId=10\\u003cbr\\u003ex=%{x}\\u003cbr\\u003ey=%{y}\\u003cbr\\u003ejerseyNumber=%{customdata[0]}\\u003cbr\\u003edisplayName=%{customdata[1]}\\u003cbr\\u003es=%{customdata[2]}\\u003cbr\\u003eevent=%{customdata[3]}\\u003cextra\\u003e\\u003c\\u002fextra\\u003e\",\"legendgroup\":\"NE\",\"marker\":{\"color\":\"#002244\",\"symbol\":\"circle\"},\"mode\":\"markers\",\"name\":\"NE\",\"orientation\":\"v\",\"showlegend\":true,\"x\":[68.9,64.89,58.59,63.38,58.84,60.35,60.64,58.66,58.82,65.73,64.97],\"xaxis\":\"x\",\"y\":[29.32,16.68,29.06,25.56,23.01,19.81,31.44,18.3,25.65,35.93,10.02],\"yaxis\":\"y\",\"type\":\"scatter\"},{\"customdata\":[[75.0,\"Joel Bitonio\",1.8,null],[2.0,\"Amari Cooper\",0.34,null],[78.0,\"Jack Conklin\",1.56,null],[7.0,\"Jacoby Brissett\",0.48,null],[85.0,\"David Njoku\",0.74,null],[55.0,\"Ethan Pocic\",1.98,null],[24.0,\"Nick Chubb\",1.05,null],[72.0,\"Hjalte Froholdt\",2.38,null],[71.0,\"Jedrick Wills\",1.52,null],[11.0,\"Donovan Peoples-Jones\",7.38,null],[18.0,\"David Bell\",0.67,null]],\"hovertemplate\":\"club=CLE\\u003cbr\\u003eframeId=10\\u003cbr\\u003ex=%{x}\\u003cbr\\u003ey=%{y}\\u003cbr\\u003ejerseyNumber=%{customdata[0]}\\u003cbr\\u003edisplayName=%{customdata[1]}\\u003cbr\\u003es=%{customdata[2]}\\u003cbr\\u003eevent=%{customdata[3]}\\u003cextra\\u003e\\u003c\\u002fextra\\u003e\",\"legendgroup\":\"CLE\",\"marker\":{\"color\":\"#311D00\",\"symbol\":\"circle\"},\"mode\":\"markers\",\"name\":\"CLE\",\"orientation\":\"v\",\"showlegend\":true,\"x\":[57.32,56.75,56.91,56.61,57.04,57.65,49.89,57.06,57.05,54.69,56.75],\"xaxis\":\"x\",\"y\":[25.9,9.23,20.56,23.58,28.64,24.36,23.41,22.53,27.42,24.22,30.43],\"yaxis\":\"y\",\"type\":\"scatter\"},{\"customdata\":[[null,\"football\",3.17000007629395,null]],\"hovertemplate\":\"club=football\\u003cbr\\u003eframeId=10\\u003cbr\\u003ex=%{x}\\u003cbr\\u003ey=%{y}\\u003cbr\\u003ejerseyNumber=%{customdata[0]}\\u003cbr\\u003edisplayName=%{customdata[1]}\\u003cbr\\u003es=%{customdata[2]}\\u003cbr\\u003eevent=%{customdata[3]}\\u003cextra\\u003e\\u003c\\u002fextra\\u003e\",\"legendgroup\":\"football\",\"marker\":{\"color\":\"#CBB67C\",\"symbol\":\"circle\"},\"mode\":\"markers\",\"name\":\"football\",\"orientation\":\"v\",\"showlegend\":true,\"x\":[57.7700004577637],\"xaxis\":\"x\",\"y\":[23.8099994659424],\"yaxis\":\"y\",\"type\":\"scatter\"}],\"name\":\"10\"},{\"data\":[{\"customdata\":[[32.0,\"Devin McCourty\",3.83,null],[21.0,\"Adrian Phillips\",5.09,null],[91.0,\"Deatrich Wise\",1.78,null],[8.0,\"Ja'Whaun Bentley\",1.02,null],[95.0,\"Daniel Ekuale\",1.9,null],[48.0,\"Jahlani Tavai\",2.37,null],[23.0,\"Kyle Dugger\",1.01,null],[58.0,\"Anfernee Jennings\",2.21,null],[90.0,\"Christian Barmore\",1.67,null],[25.0,\"Marcus Jones\",0.55,null],[13.0,\"Jack Jones\",0.05,null]],\"hovertemplate\":\"club=NE\\u003cbr\\u003eframeId=11\\u003cbr\\u003ex=%{x}\\u003cbr\\u003ey=%{y}\\u003cbr\\u003ejerseyNumber=%{customdata[0]}\\u003cbr\\u003edisplayName=%{customdata[1]}\\u003cbr\\u003es=%{customdata[2]}\\u003cbr\\u003eevent=%{customdata[3]}\\u003cextra\\u003e\\u003c\\u002fextra\\u003e\",\"legendgroup\":\"NE\",\"marker\":{\"color\":\"#002244\",\"symbol\":\"circle\"},\"mode\":\"markers\",\"name\":\"NE\",\"orientation\":\"v\",\"showlegend\":true,\"x\":[69.23,64.62,58.45,63.32,58.72,60.19,60.52,58.49,58.81,65.76,65.03],\"xaxis\":\"x\",\"y\":[29.12,16.24,29.16,25.64,23.18,19.98,31.49,18.46,25.82,35.88,10.03],\"yaxis\":\"y\",\"type\":\"scatter\"},{\"customdata\":[[75.0,\"Joel Bitonio\",2.0,null],[2.0,\"Amari Cooper\",0.61,null],[78.0,\"Jack Conklin\",2.18,null],[7.0,\"Jacoby Brissett\",1.15,null],[85.0,\"David Njoku\",1.12,null],[55.0,\"Ethan Pocic\",2.32,null],[24.0,\"Nick Chubb\",1.78,null],[72.0,\"Hjalte Froholdt\",2.84,null],[71.0,\"Jedrick Wills\",1.86,null],[11.0,\"Donovan Peoples-Jones\",7.34,null],[18.0,\"David Bell\",0.99,null]],\"hovertemplate\":\"club=CLE\\u003cbr\\u003eframeId=11\\u003cbr\\u003ex=%{x}\\u003cbr\\u003ey=%{y}\\u003cbr\\u003ejerseyNumber=%{customdata[0]}\\u003cbr\\u003edisplayName=%{customdata[1]}\\u003cbr\\u003es=%{customdata[2]}\\u003cbr\\u003eevent=%{customdata[3]}\\u003cextra\\u003e\\u003c\\u002fextra\\u003e\",\"legendgroup\":\"CLE\",\"marker\":{\"color\":\"#311D00\",\"symbol\":\"circle\"},\"mode\":\"markers\",\"name\":\"CLE\",\"orientation\":\"v\",\"showlegend\":true,\"x\":[57.41,56.81,56.94,56.53,57.04,57.65,50.01,57.1,57.03,54.57,56.84],\"xaxis\":\"x\",\"y\":[26.08,9.23,20.81,23.65,28.74,24.62,23.53,22.81,27.61,23.49,30.48],\"yaxis\":\"y\",\"type\":\"scatter\"},{\"customdata\":[[null,\"football\",4.44000005722046,null]],\"hovertemplate\":\"club=football\\u003cbr\\u003eframeId=11\\u003cbr\\u003ex=%{x}\\u003cbr\\u003ey=%{y}\\u003cbr\\u003ejerseyNumber=%{customdata[0]}\\u003cbr\\u003edisplayName=%{customdata[1]}\\u003cbr\\u003es=%{customdata[2]}\\u003cbr\\u003eevent=%{customdata[3]}\\u003cextra\\u003e\\u003c\\u002fextra\\u003e\",\"legendgroup\":\"football\",\"marker\":{\"color\":\"#CBB67C\",\"symbol\":\"circle\"},\"mode\":\"markers\",\"name\":\"football\",\"orientation\":\"v\",\"showlegend\":true,\"x\":[57.4199981689453],\"xaxis\":\"x\",\"y\":[23.9899997711182],\"yaxis\":\"y\",\"type\":\"scatter\"}],\"name\":\"11\"},{\"data\":[{\"customdata\":[[32.0,\"Devin McCourty\",3.87,null],[21.0,\"Adrian Phillips\",4.92,null],[91.0,\"Deatrich Wise\",1.94,null],[8.0,\"Ja'Whaun Bentley\",1.6,null],[95.0,\"Daniel Ekuale\",2.09,null],[48.0,\"Jahlani Tavai\",2.72,null],[23.0,\"Kyle Dugger\",1.45,null],[58.0,\"Anfernee Jennings\",2.6,null],[90.0,\"Christian Barmore\",1.97,null],[25.0,\"Marcus Jones\",0.51,null],[13.0,\"Jack Jones\",0.45,null]],\"hovertemplate\":\"club=NE\\u003cbr\\u003eframeId=12\\u003cbr\\u003ex=%{x}\\u003cbr\\u003ey=%{y}\\u003cbr\\u003ejerseyNumber=%{customdata[0]}\\u003cbr\\u003edisplayName=%{customdata[1]}\\u003cbr\\u003es=%{customdata[2]}\\u003cbr\\u003eevent=%{customdata[3]}\\u003cextra\\u003e\\u003c\\u002fextra\\u003e\",\"legendgroup\":\"NE\",\"marker\":{\"color\":\"#002244\",\"symbol\":\"circle\"},\"mode\":\"markers\",\"name\":\"NE\",\"orientation\":\"v\",\"showlegend\":true,\"x\":[69.57,64.37,58.3,63.25,58.6,60.04,60.38,58.31,58.85,65.8,65.05],\"xaxis\":\"x\",\"y\":[28.94,15.81,29.28,25.78,23.36,20.2,31.54,18.65,26.04,35.84,10.04],\"yaxis\":\"y\",\"type\":\"scatter\"},{\"customdata\":[[75.0,\"Joel Bitonio\",2.13,null],[2.0,\"Amari Cooper\",0.96,null],[78.0,\"Jack Conklin\",2.75,null],[7.0,\"Jacoby Brissett\",1.98,null],[85.0,\"David Njoku\",1.48,null],[55.0,\"Ethan Pocic\",2.63,null],[24.0,\"Nick Chubb\",2.6,null],[72.0,\"Hjalte Froholdt\",3.17,null],[71.0,\"Jedrick Wills\",2.25,null],[11.0,\"Donovan Peoples-Jones\",7.26,null],[18.0,\"David Bell\",1.27,null]],\"hovertemplate\":\"club=CLE\\u003cbr\\u003eframeId=12\\u003cbr\\u003ex=%{x}\\u003cbr\\u003ey=%{y}\\u003cbr\\u003ejerseyNumber=%{customdata[0]}\\u003cbr\\u003edisplayName=%{customdata[1]}\\u003cbr\\u003es=%{customdata[2]}\\u003cbr\\u003eevent=%{customdata[3]}\\u003cextra\\u003e\\u003c\\u002fextra\\u003e\",\"legendgroup\":\"CLE\",\"marker\":{\"color\":\"#311D00\",\"symbol\":\"circle\"},\"mode\":\"markers\",\"name\":\"CLE\",\"orientation\":\"v\",\"showlegend\":true,\"x\":[57.51,56.9,56.98,56.4,57.02,57.65,50.18,57.13,57.0,54.45,56.93],\"xaxis\":\"x\",\"y\":[26.27,9.24,21.1,23.77,28.87,24.9,23.72,23.14,27.85,22.76,30.55],\"yaxis\":\"y\",\"type\":\"scatter\"},{\"customdata\":[[null,\"football\",5.46000003814697,null]],\"hovertemplate\":\"club=football\\u003cbr\\u003eframeId=12\\u003cbr\\u003ex=%{x}\\u003cbr\\u003ey=%{y}\\u003cbr\\u003ejerseyNumber=%{customdata[0]}\\u003cbr\\u003edisplayName=%{customdata[1]}\\u003cbr\\u003es=%{customdata[2]}\\u003cbr\\u003eevent=%{customdata[3]}\\u003cextra\\u003e\\u003c\\u002fextra\\u003e\",\"legendgroup\":\"football\",\"marker\":{\"color\":\"#CBB67C\",\"symbol\":\"circle\"},\"mode\":\"markers\",\"name\":\"football\",\"orientation\":\"v\",\"showlegend\":true,\"x\":[56.9700012207031],\"xaxis\":\"x\",\"y\":[24.2099990844727],\"yaxis\":\"y\",\"type\":\"scatter\"}],\"name\":\"12\"},{\"data\":[{\"customdata\":[[32.0,\"Devin McCourty\",3.88,null],[21.0,\"Adrian Phillips\",4.74,null],[91.0,\"Deatrich Wise\",2.06,null],[8.0,\"Ja'Whaun Bentley\",2.05,null],[95.0,\"Daniel Ekuale\",2.41,null],[48.0,\"Jahlani Tavai\",3.03,null],[23.0,\"Kyle Dugger\",1.81,null],[58.0,\"Anfernee Jennings\",2.99,null],[90.0,\"Christian Barmore\",2.16,null],[25.0,\"Marcus Jones\",0.51,null],[13.0,\"Jack Jones\",1.13,null]],\"hovertemplate\":\"club=NE\\u003cbr\\u003eframeId=13\\u003cbr\\u003ex=%{x}\\u003cbr\\u003ey=%{y}\\u003cbr\\u003ejerseyNumber=%{customdata[0]}\\u003cbr\\u003edisplayName=%{customdata[1]}\\u003cbr\\u003es=%{customdata[2]}\\u003cbr\\u003eevent=%{customdata[3]}\\u003cextra\\u003e\\u003c\\u002fextra\\u003e\",\"legendgroup\":\"NE\",\"marker\":{\"color\":\"#002244\",\"symbol\":\"circle\"},\"mode\":\"markers\",\"name\":\"NE\",\"orientation\":\"v\",\"showlegend\":true,\"x\":[69.91,64.15,58.14,63.16,58.48,59.92,60.22,58.12,58.86,65.83,65.14],\"xaxis\":\"x\",\"y\":[28.76,15.38,29.43,25.94,23.6,20.46,31.6,18.87,26.27,35.81,10.05],\"yaxis\":\"y\",\"type\":\"scatter\"},{\"customdata\":[[75.0,\"Joel Bitonio\",2.32,null],[2.0,\"Amari Cooper\",1.47,null],[78.0,\"Jack Conklin\",3.18,null],[7.0,\"Jacoby Brissett\",2.7,null],[85.0,\"David Njoku\",1.84,null],[55.0,\"Ethan Pocic\",3.0,null],[24.0,\"Nick Chubb\",3.25,null],[72.0,\"Hjalte Froholdt\",3.49,null],[71.0,\"Jedrick Wills\",2.49,null],[11.0,\"Donovan Peoples-Jones\",7.18,null],[18.0,\"David Bell\",1.53,null]],\"hovertemplate\":\"club=CLE\\u003cbr\\u003eframeId=13\\u003cbr\\u003ex=%{x}\\u003cbr\\u003ey=%{y}\\u003cbr\\u003ejerseyNumber=%{customdata[0]}\\u003cbr\\u003edisplayName=%{customdata[1]}\\u003cbr\\u003es=%{customdata[2]}\\u003cbr\\u003eevent=%{customdata[3]}\\u003cextra\\u003e\\u003c\\u002fextra\\u003e\",\"legendgroup\":\"CLE\",\"marker\":{\"color\":\"#311D00\",\"symbol\":\"circle\"},\"mode\":\"markers\",\"name\":\"CLE\",\"orientation\":\"v\",\"showlegend\":true,\"x\":[57.63,57.06,57.03,56.21,56.98,57.69,50.39,57.16,56.97,54.34,57.02],\"xaxis\":\"x\",\"y\":[26.48,9.26,21.42,23.93,29.04,25.23,23.94,23.51,28.09,22.05,30.67],\"yaxis\":\"y\",\"type\":\"scatter\"},{\"customdata\":[[null,\"football\",6.15999984741211,null]],\"hovertemplate\":\"club=football\\u003cbr\\u003eframeId=13\\u003cbr\\u003ex=%{x}\\u003cbr\\u003ey=%{y}\\u003cbr\\u003ejerseyNumber=%{customdata[0]}\\u003cbr\\u003edisplayName=%{customdata[1]}\\u003cbr\\u003es=%{customdata[2]}\\u003cbr\\u003eevent=%{customdata[3]}\\u003cextra\\u003e\\u003c\\u002fextra\\u003e\",\"legendgroup\":\"football\",\"marker\":{\"color\":\"#CBB67C\",\"symbol\":\"circle\"},\"mode\":\"markers\",\"name\":\"football\",\"orientation\":\"v\",\"showlegend\":true,\"x\":[56.4700012207031],\"xaxis\":\"x\",\"y\":[24.4699993133545],\"yaxis\":\"y\",\"type\":\"scatter\"}],\"name\":\"13\"},{\"data\":[{\"customdata\":[[32.0,\"Devin McCourty\",3.74,null],[21.0,\"Adrian Phillips\",4.54,null],[91.0,\"Deatrich Wise\",2.13,null],[8.0,\"Ja'Whaun Bentley\",2.54,null],[95.0,\"Daniel Ekuale\",2.6,null],[48.0,\"Jahlani Tavai\",3.33,null],[23.0,\"Kyle Dugger\",2.21,null],[58.0,\"Anfernee Jennings\",3.29,null],[90.0,\"Christian Barmore\",2.31,null],[25.0,\"Marcus Jones\",0.46,null],[13.0,\"Jack Jones\",1.91,null]],\"hovertemplate\":\"club=NE\\u003cbr\\u003eframeId=14\\u003cbr\\u003ex=%{x}\\u003cbr\\u003ey=%{y}\\u003cbr\\u003ejerseyNumber=%{customdata[0]}\\u003cbr\\u003edisplayName=%{customdata[1]}\\u003cbr\\u003es=%{customdata[2]}\\u003cbr\\u003eevent=%{customdata[3]}\\u003cextra\\u003e\\u003c\\u002fextra\\u003e\",\"legendgroup\":\"NE\",\"marker\":{\"color\":\"#002244\",\"symbol\":\"circle\"},\"mode\":\"markers\",\"name\":\"NE\",\"orientation\":\"v\",\"showlegend\":true,\"x\":[70.24,63.97,57.99,63.04,58.35,59.8,60.02,57.92,58.89,65.88,65.31],\"xaxis\":\"x\",\"y\":[28.59,14.96,29.58,26.16,23.84,20.76,31.69,19.11,26.51,35.79,10.08],\"yaxis\":\"y\",\"type\":\"scatter\"},{\"customdata\":[[75.0,\"Joel Bitonio\",2.57,null],[2.0,\"Amari Cooper\",1.9,null],[78.0,\"Jack Conklin\",3.54,null],[7.0,\"Jacoby Brissett\",3.47,null],[85.0,\"David Njoku\",2.1,null],[55.0,\"Ethan Pocic\",3.24,null],[24.0,\"Nick Chubb\",3.98,null],[72.0,\"Hjalte Froholdt\",3.66,null],[71.0,\"Jedrick Wills\",2.72,null],[11.0,\"Donovan Peoples-Jones\",7.07,null],[18.0,\"David Bell\",1.79,null]],\"hovertemplate\":\"club=CLE\\u003cbr\\u003eframeId=14\\u003cbr\\u003ex=%{x}\\u003cbr\\u003ey=%{y}\\u003cbr\\u003ejerseyNumber=%{customdata[0]}\\u003cbr\\u003edisplayName=%{customdata[1]}\\u003cbr\\u003es=%{customdata[2]}\\u003cbr\\u003eevent=%{customdata[3]}\\u003cextra\\u003e\\u003c\\u002fextra\\u003e\",\"legendgroup\":\"CLE\",\"marker\":{\"color\":\"#311D00\",\"symbol\":\"circle\"},\"mode\":\"markers\",\"name\":\"CLE\",\"orientation\":\"v\",\"showlegend\":true,\"x\":[57.76,57.25,57.09,55.94,56.93,57.74,50.66,57.17,56.95,54.23,57.13],\"xaxis\":\"x\",\"y\":[26.72,9.3,21.77,24.13,29.23,25.56,24.23,23.89,28.37,21.34,30.8],\"yaxis\":\"y\",\"type\":\"scatter\"},{\"customdata\":[[null,\"football\",6.59000015258789,null]],\"hovertemplate\":\"club=football\\u003cbr\\u003eframeId=14\\u003cbr\\u003ex=%{x}\\u003cbr\\u003ey=%{y}\\u003cbr\\u003ejerseyNumber=%{customdata[0]}\\u003cbr\\u003edisplayName=%{customdata[1]}\\u003cbr\\u003es=%{customdata[2]}\\u003cbr\\u003eevent=%{customdata[3]}\\u003cextra\\u003e\\u003c\\u002fextra\\u003e\",\"legendgroup\":\"football\",\"marker\":{\"color\":\"#CBB67C\",\"symbol\":\"circle\"},\"mode\":\"markers\",\"name\":\"football\",\"orientation\":\"v\",\"showlegend\":true,\"x\":[55.9300003051758],\"xaxis\":\"x\",\"y\":[24.7700004577637],\"yaxis\":\"y\",\"type\":\"scatter\"}],\"name\":\"14\"},{\"data\":[{\"customdata\":[[32.0,\"Devin McCourty\",3.57,null],[21.0,\"Adrian Phillips\",4.31,null],[91.0,\"Deatrich Wise\",2.18,null],[8.0,\"Ja'Whaun Bentley\",2.91,null],[95.0,\"Daniel Ekuale\",2.72,null],[48.0,\"Jahlani Tavai\",3.62,null],[23.0,\"Kyle Dugger\",2.65,null],[58.0,\"Anfernee Jennings\",3.59,null],[90.0,\"Christian Barmore\",2.36,null],[25.0,\"Marcus Jones\",0.42,null],[13.0,\"Jack Jones\",2.67,null]],\"hovertemplate\":\"club=NE\\u003cbr\\u003eframeId=15\\u003cbr\\u003ex=%{x}\\u003cbr\\u003ey=%{y}\\u003cbr\\u003ejerseyNumber=%{customdata[0]}\\u003cbr\\u003edisplayName=%{customdata[1]}\\u003cbr\\u003es=%{customdata[2]}\\u003cbr\\u003eevent=%{customdata[3]}\\u003cextra\\u003e\\u003c\\u002fextra\\u003e\",\"legendgroup\":\"NE\",\"marker\":{\"color\":\"#002244\",\"symbol\":\"circle\"},\"mode\":\"markers\",\"name\":\"NE\",\"orientation\":\"v\",\"showlegend\":true,\"x\":[70.56,63.82,57.84,62.91,58.22,59.71,59.79,57.71,58.92,65.92,65.55],\"xaxis\":\"x\",\"y\":[28.44,14.54,29.75,26.4,24.09,21.11,31.8,19.39,26.74,35.79,10.13],\"yaxis\":\"y\",\"type\":\"scatter\"},{\"customdata\":[[75.0,\"Joel Bitonio\",2.79,null],[2.0,\"Amari Cooper\",2.31,null],[78.0,\"Jack Conklin\",3.81,null],[7.0,\"Jacoby Brissett\",4.01,null],[85.0,\"David Njoku\",2.32,null],[55.0,\"Ethan Pocic\",3.43,null],[24.0,\"Nick Chubb\",4.66,null],[72.0,\"Hjalte Froholdt\",3.72,null],[71.0,\"Jedrick Wills\",2.89,null],[11.0,\"Donovan Peoples-Jones\",6.91,null],[18.0,\"David Bell\",1.96,null]],\"hovertemplate\":\"club=CLE\\u003cbr\\u003eframeId=15\\u003cbr\\u003ex=%{x}\\u003cbr\\u003ey=%{y}\\u003cbr\\u003ejerseyNumber=%{customdata[0]}\\u003cbr\\u003edisplayName=%{customdata[1]}\\u003cbr\\u003es=%{customdata[2]}\\u003cbr\\u003eevent=%{customdata[3]}\\u003cextra\\u003e\\u003c\\u002fextra\\u003e\",\"legendgroup\":\"CLE\",\"marker\":{\"color\":\"#311D00\",\"symbol\":\"circle\"},\"mode\":\"markers\",\"name\":\"CLE\",\"orientation\":\"v\",\"showlegend\":true,\"x\":[57.89,57.47,57.16,55.65,56.87,57.82,50.96,57.18,56.92,54.16,57.25],\"xaxis\":\"x\",\"y\":[26.99,9.36,22.16,24.36,29.44,25.91,24.57,24.27,28.67,20.64,30.95],\"yaxis\":\"y\",\"type\":\"scatter\"},{\"customdata\":[[null,\"football\",6.67000007629395,null]],\"hovertemplate\":\"club=football\\u003cbr\\u003eframeId=15\\u003cbr\\u003ex=%{x}\\u003cbr\\u003ey=%{y}\\u003cbr\\u003ejerseyNumber=%{customdata[0]}\\u003cbr\\u003edisplayName=%{customdata[1]}\\u003cbr\\u003es=%{customdata[2]}\\u003cbr\\u003eevent=%{customdata[3]}\\u003cextra\\u003e\\u003c\\u002fextra\\u003e\",\"legendgroup\":\"football\",\"marker\":{\"color\":\"#CBB67C\",\"symbol\":\"circle\"},\"mode\":\"markers\",\"name\":\"football\",\"orientation\":\"v\",\"showlegend\":true,\"x\":[55.3899993896484],\"xaxis\":\"x\",\"y\":[25.0900001525879],\"yaxis\":\"y\",\"type\":\"scatter\"}],\"name\":\"15\"},{\"data\":[{\"customdata\":[[32.0,\"Devin McCourty\",3.4,null],[21.0,\"Adrian Phillips\",3.96,null],[91.0,\"Deatrich Wise\",2.23,null],[8.0,\"Ja'Whaun Bentley\",3.32,null],[95.0,\"Daniel Ekuale\",2.84,null],[48.0,\"Jahlani Tavai\",3.94,null],[23.0,\"Kyle Dugger\",2.95,null],[58.0,\"Anfernee Jennings\",3.84,null],[90.0,\"Christian Barmore\",2.57,null],[25.0,\"Marcus Jones\",0.46,null],[13.0,\"Jack Jones\",3.26,null]],\"hovertemplate\":\"club=NE\\u003cbr\\u003eframeId=16\\u003cbr\\u003ex=%{x}\\u003cbr\\u003ey=%{y}\\u003cbr\\u003ejerseyNumber=%{customdata[0]}\\u003cbr\\u003edisplayName=%{customdata[1]}\\u003cbr\\u003es=%{customdata[2]}\\u003cbr\\u003eevent=%{customdata[3]}\\u003cextra\\u003e\\u003c\\u002fextra\\u003e\",\"legendgroup\":\"NE\",\"marker\":{\"color\":\"#002244\",\"symbol\":\"circle\"},\"mode\":\"markers\",\"name\":\"NE\",\"orientation\":\"v\",\"showlegend\":true,\"x\":[70.88,63.72,57.71,62.76,58.09,59.65,59.54,57.49,58.98,65.96,65.85],\"xaxis\":\"x\",\"y\":[28.29,14.16,29.94,26.68,24.36,21.49,31.92,19.7,27.02,35.81,10.17],\"yaxis\":\"y\",\"type\":\"scatter\"},{\"customdata\":[[75.0,\"Joel Bitonio\",2.89,null],[2.0,\"Amari Cooper\",2.66,null],[78.0,\"Jack Conklin\",4.2,null],[7.0,\"Jacoby Brissett\",4.43,null],[85.0,\"David Njoku\",2.45,null],[55.0,\"Ethan Pocic\",3.62,null],[24.0,\"Nick Chubb\",5.16,null],[72.0,\"Hjalte Froholdt\",3.83,null],[71.0,\"Jedrick Wills\",2.97,null],[11.0,\"Donovan Peoples-Jones\",6.72,null],[18.0,\"David Bell\",2.07,null]],\"hovertemplate\":\"club=CLE\\u003cbr\\u003eframeId=16\\u003cbr\\u003ex=%{x}\\u003cbr\\u003ey=%{y}\\u003cbr\\u003ejerseyNumber=%{customdata[0]}\\u003cbr\\u003edisplayName=%{customdata[1]}\\u003cbr\\u003es=%{customdata[2]}\\u003cbr\\u003eevent=%{customdata[3]}\\u003cextra\\u003e\\u003c\\u002fextra\\u003e\",\"legendgroup\":\"CLE\",\"marker\":{\"color\":\"#311D00\",\"symbol\":\"circle\"},\"mode\":\"markers\",\"name\":\"CLE\",\"orientation\":\"v\",\"showlegend\":true,\"x\":[58.01,57.72,57.27,55.32,56.82,57.94,51.3,57.16,56.9,54.12,57.32],\"xaxis\":\"x\",\"y\":[27.25,9.43,22.6,24.61,29.67,26.28,24.94,24.69,28.97,19.96,31.13],\"yaxis\":\"y\",\"type\":\"scatter\"},{\"customdata\":[[null,\"football\",6.63000011444092,null]],\"hovertemplate\":\"club=football\\u003cbr\\u003eframeId=16\\u003cbr\\u003ex=%{x}\\u003cbr\\u003ey=%{y}\\u003cbr\\u003ejerseyNumber=%{customdata[0]}\\u003cbr\\u003edisplayName=%{customdata[1]}\\u003cbr\\u003es=%{customdata[2]}\\u003cbr\\u003eevent=%{customdata[3]}\\u003cextra\\u003e\\u003c\\u002fextra\\u003e\",\"legendgroup\":\"football\",\"marker\":{\"color\":\"#CBB67C\",\"symbol\":\"circle\"},\"mode\":\"markers\",\"name\":\"football\",\"orientation\":\"v\",\"showlegend\":true,\"x\":[54.8499984741211],\"xaxis\":\"x\",\"y\":[25.4400005340576],\"yaxis\":\"y\",\"type\":\"scatter\"}],\"name\":\"16\"},{\"data\":[{\"customdata\":[[32.0,\"Devin McCourty\",3.27,null],[21.0,\"Adrian Phillips\",3.67,null],[91.0,\"Deatrich Wise\",2.35,null],[8.0,\"Ja'Whaun Bentley\",3.64,null],[95.0,\"Daniel Ekuale\",3.03,null],[48.0,\"Jahlani Tavai\",4.22,null],[23.0,\"Kyle Dugger\",3.16,null],[58.0,\"Anfernee Jennings\",4.05,null],[90.0,\"Christian Barmore\",2.76,null],[25.0,\"Marcus Jones\",0.58,null],[13.0,\"Jack Jones\",3.73,null]],\"hovertemplate\":\"club=NE\\u003cbr\\u003eframeId=17\\u003cbr\\u003ex=%{x}\\u003cbr\\u003ey=%{y}\\u003cbr\\u003ejerseyNumber=%{customdata[0]}\\u003cbr\\u003edisplayName=%{customdata[1]}\\u003cbr\\u003es=%{customdata[2]}\\u003cbr\\u003eevent=%{customdata[3]}\\u003cextra\\u003e\\u003c\\u002fextra\\u003e\",\"legendgroup\":\"NE\",\"marker\":{\"color\":\"#002244\",\"symbol\":\"circle\"},\"mode\":\"markers\",\"name\":\"NE\",\"orientation\":\"v\",\"showlegend\":true,\"x\":[71.18,63.65,57.59,62.59,57.96,59.61,59.27,57.28,59.08,66.0,66.19],\"xaxis\":\"x\",\"y\":[28.15,13.79,30.17,26.99,24.66,21.91,32.07,20.03,27.3,35.84,10.22],\"yaxis\":\"y\",\"type\":\"scatter\"},{\"customdata\":[[75.0,\"Joel Bitonio\",3.08,null],[2.0,\"Amari Cooper\",2.98,null],[78.0,\"Jack Conklin\",4.36,null],[7.0,\"Jacoby Brissett\",4.73,null],[85.0,\"David Njoku\",2.61,null],[55.0,\"Ethan Pocic\",3.8,null],[24.0,\"Nick Chubb\",5.53,null],[72.0,\"Hjalte Froholdt\",3.94,null],[71.0,\"Jedrick Wills\",3.04,null],[11.0,\"Donovan Peoples-Jones\",6.5,null],[18.0,\"David Bell\",2.13,null]],\"hovertemplate\":\"club=CLE\\u003cbr\\u003eframeId=17\\u003cbr\\u003ex=%{x}\\u003cbr\\u003ey=%{y}\\u003cbr\\u003ejerseyNumber=%{customdata[0]}\\u003cbr\\u003edisplayName=%{customdata[1]}\\u003cbr\\u003es=%{customdata[2]}\\u003cbr\\u003eevent=%{customdata[3]}\\u003cextra\\u003e\\u003c\\u002fextra\\u003e\",\"legendgroup\":\"CLE\",\"marker\":{\"color\":\"#311D00\",\"symbol\":\"circle\"},\"mode\":\"markers\",\"name\":\"CLE\",\"orientation\":\"v\",\"showlegend\":true,\"x\":[58.14,58.0,57.38,54.94,56.74,58.06,51.66,57.16,56.86,54.13,57.4],\"xaxis\":\"x\",\"y\":[27.55,9.51,23.03,24.87,29.92,26.67,25.33,25.11,29.29,19.31,31.32],\"yaxis\":\"y\",\"type\":\"scatter\"},{\"customdata\":[[null,\"football\",6.03999996185303,null]],\"hovertemplate\":\"club=football\\u003cbr\\u003eframeId=17\\u003cbr\\u003ex=%{x}\\u003cbr\\u003ey=%{y}\\u003cbr\\u003ejerseyNumber=%{customdata[0]}\\u003cbr\\u003edisplayName=%{customdata[1]}\\u003cbr\\u003es=%{customdata[2]}\\u003cbr\\u003eevent=%{customdata[3]}\\u003cextra\\u003e\\u003c\\u002fextra\\u003e\",\"legendgroup\":\"football\",\"marker\":{\"color\":\"#CBB67C\",\"symbol\":\"circle\"},\"mode\":\"markers\",\"name\":\"football\",\"orientation\":\"v\",\"showlegend\":true,\"x\":[54.439998626709],\"xaxis\":\"x\",\"y\":[25.8099994659424],\"yaxis\":\"y\",\"type\":\"scatter\"}],\"name\":\"17\"},{\"data\":[{\"customdata\":[[32.0,\"Devin McCourty\",3.05,null],[21.0,\"Adrian Phillips\",3.45,null],[91.0,\"Deatrich Wise\",2.56,null],[8.0,\"Ja'Whaun Bentley\",4.01,null],[95.0,\"Daniel Ekuale\",3.06,null],[48.0,\"Jahlani Tavai\",4.48,null],[23.0,\"Kyle Dugger\",3.25,null],[58.0,\"Anfernee Jennings\",4.3,null],[90.0,\"Christian Barmore\",2.87,null],[25.0,\"Marcus Jones\",0.76,null],[13.0,\"Jack Jones\",4.07,null]],\"hovertemplate\":\"club=NE\\u003cbr\\u003eframeId=18\\u003cbr\\u003ex=%{x}\\u003cbr\\u003ey=%{y}\\u003cbr\\u003ejerseyNumber=%{customdata[0]}\\u003cbr\\u003edisplayName=%{customdata[1]}\\u003cbr\\u003es=%{customdata[2]}\\u003cbr\\u003eevent=%{customdata[3]}\\u003cextra\\u003e\\u003c\\u002fextra\\u003e\",\"legendgroup\":\"NE\",\"marker\":{\"color\":\"#002244\",\"symbol\":\"circle\"},\"mode\":\"markers\",\"name\":\"NE\",\"orientation\":\"v\",\"showlegend\":true,\"x\":[71.48,63.61,57.48,62.43,57.82,59.6,58.99,57.07,59.18,66.04,66.57],\"xaxis\":\"x\",\"y\":[28.04,13.44,30.43,27.35,24.94,22.35,32.23,20.4,27.59,35.91,10.29],\"yaxis\":\"y\",\"type\":\"scatter\"},{\"customdata\":[[75.0,\"Joel Bitonio\",3.19,null],[2.0,\"Amari Cooper\",3.32,null],[78.0,\"Jack Conklin\",4.51,null],[7.0,\"Jacoby Brissett\",4.79,null],[85.0,\"David Njoku\",2.79,null],[55.0,\"Ethan Pocic\",3.9,null],[24.0,\"Nick Chubb\",5.82,null],[72.0,\"Hjalte Froholdt\",3.97,null],[71.0,\"Jedrick Wills\",3.02,null],[11.0,\"Donovan Peoples-Jones\",6.35,null],[18.0,\"David Bell\",2.18,null]],\"hovertemplate\":\"club=CLE\\u003cbr\\u003eframeId=18\\u003cbr\\u003ex=%{x}\\u003cbr\\u003ey=%{y}\\u003cbr\\u003ejerseyNumber=%{customdata[0]}\\u003cbr\\u003edisplayName=%{customdata[1]}\\u003cbr\\u003es=%{customdata[2]}\\u003cbr\\u003eevent=%{customdata[3]}\\u003cextra\\u003e\\u003c\\u002fextra\\u003e\",\"legendgroup\":\"CLE\",\"marker\":{\"color\":\"#311D00\",\"symbol\":\"circle\"},\"mode\":\"markers\",\"name\":\"CLE\",\"orientation\":\"v\",\"showlegend\":true,\"x\":[58.27,58.3,57.5,54.55,56.66,58.18,52.04,57.14,56.84,54.18,57.42],\"xaxis\":\"x\",\"y\":[27.85,9.62,23.49,25.09,30.19,27.05,25.76,25.53,29.59,18.66,31.52],\"yaxis\":\"y\",\"type\":\"scatter\"},{\"customdata\":[[null,\"football\",5.80999994277954,null]],\"hovertemplate\":\"club=football\\u003cbr\\u003eframeId=18\\u003cbr\\u003ex=%{x}\\u003cbr\\u003ey=%{y}\\u003cbr\\u003ejerseyNumber=%{customdata[0]}\\u003cbr\\u003edisplayName=%{customdata[1]}\\u003cbr\\u003es=%{customdata[2]}\\u003cbr\\u003eevent=%{customdata[3]}\\u003cextra\\u003e\\u003c\\u002fextra\\u003e\",\"legendgroup\":\"football\",\"marker\":{\"color\":\"#CBB67C\",\"symbol\":\"circle\"},\"mode\":\"markers\",\"name\":\"football\",\"orientation\":\"v\",\"showlegend\":true,\"x\":[53.9700012207031],\"xaxis\":\"x\",\"y\":[26.1800003051758],\"yaxis\":\"y\",\"type\":\"scatter\"}],\"name\":\"18\"},{\"data\":[{\"customdata\":[[32.0,\"Devin McCourty\",2.7,null],[21.0,\"Adrian Phillips\",3.3,null],[91.0,\"Deatrich Wise\",2.68,null],[8.0,\"Ja'Whaun Bentley\",4.17,null],[95.0,\"Daniel Ekuale\",3.05,null],[48.0,\"Jahlani Tavai\",4.64,null],[23.0,\"Kyle Dugger\",2.99,null],[58.0,\"Anfernee Jennings\",4.46,null],[90.0,\"Christian Barmore\",2.94,null],[25.0,\"Marcus Jones\",0.87,null],[13.0,\"Jack Jones\",4.26,null]],\"hovertemplate\":\"club=NE\\u003cbr\\u003eframeId=19\\u003cbr\\u003ex=%{x}\\u003cbr\\u003ey=%{y}\\u003cbr\\u003ejerseyNumber=%{customdata[0]}\\u003cbr\\u003edisplayName=%{customdata[1]}\\u003cbr\\u003es=%{customdata[2]}\\u003cbr\\u003eevent=%{customdata[3]}\\u003cextra\\u003e\\u003c\\u002fextra\\u003e\",\"legendgroup\":\"NE\",\"marker\":{\"color\":\"#002244\",\"symbol\":\"circle\"},\"mode\":\"markers\",\"name\":\"NE\",\"orientation\":\"v\",\"showlegend\":true,\"x\":[71.73,63.6,57.38,62.26,57.7,59.6,58.74,56.87,59.29,66.07,66.98],\"xaxis\":\"x\",\"y\":[27.93,13.1,30.68,27.72,25.22,22.81,32.38,20.8,27.89,35.98,10.35],\"yaxis\":\"y\",\"type\":\"scatter\"},{\"customdata\":[[75.0,\"Joel Bitonio\",3.5,null],[2.0,\"Amari Cooper\",3.6,null],[78.0,\"Jack Conklin\",4.71,null],[7.0,\"Jacoby Brissett\",4.81,null],[85.0,\"David Njoku\",2.88,null],[55.0,\"Ethan Pocic\",3.98,null],[24.0,\"Nick Chubb\",6.08,null],[72.0,\"Hjalte Froholdt\",3.96,null],[71.0,\"Jedrick Wills\",3.12,null],[11.0,\"Donovan Peoples-Jones\",6.17,null],[18.0,\"David Bell\",2.26,null]],\"hovertemplate\":\"club=CLE\\u003cbr\\u003eframeId=19\\u003cbr\\u003ex=%{x}\\u003cbr\\u003ey=%{y}\\u003cbr\\u003ejerseyNumber=%{customdata[0]}\\u003cbr\\u003edisplayName=%{customdata[1]}\\u003cbr\\u003es=%{customdata[2]}\\u003cbr\\u003eevent=%{customdata[3]}\\u003cextra\\u003e\\u003c\\u002fextra\\u003e\",\"legendgroup\":\"CLE\",\"marker\":{\"color\":\"#311D00\",\"symbol\":\"circle\"},\"mode\":\"markers\",\"name\":\"CLE\",\"orientation\":\"v\",\"showlegend\":true,\"x\":[58.42,58.62,57.66,54.13,56.59,58.33,52.43,57.11,56.83,54.27,57.41],\"xaxis\":\"x\",\"y\":[28.2,9.76,23.97,25.32,30.47,27.44,26.21,25.93,29.93,18.04,31.75],\"yaxis\":\"y\",\"type\":\"scatter\"},{\"customdata\":[[null,\"football\",4.78000020980835,null]],\"hovertemplate\":\"club=football\\u003cbr\\u003eframeId=19\\u003cbr\\u003ex=%{x}\\u003cbr\\u003ey=%{y}\\u003cbr\\u003ejerseyNumber=%{customdata[0]}\\u003cbr\\u003edisplayName=%{customdata[1]}\\u003cbr\\u003es=%{customdata[2]}\\u003cbr\\u003eevent=%{customdata[3]}\\u003cextra\\u003e\\u003c\\u002fextra\\u003e\",\"legendgroup\":\"football\",\"marker\":{\"color\":\"#CBB67C\",\"symbol\":\"circle\"},\"mode\":\"markers\",\"name\":\"football\",\"orientation\":\"v\",\"showlegend\":true,\"x\":[53.8600006103516],\"xaxis\":\"x\",\"y\":[26.6200008392334],\"yaxis\":\"y\",\"type\":\"scatter\"}],\"name\":\"19\"},{\"data\":[{\"customdata\":[[32.0,\"Devin McCourty\",2.25,\"handoff\"],[21.0,\"Adrian Phillips\",3.17,\"handoff\"],[91.0,\"Deatrich Wise\",2.87,\"handoff\"],[8.0,\"Ja'Whaun Bentley\",4.29,\"handoff\"],[95.0,\"Daniel Ekuale\",3.02,\"handoff\"],[48.0,\"Jahlani Tavai\",4.82,\"handoff\"],[23.0,\"Kyle Dugger\",2.87,\"handoff\"],[58.0,\"Anfernee Jennings\",4.58,\"handoff\"],[90.0,\"Christian Barmore\",3.02,\"handoff\"],[25.0,\"Marcus Jones\",0.98,\"handoff\"],[13.0,\"Jack Jones\",4.35,\"handoff\"]],\"hovertemplate\":\"club=NE\\u003cbr\\u003eframeId=20\\u003cbr\\u003ex=%{x}\\u003cbr\\u003ey=%{y}\\u003cbr\\u003ejerseyNumber=%{customdata[0]}\\u003cbr\\u003edisplayName=%{customdata[1]}\\u003cbr\\u003es=%{customdata[2]}\\u003cbr\\u003eevent=%{customdata[3]}\\u003cextra\\u003e\\u003c\\u002fextra\\u003e\",\"legendgroup\":\"NE\",\"marker\":{\"color\":\"#002244\",\"symbol\":\"circle\"},\"mode\":\"markers\",\"name\":\"NE\",\"orientation\":\"v\",\"showlegend\":true,\"x\":[71.96,63.63,57.29,62.09,57.57,59.63,58.51,56.69,59.4,66.09,67.39],\"xaxis\":\"x\",\"y\":[27.87,12.77,30.97,28.11,25.51,23.29,32.56,21.21,28.19,36.07,10.41],\"yaxis\":\"y\",\"type\":\"scatter\"},{\"customdata\":[[75.0,\"Joel Bitonio\",3.6,\"handoff\"],[2.0,\"Amari Cooper\",3.88,\"handoff\"],[78.0,\"Jack Conklin\",4.83,\"handoff\"],[7.0,\"Jacoby Brissett\",4.79,\"handoff\"],[85.0,\"David Njoku\",3.0,\"handoff\"],[55.0,\"Ethan Pocic\",4.13,\"handoff\"],[24.0,\"Nick Chubb\",6.3,\"handoff\"],[72.0,\"Hjalte Froholdt\",3.89,\"handoff\"],[71.0,\"Jedrick Wills\",3.11,\"handoff\"],[11.0,\"Donovan Peoples-Jones\",5.96,\"handoff\"],[18.0,\"David Bell\",2.31,\"handoff\"]],\"hovertemplate\":\"club=CLE\\u003cbr\\u003eframeId=20\\u003cbr\\u003ex=%{x}\\u003cbr\\u003ey=%{y}\\u003cbr\\u003ejerseyNumber=%{customdata[0]}\\u003cbr\\u003edisplayName=%{customdata[1]}\\u003cbr\\u003es=%{customdata[2]}\\u003cbr\\u003eevent=%{customdata[3]}\\u003cextra\\u003e\\u003c\\u002fextra\\u003e\",\"legendgroup\":\"CLE\",\"marker\":{\"color\":\"#311D00\",\"symbol\":\"circle\"},\"mode\":\"markers\",\"name\":\"CLE\",\"orientation\":\"v\",\"showlegend\":true,\"x\":[58.56,58.96,57.84,53.7,56.52,58.49,52.84,57.08,56.81,54.39,57.36],\"xaxis\":\"x\",\"y\":[28.55,9.93,24.44,25.53,30.76,27.85,26.68,26.33,30.25,17.45,31.97],\"yaxis\":\"y\",\"type\":\"scatter\"},{\"customdata\":[[null,\"football\",4.38000011444092,\"handoff\"]],\"hovertemplate\":\"club=football\\u003cbr\\u003eframeId=20\\u003cbr\\u003ex=%{x}\\u003cbr\\u003ey=%{y}\\u003cbr\\u003ejerseyNumber=%{customdata[0]}\\u003cbr\\u003edisplayName=%{customdata[1]}\\u003cbr\\u003es=%{customdata[2]}\\u003cbr\\u003eevent=%{customdata[3]}\\u003cextra\\u003e\\u003c\\u002fextra\\u003e\",\"legendgroup\":\"football\",\"marker\":{\"color\":\"#CBB67C\",\"symbol\":\"circle\"},\"mode\":\"markers\",\"name\":\"football\",\"orientation\":\"v\",\"showlegend\":true,\"x\":[53.7299995422363],\"xaxis\":\"x\",\"y\":[27.0300006866455],\"yaxis\":\"y\",\"type\":\"scatter\"}],\"name\":\"20\"},{\"data\":[{\"customdata\":[[32.0,\"Devin McCourty\",1.86,null],[21.0,\"Adrian Phillips\",3.02,null],[91.0,\"Deatrich Wise\",2.94,null],[8.0,\"Ja'Whaun Bentley\",4.42,null],[95.0,\"Daniel Ekuale\",3.07,null],[48.0,\"Jahlani Tavai\",4.89,null],[23.0,\"Kyle Dugger\",2.59,null],[58.0,\"Anfernee Jennings\",4.67,null],[90.0,\"Christian Barmore\",3.05,null],[25.0,\"Marcus Jones\",1.03,null],[13.0,\"Jack Jones\",4.27,null]],\"hovertemplate\":\"club=NE\\u003cbr\\u003eframeId=21\\u003cbr\\u003ex=%{x}\\u003cbr\\u003ey=%{y}\\u003cbr\\u003ejerseyNumber=%{customdata[0]}\\u003cbr\\u003edisplayName=%{customdata[1]}\\u003cbr\\u003es=%{customdata[2]}\\u003cbr\\u003eevent=%{customdata[3]}\\u003cextra\\u003e\\u003c\\u002fextra\\u003e\",\"legendgroup\":\"NE\",\"marker\":{\"color\":\"#002244\",\"symbol\":\"circle\"},\"mode\":\"markers\",\"name\":\"NE\",\"orientation\":\"v\",\"showlegend\":true,\"x\":[72.16,63.67,57.22,61.93,57.45,59.67,58.3,56.53,59.51,66.08,67.81],\"xaxis\":\"x\",\"y\":[27.85,12.46,31.26,28.52,25.8,23.77,32.74,21.65,28.5,36.17,10.48],\"yaxis\":\"y\",\"type\":\"scatter\"},{\"customdata\":[[75.0,\"Joel Bitonio\",3.75,null],[2.0,\"Amari Cooper\",4.08,null],[78.0,\"Jack Conklin\",4.92,null],[7.0,\"Jacoby Brissett\",4.7,null],[85.0,\"David Njoku\",3.08,null],[55.0,\"Ethan Pocic\",4.2,null],[24.0,\"Nick Chubb\",6.46,null],[72.0,\"Hjalte Froholdt\",3.73,null],[71.0,\"Jedrick Wills\",3.01,null],[11.0,\"Donovan Peoples-Jones\",5.88,null],[18.0,\"David Bell\",2.36,null]],\"hovertemplate\":\"club=CLE\\u003cbr\\u003eframeId=21\\u003cbr\\u003ex=%{x}\\u003cbr\\u003ey=%{y}\\u003cbr\\u003ejerseyNumber=%{customdata[0]}\\u003cbr\\u003edisplayName=%{customdata[1]}\\u003cbr\\u003es=%{customdata[2]}\\u003cbr\\u003eevent=%{customdata[3]}\\u003cextra\\u003e\\u003c\\u002fextra\\u003e\",\"legendgroup\":\"CLE\",\"marker\":{\"color\":\"#311D00\",\"symbol\":\"circle\"},\"mode\":\"markers\",\"name\":\"CLE\",\"orientation\":\"v\",\"showlegend\":true,\"x\":[58.7,59.3,58.03,53.26,56.46,58.65,53.26,57.05,56.81,54.56,57.31],\"xaxis\":\"x\",\"y\":[28.93,10.14,24.91,25.69,31.06,28.27,27.16,26.71,30.56,16.88,32.19],\"yaxis\":\"y\",\"type\":\"scatter\"},{\"customdata\":[[null,\"football\",4.42999982833862,null]],\"hovertemplate\":\"club=football\\u003cbr\\u003eframeId=21\\u003cbr\\u003ex=%{x}\\u003cbr\\u003ey=%{y}\\u003cbr\\u003ejerseyNumber=%{customdata[0]}\\u003cbr\\u003edisplayName=%{customdata[1]}\\u003cbr\\u003es=%{customdata[2]}\\u003cbr\\u003eevent=%{customdata[3]}\\u003cextra\\u003e\\u003c\\u002fextra\\u003e\",\"legendgroup\":\"football\",\"marker\":{\"color\":\"#CBB67C\",\"symbol\":\"circle\"},\"mode\":\"markers\",\"name\":\"football\",\"orientation\":\"v\",\"showlegend\":true,\"x\":[53.7099990844727],\"xaxis\":\"x\",\"y\":[27.5],\"yaxis\":\"y\",\"type\":\"scatter\"}],\"name\":\"21\"},{\"data\":[{\"customdata\":[[32.0,\"Devin McCourty\",1.39,null],[21.0,\"Adrian Phillips\",2.83,null],[91.0,\"Deatrich Wise\",3.06,null],[8.0,\"Ja'Whaun Bentley\",4.57,null],[95.0,\"Daniel Ekuale\",3.01,null],[48.0,\"Jahlani Tavai\",4.89,null],[23.0,\"Kyle Dugger\",2.23,null],[58.0,\"Anfernee Jennings\",4.74,null],[90.0,\"Christian Barmore\",3.13,null],[25.0,\"Marcus Jones\",1.2,null],[13.0,\"Jack Jones\",4.13,null]],\"hovertemplate\":\"club=NE\\u003cbr\\u003eframeId=22\\u003cbr\\u003ex=%{x}\\u003cbr\\u003ey=%{y}\\u003cbr\\u003ejerseyNumber=%{customdata[0]}\\u003cbr\\u003edisplayName=%{customdata[1]}\\u003cbr\\u003es=%{customdata[2]}\\u003cbr\\u003eevent=%{customdata[3]}\\u003cextra\\u003e\\u003c\\u002fextra\\u003e\",\"legendgroup\":\"NE\",\"marker\":{\"color\":\"#002244\",\"symbol\":\"circle\"},\"mode\":\"markers\",\"name\":\"NE\",\"orientation\":\"v\",\"showlegend\":true,\"x\":[72.3,63.76,57.17,61.78,57.33,59.71,58.15,56.38,59.64,66.02,68.22],\"xaxis\":\"x\",\"y\":[27.88,12.19,31.57,28.95,26.08,24.26,32.9,22.1,28.81,36.27,10.56],\"yaxis\":\"y\",\"type\":\"scatter\"},{\"customdata\":[[75.0,\"Joel Bitonio\",3.8,null],[2.0,\"Amari Cooper\",4.28,null],[78.0,\"Jack Conklin\",4.91,null],[7.0,\"Jacoby Brissett\",4.54,null],[85.0,\"David Njoku\",3.12,null],[55.0,\"Ethan Pocic\",4.18,null],[24.0,\"Nick Chubb\",6.58,null],[72.0,\"Hjalte Froholdt\",3.54,null],[71.0,\"Jedrick Wills\",3.02,null],[11.0,\"Donovan Peoples-Jones\",5.74,null],[18.0,\"David Bell\",2.35,null]],\"hovertemplate\":\"club=CLE\\u003cbr\\u003eframeId=22\\u003cbr\\u003ex=%{x}\\u003cbr\\u003ey=%{y}\\u003cbr\\u003ejerseyNumber=%{customdata[0]}\\u003cbr\\u003edisplayName=%{customdata[1]}\\u003cbr\\u003es=%{customdata[2]}\\u003cbr\\u003eevent=%{customdata[3]}\\u003cextra\\u003e\\u003c\\u002fextra\\u003e\",\"legendgroup\":\"CLE\",\"marker\":{\"color\":\"#311D00\",\"symbol\":\"circle\"},\"mode\":\"markers\",\"name\":\"CLE\",\"orientation\":\"v\",\"showlegend\":true,\"x\":[58.84,59.65,58.23,52.82,56.4,58.82,53.69,57.01,56.82,54.77,57.25],\"xaxis\":\"x\",\"y\":[29.3,10.38,25.37,25.81,31.37,28.67,27.66,27.07,30.89,16.33,32.41],\"yaxis\":\"y\",\"type\":\"scatter\"},{\"customdata\":[[null,\"football\",4.65000009536743,null]],\"hovertemplate\":\"club=football\\u003cbr\\u003eframeId=22\\u003cbr\\u003ex=%{x}\\u003cbr\\u003ey=%{y}\\u003cbr\\u003ejerseyNumber=%{customdata[0]}\\u003cbr\\u003edisplayName=%{customdata[1]}\\u003cbr\\u003es=%{customdata[2]}\\u003cbr\\u003eevent=%{customdata[3]}\\u003cextra\\u003e\\u003c\\u002fextra\\u003e\",\"legendgroup\":\"football\",\"marker\":{\"color\":\"#CBB67C\",\"symbol\":\"circle\"},\"mode\":\"markers\",\"name\":\"football\",\"orientation\":\"v\",\"showlegend\":true,\"x\":[53.7700004577637],\"xaxis\":\"x\",\"y\":[27.9500007629395],\"yaxis\":\"y\",\"type\":\"scatter\"}],\"name\":\"22\"},{\"data\":[{\"customdata\":[[32.0,\"Devin McCourty\",1.14,null],[21.0,\"Adrian Phillips\",2.69,null],[91.0,\"Deatrich Wise\",3.18,null],[8.0,\"Ja'Whaun Bentley\",4.68,null],[95.0,\"Daniel Ekuale\",2.93,null],[48.0,\"Jahlani Tavai\",4.81,null],[23.0,\"Kyle Dugger\",1.91,null],[58.0,\"Anfernee Jennings\",4.77,null],[90.0,\"Christian Barmore\",3.18,null],[25.0,\"Marcus Jones\",1.38,null],[13.0,\"Jack Jones\",3.88,null]],\"hovertemplate\":\"club=NE\\u003cbr\\u003eframeId=23\\u003cbr\\u003ex=%{x}\\u003cbr\\u003ey=%{y}\\u003cbr\\u003ejerseyNumber=%{customdata[0]}\\u003cbr\\u003edisplayName=%{customdata[1]}\\u003cbr\\u003es=%{customdata[2]}\\u003cbr\\u003eevent=%{customdata[3]}\\u003cextra\\u003e\\u003c\\u002fextra\\u003e\",\"legendgroup\":\"NE\",\"marker\":{\"color\":\"#002244\",\"symbol\":\"circle\"},\"mode\":\"markers\",\"name\":\"NE\",\"orientation\":\"v\",\"showlegend\":true,\"x\":[72.4,63.87,57.13,61.63,57.22,59.76,58.02,56.26,59.77,65.93,68.59],\"xaxis\":\"x\",\"y\":[27.95,11.94,31.9,29.4,26.36,24.73,33.06,22.56,29.14,36.37,10.64],\"yaxis\":\"y\",\"type\":\"scatter\"},{\"customdata\":[[75.0,\"Joel Bitonio\",4.12,null],[2.0,\"Amari Cooper\",4.54,null],[78.0,\"Jack Conklin\",4.85,null],[7.0,\"Jacoby Brissett\",4.35,null],[85.0,\"David Njoku\",3.13,null],[55.0,\"Ethan Pocic\",4.16,null],[24.0,\"Nick Chubb\",6.7,null],[72.0,\"Hjalte Froholdt\",3.23,null],[71.0,\"Jedrick Wills\",3.2,null],[11.0,\"Donovan Peoples-Jones\",5.61,null],[18.0,\"David Bell\",2.35,null]],\"hovertemplate\":\"club=CLE\\u003cbr\\u003eframeId=23\\u003cbr\\u003ex=%{x}\\u003cbr\\u003ey=%{y}\\u003cbr\\u003ejerseyNumber=%{customdata[0]}\\u003cbr\\u003edisplayName=%{customdata[1]}\\u003cbr\\u003es=%{customdata[2]}\\u003cbr\\u003eevent=%{customdata[3]}\\u003cextra\\u003e\\u003c\\u002fextra\\u003e\",\"legendgroup\":\"CLE\",\"marker\":{\"color\":\"#311D00\",\"symbol\":\"circle\"},\"mode\":\"markers\",\"name\":\"CLE\",\"orientation\":\"v\",\"showlegend\":true,\"x\":[59.03,60.01,58.46,52.38,56.36,58.98,54.12,56.97,56.84,55.03,57.18],\"xaxis\":\"x\",\"y\":[29.75,10.65,25.8,25.86,31.67,29.08,28.17,27.39,31.25,15.83,32.64],\"yaxis\":\"y\",\"type\":\"scatter\"},{\"customdata\":[[null,\"football\",5.07999992370605,null]],\"hovertemplate\":\"club=football\\u003cbr\\u003eframeId=23\\u003cbr\\u003ex=%{x}\\u003cbr\\u003ey=%{y}\\u003cbr\\u003ejerseyNumber=%{customdata[0]}\\u003cbr\\u003edisplayName=%{customdata[1]}\\u003cbr\\u003es=%{customdata[2]}\\u003cbr\\u003eevent=%{customdata[3]}\\u003cextra\\u003e\\u003c\\u002fextra\\u003e\",\"legendgroup\":\"football\",\"marker\":{\"color\":\"#CBB67C\",\"symbol\":\"circle\"},\"mode\":\"markers\",\"name\":\"football\",\"orientation\":\"v\",\"showlegend\":true,\"x\":[53.9300003051758],\"xaxis\":\"x\",\"y\":[28.4099998474121],\"yaxis\":\"y\",\"type\":\"scatter\"}],\"name\":\"23\"},{\"data\":[{\"customdata\":[[32.0,\"Devin McCourty\",1.23,null],[21.0,\"Adrian Phillips\",2.41,null],[91.0,\"Deatrich Wise\",3.17,null],[8.0,\"Ja'Whaun Bentley\",4.68,null],[95.0,\"Daniel Ekuale\",2.78,null],[48.0,\"Jahlani Tavai\",4.68,null],[23.0,\"Kyle Dugger\",1.55,null],[58.0,\"Anfernee Jennings\",4.79,null],[90.0,\"Christian Barmore\",3.38,null],[25.0,\"Marcus Jones\",1.66,null],[13.0,\"Jack Jones\",3.69,null]],\"hovertemplate\":\"club=NE\\u003cbr\\u003eframeId=24\\u003cbr\\u003ex=%{x}\\u003cbr\\u003ey=%{y}\\u003cbr\\u003ejerseyNumber=%{customdata[0]}\\u003cbr\\u003edisplayName=%{customdata[1]}\\u003cbr\\u003es=%{customdata[2]}\\u003cbr\\u003eevent=%{customdata[3]}\\u003cextra\\u003e\\u003c\\u002fextra\\u003e\",\"legendgroup\":\"NE\",\"marker\":{\"color\":\"#002244\",\"symbol\":\"circle\"},\"mode\":\"markers\",\"name\":\"NE\",\"orientation\":\"v\",\"showlegend\":true,\"x\":[72.45,64.0,57.12,61.49,57.15,59.81,57.96,56.17,59.88,65.8,68.96],\"xaxis\":\"x\",\"y\":[28.05,11.74,32.23,29.84,26.64,25.2,33.21,23.03,29.52,36.46,10.74],\"yaxis\":\"y\",\"type\":\"scatter\"},{\"customdata\":[[75.0,\"Joel Bitonio\",4.35,null],[2.0,\"Amari Cooper\",4.74,null],[78.0,\"Jack Conklin\",4.75,null],[7.0,\"Jacoby Brissett\",4.2,null],[85.0,\"David Njoku\",3.3,null],[55.0,\"Ethan Pocic\",4.08,null],[24.0,\"Nick Chubb\",6.84,null],[72.0,\"Hjalte Froholdt\",2.91,null],[71.0,\"Jedrick Wills\",3.17,null],[11.0,\"Donovan Peoples-Jones\",5.51,null],[18.0,\"David Bell\",2.37,null]],\"hovertemplate\":\"club=CLE\\u003cbr\\u003eframeId=24\\u003cbr\\u003ex=%{x}\\u003cbr\\u003ey=%{y}\\u003cbr\\u003ejerseyNumber=%{customdata[0]}\\u003cbr\\u003edisplayName=%{customdata[1]}\\u003cbr\\u003es=%{customdata[2]}\\u003cbr\\u003eevent=%{customdata[3]}\\u003cextra\\u003e\\u003c\\u002fextra\\u003e\",\"legendgroup\":\"CLE\",\"marker\":{\"color\":\"#311D00\",\"symbol\":\"circle\"},\"mode\":\"markers\",\"name\":\"CLE\",\"orientation\":\"v\",\"showlegend\":true,\"x\":[59.22,60.37,58.71,51.95,56.33,59.14,54.57,56.91,56.86,55.32,57.1],\"xaxis\":\"x\",\"y\":[30.21,10.96,26.22,25.86,32.01,29.48,28.7,27.69,31.58,15.35,32.87],\"yaxis\":\"y\",\"type\":\"scatter\"},{\"customdata\":[[null,\"football\",5.65999984741211,null]],\"hovertemplate\":\"club=football\\u003cbr\\u003eframeId=24\\u003cbr\\u003ex=%{x}\\u003cbr\\u003ey=%{y}\\u003cbr\\u003ejerseyNumber=%{customdata[0]}\\u003cbr\\u003edisplayName=%{customdata[1]}\\u003cbr\\u003es=%{customdata[2]}\\u003cbr\\u003eevent=%{customdata[3]}\\u003cextra\\u003e\\u003c\\u002fextra\\u003e\",\"legendgroup\":\"football\",\"marker\":{\"color\":\"#CBB67C\",\"symbol\":\"circle\"},\"mode\":\"markers\",\"name\":\"football\",\"orientation\":\"v\",\"showlegend\":true,\"x\":[54.1800003051758],\"xaxis\":\"x\",\"y\":[28.8899993896484],\"yaxis\":\"y\",\"type\":\"scatter\"}],\"name\":\"24\"},{\"data\":[{\"customdata\":[[32.0,\"Devin McCourty\",1.6,null],[21.0,\"Adrian Phillips\",2.16,null],[91.0,\"Deatrich Wise\",3.25,null],[8.0,\"Ja'Whaun Bentley\",4.66,null],[95.0,\"Daniel Ekuale\",2.57,null],[48.0,\"Jahlani Tavai\",4.54,null],[23.0,\"Kyle Dugger\",1.39,null],[58.0,\"Anfernee Jennings\",4.74,null],[90.0,\"Christian Barmore\",3.37,null],[25.0,\"Marcus Jones\",2.01,null],[13.0,\"Jack Jones\",3.59,null]],\"hovertemplate\":\"club=NE\\u003cbr\\u003eframeId=25\\u003cbr\\u003ex=%{x}\\u003cbr\\u003ey=%{y}\\u003cbr\\u003ejerseyNumber=%{customdata[0]}\\u003cbr\\u003edisplayName=%{customdata[1]}\\u003cbr\\u003es=%{customdata[2]}\\u003cbr\\u003eevent=%{customdata[3]}\\u003cextra\\u003e\\u003c\\u002fextra\\u003e\",\"legendgroup\":\"NE\",\"marker\":{\"color\":\"#002244\",\"symbol\":\"circle\"},\"mode\":\"markers\",\"name\":\"NE\",\"orientation\":\"v\",\"showlegend\":true,\"x\":[72.45,64.15,57.15,61.35,57.11,59.85,57.93,56.12,59.96,65.62,69.31],\"xaxis\":\"x\",\"y\":[28.19,11.58,32.57,30.29,26.9,25.66,33.36,23.51,29.86,36.54,10.86],\"yaxis\":\"y\",\"type\":\"scatter\"},{\"customdata\":[[75.0,\"Joel Bitonio\",4.53,null],[2.0,\"Amari Cooper\",4.92,null],[78.0,\"Jack Conklin\",4.6,null],[7.0,\"Jacoby Brissett\",4.1,null],[85.0,\"David Njoku\",3.38,null],[55.0,\"Ethan Pocic\",3.96,null],[24.0,\"Nick Chubb\",6.85,null],[72.0,\"Hjalte Froholdt\",2.54,null],[71.0,\"Jedrick Wills\",3.13,null],[11.0,\"Donovan Peoples-Jones\",5.37,null],[18.0,\"David Bell\",2.44,null]],\"hovertemplate\":\"club=CLE\\u003cbr\\u003eframeId=25\\u003cbr\\u003ex=%{x}\\u003cbr\\u003ey=%{y}\\u003cbr\\u003ejerseyNumber=%{customdata[0]}\\u003cbr\\u003edisplayName=%{customdata[1]}\\u003cbr\\u003es=%{customdata[2]}\\u003cbr\\u003eevent=%{customdata[3]}\\u003cextra\\u003e\\u003c\\u002fextra\\u003e\",\"legendgroup\":\"CLE\",\"marker\":{\"color\":\"#311D00\",\"symbol\":\"circle\"},\"mode\":\"markers\",\"name\":\"CLE\",\"orientation\":\"v\",\"showlegend\":true,\"x\":[59.41,60.73,58.97,51.54,56.32,59.28,55.01,56.88,56.88,55.63,57.01],\"xaxis\":\"x\",\"y\":[30.67,11.29,26.62,25.79,32.35,29.86,29.22,27.95,31.9,14.91,33.1],\"yaxis\":\"y\",\"type\":\"scatter\"},{\"customdata\":[[null,\"football\",6.26000022888184,null]],\"hovertemplate\":\"club=football\\u003cbr\\u003eframeId=25\\u003cbr\\u003ex=%{x}\\u003cbr\\u003ey=%{y}\\u003cbr\\u003ejerseyNumber=%{customdata[0]}\\u003cbr\\u003edisplayName=%{customdata[1]}\\u003cbr\\u003es=%{customdata[2]}\\u003cbr\\u003eevent=%{customdata[3]}\\u003cextra\\u003e\\u003c\\u002fextra\\u003e\",\"legendgroup\":\"football\",\"marker\":{\"color\":\"#CBB67C\",\"symbol\":\"circle\"},\"mode\":\"markers\",\"name\":\"football\",\"orientation\":\"v\",\"showlegend\":true,\"x\":[54.5200004577637],\"xaxis\":\"x\",\"y\":[29.3799991607666],\"yaxis\":\"y\",\"type\":\"scatter\"}],\"name\":\"25\"},{\"data\":[{\"customdata\":[[32.0,\"Devin McCourty\",2.14,null],[21.0,\"Adrian Phillips\",1.91,null],[91.0,\"Deatrich Wise\",3.21,null],[8.0,\"Ja'Whaun Bentley\",4.62,null],[95.0,\"Daniel Ekuale\",2.34,null],[48.0,\"Jahlani Tavai\",4.39,null],[23.0,\"Kyle Dugger\",1.27,null],[58.0,\"Anfernee Jennings\",4.71,null],[90.0,\"Christian Barmore\",3.54,null],[25.0,\"Marcus Jones\",2.38,null],[13.0,\"Jack Jones\",3.54,null]],\"hovertemplate\":\"club=NE\\u003cbr\\u003eframeId=26\\u003cbr\\u003ex=%{x}\\u003cbr\\u003ey=%{y}\\u003cbr\\u003ejerseyNumber=%{customdata[0]}\\u003cbr\\u003edisplayName=%{customdata[1]}\\u003cbr\\u003es=%{customdata[2]}\\u003cbr\\u003eevent=%{customdata[3]}\\u003cextra\\u003e\\u003c\\u002fextra\\u003e\",\"legendgroup\":\"NE\",\"marker\":{\"color\":\"#002244\",\"symbol\":\"circle\"},\"mode\":\"markers\",\"name\":\"NE\",\"orientation\":\"v\",\"showlegend\":true,\"x\":[72.38,64.31,57.18,61.23,57.1,59.89,57.95,56.1,60.07,65.4,69.64],\"xaxis\":\"x\",\"y\":[28.38,11.48,32.89,30.74,27.14,26.1,33.48,23.98,30.23,36.6,10.99],\"yaxis\":\"y\",\"type\":\"scatter\"},{\"customdata\":[[75.0,\"Joel Bitonio\",4.67,null],[2.0,\"Amari Cooper\",5.11,null],[78.0,\"Jack Conklin\",4.45,null],[7.0,\"Jacoby Brissett\",4.07,null],[85.0,\"David Njoku\",3.46,null],[55.0,\"Ethan Pocic\",3.84,null],[24.0,\"Nick Chubb\",6.83,null],[72.0,\"Hjalte Froholdt\",2.15,null],[71.0,\"Jedrick Wills\",3.05,null],[11.0,\"Donovan Peoples-Jones\",5.21,null],[18.0,\"David Bell\",2.6,null]],\"hovertemplate\":\"club=CLE\\u003cbr\\u003eframeId=26\\u003cbr\\u003ex=%{x}\\u003cbr\\u003ey=%{y}\\u003cbr\\u003ejerseyNumber=%{customdata[0]}\\u003cbr\\u003edisplayName=%{customdata[1]}\\u003cbr\\u003es=%{customdata[2]}\\u003cbr\\u003eevent=%{customdata[3]}\\u003cextra\\u003e\\u003c\\u002fextra\\u003e\",\"legendgroup\":\"CLE\",\"marker\":{\"color\":\"#311D00\",\"symbol\":\"circle\"},\"mode\":\"markers\",\"name\":\"CLE\",\"orientation\":\"v\",\"showlegend\":true,\"x\":[59.58,61.1,59.23,51.16,56.33,59.42,55.45,56.86,56.91,55.97,56.93],\"xaxis\":\"x\",\"y\":[31.14,11.64,27.0,25.65,32.7,30.24,29.74,28.17,32.22,14.51,33.35],\"yaxis\":\"y\",\"type\":\"scatter\"},{\"customdata\":[[null,\"football\",6.73000001907349,null]],\"hovertemplate\":\"club=football\\u003cbr\\u003eframeId=26\\u003cbr\\u003ex=%{x}\\u003cbr\\u003ey=%{y}\\u003cbr\\u003ejerseyNumber=%{customdata[0]}\\u003cbr\\u003edisplayName=%{customdata[1]}\\u003cbr\\u003es=%{customdata[2]}\\u003cbr\\u003eevent=%{customdata[3]}\\u003cextra\\u003e\\u003c\\u002fextra\\u003e\",\"legendgroup\":\"football\",\"marker\":{\"color\":\"#CBB67C\",\"symbol\":\"circle\"},\"mode\":\"markers\",\"name\":\"football\",\"orientation\":\"v\",\"showlegend\":true,\"x\":[54.939998626709],\"xaxis\":\"x\",\"y\":[29.8700008392334],\"yaxis\":\"y\",\"type\":\"scatter\"}],\"name\":\"26\"},{\"data\":[{\"customdata\":[[32.0,\"Devin McCourty\",2.73,null],[21.0,\"Adrian Phillips\",1.78,null],[91.0,\"Deatrich Wise\",3.27,null],[8.0,\"Ja'Whaun Bentley\",4.43,null],[95.0,\"Daniel Ekuale\",2.17,null],[48.0,\"Jahlani Tavai\",4.22,null],[23.0,\"Kyle Dugger\",1.03,null],[58.0,\"Anfernee Jennings\",4.68,null],[90.0,\"Christian Barmore\",3.63,null],[25.0,\"Marcus Jones\",2.74,null],[13.0,\"Jack Jones\",3.54,null]],\"hovertemplate\":\"club=NE\\u003cbr\\u003eframeId=27\\u003cbr\\u003ex=%{x}\\u003cbr\\u003ey=%{y}\\u003cbr\\u003ejerseyNumber=%{customdata[0]}\\u003cbr\\u003edisplayName=%{customdata[1]}\\u003cbr\\u003es=%{customdata[2]}\\u003cbr\\u003eevent=%{customdata[3]}\\u003cextra\\u003e\\u003c\\u002fextra\\u003e\",\"legendgroup\":\"NE\",\"marker\":{\"color\":\"#002244\",\"symbol\":\"circle\"},\"mode\":\"markers\",\"name\":\"NE\",\"orientation\":\"v\",\"showlegend\":true,\"x\":[72.25,64.48,57.24,61.13,57.12,59.92,58.02,56.11,60.16,65.15,69.96],\"xaxis\":\"x\",\"y\":[28.59,11.43,33.23,31.17,27.36,26.53,33.54,24.45,30.6,36.64,11.15],\"yaxis\":\"y\",\"type\":\"scatter\"},{\"customdata\":[[75.0,\"Joel Bitonio\",4.6,null],[2.0,\"Amari Cooper\",5.25,null],[78.0,\"Jack Conklin\",4.38,null],[7.0,\"Jacoby Brissett\",4.09,null],[85.0,\"David Njoku\",3.53,null],[55.0,\"Ethan Pocic\",3.85,null],[24.0,\"Nick Chubb\",6.76,null],[72.0,\"Hjalte Froholdt\",1.82,null],[71.0,\"Jedrick Wills\",2.95,null],[11.0,\"Donovan Peoples-Jones\",5.01,null],[18.0,\"David Bell\",2.62,null]],\"hovertemplate\":\"club=CLE\\u003cbr\\u003eframeId=27\\u003cbr\\u003ex=%{x}\\u003cbr\\u003ey=%{y}\\u003cbr\\u003ejerseyNumber=%{customdata[0]}\\u003cbr\\u003edisplayName=%{customdata[1]}\\u003cbr\\u003es=%{customdata[2]}\\u003cbr\\u003eevent=%{customdata[3]}\\u003cextra\\u003e\\u003c\\u002fextra\\u003e\",\"legendgroup\":\"CLE\",\"marker\":{\"color\":\"#311D00\",\"symbol\":\"circle\"},\"mode\":\"markers\",\"name\":\"CLE\",\"orientation\":\"v\",\"showlegend\":true,\"x\":[59.74,61.47,59.51,50.8,56.36,59.54,55.9,56.86,56.95,56.34,56.84],\"xaxis\":\"x\",\"y\":[31.57,12.02,27.37,25.45,33.05,30.64,30.25,28.37,32.53,14.16,33.59],\"yaxis\":\"y\",\"type\":\"scatter\"},{\"customdata\":[[null,\"football\",7.15000009536743,null]],\"hovertemplate\":\"club=football\\u003cbr\\u003eframeId=27\\u003cbr\\u003ex=%{x}\\u003cbr\\u003ey=%{y}\\u003cbr\\u003ejerseyNumber=%{customdata[0]}\\u003cbr\\u003edisplayName=%{customdata[1]}\\u003cbr\\u003es=%{customdata[2]}\\u003cbr\\u003eevent=%{customdata[3]}\\u003cextra\\u003e\\u003c\\u002fextra\\u003e\",\"legendgroup\":\"football\",\"marker\":{\"color\":\"#CBB67C\",\"symbol\":\"circle\"},\"mode\":\"markers\",\"name\":\"football\",\"orientation\":\"v\",\"showlegend\":true,\"x\":[55.439998626709],\"xaxis\":\"x\",\"y\":[30.3600006103516],\"yaxis\":\"y\",\"type\":\"scatter\"}],\"name\":\"27\"},{\"data\":[{\"customdata\":[[32.0,\"Devin McCourty\",3.23,null],[21.0,\"Adrian Phillips\",1.84,null],[91.0,\"Deatrich Wise\",3.28,null],[8.0,\"Ja'Whaun Bentley\",4.25,null],[95.0,\"Daniel Ekuale\",2.05,null],[48.0,\"Jahlani Tavai\",4.15,null],[23.0,\"Kyle Dugger\",1.09,null],[58.0,\"Anfernee Jennings\",4.66,null],[90.0,\"Christian Barmore\",3.66,null],[25.0,\"Marcus Jones\",3.02,null],[13.0,\"Jack Jones\",3.55,null]],\"hovertemplate\":\"club=NE\\u003cbr\\u003eframeId=28\\u003cbr\\u003ex=%{x}\\u003cbr\\u003ey=%{y}\\u003cbr\\u003ejerseyNumber=%{customdata[0]}\\u003cbr\\u003edisplayName=%{customdata[1]}\\u003cbr\\u003es=%{customdata[2]}\\u003cbr\\u003eevent=%{customdata[3]}\\u003cextra\\u003e\\u003c\\u002fextra\\u003e\",\"legendgroup\":\"NE\",\"marker\":{\"color\":\"#002244\",\"symbol\":\"circle\"},\"mode\":\"markers\",\"name\":\"NE\",\"orientation\":\"v\",\"showlegend\":true,\"x\":[72.07,64.65,57.33,61.05,57.2,59.96,58.12,56.17,60.22,64.86,70.27],\"xaxis\":\"x\",\"y\":[28.83,11.46,33.56,31.59,27.56,26.96,33.52,24.92,30.98,36.66,11.33],\"yaxis\":\"y\",\"type\":\"scatter\"},{\"customdata\":[[75.0,\"Joel Bitonio\",4.68,null],[2.0,\"Amari Cooper\",5.43,null],[78.0,\"Jack Conklin\",4.23,null],[7.0,\"Jacoby Brissett\",4.1,null],[85.0,\"David Njoku\",3.53,null],[55.0,\"Ethan Pocic\",3.93,null],[24.0,\"Nick Chubb\",6.52,null],[72.0,\"Hjalte Froholdt\",1.53,null],[71.0,\"Jedrick Wills\",2.81,null],[11.0,\"Donovan Peoples-Jones\",4.78,null],[18.0,\"David Bell\",2.61,null]],\"hovertemplate\":\"club=CLE\\u003cbr\\u003eframeId=28\\u003cbr\\u003ex=%{x}\\u003cbr\\u003ey=%{y}\\u003cbr\\u003ejerseyNumber=%{customdata[0]}\\u003cbr\\u003edisplayName=%{customdata[1]}\\u003cbr\\u003es=%{customdata[2]}\\u003cbr\\u003eevent=%{customdata[3]}\\u003cextra\\u003e\\u003c\\u002fextra\\u003e\",\"legendgroup\":\"CLE\",\"marker\":{\"color\":\"#311D00\",\"symbol\":\"circle\"},\"mode\":\"markers\",\"name\":\"CLE\",\"orientation\":\"v\",\"showlegend\":true,\"x\":[59.92,61.85,59.78,50.49,56.41,59.63,56.37,56.91,56.99,56.72,56.77],\"xaxis\":\"x\",\"y\":[32.04,12.41,27.72,25.19,33.4,31.06,30.71,28.53,32.82,13.86,33.84],\"yaxis\":\"y\",\"type\":\"scatter\"},{\"customdata\":[[null,\"football\",7.42999982833862,null]],\"hovertemplate\":\"club=football\\u003cbr\\u003eframeId=28\\u003cbr\\u003ex=%{x}\\u003cbr\\u003ey=%{y}\\u003cbr\\u003ejerseyNumber=%{customdata[0]}\\u003cbr\\u003edisplayName=%{customdata[1]}\\u003cbr\\u003es=%{customdata[2]}\\u003cbr\\u003eevent=%{customdata[3]}\\u003cextra\\u003e\\u003c\\u002fextra\\u003e\",\"legendgroup\":\"football\",\"marker\":{\"color\":\"#CBB67C\",\"symbol\":\"circle\"},\"mode\":\"markers\",\"name\":\"football\",\"orientation\":\"v\",\"showlegend\":true,\"x\":[56.0],\"xaxis\":\"x\",\"y\":[30.8199996948242],\"yaxis\":\"y\",\"type\":\"scatter\"}],\"name\":\"28\"},{\"data\":[{\"customdata\":[[32.0,\"Devin McCourty\",3.72,null],[21.0,\"Adrian Phillips\",1.94,null],[91.0,\"Deatrich Wise\",3.3,null],[8.0,\"Ja'Whaun Bentley\",4.09,null],[95.0,\"Daniel Ekuale\",2.09,null],[48.0,\"Jahlani Tavai\",4.06,null],[23.0,\"Kyle Dugger\",1.23,null],[58.0,\"Anfernee Jennings\",4.64,null],[90.0,\"Christian Barmore\",3.73,null],[25.0,\"Marcus Jones\",3.25,null],[13.0,\"Jack Jones\",3.59,null]],\"hovertemplate\":\"club=NE\\u003cbr\\u003eframeId=29\\u003cbr\\u003ex=%{x}\\u003cbr\\u003ey=%{y}\\u003cbr\\u003ejerseyNumber=%{customdata[0]}\\u003cbr\\u003edisplayName=%{customdata[1]}\\u003cbr\\u003es=%{customdata[2]}\\u003cbr\\u003eevent=%{customdata[3]}\\u003cextra\\u003e\\u003c\\u002fextra\\u003e\",\"legendgroup\":\"NE\",\"marker\":{\"color\":\"#002244\",\"symbol\":\"circle\"},\"mode\":\"markers\",\"name\":\"NE\",\"orientation\":\"v\",\"showlegend\":true,\"x\":[71.83,64.82,57.44,61.0,57.32,60.0,58.21,56.26,60.25,64.55,70.56],\"xaxis\":\"x\",\"y\":[29.1,11.53,33.89,32.0,27.74,27.37,33.49,25.38,31.37,36.64,11.54],\"yaxis\":\"y\",\"type\":\"scatter\"},{\"customdata\":[[75.0,\"Joel Bitonio\",4.65,null],[2.0,\"Amari Cooper\",5.53,null],[78.0,\"Jack Conklin\",4.02,null],[7.0,\"Jacoby Brissett\",4.09,null],[85.0,\"David Njoku\",3.5,null],[55.0,\"Ethan Pocic\",3.85,null],[24.0,\"Nick Chubb\",6.27,null],[72.0,\"Hjalte Froholdt\",1.36,null],[71.0,\"Jedrick Wills\",2.66,null],[11.0,\"Donovan Peoples-Jones\",4.61,null],[18.0,\"David Bell\",2.66,null]],\"hovertemplate\":\"club=CLE\\u003cbr\\u003eframeId=29\\u003cbr\\u003ex=%{x}\\u003cbr\\u003ey=%{y}\\u003cbr\\u003ejerseyNumber=%{customdata[0]}\\u003cbr\\u003edisplayName=%{customdata[1]}\\u003cbr\\u003es=%{customdata[2]}\\u003cbr\\u003eevent=%{customdata[3]}\\u003cextra\\u003e\\u003c\\u002fextra\\u003e\",\"legendgroup\":\"CLE\",\"marker\":{\"color\":\"#311D00\",\"symbol\":\"circle\"},\"mode\":\"markers\",\"name\":\"CLE\",\"orientation\":\"v\",\"showlegend\":true,\"x\":[60.1,62.23,60.04,50.21,56.48,59.72,56.84,56.98,57.03,57.12,56.74],\"xaxis\":\"x\",\"y\":[32.49,12.81,28.04,24.89,33.74,31.45,31.14,28.66,33.09,13.61,34.11],\"yaxis\":\"y\",\"type\":\"scatter\"},{\"customdata\":[[null,\"football\",7.32000017166138,null]],\"hovertemplate\":\"club=football\\u003cbr\\u003eframeId=29\\u003cbr\\u003ex=%{x}\\u003cbr\\u003ey=%{y}\\u003cbr\\u003ejerseyNumber=%{customdata[0]}\\u003cbr\\u003edisplayName=%{customdata[1]}\\u003cbr\\u003es=%{customdata[2]}\\u003cbr\\u003eevent=%{customdata[3]}\\u003cextra\\u003e\\u003c\\u002fextra\\u003e\",\"legendgroup\":\"football\",\"marker\":{\"color\":\"#CBB67C\",\"symbol\":\"circle\"},\"mode\":\"markers\",\"name\":\"football\",\"orientation\":\"v\",\"showlegend\":true,\"x\":[56.5699996948242],\"xaxis\":\"x\",\"y\":[31.25],\"yaxis\":\"y\",\"type\":\"scatter\"}],\"name\":\"29\"},{\"data\":[{\"customdata\":[[32.0,\"Devin McCourty\",4.09,null],[21.0,\"Adrian Phillips\",2.19,null],[91.0,\"Deatrich Wise\",3.31,null],[8.0,\"Ja'Whaun Bentley\",3.93,null],[95.0,\"Daniel Ekuale\",2.23,null],[48.0,\"Jahlani Tavai\",3.98,null],[23.0,\"Kyle Dugger\",1.51,null],[58.0,\"Anfernee Jennings\",4.59,null],[90.0,\"Christian Barmore\",3.73,null],[25.0,\"Marcus Jones\",3.29,null],[13.0,\"Jack Jones\",3.64,null]],\"hovertemplate\":\"club=NE\\u003cbr\\u003eframeId=30\\u003cbr\\u003ex=%{x}\\u003cbr\\u003ey=%{y}\\u003cbr\\u003ejerseyNumber=%{customdata[0]}\\u003cbr\\u003edisplayName=%{customdata[1]}\\u003cbr\\u003es=%{customdata[2]}\\u003cbr\\u003eevent=%{customdata[3]}\\u003cextra\\u003e\\u003c\\u002fextra\\u003e\",\"legendgroup\":\"NE\",\"marker\":{\"color\":\"#002244\",\"symbol\":\"circle\"},\"mode\":\"markers\",\"name\":\"NE\",\"orientation\":\"v\",\"showlegend\":true,\"x\":[71.55,64.96,57.6,60.94,57.48,60.02,58.32,56.39,60.27,64.23,70.84],\"xaxis\":\"x\",\"y\":[29.37,11.68,34.2,32.39,27.91,27.78,33.41,25.82,31.76,36.61,11.77],\"yaxis\":\"y\",\"type\":\"scatter\"},{\"customdata\":[[75.0,\"Joel Bitonio\",4.49,null],[2.0,\"Amari Cooper\",5.68,null],[78.0,\"Jack Conklin\",3.84,null],[7.0,\"Jacoby Brissett\",3.98,null],[85.0,\"David Njoku\",3.47,null],[55.0,\"Ethan Pocic\",3.78,null],[24.0,\"Nick Chubb\",6.0,null],[72.0,\"Hjalte Froholdt\",1.35,null],[71.0,\"Jedrick Wills\",2.46,null],[11.0,\"Donovan Peoples-Jones\",4.47,null],[18.0,\"David Bell\",2.81,null]],\"hovertemplate\":\"club=CLE\\u003cbr\\u003eframeId=30\\u003cbr\\u003ex=%{x}\\u003cbr\\u003ey=%{y}\\u003cbr\\u003ejerseyNumber=%{customdata[0]}\\u003cbr\\u003edisplayName=%{customdata[1]}\\u003cbr\\u003es=%{customdata[2]}\\u003cbr\\u003eevent=%{customdata[3]}\\u003cextra\\u003e\\u003c\\u002fextra\\u003e\",\"legendgroup\":\"CLE\",\"marker\":{\"color\":\"#311D00\",\"symbol\":\"circle\"},\"mode\":\"markers\",\"name\":\"CLE\",\"orientation\":\"v\",\"showlegend\":true,\"x\":[60.26,62.62,60.29,49.99,56.57,59.79,57.32,57.07,57.07,57.52,56.74],\"xaxis\":\"x\",\"y\":[32.93,13.24,28.35,24.56,34.08,31.83,31.52,28.78,33.34,13.41,34.4],\"yaxis\":\"y\",\"type\":\"scatter\"},{\"customdata\":[[null,\"football\",7.23000001907349,null]],\"hovertemplate\":\"club=football\\u003cbr\\u003eframeId=30\\u003cbr\\u003ex=%{x}\\u003cbr\\u003ey=%{y}\\u003cbr\\u003ejerseyNumber=%{customdata[0]}\\u003cbr\\u003edisplayName=%{customdata[1]}\\u003cbr\\u003es=%{customdata[2]}\\u003cbr\\u003eevent=%{customdata[3]}\\u003cextra\\u003e\\u003c\\u002fextra\\u003e\",\"legendgroup\":\"football\",\"marker\":{\"color\":\"#CBB67C\",\"symbol\":\"circle\"},\"mode\":\"markers\",\"name\":\"football\",\"orientation\":\"v\",\"showlegend\":true,\"x\":[57.1599998474121],\"xaxis\":\"x\",\"y\":[31.6700000762939],\"yaxis\":\"y\",\"type\":\"scatter\"}],\"name\":\"30\"},{\"data\":[{\"customdata\":[[32.0,\"Devin McCourty\",4.44,null],[21.0,\"Adrian Phillips\",2.47,null],[91.0,\"Deatrich Wise\",3.36,null],[8.0,\"Ja'Whaun Bentley\",3.75,null],[95.0,\"Daniel Ekuale\",2.47,null],[48.0,\"Jahlani Tavai\",4.05,null],[23.0,\"Kyle Dugger\",1.81,null],[58.0,\"Anfernee Jennings\",4.59,null],[90.0,\"Christian Barmore\",3.8,null],[25.0,\"Marcus Jones\",3.21,null],[13.0,\"Jack Jones\",3.77,null]],\"hovertemplate\":\"club=NE\\u003cbr\\u003eframeId=31\\u003cbr\\u003ex=%{x}\\u003cbr\\u003ey=%{y}\\u003cbr\\u003ejerseyNumber=%{customdata[0]}\\u003cbr\\u003edisplayName=%{customdata[1]}\\u003cbr\\u003es=%{customdata[2]}\\u003cbr\\u003eevent=%{customdata[3]}\\u003cextra\\u003e\\u003c\\u002fextra\\u003e\",\"legendgroup\":\"NE\",\"marker\":{\"color\":\"#002244\",\"symbol\":\"circle\"},\"mode\":\"markers\",\"name\":\"NE\",\"orientation\":\"v\",\"showlegend\":true,\"x\":[71.22,65.11,57.77,60.93,57.67,60.05,58.45,56.55,60.3,63.92,71.1],\"xaxis\":\"x\",\"y\":[29.64,11.86,34.51,32.78,28.07,28.2,33.29,26.26,32.16,36.53,12.04],\"yaxis\":\"y\",\"type\":\"scatter\"},{\"customdata\":[[75.0,\"Joel Bitonio\",4.28,null],[2.0,\"Amari Cooper\",5.79,null],[78.0,\"Jack Conklin\",3.68,null],[7.0,\"Jacoby Brissett\",3.97,null],[85.0,\"David Njoku\",3.34,null],[55.0,\"Ethan Pocic\",3.7,null],[24.0,\"Nick Chubb\",5.55,null],[72.0,\"Hjalte Froholdt\",1.53,null],[71.0,\"Jedrick Wills\",2.24,null],[11.0,\"Donovan Peoples-Jones\",4.32,null],[18.0,\"David Bell\",2.72,null]],\"hovertemplate\":\"club=CLE\\u003cbr\\u003eframeId=31\\u003cbr\\u003ex=%{x}\\u003cbr\\u003ey=%{y}\\u003cbr\\u003ejerseyNumber=%{customdata[0]}\\u003cbr\\u003edisplayName=%{customdata[1]}\\u003cbr\\u003es=%{customdata[2]}\\u003cbr\\u003eevent=%{customdata[3]}\\u003cextra\\u003e\\u003c\\u002fextra\\u003e\",\"legendgroup\":\"CLE\",\"marker\":{\"color\":\"#311D00\",\"symbol\":\"circle\"},\"mode\":\"markers\",\"name\":\"CLE\",\"orientation\":\"v\",\"showlegend\":true,\"x\":[60.41,63.01,60.52,49.81,56.67,59.85,57.79,57.2,57.11,57.94,56.85],\"xaxis\":\"x\",\"y\":[33.34,13.67,28.67,24.2,34.4,32.21,31.83,28.89,33.56,13.27,34.65],\"yaxis\":\"y\",\"type\":\"scatter\"},{\"customdata\":[[null,\"football\",6.42000007629395,null]],\"hovertemplate\":\"club=football\\u003cbr\\u003eframeId=31\\u003cbr\\u003ex=%{x}\\u003cbr\\u003ey=%{y}\\u003cbr\\u003ejerseyNumber=%{customdata[0]}\\u003cbr\\u003edisplayName=%{customdata[1]}\\u003cbr\\u003es=%{customdata[2]}\\u003cbr\\u003eevent=%{customdata[3]}\\u003cextra\\u003e\\u003c\\u002fextra\\u003e\",\"legendgroup\":\"football\",\"marker\":{\"color\":\"#CBB67C\",\"symbol\":\"circle\"},\"mode\":\"markers\",\"name\":\"football\",\"orientation\":\"v\",\"showlegend\":true,\"x\":[57.6699981689453],\"xaxis\":\"x\",\"y\":[32.0],\"yaxis\":\"y\",\"type\":\"scatter\"}],\"name\":\"31\"},{\"data\":[{\"customdata\":[[32.0,\"Devin McCourty\",4.73,\"first_contact\"],[21.0,\"Adrian Phillips\",2.85,\"first_contact\"],[91.0,\"Deatrich Wise\",3.29,\"first_contact\"],[8.0,\"Ja'Whaun Bentley\",3.35,\"first_contact\"],[95.0,\"Daniel Ekuale\",2.88,\"first_contact\"],[48.0,\"Jahlani Tavai\",4.02,\"first_contact\"],[23.0,\"Kyle Dugger\",2.07,\"first_contact\"],[58.0,\"Anfernee Jennings\",4.52,\"first_contact\"],[90.0,\"Christian Barmore\",3.74,\"first_contact\"],[25.0,\"Marcus Jones\",3.17,\"first_contact\"],[13.0,\"Jack Jones\",4.02,\"first_contact\"]],\"hovertemplate\":\"club=NE\\u003cbr\\u003eframeId=32\\u003cbr\\u003ex=%{x}\\u003cbr\\u003ey=%{y}\\u003cbr\\u003ejerseyNumber=%{customdata[0]}\\u003cbr\\u003edisplayName=%{customdata[1]}\\u003cbr\\u003es=%{customdata[2]}\\u003cbr\\u003eevent=%{customdata[3]}\\u003cextra\\u003e\\u003c\\u002fextra\\u003e\",\"legendgroup\":\"NE\",\"marker\":{\"color\":\"#002244\",\"symbol\":\"circle\"},\"mode\":\"markers\",\"name\":\"NE\",\"orientation\":\"v\",\"showlegend\":true,\"x\":[70.85,65.24,57.94,60.94,57.92,60.09,58.59,56.75,60.32,63.62,71.37],\"xaxis\":\"x\",\"y\":[29.91,12.1,34.81,33.11,28.24,28.61,33.16,26.66,32.55,36.42,12.34],\"yaxis\":\"y\",\"type\":\"scatter\"},{\"customdata\":[[75.0,\"Joel Bitonio\",3.95,\"first_contact\"],[2.0,\"Amari Cooper\",5.86,\"first_contact\"],[78.0,\"Jack Conklin\",3.51,\"first_contact\"],[7.0,\"Jacoby Brissett\",4.01,\"first_contact\"],[85.0,\"David Njoku\",3.24,\"first_contact\"],[55.0,\"Ethan Pocic\",3.88,\"first_contact\"],[24.0,\"Nick Chubb\",5.04,\"first_contact\"],[72.0,\"Hjalte Froholdt\",1.72,\"first_contact\"],[71.0,\"Jedrick Wills\",2.08,\"first_contact\"],[11.0,\"Donovan Peoples-Jones\",4.21,\"first_contact\"],[18.0,\"David Bell\",2.78,\"first_contact\"]],\"hovertemplate\":\"club=CLE\\u003cbr\\u003eframeId=32\\u003cbr\\u003ex=%{x}\\u003cbr\\u003ey=%{y}\\u003cbr\\u003ejerseyNumber=%{customdata[0]}\\u003cbr\\u003edisplayName=%{customdata[1]}\\u003cbr\\u003es=%{customdata[2]}\\u003cbr\\u003eevent=%{customdata[3]}\\u003cextra\\u003e\\u003c\\u002fextra\\u003e\",\"legendgroup\":\"CLE\",\"marker\":{\"color\":\"#311D00\",\"symbol\":\"circle\"},\"mode\":\"markers\",\"name\":\"CLE\",\"orientation\":\"v\",\"showlegend\":true,\"x\":[60.54,63.4,60.72,49.68,56.79,59.86,58.25,57.35,57.15,58.35,56.95],\"xaxis\":\"x\",\"y\":[33.71,14.11,28.97,23.82,34.7,32.63,32.07,28.99,33.78,13.18,34.91],\"yaxis\":\"y\",\"type\":\"scatter\"},{\"customdata\":[[null,\"football\",5.73000001907349,\"first_contact\"]],\"hovertemplate\":\"club=football\\u003cbr\\u003eframeId=32\\u003cbr\\u003ex=%{x}\\u003cbr\\u003ey=%{y}\\u003cbr\\u003ejerseyNumber=%{customdata[0]}\\u003cbr\\u003edisplayName=%{customdata[1]}\\u003cbr\\u003es=%{customdata[2]}\\u003cbr\\u003eevent=%{customdata[3]}\\u003cextra\\u003e\\u003c\\u002fextra\\u003e\",\"legendgroup\":\"football\",\"marker\":{\"color\":\"#CBB67C\",\"symbol\":\"circle\"},\"mode\":\"markers\",\"name\":\"football\",\"orientation\":\"v\",\"showlegend\":true,\"x\":[58.1800003051758],\"xaxis\":\"x\",\"y\":[32.2900009155273],\"yaxis\":\"y\",\"type\":\"scatter\"}],\"name\":\"32\"},{\"data\":[{\"customdata\":[[32.0,\"Devin McCourty\",4.95,null],[21.0,\"Adrian Phillips\",3.18,null],[91.0,\"Deatrich Wise\",3.22,null],[8.0,\"Ja'Whaun Bentley\",2.87,null],[95.0,\"Daniel Ekuale\",3.22,null],[48.0,\"Jahlani Tavai\",4.02,null],[23.0,\"Kyle Dugger\",2.28,null],[58.0,\"Anfernee Jennings\",4.46,null],[90.0,\"Christian Barmore\",3.67,null],[25.0,\"Marcus Jones\",3.13,null],[13.0,\"Jack Jones\",4.21,null]],\"hovertemplate\":\"club=NE\\u003cbr\\u003eframeId=33\\u003cbr\\u003ex=%{x}\\u003cbr\\u003ey=%{y}\\u003cbr\\u003ejerseyNumber=%{customdata[0]}\\u003cbr\\u003edisplayName=%{customdata[1]}\\u003cbr\\u003es=%{customdata[2]}\\u003cbr\\u003eevent=%{customdata[3]}\\u003cextra\\u003e\\u003c\\u002fextra\\u003e\",\"legendgroup\":\"NE\",\"marker\":{\"color\":\"#002244\",\"symbol\":\"circle\"},\"mode\":\"markers\",\"name\":\"NE\",\"orientation\":\"v\",\"showlegend\":true,\"x\":[70.44,65.37,58.14,60.94,58.21,60.18,58.73,56.96,60.32,63.35,71.62],\"xaxis\":\"x\",\"y\":[30.17,12.38,35.07,33.39,28.42,29.01,33.0,27.06,32.93,36.27,12.68],\"yaxis\":\"y\",\"type\":\"scatter\"},{\"customdata\":[[75.0,\"Joel Bitonio\",3.53,null],[2.0,\"Amari Cooper\",5.91,null],[78.0,\"Jack Conklin\",3.32,null],[7.0,\"Jacoby Brissett\",4.04,null],[85.0,\"David Njoku\",3.1,null],[55.0,\"Ethan Pocic\",3.8,null],[24.0,\"Nick Chubb\",4.59,null],[72.0,\"Hjalte Froholdt\",2.13,null],[71.0,\"Jedrick Wills\",1.87,null],[11.0,\"Donovan Peoples-Jones\",4.18,null],[18.0,\"David Bell\",2.84,null]],\"hovertemplate\":\"club=CLE\\u003cbr\\u003eframeId=33\\u003cbr\\u003ex=%{x}\\u003cbr\\u003ey=%{y}\\u003cbr\\u003ejerseyNumber=%{customdata[0]}\\u003cbr\\u003edisplayName=%{customdata[1]}\\u003cbr\\u003es=%{customdata[2]}\\u003cbr\\u003eevent=%{customdata[3]}\\u003cextra\\u003e\\u003c\\u002fextra\\u003e\",\"legendgroup\":\"CLE\",\"marker\":{\"color\":\"#311D00\",\"symbol\":\"circle\"},\"mode\":\"markers\",\"name\":\"CLE\",\"orientation\":\"v\",\"showlegend\":true,\"x\":[60.67,63.8,60.91,49.6,56.92,59.87,58.69,57.57,57.2,58.77,57.07],\"xaxis\":\"x\",\"y\":[34.04,14.55,29.26,23.43,34.99,33.02,32.25,29.09,33.97,13.12,35.15],\"yaxis\":\"y\",\"type\":\"scatter\"},{\"customdata\":[[null,\"football\",4.98000001907349,null]],\"hovertemplate\":\"club=football\\u003cbr\\u003eframeId=33\\u003cbr\\u003ex=%{x}\\u003cbr\\u003ey=%{y}\\u003cbr\\u003ejerseyNumber=%{customdata[0]}\\u003cbr\\u003edisplayName=%{customdata[1]}\\u003cbr\\u003es=%{customdata[2]}\\u003cbr\\u003eevent=%{customdata[3]}\\u003cextra\\u003e\\u003c\\u002fextra\\u003e\",\"legendgroup\":\"football\",\"marker\":{\"color\":\"#CBB67C\",\"symbol\":\"circle\"},\"mode\":\"markers\",\"name\":\"football\",\"orientation\":\"v\",\"showlegend\":true,\"x\":[58.6500015258789],\"xaxis\":\"x\",\"y\":[32.5299987792969],\"yaxis\":\"y\",\"type\":\"scatter\"}],\"name\":\"33\"},{\"data\":[{\"customdata\":[[32.0,\"Devin McCourty\",5.08,null],[21.0,\"Adrian Phillips\",3.45,null],[91.0,\"Deatrich Wise\",3.06,null],[8.0,\"Ja'Whaun Bentley\",2.57,null],[95.0,\"Daniel Ekuale\",3.46,null],[48.0,\"Jahlani Tavai\",3.96,null],[23.0,\"Kyle Dugger\",2.57,null],[58.0,\"Anfernee Jennings\",4.41,null],[90.0,\"Christian Barmore\",3.52,null],[25.0,\"Marcus Jones\",3.05,null],[13.0,\"Jack Jones\",4.43,null]],\"hovertemplate\":\"club=NE\\u003cbr\\u003eframeId=34\\u003cbr\\u003ex=%{x}\\u003cbr\\u003ey=%{y}\\u003cbr\\u003ejerseyNumber=%{customdata[0]}\\u003cbr\\u003edisplayName=%{customdata[1]}\\u003cbr\\u003es=%{customdata[2]}\\u003cbr\\u003eevent=%{customdata[3]}\\u003cextra\\u003e\\u003c\\u002fextra\\u003e\",\"legendgroup\":\"NE\",\"marker\":{\"color\":\"#002244\",\"symbol\":\"circle\"},\"mode\":\"markers\",\"name\":\"NE\",\"orientation\":\"v\",\"showlegend\":true,\"x\":[70.0,65.48,58.34,60.97,58.53,60.25,58.91,57.2,60.31,63.1,71.86],\"xaxis\":\"x\",\"y\":[30.42,12.7,35.31,33.66,28.58,29.4,32.81,27.44,33.29,36.09,13.04],\"yaxis\":\"y\",\"type\":\"scatter\"},{\"customdata\":[[75.0,\"Joel Bitonio\",3.15,null],[2.0,\"Amari Cooper\",5.98,null],[78.0,\"Jack Conklin\",3.19,null],[7.0,\"Jacoby Brissett\",4.07,null],[85.0,\"David Njoku\",2.94,null],[55.0,\"Ethan Pocic\",3.76,null],[24.0,\"Nick Chubb\",4.05,null],[72.0,\"Hjalte Froholdt\",2.46,null],[71.0,\"Jedrick Wills\",1.66,null],[11.0,\"Donovan Peoples-Jones\",4.11,null],[18.0,\"David Bell\",2.96,null]],\"hovertemplate\":\"club=CLE\\u003cbr\\u003eframeId=34\\u003cbr\\u003ex=%{x}\\u003cbr\\u003ey=%{y}\\u003cbr\\u003ejerseyNumber=%{customdata[0]}\\u003cbr\\u003edisplayName=%{customdata[1]}\\u003cbr\\u003es=%{customdata[2]}\\u003cbr\\u003eevent=%{customdata[3]}\\u003cextra\\u003e\\u003c\\u002fextra\\u003e\",\"legendgroup\":\"CLE\",\"marker\":{\"color\":\"#311D00\",\"symbol\":\"circle\"},\"mode\":\"markers\",\"name\":\"CLE\",\"orientation\":\"v\",\"showlegend\":true,\"x\":[60.8,64.2,61.05,49.58,57.06,59.85,59.08,57.8,57.24,59.19,57.23],\"xaxis\":\"x\",\"y\":[34.35,15.0,29.56,23.02,35.25,33.4,32.35,29.19,34.14,13.12,35.39],\"yaxis\":\"y\",\"type\":\"scatter\"},{\"customdata\":[[null,\"football\",4.34000015258789,null]],\"hovertemplate\":\"club=football\\u003cbr\\u003eframeId=34\\u003cbr\\u003ex=%{x}\\u003cbr\\u003ey=%{y}\\u003cbr\\u003ejerseyNumber=%{customdata[0]}\\u003cbr\\u003edisplayName=%{customdata[1]}\\u003cbr\\u003es=%{customdata[2]}\\u003cbr\\u003eevent=%{customdata[3]}\\u003cextra\\u003e\\u003c\\u002fextra\\u003e\",\"legendgroup\":\"football\",\"marker\":{\"color\":\"#CBB67C\",\"symbol\":\"circle\"},\"mode\":\"markers\",\"name\":\"football\",\"orientation\":\"v\",\"showlegend\":true,\"x\":[59.0699996948242],\"xaxis\":\"x\",\"y\":[32.7299995422363],\"yaxis\":\"y\",\"type\":\"scatter\"}],\"name\":\"34\"},{\"data\":[{\"customdata\":[[32.0,\"Devin McCourty\",5.13,null],[21.0,\"Adrian Phillips\",3.73,null],[91.0,\"Deatrich Wise\",2.85,null],[8.0,\"Ja'Whaun Bentley\",2.16,null],[95.0,\"Daniel Ekuale\",3.7,null],[48.0,\"Jahlani Tavai\",3.9,null],[23.0,\"Kyle Dugger\",2.78,null],[58.0,\"Anfernee Jennings\",4.39,null],[90.0,\"Christian Barmore\",3.34,null],[25.0,\"Marcus Jones\",3.01,null],[13.0,\"Jack Jones\",4.57,null]],\"hovertemplate\":\"club=NE\\u003cbr\\u003eframeId=35\\u003cbr\\u003ex=%{x}\\u003cbr\\u003ey=%{y}\\u003cbr\\u003ejerseyNumber=%{customdata[0]}\\u003cbr\\u003edisplayName=%{customdata[1]}\\u003cbr\\u003es=%{customdata[2]}\\u003cbr\\u003eevent=%{customdata[3]}\\u003cextra\\u003e\\u003c\\u002fextra\\u003e\",\"legendgroup\":\"NE\",\"marker\":{\"color\":\"#002244\",\"symbol\":\"circle\"},\"mode\":\"markers\",\"name\":\"NE\",\"orientation\":\"v\",\"showlegend\":true,\"x\":[69.55,65.58,58.54,61.02,58.88,60.34,59.09,57.47,60.29,62.9,72.1],\"xaxis\":\"x\",\"y\":[30.65,13.05,35.51,33.87,28.75,29.79,32.61,27.79,33.64,35.87,13.43],\"yaxis\":\"y\",\"type\":\"scatter\"},{\"customdata\":[[75.0,\"Joel Bitonio\",2.52,null],[2.0,\"Amari Cooper\",5.92,null],[78.0,\"Jack Conklin\",3.15,null],[7.0,\"Jacoby Brissett\",4.07,null],[85.0,\"David Njoku\",2.63,null],[55.0,\"Ethan Pocic\",3.68,null],[24.0,\"Nick Chubb\",3.73,null],[72.0,\"Hjalte Froholdt\",2.77,null],[71.0,\"Jedrick Wills\",1.47,null],[11.0,\"Donovan Peoples-Jones\",4.01,null],[18.0,\"David Bell\",2.89,null]],\"hovertemplate\":\"club=CLE\\u003cbr\\u003eframeId=35\\u003cbr\\u003ex=%{x}\\u003cbr\\u003ey=%{y}\\u003cbr\\u003ejerseyNumber=%{customdata[0]}\\u003cbr\\u003edisplayName=%{customdata[1]}\\u003cbr\\u003es=%{customdata[2]}\\u003cbr\\u003eevent=%{customdata[3]}\\u003cextra\\u003e\\u003c\\u002fextra\\u003e\",\"legendgroup\":\"CLE\",\"marker\":{\"color\":\"#311D00\",\"symbol\":\"circle\"},\"mode\":\"markers\",\"name\":\"CLE\",\"orientation\":\"v\",\"showlegend\":true,\"x\":[60.9,64.59,61.17,49.61,57.19,59.82,59.47,58.06,57.29,59.59,57.43],\"xaxis\":\"x\",\"y\":[34.56,15.45,29.87,22.62,35.47,33.78,32.43,29.3,34.29,13.17,35.62],\"yaxis\":\"y\",\"type\":\"scatter\"},{\"customdata\":[[null,\"football\",3.60999989509583,null]],\"hovertemplate\":\"club=football\\u003cbr\\u003eframeId=35\\u003cbr\\u003ex=%{x}\\u003cbr\\u003ey=%{y}\\u003cbr\\u003ejerseyNumber=%{customdata[0]}\\u003cbr\\u003edisplayName=%{customdata[1]}\\u003cbr\\u003es=%{customdata[2]}\\u003cbr\\u003eevent=%{customdata[3]}\\u003cextra\\u003e\\u003c\\u002fextra\\u003e\",\"legendgroup\":\"football\",\"marker\":{\"color\":\"#CBB67C\",\"symbol\":\"circle\"},\"mode\":\"markers\",\"name\":\"football\",\"orientation\":\"v\",\"showlegend\":true,\"x\":[59.4099998474121],\"xaxis\":\"x\",\"y\":[32.9099998474121],\"yaxis\":\"y\",\"type\":\"scatter\"}],\"name\":\"35\"},{\"data\":[{\"customdata\":[[32.0,\"Devin McCourty\",5.14,null],[21.0,\"Adrian Phillips\",4.0,null],[91.0,\"Deatrich Wise\",2.67,null],[8.0,\"Ja'Whaun Bentley\",1.78,null],[95.0,\"Daniel Ekuale\",4.0,null],[48.0,\"Jahlani Tavai\",3.84,null],[23.0,\"Kyle Dugger\",2.81,null],[58.0,\"Anfernee Jennings\",4.36,null],[90.0,\"Christian Barmore\",3.13,null],[25.0,\"Marcus Jones\",3.03,null],[13.0,\"Jack Jones\",4.68,null]],\"hovertemplate\":\"club=NE\\u003cbr\\u003eframeId=36\\u003cbr\\u003ex=%{x}\\u003cbr\\u003ey=%{y}\\u003cbr\\u003ejerseyNumber=%{customdata[0]}\\u003cbr\\u003edisplayName=%{customdata[1]}\\u003cbr\\u003es=%{customdata[2]}\\u003cbr\\u003eevent=%{customdata[3]}\\u003cextra\\u003e\\u003c\\u002fextra\\u003e\",\"legendgroup\":\"NE\",\"marker\":{\"color\":\"#002244\",\"symbol\":\"circle\"},\"mode\":\"markers\",\"name\":\"NE\",\"orientation\":\"v\",\"showlegend\":true,\"x\":[69.08,65.64,58.74,61.08,59.27,60.42,59.27,57.76,60.25,62.73,72.31],\"xaxis\":\"x\",\"y\":[30.86,13.45,35.7,34.06,28.96,30.17,32.41,28.12,33.96,35.62,13.84],\"yaxis\":\"y\",\"type\":\"scatter\"},{\"customdata\":[[75.0,\"Joel Bitonio\",2.06,null],[2.0,\"Amari Cooper\",5.91,null],[78.0,\"Jack Conklin\",3.08,null],[7.0,\"Jacoby Brissett\",4.09,null],[85.0,\"David Njoku\",2.38,null],[55.0,\"Ethan Pocic\",3.52,null],[24.0,\"Nick Chubb\",3.32,null],[72.0,\"Hjalte Froholdt\",3.01,null],[71.0,\"Jedrick Wills\",1.29,null],[11.0,\"Donovan Peoples-Jones\",3.94,null],[18.0,\"David Bell\",2.78,null]],\"hovertemplate\":\"club=CLE\\u003cbr\\u003eframeId=36\\u003cbr\\u003ex=%{x}\\u003cbr\\u003ey=%{y}\\u003cbr\\u003ejerseyNumber=%{customdata[0]}\\u003cbr\\u003edisplayName=%{customdata[1]}\\u003cbr\\u003es=%{customdata[2]}\\u003cbr\\u003eevent=%{customdata[3]}\\u003cextra\\u003e\\u003c\\u002fextra\\u003e\",\"legendgroup\":\"CLE\",\"marker\":{\"color\":\"#311D00\",\"symbol\":\"circle\"},\"mode\":\"markers\",\"name\":\"CLE\",\"orientation\":\"v\",\"showlegend\":true,\"x\":[61.0,64.97,61.27,49.67,57.32,59.77,59.81,58.34,57.33,59.97,57.65],\"xaxis\":\"x\",\"y\":[34.76,15.9,30.17,22.21,35.68,34.14,32.49,29.42,34.42,13.25,35.81],\"yaxis\":\"y\",\"type\":\"scatter\"},{\"customdata\":[[null,\"football\",2.98000001907349,null]],\"hovertemplate\":\"club=football\\u003cbr\\u003eframeId=36\\u003cbr\\u003ex=%{x}\\u003cbr\\u003ey=%{y}\\u003cbr\\u003ejerseyNumber=%{customdata[0]}\\u003cbr\\u003edisplayName=%{customdata[1]}\\u003cbr\\u003es=%{customdata[2]}\\u003cbr\\u003eevent=%{customdata[3]}\\u003cextra\\u003e\\u003c\\u002fextra\\u003e\",\"legendgroup\":\"football\",\"marker\":{\"color\":\"#CBB67C\",\"symbol\":\"circle\"},\"mode\":\"markers\",\"name\":\"football\",\"orientation\":\"v\",\"showlegend\":true,\"x\":[59.7099990844727],\"xaxis\":\"x\",\"y\":[33.0400009155273],\"yaxis\":\"y\",\"type\":\"scatter\"}],\"name\":\"36\"},{\"data\":[{\"customdata\":[[32.0,\"Devin McCourty\",5.09,null],[21.0,\"Adrian Phillips\",4.28,null],[91.0,\"Deatrich Wise\",2.45,null],[8.0,\"Ja'Whaun Bentley\",1.37,null],[95.0,\"Daniel Ekuale\",4.17,null],[48.0,\"Jahlani Tavai\",3.83,null],[23.0,\"Kyle Dugger\",2.68,null],[58.0,\"Anfernee Jennings\",4.29,null],[90.0,\"Christian Barmore\",2.88,null],[25.0,\"Marcus Jones\",3.07,null],[13.0,\"Jack Jones\",4.75,null]],\"hovertemplate\":\"club=NE\\u003cbr\\u003eframeId=37\\u003cbr\\u003ex=%{x}\\u003cbr\\u003ey=%{y}\\u003cbr\\u003ejerseyNumber=%{customdata[0]}\\u003cbr\\u003edisplayName=%{customdata[1]}\\u003cbr\\u003es=%{customdata[2]}\\u003cbr\\u003eevent=%{customdata[3]}\\u003cextra\\u003e\\u003c\\u002fextra\\u003e\",\"legendgroup\":\"NE\",\"marker\":{\"color\":\"#002244\",\"symbol\":\"circle\"},\"mode\":\"markers\",\"name\":\"NE\",\"orientation\":\"v\",\"showlegend\":true,\"x\":[68.61,65.69,58.93,61.15,59.65,60.53,59.44,58.06,60.2,62.61,72.51],\"xaxis\":\"x\",\"y\":[31.06,13.87,35.87,34.19,29.17,30.55,32.21,28.43,34.25,35.34,14.27],\"yaxis\":\"y\",\"type\":\"scatter\"},{\"customdata\":[[75.0,\"Joel Bitonio\",1.58,null],[2.0,\"Amari Cooper\",5.87,null],[78.0,\"Jack Conklin\",2.99,null],[7.0,\"Jacoby Brissett\",4.07,null],[85.0,\"David Njoku\",2.1,null],[55.0,\"Ethan Pocic\",3.31,null],[24.0,\"Nick Chubb\",2.96,null],[72.0,\"Hjalte Froholdt\",3.43,null],[71.0,\"Jedrick Wills\",1.08,null],[11.0,\"Donovan Peoples-Jones\",3.88,null],[18.0,\"David Bell\",2.66,null]],\"hovertemplate\":\"club=CLE\\u003cbr\\u003eframeId=37\\u003cbr\\u003ex=%{x}\\u003cbr\\u003ey=%{y}\\u003cbr\\u003ejerseyNumber=%{customdata[0]}\\u003cbr\\u003edisplayName=%{customdata[1]}\\u003cbr\\u003es=%{customdata[2]}\\u003cbr\\u003eevent=%{customdata[3]}\\u003cextra\\u003e\\u003c\\u002fextra\\u003e\",\"legendgroup\":\"CLE\",\"marker\":{\"color\":\"#311D00\",\"symbol\":\"circle\"},\"mode\":\"markers\",\"name\":\"CLE\",\"orientation\":\"v\",\"showlegend\":true,\"x\":[61.1,65.35,61.37,49.78,57.45,59.72,60.12,58.65,57.37,60.35,57.87],\"xaxis\":\"x\",\"y\":[34.89,16.36,30.46,21.82,35.86,34.47,32.52,29.58,34.53,13.37,35.97],\"yaxis\":\"y\",\"type\":\"scatter\"},{\"customdata\":[[null,\"football\",2.3199999332428,null]],\"hovertemplate\":\"club=football\\u003cbr\\u003eframeId=37\\u003cbr\\u003ex=%{x}\\u003cbr\\u003ey=%{y}\\u003cbr\\u003ejerseyNumber=%{customdata[0]}\\u003cbr\\u003edisplayName=%{customdata[1]}\\u003cbr\\u003es=%{customdata[2]}\\u003cbr\\u003eevent=%{customdata[3]}\\u003cextra\\u003e\\u003c\\u002fextra\\u003e\",\"legendgroup\":\"football\",\"marker\":{\"color\":\"#CBB67C\",\"symbol\":\"circle\"},\"mode\":\"markers\",\"name\":\"football\",\"orientation\":\"v\",\"showlegend\":true,\"x\":[59.9199981689453],\"xaxis\":\"x\",\"y\":[33.1599998474121],\"yaxis\":\"y\",\"type\":\"scatter\"}],\"name\":\"37\"},{\"data\":[{\"customdata\":[[32.0,\"Devin McCourty\",4.99,null],[21.0,\"Adrian Phillips\",4.52,null],[91.0,\"Deatrich Wise\",2.23,null],[8.0,\"Ja'Whaun Bentley\",1.3,null],[95.0,\"Daniel Ekuale\",4.2,null],[48.0,\"Jahlani Tavai\",3.85,null],[23.0,\"Kyle Dugger\",2.56,null],[58.0,\"Anfernee Jennings\",4.23,null],[90.0,\"Christian Barmore\",2.61,null],[25.0,\"Marcus Jones\",3.14,null],[13.0,\"Jack Jones\",4.78,null]],\"hovertemplate\":\"club=NE\\u003cbr\\u003eframeId=38\\u003cbr\\u003ex=%{x}\\u003cbr\\u003ey=%{y}\\u003cbr\\u003ejerseyNumber=%{customdata[0]}\\u003cbr\\u003edisplayName=%{customdata[1]}\\u003cbr\\u003es=%{customdata[2]}\\u003cbr\\u003eevent=%{customdata[3]}\\u003cextra\\u003e\\u003c\\u002fextra\\u003e\",\"legendgroup\":\"NE\",\"marker\":{\"color\":\"#002244\",\"symbol\":\"circle\"},\"mode\":\"markers\",\"name\":\"NE\",\"orientation\":\"v\",\"showlegend\":true,\"x\":[68.14,65.72,59.1,61.24,60.03,60.66,59.6,58.38,60.15,62.52,72.7],\"xaxis\":\"x\",\"y\":[31.24,14.32,36.03,34.29,29.38,30.92,32.02,28.72,34.51,35.04,14.71],\"yaxis\":\"y\",\"type\":\"scatter\"},{\"customdata\":[[75.0,\"Joel Bitonio\",1.0,null],[2.0,\"Amari Cooper\",5.82,null],[78.0,\"Jack Conklin\",2.88,null],[7.0,\"Jacoby Brissett\",3.98,null],[85.0,\"David Njoku\",1.79,null],[55.0,\"Ethan Pocic\",3.0,null],[24.0,\"Nick Chubb\",2.66,null],[72.0,\"Hjalte Froholdt\",3.83,null],[71.0,\"Jedrick Wills\",0.84,null],[11.0,\"Donovan Peoples-Jones\",3.85,null],[18.0,\"David Bell\",2.49,null]],\"hovertemplate\":\"club=CLE\\u003cbr\\u003eframeId=38\\u003cbr\\u003ex=%{x}\\u003cbr\\u003ey=%{y}\\u003cbr\\u003ejerseyNumber=%{customdata[0]}\\u003cbr\\u003edisplayName=%{customdata[1]}\\u003cbr\\u003es=%{customdata[2]}\\u003cbr\\u003eevent=%{customdata[3]}\\u003cextra\\u003e\\u003c\\u002fextra\\u003e\",\"legendgroup\":\"CLE\",\"marker\":{\"color\":\"#311D00\",\"symbol\":\"circle\"},\"mode\":\"markers\",\"name\":\"CLE\",\"orientation\":\"v\",\"showlegend\":true,\"x\":[61.16,65.73,61.46,49.91,57.57,59.67,60.4,58.99,57.4,60.71,58.08],\"xaxis\":\"x\",\"y\":[34.96,16.8,30.75,21.45,36.01,34.77,32.52,29.76,34.61,13.51,36.12],\"yaxis\":\"y\",\"type\":\"scatter\"},{\"customdata\":[[null,\"football\",1.8400000333786,null]],\"hovertemplate\":\"club=football\\u003cbr\\u003eframeId=38\\u003cbr\\u003ex=%{x}\\u003cbr\\u003ey=%{y}\\u003cbr\\u003ejerseyNumber=%{customdata[0]}\\u003cbr\\u003edisplayName=%{customdata[1]}\\u003cbr\\u003es=%{customdata[2]}\\u003cbr\\u003eevent=%{customdata[3]}\\u003cextra\\u003e\\u003c\\u002fextra\\u003e\",\"legendgroup\":\"football\",\"marker\":{\"color\":\"#CBB67C\",\"symbol\":\"circle\"},\"mode\":\"markers\",\"name\":\"football\",\"orientation\":\"v\",\"showlegend\":true,\"x\":[60.0900001525879],\"xaxis\":\"x\",\"y\":[33.2599983215332],\"yaxis\":\"y\",\"type\":\"scatter\"}],\"name\":\"38\"},{\"data\":[{\"customdata\":[[32.0,\"Devin McCourty\",4.76,null],[21.0,\"Adrian Phillips\",4.65,null],[91.0,\"Deatrich Wise\",2.12,null],[8.0,\"Ja'Whaun Bentley\",1.27,null],[95.0,\"Daniel Ekuale\",4.15,null],[48.0,\"Jahlani Tavai\",3.71,null],[23.0,\"Kyle Dugger\",2.46,null],[58.0,\"Anfernee Jennings\",4.07,null],[90.0,\"Christian Barmore\",2.37,null],[25.0,\"Marcus Jones\",3.09,null],[13.0,\"Jack Jones\",4.76,null]],\"hovertemplate\":\"club=NE\\u003cbr\\u003eframeId=39\\u003cbr\\u003ex=%{x}\\u003cbr\\u003ey=%{y}\\u003cbr\\u003ejerseyNumber=%{customdata[0]}\\u003cbr\\u003edisplayName=%{customdata[1]}\\u003cbr\\u003es=%{customdata[2]}\\u003cbr\\u003eevent=%{customdata[3]}\\u003cextra\\u003e\\u003c\\u002fextra\\u003e\",\"legendgroup\":\"NE\",\"marker\":{\"color\":\"#002244\",\"symbol\":\"circle\"},\"mode\":\"markers\",\"name\":\"NE\",\"orientation\":\"v\",\"showlegend\":true,\"x\":[67.69,65.75,59.28,61.35,60.39,60.77,59.78,58.7,60.1,62.48,72.87],\"xaxis\":\"x\",\"y\":[31.39,14.78,36.18,34.37,29.63,31.33,31.85,28.97,34.75,34.75,15.15],\"yaxis\":\"y\",\"type\":\"scatter\"},{\"customdata\":[[75.0,\"Joel Bitonio\",0.58,null],[2.0,\"Amari Cooper\",5.72,null],[78.0,\"Jack Conklin\",2.75,null],[7.0,\"Jacoby Brissett\",3.83,null],[85.0,\"David Njoku\",1.51,null],[55.0,\"Ethan Pocic\",2.75,null],[24.0,\"Nick Chubb\",2.34,null],[72.0,\"Hjalte Froholdt\",4.15,null],[71.0,\"Jedrick Wills\",0.61,null],[11.0,\"Donovan Peoples-Jones\",3.84,null],[18.0,\"David Bell\",2.33,null]],\"hovertemplate\":\"club=CLE\\u003cbr\\u003eframeId=39\\u003cbr\\u003ex=%{x}\\u003cbr\\u003ey=%{y}\\u003cbr\\u003ejerseyNumber=%{customdata[0]}\\u003cbr\\u003edisplayName=%{customdata[1]}\\u003cbr\\u003es=%{customdata[2]}\\u003cbr\\u003eevent=%{customdata[3]}\\u003cextra\\u003e\\u003c\\u002fextra\\u003e\",\"legendgroup\":\"CLE\",\"marker\":{\"color\":\"#311D00\",\"symbol\":\"circle\"},\"mode\":\"markers\",\"name\":\"CLE\",\"orientation\":\"v\",\"showlegend\":true,\"x\":[61.21,66.1,61.55,50.07,57.68,59.61,60.65,59.35,57.41,61.05,58.29],\"xaxis\":\"x\",\"y\":[35.0,17.25,31.01,21.1,36.13,35.05,32.51,29.98,34.67,13.69,36.25],\"yaxis\":\"y\",\"type\":\"scatter\"},{\"customdata\":[[null,\"football\",1.44000005722046,null]],\"hovertemplate\":\"club=football\\u003cbr\\u003eframeId=39\\u003cbr\\u003ex=%{x}\\u003cbr\\u003ey=%{y}\\u003cbr\\u003ejerseyNumber=%{customdata[0]}\\u003cbr\\u003edisplayName=%{customdata[1]}\\u003cbr\\u003es=%{customdata[2]}\\u003cbr\\u003eevent=%{customdata[3]}\\u003cextra\\u003e\\u003c\\u002fextra\\u003e\",\"legendgroup\":\"football\",\"marker\":{\"color\":\"#CBB67C\",\"symbol\":\"circle\"},\"mode\":\"markers\",\"name\":\"football\",\"orientation\":\"v\",\"showlegend\":true,\"x\":[60.2400016784668],\"xaxis\":\"x\",\"y\":[33.3400001525879],\"yaxis\":\"y\",\"type\":\"scatter\"}],\"name\":\"39\"},{\"data\":[{\"customdata\":[[32.0,\"Devin McCourty\",4.49,null],[21.0,\"Adrian Phillips\",4.77,null],[91.0,\"Deatrich Wise\",2.0,null],[8.0,\"Ja'Whaun Bentley\",1.09,null],[95.0,\"Daniel Ekuale\",4.14,null],[48.0,\"Jahlani Tavai\",3.57,null],[23.0,\"Kyle Dugger\",2.35,null],[58.0,\"Anfernee Jennings\",3.87,null],[90.0,\"Christian Barmore\",2.14,null],[25.0,\"Marcus Jones\",3.03,null],[13.0,\"Jack Jones\",4.68,null]],\"hovertemplate\":\"club=NE\\u003cbr\\u003eframeId=40\\u003cbr\\u003ex=%{x}\\u003cbr\\u003ey=%{y}\\u003cbr\\u003ejerseyNumber=%{customdata[0]}\\u003cbr\\u003edisplayName=%{customdata[1]}\\u003cbr\\u003es=%{customdata[2]}\\u003cbr\\u003eevent=%{customdata[3]}\\u003cextra\\u003e\\u003c\\u002fextra\\u003e\",\"legendgroup\":\"NE\",\"marker\":{\"color\":\"#002244\",\"symbol\":\"circle\"},\"mode\":\"markers\",\"name\":\"NE\",\"orientation\":\"v\",\"showlegend\":true,\"x\":[67.25,65.77,59.44,61.45,60.76,60.88,59.97,59.01,60.06,62.46,73.03],\"xaxis\":\"x\",\"y\":[31.52,15.26,36.32,34.38,29.87,31.67,31.69,29.2,34.98,34.44,15.59],\"yaxis\":\"y\",\"type\":\"scatter\"},{\"customdata\":[[75.0,\"Joel Bitonio\",0.35,null],[2.0,\"Amari Cooper\",5.6,null],[78.0,\"Jack Conklin\",2.6,null],[7.0,\"Jacoby Brissett\",3.68,null],[85.0,\"David Njoku\",1.23,null],[55.0,\"Ethan Pocic\",2.42,null],[24.0,\"Nick Chubb\",1.99,null],[72.0,\"Hjalte Froholdt\",4.54,null],[71.0,\"Jedrick Wills\",0.44,null],[11.0,\"Donovan Peoples-Jones\",3.81,null],[18.0,\"David Bell\",2.15,null]],\"hovertemplate\":\"club=CLE\\u003cbr\\u003eframeId=40\\u003cbr\\u003ex=%{x}\\u003cbr\\u003ey=%{y}\\u003cbr\\u003ejerseyNumber=%{customdata[0]}\\u003cbr\\u003edisplayName=%{customdata[1]}\\u003cbr\\u003es=%{customdata[2]}\\u003cbr\\u003eevent=%{customdata[3]}\\u003cextra\\u003e\\u003c\\u002fextra\\u003e\",\"legendgroup\":\"CLE\",\"marker\":{\"color\":\"#311D00\",\"symbol\":\"circle\"},\"mode\":\"markers\",\"name\":\"CLE\",\"orientation\":\"v\",\"showlegend\":true,\"x\":[61.24,66.46,61.64,50.25,57.78,59.57,60.86,59.74,57.43,61.37,58.48],\"xaxis\":\"x\",\"y\":[35.01,17.69,31.27,20.77,36.23,35.3,32.51,30.23,34.72,13.9,36.35],\"yaxis\":\"y\",\"type\":\"scatter\"},{\"customdata\":[[null,\"football\",1.33000004291534,null]],\"hovertemplate\":\"club=football\\u003cbr\\u003eframeId=40\\u003cbr\\u003ex=%{x}\\u003cbr\\u003ey=%{y}\\u003cbr\\u003ejerseyNumber=%{customdata[0]}\\u003cbr\\u003edisplayName=%{customdata[1]}\\u003cbr\\u003es=%{customdata[2]}\\u003cbr\\u003eevent=%{customdata[3]}\\u003cextra\\u003e\\u003c\\u002fextra\\u003e\",\"legendgroup\":\"football\",\"marker\":{\"color\":\"#CBB67C\",\"symbol\":\"circle\"},\"mode\":\"markers\",\"name\":\"football\",\"orientation\":\"v\",\"showlegend\":true,\"x\":[60.4700012207031],\"xaxis\":\"x\",\"y\":[33.3400001525879],\"yaxis\":\"y\",\"type\":\"scatter\"}],\"name\":\"40\"},{\"data\":[{\"customdata\":[[32.0,\"Devin McCourty\",4.19,null],[21.0,\"Adrian Phillips\",4.79,null],[91.0,\"Deatrich Wise\",1.88,null],[8.0,\"Ja'Whaun Bentley\",1.18,null],[95.0,\"Daniel Ekuale\",4.17,null],[48.0,\"Jahlani Tavai\",3.41,null],[23.0,\"Kyle Dugger\",2.24,null],[58.0,\"Anfernee Jennings\",3.67,null],[90.0,\"Christian Barmore\",1.94,null],[25.0,\"Marcus Jones\",2.78,null],[13.0,\"Jack Jones\",4.56,null]],\"hovertemplate\":\"club=NE\\u003cbr\\u003eframeId=41\\u003cbr\\u003ex=%{x}\\u003cbr\\u003ey=%{y}\\u003cbr\\u003ejerseyNumber=%{customdata[0]}\\u003cbr\\u003edisplayName=%{customdata[1]}\\u003cbr\\u003es=%{customdata[2]}\\u003cbr\\u003eevent=%{customdata[3]}\\u003cextra\\u003e\\u003c\\u002fextra\\u003e\",\"legendgroup\":\"NE\",\"marker\":{\"color\":\"#002244\",\"symbol\":\"circle\"},\"mode\":\"markers\",\"name\":\"NE\",\"orientation\":\"v\",\"showlegend\":true,\"x\":[66.84,65.76,59.58,61.56,61.11,60.99,60.18,59.32,60.02,62.47,73.17],\"xaxis\":\"x\",\"y\":[31.62,15.73,36.44,34.36,30.16,32.01,31.57,29.4,35.18,34.17,16.03],\"yaxis\":\"y\",\"type\":\"scatter\"},{\"customdata\":[[75.0,\"Joel Bitonio\",0.3,null],[2.0,\"Amari Cooper\",5.42,null],[78.0,\"Jack Conklin\",2.43,null],[7.0,\"Jacoby Brissett\",3.51,null],[85.0,\"David Njoku\",0.96,null],[55.0,\"Ethan Pocic\",2.08,null],[24.0,\"Nick Chubb\",1.67,null],[72.0,\"Hjalte Froholdt\",4.74,null],[71.0,\"Jedrick Wills\",0.31,null],[11.0,\"Donovan Peoples-Jones\",3.79,null],[18.0,\"David Bell\",1.98,null]],\"hovertemplate\":\"club=CLE\\u003cbr\\u003eframeId=41\\u003cbr\\u003ex=%{x}\\u003cbr\\u003ey=%{y}\\u003cbr\\u003ejerseyNumber=%{customdata[0]}\\u003cbr\\u003edisplayName=%{customdata[1]}\\u003cbr\\u003es=%{customdata[2]}\\u003cbr\\u003eevent=%{customdata[3]}\\u003cextra\\u003e\\u003c\\u002fextra\\u003e\",\"legendgroup\":\"CLE\",\"marker\":{\"color\":\"#311D00\",\"symbol\":\"circle\"},\"mode\":\"markers\",\"name\":\"CLE\",\"orientation\":\"v\",\"showlegend\":true,\"x\":[61.26,66.81,61.72,50.44,57.87,59.53,61.03,60.13,57.43,61.68,58.66],\"xaxis\":\"x\",\"y\":[35.0,18.11,31.5,20.47,36.3,35.51,32.54,30.5,34.76,14.12,36.45],\"yaxis\":\"y\",\"type\":\"scatter\"},{\"customdata\":[[null,\"football\",1.13999998569489,null]],\"hovertemplate\":\"club=football\\u003cbr\\u003eframeId=41\\u003cbr\\u003ex=%{x}\\u003cbr\\u003ey=%{y}\\u003cbr\\u003ejerseyNumber=%{customdata[0]}\\u003cbr\\u003edisplayName=%{customdata[1]}\\u003cbr\\u003es=%{customdata[2]}\\u003cbr\\u003eevent=%{customdata[3]}\\u003cextra\\u003e\\u003c\\u002fextra\\u003e\",\"legendgroup\":\"football\",\"marker\":{\"color\":\"#CBB67C\",\"symbol\":\"circle\"},\"mode\":\"markers\",\"name\":\"football\",\"orientation\":\"v\",\"showlegend\":true,\"x\":[60.6300010681152],\"xaxis\":\"x\",\"y\":[33.2999992370605],\"yaxis\":\"y\",\"type\":\"scatter\"}],\"name\":\"41\"},{\"data\":[{\"customdata\":[[32.0,\"Devin McCourty\",3.82,null],[21.0,\"Adrian Phillips\",4.78,null],[91.0,\"Deatrich Wise\",1.75,null],[8.0,\"Ja'Whaun Bentley\",1.07,null],[95.0,\"Daniel Ekuale\",4.07,null],[48.0,\"Jahlani Tavai\",3.0,null],[23.0,\"Kyle Dugger\",2.14,null],[58.0,\"Anfernee Jennings\",3.42,null],[90.0,\"Christian Barmore\",1.7,null],[25.0,\"Marcus Jones\",2.54,null],[13.0,\"Jack Jones\",4.38,null]],\"hovertemplate\":\"club=NE\\u003cbr\\u003eframeId=42\\u003cbr\\u003ex=%{x}\\u003cbr\\u003ey=%{y}\\u003cbr\\u003ejerseyNumber=%{customdata[0]}\\u003cbr\\u003edisplayName=%{customdata[1]}\\u003cbr\\u003es=%{customdata[2]}\\u003cbr\\u003eevent=%{customdata[3]}\\u003cextra\\u003e\\u003c\\u002fextra\\u003e\",\"legendgroup\":\"NE\",\"marker\":{\"color\":\"#002244\",\"symbol\":\"circle\"},\"mode\":\"markers\",\"name\":\"NE\",\"orientation\":\"v\",\"showlegend\":true,\"x\":[66.46,65.75,59.72,61.64,61.43,60.96,60.36,59.62,59.99,62.51,73.28],\"xaxis\":\"x\",\"y\":[31.69,16.21,36.56,34.32,30.43,32.24,31.46,29.58,35.36,33.91,16.46],\"yaxis\":\"y\",\"type\":\"scatter\"},{\"customdata\":[[75.0,\"Joel Bitonio\",0.44,null],[2.0,\"Amari Cooper\",5.2,null],[78.0,\"Jack Conklin\",2.4,null],[7.0,\"Jacoby Brissett\",3.26,null],[85.0,\"David Njoku\",0.69,null],[55.0,\"Ethan Pocic\",1.89,null],[24.0,\"Nick Chubb\",1.41,null],[72.0,\"Hjalte Froholdt\",4.76,null],[71.0,\"Jedrick Wills\",0.23,null],[11.0,\"Donovan Peoples-Jones\",3.72,null],[18.0,\"David Bell\",1.76,null]],\"hovertemplate\":\"club=CLE\\u003cbr\\u003eframeId=42\\u003cbr\\u003ex=%{x}\\u003cbr\\u003ey=%{y}\\u003cbr\\u003ejerseyNumber=%{customdata[0]}\\u003cbr\\u003edisplayName=%{customdata[1]}\\u003cbr\\u003es=%{customdata[2]}\\u003cbr\\u003eevent=%{customdata[3]}\\u003cextra\\u003e\\u003c\\u002fextra\\u003e\",\"legendgroup\":\"CLE\",\"marker\":{\"color\":\"#311D00\",\"symbol\":\"circle\"},\"mode\":\"markers\",\"name\":\"CLE\",\"orientation\":\"v\",\"showlegend\":true,\"x\":[61.27,67.14,61.83,50.63,57.93,59.49,61.17,60.51,57.43,61.96,58.83],\"xaxis\":\"x\",\"y\":[34.96,18.53,31.73,20.21,36.34,35.72,32.59,30.79,34.79,14.37,36.52],\"yaxis\":\"y\",\"type\":\"scatter\"},{\"customdata\":[[null,\"football\",1.00999999046326,null]],\"hovertemplate\":\"club=football\\u003cbr\\u003eframeId=42\\u003cbr\\u003ex=%{x}\\u003cbr\\u003ey=%{y}\\u003cbr\\u003ejerseyNumber=%{customdata[0]}\\u003cbr\\u003edisplayName=%{customdata[1]}\\u003cbr\\u003es=%{customdata[2]}\\u003cbr\\u003eevent=%{customdata[3]}\\u003cextra\\u003e\\u003c\\u002fextra\\u003e\",\"legendgroup\":\"football\",\"marker\":{\"color\":\"#CBB67C\",\"symbol\":\"circle\"},\"mode\":\"markers\",\"name\":\"football\",\"orientation\":\"v\",\"showlegend\":true,\"x\":[60.7599983215332],\"xaxis\":\"x\",\"y\":[33.3199996948242],\"yaxis\":\"y\",\"type\":\"scatter\"}],\"name\":\"42\"},{\"data\":[{\"customdata\":[[32.0,\"Devin McCourty\",3.44,null],[21.0,\"Adrian Phillips\",4.81,null],[91.0,\"Deatrich Wise\",1.62,null],[8.0,\"Ja'Whaun Bentley\",0.89,null],[95.0,\"Daniel Ekuale\",3.98,null],[48.0,\"Jahlani Tavai\",2.53,null],[23.0,\"Kyle Dugger\",2.09,null],[58.0,\"Anfernee Jennings\",3.08,null],[90.0,\"Christian Barmore\",1.46,null],[25.0,\"Marcus Jones\",2.0,null],[13.0,\"Jack Jones\",4.2,null]],\"hovertemplate\":\"club=NE\\u003cbr\\u003eframeId=43\\u003cbr\\u003ex=%{x}\\u003cbr\\u003ey=%{y}\\u003cbr\\u003ejerseyNumber=%{customdata[0]}\\u003cbr\\u003edisplayName=%{customdata[1]}\\u003cbr\\u003es=%{customdata[2]}\\u003cbr\\u003eevent=%{customdata[3]}\\u003cextra\\u003e\\u003c\\u002fextra\\u003e\",\"legendgroup\":\"NE\",\"marker\":{\"color\":\"#002244\",\"symbol\":\"circle\"},\"mode\":\"markers\",\"name\":\"NE\",\"orientation\":\"v\",\"showlegend\":true,\"x\":[66.11,65.73,59.85,61.69,61.73,60.89,60.54,59.89,59.96,62.54,73.38],\"xaxis\":\"x\",\"y\":[31.74,16.69,36.67,34.28,30.73,32.46,31.38,29.74,35.51,33.71,16.88],\"yaxis\":\"y\",\"type\":\"scatter\"},{\"customdata\":[[75.0,\"Joel Bitonio\",0.48,null],[2.0,\"Amari Cooper\",4.94,null],[78.0,\"Jack Conklin\",2.43,null],[7.0,\"Jacoby Brissett\",3.06,null],[85.0,\"David Njoku\",0.39,null],[55.0,\"Ethan Pocic\",1.64,null],[24.0,\"Nick Chubb\",1.22,null],[72.0,\"Hjalte Froholdt\",4.64,null],[71.0,\"Jedrick Wills\",0.17,null],[11.0,\"Donovan Peoples-Jones\",3.69,null],[18.0,\"David Bell\",1.63,null]],\"hovertemplate\":\"club=CLE\\u003cbr\\u003eframeId=43\\u003cbr\\u003ex=%{x}\\u003cbr\\u003ey=%{y}\\u003cbr\\u003ejerseyNumber=%{customdata[0]}\\u003cbr\\u003edisplayName=%{customdata[1]}\\u003cbr\\u003es=%{customdata[2]}\\u003cbr\\u003eevent=%{customdata[3]}\\u003cextra\\u003e\\u003c\\u002fextra\\u003e\",\"legendgroup\":\"CLE\",\"marker\":{\"color\":\"#311D00\",\"symbol\":\"circle\"},\"mode\":\"markers\",\"name\":\"CLE\",\"orientation\":\"v\",\"showlegend\":true,\"x\":[61.28,67.45,61.96,50.85,57.98,59.46,61.3,60.87,57.44,62.22,58.99],\"xaxis\":\"x\",\"y\":[34.92,18.93,31.96,19.97,36.36,35.89,32.62,31.08,34.81,14.63,36.58],\"yaxis\":\"y\",\"type\":\"scatter\"},{\"customdata\":[[null,\"football\",0.829999983310699,null]],\"hovertemplate\":\"club=football\\u003cbr\\u003eframeId=43\\u003cbr\\u003ex=%{x}\\u003cbr\\u003ey=%{y}\\u003cbr\\u003ejerseyNumber=%{customdata[0]}\\u003cbr\\u003edisplayName=%{customdata[1]}\\u003cbr\\u003es=%{customdata[2]}\\u003cbr\\u003eevent=%{customdata[3]}\\u003cextra\\u003e\\u003c\\u002fextra\\u003e\",\"legendgroup\":\"football\",\"marker\":{\"color\":\"#CBB67C\",\"symbol\":\"circle\"},\"mode\":\"markers\",\"name\":\"football\",\"orientation\":\"v\",\"showlegend\":true,\"x\":[60.8499984741211],\"xaxis\":\"x\",\"y\":[33.2999992370605],\"yaxis\":\"y\",\"type\":\"scatter\"}],\"name\":\"43\"},{\"data\":[{\"customdata\":[[32.0,\"Devin McCourty\",3.07,\"tackle\"],[21.0,\"Adrian Phillips\",4.76,\"tackle\"],[91.0,\"Deatrich Wise\",1.45,\"tackle\"],[8.0,\"Ja'Whaun Bentley\",0.9,\"tackle\"],[95.0,\"Daniel Ekuale\",3.95,\"tackle\"],[48.0,\"Jahlani Tavai\",2.28,\"tackle\"],[23.0,\"Kyle Dugger\",2.04,\"tackle\"],[58.0,\"Anfernee Jennings\",2.81,\"tackle\"],[90.0,\"Christian Barmore\",1.25,\"tackle\"],[25.0,\"Marcus Jones\",1.49,\"tackle\"],[13.0,\"Jack Jones\",3.97,\"tackle\"]],\"hovertemplate\":\"club=NE\\u003cbr\\u003eframeId=44\\u003cbr\\u003ex=%{x}\\u003cbr\\u003ey=%{y}\\u003cbr\\u003ejerseyNumber=%{customdata[0]}\\u003cbr\\u003edisplayName=%{customdata[1]}\\u003cbr\\u003es=%{customdata[2]}\\u003cbr\\u003eevent=%{customdata[3]}\\u003cextra\\u003e\\u003c\\u002fextra\\u003e\",\"legendgroup\":\"NE\",\"marker\":{\"color\":\"#002244\",\"symbol\":\"circle\"},\"mode\":\"markers\",\"name\":\"NE\",\"orientation\":\"v\",\"showlegend\":true,\"x\":[65.79,65.7,59.96,61.76,62.01,60.89,60.74,60.15,59.94,62.59,73.45],\"xaxis\":\"x\",\"y\":[31.77,17.17,36.77,34.21,31.03,32.7,31.33,29.87,35.64,33.55,17.28],\"yaxis\":\"y\",\"type\":\"scatter\"},{\"customdata\":[[75.0,\"Joel Bitonio\",0.49,\"tackle\"],[2.0,\"Amari Cooper\",4.63,\"tackle\"],[78.0,\"Jack Conklin\",2.35,\"tackle\"],[7.0,\"Jacoby Brissett\",2.88,\"tackle\"],[85.0,\"David Njoku\",0.24,\"tackle\"],[55.0,\"Ethan Pocic\",1.27,\"tackle\"],[24.0,\"Nick Chubb\",1.0,\"tackle\"],[72.0,\"Hjalte Froholdt\",4.4,\"tackle\"],[71.0,\"Jedrick Wills\",0.13,\"tackle\"],[11.0,\"Donovan Peoples-Jones\",3.6,\"tackle\"],[18.0,\"David Bell\",1.5,\"tackle\"]],\"hovertemplate\":\"club=CLE\\u003cbr\\u003eframeId=44\\u003cbr\\u003ex=%{x}\\u003cbr\\u003ey=%{y}\\u003cbr\\u003ejerseyNumber=%{customdata[0]}\\u003cbr\\u003edisplayName=%{customdata[1]}\\u003cbr\\u003es=%{customdata[2]}\\u003cbr\\u003eevent=%{customdata[3]}\\u003cextra\\u003e\\u003c\\u002fextra\\u003e\",\"legendgroup\":\"CLE\",\"marker\":{\"color\":\"#311D00\",\"symbol\":\"circle\"},\"mode\":\"markers\",\"name\":\"CLE\",\"orientation\":\"v\",\"showlegend\":true,\"x\":[61.27,67.74,62.09,51.07,58.01,59.41,61.38,61.22,57.43,62.46,59.14],\"xaxis\":\"x\",\"y\":[34.88,19.31,32.16,19.78,36.36,36.0,32.67,31.36,34.82,14.91,36.61],\"yaxis\":\"y\",\"type\":\"scatter\"},{\"customdata\":[[null,\"football\",0.709999978542328,\"tackle\"]],\"hovertemplate\":\"club=football\\u003cbr\\u003eframeId=44\\u003cbr\\u003ex=%{x}\\u003cbr\\u003ey=%{y}\\u003cbr\\u003ejerseyNumber=%{customdata[0]}\\u003cbr\\u003edisplayName=%{customdata[1]}\\u003cbr\\u003es=%{customdata[2]}\\u003cbr\\u003eevent=%{customdata[3]}\\u003cextra\\u003e\\u003c\\u002fextra\\u003e\",\"legendgroup\":\"football\",\"marker\":{\"color\":\"#CBB67C\",\"symbol\":\"circle\"},\"mode\":\"markers\",\"name\":\"football\",\"orientation\":\"v\",\"showlegend\":true,\"x\":[60.9199981689453],\"xaxis\":\"x\",\"y\":[33.2900009155273],\"yaxis\":\"y\",\"type\":\"scatter\"}],\"name\":\"44\"},{\"data\":[{\"customdata\":[[32.0,\"Devin McCourty\",2.65,null],[21.0,\"Adrian Phillips\",4.56,null],[91.0,\"Deatrich Wise\",1.27,null],[8.0,\"Ja'Whaun Bentley\",0.91,null],[95.0,\"Daniel Ekuale\",3.86,null],[48.0,\"Jahlani Tavai\",1.83,null],[23.0,\"Kyle Dugger\",1.94,null],[58.0,\"Anfernee Jennings\",2.52,null],[90.0,\"Christian Barmore\",1.08,null],[25.0,\"Marcus Jones\",1.06,null],[13.0,\"Jack Jones\",3.77,null]],\"hovertemplate\":\"club=NE\\u003cbr\\u003eframeId=45\\u003cbr\\u003ex=%{x}\\u003cbr\\u003ey=%{y}\\u003cbr\\u003ejerseyNumber=%{customdata[0]}\\u003cbr\\u003edisplayName=%{customdata[1]}\\u003cbr\\u003es=%{customdata[2]}\\u003cbr\\u003eevent=%{customdata[3]}\\u003cextra\\u003e\\u003c\\u002fextra\\u003e\",\"legendgroup\":\"NE\",\"marker\":{\"color\":\"#002244\",\"symbol\":\"circle\"},\"mode\":\"markers\",\"name\":\"NE\",\"orientation\":\"v\",\"showlegend\":true,\"x\":[65.51,65.67,60.07,61.81,62.28,60.85,60.94,60.38,59.93,62.64,73.51],\"xaxis\":\"x\",\"y\":[31.79,17.63,36.84,34.14,31.34,32.86,31.31,29.99,35.76,33.44,17.66],\"yaxis\":\"y\",\"type\":\"scatter\"},{\"customdata\":[[75.0,\"Joel Bitonio\",0.48,null],[2.0,\"Amari Cooper\",4.34,null],[78.0,\"Jack Conklin\",2.28,null],[7.0,\"Jacoby Brissett\",2.73,null],[85.0,\"David Njoku\",0.24,null],[55.0,\"Ethan Pocic\",1.01,null],[24.0,\"Nick Chubb\",0.84,null],[72.0,\"Hjalte Froholdt\",4.13,null],[71.0,\"Jedrick Wills\",0.09,null],[11.0,\"Donovan Peoples-Jones\",3.52,null],[18.0,\"David Bell\",1.46,null]],\"hovertemplate\":\"club=CLE\\u003cbr\\u003eframeId=45\\u003cbr\\u003ex=%{x}\\u003cbr\\u003ey=%{y}\\u003cbr\\u003ejerseyNumber=%{customdata[0]}\\u003cbr\\u003edisplayName=%{customdata[1]}\\u003cbr\\u003es=%{customdata[2]}\\u003cbr\\u003eevent=%{customdata[3]}\\u003cextra\\u003e\\u003c\\u002fextra\\u003e\",\"legendgroup\":\"CLE\",\"marker\":{\"color\":\"#311D00\",\"symbol\":\"circle\"},\"mode\":\"markers\",\"name\":\"CLE\",\"orientation\":\"v\",\"showlegend\":true,\"x\":[61.27,68.02,62.24,51.29,58.03,59.37,61.46,61.54,57.43,62.68,59.29],\"xaxis\":\"x\",\"y\":[34.84,19.66,32.35,19.61,36.35,36.09,32.72,31.63,34.83,15.19,36.65],\"yaxis\":\"y\",\"type\":\"scatter\"},{\"customdata\":[[null,\"football\",0.720000028610229,null]],\"hovertemplate\":\"club=football\\u003cbr\\u003eframeId=45\\u003cbr\\u003ex=%{x}\\u003cbr\\u003ey=%{y}\\u003cbr\\u003ejerseyNumber=%{customdata[0]}\\u003cbr\\u003edisplayName=%{customdata[1]}\\u003cbr\\u003es=%{customdata[2]}\\u003cbr\\u003eevent=%{customdata[3]}\\u003cextra\\u003e\\u003c\\u002fextra\\u003e\",\"legendgroup\":\"football\",\"marker\":{\"color\":\"#CBB67C\",\"symbol\":\"circle\"},\"mode\":\"markers\",\"name\":\"football\",\"orientation\":\"v\",\"showlegend\":true,\"x\":[61.0200004577637],\"xaxis\":\"x\",\"y\":[33.3199996948242],\"yaxis\":\"y\",\"type\":\"scatter\"}],\"name\":\"45\"},{\"data\":[{\"customdata\":[[32.0,\"Devin McCourty\",2.3,null],[21.0,\"Adrian Phillips\",4.4,null],[91.0,\"Deatrich Wise\",1.13,null],[8.0,\"Ja'Whaun Bentley\",0.92,null],[95.0,\"Daniel Ekuale\",3.71,null],[48.0,\"Jahlani Tavai\",1.62,null],[23.0,\"Kyle Dugger\",1.89,null],[58.0,\"Anfernee Jennings\",2.19,null],[90.0,\"Christian Barmore\",1.0,null],[25.0,\"Marcus Jones\",0.65,null],[13.0,\"Jack Jones\",3.54,null]],\"hovertemplate\":\"club=NE\\u003cbr\\u003eframeId=46\\u003cbr\\u003ex=%{x}\\u003cbr\\u003ey=%{y}\\u003cbr\\u003ejerseyNumber=%{customdata[0]}\\u003cbr\\u003edisplayName=%{customdata[1]}\\u003cbr\\u003es=%{customdata[2]}\\u003cbr\\u003eevent=%{customdata[3]}\\u003cextra\\u003e\\u003c\\u002fextra\\u003e\",\"legendgroup\":\"NE\",\"marker\":{\"color\":\"#002244\",\"symbol\":\"circle\"},\"mode\":\"markers\",\"name\":\"NE\",\"orientation\":\"v\",\"showlegend\":true,\"x\":[65.27,65.64,60.18,61.85,62.52,60.8,61.13,60.59,59.93,62.69,73.56],\"xaxis\":\"x\",\"y\":[31.79,18.08,36.89,34.06,31.63,33.03,31.3,30.1,35.87,33.38,18.02],\"yaxis\":\"y\",\"type\":\"scatter\"},{\"customdata\":[[75.0,\"Joel Bitonio\",0.5,null],[2.0,\"Amari Cooper\",3.99,null],[78.0,\"Jack Conklin\",2.23,null],[7.0,\"Jacoby Brissett\",2.5,null],[85.0,\"David Njoku\",0.35,null],[55.0,\"Ethan Pocic\",0.73,null],[24.0,\"Nick Chubb\",0.67,null],[72.0,\"Hjalte Froholdt\",3.77,null],[71.0,\"Jedrick Wills\",0.08,null],[11.0,\"Donovan Peoples-Jones\",3.4,null],[18.0,\"David Bell\",1.33,null]],\"hovertemplate\":\"club=CLE\\u003cbr\\u003eframeId=46\\u003cbr\\u003ex=%{x}\\u003cbr\\u003ey=%{y}\\u003cbr\\u003ejerseyNumber=%{customdata[0]}\\u003cbr\\u003edisplayName=%{customdata[1]}\\u003cbr\\u003es=%{customdata[2]}\\u003cbr\\u003eevent=%{customdata[3]}\\u003cextra\\u003e\\u003c\\u002fextra\\u003e\",\"legendgroup\":\"CLE\",\"marker\":{\"color\":\"#311D00\",\"symbol\":\"circle\"},\"mode\":\"markers\",\"name\":\"CLE\",\"orientation\":\"v\",\"showlegend\":true,\"x\":[61.27,68.27,62.38,51.5,58.03,59.34,61.49,61.85,57.42,62.88,59.42],\"xaxis\":\"x\",\"y\":[34.78,19.99,32.53,19.46,36.32,36.16,32.76,31.87,34.83,15.47,36.68],\"yaxis\":\"y\",\"type\":\"scatter\"},{\"customdata\":[[null,\"football\",0.629999995231628,null]],\"hovertemplate\":\"club=football\\u003cbr\\u003eframeId=46\\u003cbr\\u003ex=%{x}\\u003cbr\\u003ey=%{y}\\u003cbr\\u003ejerseyNumber=%{customdata[0]}\\u003cbr\\u003edisplayName=%{customdata[1]}\\u003cbr\\u003es=%{customdata[2]}\\u003cbr\\u003eevent=%{customdata[3]}\\u003cextra\\u003e\\u003c\\u002fextra\\u003e\",\"legendgroup\":\"football\",\"marker\":{\"color\":\"#CBB67C\",\"symbol\":\"circle\"},\"mode\":\"markers\",\"name\":\"football\",\"orientation\":\"v\",\"showlegend\":true,\"x\":[61.0999984741211],\"xaxis\":\"x\",\"y\":[33.3199996948242],\"yaxis\":\"y\",\"type\":\"scatter\"}],\"name\":\"46\"},{\"data\":[{\"customdata\":[[32.0,\"Devin McCourty\",1.98,null],[21.0,\"Adrian Phillips\",4.2,null],[91.0,\"Deatrich Wise\",1.01,null],[8.0,\"Ja'Whaun Bentley\",0.87,null],[95.0,\"Daniel Ekuale\",3.56,null],[48.0,\"Jahlani Tavai\",1.24,null],[23.0,\"Kyle Dugger\",1.78,null],[58.0,\"Anfernee Jennings\",1.97,null],[90.0,\"Christian Barmore\",0.91,null],[25.0,\"Marcus Jones\",0.5,null],[13.0,\"Jack Jones\",3.31,null]],\"hovertemplate\":\"club=NE\\u003cbr\\u003eframeId=47\\u003cbr\\u003ex=%{x}\\u003cbr\\u003ey=%{y}\\u003cbr\\u003ejerseyNumber=%{customdata[0]}\\u003cbr\\u003edisplayName=%{customdata[1]}\\u003cbr\\u003es=%{customdata[2]}\\u003cbr\\u003eevent=%{customdata[3]}\\u003cextra\\u003e\\u003c\\u002fextra\\u003e\",\"legendgroup\":\"NE\",\"marker\":{\"color\":\"#002244\",\"symbol\":\"circle\"},\"mode\":\"markers\",\"name\":\"NE\",\"orientation\":\"v\",\"showlegend\":true,\"x\":[65.05,65.6,60.29,61.88,62.74,60.78,61.32,60.78,59.93,62.74,73.58],\"xaxis\":\"x\",\"y\":[31.79,18.5,36.92,33.98,31.93,33.13,31.3,30.18,35.97,33.36,18.35],\"yaxis\":\"y\",\"type\":\"scatter\"},{\"customdata\":[[75.0,\"Joel Bitonio\",0.51,null],[2.0,\"Amari Cooper\",3.54,null],[78.0,\"Jack Conklin\",2.23,null],[7.0,\"Jacoby Brissett\",2.32,null],[85.0,\"David Njoku\",0.47,null],[55.0,\"Ethan Pocic\",0.46,null],[24.0,\"Nick Chubb\",0.54,null],[72.0,\"Hjalte Froholdt\",3.36,null],[71.0,\"Jedrick Wills\",0.09,null],[11.0,\"Donovan Peoples-Jones\",3.26,null],[18.0,\"David Bell\",1.17,null]],\"hovertemplate\":\"club=CLE\\u003cbr\\u003eframeId=47\\u003cbr\\u003ex=%{x}\\u003cbr\\u003ey=%{y}\\u003cbr\\u003ejerseyNumber=%{customdata[0]}\\u003cbr\\u003edisplayName=%{customdata[1]}\\u003cbr\\u003es=%{customdata[2]}\\u003cbr\\u003eevent=%{customdata[3]}\\u003cextra\\u003e\\u003c\\u002fextra\\u003e\",\"legendgroup\":\"CLE\",\"marker\":{\"color\":\"#311D00\",\"symbol\":\"circle\"},\"mode\":\"markers\",\"name\":\"CLE\",\"orientation\":\"v\",\"showlegend\":true,\"x\":[61.26,68.49,62.53,51.7,58.03,59.3,61.49,62.12,57.41,63.05,59.54],\"xaxis\":\"x\",\"y\":[34.73,20.29,32.71,19.34,36.28,36.17,32.8,32.08,34.83,15.75,36.7],\"yaxis\":\"y\",\"type\":\"scatter\"},{\"customdata\":[[null,\"football\",0.569999992847443,null]],\"hovertemplate\":\"club=football\\u003cbr\\u003eframeId=47\\u003cbr\\u003ex=%{x}\\u003cbr\\u003ey=%{y}\\u003cbr\\u003ejerseyNumber=%{customdata[0]}\\u003cbr\\u003edisplayName=%{customdata[1]}\\u003cbr\\u003es=%{customdata[2]}\\u003cbr\\u003eevent=%{customdata[3]}\\u003cextra\\u003e\\u003c\\u002fextra\\u003e\",\"legendgroup\":\"football\",\"marker\":{\"color\":\"#CBB67C\",\"symbol\":\"circle\"},\"mode\":\"markers\",\"name\":\"football\",\"orientation\":\"v\",\"showlegend\":true,\"x\":[61.1599998474121],\"xaxis\":\"x\",\"y\":[33.3199996948242],\"yaxis\":\"y\",\"type\":\"scatter\"}],\"name\":\"47\"},{\"data\":[{\"customdata\":[[32.0,\"Devin McCourty\",1.73,null],[21.0,\"Adrian Phillips\",4.0,null],[91.0,\"Deatrich Wise\",0.87,null],[8.0,\"Ja'Whaun Bentley\",0.76,null],[95.0,\"Daniel Ekuale\",3.32,null],[48.0,\"Jahlani Tavai\",1.0,null],[23.0,\"Kyle Dugger\",1.64,null],[58.0,\"Anfernee Jennings\",1.8,null],[90.0,\"Christian Barmore\",0.76,null],[25.0,\"Marcus Jones\",0.58,null],[13.0,\"Jack Jones\",3.09,null]],\"hovertemplate\":\"club=NE\\u003cbr\\u003eframeId=48\\u003cbr\\u003ex=%{x}\\u003cbr\\u003ey=%{y}\\u003cbr\\u003ejerseyNumber=%{customdata[0]}\\u003cbr\\u003edisplayName=%{customdata[1]}\\u003cbr\\u003es=%{customdata[2]}\\u003cbr\\u003eevent=%{customdata[3]}\\u003cextra\\u003e\\u003c\\u002fextra\\u003e\",\"legendgroup\":\"NE\",\"marker\":{\"color\":\"#002244\",\"symbol\":\"circle\"},\"mode\":\"markers\",\"name\":\"NE\",\"orientation\":\"v\",\"showlegend\":true,\"x\":[64.86,65.56,60.37,61.9,62.94,60.73,61.46,60.95,59.94,62.78,73.59],\"xaxis\":\"x\",\"y\":[31.78,18.91,36.93,33.9,32.2,33.23,31.31,30.26,36.05,33.38,18.67],\"yaxis\":\"y\",\"type\":\"scatter\"},{\"customdata\":[[75.0,\"Joel Bitonio\",0.53,null],[2.0,\"Amari Cooper\",3.12,null],[78.0,\"Jack Conklin\",2.15,null],[7.0,\"Jacoby Brissett\",2.16,null],[85.0,\"David Njoku\",0.58,null],[55.0,\"Ethan Pocic\",0.33,null],[24.0,\"Nick Chubb\",0.49,null],[72.0,\"Hjalte Froholdt\",2.96,null],[71.0,\"Jedrick Wills\",0.12,null],[11.0,\"Donovan Peoples-Jones\",3.08,null],[18.0,\"David Bell\",1.02,null]],\"hovertemplate\":\"club=CLE\\u003cbr\\u003eframeId=48\\u003cbr\\u003ex=%{x}\\u003cbr\\u003ey=%{y}\\u003cbr\\u003ejerseyNumber=%{customdata[0]}\\u003cbr\\u003edisplayName=%{customdata[1]}\\u003cbr\\u003es=%{customdata[2]}\\u003cbr\\u003eevent=%{customdata[3]}\\u003cextra\\u003e\\u003c\\u002fextra\\u003e\",\"legendgroup\":\"CLE\",\"marker\":{\"color\":\"#311D00\",\"symbol\":\"circle\"},\"mode\":\"markers\",\"name\":\"CLE\",\"orientation\":\"v\",\"showlegend\":true,\"x\":[61.24,68.68,62.67,51.9,58.02,59.27,61.51,62.36,57.4,63.19,59.64],\"xaxis\":\"x\",\"y\":[34.67,20.56,32.88,19.24,36.23,36.18,32.85,32.27,34.82,16.04,36.72],\"yaxis\":\"y\",\"type\":\"scatter\"},{\"customdata\":[[null,\"football\",0.569999992847443,null]],\"hovertemplate\":\"club=football\\u003cbr\\u003eframeId=48\\u003cbr\\u003ex=%{x}\\u003cbr\\u003ey=%{y}\\u003cbr\\u003ejerseyNumber=%{customdata[0]}\\u003cbr\\u003edisplayName=%{customdata[1]}\\u003cbr\\u003es=%{customdata[2]}\\u003cbr\\u003eevent=%{customdata[3]}\\u003cextra\\u003e\\u003c\\u002fextra\\u003e\",\"legendgroup\":\"football\",\"marker\":{\"color\":\"#CBB67C\",\"symbol\":\"circle\"},\"mode\":\"markers\",\"name\":\"football\",\"orientation\":\"v\",\"showlegend\":true,\"x\":[61.2099990844727],\"xaxis\":\"x\",\"y\":[33.3199996948242],\"yaxis\":\"y\",\"type\":\"scatter\"}],\"name\":\"48\"}]);\n",
       "                        }).then(function(){\n",
       "                            \n",
       "var gd = document.getElementById('3ee51e8c-04f6-41fd-8b01-fb68f0457e82');\n",
       "var x = new MutationObserver(function (mutations, observer) {{\n",
       "        var display = window.getComputedStyle(gd).display;\n",
       "        if (!display || display === 'none') {{\n",
       "            console.log([gd, 'removed!']);\n",
       "            Plotly.purge(gd);\n",
       "            observer.disconnect();\n",
       "        }}\n",
       "}});\n",
       "\n",
       "// Listen for the removal of the full notebook cells\n",
       "var notebookContainer = gd.closest('#notebook-container');\n",
       "if (notebookContainer) {{\n",
       "    x.observe(notebookContainer, {childList: true});\n",
       "}}\n",
       "\n",
       "// Listen for the clearing of the current output cell\n",
       "var outputEl = gd.closest('.output');\n",
       "if (outputEl) {{\n",
       "    x.observe(outputEl, {childList: true});\n",
       "}}\n",
       "\n",
       "                        })                };                });            </script>        </div>"
      ]
     },
     "metadata": {},
     "output_type": "display_data"
    }
   ],
   "source": [
    "plot_football_play(1359, 2022101601, week6, plays, games, colors)\n"
   ]
  }
 ],
 "metadata": {
  "kernelspec": {
   "display_name": "Python 3 (ipykernel)",
   "language": "python",
   "name": "python3"
  },
  "language_info": {
   "codemirror_mode": {
    "name": "ipython",
    "version": 3
   },
   "file_extension": ".py",
   "mimetype": "text/x-python",
   "name": "python",
   "nbconvert_exporter": "python",
   "pygments_lexer": "ipython3",
   "version": "3.11.5"
  }
 },
 "nbformat": 4,
 "nbformat_minor": 5
}
