{
 "cells": [
  {
   "cell_type": "markdown",
   "id": "82c7a75c-045b-472a-b1b6-39bbdffb913a",
   "metadata": {},
   "source": [
    "## Animation 2"
   ]
  },
  {
   "cell_type": "markdown",
   "id": "e7e30278-46a5-4545-9659-46ac90e307a1",
   "metadata": {},
   "source": [
    "The goal of this jupyter notebook is to create a function that takes in gameId, playId, and week as inputs and returns an animation of the selected play"
   ]
  },
  {
   "cell_type": "code",
   "execution_count": 1,
   "id": "6b67c619-eb73-47de-8e1f-4dc213c814d4",
   "metadata": {},
   "outputs": [],
   "source": [
    "import numpy as np\n",
    "import pandas as pd\n",
    "import matplotlib.pyplot as plt\n",
    "from matplotlib.animation import FuncAnimation\n",
    "from IPython.display import HTML\n"
   ]
  },
  {
   "cell_type": "code",
   "execution_count": 2,
   "id": "6fc4a9d3-200f-4d1b-b6e2-8c6b8a58de6a",
   "metadata": {},
   "outputs": [],
   "source": [
    "#Lets first get all of our data into pandas dataframes\n",
    "\n",
    "\n",
    "games = pd.read_csv('data/games.csv')\n",
    "players = pd.read_csv('data/players.csv')\n",
    "plays = pd.read_csv('data/plays.csv')\n",
    "tackles = pd.read_csv('data/tackles.csv')\n",
    "week1 = pd.read_csv('data/tracking_week_1.csv')\n",
    "week2 = pd.read_csv('data/tracking_week_2.csv')\n",
    "week3 = pd.read_csv('data/tracking_week_3.csv')\n",
    "week4 = pd.read_csv('data/tracking_week_4.csv')\n",
    "week5 = pd.read_csv('data/tracking_week_5.csv')\n",
    "week6 = pd.read_csv('data/tracking_week_6.csv')\n",
    "week7 = pd.read_csv('data/tracking_week_7.csv')\n",
    "week8 = pd.read_csv('data/tracking_week_8.csv')\n",
    "week9 = pd.read_csv('data/tracking_week_9.csv')\n"
   ]
  },
  {
   "cell_type": "markdown",
   "id": "9b133245-ead4-4459-8a57-6d123745c2f3",
   "metadata": {},
   "source": [
    "First lets make all left plays face right. Code courtesy of Colin Lagator's [Kaggle post](https://www.kaggle.com/code/colinlagator/make-all-plays-left-right)."
   ]
  },
  {
   "cell_type": "markdown",
   "id": "03729830-72ba-473b-9194-16342892f9e7",
   "metadata": {},
   "source": [
    "#Split each week on the right facing and left facing plays\n",
    "week1_left = week1[week1[\"playDirection\"] == \"left\"]\n",
    "week1_right = week1[week1[\"playDirection\"] == \"right\"]\n",
    "\n",
    "week2_left = week2[week2[\"playDirection\"] == \"left\"]\n",
    "week2_right = week2[week2[\"playDirection\"] == \"right\"]\n",
    "\n",
    "week3_left = week3[week3[\"playDirection\"] == \"left\"]\n",
    "week3_right = week3[week3[\"playDirection\"] == \"right\"]\n",
    "\n",
    "week4_left = week4[week4[\"playDirection\"] == \"left\"]\n",
    "week4_right = week4[week4[\"playDirection\"] == \"right\"]\n",
    "\n",
    "week5_left = week5[week5[\"playDirection\"] == \"left\"]\n",
    "week5_right = week5[week5[\"playDirection\"] == \"right\"]\n",
    "\n",
    "week6_left = week6[week6[\"playDirection\"] == \"left\"]\n",
    "week6_right = week6[week6[\"playDirection\"] == \"right\"]\n",
    "\n",
    "week7_left = week7[week7[\"playDirection\"] == \"left\"]\n",
    "week7_right = week7[week7[\"playDirection\"] == \"right\"]\n",
    "\n",
    "week8_left = week8[week8[\"playDirection\"] == \"left\"]\n",
    "week8_right = week8[week8[\"playDirection\"] == \"right\"]\n",
    "\n",
    "week9_left = week9[week9[\"playDirection\"] == \"left\"]\n",
    "week9_right = week9[week9[\"playDirection\"] == \"right\"]\n",
    "\n"
   ]
  },
  {
   "cell_type": "markdown",
   "id": "8ecbffa0-1f06-4dc1-8e58-717dd795375a",
   "metadata": {},
   "source": [
    "def reverse_deg(deg):\n",
    "    if deg < 180:\n",
    "        return deg + 180\n",
    "    if deg >= 180:\n",
    "        return deg - 180"
   ]
  },
  {
   "cell_type": "markdown",
   "id": "6e8066e5-223a-49d8-965b-5dc11b6aa547",
   "metadata": {},
   "source": [
    "def reverse_play_direction(df: pd.DataFrame):\n",
    "        result_df = df.copy(deep=True)\n",
    "        \n",
    "        result_df[\"o\"] = result_df[\"o\"].apply(reverse_deg)\n",
    "        \n",
    "        result_df[\"dir\"] = result_df[\"dir\"].apply(reverse_deg)\n",
    "        \n",
    "        result_df[\"x\"] = result_df[\"x\"].apply(lambda x: 120 - x)\n",
    "        \n",
    "        result_df[\"y\"] = result_df[\"y\"].apply(lambda y: 160/3 - y)\n",
    "        \n",
    "        return result_df"
   ]
  },
  {
   "cell_type": "markdown",
   "id": "fde3ad96-ae8c-458b-a56c-41e8a1d70e94",
   "metadata": {},
   "source": [
    "#Apply the function to all the left plays in each week\n",
    "week1_left_reversed = reverse_play_direction(week1_left)\n",
    "week2_left_reversed = reverse_play_direction(week2_left)\n",
    "week3_left_reversed = reverse_play_direction(week3_left)\n",
    "week4_left_reversed = reverse_play_direction(week4_left)\n",
    "week5_left_reversed = reverse_play_direction(week5_left)\n",
    "week6_left_reversed = reverse_play_direction(week6_left)\n",
    "week7_left_reversed = reverse_play_direction(week7_left)\n",
    "week8_left_reversed = reverse_play_direction(week8_left)\n",
    "week9_left_reversed = reverse_play_direction(week9_left)\n"
   ]
  },
  {
   "cell_type": "markdown",
   "id": "32a44fd5-3351-4d2e-bca4-33456e5151bf",
   "metadata": {},
   "source": [
    "#Concatenate right plays and newly reversed left plays\n",
    "week1_std = pd.concat([week1_right, week1_left_reversed], ignore_index=True)\n",
    "week2_std = pd.concat([week2_right, week2_left_reversed], ignore_index=True)\n",
    "week3_std = pd.concat([week3_right, week3_left_reversed], ignore_index=True)\n",
    "week4_std = pd.concat([week4_right, week4_left_reversed], ignore_index=True)\n",
    "week5_std = pd.concat([week5_right, week5_left_reversed], ignore_index=True)\n",
    "week6_std = pd.concat([week6_right, week6_left_reversed], ignore_index=True)\n",
    "week7_std = pd.concat([week7_right, week7_left_reversed], ignore_index=True)\n",
    "week8_std = pd.concat([week8_right, week8_left_reversed], ignore_index=True)\n",
    "week9_std = pd.concat([week9_right, week9_left_reversed], ignore_index=True)"
   ]
  },
  {
   "cell_type": "markdown",
   "id": "69539a7f-5eab-4034-bb0a-2409d3036d81",
   "metadata": {},
   "source": [
    "Now lets check if it worked by looking at dimensions and the actual values"
   ]
  },
  {
   "cell_type": "markdown",
   "id": "dda566dc-9f63-44b3-8960-932428500906",
   "metadata": {},
   "source": [
    "print(\"Week 1 left facing plays\\n\",week1[week1[\"playDirection\"] == \"left\"][['x','y','o']].head(15))\n",
    "print(f\"Week 1 has {week1.shape[1]} columns and {week1.shape[0]} rows\")\n"
   ]
  },
  {
   "cell_type": "markdown",
   "id": "2b4ba61c-5c58-4d0a-9898-2c034019cead",
   "metadata": {},
   "source": [
    "print(\"Standardized week 1 left facing plays\\n\",week1_std[week1_std[\"playDirection\"] == \"left\"][['x','y','o']].head(15))\n",
    "print(f\"Week 1 standardized has {week1_std.shape[1]} columns and {week1_std.shape[0]} rows\")"
   ]
  },
  {
   "cell_type": "markdown",
   "id": "552ade6a-b19b-4028-8c4c-587d17348e70",
   "metadata": {},
   "source": [
    "Now let's work on the animation"
   ]
  },
  {
   "cell_type": "code",
   "execution_count": 3,
   "id": "e65f1ef8-1ae2-4bb3-b998-fa4ebd5b6230",
   "metadata": {},
   "outputs": [
    {
     "data": {
      "text/html": [
       "<div>\n",
       "<style scoped>\n",
       "    .dataframe tbody tr th:only-of-type {\n",
       "        vertical-align: middle;\n",
       "    }\n",
       "\n",
       "    .dataframe tbody tr th {\n",
       "        vertical-align: top;\n",
       "    }\n",
       "\n",
       "    .dataframe thead th {\n",
       "        text-align: right;\n",
       "    }\n",
       "</style>\n",
       "<table border=\"1\" class=\"dataframe\">\n",
       "  <thead>\n",
       "    <tr style=\"text-align: right;\">\n",
       "      <th></th>\n",
       "      <th>gameId</th>\n",
       "      <th>playId</th>\n",
       "      <th>nflId</th>\n",
       "      <th>displayName</th>\n",
       "      <th>frameId</th>\n",
       "      <th>time</th>\n",
       "      <th>jerseyNumber</th>\n",
       "      <th>club</th>\n",
       "      <th>playDirection</th>\n",
       "      <th>x</th>\n",
       "      <th>y</th>\n",
       "      <th>s</th>\n",
       "      <th>a</th>\n",
       "      <th>dis</th>\n",
       "      <th>o</th>\n",
       "      <th>dir</th>\n",
       "      <th>event</th>\n",
       "    </tr>\n",
       "  </thead>\n",
       "  <tbody>\n",
       "    <tr>\n",
       "      <th>0</th>\n",
       "      <td>2022090800</td>\n",
       "      <td>56</td>\n",
       "      <td>35472.0</td>\n",
       "      <td>Rodger Saffold</td>\n",
       "      <td>1</td>\n",
       "      <td>2022-09-08 20:24:05.200000</td>\n",
       "      <td>76.0</td>\n",
       "      <td>BUF</td>\n",
       "      <td>left</td>\n",
       "      <td>88.370000</td>\n",
       "      <td>27.27</td>\n",
       "      <td>1.62</td>\n",
       "      <td>1.15</td>\n",
       "      <td>0.16</td>\n",
       "      <td>231.74</td>\n",
       "      <td>147.90</td>\n",
       "      <td>NaN</td>\n",
       "    </tr>\n",
       "    <tr>\n",
       "      <th>1</th>\n",
       "      <td>2022090800</td>\n",
       "      <td>56</td>\n",
       "      <td>35472.0</td>\n",
       "      <td>Rodger Saffold</td>\n",
       "      <td>2</td>\n",
       "      <td>2022-09-08 20:24:05.299999</td>\n",
       "      <td>76.0</td>\n",
       "      <td>BUF</td>\n",
       "      <td>left</td>\n",
       "      <td>88.470000</td>\n",
       "      <td>27.13</td>\n",
       "      <td>1.67</td>\n",
       "      <td>0.61</td>\n",
       "      <td>0.17</td>\n",
       "      <td>230.98</td>\n",
       "      <td>148.53</td>\n",
       "      <td>pass_arrived</td>\n",
       "    </tr>\n",
       "    <tr>\n",
       "      <th>2</th>\n",
       "      <td>2022090800</td>\n",
       "      <td>56</td>\n",
       "      <td>35472.0</td>\n",
       "      <td>Rodger Saffold</td>\n",
       "      <td>3</td>\n",
       "      <td>2022-09-08 20:24:05.400000</td>\n",
       "      <td>76.0</td>\n",
       "      <td>BUF</td>\n",
       "      <td>left</td>\n",
       "      <td>88.560000</td>\n",
       "      <td>27.01</td>\n",
       "      <td>1.57</td>\n",
       "      <td>0.49</td>\n",
       "      <td>0.15</td>\n",
       "      <td>230.98</td>\n",
       "      <td>147.05</td>\n",
       "      <td>NaN</td>\n",
       "    </tr>\n",
       "    <tr>\n",
       "      <th>3</th>\n",
       "      <td>2022090800</td>\n",
       "      <td>56</td>\n",
       "      <td>35472.0</td>\n",
       "      <td>Rodger Saffold</td>\n",
       "      <td>4</td>\n",
       "      <td>2022-09-08 20:24:05.500000</td>\n",
       "      <td>76.0</td>\n",
       "      <td>BUF</td>\n",
       "      <td>left</td>\n",
       "      <td>88.640000</td>\n",
       "      <td>26.90</td>\n",
       "      <td>1.44</td>\n",
       "      <td>0.89</td>\n",
       "      <td>0.14</td>\n",
       "      <td>232.38</td>\n",
       "      <td>145.42</td>\n",
       "      <td>NaN</td>\n",
       "    </tr>\n",
       "    <tr>\n",
       "      <th>4</th>\n",
       "      <td>2022090800</td>\n",
       "      <td>56</td>\n",
       "      <td>35472.0</td>\n",
       "      <td>Rodger Saffold</td>\n",
       "      <td>5</td>\n",
       "      <td>2022-09-08 20:24:05.599999</td>\n",
       "      <td>76.0</td>\n",
       "      <td>BUF</td>\n",
       "      <td>left</td>\n",
       "      <td>88.720000</td>\n",
       "      <td>26.80</td>\n",
       "      <td>1.29</td>\n",
       "      <td>1.24</td>\n",
       "      <td>0.13</td>\n",
       "      <td>233.36</td>\n",
       "      <td>141.95</td>\n",
       "      <td>NaN</td>\n",
       "    </tr>\n",
       "    <tr>\n",
       "      <th>...</th>\n",
       "      <td>...</td>\n",
       "      <td>...</td>\n",
       "      <td>...</td>\n",
       "      <td>...</td>\n",
       "      <td>...</td>\n",
       "      <td>...</td>\n",
       "      <td>...</td>\n",
       "      <td>...</td>\n",
       "      <td>...</td>\n",
       "      <td>...</td>\n",
       "      <td>...</td>\n",
       "      <td>...</td>\n",
       "      <td>...</td>\n",
       "      <td>...</td>\n",
       "      <td>...</td>\n",
       "      <td>...</td>\n",
       "      <td>...</td>\n",
       "    </tr>\n",
       "    <tr>\n",
       "      <th>1407434</th>\n",
       "      <td>2022091200</td>\n",
       "      <td>3826</td>\n",
       "      <td>NaN</td>\n",
       "      <td>football</td>\n",
       "      <td>49</td>\n",
       "      <td>2022-09-12 23:05:57.799999</td>\n",
       "      <td>NaN</td>\n",
       "      <td>football</td>\n",
       "      <td>left</td>\n",
       "      <td>56.220001</td>\n",
       "      <td>9.89</td>\n",
       "      <td>2.56</td>\n",
       "      <td>1.25</td>\n",
       "      <td>0.25</td>\n",
       "      <td>NaN</td>\n",
       "      <td>NaN</td>\n",
       "      <td>tackle</td>\n",
       "    </tr>\n",
       "    <tr>\n",
       "      <th>1407435</th>\n",
       "      <td>2022091200</td>\n",
       "      <td>3826</td>\n",
       "      <td>NaN</td>\n",
       "      <td>football</td>\n",
       "      <td>50</td>\n",
       "      <td>2022-09-12 23:05:57.900000</td>\n",
       "      <td>NaN</td>\n",
       "      <td>football</td>\n",
       "      <td>left</td>\n",
       "      <td>56.060001</td>\n",
       "      <td>10.08</td>\n",
       "      <td>2.50</td>\n",
       "      <td>1.14</td>\n",
       "      <td>0.24</td>\n",
       "      <td>NaN</td>\n",
       "      <td>NaN</td>\n",
       "      <td>NaN</td>\n",
       "    </tr>\n",
       "    <tr>\n",
       "      <th>1407436</th>\n",
       "      <td>2022091200</td>\n",
       "      <td>3826</td>\n",
       "      <td>NaN</td>\n",
       "      <td>football</td>\n",
       "      <td>51</td>\n",
       "      <td>2022-09-12 23:05:58.000000</td>\n",
       "      <td>NaN</td>\n",
       "      <td>football</td>\n",
       "      <td>left</td>\n",
       "      <td>55.889999</td>\n",
       "      <td>10.27</td>\n",
       "      <td>2.38</td>\n",
       "      <td>1.70</td>\n",
       "      <td>0.25</td>\n",
       "      <td>NaN</td>\n",
       "      <td>NaN</td>\n",
       "      <td>NaN</td>\n",
       "    </tr>\n",
       "    <tr>\n",
       "      <th>1407437</th>\n",
       "      <td>2022091200</td>\n",
       "      <td>3826</td>\n",
       "      <td>NaN</td>\n",
       "      <td>football</td>\n",
       "      <td>52</td>\n",
       "      <td>2022-09-12 23:05:58.099999</td>\n",
       "      <td>NaN</td>\n",
       "      <td>football</td>\n",
       "      <td>left</td>\n",
       "      <td>55.730000</td>\n",
       "      <td>10.44</td>\n",
       "      <td>2.07</td>\n",
       "      <td>2.83</td>\n",
       "      <td>0.24</td>\n",
       "      <td>NaN</td>\n",
       "      <td>NaN</td>\n",
       "      <td>NaN</td>\n",
       "    </tr>\n",
       "    <tr>\n",
       "      <th>1407438</th>\n",
       "      <td>2022091200</td>\n",
       "      <td>3826</td>\n",
       "      <td>NaN</td>\n",
       "      <td>football</td>\n",
       "      <td>53</td>\n",
       "      <td>2022-09-12 23:05:58.200000</td>\n",
       "      <td>NaN</td>\n",
       "      <td>football</td>\n",
       "      <td>left</td>\n",
       "      <td>55.570000</td>\n",
       "      <td>10.57</td>\n",
       "      <td>1.86</td>\n",
       "      <td>3.00</td>\n",
       "      <td>0.20</td>\n",
       "      <td>NaN</td>\n",
       "      <td>NaN</td>\n",
       "      <td>NaN</td>\n",
       "    </tr>\n",
       "  </tbody>\n",
       "</table>\n",
       "<p>1407439 rows × 17 columns</p>\n",
       "</div>"
      ],
      "text/plain": [
       "             gameId  playId    nflId     displayName  frameId  \\\n",
       "0        2022090800      56  35472.0  Rodger Saffold        1   \n",
       "1        2022090800      56  35472.0  Rodger Saffold        2   \n",
       "2        2022090800      56  35472.0  Rodger Saffold        3   \n",
       "3        2022090800      56  35472.0  Rodger Saffold        4   \n",
       "4        2022090800      56  35472.0  Rodger Saffold        5   \n",
       "...             ...     ...      ...             ...      ...   \n",
       "1407434  2022091200    3826      NaN        football       49   \n",
       "1407435  2022091200    3826      NaN        football       50   \n",
       "1407436  2022091200    3826      NaN        football       51   \n",
       "1407437  2022091200    3826      NaN        football       52   \n",
       "1407438  2022091200    3826      NaN        football       53   \n",
       "\n",
       "                               time  jerseyNumber      club playDirection  \\\n",
       "0        2022-09-08 20:24:05.200000          76.0       BUF          left   \n",
       "1        2022-09-08 20:24:05.299999          76.0       BUF          left   \n",
       "2        2022-09-08 20:24:05.400000          76.0       BUF          left   \n",
       "3        2022-09-08 20:24:05.500000          76.0       BUF          left   \n",
       "4        2022-09-08 20:24:05.599999          76.0       BUF          left   \n",
       "...                             ...           ...       ...           ...   \n",
       "1407434  2022-09-12 23:05:57.799999           NaN  football          left   \n",
       "1407435  2022-09-12 23:05:57.900000           NaN  football          left   \n",
       "1407436  2022-09-12 23:05:58.000000           NaN  football          left   \n",
       "1407437  2022-09-12 23:05:58.099999           NaN  football          left   \n",
       "1407438  2022-09-12 23:05:58.200000           NaN  football          left   \n",
       "\n",
       "                 x      y     s     a   dis       o     dir         event  \n",
       "0        88.370000  27.27  1.62  1.15  0.16  231.74  147.90           NaN  \n",
       "1        88.470000  27.13  1.67  0.61  0.17  230.98  148.53  pass_arrived  \n",
       "2        88.560000  27.01  1.57  0.49  0.15  230.98  147.05           NaN  \n",
       "3        88.640000  26.90  1.44  0.89  0.14  232.38  145.42           NaN  \n",
       "4        88.720000  26.80  1.29  1.24  0.13  233.36  141.95           NaN  \n",
       "...            ...    ...   ...   ...   ...     ...     ...           ...  \n",
       "1407434  56.220001   9.89  2.56  1.25  0.25     NaN     NaN        tackle  \n",
       "1407435  56.060001  10.08  2.50  1.14  0.24     NaN     NaN           NaN  \n",
       "1407436  55.889999  10.27  2.38  1.70  0.25     NaN     NaN           NaN  \n",
       "1407437  55.730000  10.44  2.07  2.83  0.24     NaN     NaN           NaN  \n",
       "1407438  55.570000  10.57  1.86  3.00  0.20     NaN     NaN           NaN  \n",
       "\n",
       "[1407439 rows x 17 columns]"
      ]
     },
     "execution_count": 3,
     "metadata": {},
     "output_type": "execute_result"
    }
   ],
   "source": [
    "pd.set_option('display.max_columns', None)\n",
    "week1\n",
    "\n",
    "\n"
   ]
  },
  {
   "cell_type": "code",
   "execution_count": 4,
   "id": "16a3e18a-decf-4306-8e46-e95ad0e5df41",
   "metadata": {},
   "outputs": [],
   "source": [
    "playId = 299\n",
    "gameId = 2022090800\n",
    "colors = {\n",
    "    'ARI':\"#97233F\", \n",
    "    'ATL':\"#A71930\", \n",
    "    'BAL':'#241773', \n",
    "    'BUF':\"#00338D\", \n",
    "    'CAR':\"#0085CA\", \n",
    "    'CHI':\"#C83803\", \n",
    "    'CIN':\"#FB4F14\", \n",
    "    'CLE':\"#311D00\", \n",
    "    'DAL':'#003594',\n",
    "    'DEN':\"#FB4F14\", \n",
    "    'DET':\"#0076B6\", \n",
    "    'GB':\"#203731\", \n",
    "    'HOU':\"#03202F\", \n",
    "    'IND':\"#002C5F\", \n",
    "    'JAX':\"#9F792C\", \n",
    "    'KC':\"#E31837\", \n",
    "    'LA':\"#003594\", \n",
    "    'LAC':\"#0080C6\", \n",
    "    'LV':\"#000000\",\n",
    "    'MIA':\"#008E97\", \n",
    "    'MIN':\"#4F2683\", \n",
    "    'NE':\"#002244\", \n",
    "    'NO':\"#D3BC8D\", \n",
    "    'NYG':\"#0B2265\", \n",
    "    'NYJ':\"#125740\", \n",
    "    'PHI':\"#004C54\", \n",
    "    'PIT':\"#FFB612\", \n",
    "    'SEA':\"#69BE28\", \n",
    "    'SF':\"#AA0000\",\n",
    "    'TB':'#D50A0A', \n",
    "    'TEN':\"#4B92DB\", \n",
    "    'WAS':\"#5A1414\", \n",
    "    'football':'#CBB67C'\n",
    "}"
   ]
  },
  {
   "cell_type": "code",
   "execution_count": 5,
   "id": "17ed1697-2e99-40e1-8f47-eda827f09c84",
   "metadata": {},
   "outputs": [
    {
     "data": {
      "text/html": [
       "<div>\n",
       "<style scoped>\n",
       "    .dataframe tbody tr th:only-of-type {\n",
       "        vertical-align: middle;\n",
       "    }\n",
       "\n",
       "    .dataframe tbody tr th {\n",
       "        vertical-align: top;\n",
       "    }\n",
       "\n",
       "    .dataframe thead th {\n",
       "        text-align: right;\n",
       "    }\n",
       "</style>\n",
       "<table border=\"1\" class=\"dataframe\">\n",
       "  <thead>\n",
       "    <tr style=\"text-align: right;\">\n",
       "      <th></th>\n",
       "      <th>gameId</th>\n",
       "      <th>playId</th>\n",
       "      <th>ballCarrierId</th>\n",
       "      <th>ballCarrierDisplayName</th>\n",
       "      <th>playDescription</th>\n",
       "      <th>quarter</th>\n",
       "      <th>down</th>\n",
       "      <th>yardsToGo</th>\n",
       "      <th>possessionTeam</th>\n",
       "      <th>defensiveTeam</th>\n",
       "      <th>yardlineSide</th>\n",
       "      <th>yardlineNumber</th>\n",
       "      <th>gameClock</th>\n",
       "      <th>preSnapHomeScore</th>\n",
       "      <th>preSnapVisitorScore</th>\n",
       "      <th>passResult</th>\n",
       "      <th>passLength</th>\n",
       "      <th>penaltyYards</th>\n",
       "      <th>prePenaltyPlayResult</th>\n",
       "      <th>playResult</th>\n",
       "      <th>playNullifiedByPenalty</th>\n",
       "      <th>absoluteYardlineNumber</th>\n",
       "      <th>offenseFormation</th>\n",
       "      <th>defendersInTheBox</th>\n",
       "      <th>passProbability</th>\n",
       "      <th>preSnapHomeTeamWinProbability</th>\n",
       "      <th>preSnapVisitorTeamWinProbability</th>\n",
       "      <th>homeTeamWinProbabilityAdded</th>\n",
       "      <th>visitorTeamWinProbilityAdded</th>\n",
       "      <th>expectedPoints</th>\n",
       "      <th>expectedPointsAdded</th>\n",
       "      <th>foulName1</th>\n",
       "      <th>foulName2</th>\n",
       "      <th>foulNFLId1</th>\n",
       "      <th>foulNFLId2</th>\n",
       "    </tr>\n",
       "  </thead>\n",
       "  <tbody>\n",
       "    <tr>\n",
       "      <th>0</th>\n",
       "      <td>2022100908</td>\n",
       "      <td>3537</td>\n",
       "      <td>48723</td>\n",
       "      <td>Parker Hesse</td>\n",
       "      <td>(7:52) (Shotgun) M.Mariota pass short middle t...</td>\n",
       "      <td>4</td>\n",
       "      <td>1</td>\n",
       "      <td>10</td>\n",
       "      <td>ATL</td>\n",
       "      <td>TB</td>\n",
       "      <td>ATL</td>\n",
       "      <td>41</td>\n",
       "      <td>7:52</td>\n",
       "      <td>21</td>\n",
       "      <td>7</td>\n",
       "      <td>C</td>\n",
       "      <td>6.0</td>\n",
       "      <td>NaN</td>\n",
       "      <td>9</td>\n",
       "      <td>9</td>\n",
       "      <td>N</td>\n",
       "      <td>69</td>\n",
       "      <td>SHOTGUN</td>\n",
       "      <td>7.0</td>\n",
       "      <td>0.747284</td>\n",
       "      <td>0.976785</td>\n",
       "      <td>0.023215</td>\n",
       "      <td>-0.006110</td>\n",
       "      <td>0.006110</td>\n",
       "      <td>2.360609</td>\n",
       "      <td>0.981955</td>\n",
       "      <td>NaN</td>\n",
       "      <td>NaN</td>\n",
       "      <td>NaN</td>\n",
       "      <td>NaN</td>\n",
       "    </tr>\n",
       "    <tr>\n",
       "      <th>1</th>\n",
       "      <td>2022091103</td>\n",
       "      <td>3126</td>\n",
       "      <td>52457</td>\n",
       "      <td>Chase Claypool</td>\n",
       "      <td>(7:38) (Shotgun) C.Claypool right end to PIT 3...</td>\n",
       "      <td>4</td>\n",
       "      <td>1</td>\n",
       "      <td>10</td>\n",
       "      <td>PIT</td>\n",
       "      <td>CIN</td>\n",
       "      <td>PIT</td>\n",
       "      <td>34</td>\n",
       "      <td>7:38</td>\n",
       "      <td>14</td>\n",
       "      <td>20</td>\n",
       "      <td>NaN</td>\n",
       "      <td>NaN</td>\n",
       "      <td>NaN</td>\n",
       "      <td>3</td>\n",
       "      <td>3</td>\n",
       "      <td>N</td>\n",
       "      <td>76</td>\n",
       "      <td>SHOTGUN</td>\n",
       "      <td>7.0</td>\n",
       "      <td>0.416454</td>\n",
       "      <td>0.160485</td>\n",
       "      <td>0.839515</td>\n",
       "      <td>-0.010865</td>\n",
       "      <td>0.010865</td>\n",
       "      <td>1.733344</td>\n",
       "      <td>-0.263424</td>\n",
       "      <td>NaN</td>\n",
       "      <td>NaN</td>\n",
       "      <td>NaN</td>\n",
       "      <td>NaN</td>\n",
       "    </tr>\n",
       "    <tr>\n",
       "      <th>2</th>\n",
       "      <td>2022091111</td>\n",
       "      <td>1148</td>\n",
       "      <td>42547</td>\n",
       "      <td>Darren Waller</td>\n",
       "      <td>(8:57) D.Carr pass short middle to D.Waller to...</td>\n",
       "      <td>2</td>\n",
       "      <td>2</td>\n",
       "      <td>5</td>\n",
       "      <td>LV</td>\n",
       "      <td>LAC</td>\n",
       "      <td>LV</td>\n",
       "      <td>30</td>\n",
       "      <td>8:57</td>\n",
       "      <td>10</td>\n",
       "      <td>3</td>\n",
       "      <td>C</td>\n",
       "      <td>11.0</td>\n",
       "      <td>NaN</td>\n",
       "      <td>15</td>\n",
       "      <td>15</td>\n",
       "      <td>N</td>\n",
       "      <td>40</td>\n",
       "      <td>I_FORM</td>\n",
       "      <td>6.0</td>\n",
       "      <td>0.267933</td>\n",
       "      <td>0.756661</td>\n",
       "      <td>0.243339</td>\n",
       "      <td>-0.037409</td>\n",
       "      <td>0.037409</td>\n",
       "      <td>1.312855</td>\n",
       "      <td>1.133666</td>\n",
       "      <td>NaN</td>\n",
       "      <td>NaN</td>\n",
       "      <td>NaN</td>\n",
       "      <td>NaN</td>\n",
       "    </tr>\n",
       "    <tr>\n",
       "      <th>3</th>\n",
       "      <td>2022100212</td>\n",
       "      <td>2007</td>\n",
       "      <td>46461</td>\n",
       "      <td>Mike Boone</td>\n",
       "      <td>(13:12) M.Boone left tackle to DEN 44 for 7 ya...</td>\n",
       "      <td>3</td>\n",
       "      <td>2</td>\n",
       "      <td>10</td>\n",
       "      <td>DEN</td>\n",
       "      <td>LV</td>\n",
       "      <td>DEN</td>\n",
       "      <td>37</td>\n",
       "      <td>13:12</td>\n",
       "      <td>19</td>\n",
       "      <td>16</td>\n",
       "      <td>NaN</td>\n",
       "      <td>NaN</td>\n",
       "      <td>NaN</td>\n",
       "      <td>7</td>\n",
       "      <td>7</td>\n",
       "      <td>N</td>\n",
       "      <td>47</td>\n",
       "      <td>SINGLEBACK</td>\n",
       "      <td>6.0</td>\n",
       "      <td>0.592704</td>\n",
       "      <td>0.620552</td>\n",
       "      <td>0.379448</td>\n",
       "      <td>-0.002451</td>\n",
       "      <td>0.002451</td>\n",
       "      <td>1.641006</td>\n",
       "      <td>-0.043580</td>\n",
       "      <td>NaN</td>\n",
       "      <td>NaN</td>\n",
       "      <td>NaN</td>\n",
       "      <td>NaN</td>\n",
       "    </tr>\n",
       "    <tr>\n",
       "      <th>4</th>\n",
       "      <td>2022091900</td>\n",
       "      <td>1372</td>\n",
       "      <td>47857</td>\n",
       "      <td>Devin Singletary</td>\n",
       "      <td>(8:33) D.Singletary right guard to TEN 32 for ...</td>\n",
       "      <td>2</td>\n",
       "      <td>1</td>\n",
       "      <td>10</td>\n",
       "      <td>BUF</td>\n",
       "      <td>TEN</td>\n",
       "      <td>TEN</td>\n",
       "      <td>35</td>\n",
       "      <td>8:33</td>\n",
       "      <td>7</td>\n",
       "      <td>7</td>\n",
       "      <td>NaN</td>\n",
       "      <td>NaN</td>\n",
       "      <td>NaN</td>\n",
       "      <td>3</td>\n",
       "      <td>3</td>\n",
       "      <td>N</td>\n",
       "      <td>75</td>\n",
       "      <td>I_FORM</td>\n",
       "      <td>7.0</td>\n",
       "      <td>0.470508</td>\n",
       "      <td>0.836290</td>\n",
       "      <td>0.163710</td>\n",
       "      <td>0.001053</td>\n",
       "      <td>-0.001053</td>\n",
       "      <td>3.686428</td>\n",
       "      <td>-0.167903</td>\n",
       "      <td>NaN</td>\n",
       "      <td>NaN</td>\n",
       "      <td>NaN</td>\n",
       "      <td>NaN</td>\n",
       "    </tr>\n",
       "    <tr>\n",
       "      <th>...</th>\n",
       "      <td>...</td>\n",
       "      <td>...</td>\n",
       "      <td>...</td>\n",
       "      <td>...</td>\n",
       "      <td>...</td>\n",
       "      <td>...</td>\n",
       "      <td>...</td>\n",
       "      <td>...</td>\n",
       "      <td>...</td>\n",
       "      <td>...</td>\n",
       "      <td>...</td>\n",
       "      <td>...</td>\n",
       "      <td>...</td>\n",
       "      <td>...</td>\n",
       "      <td>...</td>\n",
       "      <td>...</td>\n",
       "      <td>...</td>\n",
       "      <td>...</td>\n",
       "      <td>...</td>\n",
       "      <td>...</td>\n",
       "      <td>...</td>\n",
       "      <td>...</td>\n",
       "      <td>...</td>\n",
       "      <td>...</td>\n",
       "      <td>...</td>\n",
       "      <td>...</td>\n",
       "      <td>...</td>\n",
       "      <td>...</td>\n",
       "      <td>...</td>\n",
       "      <td>...</td>\n",
       "      <td>...</td>\n",
       "      <td>...</td>\n",
       "      <td>...</td>\n",
       "      <td>...</td>\n",
       "      <td>...</td>\n",
       "    </tr>\n",
       "    <tr>\n",
       "      <th>12481</th>\n",
       "      <td>2022100204</td>\n",
       "      <td>123</td>\n",
       "      <td>43293</td>\n",
       "      <td>Ezekiel Elliott</td>\n",
       "      <td>(13:31) E.Elliott right tackle to WAS 38 for 1...</td>\n",
       "      <td>1</td>\n",
       "      <td>1</td>\n",
       "      <td>10</td>\n",
       "      <td>DAL</td>\n",
       "      <td>WAS</td>\n",
       "      <td>WAS</td>\n",
       "      <td>39</td>\n",
       "      <td>13:31</td>\n",
       "      <td>0</td>\n",
       "      <td>0</td>\n",
       "      <td>NaN</td>\n",
       "      <td>NaN</td>\n",
       "      <td>NaN</td>\n",
       "      <td>1</td>\n",
       "      <td>1</td>\n",
       "      <td>N</td>\n",
       "      <td>49</td>\n",
       "      <td>SINGLEBACK</td>\n",
       "      <td>6.0</td>\n",
       "      <td>0.577800</td>\n",
       "      <td>0.638600</td>\n",
       "      <td>0.361400</td>\n",
       "      <td>-0.011542</td>\n",
       "      <td>0.011542</td>\n",
       "      <td>3.642571</td>\n",
       "      <td>-0.504018</td>\n",
       "      <td>NaN</td>\n",
       "      <td>NaN</td>\n",
       "      <td>NaN</td>\n",
       "      <td>NaN</td>\n",
       "    </tr>\n",
       "    <tr>\n",
       "      <th>12482</th>\n",
       "      <td>2022091200</td>\n",
       "      <td>3467</td>\n",
       "      <td>46189</td>\n",
       "      <td>Will Dissly</td>\n",
       "      <td>(6:08) G.Smith pass short right to W.Dissly to...</td>\n",
       "      <td>4</td>\n",
       "      <td>1</td>\n",
       "      <td>10</td>\n",
       "      <td>SEA</td>\n",
       "      <td>DEN</td>\n",
       "      <td>SEA</td>\n",
       "      <td>30</td>\n",
       "      <td>6:08</td>\n",
       "      <td>17</td>\n",
       "      <td>16</td>\n",
       "      <td>C</td>\n",
       "      <td>0.0</td>\n",
       "      <td>NaN</td>\n",
       "      <td>2</td>\n",
       "      <td>2</td>\n",
       "      <td>N</td>\n",
       "      <td>40</td>\n",
       "      <td>SINGLEBACK</td>\n",
       "      <td>7.0</td>\n",
       "      <td>0.298983</td>\n",
       "      <td>0.615241</td>\n",
       "      <td>0.384759</td>\n",
       "      <td>-0.025458</td>\n",
       "      <td>0.025458</td>\n",
       "      <td>1.434580</td>\n",
       "      <td>-0.444642</td>\n",
       "      <td>NaN</td>\n",
       "      <td>NaN</td>\n",
       "      <td>NaN</td>\n",
       "      <td>NaN</td>\n",
       "    </tr>\n",
       "    <tr>\n",
       "      <th>12483</th>\n",
       "      <td>2022101605</td>\n",
       "      <td>3371</td>\n",
       "      <td>44860</td>\n",
       "      <td>Joe Mixon</td>\n",
       "      <td>(9:35) (Shotgun) J.Mixon left end to CIN 47 fo...</td>\n",
       "      <td>4</td>\n",
       "      <td>1</td>\n",
       "      <td>10</td>\n",
       "      <td>CIN</td>\n",
       "      <td>NO</td>\n",
       "      <td>CIN</td>\n",
       "      <td>41</td>\n",
       "      <td>9:35</td>\n",
       "      <td>26</td>\n",
       "      <td>21</td>\n",
       "      <td>NaN</td>\n",
       "      <td>NaN</td>\n",
       "      <td>NaN</td>\n",
       "      <td>6</td>\n",
       "      <td>6</td>\n",
       "      <td>N</td>\n",
       "      <td>69</td>\n",
       "      <td>SHOTGUN</td>\n",
       "      <td>6.0</td>\n",
       "      <td>0.639439</td>\n",
       "      <td>0.667054</td>\n",
       "      <td>0.332946</td>\n",
       "      <td>-0.005164</td>\n",
       "      <td>0.005164</td>\n",
       "      <td>2.115356</td>\n",
       "      <td>0.203819</td>\n",
       "      <td>NaN</td>\n",
       "      <td>NaN</td>\n",
       "      <td>NaN</td>\n",
       "      <td>NaN</td>\n",
       "    </tr>\n",
       "    <tr>\n",
       "      <th>12484</th>\n",
       "      <td>2022100207</td>\n",
       "      <td>2777</td>\n",
       "      <td>52449</td>\n",
       "      <td>Jonathan Taylor</td>\n",
       "      <td>(2:02) (Shotgun) J.Taylor up the middle to TEN...</td>\n",
       "      <td>3</td>\n",
       "      <td>1</td>\n",
       "      <td>10</td>\n",
       "      <td>IND</td>\n",
       "      <td>TEN</td>\n",
       "      <td>TEN</td>\n",
       "      <td>34</td>\n",
       "      <td>2:02</td>\n",
       "      <td>17</td>\n",
       "      <td>24</td>\n",
       "      <td>NaN</td>\n",
       "      <td>NaN</td>\n",
       "      <td>NaN</td>\n",
       "      <td>-2</td>\n",
       "      <td>-2</td>\n",
       "      <td>N</td>\n",
       "      <td>44</td>\n",
       "      <td>SHOTGUN</td>\n",
       "      <td>6.0</td>\n",
       "      <td>0.518695</td>\n",
       "      <td>0.410611</td>\n",
       "      <td>0.589389</td>\n",
       "      <td>-0.046648</td>\n",
       "      <td>0.046648</td>\n",
       "      <td>3.946232</td>\n",
       "      <td>-0.976039</td>\n",
       "      <td>NaN</td>\n",
       "      <td>NaN</td>\n",
       "      <td>NaN</td>\n",
       "      <td>NaN</td>\n",
       "    </tr>\n",
       "    <tr>\n",
       "      <th>12485</th>\n",
       "      <td>2022102308</td>\n",
       "      <td>905</td>\n",
       "      <td>54572</td>\n",
       "      <td>Dameon Pierce</td>\n",
       "      <td>(12:51) C.Heck reported in as eligible.  D.Pie...</td>\n",
       "      <td>2</td>\n",
       "      <td>3</td>\n",
       "      <td>1</td>\n",
       "      <td>HOU</td>\n",
       "      <td>LV</td>\n",
       "      <td>LV</td>\n",
       "      <td>17</td>\n",
       "      <td>12:51</td>\n",
       "      <td>3</td>\n",
       "      <td>0</td>\n",
       "      <td>NaN</td>\n",
       "      <td>NaN</td>\n",
       "      <td>NaN</td>\n",
       "      <td>3</td>\n",
       "      <td>3</td>\n",
       "      <td>N</td>\n",
       "      <td>27</td>\n",
       "      <td>I_FORM</td>\n",
       "      <td>8.0</td>\n",
       "      <td>0.101552</td>\n",
       "      <td>0.726639</td>\n",
       "      <td>0.273361</td>\n",
       "      <td>-0.015028</td>\n",
       "      <td>0.015028</td>\n",
       "      <td>4.685974</td>\n",
       "      <td>0.251580</td>\n",
       "      <td>NaN</td>\n",
       "      <td>NaN</td>\n",
       "      <td>NaN</td>\n",
       "      <td>NaN</td>\n",
       "    </tr>\n",
       "  </tbody>\n",
       "</table>\n",
       "<p>12486 rows × 35 columns</p>\n",
       "</div>"
      ],
      "text/plain": [
       "           gameId  playId  ballCarrierId ballCarrierDisplayName  \\\n",
       "0      2022100908    3537          48723           Parker Hesse   \n",
       "1      2022091103    3126          52457         Chase Claypool   \n",
       "2      2022091111    1148          42547          Darren Waller   \n",
       "3      2022100212    2007          46461             Mike Boone   \n",
       "4      2022091900    1372          47857       Devin Singletary   \n",
       "...           ...     ...            ...                    ...   \n",
       "12481  2022100204     123          43293        Ezekiel Elliott   \n",
       "12482  2022091200    3467          46189            Will Dissly   \n",
       "12483  2022101605    3371          44860              Joe Mixon   \n",
       "12484  2022100207    2777          52449        Jonathan Taylor   \n",
       "12485  2022102308     905          54572          Dameon Pierce   \n",
       "\n",
       "                                         playDescription  quarter  down  \\\n",
       "0      (7:52) (Shotgun) M.Mariota pass short middle t...        4     1   \n",
       "1      (7:38) (Shotgun) C.Claypool right end to PIT 3...        4     1   \n",
       "2      (8:57) D.Carr pass short middle to D.Waller to...        2     2   \n",
       "3      (13:12) M.Boone left tackle to DEN 44 for 7 ya...        3     2   \n",
       "4      (8:33) D.Singletary right guard to TEN 32 for ...        2     1   \n",
       "...                                                  ...      ...   ...   \n",
       "12481  (13:31) E.Elliott right tackle to WAS 38 for 1...        1     1   \n",
       "12482  (6:08) G.Smith pass short right to W.Dissly to...        4     1   \n",
       "12483  (9:35) (Shotgun) J.Mixon left end to CIN 47 fo...        4     1   \n",
       "12484  (2:02) (Shotgun) J.Taylor up the middle to TEN...        3     1   \n",
       "12485  (12:51) C.Heck reported in as eligible.  D.Pie...        2     3   \n",
       "\n",
       "       yardsToGo possessionTeam defensiveTeam yardlineSide  yardlineNumber  \\\n",
       "0             10            ATL            TB          ATL              41   \n",
       "1             10            PIT           CIN          PIT              34   \n",
       "2              5             LV           LAC           LV              30   \n",
       "3             10            DEN            LV          DEN              37   \n",
       "4             10            BUF           TEN          TEN              35   \n",
       "...          ...            ...           ...          ...             ...   \n",
       "12481         10            DAL           WAS          WAS              39   \n",
       "12482         10            SEA           DEN          SEA              30   \n",
       "12483         10            CIN            NO          CIN              41   \n",
       "12484         10            IND           TEN          TEN              34   \n",
       "12485          1            HOU            LV           LV              17   \n",
       "\n",
       "      gameClock  preSnapHomeScore  preSnapVisitorScore passResult  passLength  \\\n",
       "0          7:52                21                    7          C         6.0   \n",
       "1          7:38                14                   20        NaN         NaN   \n",
       "2          8:57                10                    3          C        11.0   \n",
       "3         13:12                19                   16        NaN         NaN   \n",
       "4          8:33                 7                    7        NaN         NaN   \n",
       "...         ...               ...                  ...        ...         ...   \n",
       "12481     13:31                 0                    0        NaN         NaN   \n",
       "12482      6:08                17                   16          C         0.0   \n",
       "12483      9:35                26                   21        NaN         NaN   \n",
       "12484      2:02                17                   24        NaN         NaN   \n",
       "12485     12:51                 3                    0        NaN         NaN   \n",
       "\n",
       "       penaltyYards  prePenaltyPlayResult  playResult playNullifiedByPenalty  \\\n",
       "0               NaN                     9           9                      N   \n",
       "1               NaN                     3           3                      N   \n",
       "2               NaN                    15          15                      N   \n",
       "3               NaN                     7           7                      N   \n",
       "4               NaN                     3           3                      N   \n",
       "...             ...                   ...         ...                    ...   \n",
       "12481           NaN                     1           1                      N   \n",
       "12482           NaN                     2           2                      N   \n",
       "12483           NaN                     6           6                      N   \n",
       "12484           NaN                    -2          -2                      N   \n",
       "12485           NaN                     3           3                      N   \n",
       "\n",
       "       absoluteYardlineNumber offenseFormation  defendersInTheBox  \\\n",
       "0                          69          SHOTGUN                7.0   \n",
       "1                          76          SHOTGUN                7.0   \n",
       "2                          40           I_FORM                6.0   \n",
       "3                          47       SINGLEBACK                6.0   \n",
       "4                          75           I_FORM                7.0   \n",
       "...                       ...              ...                ...   \n",
       "12481                      49       SINGLEBACK                6.0   \n",
       "12482                      40       SINGLEBACK                7.0   \n",
       "12483                      69          SHOTGUN                6.0   \n",
       "12484                      44          SHOTGUN                6.0   \n",
       "12485                      27           I_FORM                8.0   \n",
       "\n",
       "       passProbability  preSnapHomeTeamWinProbability  \\\n",
       "0             0.747284                       0.976785   \n",
       "1             0.416454                       0.160485   \n",
       "2             0.267933                       0.756661   \n",
       "3             0.592704                       0.620552   \n",
       "4             0.470508                       0.836290   \n",
       "...                ...                            ...   \n",
       "12481         0.577800                       0.638600   \n",
       "12482         0.298983                       0.615241   \n",
       "12483         0.639439                       0.667054   \n",
       "12484         0.518695                       0.410611   \n",
       "12485         0.101552                       0.726639   \n",
       "\n",
       "       preSnapVisitorTeamWinProbability  homeTeamWinProbabilityAdded  \\\n",
       "0                              0.023215                    -0.006110   \n",
       "1                              0.839515                    -0.010865   \n",
       "2                              0.243339                    -0.037409   \n",
       "3                              0.379448                    -0.002451   \n",
       "4                              0.163710                     0.001053   \n",
       "...                                 ...                          ...   \n",
       "12481                          0.361400                    -0.011542   \n",
       "12482                          0.384759                    -0.025458   \n",
       "12483                          0.332946                    -0.005164   \n",
       "12484                          0.589389                    -0.046648   \n",
       "12485                          0.273361                    -0.015028   \n",
       "\n",
       "       visitorTeamWinProbilityAdded  expectedPoints  expectedPointsAdded  \\\n",
       "0                          0.006110        2.360609             0.981955   \n",
       "1                          0.010865        1.733344            -0.263424   \n",
       "2                          0.037409        1.312855             1.133666   \n",
       "3                          0.002451        1.641006            -0.043580   \n",
       "4                         -0.001053        3.686428            -0.167903   \n",
       "...                             ...             ...                  ...   \n",
       "12481                      0.011542        3.642571            -0.504018   \n",
       "12482                      0.025458        1.434580            -0.444642   \n",
       "12483                      0.005164        2.115356             0.203819   \n",
       "12484                      0.046648        3.946232            -0.976039   \n",
       "12485                      0.015028        4.685974             0.251580   \n",
       "\n",
       "      foulName1 foulName2  foulNFLId1  foulNFLId2  \n",
       "0           NaN       NaN         NaN         NaN  \n",
       "1           NaN       NaN         NaN         NaN  \n",
       "2           NaN       NaN         NaN         NaN  \n",
       "3           NaN       NaN         NaN         NaN  \n",
       "4           NaN       NaN         NaN         NaN  \n",
       "...         ...       ...         ...         ...  \n",
       "12481       NaN       NaN         NaN         NaN  \n",
       "12482       NaN       NaN         NaN         NaN  \n",
       "12483       NaN       NaN         NaN         NaN  \n",
       "12484       NaN       NaN         NaN         NaN  \n",
       "12485       NaN       NaN         NaN         NaN  \n",
       "\n",
       "[12486 rows x 35 columns]"
      ]
     },
     "execution_count": 5,
     "metadata": {},
     "output_type": "execute_result"
    }
   ],
   "source": [
    "plays"
   ]
  },
  {
   "cell_type": "code",
   "execution_count": 6,
   "id": "413fdda8-e03e-47ec-99eb-adf98bec5ccf",
   "metadata": {},
   "outputs": [],
   "source": [
    "import plotly.graph_objects as go\n",
    "import plotly.express as px\n",
    "\n",
    "def plot_football_play(playId, gameId, week, plays, games, colors):\n",
    "    # Filter the DataFrame for the specified playId and gameId\n",
    "    selected_tracking = week[(week['playId'] == playId) & (week['gameId'] == gameId)]\n",
    "    selected_play = plays[(plays['playId'] == playId) & (plays['gameId'] == gameId)]\n",
    "    \n",
    "    down = selected_play['down'].values[0]\n",
    "    down_mapping = {\n",
    "    1: \"1st\",\n",
    "    2: \"2nd\",\n",
    "    3: \"3rd\",\n",
    "    4: \"4th\"\n",
    "    }\n",
    "    down_text = down_mapping.get(down, \"Unknown\")\n",
    "\n",
    "    quarter = selected_play['quarter'].values[0]\n",
    "    quarter_text = down_mapping.get(quarter, \"Unknown\")\n",
    "    game_clock = selected_play['gameClock'].values[0]\n",
    "    playDescription = selected_play['playDescription'].values[0]\n",
    "    playDirection = selected_tracking['playDirection'].values[0]\n",
    "    homeTeam = games.homeTeamAbbr.values[0]\n",
    "    visitorTeam = games.visitorTeamAbbr.values[0]\n",
    "    ballCarrierId = plays.ballCarrierId.values[0]\n",
    "\n",
    "    #make the away team white\n",
    "    modified_colors = colors.copy()\n",
    "    modified_colors[visitorTeam] = \"#FFFFFF\"\n",
    "    \n",
    "    #Set line of scrimmage and first down\n",
    "    #Offense on own half and going right\n",
    "    if (selected_play['possessionTeam'].values[0] == selected_play['yardlineSide'].values[0] and playDirection == 'right'):\n",
    "        line_of_scrimmage = selected_play['yardlineNumber'].values[0] + 10\n",
    "        first_down_line = line_of_scrimmage + selected_play['yardsToGo'].values[0]\n",
    "    #Offense on opponents half and going right\n",
    "    elif (selected_play['possessionTeam'].values[0] != selected_play['yardlineSide'].values[0] and playDirection == 'right'):\n",
    "        line_of_scrimmage = 110 - selected_play['yardlineNumber'].values[0]\n",
    "        first_down_line = line_of_scrimmage + selected_play['yardsToGo'].values[0]\n",
    "    #Offense on own half and going left\n",
    "    elif (selected_play['possessionTeam'].values[0] == selected_play['yardlineSide'].values[0] and playDirection == 'left'):\n",
    "        line_of_scrimmage = 110 - selected_play['yardlineNumber'].values[0]\n",
    "        first_down_line = line_of_scrimmage - selected_play['yardsToGo'].values[0]\n",
    "    #Offense on opponents half and going left\n",
    "    elif (selected_play['possessionTeam'].values[0] == selected_play['yardlineSide'].values[0] and playDirection == 'left'):\n",
    "        line_of_scrimmage = selected_play['yardlineNumber'].values[0] + 10\n",
    "        first_down_line = line_of_scrimmage - selected_play['yardsToGo'].values[0]\n",
    "\n",
    "    scorebug = f'{homeTeam} : {selected_play.preSnapHomeScore.values[0]} {visitorTeam} : {selected_play.preSnapVisitorScore.values[0]} || {quarter_text} {game_clock} || {down_text} and {selected_play.yardsToGo.values[0]}'\n",
    "\n",
    "    # Create an animated scatter plot with Plotly Express\n",
    "    scatter_fig = px.scatter(selected_tracking, x='x', y='y', animation_frame='frameId', color='club', color_discrete_map = modified_colors,\n",
    "                     hover_data=['jerseyNumber', 'displayName', 's', 'event'],\n",
    "                     title=playDescription)\n",
    "\n",
    "\n",
    "    # Add football field shapes and annotations\n",
    "    field_shapes = [\n",
    "        dict(type='rect', x0=0, x1=10,y0=0,y1=53.3, fillcolor='blue', opacity=0.5),\n",
    "        dict(type='rect', x0=110, x1=120,y0=0,y1=53.3, fillcolor='blue', opacity=0.5),\n",
    "        dict(type='line', x0=line_of_scrimmage, x1=line_of_scrimmage,y0=0,y1=53.3, line=dict(color='blue')),\n",
    "        dict(type='line', x0=first_down_line, x1=first_down_line,y0=0,y1=53.3, line=dict(color='yellow'))\n",
    "    ]\n",
    "    for x in range(10, 115, 5):\n",
    "        field_shapes.append(dict(type='line', x0=x, x1=x, y0=0, y1=53.3, line=dict(color='white', width=1)))\n",
    "\n",
    "\n",
    "    field_annotations = [\n",
    "        dict(x=5, y=26.65,textangle=270, text=homeTeam, showarrow=False, font=dict(color='white', size=12)),\n",
    "        dict(x=115, y=26.65,textangle=90, text=homeTeam, showarrow=False, font=dict(color='white', size=12)),\n",
    "    ]\n",
    "\n",
    "    for x in range(20, 70, 10):\n",
    "        field_annotations.append(dict(x=x, y=8, text=(x-10), showarrow=False, font=dict(color='white', size=12)))\n",
    "        field_annotations.append(dict(x=x, y=45.3, text=(x-10), showarrow=False, font=dict(color='white', size=12)))\n",
    "    for x in range(70, 110, 10):\n",
    "        field_annotations.append(dict(x=x, y=8, text=(110-x), showarrow=False, font=dict(color='white', size=12)))\n",
    "        field_annotations.append(dict(x=x, y=45.3, text=(110-x), showarrow=False, font=dict(color='white', size=12)))\n",
    "\n",
    "    title_annotation = dict(\n",
    "    x=0.5,  # X-coordinate (0.5 is the center of the plot)\n",
    "    y=-0.2,  # Y-coordinate (negative to position under the plot)\n",
    "    xref='paper',\n",
    "    yref='paper',\n",
    "    text=scorebug,\n",
    "    showarrow=False,\n",
    "    font=dict(size=14, color='black')  # Customize the font size and color\n",
    "    )\n",
    "    \n",
    "    # Create football field layout\n",
    "    field_layout = go.Layout(\n",
    "        shapes=field_shapes,\n",
    "        annotations=field_annotations + [title_annotation],\n",
    "        xaxis=dict(range=[0, 120], title =''),\n",
    "        yaxis=dict(range=[0, 53.3], title=''),\n",
    "        showlegend=True,\n",
    "        height = 533,\n",
    "        width = 1200\n",
    "    )\n",
    "    field_layout['xaxis'].update(showgrid=False)\n",
    "    field_layout['yaxis'].update(showgrid=False)\n",
    "\n",
    "    scatter_fig.update_layout(field_layout, plot_bgcolor='green')\n",
    "\n",
    "\n",
    "\n",
    "    \n",
    "    # Show the combined plot\n",
    "    scatter_fig.show()\n",
    "\n",
    "\n",
    "\n",
    "\n",
    "\n"
   ]
  },
  {
   "cell_type": "code",
   "execution_count": 23,
   "id": "622295e9-8bbf-4cfa-b97a-7ad3b77814f6",
   "metadata": {},
   "outputs": [
    {
     "data": {
      "application/vnd.plotly.v1+json": {
       "config": {
        "plotlyServerURL": "https://plot.ly"
       },
       "data": [
        {
         "customdata": [
          [
           91,
           "Fletcher Cox",
           1.25,
           null
          ],
          [
           2,
           "Darius Slay",
           2.33,
           null
          ],
          [
           24,
           "James Bradberry",
           3.93,
           null
          ],
          [
           97,
           "Javon Hargrave",
           2.19,
           null
          ],
          [
           43,
           "Kyzir White",
           4.26,
           null
          ],
          [
           29,
           "Avonte Maddox",
           6.92,
           null
          ],
          [
           94,
           "Josh Sweat",
           1.42,
           null
          ],
          [
           23,
           "Chauncey Gardner-Johnson",
           1.25,
           null
          ],
          [
           22,
           "Marcus Epps",
           3.83,
           null
          ],
          [
           57,
           "T.J. Edwards",
           1.65,
           null
          ],
          [
           48,
           "Patrick Johnson",
           3.51,
           null
          ]
         ],
         "hovertemplate": "club=PHI<br>frameId=1<br>x=%{x}<br>y=%{y}<br>jerseyNumber=%{customdata[0]}<br>displayName=%{customdata[1]}<br>s=%{customdata[2]}<br>event=%{customdata[3]}<extra></extra>",
         "legendgroup": "PHI",
         "marker": {
          "color": "#004C54",
          "symbol": "circle"
         },
         "mode": "markers",
         "name": "PHI",
         "orientation": "v",
         "showlegend": true,
         "type": "scatter",
         "x": [
          100.89,
          111.7,
          112.41,
          98.51,
          109.08,
          115.15,
          97.71,
          113.64,
          109.7,
          107.05,
          95.38
         ],
         "xaxis": "x",
         "y": [
          28.92,
          13.31,
          35.43,
          29.33,
          34.27,
          16.46,
          31.24,
          31.46,
          43.61,
          33.35,
          27.7
         ],
         "yaxis": "y"
        },
        {
         "customdata": [
          [
           16,
           "Jared Goff",
           0.7,
           null
          ],
          [
           68,
           "Taylor Decker",
           0.47,
           null
          ],
          [
           8,
           "Josh Reynolds",
           6.15,
           null
          ],
          [
           77,
           "Frank Ragnow",
           1.18,
           null
          ],
          [
           4,
           "D.J. Chark",
           3.01,
           null
          ],
          [
           88,
           "T.J. Hockenson",
           4.73,
           null
          ],
          [
           32,
           "D'Andre Swift",
           5.78,
           null
          ],
          [
           73,
           "Jonah Jackson",
           1.61,
           null
          ],
          [
           71,
           "Logan Stenberg",
           2.02,
           null
          ],
          [
           58,
           "Penei Sewell",
           1.67,
           null
          ],
          [
           14,
           "Amon-Ra St. Brown",
           4.35,
           null
          ]
         ],
         "hovertemplate": "club=DET<br>frameId=1<br>x=%{x}<br>y=%{y}<br>jerseyNumber=%{customdata[0]}<br>displayName=%{customdata[1]}<br>s=%{customdata[2]}<br>event=%{customdata[3]}<extra></extra>",
         "legendgroup": "DET",
         "marker": {
          "color": "#0076B6",
          "symbol": "circle"
         },
         "mode": "markers",
         "name": "DET",
         "orientation": "v",
         "showlegend": true,
         "type": "scatter",
         "x": [
          98.03,
          96.44,
          115.81,
          100.03,
          110.59,
          114.02,
          109.36,
          96.83,
          96.43,
          96.5,
          108.23
         ],
         "xaxis": "x",
         "y": [
          29.08,
          31,
          16.77,
          28.92,
          14.23,
          35.38,
          32.45,
          31.26,
          25.23,
          26.81,
          42.87
         ],
         "yaxis": "y"
        },
        {
         "customdata": [
          [
           null,
           "football",
           23.0599994659424,
           null
          ]
         ],
         "hovertemplate": "club=football<br>frameId=1<br>x=%{x}<br>y=%{y}<br>jerseyNumber=%{customdata[0]}<br>displayName=%{customdata[1]}<br>s=%{customdata[2]}<br>event=%{customdata[3]}<extra></extra>",
         "legendgroup": "football",
         "marker": {
          "color": "#CBB67C",
          "symbol": "circle"
         },
         "mode": "markers",
         "name": "football",
         "orientation": "v",
         "showlegend": true,
         "type": "scatter",
         "x": [
          105.540000915527
         ],
         "xaxis": "x",
         "y": [
          38.2900009155273
         ],
         "yaxis": "y"
        }
       ],
       "frames": [
        {
         "data": [
          {
           "customdata": [
            [
             91,
             "Fletcher Cox",
             1.25,
             null
            ],
            [
             2,
             "Darius Slay",
             2.33,
             null
            ],
            [
             24,
             "James Bradberry",
             3.93,
             null
            ],
            [
             97,
             "Javon Hargrave",
             2.19,
             null
            ],
            [
             43,
             "Kyzir White",
             4.26,
             null
            ],
            [
             29,
             "Avonte Maddox",
             6.92,
             null
            ],
            [
             94,
             "Josh Sweat",
             1.42,
             null
            ],
            [
             23,
             "Chauncey Gardner-Johnson",
             1.25,
             null
            ],
            [
             22,
             "Marcus Epps",
             3.83,
             null
            ],
            [
             57,
             "T.J. Edwards",
             1.65,
             null
            ],
            [
             48,
             "Patrick Johnson",
             3.51,
             null
            ]
           ],
           "hovertemplate": "club=PHI<br>frameId=1<br>x=%{x}<br>y=%{y}<br>jerseyNumber=%{customdata[0]}<br>displayName=%{customdata[1]}<br>s=%{customdata[2]}<br>event=%{customdata[3]}<extra></extra>",
           "legendgroup": "PHI",
           "marker": {
            "color": "#004C54",
            "symbol": "circle"
           },
           "mode": "markers",
           "name": "PHI",
           "orientation": "v",
           "showlegend": true,
           "type": "scatter",
           "x": [
            100.89,
            111.7,
            112.41,
            98.51,
            109.08,
            115.15,
            97.71,
            113.64,
            109.7,
            107.05,
            95.38
           ],
           "xaxis": "x",
           "y": [
            28.92,
            13.31,
            35.43,
            29.33,
            34.27,
            16.46,
            31.24,
            31.46,
            43.61,
            33.35,
            27.7
           ],
           "yaxis": "y"
          },
          {
           "customdata": [
            [
             16,
             "Jared Goff",
             0.7,
             null
            ],
            [
             68,
             "Taylor Decker",
             0.47,
             null
            ],
            [
             8,
             "Josh Reynolds",
             6.15,
             null
            ],
            [
             77,
             "Frank Ragnow",
             1.18,
             null
            ],
            [
             4,
             "D.J. Chark",
             3.01,
             null
            ],
            [
             88,
             "T.J. Hockenson",
             4.73,
             null
            ],
            [
             32,
             "D'Andre Swift",
             5.78,
             null
            ],
            [
             73,
             "Jonah Jackson",
             1.61,
             null
            ],
            [
             71,
             "Logan Stenberg",
             2.02,
             null
            ],
            [
             58,
             "Penei Sewell",
             1.67,
             null
            ],
            [
             14,
             "Amon-Ra St. Brown",
             4.35,
             null
            ]
           ],
           "hovertemplate": "club=DET<br>frameId=1<br>x=%{x}<br>y=%{y}<br>jerseyNumber=%{customdata[0]}<br>displayName=%{customdata[1]}<br>s=%{customdata[2]}<br>event=%{customdata[3]}<extra></extra>",
           "legendgroup": "DET",
           "marker": {
            "color": "#0076B6",
            "symbol": "circle"
           },
           "mode": "markers",
           "name": "DET",
           "orientation": "v",
           "showlegend": true,
           "type": "scatter",
           "x": [
            98.03,
            96.44,
            115.81,
            100.03,
            110.59,
            114.02,
            109.36,
            96.83,
            96.43,
            96.5,
            108.23
           ],
           "xaxis": "x",
           "y": [
            29.08,
            31,
            16.77,
            28.92,
            14.23,
            35.38,
            32.45,
            31.26,
            25.23,
            26.81,
            42.87
           ],
           "yaxis": "y"
          },
          {
           "customdata": [
            [
             null,
             "football",
             23.0599994659424,
             null
            ]
           ],
           "hovertemplate": "club=football<br>frameId=1<br>x=%{x}<br>y=%{y}<br>jerseyNumber=%{customdata[0]}<br>displayName=%{customdata[1]}<br>s=%{customdata[2]}<br>event=%{customdata[3]}<extra></extra>",
           "legendgroup": "football",
           "marker": {
            "color": "#CBB67C",
            "symbol": "circle"
           },
           "mode": "markers",
           "name": "football",
           "orientation": "v",
           "showlegend": true,
           "type": "scatter",
           "x": [
            105.540000915527
           ],
           "xaxis": "x",
           "y": [
            38.2900009155273
           ],
           "yaxis": "y"
          }
         ],
         "name": "1"
        },
        {
         "data": [
          {
           "customdata": [
            [
             91,
             "Fletcher Cox",
             1.51,
             null
            ],
            [
             2,
             "Darius Slay",
             2.8,
             null
            ],
            [
             24,
             "James Bradberry",
             3.93,
             null
            ],
            [
             97,
             "Javon Hargrave",
             1.94,
             null
            ],
            [
             43,
             "Kyzir White",
             4.08,
             null
            ],
            [
             29,
             "Avonte Maddox",
             6.7,
             null
            ],
            [
             94,
             "Josh Sweat",
             1.51,
             null
            ],
            [
             23,
             "Chauncey Gardner-Johnson",
             1.4,
             null
            ],
            [
             22,
             "Marcus Epps",
             4.25,
             null
            ],
            [
             57,
             "T.J. Edwards",
             2.09,
             null
            ],
            [
             48,
             "Patrick Johnson",
             3.4,
             null
            ]
           ],
           "hovertemplate": "club=PHI<br>frameId=2<br>x=%{x}<br>y=%{y}<br>jerseyNumber=%{customdata[0]}<br>displayName=%{customdata[1]}<br>s=%{customdata[2]}<br>event=%{customdata[3]}<extra></extra>",
           "legendgroup": "PHI",
           "marker": {
            "color": "#004C54",
            "symbol": "circle"
           },
           "mode": "markers",
           "name": "PHI",
           "orientation": "v",
           "showlegend": true,
           "type": "scatter",
           "x": [
            101.03,
            111.74,
            112.76,
            98.46,
            109.29,
            115.53,
            97.84,
            113.57,
            109.61,
            107.15,
            95.18
           ],
           "xaxis": "x",
           "y": [
            28.97,
            13.57,
            35.26,
            29.14,
            33.91,
            15.89,
            31.15,
            31.58,
            43.21,
            33.52,
            27.98
           ],
           "yaxis": "y"
          },
          {
           "customdata": [
            [
             16,
             "Jared Goff",
             0.87,
             null
            ],
            [
             68,
             "Taylor Decker",
             0.36,
             null
            ],
            [
             8,
             "Josh Reynolds",
             5.86,
             null
            ],
            [
             77,
             "Frank Ragnow",
             1.16,
             null
            ],
            [
             4,
             "D.J. Chark",
             3.23,
             null
            ],
            [
             88,
             "T.J. Hockenson",
             4.69,
             null
            ],
            [
             32,
             "D'Andre Swift",
             5.65,
             null
            ],
            [
             73,
             "Jonah Jackson",
             1.51,
             null
            ],
            [
             71,
             "Logan Stenberg",
             1.7,
             null
            ],
            [
             58,
             "Penei Sewell",
             1.49,
             null
            ],
            [
             14,
             "Amon-Ra St. Brown",
             4.42,
             null
            ]
           ],
           "hovertemplate": "club=DET<br>frameId=2<br>x=%{x}<br>y=%{y}<br>jerseyNumber=%{customdata[0]}<br>displayName=%{customdata[1]}<br>s=%{customdata[2]}<br>event=%{customdata[3]}<extra></extra>",
           "legendgroup": "DET",
           "marker": {
            "color": "#0076B6",
            "symbol": "circle"
           },
           "mode": "markers",
           "name": "DET",
           "orientation": "v",
           "showlegend": true,
           "type": "scatter",
           "x": [
            97.98,
            96.4,
            116.12,
            100.09,
            110.64,
            114.49,
            109.73,
            96.74,
            96.26,
            96.35,
            108.34
           ],
           "xaxis": "x",
           "y": [
            29.02,
            30.99,
            16.26,
            28.82,
            14.54,
            35.33,
            32,
            31.39,
            25.2,
            26.86,
            42.44
           ],
           "yaxis": "y"
          },
          {
           "customdata": [
            [
             null,
             "football",
             22.6800003051758,
             null
            ]
           ],
           "hovertemplate": "club=football<br>frameId=2<br>x=%{x}<br>y=%{y}<br>jerseyNumber=%{customdata[0]}<br>displayName=%{customdata[1]}<br>s=%{customdata[2]}<br>event=%{customdata[3]}<extra></extra>",
           "legendgroup": "football",
           "marker": {
            "color": "#CBB67C",
            "symbol": "circle"
           },
           "mode": "markers",
           "name": "football",
           "orientation": "v",
           "showlegend": true,
           "type": "scatter",
           "x": [
            106.930000305176
           ],
           "xaxis": "x",
           "y": [
            40.0999984741211
           ],
           "yaxis": "y"
          }
         ],
         "name": "2"
        },
        {
         "data": [
          {
           "customdata": [
            [
             91,
             "Fletcher Cox",
             1.6,
             "pass_arrived"
            ],
            [
             2,
             "Darius Slay",
             3.18,
             "pass_arrived"
            ],
            [
             24,
             "James Bradberry",
             3.86,
             "pass_arrived"
            ],
            [
             97,
             "Javon Hargrave",
             1.67,
             "pass_arrived"
            ],
            [
             43,
             "Kyzir White",
             3.85,
             "pass_arrived"
            ],
            [
             29,
             "Avonte Maddox",
             6.45,
             "pass_arrived"
            ],
            [
             94,
             "Josh Sweat",
             1.64,
             "pass_arrived"
            ],
            [
             23,
             "Chauncey Gardner-Johnson",
             1.56,
             "pass_arrived"
            ],
            [
             22,
             "Marcus Epps",
             4.58,
             "pass_arrived"
            ],
            [
             57,
             "T.J. Edwards",
             2.52,
             "pass_arrived"
            ],
            [
             48,
             "Patrick Johnson",
             3.32,
             "pass_arrived"
            ]
           ],
           "hovertemplate": "club=PHI<br>frameId=3<br>x=%{x}<br>y=%{y}<br>jerseyNumber=%{customdata[0]}<br>displayName=%{customdata[1]}<br>s=%{customdata[2]}<br>event=%{customdata[3]}<extra></extra>",
           "legendgroup": "PHI",
           "marker": {
            "color": "#004C54",
            "symbol": "circle"
           },
           "mode": "markers",
           "name": "PHI",
           "orientation": "v",
           "showlegend": true,
           "type": "scatter",
           "x": [
            101.18,
            111.78,
            113.12,
            98.4,
            109.51,
            115.89,
            97.98,
            113.52,
            109.54,
            107.28,
            95.03
           ],
           "xaxis": "x",
           "y": [
            29.01,
            13.87,
            35.11,
            28.99,
            33.58,
            15.34,
            31.07,
            31.72,
            42.78,
            33.71,
            28.28
           ],
           "yaxis": "y"
          },
          {
           "customdata": [
            [
             16,
             "Jared Goff",
             0.95,
             "pass_arrived"
            ],
            [
             68,
             "Taylor Decker",
             0.31,
             "pass_arrived"
            ],
            [
             8,
             "Josh Reynolds",
             5.58,
             "pass_arrived"
            ],
            [
             77,
             "Frank Ragnow",
             1.16,
             "pass_arrived"
            ],
            [
             4,
             "D.J. Chark",
             3.42,
             "pass_arrived"
            ],
            [
             88,
             "T.J. Hockenson",
             4.54,
             "pass_arrived"
            ],
            [
             32,
             "D'Andre Swift",
             5.34,
             "pass_arrived"
            ],
            [
             73,
             "Jonah Jackson",
             1.52,
             "pass_arrived"
            ],
            [
             71,
             "Logan Stenberg",
             1.39,
             "pass_arrived"
            ],
            [
             58,
             "Penei Sewell",
             1.35,
             "pass_arrived"
            ],
            [
             14,
             "Amon-Ra St. Brown",
             4.46,
             "pass_arrived"
            ]
           ],
           "hovertemplate": "club=DET<br>frameId=3<br>x=%{x}<br>y=%{y}<br>jerseyNumber=%{customdata[0]}<br>displayName=%{customdata[1]}<br>s=%{customdata[2]}<br>event=%{customdata[3]}<extra></extra>",
           "legendgroup": "DET",
           "marker": {
            "color": "#0076B6",
            "symbol": "circle"
           },
           "mode": "markers",
           "name": "DET",
           "orientation": "v",
           "showlegend": true,
           "type": "scatter",
           "x": [
            97.91,
            96.37,
            116.42,
            100.16,
            110.68,
            114.94,
            110.06,
            96.69,
            96.11,
            96.22,
            108.46
           ],
           "xaxis": "x",
           "y": [
            28.96,
            30.98,
            15.78,
            28.73,
            14.87,
            35.29,
            31.57,
            31.53,
            25.17,
            26.92,
            42.01
           ],
           "yaxis": "y"
          },
          {
           "customdata": [
            [
             null,
             "football",
             22.2199993133545,
             "pass_arrived"
            ]
           ],
           "hovertemplate": "club=football<br>frameId=3<br>x=%{x}<br>y=%{y}<br>jerseyNumber=%{customdata[0]}<br>displayName=%{customdata[1]}<br>s=%{customdata[2]}<br>event=%{customdata[3]}<extra></extra>",
           "legendgroup": "football",
           "marker": {
            "color": "#CBB67C",
            "symbol": "circle"
           },
           "mode": "markers",
           "name": "football",
           "orientation": "v",
           "showlegend": true,
           "type": "scatter",
           "x": [
            108.300003051758
           ],
           "xaxis": "x",
           "y": [
            41.8800010681152
           ],
           "yaxis": "y"
          }
         ],
         "name": "3"
        },
        {
         "data": [
          {
           "customdata": [
            [
             91,
             "Fletcher Cox",
             1.69,
             null
            ],
            [
             2,
             "Darius Slay",
             3.43,
             null
            ],
            [
             24,
             "James Bradberry",
             3.76,
             null
            ],
            [
             97,
             "Javon Hargrave",
             1.46,
             null
            ],
            [
             43,
             "Kyzir White",
             3.57,
             null
            ],
            [
             29,
             "Avonte Maddox",
             6.14,
             null
            ],
            [
             94,
             "Josh Sweat",
             1.73,
             null
            ],
            [
             23,
             "Chauncey Gardner-Johnson",
             1.69,
             null
            ],
            [
             22,
             "Marcus Epps",
             4.79,
             null
            ],
            [
             57,
             "T.J. Edwards",
             2.98,
             null
            ],
            [
             48,
             "Patrick Johnson",
             3.27,
             null
            ]
           ],
           "hovertemplate": "club=PHI<br>frameId=4<br>x=%{x}<br>y=%{y}<br>jerseyNumber=%{customdata[0]}<br>displayName=%{customdata[1]}<br>s=%{customdata[2]}<br>event=%{customdata[3]}<extra></extra>",
           "legendgroup": "PHI",
           "marker": {
            "color": "#004C54",
            "symbol": "circle"
           },
           "mode": "markers",
           "name": "PHI",
           "orientation": "v",
           "showlegend": true,
           "type": "scatter",
           "x": [
            101.34,
            111.81,
            113.48,
            98.35,
            109.73,
            116.22,
            98.14,
            113.47,
            109.48,
            107.44,
            94.93
           ],
           "xaxis": "x",
           "y": [
            29.06,
            14.2,
            34.98,
            28.84,
            33.29,
            14.82,
            31,
            31.88,
            42.32,
            33.94,
            28.59
           ],
           "yaxis": "y"
          },
          {
           "customdata": [
            [
             16,
             "Jared Goff",
             0.99,
             null
            ],
            [
             68,
             "Taylor Decker",
             0.29,
             null
            ],
            [
             8,
             "Josh Reynolds",
             5.28,
             null
            ],
            [
             77,
             "Frank Ragnow",
             1.13,
             null
            ],
            [
             4,
             "D.J. Chark",
             3.54,
             null
            ],
            [
             88,
             "T.J. Hockenson",
             4.33,
             null
            ],
            [
             32,
             "D'Andre Swift",
             5.13,
             null
            ],
            [
             73,
             "Jonah Jackson",
             1.75,
             null
            ],
            [
             71,
             "Logan Stenberg",
             1.1,
             null
            ],
            [
             58,
             "Penei Sewell",
             1.29,
             null
            ],
            [
             14,
             "Amon-Ra St. Brown",
             4.45,
             null
            ]
           ],
           "hovertemplate": "club=DET<br>frameId=4<br>x=%{x}<br>y=%{y}<br>jerseyNumber=%{customdata[0]}<br>displayName=%{customdata[1]}<br>s=%{customdata[2]}<br>event=%{customdata[3]}<extra></extra>",
           "legendgroup": "DET",
           "marker": {
            "color": "#0076B6",
            "symbol": "circle"
           },
           "mode": "markers",
           "name": "DET",
           "orientation": "v",
           "showlegend": true,
           "type": "scatter",
           "x": [
            97.84,
            96.34,
            116.71,
            100.25,
            110.71,
            115.38,
            110.35,
            96.67,
            96,
            96.1,
            108.58
           ],
           "xaxis": "x",
           "y": [
            28.9,
            30.99,
            15.32,
            28.66,
            15.22,
            35.26,
            31.13,
            31.69,
            25.15,
            26.99,
            41.58
           ],
           "yaxis": "y"
          },
          {
           "customdata": [
            [
             null,
             "football",
             21.9699993133545,
             null
            ]
           ],
           "hovertemplate": "club=football<br>frameId=4<br>x=%{x}<br>y=%{y}<br>jerseyNumber=%{customdata[0]}<br>displayName=%{customdata[1]}<br>s=%{customdata[2]}<br>event=%{customdata[3]}<extra></extra>",
           "legendgroup": "football",
           "marker": {
            "color": "#CBB67C",
            "symbol": "circle"
           },
           "mode": "markers",
           "name": "football",
           "orientation": "v",
           "showlegend": true,
           "type": "scatter",
           "x": [
            108.73999786377
           ],
           "xaxis": "x",
           "y": [
            42.4500007629395
           ],
           "yaxis": "y"
          }
         ],
         "name": "4"
        },
        {
         "data": [
          {
           "customdata": [
            [
             91,
             "Fletcher Cox",
             1.77,
             null
            ],
            [
             2,
             "Darius Slay",
             3.63,
             null
            ],
            [
             24,
             "James Bradberry",
             3.54,
             null
            ],
            [
             97,
             "Javon Hargrave",
             1.27,
             null
            ],
            [
             43,
             "Kyzir White",
             3.31,
             null
            ],
            [
             29,
             "Avonte Maddox",
             5.82,
             null
            ],
            [
             94,
             "Josh Sweat",
             1.84,
             null
            ],
            [
             23,
             "Chauncey Gardner-Johnson",
             1.92,
             null
            ],
            [
             22,
             "Marcus Epps",
             4.89,
             null
            ],
            [
             57,
             "T.J. Edwards",
             3.36,
             null
            ],
            [
             48,
             "Patrick Johnson",
             3.21,
             null
            ]
           ],
           "hovertemplate": "club=PHI<br>frameId=5<br>x=%{x}<br>y=%{y}<br>jerseyNumber=%{customdata[0]}<br>displayName=%{customdata[1]}<br>s=%{customdata[2]}<br>event=%{customdata[3]}<extra></extra>",
           "legendgroup": "PHI",
           "marker": {
            "color": "#004C54",
            "symbol": "circle"
           },
           "mode": "markers",
           "name": "PHI",
           "orientation": "v",
           "showlegend": true,
           "type": "scatter",
           "x": [
            101.51,
            111.85,
            113.83,
            98.3,
            109.96,
            116.55,
            98.31,
            113.42,
            109.42,
            107.64,
            94.87
           ],
           "xaxis": "x",
           "y": [
            29.11,
            14.55,
            34.89,
            28.71,
            33.02,
            14.31,
            30.92,
            32.06,
            41.84,
            34.19,
            28.91
           ],
           "yaxis": "y"
          },
          {
           "customdata": [
            [
             16,
             "Jared Goff",
             1,
             null
            ],
            [
             68,
             "Taylor Decker",
             0.29,
             null
            ],
            [
             8,
             "Josh Reynolds",
             4.97,
             null
            ],
            [
             77,
             "Frank Ragnow",
             1.1,
             null
            ],
            [
             4,
             "D.J. Chark",
             3.54,
             null
            ],
            [
             88,
             "T.J. Hockenson",
             4.08,
             null
            ],
            [
             32,
             "D'Andre Swift",
             4.78,
             null
            ],
            [
             73,
             "Jonah Jackson",
             1.87,
             null
            ],
            [
             71,
             "Logan Stenberg",
             0.79,
             null
            ],
            [
             58,
             "Penei Sewell",
             1.18,
             null
            ],
            [
             14,
             "Amon-Ra St. Brown",
             4.47,
             null
            ]
           ],
           "hovertemplate": "club=DET<br>frameId=5<br>x=%{x}<br>y=%{y}<br>jerseyNumber=%{customdata[0]}<br>displayName=%{customdata[1]}<br>s=%{customdata[2]}<br>event=%{customdata[3]}<extra></extra>",
           "legendgroup": "DET",
           "marker": {
            "color": "#0076B6",
            "symbol": "circle"
           },
           "mode": "markers",
           "name": "DET",
           "orientation": "v",
           "showlegend": true,
           "type": "scatter",
           "x": [
            97.76,
            96.31,
            117,
            100.34,
            110.73,
            115.8,
            110.6,
            96.69,
            95.91,
            96,
            108.72
           ],
           "xaxis": "x",
           "y": [
            28.84,
            31.01,
            14.89,
            28.61,
            15.57,
            35.25,
            30.71,
            31.87,
            25.13,
            27.06,
            41.15
           ],
           "yaxis": "y"
          },
          {
           "customdata": [
            [
             null,
             "football",
             3.82999992370605,
             null
            ]
           ],
           "hovertemplate": "club=football<br>frameId=5<br>x=%{x}<br>y=%{y}<br>jerseyNumber=%{customdata[0]}<br>displayName=%{customdata[1]}<br>s=%{customdata[2]}<br>event=%{customdata[3]}<extra></extra>",
           "legendgroup": "football",
           "marker": {
            "color": "#CBB67C",
            "symbol": "circle"
           },
           "mode": "markers",
           "name": "football",
           "orientation": "v",
           "showlegend": true,
           "type": "scatter",
           "x": [
            108.550003051758
           ],
           "xaxis": "x",
           "y": [
            40.7999992370605
           ],
           "yaxis": "y"
          }
         ],
         "name": "5"
        },
        {
         "data": [
          {
           "customdata": [
            [
             91,
             "Fletcher Cox",
             1.82,
             "pass_outcome_caught"
            ],
            [
             2,
             "Darius Slay",
             3.68,
             "pass_outcome_caught"
            ],
            [
             24,
             "James Bradberry",
             3.17,
             "pass_outcome_caught"
            ],
            [
             97,
             "Javon Hargrave",
             1.09,
             "pass_outcome_caught"
            ],
            [
             43,
             "Kyzir White",
             3.03,
             "pass_outcome_caught"
            ],
            [
             29,
             "Avonte Maddox",
             5.46,
             "pass_outcome_caught"
            ],
            [
             94,
             "Josh Sweat",
             1.9,
             "pass_outcome_caught"
            ],
            [
             23,
             "Chauncey Gardner-Johnson",
             2.21,
             "pass_outcome_caught"
            ],
            [
             22,
             "Marcus Epps",
             4.96,
             "pass_outcome_caught"
            ],
            [
             57,
             "T.J. Edwards",
             3.74,
             "pass_outcome_caught"
            ],
            [
             48,
             "Patrick Johnson",
             3.36,
             "pass_outcome_caught"
            ]
           ],
           "hovertemplate": "club=PHI<br>frameId=6<br>x=%{x}<br>y=%{y}<br>jerseyNumber=%{customdata[0]}<br>displayName=%{customdata[1]}<br>s=%{customdata[2]}<br>event=%{customdata[3]}<extra></extra>",
           "legendgroup": "PHI",
           "marker": {
            "color": "#004C54",
            "symbol": "circle"
           },
           "mode": "markers",
           "name": "PHI",
           "orientation": "v",
           "showlegend": true,
           "type": "scatter",
           "x": [
            101.68,
            111.88,
            114.16,
            98.25,
            110.18,
            116.85,
            98.48,
            113.4,
            109.38,
            107.88,
            94.86
           ],
           "xaxis": "x",
           "y": [
            29.18,
            14.91,
            34.83,
            28.61,
            32.8,
            13.84,
            30.84,
            32.28,
            41.34,
            34.46,
            29.25
           ],
           "yaxis": "y"
          },
          {
           "customdata": [
            [
             16,
             "Jared Goff",
             0.94,
             "pass_outcome_caught"
            ],
            [
             68,
             "Taylor Decker",
             0.31,
             "pass_outcome_caught"
            ],
            [
             8,
             "Josh Reynolds",
             4.74,
             "pass_outcome_caught"
            ],
            [
             77,
             "Frank Ragnow",
             1.18,
             "pass_outcome_caught"
            ],
            [
             4,
             "D.J. Chark",
             3.52,
             "pass_outcome_caught"
            ],
            [
             88,
             "T.J. Hockenson",
             3.82,
             "pass_outcome_caught"
            ],
            [
             32,
             "D'Andre Swift",
             4.56,
             "pass_outcome_caught"
            ],
            [
             73,
             "Jonah Jackson",
             2.1,
             "pass_outcome_caught"
            ],
            [
             71,
             "Logan Stenberg",
             0.5,
             "pass_outcome_caught"
            ],
            [
             58,
             "Penei Sewell",
             1.13,
             "pass_outcome_caught"
            ],
            [
             14,
             "Amon-Ra St. Brown",
             4.56,
             "pass_outcome_caught"
            ]
           ],
           "hovertemplate": "club=DET<br>frameId=6<br>x=%{x}<br>y=%{y}<br>jerseyNumber=%{customdata[0]}<br>displayName=%{customdata[1]}<br>s=%{customdata[2]}<br>event=%{customdata[3]}<extra></extra>",
           "legendgroup": "DET",
           "marker": {
            "color": "#0076B6",
            "symbol": "circle"
           },
           "mode": "markers",
           "name": "DET",
           "orientation": "v",
           "showlegend": true,
           "type": "scatter",
           "x": [
            97.69,
            96.29,
            117.27,
            100.47,
            110.74,
            116.19,
            110.82,
            96.73,
            95.86,
            95.91,
            108.89
           ],
           "xaxis": "x",
           "y": [
            28.79,
            31.03,
            14.49,
            28.58,
            15.92,
            35.24,
            30.3,
            32.07,
            25.12,
            27.13,
            40.72
           ],
           "yaxis": "y"
          },
          {
           "customdata": [
            [
             null,
             "football",
             3.8199999332428,
             "pass_outcome_caught"
            ]
           ],
           "hovertemplate": "club=football<br>frameId=6<br>x=%{x}<br>y=%{y}<br>jerseyNumber=%{customdata[0]}<br>displayName=%{customdata[1]}<br>s=%{customdata[2]}<br>event=%{customdata[3]}<extra></extra>",
           "legendgroup": "football",
           "marker": {
            "color": "#CBB67C",
            "symbol": "circle"
           },
           "mode": "markers",
           "name": "football",
           "orientation": "v",
           "showlegend": true,
           "type": "scatter",
           "x": [
            108.730003356934
           ],
           "xaxis": "x",
           "y": [
            40.4099998474121
           ],
           "yaxis": "y"
          }
         ],
         "name": "6"
        },
        {
         "data": [
          {
           "customdata": [
            [
             91,
             "Fletcher Cox",
             1.79,
             "first_contact"
            ],
            [
             2,
             "Darius Slay",
             3.64,
             "first_contact"
            ],
            [
             24,
             "James Bradberry",
             2.85,
             "first_contact"
            ],
            [
             97,
             "Javon Hargrave",
             0.84,
             "first_contact"
            ],
            [
             43,
             "Kyzir White",
             2.7,
             "first_contact"
            ],
            [
             29,
             "Avonte Maddox",
             5.11,
             "first_contact"
            ],
            [
             94,
             "Josh Sweat",
             1.97,
             "first_contact"
            ],
            [
             23,
             "Chauncey Gardner-Johnson",
             2.42,
             "first_contact"
            ],
            [
             22,
             "Marcus Epps",
             4.98,
             "first_contact"
            ],
            [
             57,
             "T.J. Edwards",
             4.04,
             "first_contact"
            ],
            [
             48,
             "Patrick Johnson",
             3.49,
             "first_contact"
            ]
           ],
           "hovertemplate": "club=PHI<br>frameId=7<br>x=%{x}<br>y=%{y}<br>jerseyNumber=%{customdata[0]}<br>displayName=%{customdata[1]}<br>s=%{customdata[2]}<br>event=%{customdata[3]}<extra></extra>",
           "legendgroup": "PHI",
           "marker": {
            "color": "#004C54",
            "symbol": "circle"
           },
           "mode": "markers",
           "name": "PHI",
           "orientation": "v",
           "showlegend": true,
           "type": "scatter",
           "x": [
            101.84,
            111.91,
            114.46,
            98.21,
            110.39,
            117.13,
            98.67,
            113.37,
            109.35,
            108.13,
            94.89
           ],
           "xaxis": "x",
           "y": [
            29.25,
            15.28,
            34.8,
            28.53,
            32.6,
            13.4,
            30.75,
            32.52,
            40.85,
            34.76,
            29.59
           ],
           "yaxis": "y"
          },
          {
           "customdata": [
            [
             16,
             "Jared Goff",
             0.89,
             "first_contact"
            ],
            [
             68,
             "Taylor Decker",
             0.33,
             "first_contact"
            ],
            [
             8,
             "Josh Reynolds",
             4.38,
             "first_contact"
            ],
            [
             77,
             "Frank Ragnow",
             1.27,
             "first_contact"
            ],
            [
             4,
             "D.J. Chark",
             3.49,
             "first_contact"
            ],
            [
             88,
             "T.J. Hockenson",
             3.55,
             "first_contact"
            ],
            [
             32,
             "D'Andre Swift",
             4.25,
             "first_contact"
            ],
            [
             73,
             "Jonah Jackson",
             2.14,
             "first_contact"
            ],
            [
             71,
             "Logan Stenberg",
             0.25,
             "first_contact"
            ],
            [
             58,
             "Penei Sewell",
             1.06,
             "first_contact"
            ],
            [
             14,
             "Amon-Ra St. Brown",
             4.56,
             "first_contact"
            ]
           ],
           "hovertemplate": "club=DET<br>frameId=7<br>x=%{x}<br>y=%{y}<br>jerseyNumber=%{customdata[0]}<br>displayName=%{customdata[1]}<br>s=%{customdata[2]}<br>event=%{customdata[3]}<extra></extra>",
           "legendgroup": "DET",
           "marker": {
            "color": "#0076B6",
            "symbol": "circle"
           },
           "mode": "markers",
           "name": "DET",
           "orientation": "v",
           "showlegend": true,
           "type": "scatter",
           "x": [
            97.61,
            96.27,
            117.53,
            100.6,
            110.75,
            116.56,
            111.01,
            96.77,
            95.83,
            95.84,
            109.08
           ],
           "xaxis": "x",
           "y": [
            28.75,
            31.06,
            14.12,
            28.57,
            16.27,
            35.24,
            29.9,
            32.28,
            25.11,
            27.22,
            40.3
           ],
           "yaxis": "y"
          },
          {
           "customdata": [
            [
             null,
             "football",
             3.79999995231628,
             "first_contact"
            ]
           ],
           "hovertemplate": "club=football<br>frameId=7<br>x=%{x}<br>y=%{y}<br>jerseyNumber=%{customdata[0]}<br>displayName=%{customdata[1]}<br>s=%{customdata[2]}<br>event=%{customdata[3]}<extra></extra>",
           "legendgroup": "football",
           "marker": {
            "color": "#CBB67C",
            "symbol": "circle"
           },
           "mode": "markers",
           "name": "football",
           "orientation": "v",
           "showlegend": true,
           "type": "scatter",
           "x": [
            109.040000915527
           ],
           "xaxis": "x",
           "y": [
            39.939998626709
           ],
           "yaxis": "y"
          }
         ],
         "name": "7"
        },
        {
         "data": [
          {
           "customdata": [
            [
             91,
             "Fletcher Cox",
             1.81,
             null
            ],
            [
             2,
             "Darius Slay",
             3.59,
             null
            ],
            [
             24,
             "James Bradberry",
             2.42,
             null
            ],
            [
             97,
             "Javon Hargrave",
             0.62,
             null
            ],
            [
             43,
             "Kyzir White",
             2.3,
             null
            ],
            [
             29,
             "Avonte Maddox",
             4.68,
             null
            ],
            [
             94,
             "Josh Sweat",
             2.02,
             null
            ],
            [
             23,
             "Chauncey Gardner-Johnson",
             2.59,
             null
            ],
            [
             22,
             "Marcus Epps",
             4.99,
             null
            ],
            [
             57,
             "T.J. Edwards",
             4.28,
             null
            ],
            [
             48,
             "Patrick Johnson",
             3.7,
             null
            ]
           ],
           "hovertemplate": "club=PHI<br>frameId=8<br>x=%{x}<br>y=%{y}<br>jerseyNumber=%{customdata[0]}<br>displayName=%{customdata[1]}<br>s=%{customdata[2]}<br>event=%{customdata[3]}<extra></extra>",
           "legendgroup": "PHI",
           "marker": {
            "color": "#004C54",
            "symbol": "circle"
           },
           "mode": "markers",
           "name": "PHI",
           "orientation": "v",
           "showlegend": true,
           "type": "scatter",
           "x": [
            102.01,
            111.93,
            114.72,
            98.19,
            110.58,
            117.39,
            98.86,
            113.35,
            109.34,
            108.41,
            94.96
           ],
           "xaxis": "x",
           "y": [
            29.34,
            15.64,
            34.81,
            28.47,
            32.45,
            12.99,
            30.67,
            32.77,
            40.34,
            35.07,
            29.96
           ],
           "yaxis": "y"
          },
          {
           "customdata": [
            [
             16,
             "Jared Goff",
             0.79,
             null
            ],
            [
             68,
             "Taylor Decker",
             0.35,
             null
            ],
            [
             8,
             "Josh Reynolds",
             4.08,
             null
            ],
            [
             77,
             "Frank Ragnow",
             1.38,
             null
            ],
            [
             4,
             "D.J. Chark",
             3.41,
             null
            ],
            [
             88,
             "T.J. Hockenson",
             3.23,
             null
            ],
            [
             32,
             "D'Andre Swift",
             3.95,
             null
            ],
            [
             73,
             "Jonah Jackson",
             2.03,
             null
            ],
            [
             71,
             "Logan Stenberg",
             0.1,
             null
            ],
            [
             58,
             "Penei Sewell",
             0.96,
             null
            ],
            [
             14,
             "Amon-Ra St. Brown",
             4.49,
             null
            ]
           ],
           "hovertemplate": "club=DET<br>frameId=8<br>x=%{x}<br>y=%{y}<br>jerseyNumber=%{customdata[0]}<br>displayName=%{customdata[1]}<br>s=%{customdata[2]}<br>event=%{customdata[3]}<extra></extra>",
           "legendgroup": "DET",
           "marker": {
            "color": "#0076B6",
            "symbol": "circle"
           },
           "mode": "markers",
           "name": "DET",
           "orientation": "v",
           "showlegend": true,
           "type": "scatter",
           "x": [
            97.53,
            96.25,
            117.77,
            100.73,
            110.75,
            116.9,
            111.16,
            96.82,
            95.83,
            95.78,
            109.25
           ],
           "xaxis": "x",
           "y": [
            28.71,
            31.09,
            13.77,
            28.59,
            16.61,
            35.24,
            29.52,
            32.47,
            25.1,
            27.29,
            39.88
           ],
           "yaxis": "y"
          },
          {
           "customdata": [
            [
             null,
             "football",
             3.55999994277954,
             null
            ]
           ],
           "hovertemplate": "club=football<br>frameId=8<br>x=%{x}<br>y=%{y}<br>jerseyNumber=%{customdata[0]}<br>displayName=%{customdata[1]}<br>s=%{customdata[2]}<br>event=%{customdata[3]}<extra></extra>",
           "legendgroup": "football",
           "marker": {
            "color": "#CBB67C",
            "symbol": "circle"
           },
           "mode": "markers",
           "name": "football",
           "orientation": "v",
           "showlegend": true,
           "type": "scatter",
           "x": [
            109.26000213623
           ],
           "xaxis": "x",
           "y": [
            39.560001373291
           ],
           "yaxis": "y"
          }
         ],
         "name": "8"
        },
        {
         "data": [
          {
           "customdata": [
            [
             91,
             "Fletcher Cox",
             1.86,
             null
            ],
            [
             2,
             "Darius Slay",
             3.48,
             null
            ],
            [
             24,
             "James Bradberry",
             1.96,
             null
            ],
            [
             97,
             "Javon Hargrave",
             0.45,
             null
            ],
            [
             43,
             "Kyzir White",
             1.97,
             null
            ],
            [
             29,
             "Avonte Maddox",
             4.31,
             null
            ],
            [
             94,
             "Josh Sweat",
             2.02,
             null
            ],
            [
             23,
             "Chauncey Gardner-Johnson",
             2.71,
             null
            ],
            [
             22,
             "Marcus Epps",
             4.96,
             null
            ],
            [
             57,
             "T.J. Edwards",
             4.44,
             null
            ],
            [
             48,
             "Patrick Johnson",
             3.88,
             null
            ]
           ],
           "hovertemplate": "club=PHI<br>frameId=9<br>x=%{x}<br>y=%{y}<br>jerseyNumber=%{customdata[0]}<br>displayName=%{customdata[1]}<br>s=%{customdata[2]}<br>event=%{customdata[3]}<extra></extra>",
           "legendgroup": "PHI",
           "marker": {
            "color": "#004C54",
            "symbol": "circle"
           },
           "mode": "markers",
           "name": "PHI",
           "orientation": "v",
           "showlegend": true,
           "type": "scatter",
           "x": [
            102.19,
            111.93,
            114.93,
            98.16,
            110.76,
            117.64,
            99.06,
            113.31,
            109.34,
            108.71,
            95.06
           ],
           "xaxis": "x",
           "y": [
            29.43,
            15.99,
            34.85,
            28.42,
            32.33,
            12.62,
            30.6,
            33.03,
            39.84,
            35.39,
            30.33
           ],
           "yaxis": "y"
          },
          {
           "customdata": [
            [
             16,
             "Jared Goff",
             0.65,
             null
            ],
            [
             68,
             "Taylor Decker",
             0.37,
             null
            ],
            [
             8,
             "Josh Reynolds",
             3.58,
             null
            ],
            [
             77,
             "Frank Ragnow",
             1.58,
             null
            ],
            [
             4,
             "D.J. Chark",
             3.32,
             null
            ],
            [
             88,
             "T.J. Hockenson",
             2.85,
             null
            ],
            [
             32,
             "D'Andre Swift",
             3.61,
             null
            ],
            [
             73,
             "Jonah Jackson",
             1.87,
             null
            ],
            [
             71,
             "Logan Stenberg",
             0.29,
             null
            ],
            [
             58,
             "Penei Sewell",
             0.88,
             null
            ],
            [
             14,
             "Amon-Ra St. Brown",
             4.39,
             null
            ]
           ],
           "hovertemplate": "club=DET<br>frameId=9<br>x=%{x}<br>y=%{y}<br>jerseyNumber=%{customdata[0]}<br>displayName=%{customdata[1]}<br>s=%{customdata[2]}<br>event=%{customdata[3]}<extra></extra>",
           "legendgroup": "DET",
           "marker": {
            "color": "#0076B6",
            "symbol": "circle"
           },
           "mode": "markers",
           "name": "DET",
           "orientation": "v",
           "showlegend": true,
           "type": "scatter",
           "x": [
            97.47,
            96.25,
            117.98,
            100.89,
            110.74,
            117.2,
            111.26,
            96.85,
            95.86,
            95.73,
            109.43
           ],
           "xaxis": "x",
           "y": [
            28.68,
            31.13,
            13.47,
            28.63,
            16.95,
            35.25,
            29.15,
            32.66,
            25.1,
            27.37,
            39.48
           ],
           "yaxis": "y"
          },
          {
           "customdata": [
            [
             null,
             "football",
             3.25,
             null
            ]
           ],
           "hovertemplate": "club=football<br>frameId=9<br>x=%{x}<br>y=%{y}<br>jerseyNumber=%{customdata[0]}<br>displayName=%{customdata[1]}<br>s=%{customdata[2]}<br>event=%{customdata[3]}<extra></extra>",
           "legendgroup": "football",
           "marker": {
            "color": "#CBB67C",
            "symbol": "circle"
           },
           "mode": "markers",
           "name": "football",
           "orientation": "v",
           "showlegend": true,
           "type": "scatter",
           "x": [
            109.410003662109
           ],
           "xaxis": "x",
           "y": [
            39.2700004577637
           ],
           "yaxis": "y"
          }
         ],
         "name": "9"
        },
        {
         "data": [
          {
           "customdata": [
            [
             91,
             "Fletcher Cox",
             1.88,
             null
            ],
            [
             2,
             "Darius Slay",
             3.26,
             null
            ],
            [
             24,
             "James Bradberry",
             1.57,
             null
            ],
            [
             97,
             "Javon Hargrave",
             0.3,
             null
            ],
            [
             43,
             "Kyzir White",
             1.57,
             null
            ],
            [
             29,
             "Avonte Maddox",
             3.95,
             null
            ],
            [
             94,
             "Josh Sweat",
             2.03,
             null
            ],
            [
             23,
             "Chauncey Gardner-Johnson",
             2.78,
             null
            ],
            [
             22,
             "Marcus Epps",
             4.91,
             null
            ],
            [
             57,
             "T.J. Edwards",
             4.52,
             null
            ],
            [
             48,
             "Patrick Johnson",
             4.1,
             null
            ]
           ],
           "hovertemplate": "club=PHI<br>frameId=10<br>x=%{x}<br>y=%{y}<br>jerseyNumber=%{customdata[0]}<br>displayName=%{customdata[1]}<br>s=%{customdata[2]}<br>event=%{customdata[3]}<extra></extra>",
           "legendgroup": "PHI",
           "marker": {
            "color": "#004C54",
            "symbol": "circle"
           },
           "mode": "markers",
           "name": "PHI",
           "orientation": "v",
           "showlegend": true,
           "type": "scatter",
           "x": [
            102.36,
            111.92,
            115.1,
            98.15,
            110.9,
            117.86,
            99.26,
            113.27,
            109.37,
            109.02,
            95.2
           ],
           "xaxis": "x",
           "y": [
            29.53,
            16.33,
            34.91,
            28.39,
            32.24,
            12.27,
            30.54,
            33.3,
            39.35,
            35.71,
            30.71
           ],
           "yaxis": "y"
          },
          {
           "customdata": [
            [
             16,
             "Jared Goff",
             0.52,
             null
            ],
            [
             68,
             "Taylor Decker",
             0.44,
             null
            ],
            [
             8,
             "Josh Reynolds",
             3.15,
             null
            ],
            [
             77,
             "Frank Ragnow",
             1.73,
             null
            ],
            [
             4,
             "D.J. Chark",
             3.22,
             null
            ],
            [
             88,
             "T.J. Hockenson",
             2.53,
             null
            ],
            [
             32,
             "D'Andre Swift",
             3.31,
             null
            ],
            [
             73,
             "Jonah Jackson",
             1.71,
             null
            ],
            [
             71,
             "Logan Stenberg",
             0.49,
             null
            ],
            [
             58,
             "Penei Sewell",
             0.79,
             null
            ],
            [
             14,
             "Amon-Ra St. Brown",
             4.28,
             null
            ]
           ],
           "hovertemplate": "club=DET<br>frameId=10<br>x=%{x}<br>y=%{y}<br>jerseyNumber=%{customdata[0]}<br>displayName=%{customdata[1]}<br>s=%{customdata[2]}<br>event=%{customdata[3]}<extra></extra>",
           "legendgroup": "DET",
           "marker": {
            "color": "#0076B6",
            "symbol": "circle"
           },
           "mode": "markers",
           "name": "DET",
           "orientation": "v",
           "showlegend": true,
           "type": "scatter",
           "x": [
            97.42,
            96.25,
            118.19,
            101.05,
            110.74,
            117.47,
            111.34,
            96.89,
            95.91,
            95.71,
            109.61
           ],
           "xaxis": "x",
           "y": [
            28.66,
            31.18,
            13.21,
            28.69,
            17.28,
            35.27,
            28.81,
            32.83,
            25.11,
            27.45,
            39.08
           ],
           "yaxis": "y"
          },
          {
           "customdata": [
            [
             null,
             "football",
             3.14000010490417,
             null
            ]
           ],
           "hovertemplate": "club=football<br>frameId=10<br>x=%{x}<br>y=%{y}<br>jerseyNumber=%{customdata[0]}<br>displayName=%{customdata[1]}<br>s=%{customdata[2]}<br>event=%{customdata[3]}<extra></extra>",
           "legendgroup": "football",
           "marker": {
            "color": "#CBB67C",
            "symbol": "circle"
           },
           "mode": "markers",
           "name": "football",
           "orientation": "v",
           "showlegend": true,
           "type": "scatter",
           "x": [
            109.559997558594
           ],
           "xaxis": "x",
           "y": [
            38.9799995422363
           ],
           "yaxis": "y"
          }
         ],
         "name": "10"
        },
        {
         "data": [
          {
           "customdata": [
            [
             91,
             "Fletcher Cox",
             1.84,
             null
            ],
            [
             2,
             "Darius Slay",
             3.03,
             null
            ],
            [
             24,
             "James Bradberry",
             1.32,
             null
            ],
            [
             97,
             "Javon Hargrave",
             0.23,
             null
            ],
            [
             43,
             "Kyzir White",
             1.17,
             null
            ],
            [
             29,
             "Avonte Maddox",
             3.55,
             null
            ],
            [
             94,
             "Josh Sweat",
             1.98,
             null
            ],
            [
             23,
             "Chauncey Gardner-Johnson",
             2.77,
             null
            ],
            [
             22,
             "Marcus Epps",
             4.81,
             null
            ],
            [
             57,
             "T.J. Edwards",
             4.53,
             null
            ],
            [
             48,
             "Patrick Johnson",
             4.26,
             null
            ]
           ],
           "hovertemplate": "club=PHI<br>frameId=11<br>x=%{x}<br>y=%{y}<br>jerseyNumber=%{customdata[0]}<br>displayName=%{customdata[1]}<br>s=%{customdata[2]}<br>event=%{customdata[3]}<extra></extra>",
           "legendgroup": "PHI",
           "marker": {
            "color": "#004C54",
            "symbol": "circle"
           },
           "mode": "markers",
           "name": "PHI",
           "orientation": "v",
           "showlegend": true,
           "type": "scatter",
           "x": [
            102.52,
            111.91,
            115.22,
            98.13,
            111.02,
            118.05,
            99.46,
            113.24,
            109.4,
            109.34,
            95.36
           ],
           "xaxis": "x",
           "y": [
            29.62,
            16.65,
            35,
            28.36,
            32.18,
            11.96,
            30.47,
            33.58,
            38.86,
            36.03,
            31.1
           ],
           "yaxis": "y"
          },
          {
           "customdata": [
            [
             16,
             "Jared Goff",
             0.39,
             null
            ],
            [
             68,
             "Taylor Decker",
             0.48,
             null
            ],
            [
             8,
             "Josh Reynolds",
             2.67,
             null
            ],
            [
             77,
             "Frank Ragnow",
             1.87,
             null
            ],
            [
             4,
             "D.J. Chark",
             3.08,
             null
            ],
            [
             88,
             "T.J. Hockenson",
             2.17,
             null
            ],
            [
             32,
             "D'Andre Swift",
             3.03,
             null
            ],
            [
             73,
             "Jonah Jackson",
             1.42,
             null
            ],
            [
             71,
             "Logan Stenberg",
             0.64,
             null
            ],
            [
             58,
             "Penei Sewell",
             0.74,
             null
            ],
            [
             14,
             "Amon-Ra St. Brown",
             4.06,
             null
            ]
           ],
           "hovertemplate": "club=DET<br>frameId=11<br>x=%{x}<br>y=%{y}<br>jerseyNumber=%{customdata[0]}<br>displayName=%{customdata[1]}<br>s=%{customdata[2]}<br>event=%{customdata[3]}<extra></extra>",
           "legendgroup": "DET",
           "marker": {
            "color": "#0076B6",
            "symbol": "circle"
           },
           "mode": "markers",
           "name": "DET",
           "orientation": "v",
           "showlegend": true,
           "type": "scatter",
           "x": [
            97.38,
            96.27,
            118.37,
            101.23,
            110.75,
            117.7,
            111.38,
            96.92,
            95.97,
            95.69,
            109.79
           ],
           "xaxis": "x",
           "y": [
            28.65,
            31.22,
            13,
            28.76,
            17.59,
            35.28,
            28.5,
            32.97,
            25.11,
            27.53,
            38.71
           ],
           "yaxis": "y"
          },
          {
           "customdata": [
            [
             null,
             "football",
             2.96000003814697,
             null
            ]
           ],
           "hovertemplate": "club=football<br>frameId=11<br>x=%{x}<br>y=%{y}<br>jerseyNumber=%{customdata[0]}<br>displayName=%{customdata[1]}<br>s=%{customdata[2]}<br>event=%{customdata[3]}<extra></extra>",
           "legendgroup": "football",
           "marker": {
            "color": "#CBB67C",
            "symbol": "circle"
           },
           "mode": "markers",
           "name": "football",
           "orientation": "v",
           "showlegend": true,
           "type": "scatter",
           "x": [
            109.709999084473
           ],
           "xaxis": "x",
           "y": [
            38.689998626709
           ],
           "yaxis": "y"
          }
         ],
         "name": "11"
        },
        {
         "data": [
          {
           "customdata": [
            [
             91,
             "Fletcher Cox",
             1.82,
             null
            ],
            [
             2,
             "Darius Slay",
             2.79,
             null
            ],
            [
             24,
             "James Bradberry",
             1.17,
             null
            ],
            [
             97,
             "Javon Hargrave",
             0.14,
             null
            ],
            [
             43,
             "Kyzir White",
             0.83,
             null
            ],
            [
             29,
             "Avonte Maddox",
             3.23,
             null
            ],
            [
             94,
             "Josh Sweat",
             1.89,
             null
            ],
            [
             23,
             "Chauncey Gardner-Johnson",
             2.69,
             null
            ],
            [
             22,
             "Marcus Epps",
             4.62,
             null
            ],
            [
             57,
             "T.J. Edwards",
             4.49,
             null
            ],
            [
             48,
             "Patrick Johnson",
             4.38,
             null
            ]
           ],
           "hovertemplate": "club=PHI<br>frameId=12<br>x=%{x}<br>y=%{y}<br>jerseyNumber=%{customdata[0]}<br>displayName=%{customdata[1]}<br>s=%{customdata[2]}<br>event=%{customdata[3]}<extra></extra>",
           "legendgroup": "PHI",
           "marker": {
            "color": "#004C54",
            "symbol": "circle"
           },
           "mode": "markers",
           "name": "PHI",
           "orientation": "v",
           "showlegend": true,
           "type": "scatter",
           "x": [
            102.68,
            111.88,
            115.29,
            98.13,
            111.12,
            118.23,
            99.64,
            113.2,
            109.47,
            109.67,
            95.54
           ],
           "xaxis": "x",
           "y": [
            29.73,
            16.94,
            35.09,
            28.34,
            32.15,
            11.67,
            30.42,
            33.85,
            38.41,
            36.34,
            31.49
           ],
           "yaxis": "y"
          },
          {
           "customdata": [
            [
             16,
             "Jared Goff",
             0.19,
             null
            ],
            [
             68,
             "Taylor Decker",
             0.52,
             null
            ],
            [
             8,
             "Josh Reynolds",
             2.11,
             null
            ],
            [
             77,
             "Frank Ragnow",
             1.96,
             null
            ],
            [
             4,
             "D.J. Chark",
             2.94,
             null
            ],
            [
             88,
             "T.J. Hockenson",
             1.89,
             null
            ],
            [
             32,
             "D'Andre Swift",
             2.8,
             null
            ],
            [
             73,
             "Jonah Jackson",
             1.18,
             null
            ],
            [
             71,
             "Logan Stenberg",
             0.8,
             null
            ],
            [
             58,
             "Penei Sewell",
             0.75,
             null
            ],
            [
             14,
             "Amon-Ra St. Brown",
             3.72,
             null
            ]
           ],
           "hovertemplate": "club=DET<br>frameId=12<br>x=%{x}<br>y=%{y}<br>jerseyNumber=%{customdata[0]}<br>displayName=%{customdata[1]}<br>s=%{customdata[2]}<br>event=%{customdata[3]}<extra></extra>",
           "legendgroup": "DET",
           "marker": {
            "color": "#0076B6",
            "symbol": "circle"
           },
           "mode": "markers",
           "name": "DET",
           "orientation": "v",
           "showlegend": true,
           "type": "scatter",
           "x": [
            97.36,
            96.3,
            118.52,
            101.4,
            110.75,
            117.9,
            111.39,
            96.92,
            96.05,
            95.7,
            109.95
           ],
           "xaxis": "x",
           "y": [
            28.64,
            31.26,
            12.84,
            28.84,
            17.89,
            35.29,
            28.21,
            33.1,
            25.12,
            27.61,
            38.36
           ],
           "yaxis": "y"
          },
          {
           "customdata": [
            [
             null,
             "football",
             2.82999992370605,
             null
            ]
           ],
           "hovertemplate": "club=football<br>frameId=12<br>x=%{x}<br>y=%{y}<br>jerseyNumber=%{customdata[0]}<br>displayName=%{customdata[1]}<br>s=%{customdata[2]}<br>event=%{customdata[3]}<extra></extra>",
           "legendgroup": "football",
           "marker": {
            "color": "#CBB67C",
            "symbol": "circle"
           },
           "mode": "markers",
           "name": "football",
           "orientation": "v",
           "showlegend": true,
           "type": "scatter",
           "x": [
            109.849998474121
           ],
           "xaxis": "x",
           "y": [
            38.4199981689453
           ],
           "yaxis": "y"
          }
         ],
         "name": "12"
        },
        {
         "data": [
          {
           "customdata": [
            [
             91,
             "Fletcher Cox",
             1.86,
             "touchdown"
            ],
            [
             2,
             "Darius Slay",
             2.56,
             "touchdown"
            ],
            [
             24,
             "James Bradberry",
             1.18,
             "touchdown"
            ],
            [
             97,
             "Javon Hargrave",
             0.01,
             "touchdown"
            ],
            [
             43,
             "Kyzir White",
             0.59,
             "touchdown"
            ],
            [
             29,
             "Avonte Maddox",
             2.92,
             "touchdown"
            ],
            [
             94,
             "Josh Sweat",
             1.81,
             "touchdown"
            ],
            [
             23,
             "Chauncey Gardner-Johnson",
             2.54,
             "touchdown"
            ],
            [
             22,
             "Marcus Epps",
             4.22,
             "touchdown"
            ],
            [
             57,
             "T.J. Edwards",
             4.37,
             "touchdown"
            ],
            [
             48,
             "Patrick Johnson",
             4.47,
             "touchdown"
            ]
           ],
           "hovertemplate": "club=PHI<br>frameId=13<br>x=%{x}<br>y=%{y}<br>jerseyNumber=%{customdata[0]}<br>displayName=%{customdata[1]}<br>s=%{customdata[2]}<br>event=%{customdata[3]}<extra></extra>",
           "legendgroup": "PHI",
           "marker": {
            "color": "#004C54",
            "symbol": "circle"
           },
           "mode": "markers",
           "name": "PHI",
           "orientation": "v",
           "showlegend": true,
           "type": "scatter",
           "x": [
            102.83,
            111.85,
            115.33,
            98.13,
            111.19,
            118.39,
            99.83,
            113.17,
            109.49,
            109.99,
            95.74
           ],
           "xaxis": "x",
           "y": [
            29.85,
            17.2,
            35.2,
            28.34,
            32.15,
            11.41,
            30.38,
            34.1,
            38,
            36.64,
            31.88
           ],
           "yaxis": "y"
          },
          {
           "customdata": [
            [
             16,
             "Jared Goff",
             0.08,
             "touchdown"
            ],
            [
             68,
             "Taylor Decker",
             0.56,
             "touchdown"
            ],
            [
             8,
             "Josh Reynolds",
             1.67,
             "touchdown"
            ],
            [
             77,
             "Frank Ragnow",
             2.02,
             "touchdown"
            ],
            [
             4,
             "D.J. Chark",
             2.83,
             "touchdown"
            ],
            [
             88,
             "T.J. Hockenson",
             1.63,
             "touchdown"
            ],
            [
             32,
             "D'Andre Swift",
             2.51,
             "touchdown"
            ],
            [
             73,
             "Jonah Jackson",
             0.98,
             "touchdown"
            ],
            [
             71,
             "Logan Stenberg",
             0.92,
             "touchdown"
            ],
            [
             58,
             "Penei Sewell",
             0.74,
             "touchdown"
            ],
            [
             14,
             "Amon-Ra St. Brown",
             3.33,
             "touchdown"
            ]
           ],
           "hovertemplate": "club=DET<br>frameId=13<br>x=%{x}<br>y=%{y}<br>jerseyNumber=%{customdata[0]}<br>displayName=%{customdata[1]}<br>s=%{customdata[2]}<br>event=%{customdata[3]}<extra></extra>",
           "legendgroup": "DET",
           "marker": {
            "color": "#0076B6",
            "symbol": "circle"
           },
           "mode": "markers",
           "name": "DET",
           "orientation": "v",
           "showlegend": true,
           "type": "scatter",
           "x": [
            97.35,
            96.34,
            118.65,
            101.58,
            110.74,
            118.07,
            111.39,
            96.92,
            96.14,
            95.71,
            110.09
           ],
           "xaxis": "x",
           "y": [
            28.65,
            31.31,
            12.7,
            28.94,
            18.18,
            35.31,
            27.94,
            33.21,
            25.14,
            27.69,
            38.05
           ],
           "yaxis": "y"
          },
          {
           "customdata": [
            [
             null,
             "football",
             2.61999988555908,
             "touchdown"
            ]
           ],
           "hovertemplate": "club=football<br>frameId=13<br>x=%{x}<br>y=%{y}<br>jerseyNumber=%{customdata[0]}<br>displayName=%{customdata[1]}<br>s=%{customdata[2]}<br>event=%{customdata[3]}<extra></extra>",
           "legendgroup": "football",
           "marker": {
            "color": "#CBB67C",
            "symbol": "circle"
           },
           "mode": "markers",
           "name": "football",
           "orientation": "v",
           "showlegend": true,
           "type": "scatter",
           "x": [
            109.970001220703
           ],
           "xaxis": "x",
           "y": [
            38.1599998474121
           ],
           "yaxis": "y"
          }
         ],
         "name": "13"
        },
        {
         "data": [
          {
           "customdata": [
            [
             91,
             "Fletcher Cox",
             1.86,
             null
            ],
            [
             2,
             "Darius Slay",
             2.37,
             null
            ],
            [
             24,
             "James Bradberry",
             1.29,
             null
            ],
            [
             97,
             "Javon Hargrave",
             0.1,
             null
            ],
            [
             43,
             "Kyzir White",
             0.42,
             null
            ],
            [
             29,
             "Avonte Maddox",
             2.6,
             null
            ],
            [
             94,
             "Josh Sweat",
             1.67,
             null
            ],
            [
             23,
             "Chauncey Gardner-Johnson",
             2.3,
             null
            ],
            [
             22,
             "Marcus Epps",
             3.84,
             null
            ],
            [
             57,
             "T.J. Edwards",
             4.17,
             null
            ],
            [
             48,
             "Patrick Johnson",
             4.48,
             null
            ]
           ],
           "hovertemplate": "club=PHI<br>frameId=14<br>x=%{x}<br>y=%{y}<br>jerseyNumber=%{customdata[0]}<br>displayName=%{customdata[1]}<br>s=%{customdata[2]}<br>event=%{customdata[3]}<extra></extra>",
           "legendgroup": "PHI",
           "marker": {
            "color": "#004C54",
            "symbol": "circle"
           },
           "mode": "markers",
           "name": "PHI",
           "orientation": "v",
           "showlegend": true,
           "type": "scatter",
           "x": [
            102.98,
            111.8,
            115.33,
            98.13,
            111.24,
            118.54,
            99.99,
            113.15,
            109.52,
            110.31,
            95.95
           ],
           "xaxis": "x",
           "y": [
            29.97,
            17.44,
            35.33,
            28.35,
            32.16,
            11.17,
            30.35,
            34.34,
            37.62,
            36.92,
            32.28
           ],
           "yaxis": "y"
          },
          {
           "customdata": [
            [
             16,
             "Jared Goff",
             0.19,
             null
            ],
            [
             68,
             "Taylor Decker",
             0.63,
             null
            ],
            [
             8,
             "Josh Reynolds",
             1.21,
             null
            ],
            [
             77,
             "Frank Ragnow",
             2.13,
             null
            ],
            [
             4,
             "D.J. Chark",
             2.74,
             null
            ],
            [
             88,
             "T.J. Hockenson",
             1.34,
             null
            ],
            [
             32,
             "D'Andre Swift",
             2.32,
             null
            ],
            [
             73,
             "Jonah Jackson",
             0.78,
             null
            ],
            [
             71,
             "Logan Stenberg",
             1.04,
             null
            ],
            [
             58,
             "Penei Sewell",
             0.79,
             null
            ],
            [
             14,
             "Amon-Ra St. Brown",
             2.9,
             null
            ]
           ],
           "hovertemplate": "club=DET<br>frameId=14<br>x=%{x}<br>y=%{y}<br>jerseyNumber=%{customdata[0]}<br>displayName=%{customdata[1]}<br>s=%{customdata[2]}<br>event=%{customdata[3]}<extra></extra>",
           "legendgroup": "DET",
           "marker": {
            "color": "#0076B6",
            "symbol": "circle"
           },
           "mode": "markers",
           "name": "DET",
           "orientation": "v",
           "showlegend": true,
           "type": "scatter",
           "x": [
            97.36,
            96.38,
            118.76,
            101.78,
            110.73,
            118.22,
            111.36,
            96.9,
            96.24,
            95.74,
            110.21
           ],
           "xaxis": "x",
           "y": [
            28.66,
            31.35,
            12.61,
            29.05,
            18.46,
            35.33,
            27.7,
            33.29,
            25.17,
            27.77,
            37.77
           ],
           "yaxis": "y"
          },
          {
           "customdata": [
            [
             null,
             "football",
             2.45000004768372,
             null
            ]
           ],
           "hovertemplate": "club=football<br>frameId=14<br>x=%{x}<br>y=%{y}<br>jerseyNumber=%{customdata[0]}<br>displayName=%{customdata[1]}<br>s=%{customdata[2]}<br>event=%{customdata[3]}<extra></extra>",
           "legendgroup": "football",
           "marker": {
            "color": "#CBB67C",
            "symbol": "circle"
           },
           "mode": "markers",
           "name": "football",
           "orientation": "v",
           "showlegend": true,
           "type": "scatter",
           "x": [
            110.089996337891
           ],
           "xaxis": "x",
           "y": [
            37.9300003051758
           ],
           "yaxis": "y"
          }
         ],
         "name": "14"
        },
        {
         "data": [
          {
           "customdata": [
            [
             91,
             "Fletcher Cox",
             1.85,
             null
            ],
            [
             2,
             "Darius Slay",
             2.21,
             null
            ],
            [
             24,
             "James Bradberry",
             1.34,
             null
            ],
            [
             97,
             "Javon Hargrave",
             0.2,
             null
            ],
            [
             43,
             "Kyzir White",
             0.36,
             null
            ],
            [
             29,
             "Avonte Maddox",
             2.27,
             null
            ],
            [
             94,
             "Josh Sweat",
             1.54,
             null
            ],
            [
             23,
             "Chauncey Gardner-Johnson",
             2.01,
             null
            ],
            [
             22,
             "Marcus Epps",
             3.36,
             null
            ],
            [
             57,
             "T.J. Edwards",
             3.98,
             null
            ],
            [
             48,
             "Patrick Johnson",
             4.44,
             null
            ]
           ],
           "hovertemplate": "club=PHI<br>frameId=15<br>x=%{x}<br>y=%{y}<br>jerseyNumber=%{customdata[0]}<br>displayName=%{customdata[1]}<br>s=%{customdata[2]}<br>event=%{customdata[3]}<extra></extra>",
           "legendgroup": "PHI",
           "marker": {
            "color": "#004C54",
            "symbol": "circle"
           },
           "mode": "markers",
           "name": "PHI",
           "orientation": "v",
           "showlegend": true,
           "type": "scatter",
           "x": [
            103.12,
            111.74,
            115.3,
            98.15,
            111.26,
            118.66,
            100.15,
            113.13,
            109.54,
            110.62,
            96.16
           ],
           "xaxis": "x",
           "y": [
            30.1,
            17.67,
            35.45,
            28.37,
            32.19,
            10.97,
            30.33,
            34.55,
            37.29,
            37.19,
            32.67
           ],
           "yaxis": "y"
          },
          {
           "customdata": [
            [
             16,
             "Jared Goff",
             0.38,
             null
            ],
            [
             68,
             "Taylor Decker",
             0.71,
             null
            ],
            [
             8,
             "Josh Reynolds",
             0.83,
             null
            ],
            [
             77,
             "Frank Ragnow",
             2.1,
             null
            ],
            [
             4,
             "D.J. Chark",
             2.62,
             null
            ],
            [
             88,
             "T.J. Hockenson",
             1.06,
             null
            ],
            [
             32,
             "D'Andre Swift",
             2.07,
             null
            ],
            [
             73,
             "Jonah Jackson",
             0.58,
             null
            ],
            [
             71,
             "Logan Stenberg",
             1.12,
             null
            ],
            [
             58,
             "Penei Sewell",
             0.86,
             null
            ],
            [
             14,
             "Amon-Ra St. Brown",
             2.47,
             null
            ]
           ],
           "hovertemplate": "club=DET<br>frameId=15<br>x=%{x}<br>y=%{y}<br>jerseyNumber=%{customdata[0]}<br>displayName=%{customdata[1]}<br>s=%{customdata[2]}<br>event=%{customdata[3]}<extra></extra>",
           "legendgroup": "DET",
           "marker": {
            "color": "#0076B6",
            "symbol": "circle"
           },
           "mode": "markers",
           "name": "DET",
           "orientation": "v",
           "showlegend": true,
           "type": "scatter",
           "x": [
            97.39,
            96.43,
            118.85,
            101.97,
            110.72,
            118.33,
            111.32,
            96.87,
            96.35,
            95.78,
            110.31
           ],
           "xaxis": "x",
           "y": [
            28.68,
            31.4,
            12.56,
            29.14,
            18.73,
            35.35,
            27.49,
            33.34,
            25.21,
            27.85,
            37.52
           ],
           "yaxis": "y"
          },
          {
           "customdata": [
            [
             null,
             "football",
             2.20000004768372,
             null
            ]
           ],
           "hovertemplate": "club=football<br>frameId=15<br>x=%{x}<br>y=%{y}<br>jerseyNumber=%{customdata[0]}<br>displayName=%{customdata[1]}<br>s=%{customdata[2]}<br>event=%{customdata[3]}<extra></extra>",
           "legendgroup": "football",
           "marker": {
            "color": "#CBB67C",
            "symbol": "circle"
           },
           "mode": "markers",
           "name": "football",
           "orientation": "v",
           "showlegend": true,
           "type": "scatter",
           "x": [
            110.169998168945
           ],
           "xaxis": "x",
           "y": [
            37.7599983215332
           ],
           "yaxis": "y"
          }
         ],
         "name": "15"
        },
        {
         "data": [
          {
           "customdata": [
            [
             91,
             "Fletcher Cox",
             1.82,
             null
            ],
            [
             2,
             "Darius Slay",
             2.08,
             null
            ],
            [
             24,
             "James Bradberry",
             1.42,
             null
            ],
            [
             97,
             "Javon Hargrave",
             0.26,
             null
            ],
            [
             43,
             "Kyzir White",
             0.46,
             null
            ],
            [
             29,
             "Avonte Maddox",
             1.96,
             null
            ],
            [
             94,
             "Josh Sweat",
             1.42,
             null
            ],
            [
             23,
             "Chauncey Gardner-Johnson",
             1.73,
             null
            ],
            [
             22,
             "Marcus Epps",
             2.97,
             null
            ],
            [
             57,
             "T.J. Edwards",
             3.75,
             null
            ],
            [
             48,
             "Patrick Johnson",
             4.34,
             null
            ]
           ],
           "hovertemplate": "club=PHI<br>frameId=16<br>x=%{x}<br>y=%{y}<br>jerseyNumber=%{customdata[0]}<br>displayName=%{customdata[1]}<br>s=%{customdata[2]}<br>event=%{customdata[3]}<extra></extra>",
           "legendgroup": "PHI",
           "marker": {
            "color": "#004C54",
            "symbol": "circle"
           },
           "mode": "markers",
           "name": "PHI",
           "orientation": "v",
           "showlegend": true,
           "type": "scatter",
           "x": [
            103.26,
            111.68,
            115.25,
            98.16,
            111.27,
            118.77,
            100.3,
            113.12,
            109.56,
            110.91,
            96.38
           ],
           "xaxis": "x",
           "y": [
            30.22,
            17.87,
            35.58,
            28.39,
            32.23,
            10.79,
            30.32,
            34.74,
            36.97,
            37.44,
            33.05
           ],
           "yaxis": "y"
          },
          {
           "customdata": [
            [
             16,
             "Jared Goff",
             0.53,
             null
            ],
            [
             68,
             "Taylor Decker",
             0.78,
             null
            ],
            [
             8,
             "Josh Reynolds",
             0.62,
             null
            ],
            [
             77,
             "Frank Ragnow",
             2.08,
             null
            ],
            [
             4,
             "D.J. Chark",
             2.54,
             null
            ],
            [
             88,
             "T.J. Hockenson",
             0.79,
             null
            ],
            [
             32,
             "D'Andre Swift",
             1.88,
             null
            ],
            [
             73,
             "Jonah Jackson",
             0.42,
             null
            ],
            [
             71,
             "Logan Stenberg",
             1.16,
             null
            ],
            [
             58,
             "Penei Sewell",
             0.96,
             null
            ],
            [
             14,
             "Amon-Ra St. Brown",
             2.04,
             null
            ]
           ],
           "hovertemplate": "club=DET<br>frameId=16<br>x=%{x}<br>y=%{y}<br>jerseyNumber=%{customdata[0]}<br>displayName=%{customdata[1]}<br>s=%{customdata[2]}<br>event=%{customdata[3]}<extra></extra>",
           "legendgroup": "DET",
           "marker": {
            "color": "#0076B6",
            "symbol": "circle"
           },
           "mode": "markers",
           "name": "DET",
           "orientation": "v",
           "showlegend": true,
           "type": "scatter",
           "x": [
            97.43,
            96.49,
            118.92,
            102.15,
            110.7,
            118.42,
            111.26,
            96.84,
            96.46,
            95.83,
            110.39
           ],
           "xaxis": "x",
           "y": [
            28.7,
            31.45,
            12.55,
            29.24,
            18.99,
            35.36,
            27.31,
            33.37,
            25.24,
            27.93,
            37.31
           ],
           "yaxis": "y"
          },
          {
           "customdata": [
            [
             null,
             "football",
             1.82000005245209,
             null
            ]
           ],
           "hovertemplate": "club=football<br>frameId=16<br>x=%{x}<br>y=%{y}<br>jerseyNumber=%{customdata[0]}<br>displayName=%{customdata[1]}<br>s=%{customdata[2]}<br>event=%{customdata[3]}<extra></extra>",
           "legendgroup": "football",
           "marker": {
            "color": "#CBB67C",
            "symbol": "circle"
           },
           "mode": "markers",
           "name": "football",
           "orientation": "v",
           "showlegend": true,
           "type": "scatter",
           "x": [
            110.23999786377
           ],
           "xaxis": "x",
           "y": [
            37.5999984741211
           ],
           "yaxis": "y"
          }
         ],
         "name": "16"
        },
        {
         "data": [
          {
           "customdata": [
            [
             91,
             "Fletcher Cox",
             1.77,
             null
            ],
            [
             2,
             "Darius Slay",
             1.95,
             null
            ],
            [
             24,
             "James Bradberry",
             1.46,
             null
            ],
            [
             97,
             "Javon Hargrave",
             0.27,
             null
            ],
            [
             43,
             "Kyzir White",
             0.57,
             null
            ],
            [
             29,
             "Avonte Maddox",
             1.64,
             null
            ],
            [
             94,
             "Josh Sweat",
             1.32,
             null
            ],
            [
             23,
             "Chauncey Gardner-Johnson",
             1.45,
             null
            ],
            [
             22,
             "Marcus Epps",
             2.57,
             null
            ],
            [
             57,
             "T.J. Edwards",
             3.4,
             null
            ],
            [
             48,
             "Patrick Johnson",
             4.17,
             null
            ]
           ],
           "hovertemplate": "club=PHI<br>frameId=17<br>x=%{x}<br>y=%{y}<br>jerseyNumber=%{customdata[0]}<br>displayName=%{customdata[1]}<br>s=%{customdata[2]}<br>event=%{customdata[3]}<extra></extra>",
           "legendgroup": "PHI",
           "marker": {
            "color": "#004C54",
            "symbol": "circle"
           },
           "mode": "markers",
           "name": "PHI",
           "orientation": "v",
           "showlegend": true,
           "type": "scatter",
           "x": [
            103.4,
            111.6,
            115.17,
            98.18,
            111.26,
            118.86,
            100.44,
            113.11,
            109.56,
            111.18,
            96.6
           ],
           "xaxis": "x",
           "y": [
            30.34,
            18.06,
            35.7,
            28.41,
            32.28,
            10.64,
            30.32,
            34.9,
            36.7,
            37.66,
            33.41
           ],
           "yaxis": "y"
          },
          {
           "customdata": [
            [
             16,
             "Jared Goff",
             0.73,
             null
            ],
            [
             68,
             "Taylor Decker",
             0.86,
             null
            ],
            [
             8,
             "Josh Reynolds",
             0.57,
             null
            ],
            [
             77,
             "Frank Ragnow",
             2.05,
             null
            ],
            [
             4,
             "D.J. Chark",
             2.44,
             null
            ],
            [
             88,
             "T.J. Hockenson",
             0.53,
             null
            ],
            [
             32,
             "D'Andre Swift",
             1.58,
             null
            ],
            [
             73,
             "Jonah Jackson",
             0.35,
             null
            ],
            [
             71,
             "Logan Stenberg",
             1.19,
             null
            ],
            [
             58,
             "Penei Sewell",
             1.11,
             null
            ],
            [
             14,
             "Amon-Ra St. Brown",
             1.64,
             null
            ]
           ],
           "hovertemplate": "club=DET<br>frameId=17<br>x=%{x}<br>y=%{y}<br>jerseyNumber=%{customdata[0]}<br>displayName=%{customdata[1]}<br>s=%{customdata[2]}<br>event=%{customdata[3]}<extra></extra>",
           "legendgroup": "DET",
           "marker": {
            "color": "#0076B6",
            "symbol": "circle"
           },
           "mode": "markers",
           "name": "DET",
           "orientation": "v",
           "showlegend": true,
           "type": "scatter",
           "x": [
            97.49,
            96.57,
            118.97,
            102.34,
            110.68,
            118.48,
            111.2,
            96.81,
            96.57,
            95.9,
            110.43
           ],
           "xaxis": "x",
           "y": [
            28.73,
            31.49,
            12.57,
            29.35,
            19.24,
            35.38,
            27.15,
            33.38,
            25.3,
            28.03,
            37.13
           ],
           "yaxis": "y"
          },
          {
           "customdata": [
            [
             null,
             "football",
             1.24000000953674,
             null
            ]
           ],
           "hovertemplate": "club=football<br>frameId=17<br>x=%{x}<br>y=%{y}<br>jerseyNumber=%{customdata[0]}<br>displayName=%{customdata[1]}<br>s=%{customdata[2]}<br>event=%{customdata[3]}<extra></extra>",
           "legendgroup": "football",
           "marker": {
            "color": "#CBB67C",
            "symbol": "circle"
           },
           "mode": "markers",
           "name": "football",
           "orientation": "v",
           "showlegend": true,
           "type": "scatter",
           "x": [
            110.23999786377
           ],
           "xaxis": "x",
           "y": [
            37.4900016784668
           ],
           "yaxis": "y"
          }
         ],
         "name": "17"
        }
       ],
       "layout": {
        "annotations": [
         {
          "font": {
           "color": "white",
           "size": 12
          },
          "showarrow": false,
          "text": "LA",
          "textangle": -90,
          "x": 5,
          "y": 26.65
         },
         {
          "font": {
           "color": "white",
           "size": 12
          },
          "showarrow": false,
          "text": "LA",
          "textangle": 90,
          "x": 115,
          "y": 26.65
         },
         {
          "font": {
           "color": "white",
           "size": 12
          },
          "showarrow": false,
          "text": "10",
          "x": 20,
          "y": 8
         },
         {
          "font": {
           "color": "white",
           "size": 12
          },
          "showarrow": false,
          "text": "10",
          "x": 20,
          "y": 45.3
         },
         {
          "font": {
           "color": "white",
           "size": 12
          },
          "showarrow": false,
          "text": "20",
          "x": 30,
          "y": 8
         },
         {
          "font": {
           "color": "white",
           "size": 12
          },
          "showarrow": false,
          "text": "20",
          "x": 30,
          "y": 45.3
         },
         {
          "font": {
           "color": "white",
           "size": 12
          },
          "showarrow": false,
          "text": "30",
          "x": 40,
          "y": 8
         },
         {
          "font": {
           "color": "white",
           "size": 12
          },
          "showarrow": false,
          "text": "30",
          "x": 40,
          "y": 45.3
         },
         {
          "font": {
           "color": "white",
           "size": 12
          },
          "showarrow": false,
          "text": "40",
          "x": 50,
          "y": 8
         },
         {
          "font": {
           "color": "white",
           "size": 12
          },
          "showarrow": false,
          "text": "40",
          "x": 50,
          "y": 45.3
         },
         {
          "font": {
           "color": "white",
           "size": 12
          },
          "showarrow": false,
          "text": "50",
          "x": 60,
          "y": 8
         },
         {
          "font": {
           "color": "white",
           "size": 12
          },
          "showarrow": false,
          "text": "50",
          "x": 60,
          "y": 45.3
         },
         {
          "font": {
           "color": "white",
           "size": 12
          },
          "showarrow": false,
          "text": "40",
          "x": 70,
          "y": 8
         },
         {
          "font": {
           "color": "white",
           "size": 12
          },
          "showarrow": false,
          "text": "40",
          "x": 70,
          "y": 45.3
         },
         {
          "font": {
           "color": "white",
           "size": 12
          },
          "showarrow": false,
          "text": "30",
          "x": 80,
          "y": 8
         },
         {
          "font": {
           "color": "white",
           "size": 12
          },
          "showarrow": false,
          "text": "30",
          "x": 80,
          "y": 45.3
         },
         {
          "font": {
           "color": "white",
           "size": 12
          },
          "showarrow": false,
          "text": "20",
          "x": 90,
          "y": 8
         },
         {
          "font": {
           "color": "white",
           "size": 12
          },
          "showarrow": false,
          "text": "20",
          "x": 90,
          "y": 45.3
         },
         {
          "font": {
           "color": "white",
           "size": 12
          },
          "showarrow": false,
          "text": "10",
          "x": 100,
          "y": 8
         },
         {
          "font": {
           "color": "white",
           "size": 12
          },
          "showarrow": false,
          "text": "10",
          "x": 100,
          "y": 45.3
         },
         {
          "font": {
           "color": "black",
           "size": 14
          },
          "showarrow": false,
          "text": "LA : 14 BUF : 31 || 3rd 4:14 || 3rd and 4",
          "x": 0.5,
          "xref": "paper",
          "y": -0.2,
          "yref": "paper"
         }
        ],
        "height": 533,
        "legend": {
         "title": {
          "text": "club"
         },
         "tracegroupgap": 0
        },
        "plot_bgcolor": "green",
        "shapes": [
         {
          "fillcolor": "blue",
          "opacity": 0.5,
          "type": "rect",
          "x0": 0,
          "x1": 10,
          "y0": 0,
          "y1": 53.3
         },
         {
          "fillcolor": "blue",
          "opacity": 0.5,
          "type": "rect",
          "x0": 110,
          "x1": 120,
          "y0": 0,
          "y1": 53.3
         },
         {
          "line": {
           "color": "blue"
          },
          "type": "line",
          "x0": 106,
          "x1": 106,
          "y0": 0,
          "y1": 53.3
         },
         {
          "line": {
           "color": "yellow"
          },
          "type": "line",
          "x0": 110,
          "x1": 110,
          "y0": 0,
          "y1": 53.3
         },
         {
          "line": {
           "color": "white",
           "width": 1
          },
          "type": "line",
          "x0": 10,
          "x1": 10,
          "y0": 0,
          "y1": 53.3
         },
         {
          "line": {
           "color": "white",
           "width": 1
          },
          "type": "line",
          "x0": 15,
          "x1": 15,
          "y0": 0,
          "y1": 53.3
         },
         {
          "line": {
           "color": "white",
           "width": 1
          },
          "type": "line",
          "x0": 20,
          "x1": 20,
          "y0": 0,
          "y1": 53.3
         },
         {
          "line": {
           "color": "white",
           "width": 1
          },
          "type": "line",
          "x0": 25,
          "x1": 25,
          "y0": 0,
          "y1": 53.3
         },
         {
          "line": {
           "color": "white",
           "width": 1
          },
          "type": "line",
          "x0": 30,
          "x1": 30,
          "y0": 0,
          "y1": 53.3
         },
         {
          "line": {
           "color": "white",
           "width": 1
          },
          "type": "line",
          "x0": 35,
          "x1": 35,
          "y0": 0,
          "y1": 53.3
         },
         {
          "line": {
           "color": "white",
           "width": 1
          },
          "type": "line",
          "x0": 40,
          "x1": 40,
          "y0": 0,
          "y1": 53.3
         },
         {
          "line": {
           "color": "white",
           "width": 1
          },
          "type": "line",
          "x0": 45,
          "x1": 45,
          "y0": 0,
          "y1": 53.3
         },
         {
          "line": {
           "color": "white",
           "width": 1
          },
          "type": "line",
          "x0": 50,
          "x1": 50,
          "y0": 0,
          "y1": 53.3
         },
         {
          "line": {
           "color": "white",
           "width": 1
          },
          "type": "line",
          "x0": 55,
          "x1": 55,
          "y0": 0,
          "y1": 53.3
         },
         {
          "line": {
           "color": "white",
           "width": 1
          },
          "type": "line",
          "x0": 60,
          "x1": 60,
          "y0": 0,
          "y1": 53.3
         },
         {
          "line": {
           "color": "white",
           "width": 1
          },
          "type": "line",
          "x0": 65,
          "x1": 65,
          "y0": 0,
          "y1": 53.3
         },
         {
          "line": {
           "color": "white",
           "width": 1
          },
          "type": "line",
          "x0": 70,
          "x1": 70,
          "y0": 0,
          "y1": 53.3
         },
         {
          "line": {
           "color": "white",
           "width": 1
          },
          "type": "line",
          "x0": 75,
          "x1": 75,
          "y0": 0,
          "y1": 53.3
         },
         {
          "line": {
           "color": "white",
           "width": 1
          },
          "type": "line",
          "x0": 80,
          "x1": 80,
          "y0": 0,
          "y1": 53.3
         },
         {
          "line": {
           "color": "white",
           "width": 1
          },
          "type": "line",
          "x0": 85,
          "x1": 85,
          "y0": 0,
          "y1": 53.3
         },
         {
          "line": {
           "color": "white",
           "width": 1
          },
          "type": "line",
          "x0": 90,
          "x1": 90,
          "y0": 0,
          "y1": 53.3
         },
         {
          "line": {
           "color": "white",
           "width": 1
          },
          "type": "line",
          "x0": 95,
          "x1": 95,
          "y0": 0,
          "y1": 53.3
         },
         {
          "line": {
           "color": "white",
           "width": 1
          },
          "type": "line",
          "x0": 100,
          "x1": 100,
          "y0": 0,
          "y1": 53.3
         },
         {
          "line": {
           "color": "white",
           "width": 1
          },
          "type": "line",
          "x0": 105,
          "x1": 105,
          "y0": 0,
          "y1": 53.3
         },
         {
          "line": {
           "color": "white",
           "width": 1
          },
          "type": "line",
          "x0": 110,
          "x1": 110,
          "y0": 0,
          "y1": 53.3
         }
        ],
        "showlegend": true,
        "sliders": [
         {
          "active": 0,
          "currentvalue": {
           "prefix": "frameId="
          },
          "len": 0.9,
          "pad": {
           "b": 10,
           "t": 60
          },
          "steps": [
           {
            "args": [
             [
              "1"
             ],
             {
              "frame": {
               "duration": 0,
               "redraw": false
              },
              "fromcurrent": true,
              "mode": "immediate",
              "transition": {
               "duration": 0,
               "easing": "linear"
              }
             }
            ],
            "label": "1",
            "method": "animate"
           },
           {
            "args": [
             [
              "2"
             ],
             {
              "frame": {
               "duration": 0,
               "redraw": false
              },
              "fromcurrent": true,
              "mode": "immediate",
              "transition": {
               "duration": 0,
               "easing": "linear"
              }
             }
            ],
            "label": "2",
            "method": "animate"
           },
           {
            "args": [
             [
              "3"
             ],
             {
              "frame": {
               "duration": 0,
               "redraw": false
              },
              "fromcurrent": true,
              "mode": "immediate",
              "transition": {
               "duration": 0,
               "easing": "linear"
              }
             }
            ],
            "label": "3",
            "method": "animate"
           },
           {
            "args": [
             [
              "4"
             ],
             {
              "frame": {
               "duration": 0,
               "redraw": false
              },
              "fromcurrent": true,
              "mode": "immediate",
              "transition": {
               "duration": 0,
               "easing": "linear"
              }
             }
            ],
            "label": "4",
            "method": "animate"
           },
           {
            "args": [
             [
              "5"
             ],
             {
              "frame": {
               "duration": 0,
               "redraw": false
              },
              "fromcurrent": true,
              "mode": "immediate",
              "transition": {
               "duration": 0,
               "easing": "linear"
              }
             }
            ],
            "label": "5",
            "method": "animate"
           },
           {
            "args": [
             [
              "6"
             ],
             {
              "frame": {
               "duration": 0,
               "redraw": false
              },
              "fromcurrent": true,
              "mode": "immediate",
              "transition": {
               "duration": 0,
               "easing": "linear"
              }
             }
            ],
            "label": "6",
            "method": "animate"
           },
           {
            "args": [
             [
              "7"
             ],
             {
              "frame": {
               "duration": 0,
               "redraw": false
              },
              "fromcurrent": true,
              "mode": "immediate",
              "transition": {
               "duration": 0,
               "easing": "linear"
              }
             }
            ],
            "label": "7",
            "method": "animate"
           },
           {
            "args": [
             [
              "8"
             ],
             {
              "frame": {
               "duration": 0,
               "redraw": false
              },
              "fromcurrent": true,
              "mode": "immediate",
              "transition": {
               "duration": 0,
               "easing": "linear"
              }
             }
            ],
            "label": "8",
            "method": "animate"
           },
           {
            "args": [
             [
              "9"
             ],
             {
              "frame": {
               "duration": 0,
               "redraw": false
              },
              "fromcurrent": true,
              "mode": "immediate",
              "transition": {
               "duration": 0,
               "easing": "linear"
              }
             }
            ],
            "label": "9",
            "method": "animate"
           },
           {
            "args": [
             [
              "10"
             ],
             {
              "frame": {
               "duration": 0,
               "redraw": false
              },
              "fromcurrent": true,
              "mode": "immediate",
              "transition": {
               "duration": 0,
               "easing": "linear"
              }
             }
            ],
            "label": "10",
            "method": "animate"
           },
           {
            "args": [
             [
              "11"
             ],
             {
              "frame": {
               "duration": 0,
               "redraw": false
              },
              "fromcurrent": true,
              "mode": "immediate",
              "transition": {
               "duration": 0,
               "easing": "linear"
              }
             }
            ],
            "label": "11",
            "method": "animate"
           },
           {
            "args": [
             [
              "12"
             ],
             {
              "frame": {
               "duration": 0,
               "redraw": false
              },
              "fromcurrent": true,
              "mode": "immediate",
              "transition": {
               "duration": 0,
               "easing": "linear"
              }
             }
            ],
            "label": "12",
            "method": "animate"
           },
           {
            "args": [
             [
              "13"
             ],
             {
              "frame": {
               "duration": 0,
               "redraw": false
              },
              "fromcurrent": true,
              "mode": "immediate",
              "transition": {
               "duration": 0,
               "easing": "linear"
              }
             }
            ],
            "label": "13",
            "method": "animate"
           },
           {
            "args": [
             [
              "14"
             ],
             {
              "frame": {
               "duration": 0,
               "redraw": false
              },
              "fromcurrent": true,
              "mode": "immediate",
              "transition": {
               "duration": 0,
               "easing": "linear"
              }
             }
            ],
            "label": "14",
            "method": "animate"
           },
           {
            "args": [
             [
              "15"
             ],
             {
              "frame": {
               "duration": 0,
               "redraw": false
              },
              "fromcurrent": true,
              "mode": "immediate",
              "transition": {
               "duration": 0,
               "easing": "linear"
              }
             }
            ],
            "label": "15",
            "method": "animate"
           },
           {
            "args": [
             [
              "16"
             ],
             {
              "frame": {
               "duration": 0,
               "redraw": false
              },
              "fromcurrent": true,
              "mode": "immediate",
              "transition": {
               "duration": 0,
               "easing": "linear"
              }
             }
            ],
            "label": "16",
            "method": "animate"
           },
           {
            "args": [
             [
              "17"
             ],
             {
              "frame": {
               "duration": 0,
               "redraw": false
              },
              "fromcurrent": true,
              "mode": "immediate",
              "transition": {
               "duration": 0,
               "easing": "linear"
              }
             }
            ],
            "label": "17",
            "method": "animate"
           }
          ],
          "x": 0.1,
          "xanchor": "left",
          "y": 0,
          "yanchor": "top"
         }
        ],
        "template": {
         "data": {
          "bar": [
           {
            "error_x": {
             "color": "#2a3f5f"
            },
            "error_y": {
             "color": "#2a3f5f"
            },
            "marker": {
             "line": {
              "color": "#E5ECF6",
              "width": 0.5
             },
             "pattern": {
              "fillmode": "overlay",
              "size": 10,
              "solidity": 0.2
             }
            },
            "type": "bar"
           }
          ],
          "barpolar": [
           {
            "marker": {
             "line": {
              "color": "#E5ECF6",
              "width": 0.5
             },
             "pattern": {
              "fillmode": "overlay",
              "size": 10,
              "solidity": 0.2
             }
            },
            "type": "barpolar"
           }
          ],
          "carpet": [
           {
            "aaxis": {
             "endlinecolor": "#2a3f5f",
             "gridcolor": "white",
             "linecolor": "white",
             "minorgridcolor": "white",
             "startlinecolor": "#2a3f5f"
            },
            "baxis": {
             "endlinecolor": "#2a3f5f",
             "gridcolor": "white",
             "linecolor": "white",
             "minorgridcolor": "white",
             "startlinecolor": "#2a3f5f"
            },
            "type": "carpet"
           }
          ],
          "choropleth": [
           {
            "colorbar": {
             "outlinewidth": 0,
             "ticks": ""
            },
            "type": "choropleth"
           }
          ],
          "contour": [
           {
            "colorbar": {
             "outlinewidth": 0,
             "ticks": ""
            },
            "colorscale": [
             [
              0,
              "#0d0887"
             ],
             [
              0.1111111111111111,
              "#46039f"
             ],
             [
              0.2222222222222222,
              "#7201a8"
             ],
             [
              0.3333333333333333,
              "#9c179e"
             ],
             [
              0.4444444444444444,
              "#bd3786"
             ],
             [
              0.5555555555555556,
              "#d8576b"
             ],
             [
              0.6666666666666666,
              "#ed7953"
             ],
             [
              0.7777777777777778,
              "#fb9f3a"
             ],
             [
              0.8888888888888888,
              "#fdca26"
             ],
             [
              1,
              "#f0f921"
             ]
            ],
            "type": "contour"
           }
          ],
          "contourcarpet": [
           {
            "colorbar": {
             "outlinewidth": 0,
             "ticks": ""
            },
            "type": "contourcarpet"
           }
          ],
          "heatmap": [
           {
            "colorbar": {
             "outlinewidth": 0,
             "ticks": ""
            },
            "colorscale": [
             [
              0,
              "#0d0887"
             ],
             [
              0.1111111111111111,
              "#46039f"
             ],
             [
              0.2222222222222222,
              "#7201a8"
             ],
             [
              0.3333333333333333,
              "#9c179e"
             ],
             [
              0.4444444444444444,
              "#bd3786"
             ],
             [
              0.5555555555555556,
              "#d8576b"
             ],
             [
              0.6666666666666666,
              "#ed7953"
             ],
             [
              0.7777777777777778,
              "#fb9f3a"
             ],
             [
              0.8888888888888888,
              "#fdca26"
             ],
             [
              1,
              "#f0f921"
             ]
            ],
            "type": "heatmap"
           }
          ],
          "heatmapgl": [
           {
            "colorbar": {
             "outlinewidth": 0,
             "ticks": ""
            },
            "colorscale": [
             [
              0,
              "#0d0887"
             ],
             [
              0.1111111111111111,
              "#46039f"
             ],
             [
              0.2222222222222222,
              "#7201a8"
             ],
             [
              0.3333333333333333,
              "#9c179e"
             ],
             [
              0.4444444444444444,
              "#bd3786"
             ],
             [
              0.5555555555555556,
              "#d8576b"
             ],
             [
              0.6666666666666666,
              "#ed7953"
             ],
             [
              0.7777777777777778,
              "#fb9f3a"
             ],
             [
              0.8888888888888888,
              "#fdca26"
             ],
             [
              1,
              "#f0f921"
             ]
            ],
            "type": "heatmapgl"
           }
          ],
          "histogram": [
           {
            "marker": {
             "pattern": {
              "fillmode": "overlay",
              "size": 10,
              "solidity": 0.2
             }
            },
            "type": "histogram"
           }
          ],
          "histogram2d": [
           {
            "colorbar": {
             "outlinewidth": 0,
             "ticks": ""
            },
            "colorscale": [
             [
              0,
              "#0d0887"
             ],
             [
              0.1111111111111111,
              "#46039f"
             ],
             [
              0.2222222222222222,
              "#7201a8"
             ],
             [
              0.3333333333333333,
              "#9c179e"
             ],
             [
              0.4444444444444444,
              "#bd3786"
             ],
             [
              0.5555555555555556,
              "#d8576b"
             ],
             [
              0.6666666666666666,
              "#ed7953"
             ],
             [
              0.7777777777777778,
              "#fb9f3a"
             ],
             [
              0.8888888888888888,
              "#fdca26"
             ],
             [
              1,
              "#f0f921"
             ]
            ],
            "type": "histogram2d"
           }
          ],
          "histogram2dcontour": [
           {
            "colorbar": {
             "outlinewidth": 0,
             "ticks": ""
            },
            "colorscale": [
             [
              0,
              "#0d0887"
             ],
             [
              0.1111111111111111,
              "#46039f"
             ],
             [
              0.2222222222222222,
              "#7201a8"
             ],
             [
              0.3333333333333333,
              "#9c179e"
             ],
             [
              0.4444444444444444,
              "#bd3786"
             ],
             [
              0.5555555555555556,
              "#d8576b"
             ],
             [
              0.6666666666666666,
              "#ed7953"
             ],
             [
              0.7777777777777778,
              "#fb9f3a"
             ],
             [
              0.8888888888888888,
              "#fdca26"
             ],
             [
              1,
              "#f0f921"
             ]
            ],
            "type": "histogram2dcontour"
           }
          ],
          "mesh3d": [
           {
            "colorbar": {
             "outlinewidth": 0,
             "ticks": ""
            },
            "type": "mesh3d"
           }
          ],
          "parcoords": [
           {
            "line": {
             "colorbar": {
              "outlinewidth": 0,
              "ticks": ""
             }
            },
            "type": "parcoords"
           }
          ],
          "pie": [
           {
            "automargin": true,
            "type": "pie"
           }
          ],
          "scatter": [
           {
            "fillpattern": {
             "fillmode": "overlay",
             "size": 10,
             "solidity": 0.2
            },
            "type": "scatter"
           }
          ],
          "scatter3d": [
           {
            "line": {
             "colorbar": {
              "outlinewidth": 0,
              "ticks": ""
             }
            },
            "marker": {
             "colorbar": {
              "outlinewidth": 0,
              "ticks": ""
             }
            },
            "type": "scatter3d"
           }
          ],
          "scattercarpet": [
           {
            "marker": {
             "colorbar": {
              "outlinewidth": 0,
              "ticks": ""
             }
            },
            "type": "scattercarpet"
           }
          ],
          "scattergeo": [
           {
            "marker": {
             "colorbar": {
              "outlinewidth": 0,
              "ticks": ""
             }
            },
            "type": "scattergeo"
           }
          ],
          "scattergl": [
           {
            "marker": {
             "colorbar": {
              "outlinewidth": 0,
              "ticks": ""
             }
            },
            "type": "scattergl"
           }
          ],
          "scattermapbox": [
           {
            "marker": {
             "colorbar": {
              "outlinewidth": 0,
              "ticks": ""
             }
            },
            "type": "scattermapbox"
           }
          ],
          "scatterpolar": [
           {
            "marker": {
             "colorbar": {
              "outlinewidth": 0,
              "ticks": ""
             }
            },
            "type": "scatterpolar"
           }
          ],
          "scatterpolargl": [
           {
            "marker": {
             "colorbar": {
              "outlinewidth": 0,
              "ticks": ""
             }
            },
            "type": "scatterpolargl"
           }
          ],
          "scatterternary": [
           {
            "marker": {
             "colorbar": {
              "outlinewidth": 0,
              "ticks": ""
             }
            },
            "type": "scatterternary"
           }
          ],
          "surface": [
           {
            "colorbar": {
             "outlinewidth": 0,
             "ticks": ""
            },
            "colorscale": [
             [
              0,
              "#0d0887"
             ],
             [
              0.1111111111111111,
              "#46039f"
             ],
             [
              0.2222222222222222,
              "#7201a8"
             ],
             [
              0.3333333333333333,
              "#9c179e"
             ],
             [
              0.4444444444444444,
              "#bd3786"
             ],
             [
              0.5555555555555556,
              "#d8576b"
             ],
             [
              0.6666666666666666,
              "#ed7953"
             ],
             [
              0.7777777777777778,
              "#fb9f3a"
             ],
             [
              0.8888888888888888,
              "#fdca26"
             ],
             [
              1,
              "#f0f921"
             ]
            ],
            "type": "surface"
           }
          ],
          "table": [
           {
            "cells": {
             "fill": {
              "color": "#EBF0F8"
             },
             "line": {
              "color": "white"
             }
            },
            "header": {
             "fill": {
              "color": "#C8D4E3"
             },
             "line": {
              "color": "white"
             }
            },
            "type": "table"
           }
          ]
         },
         "layout": {
          "annotationdefaults": {
           "arrowcolor": "#2a3f5f",
           "arrowhead": 0,
           "arrowwidth": 1
          },
          "autotypenumbers": "strict",
          "coloraxis": {
           "colorbar": {
            "outlinewidth": 0,
            "ticks": ""
           }
          },
          "colorscale": {
           "diverging": [
            [
             0,
             "#8e0152"
            ],
            [
             0.1,
             "#c51b7d"
            ],
            [
             0.2,
             "#de77ae"
            ],
            [
             0.3,
             "#f1b6da"
            ],
            [
             0.4,
             "#fde0ef"
            ],
            [
             0.5,
             "#f7f7f7"
            ],
            [
             0.6,
             "#e6f5d0"
            ],
            [
             0.7,
             "#b8e186"
            ],
            [
             0.8,
             "#7fbc41"
            ],
            [
             0.9,
             "#4d9221"
            ],
            [
             1,
             "#276419"
            ]
           ],
           "sequential": [
            [
             0,
             "#0d0887"
            ],
            [
             0.1111111111111111,
             "#46039f"
            ],
            [
             0.2222222222222222,
             "#7201a8"
            ],
            [
             0.3333333333333333,
             "#9c179e"
            ],
            [
             0.4444444444444444,
             "#bd3786"
            ],
            [
             0.5555555555555556,
             "#d8576b"
            ],
            [
             0.6666666666666666,
             "#ed7953"
            ],
            [
             0.7777777777777778,
             "#fb9f3a"
            ],
            [
             0.8888888888888888,
             "#fdca26"
            ],
            [
             1,
             "#f0f921"
            ]
           ],
           "sequentialminus": [
            [
             0,
             "#0d0887"
            ],
            [
             0.1111111111111111,
             "#46039f"
            ],
            [
             0.2222222222222222,
             "#7201a8"
            ],
            [
             0.3333333333333333,
             "#9c179e"
            ],
            [
             0.4444444444444444,
             "#bd3786"
            ],
            [
             0.5555555555555556,
             "#d8576b"
            ],
            [
             0.6666666666666666,
             "#ed7953"
            ],
            [
             0.7777777777777778,
             "#fb9f3a"
            ],
            [
             0.8888888888888888,
             "#fdca26"
            ],
            [
             1,
             "#f0f921"
            ]
           ]
          },
          "colorway": [
           "#636efa",
           "#EF553B",
           "#00cc96",
           "#ab63fa",
           "#FFA15A",
           "#19d3f3",
           "#FF6692",
           "#B6E880",
           "#FF97FF",
           "#FECB52"
          ],
          "font": {
           "color": "#2a3f5f"
          },
          "geo": {
           "bgcolor": "white",
           "lakecolor": "white",
           "landcolor": "#E5ECF6",
           "showlakes": true,
           "showland": true,
           "subunitcolor": "white"
          },
          "hoverlabel": {
           "align": "left"
          },
          "hovermode": "closest",
          "mapbox": {
           "style": "light"
          },
          "paper_bgcolor": "white",
          "plot_bgcolor": "#E5ECF6",
          "polar": {
           "angularaxis": {
            "gridcolor": "white",
            "linecolor": "white",
            "ticks": ""
           },
           "bgcolor": "#E5ECF6",
           "radialaxis": {
            "gridcolor": "white",
            "linecolor": "white",
            "ticks": ""
           }
          },
          "scene": {
           "xaxis": {
            "backgroundcolor": "#E5ECF6",
            "gridcolor": "white",
            "gridwidth": 2,
            "linecolor": "white",
            "showbackground": true,
            "ticks": "",
            "zerolinecolor": "white"
           },
           "yaxis": {
            "backgroundcolor": "#E5ECF6",
            "gridcolor": "white",
            "gridwidth": 2,
            "linecolor": "white",
            "showbackground": true,
            "ticks": "",
            "zerolinecolor": "white"
           },
           "zaxis": {
            "backgroundcolor": "#E5ECF6",
            "gridcolor": "white",
            "gridwidth": 2,
            "linecolor": "white",
            "showbackground": true,
            "ticks": "",
            "zerolinecolor": "white"
           }
          },
          "shapedefaults": {
           "line": {
            "color": "#2a3f5f"
           }
          },
          "ternary": {
           "aaxis": {
            "gridcolor": "white",
            "linecolor": "white",
            "ticks": ""
           },
           "baxis": {
            "gridcolor": "white",
            "linecolor": "white",
            "ticks": ""
           },
           "bgcolor": "#E5ECF6",
           "caxis": {
            "gridcolor": "white",
            "linecolor": "white",
            "ticks": ""
           }
          },
          "title": {
           "x": 0.05
          },
          "xaxis": {
           "automargin": true,
           "gridcolor": "white",
           "linecolor": "white",
           "ticks": "",
           "title": {
            "standoff": 15
           },
           "zerolinecolor": "white",
           "zerolinewidth": 2
          },
          "yaxis": {
           "automargin": true,
           "gridcolor": "white",
           "linecolor": "white",
           "ticks": "",
           "title": {
            "standoff": 15
           },
           "zerolinecolor": "white",
           "zerolinewidth": 2
          }
         }
        },
        "title": {
         "text": "(4:14) (Shotgun) J.Goff pass short left to A.St. Brown for 4 yards, TOUCHDOWN."
        },
        "updatemenus": [
         {
          "buttons": [
           {
            "args": [
             null,
             {
              "frame": {
               "duration": 500,
               "redraw": false
              },
              "fromcurrent": true,
              "mode": "immediate",
              "transition": {
               "duration": 500,
               "easing": "linear"
              }
             }
            ],
            "label": "&#9654;",
            "method": "animate"
           },
           {
            "args": [
             [
              null
             ],
             {
              "frame": {
               "duration": 0,
               "redraw": false
              },
              "fromcurrent": true,
              "mode": "immediate",
              "transition": {
               "duration": 0,
               "easing": "linear"
              }
             }
            ],
            "label": "&#9724;",
            "method": "animate"
           }
          ],
          "direction": "left",
          "pad": {
           "r": 10,
           "t": 70
          },
          "showactive": false,
          "type": "buttons",
          "x": 0.1,
          "xanchor": "right",
          "y": 0,
          "yanchor": "top"
         }
        ],
        "width": 1200,
        "xaxis": {
         "anchor": "y",
         "domain": [
          0,
          1
         ],
         "range": [
          0,
          120
         ],
         "showgrid": false,
         "title": {
          "text": ""
         },
         "type": "linear"
        },
        "yaxis": {
         "anchor": "x",
         "domain": [
          0,
          1
         ],
         "range": [
          0,
          53.3
         ],
         "showgrid": false,
         "title": {
          "text": ""
         },
         "type": "linear"
        }
       }
      },
      "image/png": "[encoded data removed]",
      "text/html": [
       "<div>                            <div id=\"6d435924-f410-4ed6-8b31-f23a17cb2c68\" class=\"plotly-graph-div\" style=\"height:533px; width:1200px;\"></div>            <script type=\"text/javascript\">                require([\"plotly\"], function(Plotly) {                    window.PLOTLYENV=window.PLOTLYENV || {};                                    if (document.getElementById(\"6d435924-f410-4ed6-8b31-f23a17cb2c68\")) {                    Plotly.newPlot(                        \"6d435924-f410-4ed6-8b31-f23a17cb2c68\",                        [{\"customdata\":[[91.0,\"Fletcher Cox\",1.25,null],[2.0,\"Darius Slay\",2.33,null],[24.0,\"James Bradberry\",3.93,null],[97.0,\"Javon Hargrave\",2.19,null],[43.0,\"Kyzir White\",4.26,null],[29.0,\"Avonte Maddox\",6.92,null],[94.0,\"Josh Sweat\",1.42,null],[23.0,\"Chauncey Gardner-Johnson\",1.25,null],[22.0,\"Marcus Epps\",3.83,null],[57.0,\"T.J. Edwards\",1.65,null],[48.0,\"Patrick Johnson\",3.51,null]],\"hovertemplate\":\"club=PHI\\u003cbr\\u003eframeId=1\\u003cbr\\u003ex=%{x}\\u003cbr\\u003ey=%{y}\\u003cbr\\u003ejerseyNumber=%{customdata[0]}\\u003cbr\\u003edisplayName=%{customdata[1]}\\u003cbr\\u003es=%{customdata[2]}\\u003cbr\\u003eevent=%{customdata[3]}\\u003cextra\\u003e\\u003c\\u002fextra\\u003e\",\"legendgroup\":\"PHI\",\"marker\":{\"color\":\"#004C54\",\"symbol\":\"circle\"},\"mode\":\"markers\",\"name\":\"PHI\",\"orientation\":\"v\",\"showlegend\":true,\"x\":[100.89,111.7,112.41,98.51,109.08,115.15,97.71,113.64,109.7,107.05,95.38],\"xaxis\":\"x\",\"y\":[28.92,13.31,35.43,29.33,34.27,16.46,31.24,31.46,43.61,33.35,27.7],\"yaxis\":\"y\",\"type\":\"scatter\"},{\"customdata\":[[16.0,\"Jared Goff\",0.7,null],[68.0,\"Taylor Decker\",0.47,null],[8.0,\"Josh Reynolds\",6.15,null],[77.0,\"Frank Ragnow\",1.18,null],[4.0,\"D.J. Chark\",3.01,null],[88.0,\"T.J. Hockenson\",4.73,null],[32.0,\"D'Andre Swift\",5.78,null],[73.0,\"Jonah Jackson\",1.61,null],[71.0,\"Logan Stenberg\",2.02,null],[58.0,\"Penei Sewell\",1.67,null],[14.0,\"Amon-Ra St. Brown\",4.35,null]],\"hovertemplate\":\"club=DET\\u003cbr\\u003eframeId=1\\u003cbr\\u003ex=%{x}\\u003cbr\\u003ey=%{y}\\u003cbr\\u003ejerseyNumber=%{customdata[0]}\\u003cbr\\u003edisplayName=%{customdata[1]}\\u003cbr\\u003es=%{customdata[2]}\\u003cbr\\u003eevent=%{customdata[3]}\\u003cextra\\u003e\\u003c\\u002fextra\\u003e\",\"legendgroup\":\"DET\",\"marker\":{\"color\":\"#0076B6\",\"symbol\":\"circle\"},\"mode\":\"markers\",\"name\":\"DET\",\"orientation\":\"v\",\"showlegend\":true,\"x\":[98.03,96.44,115.81,100.03,110.59,114.02,109.36,96.83,96.43,96.5,108.23],\"xaxis\":\"x\",\"y\":[29.08,31.0,16.77,28.92,14.23,35.38,32.45,31.26,25.23,26.81,42.87],\"yaxis\":\"y\",\"type\":\"scatter\"},{\"customdata\":[[null,\"football\",23.0599994659424,null]],\"hovertemplate\":\"club=football\\u003cbr\\u003eframeId=1\\u003cbr\\u003ex=%{x}\\u003cbr\\u003ey=%{y}\\u003cbr\\u003ejerseyNumber=%{customdata[0]}\\u003cbr\\u003edisplayName=%{customdata[1]}\\u003cbr\\u003es=%{customdata[2]}\\u003cbr\\u003eevent=%{customdata[3]}\\u003cextra\\u003e\\u003c\\u002fextra\\u003e\",\"legendgroup\":\"football\",\"marker\":{\"color\":\"#CBB67C\",\"symbol\":\"circle\"},\"mode\":\"markers\",\"name\":\"football\",\"orientation\":\"v\",\"showlegend\":true,\"x\":[105.540000915527],\"xaxis\":\"x\",\"y\":[38.2900009155273],\"yaxis\":\"y\",\"type\":\"scatter\"}],                        {\"template\":{\"data\":{\"histogram2dcontour\":[{\"type\":\"histogram2dcontour\",\"colorbar\":{\"outlinewidth\":0,\"ticks\":\"\"},\"colorscale\":[[0.0,\"#0d0887\"],[0.1111111111111111,\"#46039f\"],[0.2222222222222222,\"#7201a8\"],[0.3333333333333333,\"#9c179e\"],[0.4444444444444444,\"#bd3786\"],[0.5555555555555556,\"#d8576b\"],[0.6666666666666666,\"#ed7953\"],[0.7777777777777778,\"#fb9f3a\"],[0.8888888888888888,\"#fdca26\"],[1.0,\"#f0f921\"]]}],\"choropleth\":[{\"type\":\"choropleth\",\"colorbar\":{\"outlinewidth\":0,\"ticks\":\"\"}}],\"histogram2d\":[{\"type\":\"histogram2d\",\"colorbar\":{\"outlinewidth\":0,\"ticks\":\"\"},\"colorscale\":[[0.0,\"#0d0887\"],[0.1111111111111111,\"#46039f\"],[0.2222222222222222,\"#7201a8\"],[0.3333333333333333,\"#9c179e\"],[0.4444444444444444,\"#bd3786\"],[0.5555555555555556,\"#d8576b\"],[0.6666666666666666,\"#ed7953\"],[0.7777777777777778,\"#fb9f3a\"],[0.8888888888888888,\"#fdca26\"],[1.0,\"#f0f921\"]]}],\"heatmap\":[{\"type\":\"heatmap\",\"colorbar\":{\"outlinewidth\":0,\"ticks\":\"\"},\"colorscale\":[[0.0,\"#0d0887\"],[0.1111111111111111,\"#46039f\"],[0.2222222222222222,\"#7201a8\"],[0.3333333333333333,\"#9c179e\"],[0.4444444444444444,\"#bd3786\"],[0.5555555555555556,\"#d8576b\"],[0.6666666666666666,\"#ed7953\"],[0.7777777777777778,\"#fb9f3a\"],[0.8888888888888888,\"#fdca26\"],[1.0,\"#f0f921\"]]}],\"heatmapgl\":[{\"type\":\"heatmapgl\",\"colorbar\":{\"outlinewidth\":0,\"ticks\":\"\"},\"colorscale\":[[0.0,\"#0d0887\"],[0.1111111111111111,\"#46039f\"],[0.2222222222222222,\"#7201a8\"],[0.3333333333333333,\"#9c179e\"],[0.4444444444444444,\"#bd3786\"],[0.5555555555555556,\"#d8576b\"],[0.6666666666666666,\"#ed7953\"],[0.7777777777777778,\"#fb9f3a\"],[0.8888888888888888,\"#fdca26\"],[1.0,\"#f0f921\"]]}],\"contourcarpet\":[{\"type\":\"contourcarpet\",\"colorbar\":{\"outlinewidth\":0,\"ticks\":\"\"}}],\"contour\":[{\"type\":\"contour\",\"colorbar\":{\"outlinewidth\":0,\"ticks\":\"\"},\"colorscale\":[[0.0,\"#0d0887\"],[0.1111111111111111,\"#46039f\"],[0.2222222222222222,\"#7201a8\"],[0.3333333333333333,\"#9c179e\"],[0.4444444444444444,\"#bd3786\"],[0.5555555555555556,\"#d8576b\"],[0.6666666666666666,\"#ed7953\"],[0.7777777777777778,\"#fb9f3a\"],[0.8888888888888888,\"#fdca26\"],[1.0,\"#f0f921\"]]}],\"surface\":[{\"type\":\"surface\",\"colorbar\":{\"outlinewidth\":0,\"ticks\":\"\"},\"colorscale\":[[0.0,\"#0d0887\"],[0.1111111111111111,\"#46039f\"],[0.2222222222222222,\"#7201a8\"],[0.3333333333333333,\"#9c179e\"],[0.4444444444444444,\"#bd3786\"],[0.5555555555555556,\"#d8576b\"],[0.6666666666666666,\"#ed7953\"],[0.7777777777777778,\"#fb9f3a\"],[0.8888888888888888,\"#fdca26\"],[1.0,\"#f0f921\"]]}],\"mesh3d\":[{\"type\":\"mesh3d\",\"colorbar\":{\"outlinewidth\":0,\"ticks\":\"\"}}],\"scatter\":[{\"fillpattern\":{\"fillmode\":\"overlay\",\"size\":10,\"solidity\":0.2},\"type\":\"scatter\"}],\"parcoords\":[{\"type\":\"parcoords\",\"line\":{\"colorbar\":{\"outlinewidth\":0,\"ticks\":\"\"}}}],\"scatterpolargl\":[{\"type\":\"scatterpolargl\",\"marker\":{\"colorbar\":{\"outlinewidth\":0,\"ticks\":\"\"}}}],\"bar\":[{\"error_x\":{\"color\":\"#2a3f5f\"},\"error_y\":{\"color\":\"#2a3f5f\"},\"marker\":{\"line\":{\"color\":\"#E5ECF6\",\"width\":0.5},\"pattern\":{\"fillmode\":\"overlay\",\"size\":10,\"solidity\":0.2}},\"type\":\"bar\"}],\"scattergeo\":[{\"type\":\"scattergeo\",\"marker\":{\"colorbar\":{\"outlinewidth\":0,\"ticks\":\"\"}}}],\"scatterpolar\":[{\"type\":\"scatterpolar\",\"marker\":{\"colorbar\":{\"outlinewidth\":0,\"ticks\":\"\"}}}],\"histogram\":[{\"marker\":{\"pattern\":{\"fillmode\":\"overlay\",\"size\":10,\"solidity\":0.2}},\"type\":\"histogram\"}],\"scattergl\":[{\"type\":\"scattergl\",\"marker\":{\"colorbar\":{\"outlinewidth\":0,\"ticks\":\"\"}}}],\"scatter3d\":[{\"type\":\"scatter3d\",\"line\":{\"colorbar\":{\"outlinewidth\":0,\"ticks\":\"\"}},\"marker\":{\"colorbar\":{\"outlinewidth\":0,\"ticks\":\"\"}}}],\"scattermapbox\":[{\"type\":\"scattermapbox\",\"marker\":{\"colorbar\":{\"outlinewidth\":0,\"ticks\":\"\"}}}],\"scatterternary\":[{\"type\":\"scatterternary\",\"marker\":{\"colorbar\":{\"outlinewidth\":0,\"ticks\":\"\"}}}],\"scattercarpet\":[{\"type\":\"scattercarpet\",\"marker\":{\"colorbar\":{\"outlinewidth\":0,\"ticks\":\"\"}}}],\"carpet\":[{\"aaxis\":{\"endlinecolor\":\"#2a3f5f\",\"gridcolor\":\"white\",\"linecolor\":\"white\",\"minorgridcolor\":\"white\",\"startlinecolor\":\"#2a3f5f\"},\"baxis\":{\"endlinecolor\":\"#2a3f5f\",\"gridcolor\":\"white\",\"linecolor\":\"white\",\"minorgridcolor\":\"white\",\"startlinecolor\":\"#2a3f5f\"},\"type\":\"carpet\"}],\"table\":[{\"cells\":{\"fill\":{\"color\":\"#EBF0F8\"},\"line\":{\"color\":\"white\"}},\"header\":{\"fill\":{\"color\":\"#C8D4E3\"},\"line\":{\"color\":\"white\"}},\"type\":\"table\"}],\"barpolar\":[{\"marker\":{\"line\":{\"color\":\"#E5ECF6\",\"width\":0.5},\"pattern\":{\"fillmode\":\"overlay\",\"size\":10,\"solidity\":0.2}},\"type\":\"barpolar\"}],\"pie\":[{\"automargin\":true,\"type\":\"pie\"}]},\"layout\":{\"autotypenumbers\":\"strict\",\"colorway\":[\"#636efa\",\"#EF553B\",\"#00cc96\",\"#ab63fa\",\"#FFA15A\",\"#19d3f3\",\"#FF6692\",\"#B6E880\",\"#FF97FF\",\"#FECB52\"],\"font\":{\"color\":\"#2a3f5f\"},\"hovermode\":\"closest\",\"hoverlabel\":{\"align\":\"left\"},\"paper_bgcolor\":\"white\",\"plot_bgcolor\":\"#E5ECF6\",\"polar\":{\"bgcolor\":\"#E5ECF6\",\"angularaxis\":{\"gridcolor\":\"white\",\"linecolor\":\"white\",\"ticks\":\"\"},\"radialaxis\":{\"gridcolor\":\"white\",\"linecolor\":\"white\",\"ticks\":\"\"}},\"ternary\":{\"bgcolor\":\"#E5ECF6\",\"aaxis\":{\"gridcolor\":\"white\",\"linecolor\":\"white\",\"ticks\":\"\"},\"baxis\":{\"gridcolor\":\"white\",\"linecolor\":\"white\",\"ticks\":\"\"},\"caxis\":{\"gridcolor\":\"white\",\"linecolor\":\"white\",\"ticks\":\"\"}},\"coloraxis\":{\"colorbar\":{\"outlinewidth\":0,\"ticks\":\"\"}},\"colorscale\":{\"sequential\":[[0.0,\"#0d0887\"],[0.1111111111111111,\"#46039f\"],[0.2222222222222222,\"#7201a8\"],[0.3333333333333333,\"#9c179e\"],[0.4444444444444444,\"#bd3786\"],[0.5555555555555556,\"#d8576b\"],[0.6666666666666666,\"#ed7953\"],[0.7777777777777778,\"#fb9f3a\"],[0.8888888888888888,\"#fdca26\"],[1.0,\"#f0f921\"]],\"sequentialminus\":[[0.0,\"#0d0887\"],[0.1111111111111111,\"#46039f\"],[0.2222222222222222,\"#7201a8\"],[0.3333333333333333,\"#9c179e\"],[0.4444444444444444,\"#bd3786\"],[0.5555555555555556,\"#d8576b\"],[0.6666666666666666,\"#ed7953\"],[0.7777777777777778,\"#fb9f3a\"],[0.8888888888888888,\"#fdca26\"],[1.0,\"#f0f921\"]],\"diverging\":[[0,\"#8e0152\"],[0.1,\"#c51b7d\"],[0.2,\"#de77ae\"],[0.3,\"#f1b6da\"],[0.4,\"#fde0ef\"],[0.5,\"#f7f7f7\"],[0.6,\"#e6f5d0\"],[0.7,\"#b8e186\"],[0.8,\"#7fbc41\"],[0.9,\"#4d9221\"],[1,\"#276419\"]]},\"xaxis\":{\"gridcolor\":\"white\",\"linecolor\":\"white\",\"ticks\":\"\",\"title\":{\"standoff\":15},\"zerolinecolor\":\"white\",\"automargin\":true,\"zerolinewidth\":2},\"yaxis\":{\"gridcolor\":\"white\",\"linecolor\":\"white\",\"ticks\":\"\",\"title\":{\"standoff\":15},\"zerolinecolor\":\"white\",\"automargin\":true,\"zerolinewidth\":2},\"scene\":{\"xaxis\":{\"backgroundcolor\":\"#E5ECF6\",\"gridcolor\":\"white\",\"linecolor\":\"white\",\"showbackground\":true,\"ticks\":\"\",\"zerolinecolor\":\"white\",\"gridwidth\":2},\"yaxis\":{\"backgroundcolor\":\"#E5ECF6\",\"gridcolor\":\"white\",\"linecolor\":\"white\",\"showbackground\":true,\"ticks\":\"\",\"zerolinecolor\":\"white\",\"gridwidth\":2},\"zaxis\":{\"backgroundcolor\":\"#E5ECF6\",\"gridcolor\":\"white\",\"linecolor\":\"white\",\"showbackground\":true,\"ticks\":\"\",\"zerolinecolor\":\"white\",\"gridwidth\":2}},\"shapedefaults\":{\"line\":{\"color\":\"#2a3f5f\"}},\"annotationdefaults\":{\"arrowcolor\":\"#2a3f5f\",\"arrowhead\":0,\"arrowwidth\":1},\"geo\":{\"bgcolor\":\"white\",\"landcolor\":\"#E5ECF6\",\"subunitcolor\":\"white\",\"showland\":true,\"showlakes\":true,\"lakecolor\":\"white\"},\"title\":{\"x\":0.05},\"mapbox\":{\"style\":\"light\"}}},\"xaxis\":{\"anchor\":\"y\",\"domain\":[0.0,1.0],\"title\":{\"text\":\"\"},\"range\":[0,120],\"showgrid\":false},\"yaxis\":{\"anchor\":\"x\",\"domain\":[0.0,1.0],\"title\":{\"text\":\"\"},\"range\":[0,53.3],\"showgrid\":false},\"legend\":{\"title\":{\"text\":\"club\"},\"tracegroupgap\":0},\"title\":{\"text\":\"(4:14) (Shotgun) J.Goff pass short left to A.St. Brown for 4 yards, TOUCHDOWN.\"},\"updatemenus\":[{\"buttons\":[{\"args\":[null,{\"frame\":{\"duration\":500,\"redraw\":false},\"mode\":\"immediate\",\"fromcurrent\":true,\"transition\":{\"duration\":500,\"easing\":\"linear\"}}],\"label\":\"&#9654;\",\"method\":\"animate\"},{\"args\":[[null],{\"frame\":{\"duration\":0,\"redraw\":false},\"mode\":\"immediate\",\"fromcurrent\":true,\"transition\":{\"duration\":0,\"easing\":\"linear\"}}],\"label\":\"&#9724;\",\"method\":\"animate\"}],\"direction\":\"left\",\"pad\":{\"r\":10,\"t\":70},\"showactive\":false,\"type\":\"buttons\",\"x\":0.1,\"xanchor\":\"right\",\"y\":0,\"yanchor\":\"top\"}],\"sliders\":[{\"active\":0,\"currentvalue\":{\"prefix\":\"frameId=\"},\"len\":0.9,\"pad\":{\"b\":10,\"t\":60},\"steps\":[{\"args\":[[\"1\"],{\"frame\":{\"duration\":0,\"redraw\":false},\"mode\":\"immediate\",\"fromcurrent\":true,\"transition\":{\"duration\":0,\"easing\":\"linear\"}}],\"label\":\"1\",\"method\":\"animate\"},{\"args\":[[\"2\"],{\"frame\":{\"duration\":0,\"redraw\":false},\"mode\":\"immediate\",\"fromcurrent\":true,\"transition\":{\"duration\":0,\"easing\":\"linear\"}}],\"label\":\"2\",\"method\":\"animate\"},{\"args\":[[\"3\"],{\"frame\":{\"duration\":0,\"redraw\":false},\"mode\":\"immediate\",\"fromcurrent\":true,\"transition\":{\"duration\":0,\"easing\":\"linear\"}}],\"label\":\"3\",\"method\":\"animate\"},{\"args\":[[\"4\"],{\"frame\":{\"duration\":0,\"redraw\":false},\"mode\":\"immediate\",\"fromcurrent\":true,\"transition\":{\"duration\":0,\"easing\":\"linear\"}}],\"label\":\"4\",\"method\":\"animate\"},{\"args\":[[\"5\"],{\"frame\":{\"duration\":0,\"redraw\":false},\"mode\":\"immediate\",\"fromcurrent\":true,\"transition\":{\"duration\":0,\"easing\":\"linear\"}}],\"label\":\"5\",\"method\":\"animate\"},{\"args\":[[\"6\"],{\"frame\":{\"duration\":0,\"redraw\":false},\"mode\":\"immediate\",\"fromcurrent\":true,\"transition\":{\"duration\":0,\"easing\":\"linear\"}}],\"label\":\"6\",\"method\":\"animate\"},{\"args\":[[\"7\"],{\"frame\":{\"duration\":0,\"redraw\":false},\"mode\":\"immediate\",\"fromcurrent\":true,\"transition\":{\"duration\":0,\"easing\":\"linear\"}}],\"label\":\"7\",\"method\":\"animate\"},{\"args\":[[\"8\"],{\"frame\":{\"duration\":0,\"redraw\":false},\"mode\":\"immediate\",\"fromcurrent\":true,\"transition\":{\"duration\":0,\"easing\":\"linear\"}}],\"label\":\"8\",\"method\":\"animate\"},{\"args\":[[\"9\"],{\"frame\":{\"duration\":0,\"redraw\":false},\"mode\":\"immediate\",\"fromcurrent\":true,\"transition\":{\"duration\":0,\"easing\":\"linear\"}}],\"label\":\"9\",\"method\":\"animate\"},{\"args\":[[\"10\"],{\"frame\":{\"duration\":0,\"redraw\":false},\"mode\":\"immediate\",\"fromcurrent\":true,\"transition\":{\"duration\":0,\"easing\":\"linear\"}}],\"label\":\"10\",\"method\":\"animate\"},{\"args\":[[\"11\"],{\"frame\":{\"duration\":0,\"redraw\":false},\"mode\":\"immediate\",\"fromcurrent\":true,\"transition\":{\"duration\":0,\"easing\":\"linear\"}}],\"label\":\"11\",\"method\":\"animate\"},{\"args\":[[\"12\"],{\"frame\":{\"duration\":0,\"redraw\":false},\"mode\":\"immediate\",\"fromcurrent\":true,\"transition\":{\"duration\":0,\"easing\":\"linear\"}}],\"label\":\"12\",\"method\":\"animate\"},{\"args\":[[\"13\"],{\"frame\":{\"duration\":0,\"redraw\":false},\"mode\":\"immediate\",\"fromcurrent\":true,\"transition\":{\"duration\":0,\"easing\":\"linear\"}}],\"label\":\"13\",\"method\":\"animate\"},{\"args\":[[\"14\"],{\"frame\":{\"duration\":0,\"redraw\":false},\"mode\":\"immediate\",\"fromcurrent\":true,\"transition\":{\"duration\":0,\"easing\":\"linear\"}}],\"label\":\"14\",\"method\":\"animate\"},{\"args\":[[\"15\"],{\"frame\":{\"duration\":0,\"redraw\":false},\"mode\":\"immediate\",\"fromcurrent\":true,\"transition\":{\"duration\":0,\"easing\":\"linear\"}}],\"label\":\"15\",\"method\":\"animate\"},{\"args\":[[\"16\"],{\"frame\":{\"duration\":0,\"redraw\":false},\"mode\":\"immediate\",\"fromcurrent\":true,\"transition\":{\"duration\":0,\"easing\":\"linear\"}}],\"label\":\"16\",\"method\":\"animate\"},{\"args\":[[\"17\"],{\"frame\":{\"duration\":0,\"redraw\":false},\"mode\":\"immediate\",\"fromcurrent\":true,\"transition\":{\"duration\":0,\"easing\":\"linear\"}}],\"label\":\"17\",\"method\":\"animate\"}],\"x\":0.1,\"xanchor\":\"left\",\"y\":0,\"yanchor\":\"top\"}],\"annotations\":[{\"font\":{\"color\":\"white\",\"size\":12},\"showarrow\":false,\"text\":\"LA\",\"textangle\":-90,\"x\":5,\"y\":26.65},{\"font\":{\"color\":\"white\",\"size\":12},\"showarrow\":false,\"text\":\"LA\",\"textangle\":90,\"x\":115,\"y\":26.65},{\"font\":{\"color\":\"white\",\"size\":12},\"showarrow\":false,\"text\":\"10\",\"x\":20,\"y\":8},{\"font\":{\"color\":\"white\",\"size\":12},\"showarrow\":false,\"text\":\"10\",\"x\":20,\"y\":45.3},{\"font\":{\"color\":\"white\",\"size\":12},\"showarrow\":false,\"text\":\"20\",\"x\":30,\"y\":8},{\"font\":{\"color\":\"white\",\"size\":12},\"showarrow\":false,\"text\":\"20\",\"x\":30,\"y\":45.3},{\"font\":{\"color\":\"white\",\"size\":12},\"showarrow\":false,\"text\":\"30\",\"x\":40,\"y\":8},{\"font\":{\"color\":\"white\",\"size\":12},\"showarrow\":false,\"text\":\"30\",\"x\":40,\"y\":45.3},{\"font\":{\"color\":\"white\",\"size\":12},\"showarrow\":false,\"text\":\"40\",\"x\":50,\"y\":8},{\"font\":{\"color\":\"white\",\"size\":12},\"showarrow\":false,\"text\":\"40\",\"x\":50,\"y\":45.3},{\"font\":{\"color\":\"white\",\"size\":12},\"showarrow\":false,\"text\":\"50\",\"x\":60,\"y\":8},{\"font\":{\"color\":\"white\",\"size\":12},\"showarrow\":false,\"text\":\"50\",\"x\":60,\"y\":45.3},{\"font\":{\"color\":\"white\",\"size\":12},\"showarrow\":false,\"text\":\"40\",\"x\":70,\"y\":8},{\"font\":{\"color\":\"white\",\"size\":12},\"showarrow\":false,\"text\":\"40\",\"x\":70,\"y\":45.3},{\"font\":{\"color\":\"white\",\"size\":12},\"showarrow\":false,\"text\":\"30\",\"x\":80,\"y\":8},{\"font\":{\"color\":\"white\",\"size\":12},\"showarrow\":false,\"text\":\"30\",\"x\":80,\"y\":45.3},{\"font\":{\"color\":\"white\",\"size\":12},\"showarrow\":false,\"text\":\"20\",\"x\":90,\"y\":8},{\"font\":{\"color\":\"white\",\"size\":12},\"showarrow\":false,\"text\":\"20\",\"x\":90,\"y\":45.3},{\"font\":{\"color\":\"white\",\"size\":12},\"showarrow\":false,\"text\":\"10\",\"x\":100,\"y\":8},{\"font\":{\"color\":\"white\",\"size\":12},\"showarrow\":false,\"text\":\"10\",\"x\":100,\"y\":45.3},{\"font\":{\"color\":\"black\",\"size\":14},\"showarrow\":false,\"text\":\"LA : 14 BUF : 31 || 3rd 4:14 || 3rd and 4\",\"x\":0.5,\"xref\":\"paper\",\"y\":-0.2,\"yref\":\"paper\"}],\"height\":533,\"shapes\":[{\"fillcolor\":\"blue\",\"opacity\":0.5,\"type\":\"rect\",\"x0\":0,\"x1\":10,\"y0\":0,\"y1\":53.3},{\"fillcolor\":\"blue\",\"opacity\":0.5,\"type\":\"rect\",\"x0\":110,\"x1\":120,\"y0\":0,\"y1\":53.3},{\"line\":{\"color\":\"blue\"},\"type\":\"line\",\"x0\":106,\"x1\":106,\"y0\":0,\"y1\":53.3},{\"line\":{\"color\":\"yellow\"},\"type\":\"line\",\"x0\":110,\"x1\":110,\"y0\":0,\"y1\":53.3},{\"line\":{\"color\":\"white\",\"width\":1},\"type\":\"line\",\"x0\":10,\"x1\":10,\"y0\":0,\"y1\":53.3},{\"line\":{\"color\":\"white\",\"width\":1},\"type\":\"line\",\"x0\":15,\"x1\":15,\"y0\":0,\"y1\":53.3},{\"line\":{\"color\":\"white\",\"width\":1},\"type\":\"line\",\"x0\":20,\"x1\":20,\"y0\":0,\"y1\":53.3},{\"line\":{\"color\":\"white\",\"width\":1},\"type\":\"line\",\"x0\":25,\"x1\":25,\"y0\":0,\"y1\":53.3},{\"line\":{\"color\":\"white\",\"width\":1},\"type\":\"line\",\"x0\":30,\"x1\":30,\"y0\":0,\"y1\":53.3},{\"line\":{\"color\":\"white\",\"width\":1},\"type\":\"line\",\"x0\":35,\"x1\":35,\"y0\":0,\"y1\":53.3},{\"line\":{\"color\":\"white\",\"width\":1},\"type\":\"line\",\"x0\":40,\"x1\":40,\"y0\":0,\"y1\":53.3},{\"line\":{\"color\":\"white\",\"width\":1},\"type\":\"line\",\"x0\":45,\"x1\":45,\"y0\":0,\"y1\":53.3},{\"line\":{\"color\":\"white\",\"width\":1},\"type\":\"line\",\"x0\":50,\"x1\":50,\"y0\":0,\"y1\":53.3},{\"line\":{\"color\":\"white\",\"width\":1},\"type\":\"line\",\"x0\":55,\"x1\":55,\"y0\":0,\"y1\":53.3},{\"line\":{\"color\":\"white\",\"width\":1},\"type\":\"line\",\"x0\":60,\"x1\":60,\"y0\":0,\"y1\":53.3},{\"line\":{\"color\":\"white\",\"width\":1},\"type\":\"line\",\"x0\":65,\"x1\":65,\"y0\":0,\"y1\":53.3},{\"line\":{\"color\":\"white\",\"width\":1},\"type\":\"line\",\"x0\":70,\"x1\":70,\"y0\":0,\"y1\":53.3},{\"line\":{\"color\":\"white\",\"width\":1},\"type\":\"line\",\"x0\":75,\"x1\":75,\"y0\":0,\"y1\":53.3},{\"line\":{\"color\":\"white\",\"width\":1},\"type\":\"line\",\"x0\":80,\"x1\":80,\"y0\":0,\"y1\":53.3},{\"line\":{\"color\":\"white\",\"width\":1},\"type\":\"line\",\"x0\":85,\"x1\":85,\"y0\":0,\"y1\":53.3},{\"line\":{\"color\":\"white\",\"width\":1},\"type\":\"line\",\"x0\":90,\"x1\":90,\"y0\":0,\"y1\":53.3},{\"line\":{\"color\":\"white\",\"width\":1},\"type\":\"line\",\"x0\":95,\"x1\":95,\"y0\":0,\"y1\":53.3},{\"line\":{\"color\":\"white\",\"width\":1},\"type\":\"line\",\"x0\":100,\"x1\":100,\"y0\":0,\"y1\":53.3},{\"line\":{\"color\":\"white\",\"width\":1},\"type\":\"line\",\"x0\":105,\"x1\":105,\"y0\":0,\"y1\":53.3},{\"line\":{\"color\":\"white\",\"width\":1},\"type\":\"line\",\"x0\":110,\"x1\":110,\"y0\":0,\"y1\":53.3}],\"showlegend\":true,\"width\":1200,\"plot_bgcolor\":\"green\"},                        {\"responsive\": true}                    ).then(function(){\n",
       "                            Plotly.addFrames('6d435924-f410-4ed6-8b31-f23a17cb2c68', [{\"data\":[{\"customdata\":[[91.0,\"Fletcher Cox\",1.25,null],[2.0,\"Darius Slay\",2.33,null],[24.0,\"James Bradberry\",3.93,null],[97.0,\"Javon Hargrave\",2.19,null],[43.0,\"Kyzir White\",4.26,null],[29.0,\"Avonte Maddox\",6.92,null],[94.0,\"Josh Sweat\",1.42,null],[23.0,\"Chauncey Gardner-Johnson\",1.25,null],[22.0,\"Marcus Epps\",3.83,null],[57.0,\"T.J. Edwards\",1.65,null],[48.0,\"Patrick Johnson\",3.51,null]],\"hovertemplate\":\"club=PHI\\u003cbr\\u003eframeId=1\\u003cbr\\u003ex=%{x}\\u003cbr\\u003ey=%{y}\\u003cbr\\u003ejerseyNumber=%{customdata[0]}\\u003cbr\\u003edisplayName=%{customdata[1]}\\u003cbr\\u003es=%{customdata[2]}\\u003cbr\\u003eevent=%{customdata[3]}\\u003cextra\\u003e\\u003c\\u002fextra\\u003e\",\"legendgroup\":\"PHI\",\"marker\":{\"color\":\"#004C54\",\"symbol\":\"circle\"},\"mode\":\"markers\",\"name\":\"PHI\",\"orientation\":\"v\",\"showlegend\":true,\"x\":[100.89,111.7,112.41,98.51,109.08,115.15,97.71,113.64,109.7,107.05,95.38],\"xaxis\":\"x\",\"y\":[28.92,13.31,35.43,29.33,34.27,16.46,31.24,31.46,43.61,33.35,27.7],\"yaxis\":\"y\",\"type\":\"scatter\"},{\"customdata\":[[16.0,\"Jared Goff\",0.7,null],[68.0,\"Taylor Decker\",0.47,null],[8.0,\"Josh Reynolds\",6.15,null],[77.0,\"Frank Ragnow\",1.18,null],[4.0,\"D.J. Chark\",3.01,null],[88.0,\"T.J. Hockenson\",4.73,null],[32.0,\"D'Andre Swift\",5.78,null],[73.0,\"Jonah Jackson\",1.61,null],[71.0,\"Logan Stenberg\",2.02,null],[58.0,\"Penei Sewell\",1.67,null],[14.0,\"Amon-Ra St. Brown\",4.35,null]],\"hovertemplate\":\"club=DET\\u003cbr\\u003eframeId=1\\u003cbr\\u003ex=%{x}\\u003cbr\\u003ey=%{y}\\u003cbr\\u003ejerseyNumber=%{customdata[0]}\\u003cbr\\u003edisplayName=%{customdata[1]}\\u003cbr\\u003es=%{customdata[2]}\\u003cbr\\u003eevent=%{customdata[3]}\\u003cextra\\u003e\\u003c\\u002fextra\\u003e\",\"legendgroup\":\"DET\",\"marker\":{\"color\":\"#0076B6\",\"symbol\":\"circle\"},\"mode\":\"markers\",\"name\":\"DET\",\"orientation\":\"v\",\"showlegend\":true,\"x\":[98.03,96.44,115.81,100.03,110.59,114.02,109.36,96.83,96.43,96.5,108.23],\"xaxis\":\"x\",\"y\":[29.08,31.0,16.77,28.92,14.23,35.38,32.45,31.26,25.23,26.81,42.87],\"yaxis\":\"y\",\"type\":\"scatter\"},{\"customdata\":[[null,\"football\",23.0599994659424,null]],\"hovertemplate\":\"club=football\\u003cbr\\u003eframeId=1\\u003cbr\\u003ex=%{x}\\u003cbr\\u003ey=%{y}\\u003cbr\\u003ejerseyNumber=%{customdata[0]}\\u003cbr\\u003edisplayName=%{customdata[1]}\\u003cbr\\u003es=%{customdata[2]}\\u003cbr\\u003eevent=%{customdata[3]}\\u003cextra\\u003e\\u003c\\u002fextra\\u003e\",\"legendgroup\":\"football\",\"marker\":{\"color\":\"#CBB67C\",\"symbol\":\"circle\"},\"mode\":\"markers\",\"name\":\"football\",\"orientation\":\"v\",\"showlegend\":true,\"x\":[105.540000915527],\"xaxis\":\"x\",\"y\":[38.2900009155273],\"yaxis\":\"y\",\"type\":\"scatter\"}],\"name\":\"1\"},{\"data\":[{\"customdata\":[[91.0,\"Fletcher Cox\",1.51,null],[2.0,\"Darius Slay\",2.8,null],[24.0,\"James Bradberry\",3.93,null],[97.0,\"Javon Hargrave\",1.94,null],[43.0,\"Kyzir White\",4.08,null],[29.0,\"Avonte Maddox\",6.7,null],[94.0,\"Josh Sweat\",1.51,null],[23.0,\"Chauncey Gardner-Johnson\",1.4,null],[22.0,\"Marcus Epps\",4.25,null],[57.0,\"T.J. Edwards\",2.09,null],[48.0,\"Patrick Johnson\",3.4,null]],\"hovertemplate\":\"club=PHI\\u003cbr\\u003eframeId=2\\u003cbr\\u003ex=%{x}\\u003cbr\\u003ey=%{y}\\u003cbr\\u003ejerseyNumber=%{customdata[0]}\\u003cbr\\u003edisplayName=%{customdata[1]}\\u003cbr\\u003es=%{customdata[2]}\\u003cbr\\u003eevent=%{customdata[3]}\\u003cextra\\u003e\\u003c\\u002fextra\\u003e\",\"legendgroup\":\"PHI\",\"marker\":{\"color\":\"#004C54\",\"symbol\":\"circle\"},\"mode\":\"markers\",\"name\":\"PHI\",\"orientation\":\"v\",\"showlegend\":true,\"x\":[101.03,111.74,112.76,98.46,109.29,115.53,97.84,113.57,109.61,107.15,95.18],\"xaxis\":\"x\",\"y\":[28.97,13.57,35.26,29.14,33.91,15.89,31.15,31.58,43.21,33.52,27.98],\"yaxis\":\"y\",\"type\":\"scatter\"},{\"customdata\":[[16.0,\"Jared Goff\",0.87,null],[68.0,\"Taylor Decker\",0.36,null],[8.0,\"Josh Reynolds\",5.86,null],[77.0,\"Frank Ragnow\",1.16,null],[4.0,\"D.J. Chark\",3.23,null],[88.0,\"T.J. Hockenson\",4.69,null],[32.0,\"D'Andre Swift\",5.65,null],[73.0,\"Jonah Jackson\",1.51,null],[71.0,\"Logan Stenberg\",1.7,null],[58.0,\"Penei Sewell\",1.49,null],[14.0,\"Amon-Ra St. Brown\",4.42,null]],\"hovertemplate\":\"club=DET\\u003cbr\\u003eframeId=2\\u003cbr\\u003ex=%{x}\\u003cbr\\u003ey=%{y}\\u003cbr\\u003ejerseyNumber=%{customdata[0]}\\u003cbr\\u003edisplayName=%{customdata[1]}\\u003cbr\\u003es=%{customdata[2]}\\u003cbr\\u003eevent=%{customdata[3]}\\u003cextra\\u003e\\u003c\\u002fextra\\u003e\",\"legendgroup\":\"DET\",\"marker\":{\"color\":\"#0076B6\",\"symbol\":\"circle\"},\"mode\":\"markers\",\"name\":\"DET\",\"orientation\":\"v\",\"showlegend\":true,\"x\":[97.98,96.4,116.12,100.09,110.64,114.49,109.73,96.74,96.26,96.35,108.34],\"xaxis\":\"x\",\"y\":[29.02,30.99,16.26,28.82,14.54,35.33,32.0,31.39,25.2,26.86,42.44],\"yaxis\":\"y\",\"type\":\"scatter\"},{\"customdata\":[[null,\"football\",22.6800003051758,null]],\"hovertemplate\":\"club=football\\u003cbr\\u003eframeId=2\\u003cbr\\u003ex=%{x}\\u003cbr\\u003ey=%{y}\\u003cbr\\u003ejerseyNumber=%{customdata[0]}\\u003cbr\\u003edisplayName=%{customdata[1]}\\u003cbr\\u003es=%{customdata[2]}\\u003cbr\\u003eevent=%{customdata[3]}\\u003cextra\\u003e\\u003c\\u002fextra\\u003e\",\"legendgroup\":\"football\",\"marker\":{\"color\":\"#CBB67C\",\"symbol\":\"circle\"},\"mode\":\"markers\",\"name\":\"football\",\"orientation\":\"v\",\"showlegend\":true,\"x\":[106.930000305176],\"xaxis\":\"x\",\"y\":[40.0999984741211],\"yaxis\":\"y\",\"type\":\"scatter\"}],\"name\":\"2\"},{\"data\":[{\"customdata\":[[91.0,\"Fletcher Cox\",1.6,\"pass_arrived\"],[2.0,\"Darius Slay\",3.18,\"pass_arrived\"],[24.0,\"James Bradberry\",3.86,\"pass_arrived\"],[97.0,\"Javon Hargrave\",1.67,\"pass_arrived\"],[43.0,\"Kyzir White\",3.85,\"pass_arrived\"],[29.0,\"Avonte Maddox\",6.45,\"pass_arrived\"],[94.0,\"Josh Sweat\",1.64,\"pass_arrived\"],[23.0,\"Chauncey Gardner-Johnson\",1.56,\"pass_arrived\"],[22.0,\"Marcus Epps\",4.58,\"pass_arrived\"],[57.0,\"T.J. Edwards\",2.52,\"pass_arrived\"],[48.0,\"Patrick Johnson\",3.32,\"pass_arrived\"]],\"hovertemplate\":\"club=PHI\\u003cbr\\u003eframeId=3\\u003cbr\\u003ex=%{x}\\u003cbr\\u003ey=%{y}\\u003cbr\\u003ejerseyNumber=%{customdata[0]}\\u003cbr\\u003edisplayName=%{customdata[1]}\\u003cbr\\u003es=%{customdata[2]}\\u003cbr\\u003eevent=%{customdata[3]}\\u003cextra\\u003e\\u003c\\u002fextra\\u003e\",\"legendgroup\":\"PHI\",\"marker\":{\"color\":\"#004C54\",\"symbol\":\"circle\"},\"mode\":\"markers\",\"name\":\"PHI\",\"orientation\":\"v\",\"showlegend\":true,\"x\":[101.18,111.78,113.12,98.4,109.51,115.89,97.98,113.52,109.54,107.28,95.03],\"xaxis\":\"x\",\"y\":[29.01,13.87,35.11,28.99,33.58,15.34,31.07,31.72,42.78,33.71,28.28],\"yaxis\":\"y\",\"type\":\"scatter\"},{\"customdata\":[[16.0,\"Jared Goff\",0.95,\"pass_arrived\"],[68.0,\"Taylor Decker\",0.31,\"pass_arrived\"],[8.0,\"Josh Reynolds\",5.58,\"pass_arrived\"],[77.0,\"Frank Ragnow\",1.16,\"pass_arrived\"],[4.0,\"D.J. Chark\",3.42,\"pass_arrived\"],[88.0,\"T.J. Hockenson\",4.54,\"pass_arrived\"],[32.0,\"D'Andre Swift\",5.34,\"pass_arrived\"],[73.0,\"Jonah Jackson\",1.52,\"pass_arrived\"],[71.0,\"Logan Stenberg\",1.39,\"pass_arrived\"],[58.0,\"Penei Sewell\",1.35,\"pass_arrived\"],[14.0,\"Amon-Ra St. Brown\",4.46,\"pass_arrived\"]],\"hovertemplate\":\"club=DET\\u003cbr\\u003eframeId=3\\u003cbr\\u003ex=%{x}\\u003cbr\\u003ey=%{y}\\u003cbr\\u003ejerseyNumber=%{customdata[0]}\\u003cbr\\u003edisplayName=%{customdata[1]}\\u003cbr\\u003es=%{customdata[2]}\\u003cbr\\u003eevent=%{customdata[3]}\\u003cextra\\u003e\\u003c\\u002fextra\\u003e\",\"legendgroup\":\"DET\",\"marker\":{\"color\":\"#0076B6\",\"symbol\":\"circle\"},\"mode\":\"markers\",\"name\":\"DET\",\"orientation\":\"v\",\"showlegend\":true,\"x\":[97.91,96.37,116.42,100.16,110.68,114.94,110.06,96.69,96.11,96.22,108.46],\"xaxis\":\"x\",\"y\":[28.96,30.98,15.78,28.73,14.87,35.29,31.57,31.53,25.17,26.92,42.01],\"yaxis\":\"y\",\"type\":\"scatter\"},{\"customdata\":[[null,\"football\",22.2199993133545,\"pass_arrived\"]],\"hovertemplate\":\"club=football\\u003cbr\\u003eframeId=3\\u003cbr\\u003ex=%{x}\\u003cbr\\u003ey=%{y}\\u003cbr\\u003ejerseyNumber=%{customdata[0]}\\u003cbr\\u003edisplayName=%{customdata[1]}\\u003cbr\\u003es=%{customdata[2]}\\u003cbr\\u003eevent=%{customdata[3]}\\u003cextra\\u003e\\u003c\\u002fextra\\u003e\",\"legendgroup\":\"football\",\"marker\":{\"color\":\"#CBB67C\",\"symbol\":\"circle\"},\"mode\":\"markers\",\"name\":\"football\",\"orientation\":\"v\",\"showlegend\":true,\"x\":[108.300003051758],\"xaxis\":\"x\",\"y\":[41.8800010681152],\"yaxis\":\"y\",\"type\":\"scatter\"}],\"name\":\"3\"},{\"data\":[{\"customdata\":[[91.0,\"Fletcher Cox\",1.69,null],[2.0,\"Darius Slay\",3.43,null],[24.0,\"James Bradberry\",3.76,null],[97.0,\"Javon Hargrave\",1.46,null],[43.0,\"Kyzir White\",3.57,null],[29.0,\"Avonte Maddox\",6.14,null],[94.0,\"Josh Sweat\",1.73,null],[23.0,\"Chauncey Gardner-Johnson\",1.69,null],[22.0,\"Marcus Epps\",4.79,null],[57.0,\"T.J. Edwards\",2.98,null],[48.0,\"Patrick Johnson\",3.27,null]],\"hovertemplate\":\"club=PHI\\u003cbr\\u003eframeId=4\\u003cbr\\u003ex=%{x}\\u003cbr\\u003ey=%{y}\\u003cbr\\u003ejerseyNumber=%{customdata[0]}\\u003cbr\\u003edisplayName=%{customdata[1]}\\u003cbr\\u003es=%{customdata[2]}\\u003cbr\\u003eevent=%{customdata[3]}\\u003cextra\\u003e\\u003c\\u002fextra\\u003e\",\"legendgroup\":\"PHI\",\"marker\":{\"color\":\"#004C54\",\"symbol\":\"circle\"},\"mode\":\"markers\",\"name\":\"PHI\",\"orientation\":\"v\",\"showlegend\":true,\"x\":[101.34,111.81,113.48,98.35,109.73,116.22,98.14,113.47,109.48,107.44,94.93],\"xaxis\":\"x\",\"y\":[29.06,14.2,34.98,28.84,33.29,14.82,31.0,31.88,42.32,33.94,28.59],\"yaxis\":\"y\",\"type\":\"scatter\"},{\"customdata\":[[16.0,\"Jared Goff\",0.99,null],[68.0,\"Taylor Decker\",0.29,null],[8.0,\"Josh Reynolds\",5.28,null],[77.0,\"Frank Ragnow\",1.13,null],[4.0,\"D.J. Chark\",3.54,null],[88.0,\"T.J. Hockenson\",4.33,null],[32.0,\"D'Andre Swift\",5.13,null],[73.0,\"Jonah Jackson\",1.75,null],[71.0,\"Logan Stenberg\",1.1,null],[58.0,\"Penei Sewell\",1.29,null],[14.0,\"Amon-Ra St. Brown\",4.45,null]],\"hovertemplate\":\"club=DET\\u003cbr\\u003eframeId=4\\u003cbr\\u003ex=%{x}\\u003cbr\\u003ey=%{y}\\u003cbr\\u003ejerseyNumber=%{customdata[0]}\\u003cbr\\u003edisplayName=%{customdata[1]}\\u003cbr\\u003es=%{customdata[2]}\\u003cbr\\u003eevent=%{customdata[3]}\\u003cextra\\u003e\\u003c\\u002fextra\\u003e\",\"legendgroup\":\"DET\",\"marker\":{\"color\":\"#0076B6\",\"symbol\":\"circle\"},\"mode\":\"markers\",\"name\":\"DET\",\"orientation\":\"v\",\"showlegend\":true,\"x\":[97.84,96.34,116.71,100.25,110.71,115.38,110.35,96.67,96.0,96.1,108.58],\"xaxis\":\"x\",\"y\":[28.9,30.99,15.32,28.66,15.22,35.26,31.13,31.69,25.15,26.99,41.58],\"yaxis\":\"y\",\"type\":\"scatter\"},{\"customdata\":[[null,\"football\",21.9699993133545,null]],\"hovertemplate\":\"club=football\\u003cbr\\u003eframeId=4\\u003cbr\\u003ex=%{x}\\u003cbr\\u003ey=%{y}\\u003cbr\\u003ejerseyNumber=%{customdata[0]}\\u003cbr\\u003edisplayName=%{customdata[1]}\\u003cbr\\u003es=%{customdata[2]}\\u003cbr\\u003eevent=%{customdata[3]}\\u003cextra\\u003e\\u003c\\u002fextra\\u003e\",\"legendgroup\":\"football\",\"marker\":{\"color\":\"#CBB67C\",\"symbol\":\"circle\"},\"mode\":\"markers\",\"name\":\"football\",\"orientation\":\"v\",\"showlegend\":true,\"x\":[108.73999786377],\"xaxis\":\"x\",\"y\":[42.4500007629395],\"yaxis\":\"y\",\"type\":\"scatter\"}],\"name\":\"4\"},{\"data\":[{\"customdata\":[[91.0,\"Fletcher Cox\",1.77,null],[2.0,\"Darius Slay\",3.63,null],[24.0,\"James Bradberry\",3.54,null],[97.0,\"Javon Hargrave\",1.27,null],[43.0,\"Kyzir White\",3.31,null],[29.0,\"Avonte Maddox\",5.82,null],[94.0,\"Josh Sweat\",1.84,null],[23.0,\"Chauncey Gardner-Johnson\",1.92,null],[22.0,\"Marcus Epps\",4.89,null],[57.0,\"T.J. Edwards\",3.36,null],[48.0,\"Patrick Johnson\",3.21,null]],\"hovertemplate\":\"club=PHI\\u003cbr\\u003eframeId=5\\u003cbr\\u003ex=%{x}\\u003cbr\\u003ey=%{y}\\u003cbr\\u003ejerseyNumber=%{customdata[0]}\\u003cbr\\u003edisplayName=%{customdata[1]}\\u003cbr\\u003es=%{customdata[2]}\\u003cbr\\u003eevent=%{customdata[3]}\\u003cextra\\u003e\\u003c\\u002fextra\\u003e\",\"legendgroup\":\"PHI\",\"marker\":{\"color\":\"#004C54\",\"symbol\":\"circle\"},\"mode\":\"markers\",\"name\":\"PHI\",\"orientation\":\"v\",\"showlegend\":true,\"x\":[101.51,111.85,113.83,98.3,109.96,116.55,98.31,113.42,109.42,107.64,94.87],\"xaxis\":\"x\",\"y\":[29.11,14.55,34.89,28.71,33.02,14.31,30.92,32.06,41.84,34.19,28.91],\"yaxis\":\"y\",\"type\":\"scatter\"},{\"customdata\":[[16.0,\"Jared Goff\",1.0,null],[68.0,\"Taylor Decker\",0.29,null],[8.0,\"Josh Reynolds\",4.97,null],[77.0,\"Frank Ragnow\",1.1,null],[4.0,\"D.J. Chark\",3.54,null],[88.0,\"T.J. Hockenson\",4.08,null],[32.0,\"D'Andre Swift\",4.78,null],[73.0,\"Jonah Jackson\",1.87,null],[71.0,\"Logan Stenberg\",0.79,null],[58.0,\"Penei Sewell\",1.18,null],[14.0,\"Amon-Ra St. Brown\",4.47,null]],\"hovertemplate\":\"club=DET\\u003cbr\\u003eframeId=5\\u003cbr\\u003ex=%{x}\\u003cbr\\u003ey=%{y}\\u003cbr\\u003ejerseyNumber=%{customdata[0]}\\u003cbr\\u003edisplayName=%{customdata[1]}\\u003cbr\\u003es=%{customdata[2]}\\u003cbr\\u003eevent=%{customdata[3]}\\u003cextra\\u003e\\u003c\\u002fextra\\u003e\",\"legendgroup\":\"DET\",\"marker\":{\"color\":\"#0076B6\",\"symbol\":\"circle\"},\"mode\":\"markers\",\"name\":\"DET\",\"orientation\":\"v\",\"showlegend\":true,\"x\":[97.76,96.31,117.0,100.34,110.73,115.8,110.6,96.69,95.91,96.0,108.72],\"xaxis\":\"x\",\"y\":[28.84,31.01,14.89,28.61,15.57,35.25,30.71,31.87,25.13,27.06,41.15],\"yaxis\":\"y\",\"type\":\"scatter\"},{\"customdata\":[[null,\"football\",3.82999992370605,null]],\"hovertemplate\":\"club=football\\u003cbr\\u003eframeId=5\\u003cbr\\u003ex=%{x}\\u003cbr\\u003ey=%{y}\\u003cbr\\u003ejerseyNumber=%{customdata[0]}\\u003cbr\\u003edisplayName=%{customdata[1]}\\u003cbr\\u003es=%{customdata[2]}\\u003cbr\\u003eevent=%{customdata[3]}\\u003cextra\\u003e\\u003c\\u002fextra\\u003e\",\"legendgroup\":\"football\",\"marker\":{\"color\":\"#CBB67C\",\"symbol\":\"circle\"},\"mode\":\"markers\",\"name\":\"football\",\"orientation\":\"v\",\"showlegend\":true,\"x\":[108.550003051758],\"xaxis\":\"x\",\"y\":[40.7999992370605],\"yaxis\":\"y\",\"type\":\"scatter\"}],\"name\":\"5\"},{\"data\":[{\"customdata\":[[91.0,\"Fletcher Cox\",1.82,\"pass_outcome_caught\"],[2.0,\"Darius Slay\",3.68,\"pass_outcome_caught\"],[24.0,\"James Bradberry\",3.17,\"pass_outcome_caught\"],[97.0,\"Javon Hargrave\",1.09,\"pass_outcome_caught\"],[43.0,\"Kyzir White\",3.03,\"pass_outcome_caught\"],[29.0,\"Avonte Maddox\",5.46,\"pass_outcome_caught\"],[94.0,\"Josh Sweat\",1.9,\"pass_outcome_caught\"],[23.0,\"Chauncey Gardner-Johnson\",2.21,\"pass_outcome_caught\"],[22.0,\"Marcus Epps\",4.96,\"pass_outcome_caught\"],[57.0,\"T.J. Edwards\",3.74,\"pass_outcome_caught\"],[48.0,\"Patrick Johnson\",3.36,\"pass_outcome_caught\"]],\"hovertemplate\":\"club=PHI\\u003cbr\\u003eframeId=6\\u003cbr\\u003ex=%{x}\\u003cbr\\u003ey=%{y}\\u003cbr\\u003ejerseyNumber=%{customdata[0]}\\u003cbr\\u003edisplayName=%{customdata[1]}\\u003cbr\\u003es=%{customdata[2]}\\u003cbr\\u003eevent=%{customdata[3]}\\u003cextra\\u003e\\u003c\\u002fextra\\u003e\",\"legendgroup\":\"PHI\",\"marker\":{\"color\":\"#004C54\",\"symbol\":\"circle\"},\"mode\":\"markers\",\"name\":\"PHI\",\"orientation\":\"v\",\"showlegend\":true,\"x\":[101.68,111.88,114.16,98.25,110.18,116.85,98.48,113.4,109.38,107.88,94.86],\"xaxis\":\"x\",\"y\":[29.18,14.91,34.83,28.61,32.8,13.84,30.84,32.28,41.34,34.46,29.25],\"yaxis\":\"y\",\"type\":\"scatter\"},{\"customdata\":[[16.0,\"Jared Goff\",0.94,\"pass_outcome_caught\"],[68.0,\"Taylor Decker\",0.31,\"pass_outcome_caught\"],[8.0,\"Josh Reynolds\",4.74,\"pass_outcome_caught\"],[77.0,\"Frank Ragnow\",1.18,\"pass_outcome_caught\"],[4.0,\"D.J. Chark\",3.52,\"pass_outcome_caught\"],[88.0,\"T.J. Hockenson\",3.82,\"pass_outcome_caught\"],[32.0,\"D'Andre Swift\",4.56,\"pass_outcome_caught\"],[73.0,\"Jonah Jackson\",2.1,\"pass_outcome_caught\"],[71.0,\"Logan Stenberg\",0.5,\"pass_outcome_caught\"],[58.0,\"Penei Sewell\",1.13,\"pass_outcome_caught\"],[14.0,\"Amon-Ra St. Brown\",4.56,\"pass_outcome_caught\"]],\"hovertemplate\":\"club=DET\\u003cbr\\u003eframeId=6\\u003cbr\\u003ex=%{x}\\u003cbr\\u003ey=%{y}\\u003cbr\\u003ejerseyNumber=%{customdata[0]}\\u003cbr\\u003edisplayName=%{customdata[1]}\\u003cbr\\u003es=%{customdata[2]}\\u003cbr\\u003eevent=%{customdata[3]}\\u003cextra\\u003e\\u003c\\u002fextra\\u003e\",\"legendgroup\":\"DET\",\"marker\":{\"color\":\"#0076B6\",\"symbol\":\"circle\"},\"mode\":\"markers\",\"name\":\"DET\",\"orientation\":\"v\",\"showlegend\":true,\"x\":[97.69,96.29,117.27,100.47,110.74,116.19,110.82,96.73,95.86,95.91,108.89],\"xaxis\":\"x\",\"y\":[28.79,31.03,14.49,28.58,15.92,35.24,30.3,32.07,25.12,27.13,40.72],\"yaxis\":\"y\",\"type\":\"scatter\"},{\"customdata\":[[null,\"football\",3.8199999332428,\"pass_outcome_caught\"]],\"hovertemplate\":\"club=football\\u003cbr\\u003eframeId=6\\u003cbr\\u003ex=%{x}\\u003cbr\\u003ey=%{y}\\u003cbr\\u003ejerseyNumber=%{customdata[0]}\\u003cbr\\u003edisplayName=%{customdata[1]}\\u003cbr\\u003es=%{customdata[2]}\\u003cbr\\u003eevent=%{customdata[3]}\\u003cextra\\u003e\\u003c\\u002fextra\\u003e\",\"legendgroup\":\"football\",\"marker\":{\"color\":\"#CBB67C\",\"symbol\":\"circle\"},\"mode\":\"markers\",\"name\":\"football\",\"orientation\":\"v\",\"showlegend\":true,\"x\":[108.730003356934],\"xaxis\":\"x\",\"y\":[40.4099998474121],\"yaxis\":\"y\",\"type\":\"scatter\"}],\"name\":\"6\"},{\"data\":[{\"customdata\":[[91.0,\"Fletcher Cox\",1.79,\"first_contact\"],[2.0,\"Darius Slay\",3.64,\"first_contact\"],[24.0,\"James Bradberry\",2.85,\"first_contact\"],[97.0,\"Javon Hargrave\",0.84,\"first_contact\"],[43.0,\"Kyzir White\",2.7,\"first_contact\"],[29.0,\"Avonte Maddox\",5.11,\"first_contact\"],[94.0,\"Josh Sweat\",1.97,\"first_contact\"],[23.0,\"Chauncey Gardner-Johnson\",2.42,\"first_contact\"],[22.0,\"Marcus Epps\",4.98,\"first_contact\"],[57.0,\"T.J. Edwards\",4.04,\"first_contact\"],[48.0,\"Patrick Johnson\",3.49,\"first_contact\"]],\"hovertemplate\":\"club=PHI\\u003cbr\\u003eframeId=7\\u003cbr\\u003ex=%{x}\\u003cbr\\u003ey=%{y}\\u003cbr\\u003ejerseyNumber=%{customdata[0]}\\u003cbr\\u003edisplayName=%{customdata[1]}\\u003cbr\\u003es=%{customdata[2]}\\u003cbr\\u003eevent=%{customdata[3]}\\u003cextra\\u003e\\u003c\\u002fextra\\u003e\",\"legendgroup\":\"PHI\",\"marker\":{\"color\":\"#004C54\",\"symbol\":\"circle\"},\"mode\":\"markers\",\"name\":\"PHI\",\"orientation\":\"v\",\"showlegend\":true,\"x\":[101.84,111.91,114.46,98.21,110.39,117.13,98.67,113.37,109.35,108.13,94.89],\"xaxis\":\"x\",\"y\":[29.25,15.28,34.8,28.53,32.6,13.4,30.75,32.52,40.85,34.76,29.59],\"yaxis\":\"y\",\"type\":\"scatter\"},{\"customdata\":[[16.0,\"Jared Goff\",0.89,\"first_contact\"],[68.0,\"Taylor Decker\",0.33,\"first_contact\"],[8.0,\"Josh Reynolds\",4.38,\"first_contact\"],[77.0,\"Frank Ragnow\",1.27,\"first_contact\"],[4.0,\"D.J. Chark\",3.49,\"first_contact\"],[88.0,\"T.J. Hockenson\",3.55,\"first_contact\"],[32.0,\"D'Andre Swift\",4.25,\"first_contact\"],[73.0,\"Jonah Jackson\",2.14,\"first_contact\"],[71.0,\"Logan Stenberg\",0.25,\"first_contact\"],[58.0,\"Penei Sewell\",1.06,\"first_contact\"],[14.0,\"Amon-Ra St. Brown\",4.56,\"first_contact\"]],\"hovertemplate\":\"club=DET\\u003cbr\\u003eframeId=7\\u003cbr\\u003ex=%{x}\\u003cbr\\u003ey=%{y}\\u003cbr\\u003ejerseyNumber=%{customdata[0]}\\u003cbr\\u003edisplayName=%{customdata[1]}\\u003cbr\\u003es=%{customdata[2]}\\u003cbr\\u003eevent=%{customdata[3]}\\u003cextra\\u003e\\u003c\\u002fextra\\u003e\",\"legendgroup\":\"DET\",\"marker\":{\"color\":\"#0076B6\",\"symbol\":\"circle\"},\"mode\":\"markers\",\"name\":\"DET\",\"orientation\":\"v\",\"showlegend\":true,\"x\":[97.61,96.27,117.53,100.6,110.75,116.56,111.01,96.77,95.83,95.84,109.08],\"xaxis\":\"x\",\"y\":[28.75,31.06,14.12,28.57,16.27,35.24,29.9,32.28,25.11,27.22,40.3],\"yaxis\":\"y\",\"type\":\"scatter\"},{\"customdata\":[[null,\"football\",3.79999995231628,\"first_contact\"]],\"hovertemplate\":\"club=football\\u003cbr\\u003eframeId=7\\u003cbr\\u003ex=%{x}\\u003cbr\\u003ey=%{y}\\u003cbr\\u003ejerseyNumber=%{customdata[0]}\\u003cbr\\u003edisplayName=%{customdata[1]}\\u003cbr\\u003es=%{customdata[2]}\\u003cbr\\u003eevent=%{customdata[3]}\\u003cextra\\u003e\\u003c\\u002fextra\\u003e\",\"legendgroup\":\"football\",\"marker\":{\"color\":\"#CBB67C\",\"symbol\":\"circle\"},\"mode\":\"markers\",\"name\":\"football\",\"orientation\":\"v\",\"showlegend\":true,\"x\":[109.040000915527],\"xaxis\":\"x\",\"y\":[39.939998626709],\"yaxis\":\"y\",\"type\":\"scatter\"}],\"name\":\"7\"},{\"data\":[{\"customdata\":[[91.0,\"Fletcher Cox\",1.81,null],[2.0,\"Darius Slay\",3.59,null],[24.0,\"James Bradberry\",2.42,null],[97.0,\"Javon Hargrave\",0.62,null],[43.0,\"Kyzir White\",2.3,null],[29.0,\"Avonte Maddox\",4.68,null],[94.0,\"Josh Sweat\",2.02,null],[23.0,\"Chauncey Gardner-Johnson\",2.59,null],[22.0,\"Marcus Epps\",4.99,null],[57.0,\"T.J. Edwards\",4.28,null],[48.0,\"Patrick Johnson\",3.7,null]],\"hovertemplate\":\"club=PHI\\u003cbr\\u003eframeId=8\\u003cbr\\u003ex=%{x}\\u003cbr\\u003ey=%{y}\\u003cbr\\u003ejerseyNumber=%{customdata[0]}\\u003cbr\\u003edisplayName=%{customdata[1]}\\u003cbr\\u003es=%{customdata[2]}\\u003cbr\\u003eevent=%{customdata[3]}\\u003cextra\\u003e\\u003c\\u002fextra\\u003e\",\"legendgroup\":\"PHI\",\"marker\":{\"color\":\"#004C54\",\"symbol\":\"circle\"},\"mode\":\"markers\",\"name\":\"PHI\",\"orientation\":\"v\",\"showlegend\":true,\"x\":[102.01,111.93,114.72,98.19,110.58,117.39,98.86,113.35,109.34,108.41,94.96],\"xaxis\":\"x\",\"y\":[29.34,15.64,34.81,28.47,32.45,12.99,30.67,32.77,40.34,35.07,29.96],\"yaxis\":\"y\",\"type\":\"scatter\"},{\"customdata\":[[16.0,\"Jared Goff\",0.79,null],[68.0,\"Taylor Decker\",0.35,null],[8.0,\"Josh Reynolds\",4.08,null],[77.0,\"Frank Ragnow\",1.38,null],[4.0,\"D.J. Chark\",3.41,null],[88.0,\"T.J. Hockenson\",3.23,null],[32.0,\"D'Andre Swift\",3.95,null],[73.0,\"Jonah Jackson\",2.03,null],[71.0,\"Logan Stenberg\",0.1,null],[58.0,\"Penei Sewell\",0.96,null],[14.0,\"Amon-Ra St. Brown\",4.49,null]],\"hovertemplate\":\"club=DET\\u003cbr\\u003eframeId=8\\u003cbr\\u003ex=%{x}\\u003cbr\\u003ey=%{y}\\u003cbr\\u003ejerseyNumber=%{customdata[0]}\\u003cbr\\u003edisplayName=%{customdata[1]}\\u003cbr\\u003es=%{customdata[2]}\\u003cbr\\u003eevent=%{customdata[3]}\\u003cextra\\u003e\\u003c\\u002fextra\\u003e\",\"legendgroup\":\"DET\",\"marker\":{\"color\":\"#0076B6\",\"symbol\":\"circle\"},\"mode\":\"markers\",\"name\":\"DET\",\"orientation\":\"v\",\"showlegend\":true,\"x\":[97.53,96.25,117.77,100.73,110.75,116.9,111.16,96.82,95.83,95.78,109.25],\"xaxis\":\"x\",\"y\":[28.71,31.09,13.77,28.59,16.61,35.24,29.52,32.47,25.1,27.29,39.88],\"yaxis\":\"y\",\"type\":\"scatter\"},{\"customdata\":[[null,\"football\",3.55999994277954,null]],\"hovertemplate\":\"club=football\\u003cbr\\u003eframeId=8\\u003cbr\\u003ex=%{x}\\u003cbr\\u003ey=%{y}\\u003cbr\\u003ejerseyNumber=%{customdata[0]}\\u003cbr\\u003edisplayName=%{customdata[1]}\\u003cbr\\u003es=%{customdata[2]}\\u003cbr\\u003eevent=%{customdata[3]}\\u003cextra\\u003e\\u003c\\u002fextra\\u003e\",\"legendgroup\":\"football\",\"marker\":{\"color\":\"#CBB67C\",\"symbol\":\"circle\"},\"mode\":\"markers\",\"name\":\"football\",\"orientation\":\"v\",\"showlegend\":true,\"x\":[109.26000213623],\"xaxis\":\"x\",\"y\":[39.560001373291],\"yaxis\":\"y\",\"type\":\"scatter\"}],\"name\":\"8\"},{\"data\":[{\"customdata\":[[91.0,\"Fletcher Cox\",1.86,null],[2.0,\"Darius Slay\",3.48,null],[24.0,\"James Bradberry\",1.96,null],[97.0,\"Javon Hargrave\",0.45,null],[43.0,\"Kyzir White\",1.97,null],[29.0,\"Avonte Maddox\",4.31,null],[94.0,\"Josh Sweat\",2.02,null],[23.0,\"Chauncey Gardner-Johnson\",2.71,null],[22.0,\"Marcus Epps\",4.96,null],[57.0,\"T.J. Edwards\",4.44,null],[48.0,\"Patrick Johnson\",3.88,null]],\"hovertemplate\":\"club=PHI\\u003cbr\\u003eframeId=9\\u003cbr\\u003ex=%{x}\\u003cbr\\u003ey=%{y}\\u003cbr\\u003ejerseyNumber=%{customdata[0]}\\u003cbr\\u003edisplayName=%{customdata[1]}\\u003cbr\\u003es=%{customdata[2]}\\u003cbr\\u003eevent=%{customdata[3]}\\u003cextra\\u003e\\u003c\\u002fextra\\u003e\",\"legendgroup\":\"PHI\",\"marker\":{\"color\":\"#004C54\",\"symbol\":\"circle\"},\"mode\":\"markers\",\"name\":\"PHI\",\"orientation\":\"v\",\"showlegend\":true,\"x\":[102.19,111.93,114.93,98.16,110.76,117.64,99.06,113.31,109.34,108.71,95.06],\"xaxis\":\"x\",\"y\":[29.43,15.99,34.85,28.42,32.33,12.62,30.6,33.03,39.84,35.39,30.33],\"yaxis\":\"y\",\"type\":\"scatter\"},{\"customdata\":[[16.0,\"Jared Goff\",0.65,null],[68.0,\"Taylor Decker\",0.37,null],[8.0,\"Josh Reynolds\",3.58,null],[77.0,\"Frank Ragnow\",1.58,null],[4.0,\"D.J. Chark\",3.32,null],[88.0,\"T.J. Hockenson\",2.85,null],[32.0,\"D'Andre Swift\",3.61,null],[73.0,\"Jonah Jackson\",1.87,null],[71.0,\"Logan Stenberg\",0.29,null],[58.0,\"Penei Sewell\",0.88,null],[14.0,\"Amon-Ra St. Brown\",4.39,null]],\"hovertemplate\":\"club=DET\\u003cbr\\u003eframeId=9\\u003cbr\\u003ex=%{x}\\u003cbr\\u003ey=%{y}\\u003cbr\\u003ejerseyNumber=%{customdata[0]}\\u003cbr\\u003edisplayName=%{customdata[1]}\\u003cbr\\u003es=%{customdata[2]}\\u003cbr\\u003eevent=%{customdata[3]}\\u003cextra\\u003e\\u003c\\u002fextra\\u003e\",\"legendgroup\":\"DET\",\"marker\":{\"color\":\"#0076B6\",\"symbol\":\"circle\"},\"mode\":\"markers\",\"name\":\"DET\",\"orientation\":\"v\",\"showlegend\":true,\"x\":[97.47,96.25,117.98,100.89,110.74,117.2,111.26,96.85,95.86,95.73,109.43],\"xaxis\":\"x\",\"y\":[28.68,31.13,13.47,28.63,16.95,35.25,29.15,32.66,25.1,27.37,39.48],\"yaxis\":\"y\",\"type\":\"scatter\"},{\"customdata\":[[null,\"football\",3.25,null]],\"hovertemplate\":\"club=football\\u003cbr\\u003eframeId=9\\u003cbr\\u003ex=%{x}\\u003cbr\\u003ey=%{y}\\u003cbr\\u003ejerseyNumber=%{customdata[0]}\\u003cbr\\u003edisplayName=%{customdata[1]}\\u003cbr\\u003es=%{customdata[2]}\\u003cbr\\u003eevent=%{customdata[3]}\\u003cextra\\u003e\\u003c\\u002fextra\\u003e\",\"legendgroup\":\"football\",\"marker\":{\"color\":\"#CBB67C\",\"symbol\":\"circle\"},\"mode\":\"markers\",\"name\":\"football\",\"orientation\":\"v\",\"showlegend\":true,\"x\":[109.410003662109],\"xaxis\":\"x\",\"y\":[39.2700004577637],\"yaxis\":\"y\",\"type\":\"scatter\"}],\"name\":\"9\"},{\"data\":[{\"customdata\":[[91.0,\"Fletcher Cox\",1.88,null],[2.0,\"Darius Slay\",3.26,null],[24.0,\"James Bradberry\",1.57,null],[97.0,\"Javon Hargrave\",0.3,null],[43.0,\"Kyzir White\",1.57,null],[29.0,\"Avonte Maddox\",3.95,null],[94.0,\"Josh Sweat\",2.03,null],[23.0,\"Chauncey Gardner-Johnson\",2.78,null],[22.0,\"Marcus Epps\",4.91,null],[57.0,\"T.J. Edwards\",4.52,null],[48.0,\"Patrick Johnson\",4.1,null]],\"hovertemplate\":\"club=PHI\\u003cbr\\u003eframeId=10\\u003cbr\\u003ex=%{x}\\u003cbr\\u003ey=%{y}\\u003cbr\\u003ejerseyNumber=%{customdata[0]}\\u003cbr\\u003edisplayName=%{customdata[1]}\\u003cbr\\u003es=%{customdata[2]}\\u003cbr\\u003eevent=%{customdata[3]}\\u003cextra\\u003e\\u003c\\u002fextra\\u003e\",\"legendgroup\":\"PHI\",\"marker\":{\"color\":\"#004C54\",\"symbol\":\"circle\"},\"mode\":\"markers\",\"name\":\"PHI\",\"orientation\":\"v\",\"showlegend\":true,\"x\":[102.36,111.92,115.1,98.15,110.9,117.86,99.26,113.27,109.37,109.02,95.2],\"xaxis\":\"x\",\"y\":[29.53,16.33,34.91,28.39,32.24,12.27,30.54,33.3,39.35,35.71,30.71],\"yaxis\":\"y\",\"type\":\"scatter\"},{\"customdata\":[[16.0,\"Jared Goff\",0.52,null],[68.0,\"Taylor Decker\",0.44,null],[8.0,\"Josh Reynolds\",3.15,null],[77.0,\"Frank Ragnow\",1.73,null],[4.0,\"D.J. Chark\",3.22,null],[88.0,\"T.J. Hockenson\",2.53,null],[32.0,\"D'Andre Swift\",3.31,null],[73.0,\"Jonah Jackson\",1.71,null],[71.0,\"Logan Stenberg\",0.49,null],[58.0,\"Penei Sewell\",0.79,null],[14.0,\"Amon-Ra St. Brown\",4.28,null]],\"hovertemplate\":\"club=DET\\u003cbr\\u003eframeId=10\\u003cbr\\u003ex=%{x}\\u003cbr\\u003ey=%{y}\\u003cbr\\u003ejerseyNumber=%{customdata[0]}\\u003cbr\\u003edisplayName=%{customdata[1]}\\u003cbr\\u003es=%{customdata[2]}\\u003cbr\\u003eevent=%{customdata[3]}\\u003cextra\\u003e\\u003c\\u002fextra\\u003e\",\"legendgroup\":\"DET\",\"marker\":{\"color\":\"#0076B6\",\"symbol\":\"circle\"},\"mode\":\"markers\",\"name\":\"DET\",\"orientation\":\"v\",\"showlegend\":true,\"x\":[97.42,96.25,118.19,101.05,110.74,117.47,111.34,96.89,95.91,95.71,109.61],\"xaxis\":\"x\",\"y\":[28.66,31.18,13.21,28.69,17.28,35.27,28.81,32.83,25.11,27.45,39.08],\"yaxis\":\"y\",\"type\":\"scatter\"},{\"customdata\":[[null,\"football\",3.14000010490417,null]],\"hovertemplate\":\"club=football\\u003cbr\\u003eframeId=10\\u003cbr\\u003ex=%{x}\\u003cbr\\u003ey=%{y}\\u003cbr\\u003ejerseyNumber=%{customdata[0]}\\u003cbr\\u003edisplayName=%{customdata[1]}\\u003cbr\\u003es=%{customdata[2]}\\u003cbr\\u003eevent=%{customdata[3]}\\u003cextra\\u003e\\u003c\\u002fextra\\u003e\",\"legendgroup\":\"football\",\"marker\":{\"color\":\"#CBB67C\",\"symbol\":\"circle\"},\"mode\":\"markers\",\"name\":\"football\",\"orientation\":\"v\",\"showlegend\":true,\"x\":[109.559997558594],\"xaxis\":\"x\",\"y\":[38.9799995422363],\"yaxis\":\"y\",\"type\":\"scatter\"}],\"name\":\"10\"},{\"data\":[{\"customdata\":[[91.0,\"Fletcher Cox\",1.84,null],[2.0,\"Darius Slay\",3.03,null],[24.0,\"James Bradberry\",1.32,null],[97.0,\"Javon Hargrave\",0.23,null],[43.0,\"Kyzir White\",1.17,null],[29.0,\"Avonte Maddox\",3.55,null],[94.0,\"Josh Sweat\",1.98,null],[23.0,\"Chauncey Gardner-Johnson\",2.77,null],[22.0,\"Marcus Epps\",4.81,null],[57.0,\"T.J. Edwards\",4.53,null],[48.0,\"Patrick Johnson\",4.26,null]],\"hovertemplate\":\"club=PHI\\u003cbr\\u003eframeId=11\\u003cbr\\u003ex=%{x}\\u003cbr\\u003ey=%{y}\\u003cbr\\u003ejerseyNumber=%{customdata[0]}\\u003cbr\\u003edisplayName=%{customdata[1]}\\u003cbr\\u003es=%{customdata[2]}\\u003cbr\\u003eevent=%{customdata[3]}\\u003cextra\\u003e\\u003c\\u002fextra\\u003e\",\"legendgroup\":\"PHI\",\"marker\":{\"color\":\"#004C54\",\"symbol\":\"circle\"},\"mode\":\"markers\",\"name\":\"PHI\",\"orientation\":\"v\",\"showlegend\":true,\"x\":[102.52,111.91,115.22,98.13,111.02,118.05,99.46,113.24,109.4,109.34,95.36],\"xaxis\":\"x\",\"y\":[29.62,16.65,35.0,28.36,32.18,11.96,30.47,33.58,38.86,36.03,31.1],\"yaxis\":\"y\",\"type\":\"scatter\"},{\"customdata\":[[16.0,\"Jared Goff\",0.39,null],[68.0,\"Taylor Decker\",0.48,null],[8.0,\"Josh Reynolds\",2.67,null],[77.0,\"Frank Ragnow\",1.87,null],[4.0,\"D.J. Chark\",3.08,null],[88.0,\"T.J. Hockenson\",2.17,null],[32.0,\"D'Andre Swift\",3.03,null],[73.0,\"Jonah Jackson\",1.42,null],[71.0,\"Logan Stenberg\",0.64,null],[58.0,\"Penei Sewell\",0.74,null],[14.0,\"Amon-Ra St. Brown\",4.06,null]],\"hovertemplate\":\"club=DET\\u003cbr\\u003eframeId=11\\u003cbr\\u003ex=%{x}\\u003cbr\\u003ey=%{y}\\u003cbr\\u003ejerseyNumber=%{customdata[0]}\\u003cbr\\u003edisplayName=%{customdata[1]}\\u003cbr\\u003es=%{customdata[2]}\\u003cbr\\u003eevent=%{customdata[3]}\\u003cextra\\u003e\\u003c\\u002fextra\\u003e\",\"legendgroup\":\"DET\",\"marker\":{\"color\":\"#0076B6\",\"symbol\":\"circle\"},\"mode\":\"markers\",\"name\":\"DET\",\"orientation\":\"v\",\"showlegend\":true,\"x\":[97.38,96.27,118.37,101.23,110.75,117.7,111.38,96.92,95.97,95.69,109.79],\"xaxis\":\"x\",\"y\":[28.65,31.22,13.0,28.76,17.59,35.28,28.5,32.97,25.11,27.53,38.71],\"yaxis\":\"y\",\"type\":\"scatter\"},{\"customdata\":[[null,\"football\",2.96000003814697,null]],\"hovertemplate\":\"club=football\\u003cbr\\u003eframeId=11\\u003cbr\\u003ex=%{x}\\u003cbr\\u003ey=%{y}\\u003cbr\\u003ejerseyNumber=%{customdata[0]}\\u003cbr\\u003edisplayName=%{customdata[1]}\\u003cbr\\u003es=%{customdata[2]}\\u003cbr\\u003eevent=%{customdata[3]}\\u003cextra\\u003e\\u003c\\u002fextra\\u003e\",\"legendgroup\":\"football\",\"marker\":{\"color\":\"#CBB67C\",\"symbol\":\"circle\"},\"mode\":\"markers\",\"name\":\"football\",\"orientation\":\"v\",\"showlegend\":true,\"x\":[109.709999084473],\"xaxis\":\"x\",\"y\":[38.689998626709],\"yaxis\":\"y\",\"type\":\"scatter\"}],\"name\":\"11\"},{\"data\":[{\"customdata\":[[91.0,\"Fletcher Cox\",1.82,null],[2.0,\"Darius Slay\",2.79,null],[24.0,\"James Bradberry\",1.17,null],[97.0,\"Javon Hargrave\",0.14,null],[43.0,\"Kyzir White\",0.83,null],[29.0,\"Avonte Maddox\",3.23,null],[94.0,\"Josh Sweat\",1.89,null],[23.0,\"Chauncey Gardner-Johnson\",2.69,null],[22.0,\"Marcus Epps\",4.62,null],[57.0,\"T.J. Edwards\",4.49,null],[48.0,\"Patrick Johnson\",4.38,null]],\"hovertemplate\":\"club=PHI\\u003cbr\\u003eframeId=12\\u003cbr\\u003ex=%{x}\\u003cbr\\u003ey=%{y}\\u003cbr\\u003ejerseyNumber=%{customdata[0]}\\u003cbr\\u003edisplayName=%{customdata[1]}\\u003cbr\\u003es=%{customdata[2]}\\u003cbr\\u003eevent=%{customdata[3]}\\u003cextra\\u003e\\u003c\\u002fextra\\u003e\",\"legendgroup\":\"PHI\",\"marker\":{\"color\":\"#004C54\",\"symbol\":\"circle\"},\"mode\":\"markers\",\"name\":\"PHI\",\"orientation\":\"v\",\"showlegend\":true,\"x\":[102.68,111.88,115.29,98.13,111.12,118.23,99.64,113.2,109.47,109.67,95.54],\"xaxis\":\"x\",\"y\":[29.73,16.94,35.09,28.34,32.15,11.67,30.42,33.85,38.41,36.34,31.49],\"yaxis\":\"y\",\"type\":\"scatter\"},{\"customdata\":[[16.0,\"Jared Goff\",0.19,null],[68.0,\"Taylor Decker\",0.52,null],[8.0,\"Josh Reynolds\",2.11,null],[77.0,\"Frank Ragnow\",1.96,null],[4.0,\"D.J. Chark\",2.94,null],[88.0,\"T.J. Hockenson\",1.89,null],[32.0,\"D'Andre Swift\",2.8,null],[73.0,\"Jonah Jackson\",1.18,null],[71.0,\"Logan Stenberg\",0.8,null],[58.0,\"Penei Sewell\",0.75,null],[14.0,\"Amon-Ra St. Brown\",3.72,null]],\"hovertemplate\":\"club=DET\\u003cbr\\u003eframeId=12\\u003cbr\\u003ex=%{x}\\u003cbr\\u003ey=%{y}\\u003cbr\\u003ejerseyNumber=%{customdata[0]}\\u003cbr\\u003edisplayName=%{customdata[1]}\\u003cbr\\u003es=%{customdata[2]}\\u003cbr\\u003eevent=%{customdata[3]}\\u003cextra\\u003e\\u003c\\u002fextra\\u003e\",\"legendgroup\":\"DET\",\"marker\":{\"color\":\"#0076B6\",\"symbol\":\"circle\"},\"mode\":\"markers\",\"name\":\"DET\",\"orientation\":\"v\",\"showlegend\":true,\"x\":[97.36,96.3,118.52,101.4,110.75,117.9,111.39,96.92,96.05,95.7,109.95],\"xaxis\":\"x\",\"y\":[28.64,31.26,12.84,28.84,17.89,35.29,28.21,33.1,25.12,27.61,38.36],\"yaxis\":\"y\",\"type\":\"scatter\"},{\"customdata\":[[null,\"football\",2.82999992370605,null]],\"hovertemplate\":\"club=football\\u003cbr\\u003eframeId=12\\u003cbr\\u003ex=%{x}\\u003cbr\\u003ey=%{y}\\u003cbr\\u003ejerseyNumber=%{customdata[0]}\\u003cbr\\u003edisplayName=%{customdata[1]}\\u003cbr\\u003es=%{customdata[2]}\\u003cbr\\u003eevent=%{customdata[3]}\\u003cextra\\u003e\\u003c\\u002fextra\\u003e\",\"legendgroup\":\"football\",\"marker\":{\"color\":\"#CBB67C\",\"symbol\":\"circle\"},\"mode\":\"markers\",\"name\":\"football\",\"orientation\":\"v\",\"showlegend\":true,\"x\":[109.849998474121],\"xaxis\":\"x\",\"y\":[38.4199981689453],\"yaxis\":\"y\",\"type\":\"scatter\"}],\"name\":\"12\"},{\"data\":[{\"customdata\":[[91.0,\"Fletcher Cox\",1.86,\"touchdown\"],[2.0,\"Darius Slay\",2.56,\"touchdown\"],[24.0,\"James Bradberry\",1.18,\"touchdown\"],[97.0,\"Javon Hargrave\",0.01,\"touchdown\"],[43.0,\"Kyzir White\",0.59,\"touchdown\"],[29.0,\"Avonte Maddox\",2.92,\"touchdown\"],[94.0,\"Josh Sweat\",1.81,\"touchdown\"],[23.0,\"Chauncey Gardner-Johnson\",2.54,\"touchdown\"],[22.0,\"Marcus Epps\",4.22,\"touchdown\"],[57.0,\"T.J. Edwards\",4.37,\"touchdown\"],[48.0,\"Patrick Johnson\",4.47,\"touchdown\"]],\"hovertemplate\":\"club=PHI\\u003cbr\\u003eframeId=13\\u003cbr\\u003ex=%{x}\\u003cbr\\u003ey=%{y}\\u003cbr\\u003ejerseyNumber=%{customdata[0]}\\u003cbr\\u003edisplayName=%{customdata[1]}\\u003cbr\\u003es=%{customdata[2]}\\u003cbr\\u003eevent=%{customdata[3]}\\u003cextra\\u003e\\u003c\\u002fextra\\u003e\",\"legendgroup\":\"PHI\",\"marker\":{\"color\":\"#004C54\",\"symbol\":\"circle\"},\"mode\":\"markers\",\"name\":\"PHI\",\"orientation\":\"v\",\"showlegend\":true,\"x\":[102.83,111.85,115.33,98.13,111.19,118.39,99.83,113.17,109.49,109.99,95.74],\"xaxis\":\"x\",\"y\":[29.85,17.2,35.2,28.34,32.15,11.41,30.38,34.1,38.0,36.64,31.88],\"yaxis\":\"y\",\"type\":\"scatter\"},{\"customdata\":[[16.0,\"Jared Goff\",0.08,\"touchdown\"],[68.0,\"Taylor Decker\",0.56,\"touchdown\"],[8.0,\"Josh Reynolds\",1.67,\"touchdown\"],[77.0,\"Frank Ragnow\",2.02,\"touchdown\"],[4.0,\"D.J. Chark\",2.83,\"touchdown\"],[88.0,\"T.J. Hockenson\",1.63,\"touchdown\"],[32.0,\"D'Andre Swift\",2.51,\"touchdown\"],[73.0,\"Jonah Jackson\",0.98,\"touchdown\"],[71.0,\"Logan Stenberg\",0.92,\"touchdown\"],[58.0,\"Penei Sewell\",0.74,\"touchdown\"],[14.0,\"Amon-Ra St. Brown\",3.33,\"touchdown\"]],\"hovertemplate\":\"club=DET\\u003cbr\\u003eframeId=13\\u003cbr\\u003ex=%{x}\\u003cbr\\u003ey=%{y}\\u003cbr\\u003ejerseyNumber=%{customdata[0]}\\u003cbr\\u003edisplayName=%{customdata[1]}\\u003cbr\\u003es=%{customdata[2]}\\u003cbr\\u003eevent=%{customdata[3]}\\u003cextra\\u003e\\u003c\\u002fextra\\u003e\",\"legendgroup\":\"DET\",\"marker\":{\"color\":\"#0076B6\",\"symbol\":\"circle\"},\"mode\":\"markers\",\"name\":\"DET\",\"orientation\":\"v\",\"showlegend\":true,\"x\":[97.35,96.34,118.65,101.58,110.74,118.07,111.39,96.92,96.14,95.71,110.09],\"xaxis\":\"x\",\"y\":[28.65,31.31,12.7,28.94,18.18,35.31,27.94,33.21,25.14,27.69,38.05],\"yaxis\":\"y\",\"type\":\"scatter\"},{\"customdata\":[[null,\"football\",2.61999988555908,\"touchdown\"]],\"hovertemplate\":\"club=football\\u003cbr\\u003eframeId=13\\u003cbr\\u003ex=%{x}\\u003cbr\\u003ey=%{y}\\u003cbr\\u003ejerseyNumber=%{customdata[0]}\\u003cbr\\u003edisplayName=%{customdata[1]}\\u003cbr\\u003es=%{customdata[2]}\\u003cbr\\u003eevent=%{customdata[3]}\\u003cextra\\u003e\\u003c\\u002fextra\\u003e\",\"legendgroup\":\"football\",\"marker\":{\"color\":\"#CBB67C\",\"symbol\":\"circle\"},\"mode\":\"markers\",\"name\":\"football\",\"orientation\":\"v\",\"showlegend\":true,\"x\":[109.970001220703],\"xaxis\":\"x\",\"y\":[38.1599998474121],\"yaxis\":\"y\",\"type\":\"scatter\"}],\"name\":\"13\"},{\"data\":[{\"customdata\":[[91.0,\"Fletcher Cox\",1.86,null],[2.0,\"Darius Slay\",2.37,null],[24.0,\"James Bradberry\",1.29,null],[97.0,\"Javon Hargrave\",0.1,null],[43.0,\"Kyzir White\",0.42,null],[29.0,\"Avonte Maddox\",2.6,null],[94.0,\"Josh Sweat\",1.67,null],[23.0,\"Chauncey Gardner-Johnson\",2.3,null],[22.0,\"Marcus Epps\",3.84,null],[57.0,\"T.J. Edwards\",4.17,null],[48.0,\"Patrick Johnson\",4.48,null]],\"hovertemplate\":\"club=PHI\\u003cbr\\u003eframeId=14\\u003cbr\\u003ex=%{x}\\u003cbr\\u003ey=%{y}\\u003cbr\\u003ejerseyNumber=%{customdata[0]}\\u003cbr\\u003edisplayName=%{customdata[1]}\\u003cbr\\u003es=%{customdata[2]}\\u003cbr\\u003eevent=%{customdata[3]}\\u003cextra\\u003e\\u003c\\u002fextra\\u003e\",\"legendgroup\":\"PHI\",\"marker\":{\"color\":\"#004C54\",\"symbol\":\"circle\"},\"mode\":\"markers\",\"name\":\"PHI\",\"orientation\":\"v\",\"showlegend\":true,\"x\":[102.98,111.8,115.33,98.13,111.24,118.54,99.99,113.15,109.52,110.31,95.95],\"xaxis\":\"x\",\"y\":[29.97,17.44,35.33,28.35,32.16,11.17,30.35,34.34,37.62,36.92,32.28],\"yaxis\":\"y\",\"type\":\"scatter\"},{\"customdata\":[[16.0,\"Jared Goff\",0.19,null],[68.0,\"Taylor Decker\",0.63,null],[8.0,\"Josh Reynolds\",1.21,null],[77.0,\"Frank Ragnow\",2.13,null],[4.0,\"D.J. Chark\",2.74,null],[88.0,\"T.J. Hockenson\",1.34,null],[32.0,\"D'Andre Swift\",2.32,null],[73.0,\"Jonah Jackson\",0.78,null],[71.0,\"Logan Stenberg\",1.04,null],[58.0,\"Penei Sewell\",0.79,null],[14.0,\"Amon-Ra St. Brown\",2.9,null]],\"hovertemplate\":\"club=DET\\u003cbr\\u003eframeId=14\\u003cbr\\u003ex=%{x}\\u003cbr\\u003ey=%{y}\\u003cbr\\u003ejerseyNumber=%{customdata[0]}\\u003cbr\\u003edisplayName=%{customdata[1]}\\u003cbr\\u003es=%{customdata[2]}\\u003cbr\\u003eevent=%{customdata[3]}\\u003cextra\\u003e\\u003c\\u002fextra\\u003e\",\"legendgroup\":\"DET\",\"marker\":{\"color\":\"#0076B6\",\"symbol\":\"circle\"},\"mode\":\"markers\",\"name\":\"DET\",\"orientation\":\"v\",\"showlegend\":true,\"x\":[97.36,96.38,118.76,101.78,110.73,118.22,111.36,96.9,96.24,95.74,110.21],\"xaxis\":\"x\",\"y\":[28.66,31.35,12.61,29.05,18.46,35.33,27.7,33.29,25.17,27.77,37.77],\"yaxis\":\"y\",\"type\":\"scatter\"},{\"customdata\":[[null,\"football\",2.45000004768372,null]],\"hovertemplate\":\"club=football\\u003cbr\\u003eframeId=14\\u003cbr\\u003ex=%{x}\\u003cbr\\u003ey=%{y}\\u003cbr\\u003ejerseyNumber=%{customdata[0]}\\u003cbr\\u003edisplayName=%{customdata[1]}\\u003cbr\\u003es=%{customdata[2]}\\u003cbr\\u003eevent=%{customdata[3]}\\u003cextra\\u003e\\u003c\\u002fextra\\u003e\",\"legendgroup\":\"football\",\"marker\":{\"color\":\"#CBB67C\",\"symbol\":\"circle\"},\"mode\":\"markers\",\"name\":\"football\",\"orientation\":\"v\",\"showlegend\":true,\"x\":[110.089996337891],\"xaxis\":\"x\",\"y\":[37.9300003051758],\"yaxis\":\"y\",\"type\":\"scatter\"}],\"name\":\"14\"},{\"data\":[{\"customdata\":[[91.0,\"Fletcher Cox\",1.85,null],[2.0,\"Darius Slay\",2.21,null],[24.0,\"James Bradberry\",1.34,null],[97.0,\"Javon Hargrave\",0.2,null],[43.0,\"Kyzir White\",0.36,null],[29.0,\"Avonte Maddox\",2.27,null],[94.0,\"Josh Sweat\",1.54,null],[23.0,\"Chauncey Gardner-Johnson\",2.01,null],[22.0,\"Marcus Epps\",3.36,null],[57.0,\"T.J. Edwards\",3.98,null],[48.0,\"Patrick Johnson\",4.44,null]],\"hovertemplate\":\"club=PHI\\u003cbr\\u003eframeId=15\\u003cbr\\u003ex=%{x}\\u003cbr\\u003ey=%{y}\\u003cbr\\u003ejerseyNumber=%{customdata[0]}\\u003cbr\\u003edisplayName=%{customdata[1]}\\u003cbr\\u003es=%{customdata[2]}\\u003cbr\\u003eevent=%{customdata[3]}\\u003cextra\\u003e\\u003c\\u002fextra\\u003e\",\"legendgroup\":\"PHI\",\"marker\":{\"color\":\"#004C54\",\"symbol\":\"circle\"},\"mode\":\"markers\",\"name\":\"PHI\",\"orientation\":\"v\",\"showlegend\":true,\"x\":[103.12,111.74,115.3,98.15,111.26,118.66,100.15,113.13,109.54,110.62,96.16],\"xaxis\":\"x\",\"y\":[30.1,17.67,35.45,28.37,32.19,10.97,30.33,34.55,37.29,37.19,32.67],\"yaxis\":\"y\",\"type\":\"scatter\"},{\"customdata\":[[16.0,\"Jared Goff\",0.38,null],[68.0,\"Taylor Decker\",0.71,null],[8.0,\"Josh Reynolds\",0.83,null],[77.0,\"Frank Ragnow\",2.1,null],[4.0,\"D.J. Chark\",2.62,null],[88.0,\"T.J. Hockenson\",1.06,null],[32.0,\"D'Andre Swift\",2.07,null],[73.0,\"Jonah Jackson\",0.58,null],[71.0,\"Logan Stenberg\",1.12,null],[58.0,\"Penei Sewell\",0.86,null],[14.0,\"Amon-Ra St. Brown\",2.47,null]],\"hovertemplate\":\"club=DET\\u003cbr\\u003eframeId=15\\u003cbr\\u003ex=%{x}\\u003cbr\\u003ey=%{y}\\u003cbr\\u003ejerseyNumber=%{customdata[0]}\\u003cbr\\u003edisplayName=%{customdata[1]}\\u003cbr\\u003es=%{customdata[2]}\\u003cbr\\u003eevent=%{customdata[3]}\\u003cextra\\u003e\\u003c\\u002fextra\\u003e\",\"legendgroup\":\"DET\",\"marker\":{\"color\":\"#0076B6\",\"symbol\":\"circle\"},\"mode\":\"markers\",\"name\":\"DET\",\"orientation\":\"v\",\"showlegend\":true,\"x\":[97.39,96.43,118.85,101.97,110.72,118.33,111.32,96.87,96.35,95.78,110.31],\"xaxis\":\"x\",\"y\":[28.68,31.4,12.56,29.14,18.73,35.35,27.49,33.34,25.21,27.85,37.52],\"yaxis\":\"y\",\"type\":\"scatter\"},{\"customdata\":[[null,\"football\",2.20000004768372,null]],\"hovertemplate\":\"club=football\\u003cbr\\u003eframeId=15\\u003cbr\\u003ex=%{x}\\u003cbr\\u003ey=%{y}\\u003cbr\\u003ejerseyNumber=%{customdata[0]}\\u003cbr\\u003edisplayName=%{customdata[1]}\\u003cbr\\u003es=%{customdata[2]}\\u003cbr\\u003eevent=%{customdata[3]}\\u003cextra\\u003e\\u003c\\u002fextra\\u003e\",\"legendgroup\":\"football\",\"marker\":{\"color\":\"#CBB67C\",\"symbol\":\"circle\"},\"mode\":\"markers\",\"name\":\"football\",\"orientation\":\"v\",\"showlegend\":true,\"x\":[110.169998168945],\"xaxis\":\"x\",\"y\":[37.7599983215332],\"yaxis\":\"y\",\"type\":\"scatter\"}],\"name\":\"15\"},{\"data\":[{\"customdata\":[[91.0,\"Fletcher Cox\",1.82,null],[2.0,\"Darius Slay\",2.08,null],[24.0,\"James Bradberry\",1.42,null],[97.0,\"Javon Hargrave\",0.26,null],[43.0,\"Kyzir White\",0.46,null],[29.0,\"Avonte Maddox\",1.96,null],[94.0,\"Josh Sweat\",1.42,null],[23.0,\"Chauncey Gardner-Johnson\",1.73,null],[22.0,\"Marcus Epps\",2.97,null],[57.0,\"T.J. Edwards\",3.75,null],[48.0,\"Patrick Johnson\",4.34,null]],\"hovertemplate\":\"club=PHI\\u003cbr\\u003eframeId=16\\u003cbr\\u003ex=%{x}\\u003cbr\\u003ey=%{y}\\u003cbr\\u003ejerseyNumber=%{customdata[0]}\\u003cbr\\u003edisplayName=%{customdata[1]}\\u003cbr\\u003es=%{customdata[2]}\\u003cbr\\u003eevent=%{customdata[3]}\\u003cextra\\u003e\\u003c\\u002fextra\\u003e\",\"legendgroup\":\"PHI\",\"marker\":{\"color\":\"#004C54\",\"symbol\":\"circle\"},\"mode\":\"markers\",\"name\":\"PHI\",\"orientation\":\"v\",\"showlegend\":true,\"x\":[103.26,111.68,115.25,98.16,111.27,118.77,100.3,113.12,109.56,110.91,96.38],\"xaxis\":\"x\",\"y\":[30.22,17.87,35.58,28.39,32.23,10.79,30.32,34.74,36.97,37.44,33.05],\"yaxis\":\"y\",\"type\":\"scatter\"},{\"customdata\":[[16.0,\"Jared Goff\",0.53,null],[68.0,\"Taylor Decker\",0.78,null],[8.0,\"Josh Reynolds\",0.62,null],[77.0,\"Frank Ragnow\",2.08,null],[4.0,\"D.J. Chark\",2.54,null],[88.0,\"T.J. Hockenson\",0.79,null],[32.0,\"D'Andre Swift\",1.88,null],[73.0,\"Jonah Jackson\",0.42,null],[71.0,\"Logan Stenberg\",1.16,null],[58.0,\"Penei Sewell\",0.96,null],[14.0,\"Amon-Ra St. Brown\",2.04,null]],\"hovertemplate\":\"club=DET\\u003cbr\\u003eframeId=16\\u003cbr\\u003ex=%{x}\\u003cbr\\u003ey=%{y}\\u003cbr\\u003ejerseyNumber=%{customdata[0]}\\u003cbr\\u003edisplayName=%{customdata[1]}\\u003cbr\\u003es=%{customdata[2]}\\u003cbr\\u003eevent=%{customdata[3]}\\u003cextra\\u003e\\u003c\\u002fextra\\u003e\",\"legendgroup\":\"DET\",\"marker\":{\"color\":\"#0076B6\",\"symbol\":\"circle\"},\"mode\":\"markers\",\"name\":\"DET\",\"orientation\":\"v\",\"showlegend\":true,\"x\":[97.43,96.49,118.92,102.15,110.7,118.42,111.26,96.84,96.46,95.83,110.39],\"xaxis\":\"x\",\"y\":[28.7,31.45,12.55,29.24,18.99,35.36,27.31,33.37,25.24,27.93,37.31],\"yaxis\":\"y\",\"type\":\"scatter\"},{\"customdata\":[[null,\"football\",1.82000005245209,null]],\"hovertemplate\":\"club=football\\u003cbr\\u003eframeId=16\\u003cbr\\u003ex=%{x}\\u003cbr\\u003ey=%{y}\\u003cbr\\u003ejerseyNumber=%{customdata[0]}\\u003cbr\\u003edisplayName=%{customdata[1]}\\u003cbr\\u003es=%{customdata[2]}\\u003cbr\\u003eevent=%{customdata[3]}\\u003cextra\\u003e\\u003c\\u002fextra\\u003e\",\"legendgroup\":\"football\",\"marker\":{\"color\":\"#CBB67C\",\"symbol\":\"circle\"},\"mode\":\"markers\",\"name\":\"football\",\"orientation\":\"v\",\"showlegend\":true,\"x\":[110.23999786377],\"xaxis\":\"x\",\"y\":[37.5999984741211],\"yaxis\":\"y\",\"type\":\"scatter\"}],\"name\":\"16\"},{\"data\":[{\"customdata\":[[91.0,\"Fletcher Cox\",1.77,null],[2.0,\"Darius Slay\",1.95,null],[24.0,\"James Bradberry\",1.46,null],[97.0,\"Javon Hargrave\",0.27,null],[43.0,\"Kyzir White\",0.57,null],[29.0,\"Avonte Maddox\",1.64,null],[94.0,\"Josh Sweat\",1.32,null],[23.0,\"Chauncey Gardner-Johnson\",1.45,null],[22.0,\"Marcus Epps\",2.57,null],[57.0,\"T.J. Edwards\",3.4,null],[48.0,\"Patrick Johnson\",4.17,null]],\"hovertemplate\":\"club=PHI\\u003cbr\\u003eframeId=17\\u003cbr\\u003ex=%{x}\\u003cbr\\u003ey=%{y}\\u003cbr\\u003ejerseyNumber=%{customdata[0]}\\u003cbr\\u003edisplayName=%{customdata[1]}\\u003cbr\\u003es=%{customdata[2]}\\u003cbr\\u003eevent=%{customdata[3]}\\u003cextra\\u003e\\u003c\\u002fextra\\u003e\",\"legendgroup\":\"PHI\",\"marker\":{\"color\":\"#004C54\",\"symbol\":\"circle\"},\"mode\":\"markers\",\"name\":\"PHI\",\"orientation\":\"v\",\"showlegend\":true,\"x\":[103.4,111.6,115.17,98.18,111.26,118.86,100.44,113.11,109.56,111.18,96.6],\"xaxis\":\"x\",\"y\":[30.34,18.06,35.7,28.41,32.28,10.64,30.32,34.9,36.7,37.66,33.41],\"yaxis\":\"y\",\"type\":\"scatter\"},{\"customdata\":[[16.0,\"Jared Goff\",0.73,null],[68.0,\"Taylor Decker\",0.86,null],[8.0,\"Josh Reynolds\",0.57,null],[77.0,\"Frank Ragnow\",2.05,null],[4.0,\"D.J. Chark\",2.44,null],[88.0,\"T.J. Hockenson\",0.53,null],[32.0,\"D'Andre Swift\",1.58,null],[73.0,\"Jonah Jackson\",0.35,null],[71.0,\"Logan Stenberg\",1.19,null],[58.0,\"Penei Sewell\",1.11,null],[14.0,\"Amon-Ra St. Brown\",1.64,null]],\"hovertemplate\":\"club=DET\\u003cbr\\u003eframeId=17\\u003cbr\\u003ex=%{x}\\u003cbr\\u003ey=%{y}\\u003cbr\\u003ejerseyNumber=%{customdata[0]}\\u003cbr\\u003edisplayName=%{customdata[1]}\\u003cbr\\u003es=%{customdata[2]}\\u003cbr\\u003eevent=%{customdata[3]}\\u003cextra\\u003e\\u003c\\u002fextra\\u003e\",\"legendgroup\":\"DET\",\"marker\":{\"color\":\"#0076B6\",\"symbol\":\"circle\"},\"mode\":\"markers\",\"name\":\"DET\",\"orientation\":\"v\",\"showlegend\":true,\"x\":[97.49,96.57,118.97,102.34,110.68,118.48,111.2,96.81,96.57,95.9,110.43],\"xaxis\":\"x\",\"y\":[28.73,31.49,12.57,29.35,19.24,35.38,27.15,33.38,25.3,28.03,37.13],\"yaxis\":\"y\",\"type\":\"scatter\"},{\"customdata\":[[null,\"football\",1.24000000953674,null]],\"hovertemplate\":\"club=football\\u003cbr\\u003eframeId=17\\u003cbr\\u003ex=%{x}\\u003cbr\\u003ey=%{y}\\u003cbr\\u003ejerseyNumber=%{customdata[0]}\\u003cbr\\u003edisplayName=%{customdata[1]}\\u003cbr\\u003es=%{customdata[2]}\\u003cbr\\u003eevent=%{customdata[3]}\\u003cextra\\u003e\\u003c\\u002fextra\\u003e\",\"legendgroup\":\"football\",\"marker\":{\"color\":\"#CBB67C\",\"symbol\":\"circle\"},\"mode\":\"markers\",\"name\":\"football\",\"orientation\":\"v\",\"showlegend\":true,\"x\":[110.23999786377],\"xaxis\":\"x\",\"y\":[37.4900016784668],\"yaxis\":\"y\",\"type\":\"scatter\"}],\"name\":\"17\"}]);\n",
       "                        }).then(function(){\n",
       "                            \n",
       "var gd = document.getElementById('6d435924-f410-4ed6-8b31-f23a17cb2c68');\n",
       "var x = new MutationObserver(function (mutations, observer) {{\n",
       "        var display = window.getComputedStyle(gd).display;\n",
       "        if (!display || display === 'none') {{\n",
       "            console.log([gd, 'removed!']);\n",
       "            Plotly.purge(gd);\n",
       "            observer.disconnect();\n",
       "        }}\n",
       "}});\n",
       "\n",
       "// Listen for the removal of the full notebook cells\n",
       "var notebookContainer = gd.closest('#notebook-container');\n",
       "if (notebookContainer) {{\n",
       "    x.observe(notebookContainer, {childList: true});\n",
       "}}\n",
       "\n",
       "// Listen for the clearing of the current output cell\n",
       "var outputEl = gd.closest('.output');\n",
       "if (outputEl) {{\n",
       "    x.observe(outputEl, {childList: true});\n",
       "}}\n",
       "\n",
       "                        })                };                });            </script>        </div>"
      ]
     },
     "metadata": {},
     "output_type": "display_data"
    }
   ],
   "source": [
    "plot_football_play(3059, 2022091104, week1, plays, games, colors)\n"
   ]
  }
 ],
 "metadata": {
  "kernelspec": {
   "display_name": "Python 3 (ipykernel)",
   "language": "python",
   "name": "python3"
  },
  "language_info": {
   "codemirror_mode": {
    "name": "ipython",
    "version": 3
   },
   "file_extension": ".py",
   "mimetype": "text/x-python",
   "name": "python",
   "nbconvert_exporter": "python",
   "pygments_lexer": "ipython3",
   "version": "3.11.5"
  }
 },
 "nbformat": 4,
 "nbformat_minor": 5
}
